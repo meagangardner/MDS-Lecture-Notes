{
 "cells": [
  {
   "cell_type": "code",
   "execution_count": null,
   "metadata": {
    "deletable": false,
    "editable": false
   },
   "outputs": [],
   "source": [
    "# Initialize Otter\n",
    "import otter\n",
    "grader = otter.Notebook(\"worksheet8.ipynb\")"
   ]
  },
  {
   "cell_type": "markdown",
   "metadata": {},
   "source": [
    "# Worksheet 8 - Classes and Style"
   ]
  },
  {
   "cell_type": "markdown",
   "metadata": {},
   "source": [
    "These exercises complement DSCI 511 lecture 8."
   ]
  },
  {
   "cell_type": "markdown",
   "metadata": {},
   "source": [
    "## Exercises"
   ]
  },
  {
   "cell_type": "code",
   "execution_count": null,
   "metadata": {},
   "outputs": [],
   "source": [
    "import pandas as pd\n",
    "import numpy as np\n",
    "import math"
   ]
  },
  {
   "cell_type": "markdown",
   "metadata": {},
   "source": [
    "### Q1: Creating a Class\n",
    "\n",
    "rubric={autograde:1}"
   ]
  },
  {
   "cell_type": "markdown",
   "metadata": {},
   "source": [
    "Create a class called `Circle`. It should have the following characteristics:\n",
    "1. It should be initiated with the argument `radius` and store this as an instance attribute.\n",
    "2. Have a method `area()` which calculates the area of the circle. $A = \\pi * r^2$\n",
    "3. Have a method `circumference()` which calculates the circumference of the circle. $C = 2*\\pi*r$\n",
    "4. Have the method `__str__()` which is a magic method that controls what is output to the screen when you `print()` an instance of your class (learn more [here](https://realpython.com/lessons/how-and-when-use-__str__/)). This method should return the string `\"A circle with radius r\"` where `r` is the radius value. For example:\n",
    "```python\n",
    "c1 = Circle(1)\n",
    "print(c1) # EXPECTED OUTPUT: A circle with radius 1\n",
    "```"
   ]
  },
  {
   "cell_type": "code",
   "execution_count": null,
   "metadata": {
    "tags": []
   },
   "outputs": [],
   "source": [
    "..."
   ]
  },
  {
   "cell_type": "code",
   "execution_count": null,
   "metadata": {
    "deletable": false,
    "editable": false
   },
   "outputs": [],
   "source": [
    "grader.check(\"q1\")"
   ]
  },
  {
   "cell_type": "markdown",
   "metadata": {},
   "source": [
    "### Q2: Class Inheritance\n",
    "\n",
    "rubric={autograde:1}"
   ]
  },
  {
   "cell_type": "markdown",
   "metadata": {},
   "source": [
    "**Instructions**\n",
    "\n",
    "1. Define a class called `Animal` with an `__init__()` method that takes a `name` parameter and sets it as an instance attribute.\n",
    "2. Define a class called `Dog` that inherits from the `Animal` class.\n",
    "3. In the `Dog` class, define an `__init__()` method that takes a `name` and `breed` parameter, and calls the `__init__()` method of the `Animal` class using `super()`.\n",
    "4. In the `Dog` class, define a `bark()` method that returns the string \"Woof!\" (Don't print \"Woof!\")"
   ]
  },
  {
   "cell_type": "code",
   "execution_count": null,
   "metadata": {
    "tags": []
   },
   "outputs": [],
   "source": [
    "..."
   ]
  },
  {
   "cell_type": "code",
   "execution_count": null,
   "metadata": {
    "deletable": false,
    "editable": false
   },
   "outputs": [],
   "source": [
    "grader.check(\"q2\")"
   ]
  },
  {
   "cell_type": "markdown",
   "metadata": {},
   "source": [
    "### Q 3.\n",
    "\n",
    "rubric = {autograde:1}"
   ]
  },
  {
   "cell_type": "markdown",
   "metadata": {},
   "source": [
    "This exercise is built upon your answer in Q3.\n",
    "\n",
    "- Add a `count` **class variable** to the `Dog` class. The `__init__()` method increments the `count` variable each time a new instance of the class is created.\n",
    "\n",
    "- Add a `get_dog_count()` **class method** to the `Dog` class that returns the number of `Dog` instances that have been created.\n",
    "\n",
    "- Add a `reset_dog_count()` **class method** to the `Dog` class that sets the count to zero"
   ]
  },
  {
   "cell_type": "code",
   "execution_count": null,
   "metadata": {
    "tags": []
   },
   "outputs": [],
   "source": [
    "..."
   ]
  },
  {
   "cell_type": "code",
   "execution_count": null,
   "metadata": {
    "deletable": false,
    "editable": false
   },
   "outputs": [],
   "source": [
    "# Some tests to check your code\n",
    "Dog.reset_dog_count()\n",
    "print(f\"The number of dogs after resetting is {Dog.get_dog_count()}\")\n",
    "      \n",
    "dog1 = Dog(\"Fido\", \"Golden Retriever\")\n",
    "print(f\"After create a dog1 instance, the number of dogs is {Dog.get_dog_count()}\")\n",
    "\n",
    "dog2 = Dog(\"Hunky\", \"German Shepherd\")\n",
    "print(f\"After create a dog2 instance, the number of dogs is {Dog.get_dog_count()}\")\n",
    "\n",
    "print(f\"Get the count of dogs: There are {Dog.get_dog_count()} dogs\") # Should return 2"
   ]
  },
  {
   "cell_type": "code",
   "execution_count": null,
   "metadata": {
    "deletable": false,
    "editable": false
   },
   "outputs": [],
   "source": [
    "grader.check(\"q3\")"
   ]
  },
  {
   "cell_type": "markdown",
   "metadata": {},
   "source": [
    "### Q 4. \n",
    "\n",
    "rubric = {manual:0}"
   ]
  },
  {
   "cell_type": "markdown",
   "metadata": {},
   "source": [
    "Fix the following code to make sure it aligns with PEP8 style guide."
   ]
  },
  {
   "cell_type": "code",
   "execution_count": null,
   "metadata": {},
   "outputs": [],
   "source": [
    "def q1_incorrect():\n",
    "    CarModel='Toyota'\n",
    "    Make=\"RAV4\"\n",
    "    return CarModel + Make"
   ]
  },
  {
   "cell_type": "markdown",
   "metadata": {
    "deletable": false,
    "editable": false
   },
   "source": [
    "<!-- BEGIN QUESTION -->\n",
    "\n"
   ]
  },
  {
   "cell_type": "code",
   "execution_count": null,
   "metadata": {
    "tags": []
   },
   "outputs": [],
   "source": [
    "def q1():\n",
    "    ..."
   ]
  },
  {
   "cell_type": "markdown",
   "metadata": {
    "deletable": false,
    "editable": false
   },
   "source": [
    "<!-- END QUESTION -->\n",
    "\n",
    "### Q5\n",
    "\n",
    "rubric = {manual:0}"
   ]
  },
  {
   "cell_type": "markdown",
   "metadata": {},
   "source": [
    "Fix the following code to make sure it aligns with PEP8 style guide"
   ]
  },
  {
   "cell_type": "raw",
   "metadata": {
    "vscode": {
     "languageId": "raw"
    }
   },
   "source": [
    "def q2_incorrect():\n",
    "    gpa = (course1 + course2 + course3 + course4 + course5 + course6 + course7 + course8 + course9 + course10) / 10"
   ]
  },
  {
   "cell_type": "markdown",
   "metadata": {
    "deletable": false,
    "editable": false
   },
   "source": [
    "<!-- BEGIN QUESTION -->\n",
    "\n"
   ]
  },
  {
   "cell_type": "code",
   "execution_count": null,
   "metadata": {
    "tags": []
   },
   "outputs": [],
   "source": [
    "def q2():\n",
    "    ..."
   ]
  },
  {
   "cell_type": "markdown",
   "metadata": {
    "deletable": false,
    "editable": false
   },
   "source": [
    "<!-- END QUESTION -->\n",
    "\n",
    "### Q 6\n",
    "\n",
    "rubric = {manual:0}"
   ]
  },
  {
   "cell_type": "markdown",
   "metadata": {},
   "source": [
    "Fix the following code to make sure it aligns with PEP8 style guide."
   ]
  },
  {
   "cell_type": "raw",
   "metadata": {
    "vscode": {
     "languageId": "raw"
    }
   },
   "source": [
    "class car_model:\n",
    "    def __init__(self, car_model, make):\n",
    "        self.car_model = car_model\n",
    "        self.make = make   \n",
    "    def __str__(self):\n",
    "        return f\"{self.car_model} {self.make}\"\n",
    "class car_sale(car_model):\n",
    "    def __init__(self, car_model, make, price):\n",
    "        super().__init__(car_model, make)\n",
    "        self.price = price   \n",
    "    def sell(self):\n",
    "        return f\"{self.car_model} {self.make} sold for {self.price}\""
   ]
  },
  {
   "cell_type": "markdown",
   "metadata": {
    "deletable": false,
    "editable": false
   },
   "source": [
    "<!-- BEGIN QUESTION -->\n",
    "\n"
   ]
  },
  {
   "cell_type": "code",
   "execution_count": null,
   "metadata": {
    "tags": []
   },
   "outputs": [],
   "source": [
    "..."
   ]
  },
  {
   "cell_type": "markdown",
   "metadata": {
    "deletable": false,
    "editable": false
   },
   "source": [
    "<!-- END QUESTION -->\n",
    "\n",
    "Congratulations! You are done the **LAST** worksheet!!! Pat yourself on the back, and submit your worksheet to Gradescope!"
   ]
  },
  {
   "cell_type": "markdown",
   "metadata": {},
   "source": [
    "![](https://i.giphy.com/media/v1.Y2lkPTc5MGI3NjExbTljbW5uOTd6Y3p0cTl0Y2ZqbnI0aTM5MGNibXUzOTl0cTRobGhxciZlcD12MV9pbnRlcm5hbF9naWZfYnlfaWQmY3Q9Zw/gLWTWCg96RA0btDUm0/giphy.gif)"
   ]
  },
  {
   "cell_type": "markdown",
   "metadata": {},
   "source": [
    ">### Q4 Solutions\n",
    ">\n",
    ">```\n",
    ">def q1():\n",
    ">    car_model = \"Toyota\"\n",
    ">    make = \"RAV4\"\n",
    ">    return car_model + make\n",
    ">```\n",
    ">\n",
    ">\n",
    ">### Q5 Solutions\n",
    ">\n",
    ">```\n",
    ">def q2():\n",
    ">    # BEGIN SOLUTION\n",
    ">    gpa = (\n",
    ">        course1\n",
    ">        + course2\n",
    ">        + course3\n",
    ">        + course4\n",
    ">        + course5\n",
    ">        + course6 \n",
    ">        + course7\n",
    ">        + course8\n",
    ">        + course9\n",
    ">        + course10\n",
    ">    ) / 10\n",
    ">```\n",
    ">\n",
    ">\n",
    ">### Q6 Solutions\n",
    ">\n",
    ">```\n",
    ">class CarModel:\n",
    ">    def __init__(self, car_model, make):\n",
    ">        self.car_model = car_model\n",
    ">        self.make = make\n",
    ">\n",
    ">    def __str__(self):\n",
    ">        return f\"{self.car_model} {self.make}\"\n",
    ">\n",
    ">\n",
    ">class CarSale(CarModel):\n",
    ">    def __init__(self, car_model, make, price):\n",
    ">        super().__init__(car_model, make)\n",
    ">        self.price = price\n",
    ">\n",
    ">    def sell(self):\n",
    ">        return f\"{self.car_model} {self.make} sold for {self.price}\"\n",
    ">```"
   ]
  }
 ],
 "metadata": {
  "kernelspec": {
   "display_name": "Python 3 (ipykernel)",
   "language": "python",
   "name": "python3"
  },
  "language_info": {
   "codemirror_mode": {
    "name": "ipython",
    "version": 3
   },
   "file_extension": ".py",
   "mimetype": "text/x-python",
   "name": "python",
   "nbconvert_exporter": "python",
   "pygments_lexer": "ipython3",
   "version": "3.11.9"
  },
  "otter": {
   "OK_FORMAT": true,
   "tests": {
    "q1": {
     "name": "q1",
     "points": 1,
     "suites": [
      {
       "cases": [
        {
         "code": ">>> assert hasattr(Circle(3), 'radius'), 'The Circle class needs a radius attribute.'\n>>> assert Circle(3).radius == 3, 'Radius is not being set properly.'\n>>> assert math.isclose(Circle(3).area(), 28.3, abs_tol=0.1), 'Area method does not calculate properly.'\n>>> assert math.isclose(Circle(3).circumference(), 18.8, abs_tol=0.1), 'Circumference method does not calculate properly.'\n>>> assert 'A circle with radius 3' in Circle(3).__str__(), 'The __str__ method does not return the correct string.'\n",
         "hidden": false,
         "locked": false
        }
       ],
       "scored": true,
       "setup": "",
       "teardown": "",
       "type": "doctest"
      }
     ]
    },
    "q2": {
     "name": "q2",
     "points": 1,
     "suites": [
      {
       "cases": [
        {
         "code": ">>> assert Animal('Miso').name == 'Miso', 'Animal name is not set properly'\n>>> assert hasattr(Animal('Miso'), 'name'), 'Class Animal does not have attribute name'\n>>> assert issubclass(Dog, Animal), 'Dog is not a subclass of Animal'\n>>> dog1 = Dog('Chunky', 'German Shepherd')\n>>> assert dog1.name == 'Chunky', 'Dog name is not set properly'\n>>> assert dog1.breed == 'German Shepherd', 'Dog breed is not set properly'\n>>> assert 'Woof!' in dog1.bark(), 'Dog bark method is not set properly'\n",
         "hidden": false,
         "locked": false
        }
       ],
       "scored": true,
       "setup": "",
       "teardown": "",
       "type": "doctest"
      }
     ]
    },
    "q3": {
     "name": "q3",
     "points": 1,
     "suites": [
      {
       "cases": [
        {
         "code": ">>> Dog.reset_dog_count()\n>>> assert Dog.count == 0\n>>> dog1 = Dog('Fido', 'Golden Retriever')\n>>> assert Dog.count == 1\n>>> dog2 = Dog('Buddy', 'Labrador Retriever')\n>>> assert Dog.count == 2\n>>> assert Dog.get_dog_count() == 2\n",
         "hidden": false,
         "locked": false
        }
       ],
       "scored": true,
       "setup": "",
       "teardown": "",
       "type": "doctest"
      }
     ]
    }
   }
  }
 },
 "nbformat": 4,
 "nbformat_minor": 4
}
