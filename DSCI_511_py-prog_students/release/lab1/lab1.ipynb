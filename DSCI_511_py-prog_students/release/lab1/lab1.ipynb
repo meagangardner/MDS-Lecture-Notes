{
 "cells": [
  {
   "cell_type": "code",
   "execution_count": 1,
   "id": "bea9ea73",
   "metadata": {
    "deletable": false,
    "editable": false
   },
   "outputs": [],
   "source": [
    "# Initialize Otter\n",
    "import otter\n",
    "grader = otter.Notebook(\"lab1.ipynb\")"
   ]
  },
  {
   "cell_type": "markdown",
   "id": "047dfe03",
   "metadata": {},
   "source": [
    "<img src=\"img/dsci511_header.png\" width=\"600\">"
   ]
  },
  {
   "cell_type": "markdown",
   "id": "47b22e49-06e0-4759-9ef1-f7defbdc09fe",
   "metadata": {},
   "source": [
    "# Lab 1: Reading in and wrangling data"
   ]
  },
  {
   "cell_type": "markdown",
   "id": "e0c4dc29",
   "metadata": {},
   "source": [
    "## Instructions\n",
    "rubric={mechanics:5}"
   ]
  },
  {
   "cell_type": "markdown",
   "id": "c526578f",
   "metadata": {},
   "source": [
    "Check off that you have read and followed each of these instructions:\n",
    "\n",
    "- [ ] All files necessary to run your work must be pushed to your GitHub.ubc.ca repository for this lab.\n",
    "- [ ] You need to have a minimum of 3 commit messages associated with your GitHub.ubc.ca repository for this lab.\n",
    "- [ ] You must also submit `.ipynb` file and the rendered PDF in this worksheet/lab to Gradescope. Entire notebook must be executed so the TA's can see the results of your work. \n",
    "- [ ] **There is autograding in this lab, so please do not move or rename this file. Also, do not copy and paste cells, if you need to add new cells, create new cells via the \"Insert a cell below\" button instead.**\n",
    "- [ ] To ensure you do not break the autograder remove all code for installing packages (i.e., DO NOT have `! conda install ...` or `! pip install ...` in your homework!\n",
    "- [ ] Follow the [MDS general lab instructions](https://ubc-mds.github.io/resources_pages/general_lab_instructions/).\n",
    "- [ ] <mark>This lab has hidden tests. In this lab, the visible tests are just there to ensure you create an object with the correct name. The remaining tests are hidden intentionally. This is so you get practice deciding when you have written the correct code and created the correct data object. This is a necessary skill for data scientists, and if we were to provide robust visible tests for all questions you would not develop this skill, or at least not to its full potential.</mark>\n"
   ]
  },
  {
   "cell_type": "markdown",
   "id": "4961ca34",
   "metadata": {},
   "source": [
    "## Code Quality\n",
    "rubric={quality:5}\n",
    "\n",
    "The code that you write for this assignment will be given one overall grade for code quality, see our code quality rubric as a guide to what we are looking for. Also, for this course (and other MDS courses that use R), we are trying to follow the PEP 8 code style. There is a guide you can refer too: https://peps.python.org/pep-0008/\n",
    "\n",
    "Each code question will also be assessed for code accuracy (i.e., does it do what it is supposed to do?).\n",
    "\n",
    "## Writing \n",
    "rubric={writing:5}\n",
    "\n",
    "To get the marks for this writing component, you should:\n",
    "\n",
    "- Use proper English, spelling, and grammar throughout your submission (the non-coding parts).\n",
    "- Be succinct. This means being specific about what you want to communicate, without being superfluous.\n"
   ]
  },
  {
   "cell_type": "markdown",
   "id": "588cf7f9",
   "metadata": {},
   "source": [
    "## Let's get started!\n",
    "\n",
    "Run the cell below to load the packages needed for this lab."
   ]
  },
  {
   "cell_type": "code",
   "execution_count": 2,
   "id": "1fa0bd9e",
   "metadata": {},
   "outputs": [],
   "source": [
    "import pandas as pd\n",
    "import numpy as np\n",
    "import altair as alt\n",
    "pd.set_option('display.max_rows', 6)"
   ]
  },
  {
   "cell_type": "markdown",
   "id": "6e31f77e-3c3f-47b8-9cf5-4b5b0a04aba5",
   "metadata": {},
   "source": [
    "## Exercise 1: Reading in Data\n",
    "\n",
    "Read the data files listed in the table below, and store them as pandas data frames with the names provided in the table. We will use hidden tests to grade this, so you will get to practice deciding that your job is done, and done correctly.\n",
    "\n",
    "**Note - if the column names are missing from any data sets you need to add them yourself programmatically via python**\n",
    "\n",
    "| File  | Name for Data Frame | File location |\n",
    "|---|---|----|\n",
    "| `abbotsford_lang.xlsx`  | `abbotsford` | `data` directory of this repo |\n",
    "| `calgary_lang.csv`  | `calgary`  | `data` directory of this repo |\n",
    "| `edmonton_lang.xlsx`  | `edmonton`  | https://github.com/ttimbers/canlang/blob/master/inst/extdata/edmonton_lang.xlsx?raw=true |\n",
    "|  `kelowna_lang.csv` | `kelowna`  | `data` directory of this repo |\n",
    "| `vancouver_lang.csv`  | `vancouver`  | `data` directory of this repo |\n",
    "| `victoria_lang.csv`  | `victoria`  | https://github.com/ttimbers/canlang/raw/master/inst/extdata/victoria_lang.tsv |\n"
   ]
  },
  {
   "cell_type": "markdown",
   "id": "0a306afb",
   "metadata": {},
   "source": [
    "### The Data\n",
    "\n",
    "The data you will be working with in this first exercise is language data from the 2016 Canadian Census for cities in Western Canada. If you are unfamiliar with Western Canadian geography, here’s a map to help you start to get more familiar:\n",
    "\n",
    "<img src=\"https://www.canadatours.com/images/maps/Canada_W.gif\" width=500>\n",
    "\n",
    "Image source: https://www.canadatours.com/canada_maps.cfm?#W "
   ]
  },
  {
   "cell_type": "markdown",
   "id": "5bbb4dc8",
   "metadata": {
    "deletable": false,
    "editable": false
   },
   "source": [
    "### Exercise 1.1: Read in the Abbotsford language Data\n",
    "rubric={autograde:5}"
   ]
  },
  {
   "cell_type": "code",
   "execution_count": null,
   "id": "32c06c07-02c7-430e-a047-226696ca442e",
   "metadata": {
    "tags": []
   },
   "outputs": [],
   "source": [
    "abbotsford = ...\n",
    "abbotsford"
   ]
  },
  {
   "cell_type": "code",
   "execution_count": null,
   "id": "0812ea4f",
   "metadata": {
    "deletable": false,
    "editable": false
   },
   "outputs": [],
   "source": [
    "grader.check(\"ex1_1\")"
   ]
  },
  {
   "cell_type": "markdown",
   "id": "e89a8abd",
   "metadata": {
    "deletable": false,
    "editable": false
   },
   "source": [
    "### Exercise 1.2: Read in the Calgary language Data\n",
    "rubric={autograde:5}"
   ]
  },
  {
   "cell_type": "code",
   "execution_count": null,
   "id": "358db2ef-f54c-4d8f-8927-284f7b92ddb1",
   "metadata": {
    "tags": []
   },
   "outputs": [],
   "source": [
    "calgary = ...\n",
    "calgary"
   ]
  },
  {
   "cell_type": "code",
   "execution_count": null,
   "id": "2d18b2fd",
   "metadata": {
    "deletable": false,
    "editable": false
   },
   "outputs": [],
   "source": [
    "grader.check(\"ex1_2\")"
   ]
  },
  {
   "cell_type": "markdown",
   "id": "ef632a76",
   "metadata": {
    "deletable": false,
    "editable": false
   },
   "source": [
    "### Exercise 1.3: Read in the Edmonton language Data\n",
    "rubric={autograde:5}"
   ]
  },
  {
   "cell_type": "code",
   "execution_count": null,
   "id": "46b1c34c-3563-41aa-b1a5-3c617ee334e2",
   "metadata": {
    "tags": []
   },
   "outputs": [],
   "source": [
    "url = ...\n",
    "edmonton = ...\n",
    "edmonton"
   ]
  },
  {
   "cell_type": "code",
   "execution_count": null,
   "id": "18b064c3",
   "metadata": {
    "deletable": false,
    "editable": false
   },
   "outputs": [],
   "source": [
    "grader.check(\"ex1_3\")"
   ]
  },
  {
   "cell_type": "markdown",
   "id": "2ddebfdc",
   "metadata": {
    "deletable": false,
    "editable": false
   },
   "source": [
    "### Exercise 1.4: Read in the Kelowna language Data\n",
    "rubric={autograde:5}"
   ]
  },
  {
   "cell_type": "code",
   "execution_count": null,
   "id": "14877aac-c837-4cfb-a231-3ebe8adcaea8",
   "metadata": {
    "tags": []
   },
   "outputs": [],
   "source": [
    "...\n",
    "kelowna"
   ]
  },
  {
   "cell_type": "code",
   "execution_count": null,
   "id": "aa55295f",
   "metadata": {
    "deletable": false,
    "editable": false
   },
   "outputs": [],
   "source": [
    "grader.check(\"ex1_4\")"
   ]
  },
  {
   "cell_type": "markdown",
   "id": "abce83d3",
   "metadata": {
    "deletable": false,
    "editable": false
   },
   "source": [
    "### Exercise 1.5: Read in the Vancouver language Data\n",
    "rubric={autograde:5}"
   ]
  },
  {
   "cell_type": "code",
   "execution_count": null,
   "id": "3a057b86-2d9c-41ff-9807-c3128b73bfc5",
   "metadata": {
    "tags": []
   },
   "outputs": [],
   "source": [
    "vancouver = ...\n",
    "vancouver"
   ]
  },
  {
   "cell_type": "code",
   "execution_count": null,
   "id": "3c8a198e",
   "metadata": {
    "deletable": false,
    "editable": false
   },
   "outputs": [],
   "source": [
    "grader.check(\"ex1_5\")"
   ]
  },
  {
   "cell_type": "markdown",
   "id": "923c586f",
   "metadata": {
    "deletable": false,
    "editable": false
   },
   "source": [
    "### Exercise 1.6: Read in the Victoria language Data\n",
    "rubric={autograde:5}"
   ]
  },
  {
   "cell_type": "code",
   "execution_count": null,
   "id": "27bfd9b2-91fb-4315-bb33-fcb6125101f6",
   "metadata": {
    "tags": []
   },
   "outputs": [],
   "source": [
    "url = ...\n",
    "victoria = pd.read_csv(url, sep = '\\t')\n",
    "victoria"
   ]
  },
  {
   "cell_type": "code",
   "execution_count": null,
   "id": "726f6d75",
   "metadata": {
    "deletable": false,
    "editable": false
   },
   "outputs": [],
   "source": [
    "grader.check(\"ex1_6\")"
   ]
  },
  {
   "cell_type": "markdown",
   "id": "7fd29270-bfd5-4df1-9ad5-4cd483296dad",
   "metadata": {
    "deletable": false,
    "editable": false
   },
   "source": [
    "## Exercise 2: Basic Data Wrangling\n",
    "\n",
    "rubric={autograde:10}\n",
    "\n",
    "Read the file `region_lang.csv` (located in the `data` directory of this repo) into a pandas data frame. We will use this data frame to uncover the name of the Canadian census metropolitan area which has the second greatest number of people who claim that the language they speak most often at home is **Spanish**. Return the region name as a string and assign this string to a variable named `spanish2`."
   ]
  },
  {
   "cell_type": "code",
   "execution_count": null,
   "id": "b01f970a-d1b3-4ced-bce0-00b712692dc1",
   "metadata": {
    "tags": []
   },
   "outputs": [],
   "source": [
    "..."
   ]
  },
  {
   "cell_type": "code",
   "execution_count": null,
   "id": "2cbc9c17-2fc2-45c8-8536-c9a0c7bd5385",
   "metadata": {
    "tags": []
   },
   "outputs": [],
   "source": [
    "spanish2"
   ]
  },
  {
   "cell_type": "code",
   "execution_count": null,
   "id": "90a428c9",
   "metadata": {
    "deletable": false,
    "editable": false
   },
   "outputs": [],
   "source": [
    "grader.check(\"ex2\")"
   ]
  },
  {
   "cell_type": "markdown",
   "id": "ff2ee9b4-c87b-4fcf-8c8b-d1c2568a02e9",
   "metadata": {
    "deletable": false,
    "editable": false
   },
   "source": [
    "## Exercise 3: More Data Wrangling\n",
    "\n",
    "rubric={accuracy:20}\n",
    "\n",
    "For this exercise, we want you to choose a Canadian census metropolitan area from the `region_lang` data set you encountered in the previous question and find the top 5 languages spoken most often at home from that area. Your final result should be a data frame with two columns: 1. `language` 2. `perc_pop`.\n",
    "\n",
    "The column perc_pop should be the percentage of the area’s population who reported that they speak that language most often at home. You can find the population size for each Canadian census metropolitan area in the file `region_data.csv` located in the `data` directory of this repo."
   ]
  },
  {
   "cell_type": "code",
   "execution_count": null,
   "id": "5e966e8d-b7af-4cf4-8665-eedbd7a3990e",
   "metadata": {
    "tags": []
   },
   "outputs": [],
   "source": [
    "..."
   ]
  },
  {
   "cell_type": "markdown",
   "id": "beb6b3e8-fa54-4ffb-8f40-297c3c45e015",
   "metadata": {
    "deletable": false,
    "editable": false
   },
   "source": [
    "## Exercise 4: Tidying Data\n",
    "\n",
    "rubric={autograde:10}\n",
    "\n",
    "Let’s load a data set that is not tidy, because it is too wide for the statistical question being asked, and then use pandas to tidy it.\n",
    "\n",
    "This next data set that we will be looking at contains environmental data from 1914 to 2018. The data was collected by the DFO (Canada’s Department of Fisheries and Oceans) at the Pacific Biological Station (Departure Bay). Daily sea surface temperatures were recorded. Original data source: http://www.pac.dfo-mpo.gc.ca/science/oceans/data-donnees/lightstations-phares/index-eng.html\n",
    "\n",
    "A statistical question we might be interested in answering with this data set is, has sea surface temperature been changing over time, and is there an association between time of year (i.e., month) and this change over time? Read the `departure_bay_temperature.csv` data set in from the `data` directory and decide what tidying you will have to do, and then get to work and tidy it!\n",
    "\n",
    "Assign the the tidy data frame you create to the variable `tidy_temps`. Set the second column name to be `month` & third column name to be `temp`."
   ]
  },
  {
   "cell_type": "code",
   "execution_count": null,
   "id": "eba2761c",
   "metadata": {
    "tags": []
   },
   "outputs": [],
   "source": [
    "..."
   ]
  },
  {
   "cell_type": "code",
   "execution_count": null,
   "id": "dfe88b69",
   "metadata": {
    "tags": []
   },
   "outputs": [],
   "source": [
    "tidy_temps"
   ]
  },
  {
   "cell_type": "code",
   "execution_count": null,
   "id": "a5f7e594",
   "metadata": {
    "deletable": false,
    "editable": false
   },
   "outputs": [],
   "source": [
    "grader.check(\"ex4\")"
   ]
  },
  {
   "cell_type": "markdown",
   "id": "97ace0b4-9369-42cd-84de-3c25e919ea53",
   "metadata": {},
   "source": [
    "### Reward: Visualizing the data\n",
    "\n",
    "Let’s take a look and see whether sea surface temperature been changing over time at Departure Bay, BC. Given that time of year is a factor that influences temperature, we’ll plot this for each month separately:"
   ]
  },
  {
   "cell_type": "code",
   "execution_count": null,
   "id": "61d2ecee-d4bd-4ca0-95a9-b2120b0f86ad",
   "metadata": {},
   "outputs": [],
   "source": [
    "alt.Chart(tidy_temps).mark_point().encode(\n",
    "    alt.X('Year:N', axis = alt.Axis(labels=False, ticks = False), title = 'Year', ),\n",
    "    alt.Y('temp:Q', title= 'Temperature')\n",
    ").properties(\n",
    "    width=200,\n",
    "    height=200\n",
    ").facet(alt.Facet('month:N', sort = ['Jan','Feb','Mar','Apr','May','Jun','Jul','Aug','Sep','Oct','Nov','Dec']),\n",
    "    columns = 4\n",
    ").interactive()"
   ]
  },
  {
   "cell_type": "markdown",
   "id": "7daca1f0-2617-4ea5-8e63-b50756753a64",
   "metadata": {
    "deletable": false,
    "editable": false
   },
   "source": [
    "## Exercise 5: More Tidying\n",
    "\n",
    "rubric = {autograde:10}\n",
    "\n",
    "Use one of the `pandas` functions to tidy the data that you will load in from the `language_diversity.csv` file located in the data directory. This data was collected to answer research questions, such as what factors are associated with language diversity (as measured by the number of languages spoken in a country). Read in the `language_diversity.csv` data set and decide what tidying you will have to do, and then get to work and tidy it! Assign the tidy data frame you create to the variable `tidy_lang`."
   ]
  },
  {
   "cell_type": "code",
   "execution_count": null,
   "id": "9f7881d0-9550-4d59-ab75-dbb9daaee1cd",
   "metadata": {
    "tags": []
   },
   "outputs": [],
   "source": [
    "..."
   ]
  },
  {
   "cell_type": "code",
   "execution_count": null,
   "id": "bc49ca68-88a8-42ca-91ff-b2ba5215c5ad",
   "metadata": {
    "tags": []
   },
   "outputs": [],
   "source": [
    "tidy_lang"
   ]
  },
  {
   "cell_type": "code",
   "execution_count": null,
   "id": "fdd676e0",
   "metadata": {
    "deletable": false,
    "editable": false
   },
   "outputs": [],
   "source": [
    "grader.check(\"ex5\")"
   ]
  },
  {
   "cell_type": "markdown",
   "id": "c95e4892-b5f6-4eb1-9cd1-d48ce22835c0",
   "metadata": {},
   "source": [
    "### Let's plot!"
   ]
  },
  {
   "cell_type": "markdown",
   "id": "b407845a-2f7a-4a5d-beae-a57adc6ea1ed",
   "metadata": {},
   "source": [
    "Now that we have this data in a tidy format, let’s explore it and plot the number of languages spoken in each country in the data set against the country’s population:"
   ]
  },
  {
   "cell_type": "code",
   "execution_count": null,
   "id": "a8c000f3-c9f8-48c7-99d1-cbaf7bc89a43",
   "metadata": {},
   "outputs": [],
   "source": [
    "alt.Chart(tidy_lang).mark_point().encode(\n",
    "    x=alt.X('Population').scale(type=\"log\"),\n",
    "    y=alt.Y('Langs').scale(type=\"log\"),\n",
    "    color='Continent:N',\n",
    "    shape='Continent:N',\n",
    ").interactive()"
   ]
  },
  {
   "cell_type": "markdown",
   "id": "753b7c5f-eb73-4d73-b809-87a25a674e61",
   "metadata": {
    "deletable": false,
    "editable": false
   },
   "source": [
    "## Exercise 6 (Challenging)\n",
    "\n",
    "rubric = {accuracy:5}\n",
    "\n",
    "(This exercise may be more time consuming than the previous ones. Attempt it only if you finish the previous questions early and want a bit more of a challenge.)\n",
    "\n",
    "The file `data/beach_data.xlsx` contains data from the Narrabeen beach survey program in Sydney, Australia. The survey program started in the 1970's and has continued to the present day. The survey program is aimed to measure the width of the beach every few weeks. There are five locations along the beach for which measurements are made, from location 1 at the northern end of the beach, to location 5 at the southern end. All the data is available [here](http://narrabeen.wrl.unsw.edu.au/explore_data/time_series/).\n",
    "\n",
    "Your tasks:\n",
    "\n",
    "* Determine the largest absolute deviation in width for each beach location in 2010, relative to the mean beach width at that location across all time.\n",
    "* Determine the standard deviation in width for each beach location in 2010.\n",
    "* Present the results in a single Data Frame and sort it in descending order of maximum absolute deviation. For example, the corresponding data frame for the year 2011 would look like this:\n",
    "\n",
    "\n",
    "| Location  | Abs Max | Std |\n",
    "| --- | --- | --- |\n",
    "|  3 | 35.805778 | 13.258404 |\n",
    "|  4 | 31.611717 | 9.892066 |\n",
    "|  5 | 26.424559 | 7.463615 |\n",
    "|  2 | 25.652488 | 8.867712 |\n",
    "|  1 | 23.943018 | 8.244922 |"
   ]
  },
  {
   "cell_type": "code",
   "execution_count": null,
   "id": "836f92e7",
   "metadata": {
    "tags": []
   },
   "outputs": [],
   "source": [
    "..."
   ]
  },
  {
   "cell_type": "markdown",
   "id": "6159fdac-eacc-4369-a902-5a985fd74a82",
   "metadata": {},
   "source": [
    "**Congratulations!** You are done the lab!!! Pat yourself on the back, convert the notebook to PDF and submit your lab to **GitHub** and Gradescope! Make sure you have 3 Git commits!"
   ]
  }
 ],
 "metadata": {
  "kernelspec": {
   "display_name": "Python [conda env:571]",
   "language": "python",
   "name": "conda-env-571-py"
  },
  "language_info": {
   "codemirror_mode": {
    "name": "ipython",
    "version": 3
   },
   "file_extension": ".py",
   "mimetype": "text/x-python",
   "name": "python",
   "nbconvert_exporter": "python",
   "pygments_lexer": "ipython3",
   "version": "3.12.0"
  },
  "otter": {
   "OK_FORMAT": true,
   "tests": {
    "ex1_1": {
     "name": "ex1_1",
     "points": 5,
     "suites": [
      {
       "cases": [
        {
         "code": ">>> assert abbotsford is not None, 'The Data Frame abbotsford has not been defined'\n>>> assert isinstance(abbotsford, pd.core.frame.DataFrame), 'abbotsford is not a pandas Data Frame'\n",
         "hidden": false,
         "locked": false
        }
       ],
       "scored": true,
       "setup": "",
       "teardown": "",
       "type": "doctest"
      }
     ]
    },
    "ex1_2": {
     "name": "ex1_2",
     "points": 5,
     "suites": [
      {
       "cases": [
        {
         "code": ">>> assert calgary is not None, 'The Data Frame calgary has not been defined'\n>>> assert isinstance(calgary, pd.core.frame.DataFrame), 'calgary is not a pandas Data Frame'\n",
         "hidden": false,
         "locked": false
        }
       ],
       "scored": true,
       "setup": "",
       "teardown": "",
       "type": "doctest"
      }
     ]
    },
    "ex1_3": {
     "name": "ex1_3",
     "points": 5,
     "suites": [
      {
       "cases": [
        {
         "code": ">>> assert edmonton is not None, 'The Data Frame edmonton has not been defined'\n>>> assert isinstance(edmonton, pd.core.frame.DataFrame), 'edmonton is not a Data Frame'\n",
         "hidden": false,
         "locked": false
        }
       ],
       "scored": true,
       "setup": "",
       "teardown": "",
       "type": "doctest"
      }
     ]
    },
    "ex1_4": {
     "name": "ex1_4",
     "points": 5,
     "suites": [
      {
       "cases": [
        {
         "code": ">>> assert kelowna is not None, 'The Data Frame kelowna has not been defined'\n>>> assert isinstance(kelowna, pd.core.frame.DataFrame), 'kelowna is not a pandas Data Frame'\n",
         "hidden": false,
         "locked": false
        }
       ],
       "scored": true,
       "setup": "",
       "teardown": "",
       "type": "doctest"
      }
     ]
    },
    "ex1_5": {
     "name": "ex1_5",
     "points": 5,
     "suites": [
      {
       "cases": [
        {
         "code": ">>> assert vancouver is not None, 'The Data Frame vancouver has not been defined'\n>>> assert isinstance(vancouver, pd.core.frame.DataFrame), 'vancouver is not a pandas Data Frame'\n",
         "hidden": false,
         "locked": false
        }
       ],
       "scored": true,
       "setup": "",
       "teardown": "",
       "type": "doctest"
      }
     ]
    },
    "ex1_6": {
     "name": "ex1_6",
     "points": 5,
     "suites": [
      {
       "cases": [
        {
         "code": ">>> assert victoria is not None, 'The Data Frame victoria has not been defined'\n>>> assert isinstance(victoria, pd.core.frame.DataFrame), 'victoria is not a pandas Data Frame'\n",
         "hidden": false,
         "locked": false
        }
       ],
       "scored": true,
       "setup": "",
       "teardown": "",
       "type": "doctest"
      }
     ]
    },
    "ex2": {
     "name": "ex2",
     "points": 10,
     "suites": [
      {
       "cases": [
        {
         "code": ">>> assert spanish2 is not None, 'The variable spanish2 has not been assigned a value.'\n>>> assert isinstance(spanish2, str), 'The variable spanish2 is not a string.'\n",
         "hidden": false,
         "locked": false
        }
       ],
       "scored": true,
       "setup": "",
       "teardown": "",
       "type": "doctest"
      }
     ]
    },
    "ex4": {
     "name": "ex4",
     "points": 10,
     "suites": [
      {
       "cases": [
        {
         "code": ">>> assert tidy_temps is not None, 'Data Frame tidy_temps has not been defined.'\n>>> assert isinstance(tidy_temps, pd.core.frame.DataFrame), 'tidy_temps is not a Data Frame'\n",
         "hidden": false,
         "locked": false
        }
       ],
       "scored": true,
       "setup": "",
       "teardown": "",
       "type": "doctest"
      }
     ]
    },
    "ex5": {
     "name": "ex5",
     "points": 10,
     "suites": [
      {
       "cases": [
        {
         "code": ">>> assert tidy_lang is not None, 'Data Frame tidy_lang has not been defined'\n>>> assert isinstance(tidy_lang, pd.core.frame.DataFrame), 'tidy_lang is not a Data Frame'\n",
         "hidden": false,
         "locked": false
        }
       ],
       "scored": true,
       "setup": "",
       "teardown": "",
       "type": "doctest"
      }
     ]
    }
   }
  }
 },
 "nbformat": 4,
 "nbformat_minor": 5
}
