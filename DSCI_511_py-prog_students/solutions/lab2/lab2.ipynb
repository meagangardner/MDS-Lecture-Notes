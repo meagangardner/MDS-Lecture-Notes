{
 "cells": [
  {
   "cell_type": "raw",
   "metadata": {},
   "source": [
    "# ASSIGNMENT CONFIG\n",
    "solutions_pdf: false\n",
    "export_cell: false\n",
    "check_all_cell: false\n",
    "environment: environment.yml\n",
    "overwrite_requirements: true\n",
    "generate:\n",
    "    pdf: false\n",
    "    zips: false\n",
    "    show_hidden: false\n",
    "    show_stdout: true\n",
    "files:\n",
    "    - img/dsci511_header.png\n",
    "    - data/test_emails.txt"
   ]
  },
  {
   "cell_type": "markdown",
   "metadata": {},
   "source": [
    "<img src=\"img/dsci511_header.png\" width=\"600\">"
   ]
  },
  {
   "cell_type": "markdown",
   "metadata": {},
   "source": [
    "# Lab 2: Advanced data wrangling with Pandas"
   ]
  },
  {
   "cell_type": "markdown",
   "metadata": {},
   "source": [
    "## Instructions\n",
    "rubric={mechanics:5}"
   ]
  },
  {
   "cell_type": "markdown",
   "metadata": {},
   "source": [
    "Check off that you have read and followed each of these instructions:\n",
    "\n",
    "- [ ] All files necessary to run your work must be pushed to your GitHub.ubc.ca repository for this lab.\n",
    "- [ ] You need to have a minimum of 3 commit messages associated with your GitHub.ubc.ca repository for this lab.\n",
    "- [ ] You must also submit `.ipynb` file and the rendered PDF in this worksheet/lab to Gradescope. Entire notebook must be executed so the TA's can see the results of your work. \n",
    "- [ ] **There is autograding in this lab, so please do not move or rename this file. Also, do not copy and paste cells, if you need to add new cells, create new cells via the \"Insert a cell below\" button instead.**\n",
    "- [ ] To ensure you do not break the autograder remove all code for installing packages (i.e., DO NOT have `! conda install ...` or `! pip install ...` in your homework!\n",
    "- [ ] Follow the [MDS general lab instructions](https://ubc-mds.github.io/resources_pages/general_lab_instructions/).\n",
    "- [ ] <mark>This lab has hidden tests. In this lab, the visible tests are just there to ensure you create an object with the correct name. The remaining tests are hidden intentionally. This is so you get practice deciding when you have written the correct code and created the correct data object. This is a necessary skill for data scientists, and if we were to provide robust visible tests for all questions you would not develop this skill, or at least not to its full potential.</mark>\n"
   ]
  },
  {
   "cell_type": "markdown",
   "metadata": {},
   "source": [
    "## Code Quality\n",
    "rubric={quality:5}\n",
    "\n",
    "The code that you write for this assignment will be given one overall grade for code quality, see our code quality rubric as a guide to what we are looking for. Also, for this course (and other MDS courses that use R), we are trying to follow the PEP 8 code style. There is a guide you can refer too: https://peps.python.org/pep-0008/\n",
    "\n",
    "Each code question will also be assessed for code accuracy (i.e., does it do what it is supposed to do?).\n",
    "\n",
    "## Writing \n",
    "rubric={writing:5}\n",
    "\n",
    "To get the marks for this writing component, you should:\n",
    "\n",
    "- Use proper English, spelling, and grammar throughout your submission (the non-coding parts).\n",
    "- Be succinct. This means being specific about what you want to communicate, without being superfluous.\n"
   ]
  },
  {
   "cell_type": "markdown",
   "metadata": {},
   "source": [
    "## Let's get started!\n",
    "\n",
    "Run the cell below to load the packages needed for this lab."
   ]
  },
  {
   "cell_type": "code",
   "execution_count": 1,
   "metadata": {},
   "outputs": [],
   "source": [
    "import pandas as pd\n",
    "import numpy as np\n",
    "import altair as alt\n",
    "import re\n",
    "from palmerpenguins import load_penguins # penguins data set for exercise 3\n",
    "from nycflights13 import flights # flights data set for exercise 5"
   ]
  },
  {
   "cell_type": "raw",
   "metadata": {},
   "source": [
    "# BEGIN QUESTION\n",
    "name: ex1\n",
    "points: 16"
   ]
  },
  {
   "cell_type": "markdown",
   "metadata": {},
   "source": [
    "## Exercise 1: Working with dates\r\n",
    "\n",
    "rubric={autograde:16}\n",
    "\r",
    "In our recent past, we experienced the COVID-19 global pandemic. \n",
    "With your new data science skills, you can start to look at \n",
    "and visualize the data about this impactful pandemic yourself. \n",
    "Let's look at cumulative confirmed cases in British Columbia \n",
    "over a 3 month period from 2021/06/10 to 2021/09/10 \n",
    "(it was a peak COVID  season then). \n",
    "We can obtain such data from the [COVID-19 Data Repository by the Center for Systems Science and Engineering (CSSE) at Johns Hopkins University](https://github.com/CSSEGISandData/COVID-19).\r",
    "\r",
    "In particular, use Python to load the `time_series_covid19_confirmed_global.csv` file located at the url: [https://github.com/CSSEGISandData/COVID-19/raw/master/csse_covid_19_data/csse_covid_19_time_series/time_series_covid19_confirmed_global.csv](https://github.com/CSSEGISandData/COVID-19/raw/master/csse_covid_19_data/csse_covid_19_time_series/time_series_covid19_confirmed_global.csv).\r",
    "\r",
    "Then you will need to filter teses global data for records from the province of British Columbia \n",
    "during the time interval 2021/06/10 to 2021/09/10. Note that, you might need to tidy the data before you filter the time interval.  \n",
    "We provide you data visualization code, \n",
    "however your task is to ensure the dataframe is suitable for visualization. \n",
    "\n",
    "The final data set for data visualization should be named `bc_covid19_confirmed_3_months` \n",
    "and have only the following two columns: \r",
    "- one named `date`, whose `dtype` should be `Date`\r",
    "- one named `confirmed_cases`, whose `dtype` should be intt64`"
   ]
  },
  {
   "cell_type": "raw",
   "metadata": {},
   "source": [
    "# BEGIN SOLUTION"
   ]
  },
  {
   "cell_type": "code",
   "execution_count": 2,
   "metadata": {},
   "outputs": [],
   "source": [
    "url = \"https://github.com/CSSEGISandData/COVID-19/raw/master/csse_covid_19_data/csse_covid_19_time_series/time_series_covid19_confirmed_global.csv\"\n",
    "time_series_covid19_confirmed_global = None\n",
    "three_months = None\n",
    "bc_covid19_confirmed_3_months = None\n",
    "# BEGIN SOLUTION\n",
    "# Load the COVID-19 confirmed global time series data\n",
    "url = \"https://github.com/CSSEGISandData/COVID-19/raw/master/csse_covid_19_data/csse_covid_19_time_series/time_series_covid19_confirmed_global.csv\"\n",
    "time_series_covid19_confirmed_global = pd.read_csv(url)\n",
    "\n",
    "# Filter data for British Columbia and reshape it for a 3-month period\n",
    "bc_covid19_confirmed = (\n",
    "    time_series_covid19_confirmed_global[\n",
    "        time_series_covid19_confirmed_global['Province/State'] == 'British Columbia'\n",
    "    ].iloc[:, 4:]\n",
    "    .melt(var_name='date', value_name='confirmed_cases')\n",
    ")\n",
    "\n",
    "# Convert dates to datetime objects and filter for the specified 3-month period\n",
    "bc_covid19_confirmed['date'] = pd.to_datetime(bc_covid19_confirmed['date'], format='mixed')\n",
    "bc_covid19_confirmed_3_months = (\n",
    "    bc_covid19_confirmed\n",
    "    .set_index('date')\n",
    "    .sort_index()\n",
    "    .loc['2021-06-10':'2021-09-10']\n",
    "    .reset_index()\n",
    ")\n",
    "# END SOLUTION"
   ]
  },
  {
   "cell_type": "code",
   "execution_count": 3,
   "metadata": {
    "scrolled": true
   },
   "outputs": [
    {
     "data": {
      "text/html": [
       "<div>\n",
       "<style scoped>\n",
       "    .dataframe tbody tr th:only-of-type {\n",
       "        vertical-align: middle;\n",
       "    }\n",
       "\n",
       "    .dataframe tbody tr th {\n",
       "        vertical-align: top;\n",
       "    }\n",
       "\n",
       "    .dataframe thead th {\n",
       "        text-align: right;\n",
       "    }\n",
       "</style>\n",
       "<table border=\"1\" class=\"dataframe\">\n",
       "  <thead>\n",
       "    <tr style=\"text-align: right;\">\n",
       "      <th></th>\n",
       "      <th>date</th>\n",
       "      <th>confirmed_cases</th>\n",
       "    </tr>\n",
       "  </thead>\n",
       "  <tbody>\n",
       "    <tr>\n",
       "      <th>0</th>\n",
       "      <td>2021-06-10</td>\n",
       "      <td>145996</td>\n",
       "    </tr>\n",
       "    <tr>\n",
       "      <th>1</th>\n",
       "      <td>2021-06-11</td>\n",
       "      <td>146176</td>\n",
       "    </tr>\n",
       "    <tr>\n",
       "      <th>2</th>\n",
       "      <td>2021-06-12</td>\n",
       "      <td>146176</td>\n",
       "    </tr>\n",
       "    <tr>\n",
       "      <th>3</th>\n",
       "      <td>2021-06-13</td>\n",
       "      <td>146176</td>\n",
       "    </tr>\n",
       "    <tr>\n",
       "      <th>4</th>\n",
       "      <td>2021-06-14</td>\n",
       "      <td>146453</td>\n",
       "    </tr>\n",
       "    <tr>\n",
       "      <th>...</th>\n",
       "      <td>...</td>\n",
       "      <td>...</td>\n",
       "    </tr>\n",
       "    <tr>\n",
       "      <th>88</th>\n",
       "      <td>2021-09-06</td>\n",
       "      <td>168325</td>\n",
       "    </tr>\n",
       "    <tr>\n",
       "      <th>89</th>\n",
       "      <td>2021-09-07</td>\n",
       "      <td>170750</td>\n",
       "    </tr>\n",
       "    <tr>\n",
       "      <th>90</th>\n",
       "      <td>2021-09-08</td>\n",
       "      <td>171564</td>\n",
       "    </tr>\n",
       "    <tr>\n",
       "      <th>91</th>\n",
       "      <td>2021-09-09</td>\n",
       "      <td>172338</td>\n",
       "    </tr>\n",
       "    <tr>\n",
       "      <th>92</th>\n",
       "      <td>2021-09-10</td>\n",
       "      <td>173158</td>\n",
       "    </tr>\n",
       "  </tbody>\n",
       "</table>\n",
       "<p>93 rows × 2 columns</p>\n",
       "</div>"
      ],
      "text/plain": [
       "         date  confirmed_cases\n",
       "0  2021-06-10           145996\n",
       "1  2021-06-11           146176\n",
       "2  2021-06-12           146176\n",
       "3  2021-06-13           146176\n",
       "4  2021-06-14           146453\n",
       "..        ...              ...\n",
       "88 2021-09-06           168325\n",
       "89 2021-09-07           170750\n",
       "90 2021-09-08           171564\n",
       "91 2021-09-09           172338\n",
       "92 2021-09-10           173158\n",
       "\n",
       "[93 rows x 2 columns]"
      ]
     },
     "execution_count": 3,
     "metadata": {},
     "output_type": "execute_result"
    }
   ],
   "source": [
    "bc_covid19_confirmed_3_months"
   ]
  },
  {
   "cell_type": "raw",
   "metadata": {},
   "source": [
    "# END SOLUTION"
   ]
  },
  {
   "cell_type": "raw",
   "metadata": {},
   "source": [
    "# BEGIN TESTS"
   ]
  },
  {
   "cell_type": "code",
   "execution_count": 4,
   "metadata": {},
   "outputs": [],
   "source": [
    "# TEST\n",
    "# Checking if the DataFrame is defined\n",
    "assert bc_covid19_confirmed_3_months is not None, \"The DataFrame 'bc_covid19_confirmed_3_months' is not defined.\"\n",
    "\n",
    "# Checking column names\n",
    "expected_columns = ['date', 'confirmed_cases']\n",
    "assert list(bc_covid19_confirmed_3_months.columns) == expected_columns, f\"Column names are incorrect. Expected: {expected_columns}, but got: {list(bc_covid19_confirmed_3_months.columns)}.\"\n",
    "\n",
    "# Checking if the DataFrame is not empty (optional, but useful for debugging)\n",
    "assert not bc_covid19_confirmed_3_months.empty, \"The DataFrame 'bc_covid19_confirmed_3_months' is empty.\""
   ]
  },
  {
   "cell_type": "code",
   "execution_count": 5,
   "metadata": {},
   "outputs": [],
   "source": [
    "# HIDDEN TEST\n",
    "# Asserting that the object is a DataFrame\n",
    "assert isinstance(bc_covid19_confirmed_3_months, pd.DataFrame), \"Object is not a DataFrame\"\n",
    "\n",
    "# Asserting the column data types\n",
    "assert bc_covid19_confirmed_3_months['date'].dtype == np.dtype('datetime64[ns]'), \"Date column is not datetime64[ns]\"\n",
    "assert bc_covid19_confirmed_3_months['confirmed_cases'].dtype == np.dtype('int64'), \"Confirmed cases column is not int64\"\n",
    "\n",
    "# Asserting the DataFrame shape\n",
    "expected_shape = (93, 2)  # Assuming 93 days for the period from June 10, 2021, to September 10, 2021\n",
    "assert bc_covid19_confirmed_3_months.shape == expected_shape, f\"DataFrame shape is not {expected_shape}\"\n",
    "\n",
    "# Asserting the correct date range in the date column\n",
    "expected_dates = pd.date_range(start='2021-06-10', end='2021-09-10')\n",
    "actual_dates = bc_covid19_confirmed_3_months['date']\n",
    "assert all(actual_dates == expected_dates), \"Date column does not contain the correct date range\"\n",
    "\n",
    "# Asserting the sum of the numerical column\n",
    "expected_sum = 14246272\n",
    "actual_sum = bc_covid19_confirmed_3_months['confirmed_cases'].sum()\n",
    "tolerance = 2\n",
    "assert abs(actual_sum - expected_sum) <= tolerance, f\"Sum of confirmed cases {actual_sum} is not within tolerance of {expected_sum}\""
   ]
  },
  {
   "cell_type": "raw",
   "metadata": {},
   "source": [
    "# END TESTS"
   ]
  },
  {
   "cell_type": "raw",
   "metadata": {},
   "source": [
    "# END QUESTION"
   ]
  },
  {
   "cell_type": "markdown",
   "metadata": {},
   "source": [
    "Let’s now visualize how cases have changed over the last three months in British Columbia by viewing cumulative cases per day:"
   ]
  },
  {
   "cell_type": "code",
   "execution_count": 6,
   "metadata": {},
   "outputs": [
    {
     "data": {
      "text/html": [
       "\n",
       "<style>\n",
       "  #altair-viz-452cf66e5471462fb81224366b96388e.vega-embed {\n",
       "    width: 100%;\n",
       "    display: flex;\n",
       "  }\n",
       "\n",
       "  #altair-viz-452cf66e5471462fb81224366b96388e.vega-embed details,\n",
       "  #altair-viz-452cf66e5471462fb81224366b96388e.vega-embed details summary {\n",
       "    position: relative;\n",
       "  }\n",
       "</style>\n",
       "<div id=\"altair-viz-452cf66e5471462fb81224366b96388e\"></div>\n",
       "<script type=\"text/javascript\">\n",
       "  var VEGA_DEBUG = (typeof VEGA_DEBUG == \"undefined\") ? {} : VEGA_DEBUG;\n",
       "  (function(spec, embedOpt){\n",
       "    let outputDiv = document.currentScript.previousElementSibling;\n",
       "    if (outputDiv.id !== \"altair-viz-452cf66e5471462fb81224366b96388e\") {\n",
       "      outputDiv = document.getElementById(\"altair-viz-452cf66e5471462fb81224366b96388e\");\n",
       "    }\n",
       "    const paths = {\n",
       "      \"vega\": \"https://cdn.jsdelivr.net/npm/vega@5?noext\",\n",
       "      \"vega-lib\": \"https://cdn.jsdelivr.net/npm/vega-lib?noext\",\n",
       "      \"vega-lite\": \"https://cdn.jsdelivr.net/npm/vega-lite@5.20.1?noext\",\n",
       "      \"vega-embed\": \"https://cdn.jsdelivr.net/npm/vega-embed@6?noext\",\n",
       "    };\n",
       "\n",
       "    function maybeLoadScript(lib, version) {\n",
       "      var key = `${lib.replace(\"-\", \"\")}_version`;\n",
       "      return (VEGA_DEBUG[key] == version) ?\n",
       "        Promise.resolve(paths[lib]) :\n",
       "        new Promise(function(resolve, reject) {\n",
       "          var s = document.createElement('script');\n",
       "          document.getElementsByTagName(\"head\")[0].appendChild(s);\n",
       "          s.async = true;\n",
       "          s.onload = () => {\n",
       "            VEGA_DEBUG[key] = version;\n",
       "            return resolve(paths[lib]);\n",
       "          };\n",
       "          s.onerror = () => reject(`Error loading script: ${paths[lib]}`);\n",
       "          s.src = paths[lib];\n",
       "        });\n",
       "    }\n",
       "\n",
       "    function showError(err) {\n",
       "      outputDiv.innerHTML = `<div class=\"error\" style=\"color:red;\">${err}</div>`;\n",
       "      throw err;\n",
       "    }\n",
       "\n",
       "    function displayChart(vegaEmbed) {\n",
       "      vegaEmbed(outputDiv, spec, embedOpt)\n",
       "        .catch(err => showError(`Javascript Error: ${err.message}<br>This usually means there's a typo in your chart specification. See the javascript console for the full traceback.`));\n",
       "    }\n",
       "\n",
       "    if(typeof define === \"function\" && define.amd) {\n",
       "      requirejs.config({paths});\n",
       "      require([\"vega-embed\"], displayChart, err => showError(`Error loading script: ${err.message}`));\n",
       "    } else {\n",
       "      maybeLoadScript(\"vega\", \"5\")\n",
       "        .then(() => maybeLoadScript(\"vega-lite\", \"5.20.1\"))\n",
       "        .then(() => maybeLoadScript(\"vega-embed\", \"6\"))\n",
       "        .catch(showError)\n",
       "        .then(() => displayChart(vegaEmbed));\n",
       "    }\n",
       "  })({\"config\": {\"view\": {\"continuousWidth\": 300, \"continuousHeight\": 300, \"strokeWidth\": 0}, \"axis\": {\"grid\": false}}, \"data\": {\"name\": \"data-855f14088fb536ac7dd9a8c66616a609\"}, \"mark\": {\"type\": \"bar\", \"color\": \"lightblue\"}, \"encoding\": {\"x\": {\"field\": \"date\", \"title\": \"2021\", \"type\": \"temporal\"}, \"y\": {\"field\": \"confirmed_cases\", \"title\": \"Cumulative COVID-19 cases\", \"type\": \"quantitative\"}}, \"title\": \"BC COVID-19 cases started to increase more rapidly in August and September of 2021\", \"$schema\": \"https://vega.github.io/schema/vega-lite/v5.20.1.json\", \"datasets\": {\"data-855f14088fb536ac7dd9a8c66616a609\": [{\"date\": \"2021-06-10T00:00:00\", \"confirmed_cases\": 145996}, {\"date\": \"2021-06-11T00:00:00\", \"confirmed_cases\": 146176}, {\"date\": \"2021-06-12T00:00:00\", \"confirmed_cases\": 146176}, {\"date\": \"2021-06-13T00:00:00\", \"confirmed_cases\": 146176}, {\"date\": \"2021-06-14T00:00:00\", \"confirmed_cases\": 146453}, {\"date\": \"2021-06-15T00:00:00\", \"confirmed_cases\": 146561}, {\"date\": \"2021-06-16T00:00:00\", \"confirmed_cases\": 146674}, {\"date\": \"2021-06-17T00:00:00\", \"confirmed_cases\": 146794}, {\"date\": \"2021-06-18T00:00:00\", \"confirmed_cases\": 146902}, {\"date\": \"2021-06-19T00:00:00\", \"confirmed_cases\": 146902}, {\"date\": \"2021-06-20T00:00:00\", \"confirmed_cases\": 146902}, {\"date\": \"2021-06-21T00:00:00\", \"confirmed_cases\": 147131}, {\"date\": \"2021-06-22T00:00:00\", \"confirmed_cases\": 147187}, {\"date\": \"2021-06-23T00:00:00\", \"confirmed_cases\": 147271}, {\"date\": \"2021-06-24T00:00:00\", \"confirmed_cases\": 147346}, {\"date\": \"2021-06-25T00:00:00\", \"confirmed_cases\": 147418}, {\"date\": \"2021-06-26T00:00:00\", \"confirmed_cases\": 147418}, {\"date\": \"2021-06-27T00:00:00\", \"confirmed_cases\": 147418}, {\"date\": \"2021-06-28T00:00:00\", \"confirmed_cases\": 147549}, {\"date\": \"2021-06-29T00:00:00\", \"confirmed_cases\": 147578}, {\"date\": \"2021-06-30T00:00:00\", \"confirmed_cases\": 147621}, {\"date\": \"2021-07-01T00:00:00\", \"confirmed_cases\": 147621}, {\"date\": \"2021-07-02T00:00:00\", \"confirmed_cases\": 147705}, {\"date\": \"2021-07-03T00:00:00\", \"confirmed_cases\": 147705}, {\"date\": \"2021-07-04T00:00:00\", \"confirmed_cases\": 147705}, {\"date\": \"2021-07-05T00:00:00\", \"confirmed_cases\": 147790}, {\"date\": \"2021-07-06T00:00:00\", \"confirmed_cases\": 147797}, {\"date\": \"2021-07-07T00:00:00\", \"confirmed_cases\": 147856}, {\"date\": \"2021-07-08T00:00:00\", \"confirmed_cases\": 147919}, {\"date\": \"2021-07-09T00:00:00\", \"confirmed_cases\": 148031}, {\"date\": \"2021-07-10T00:00:00\", \"confirmed_cases\": 148031}, {\"date\": \"2021-07-11T00:00:00\", \"confirmed_cases\": 148031}, {\"date\": \"2021-07-12T00:00:00\", \"confirmed_cases\": 148154}, {\"date\": \"2021-07-13T00:00:00\", \"confirmed_cases\": 148187}, {\"date\": \"2021-07-14T00:00:00\", \"confirmed_cases\": 148228}, {\"date\": \"2021-07-15T00:00:00\", \"confirmed_cases\": 148286}, {\"date\": \"2021-07-16T00:00:00\", \"confirmed_cases\": 148331}, {\"date\": \"2021-07-17T00:00:00\", \"confirmed_cases\": 148331}, {\"date\": \"2021-07-18T00:00:00\", \"confirmed_cases\": 148331}, {\"date\": \"2021-07-19T00:00:00\", \"confirmed_cases\": 148487}, {\"date\": \"2021-07-20T00:00:00\", \"confirmed_cases\": 148563}, {\"date\": \"2021-07-21T00:00:00\", \"confirmed_cases\": 148641}, {\"date\": \"2021-07-22T00:00:00\", \"confirmed_cases\": 148730}, {\"date\": \"2021-07-23T00:00:00\", \"confirmed_cases\": 148842}, {\"date\": \"2021-07-24T00:00:00\", \"confirmed_cases\": 148842}, {\"date\": \"2021-07-25T00:00:00\", \"confirmed_cases\": 148842}, {\"date\": \"2021-07-26T00:00:00\", \"confirmed_cases\": 149109}, {\"date\": \"2021-07-27T00:00:00\", \"confirmed_cases\": 149259}, {\"date\": \"2021-07-28T00:00:00\", \"confirmed_cases\": 149444}, {\"date\": \"2021-07-29T00:00:00\", \"confirmed_cases\": 149646}, {\"date\": \"2021-07-30T00:00:00\", \"confirmed_cases\": 149889}, {\"date\": \"2021-07-31T00:00:00\", \"confirmed_cases\": 149889}, {\"date\": \"2021-08-01T00:00:00\", \"confirmed_cases\": 149889}, {\"date\": \"2021-08-02T00:00:00\", \"confirmed_cases\": 149889}, {\"date\": \"2021-08-03T00:00:00\", \"confirmed_cases\": 150631}, {\"date\": \"2021-08-04T00:00:00\", \"confirmed_cases\": 150973}, {\"date\": \"2021-08-05T00:00:00\", \"confirmed_cases\": 151375}, {\"date\": \"2021-08-06T00:00:00\", \"confirmed_cases\": 151839}, {\"date\": \"2021-08-07T00:00:00\", \"confirmed_cases\": 151839}, {\"date\": \"2021-08-08T00:00:00\", \"confirmed_cases\": 151839}, {\"date\": \"2021-08-09T00:00:00\", \"confirmed_cases\": 152918}, {\"date\": \"2021-08-10T00:00:00\", \"confirmed_cases\": 153313}, {\"date\": \"2021-08-11T00:00:00\", \"confirmed_cases\": 153849}, {\"date\": \"2021-08-12T00:00:00\", \"confirmed_cases\": 154362}, {\"date\": \"2021-08-13T00:00:00\", \"confirmed_cases\": 155079}, {\"date\": \"2021-08-14T00:00:00\", \"confirmed_cases\": 155079}, {\"date\": \"2021-08-15T00:00:00\", \"confirmed_cases\": 155079}, {\"date\": \"2021-08-16T00:00:00\", \"confirmed_cases\": 156513}, {\"date\": \"2021-08-17T00:00:00\", \"confirmed_cases\": 157014}, {\"date\": \"2021-08-18T00:00:00\", \"confirmed_cases\": 157567}, {\"date\": \"2021-08-19T00:00:00\", \"confirmed_cases\": 158256}, {\"date\": \"2021-08-20T00:00:00\", \"confirmed_cases\": 158919}, {\"date\": \"2021-08-21T00:00:00\", \"confirmed_cases\": 158919}, {\"date\": \"2021-08-22T00:00:00\", \"confirmed_cases\": 158919}, {\"date\": \"2021-08-23T00:00:00\", \"confirmed_cases\": 160630}, {\"date\": \"2021-08-24T00:00:00\", \"confirmed_cases\": 161271}, {\"date\": \"2021-08-25T00:00:00\", \"confirmed_cases\": 161969}, {\"date\": \"2021-08-26T00:00:00\", \"confirmed_cases\": 162693}, {\"date\": \"2021-08-27T00:00:00\", \"confirmed_cases\": 163560}, {\"date\": \"2021-08-28T00:00:00\", \"confirmed_cases\": 163560}, {\"date\": \"2021-08-29T00:00:00\", \"confirmed_cases\": 163560}, {\"date\": \"2021-08-30T00:00:00\", \"confirmed_cases\": 165413}, {\"date\": \"2021-08-31T00:00:00\", \"confirmed_cases\": 166068}, {\"date\": \"2021-09-01T00:00:00\", \"confirmed_cases\": 166853}, {\"date\": \"2021-09-02T00:00:00\", \"confirmed_cases\": 167654}, {\"date\": \"2021-09-03T00:00:00\", \"confirmed_cases\": 168325}, {\"date\": \"2021-09-04T00:00:00\", \"confirmed_cases\": 168325}, {\"date\": \"2021-09-05T00:00:00\", \"confirmed_cases\": 168325}, {\"date\": \"2021-09-06T00:00:00\", \"confirmed_cases\": 168325}, {\"date\": \"2021-09-07T00:00:00\", \"confirmed_cases\": 170750}, {\"date\": \"2021-09-08T00:00:00\", \"confirmed_cases\": 171564}, {\"date\": \"2021-09-09T00:00:00\", \"confirmed_cases\": 172338}, {\"date\": \"2021-09-10T00:00:00\", \"confirmed_cases\": 173158}]}}, {\"mode\": \"vega-lite\"});\n",
       "</script>"
      ],
      "text/plain": [
       "alt.Chart(...)"
      ]
     },
     "execution_count": 6,
     "metadata": {},
     "output_type": "execute_result"
    }
   ],
   "source": [
    "three_months_BC = alt.Chart(bc_covid19_confirmed_3_months).mark_bar(color='lightblue').encode(\n",
    "    x=alt.X('date:T', title='2021'),  # Specify type as Temporal for dates\n",
    "    y=alt.Y('confirmed_cases:Q', title='Cumulative COVID-19 cases')\n",
    ").properties(\n",
    "    title='BC COVID-19 cases started to increase more rapidly in August and September of 2021'\n",
    ").configure_axis(\n",
    "    grid=False\n",
    ").configure_view(\n",
    "    strokeWidth=0\n",
    ")\n",
    "\n",
    "three_months_BC"
   ]
  },
  {
   "cell_type": "raw",
   "metadata": {},
   "source": [
    "# BEGIN QUESTION\n",
    "name: ex2\n",
    "points: 16\n",
    "manual: true"
   ]
  },
  {
   "cell_type": "markdown",
   "metadata": {},
   "source": [
    "## Exercise 2: Working with strings\n",
    "\n",
    "rubric={accuracy:16}\r",
    "\r",
    "You have learned about string operations combined with regular expressions.    \r",
    "Now you are ready to apply them to the real world of data cleaning!    \r",
    "\r",
    "Your goal is to load in \"dirty Gapminder\" as a dataframe called `dirty` and \"clean Gapminder\" as a dataframe called `clean`, and wrangle `dirty` until it is the same as `clean`:\n",
    "- Dirty Gapminder: <https://raw.githubusercontent.com/STAT545-UBC/STAT545-UBC.github.io/master/gapminderDataFiveYear_dirty.txt>\n",
    "- Clean Gapminder: <https://raw.githubusercontent.com/STAT545-UBC/STAT545-UBC.github.io/master/gapminderDataFiveYear.txt>\n",
    "\n",
    "A test has been provided to check that `dirty` is the same as `clean`. Things you might want to do to clean up `dirty`:\n",
    "\n",
    "- Check that `dirty` and `clean` have the same columns;\n",
    "- Check if there is any missing data, if there is missing data (NaNs or empty strings) fill them with sensible values;\n",
    "- Check for things like capitalization, spelling, etc;\n",
    "- There may be entries that appear to have the exact same spelling and capitalization in both `dirty` and `clean`, but still don't match... Extra whitespace is often a frustrating (and invisible) problem when wrangling text data. You can use `Series.str.strip()` to trim any additional unwanted whitespace around a string.\n",
    "- At any time, you can check which rows in `dirty` are not equal to `clean` using something like: `dirty[dirty.ne(clean).any(axis=1)]`."
   ]
  },
  {
   "cell_type": "raw",
   "metadata": {},
   "source": [
    "# BEGIN SOLUTION"
   ]
  },
  {
   "cell_type": "code",
   "execution_count": 7,
   "metadata": {},
   "outputs": [],
   "source": [
    "url_dirty = 'https://raw.githubusercontent.com/STAT545-UBC/STAT545-UBC.github.io/master/gapminderDataFiveYear_dirty.txt'\n",
    "url_clean = 'https://raw.githubusercontent.com/STAT545-UBC/STAT545-UBC.github.io/master/gapminderDataFiveYear.txt'\n",
    "dirty = None\n",
    "clean = None\n",
    "# BEGIN SOLUTION\n",
    "dirty = pd.read_csv(url_dirty, delimiter='\\t')\n",
    "clean = pd.read_csv(url_clean, delimiter='\\t')\n",
    "\n",
    "dirty[['continent', 'country']] = dirty['region'].str.split('_', expand=True)  # split \"region\" into \"country\" and \"continent\"\n",
    "dirty = dirty[['country', 'year', 'pop', 'continent', 'lifeExp', 'gdpPercap']]  # rearrange columns to match \"clean\"\n",
    "\n",
    "dirty[(dirty == \"\").any(axis=1)]  # shows continent has 3 empty strings, all for country \"Canada\"\n",
    "dirty.loc[(dirty == \"\").any(axis=1), 'continent'] = 'Americas'  # fill empty strings with the right values\n",
    "# dirty.loc[dirty['continent'] == \"\", 'continent'] = 'Americas'  # Another way to fill the empty strings\n",
    "\n",
    "dirty[(dirty.ne(clean)).any(axis=1)]  # shows which rows still don't match, there are a bunch of mislabelled countries\n",
    "dirty['country'] = dirty['country'].replace({'china': 'China',\n",
    "                                             'Central african republic': 'Central African Republic',\n",
    "                                             'Congo, Democratic Republic': 'Congo, Dem. Rep.',\n",
    "                                             'Democratic Republic of the Congo': 'Congo, Dem. Rep.',\n",
    "                                             \"Cote d'Ivore\": \"Cote d'Ivoire\" })\n",
    "\n",
    "dirty['country'] = dirty['country'].str.strip()  # strip whitespace\n",
    "dirty['continent'] = dirty['continent'].str.strip()  # strip whitespace\n",
    "# END SOLUTION"
   ]
  },
  {
   "cell_type": "raw",
   "metadata": {},
   "source": [
    "# END SOLUTION"
   ]
  },
  {
   "cell_type": "raw",
   "metadata": {},
   "source": [
    "# BEGIN TESTS"
   ]
  },
  {
   "cell_type": "code",
   "execution_count": 8,
   "metadata": {},
   "outputs": [],
   "source": [
    "# TEST\n",
    "clean = pd.read_csv(url_clean, delimiter='\\t')\n",
    "assert dirty.equals(clean)"
   ]
  },
  {
   "cell_type": "raw",
   "metadata": {},
   "source": [
    "# END TESTS"
   ]
  },
  {
   "cell_type": "raw",
   "metadata": {},
   "source": [
    "# END QUESTION"
   ]
  },
  {
   "cell_type": "raw",
   "metadata": {},
   "source": [
    "# BEGIN QUESTION\n",
    "name: ex3\n",
    "points: 16\n",
    "manual: true"
   ]
  },
  {
   "cell_type": "markdown",
   "metadata": {},
   "source": [
    "## Exercise 3: Taking control of your categoricals\n",
    "rubric={accuracy:8,reasoning:8}\r",
    "\r",
    "Explore the effects of the `pandas` `sort_values` method on the `pandas` `categorical` `dtype`. Does sorting the values of a pandas categorical column in a data frame have any effect on, say, an `altair` figure? What about the `cat.reorder_categories` method? This exploration must involve the data, the categorical's order, and some figures, as well as a written explanation of what you are doing and what you find. Choose any data set you wish to demonstrate this. We provide code for a scatter plot figure you could modify for your data set to help you out. "
   ]
  },
  {
   "cell_type": "raw",
   "metadata": {},
   "source": [
    "# BEGIN SOLUTION"
   ]
  },
  {
   "cell_type": "code",
   "execution_count": 9,
   "metadata": {},
   "outputs": [
    {
     "data": {
      "text/html": [
       "\n",
       "<style>\n",
       "  #altair-viz-8b02b31ce31b4971bae56f1a63eb2389.vega-embed {\n",
       "    width: 100%;\n",
       "    display: flex;\n",
       "  }\n",
       "\n",
       "  #altair-viz-8b02b31ce31b4971bae56f1a63eb2389.vega-embed details,\n",
       "  #altair-viz-8b02b31ce31b4971bae56f1a63eb2389.vega-embed details summary {\n",
       "    position: relative;\n",
       "  }\n",
       "</style>\n",
       "<div id=\"altair-viz-8b02b31ce31b4971bae56f1a63eb2389\"></div>\n",
       "<script type=\"text/javascript\">\n",
       "  var VEGA_DEBUG = (typeof VEGA_DEBUG == \"undefined\") ? {} : VEGA_DEBUG;\n",
       "  (function(spec, embedOpt){\n",
       "    let outputDiv = document.currentScript.previousElementSibling;\n",
       "    if (outputDiv.id !== \"altair-viz-8b02b31ce31b4971bae56f1a63eb2389\") {\n",
       "      outputDiv = document.getElementById(\"altair-viz-8b02b31ce31b4971bae56f1a63eb2389\");\n",
       "    }\n",
       "    const paths = {\n",
       "      \"vega\": \"https://cdn.jsdelivr.net/npm/vega@5?noext\",\n",
       "      \"vega-lib\": \"https://cdn.jsdelivr.net/npm/vega-lib?noext\",\n",
       "      \"vega-lite\": \"https://cdn.jsdelivr.net/npm/vega-lite@5.20.1?noext\",\n",
       "      \"vega-embed\": \"https://cdn.jsdelivr.net/npm/vega-embed@6?noext\",\n",
       "    };\n",
       "\n",
       "    function maybeLoadScript(lib, version) {\n",
       "      var key = `${lib.replace(\"-\", \"\")}_version`;\n",
       "      return (VEGA_DEBUG[key] == version) ?\n",
       "        Promise.resolve(paths[lib]) :\n",
       "        new Promise(function(resolve, reject) {\n",
       "          var s = document.createElement('script');\n",
       "          document.getElementsByTagName(\"head\")[0].appendChild(s);\n",
       "          s.async = true;\n",
       "          s.onload = () => {\n",
       "            VEGA_DEBUG[key] = version;\n",
       "            return resolve(paths[lib]);\n",
       "          };\n",
       "          s.onerror = () => reject(`Error loading script: ${paths[lib]}`);\n",
       "          s.src = paths[lib];\n",
       "        });\n",
       "    }\n",
       "\n",
       "    function showError(err) {\n",
       "      outputDiv.innerHTML = `<div class=\"error\" style=\"color:red;\">${err}</div>`;\n",
       "      throw err;\n",
       "    }\n",
       "\n",
       "    function displayChart(vegaEmbed) {\n",
       "      vegaEmbed(outputDiv, spec, embedOpt)\n",
       "        .catch(err => showError(`Javascript Error: ${err.message}<br>This usually means there's a typo in your chart specification. See the javascript console for the full traceback.`));\n",
       "    }\n",
       "\n",
       "    if(typeof define === \"function\" && define.amd) {\n",
       "      requirejs.config({paths});\n",
       "      require([\"vega-embed\"], displayChart, err => showError(`Error loading script: ${err.message}`));\n",
       "    } else {\n",
       "      maybeLoadScript(\"vega\", \"5\")\n",
       "        .then(() => maybeLoadScript(\"vega-lite\", \"5.20.1\"))\n",
       "        .then(() => maybeLoadScript(\"vega-embed\", \"6\"))\n",
       "        .catch(showError)\n",
       "        .then(() => displayChart(vegaEmbed));\n",
       "    }\n",
       "  })({\"config\": {\"view\": {\"continuousWidth\": 300, \"continuousHeight\": 300}, \"axis\": {\"labelFontSize\": 14, \"titleFontSize\": 18}, \"legend\": {\"labelFontSize\": 14, \"titleFontSize\": 18}}, \"data\": {\"name\": \"data-f80d16c19c47129227654822b1a984e6\"}, \"mark\": {\"type\": \"point\", \"size\": 60}, \"encoding\": {\"color\": {\"field\": \"species\", \"scale\": {\"scheme\": \"category10\"}, \"type\": \"nominal\"}, \"x\": {\"field\": \"bill_length_mm\", \"title\": \"Bill length (mm)\", \"type\": \"quantitative\"}, \"y\": {\"field\": \"body_mass_g\", \"title\": \"Body mass (g)\", \"type\": \"quantitative\"}}, \"height\": 350, \"width\": 450, \"$schema\": \"https://vega.github.io/schema/vega-lite/v5.20.1.json\", \"datasets\": {\"data-f80d16c19c47129227654822b1a984e6\": [{\"species\": \"Adelie\", \"island\": \"Torgersen\", \"bill_length_mm\": 39.1, \"bill_depth_mm\": 18.7, \"flipper_length_mm\": 181.0, \"body_mass_g\": 3750.0, \"sex\": \"male\", \"year\": 2007}, {\"species\": \"Adelie\", \"island\": \"Torgersen\", \"bill_length_mm\": 39.5, \"bill_depth_mm\": 17.4, \"flipper_length_mm\": 186.0, \"body_mass_g\": 3800.0, \"sex\": \"female\", \"year\": 2007}, {\"species\": \"Adelie\", \"island\": \"Torgersen\", \"bill_length_mm\": 40.3, \"bill_depth_mm\": 18.0, \"flipper_length_mm\": 195.0, \"body_mass_g\": 3250.0, \"sex\": \"female\", \"year\": 2007}, {\"species\": \"Adelie\", \"island\": \"Torgersen\", \"bill_length_mm\": null, \"bill_depth_mm\": null, \"flipper_length_mm\": null, \"body_mass_g\": null, \"sex\": null, \"year\": 2007}, {\"species\": \"Adelie\", \"island\": \"Torgersen\", \"bill_length_mm\": 36.7, \"bill_depth_mm\": 19.3, \"flipper_length_mm\": 193.0, \"body_mass_g\": 3450.0, \"sex\": \"female\", \"year\": 2007}, {\"species\": \"Adelie\", \"island\": \"Torgersen\", \"bill_length_mm\": 39.3, \"bill_depth_mm\": 20.6, \"flipper_length_mm\": 190.0, \"body_mass_g\": 3650.0, \"sex\": \"male\", \"year\": 2007}, {\"species\": \"Adelie\", \"island\": \"Torgersen\", \"bill_length_mm\": 38.9, \"bill_depth_mm\": 17.8, \"flipper_length_mm\": 181.0, \"body_mass_g\": 3625.0, \"sex\": \"female\", \"year\": 2007}, {\"species\": \"Adelie\", \"island\": \"Torgersen\", \"bill_length_mm\": 39.2, \"bill_depth_mm\": 19.6, \"flipper_length_mm\": 195.0, \"body_mass_g\": 4675.0, \"sex\": \"male\", \"year\": 2007}, {\"species\": \"Adelie\", \"island\": \"Torgersen\", \"bill_length_mm\": 34.1, \"bill_depth_mm\": 18.1, \"flipper_length_mm\": 193.0, \"body_mass_g\": 3475.0, \"sex\": null, \"year\": 2007}, {\"species\": \"Adelie\", \"island\": \"Torgersen\", \"bill_length_mm\": 42.0, \"bill_depth_mm\": 20.2, \"flipper_length_mm\": 190.0, \"body_mass_g\": 4250.0, \"sex\": null, \"year\": 2007}, {\"species\": \"Adelie\", \"island\": \"Torgersen\", \"bill_length_mm\": 37.8, \"bill_depth_mm\": 17.1, \"flipper_length_mm\": 186.0, \"body_mass_g\": 3300.0, \"sex\": null, \"year\": 2007}, {\"species\": \"Adelie\", \"island\": \"Torgersen\", \"bill_length_mm\": 37.8, \"bill_depth_mm\": 17.3, \"flipper_length_mm\": 180.0, \"body_mass_g\": 3700.0, \"sex\": null, \"year\": 2007}, {\"species\": \"Adelie\", \"island\": \"Torgersen\", \"bill_length_mm\": 41.1, \"bill_depth_mm\": 17.6, \"flipper_length_mm\": 182.0, \"body_mass_g\": 3200.0, \"sex\": \"female\", \"year\": 2007}, {\"species\": \"Adelie\", \"island\": \"Torgersen\", \"bill_length_mm\": 38.6, \"bill_depth_mm\": 21.2, \"flipper_length_mm\": 191.0, \"body_mass_g\": 3800.0, \"sex\": \"male\", \"year\": 2007}, {\"species\": \"Adelie\", \"island\": \"Torgersen\", \"bill_length_mm\": 34.6, \"bill_depth_mm\": 21.1, \"flipper_length_mm\": 198.0, \"body_mass_g\": 4400.0, \"sex\": \"male\", \"year\": 2007}, {\"species\": \"Adelie\", \"island\": \"Torgersen\", \"bill_length_mm\": 36.6, \"bill_depth_mm\": 17.8, \"flipper_length_mm\": 185.0, \"body_mass_g\": 3700.0, \"sex\": \"female\", \"year\": 2007}, {\"species\": \"Adelie\", \"island\": \"Torgersen\", \"bill_length_mm\": 38.7, \"bill_depth_mm\": 19.0, \"flipper_length_mm\": 195.0, \"body_mass_g\": 3450.0, \"sex\": \"female\", \"year\": 2007}, {\"species\": \"Adelie\", \"island\": \"Torgersen\", \"bill_length_mm\": 42.5, \"bill_depth_mm\": 20.7, \"flipper_length_mm\": 197.0, \"body_mass_g\": 4500.0, \"sex\": \"male\", \"year\": 2007}, {\"species\": \"Adelie\", \"island\": \"Torgersen\", \"bill_length_mm\": 34.4, \"bill_depth_mm\": 18.4, \"flipper_length_mm\": 184.0, \"body_mass_g\": 3325.0, \"sex\": \"female\", \"year\": 2007}, {\"species\": \"Adelie\", \"island\": \"Torgersen\", \"bill_length_mm\": 46.0, \"bill_depth_mm\": 21.5, \"flipper_length_mm\": 194.0, \"body_mass_g\": 4200.0, \"sex\": \"male\", \"year\": 2007}, {\"species\": \"Adelie\", \"island\": \"Biscoe\", \"bill_length_mm\": 37.8, \"bill_depth_mm\": 18.3, \"flipper_length_mm\": 174.0, \"body_mass_g\": 3400.0, \"sex\": \"female\", \"year\": 2007}, {\"species\": \"Adelie\", \"island\": \"Biscoe\", \"bill_length_mm\": 37.7, \"bill_depth_mm\": 18.7, \"flipper_length_mm\": 180.0, \"body_mass_g\": 3600.0, \"sex\": \"male\", \"year\": 2007}, {\"species\": \"Adelie\", \"island\": \"Biscoe\", \"bill_length_mm\": 35.9, \"bill_depth_mm\": 19.2, \"flipper_length_mm\": 189.0, \"body_mass_g\": 3800.0, \"sex\": \"female\", \"year\": 2007}, {\"species\": \"Adelie\", \"island\": \"Biscoe\", \"bill_length_mm\": 38.2, \"bill_depth_mm\": 18.1, \"flipper_length_mm\": 185.0, \"body_mass_g\": 3950.0, \"sex\": \"male\", \"year\": 2007}, {\"species\": \"Adelie\", \"island\": \"Biscoe\", \"bill_length_mm\": 38.8, \"bill_depth_mm\": 17.2, \"flipper_length_mm\": 180.0, \"body_mass_g\": 3800.0, \"sex\": \"male\", \"year\": 2007}, {\"species\": \"Adelie\", \"island\": \"Biscoe\", \"bill_length_mm\": 35.3, \"bill_depth_mm\": 18.9, \"flipper_length_mm\": 187.0, \"body_mass_g\": 3800.0, \"sex\": \"female\", \"year\": 2007}, {\"species\": \"Adelie\", \"island\": \"Biscoe\", \"bill_length_mm\": 40.6, \"bill_depth_mm\": 18.6, \"flipper_length_mm\": 183.0, \"body_mass_g\": 3550.0, \"sex\": \"male\", \"year\": 2007}, {\"species\": \"Adelie\", \"island\": \"Biscoe\", \"bill_length_mm\": 40.5, \"bill_depth_mm\": 17.9, \"flipper_length_mm\": 187.0, \"body_mass_g\": 3200.0, \"sex\": \"female\", \"year\": 2007}, {\"species\": \"Adelie\", \"island\": \"Biscoe\", \"bill_length_mm\": 37.9, \"bill_depth_mm\": 18.6, \"flipper_length_mm\": 172.0, \"body_mass_g\": 3150.0, \"sex\": \"female\", \"year\": 2007}, {\"species\": \"Adelie\", \"island\": \"Biscoe\", \"bill_length_mm\": 40.5, \"bill_depth_mm\": 18.9, \"flipper_length_mm\": 180.0, \"body_mass_g\": 3950.0, \"sex\": \"male\", \"year\": 2007}, {\"species\": \"Adelie\", \"island\": \"Dream\", \"bill_length_mm\": 39.5, \"bill_depth_mm\": 16.7, \"flipper_length_mm\": 178.0, \"body_mass_g\": 3250.0, \"sex\": \"female\", \"year\": 2007}, {\"species\": \"Adelie\", \"island\": \"Dream\", \"bill_length_mm\": 37.2, \"bill_depth_mm\": 18.1, \"flipper_length_mm\": 178.0, \"body_mass_g\": 3900.0, \"sex\": \"male\", \"year\": 2007}, {\"species\": \"Adelie\", \"island\": \"Dream\", \"bill_length_mm\": 39.5, \"bill_depth_mm\": 17.8, \"flipper_length_mm\": 188.0, \"body_mass_g\": 3300.0, \"sex\": \"female\", \"year\": 2007}, {\"species\": \"Adelie\", \"island\": \"Dream\", \"bill_length_mm\": 40.9, \"bill_depth_mm\": 18.9, \"flipper_length_mm\": 184.0, \"body_mass_g\": 3900.0, \"sex\": \"male\", \"year\": 2007}, {\"species\": \"Adelie\", \"island\": \"Dream\", \"bill_length_mm\": 36.4, \"bill_depth_mm\": 17.0, \"flipper_length_mm\": 195.0, \"body_mass_g\": 3325.0, \"sex\": \"female\", \"year\": 2007}, {\"species\": \"Adelie\", \"island\": \"Dream\", \"bill_length_mm\": 39.2, \"bill_depth_mm\": 21.1, \"flipper_length_mm\": 196.0, \"body_mass_g\": 4150.0, \"sex\": \"male\", \"year\": 2007}, {\"species\": \"Adelie\", \"island\": \"Dream\", \"bill_length_mm\": 38.8, \"bill_depth_mm\": 20.0, \"flipper_length_mm\": 190.0, \"body_mass_g\": 3950.0, \"sex\": \"male\", \"year\": 2007}, {\"species\": \"Adelie\", \"island\": \"Dream\", \"bill_length_mm\": 42.2, \"bill_depth_mm\": 18.5, \"flipper_length_mm\": 180.0, \"body_mass_g\": 3550.0, \"sex\": \"female\", \"year\": 2007}, {\"species\": \"Adelie\", \"island\": \"Dream\", \"bill_length_mm\": 37.6, \"bill_depth_mm\": 19.3, \"flipper_length_mm\": 181.0, \"body_mass_g\": 3300.0, \"sex\": \"female\", \"year\": 2007}, {\"species\": \"Adelie\", \"island\": \"Dream\", \"bill_length_mm\": 39.8, \"bill_depth_mm\": 19.1, \"flipper_length_mm\": 184.0, \"body_mass_g\": 4650.0, \"sex\": \"male\", \"year\": 2007}, {\"species\": \"Adelie\", \"island\": \"Dream\", \"bill_length_mm\": 36.5, \"bill_depth_mm\": 18.0, \"flipper_length_mm\": 182.0, \"body_mass_g\": 3150.0, \"sex\": \"female\", \"year\": 2007}, {\"species\": \"Adelie\", \"island\": \"Dream\", \"bill_length_mm\": 40.8, \"bill_depth_mm\": 18.4, \"flipper_length_mm\": 195.0, \"body_mass_g\": 3900.0, \"sex\": \"male\", \"year\": 2007}, {\"species\": \"Adelie\", \"island\": \"Dream\", \"bill_length_mm\": 36.0, \"bill_depth_mm\": 18.5, \"flipper_length_mm\": 186.0, \"body_mass_g\": 3100.0, \"sex\": \"female\", \"year\": 2007}, {\"species\": \"Adelie\", \"island\": \"Dream\", \"bill_length_mm\": 44.1, \"bill_depth_mm\": 19.7, \"flipper_length_mm\": 196.0, \"body_mass_g\": 4400.0, \"sex\": \"male\", \"year\": 2007}, {\"species\": \"Adelie\", \"island\": \"Dream\", \"bill_length_mm\": 37.0, \"bill_depth_mm\": 16.9, \"flipper_length_mm\": 185.0, \"body_mass_g\": 3000.0, \"sex\": \"female\", \"year\": 2007}, {\"species\": \"Adelie\", \"island\": \"Dream\", \"bill_length_mm\": 39.6, \"bill_depth_mm\": 18.8, \"flipper_length_mm\": 190.0, \"body_mass_g\": 4600.0, \"sex\": \"male\", \"year\": 2007}, {\"species\": \"Adelie\", \"island\": \"Dream\", \"bill_length_mm\": 41.1, \"bill_depth_mm\": 19.0, \"flipper_length_mm\": 182.0, \"body_mass_g\": 3425.0, \"sex\": \"male\", \"year\": 2007}, {\"species\": \"Adelie\", \"island\": \"Dream\", \"bill_length_mm\": 37.5, \"bill_depth_mm\": 18.9, \"flipper_length_mm\": 179.0, \"body_mass_g\": 2975.0, \"sex\": null, \"year\": 2007}, {\"species\": \"Adelie\", \"island\": \"Dream\", \"bill_length_mm\": 36.0, \"bill_depth_mm\": 17.9, \"flipper_length_mm\": 190.0, \"body_mass_g\": 3450.0, \"sex\": \"female\", \"year\": 2007}, {\"species\": \"Adelie\", \"island\": \"Dream\", \"bill_length_mm\": 42.3, \"bill_depth_mm\": 21.2, \"flipper_length_mm\": 191.0, \"body_mass_g\": 4150.0, \"sex\": \"male\", \"year\": 2007}, {\"species\": \"Adelie\", \"island\": \"Biscoe\", \"bill_length_mm\": 39.6, \"bill_depth_mm\": 17.7, \"flipper_length_mm\": 186.0, \"body_mass_g\": 3500.0, \"sex\": \"female\", \"year\": 2008}, {\"species\": \"Adelie\", \"island\": \"Biscoe\", \"bill_length_mm\": 40.1, \"bill_depth_mm\": 18.9, \"flipper_length_mm\": 188.0, \"body_mass_g\": 4300.0, \"sex\": \"male\", \"year\": 2008}, {\"species\": \"Adelie\", \"island\": \"Biscoe\", \"bill_length_mm\": 35.0, \"bill_depth_mm\": 17.9, \"flipper_length_mm\": 190.0, \"body_mass_g\": 3450.0, \"sex\": \"female\", \"year\": 2008}, {\"species\": \"Adelie\", \"island\": \"Biscoe\", \"bill_length_mm\": 42.0, \"bill_depth_mm\": 19.5, \"flipper_length_mm\": 200.0, \"body_mass_g\": 4050.0, \"sex\": \"male\", \"year\": 2008}, {\"species\": \"Adelie\", \"island\": \"Biscoe\", \"bill_length_mm\": 34.5, \"bill_depth_mm\": 18.1, \"flipper_length_mm\": 187.0, \"body_mass_g\": 2900.0, \"sex\": \"female\", \"year\": 2008}, {\"species\": \"Adelie\", \"island\": \"Biscoe\", \"bill_length_mm\": 41.4, \"bill_depth_mm\": 18.6, \"flipper_length_mm\": 191.0, \"body_mass_g\": 3700.0, \"sex\": \"male\", \"year\": 2008}, {\"species\": \"Adelie\", \"island\": \"Biscoe\", \"bill_length_mm\": 39.0, \"bill_depth_mm\": 17.5, \"flipper_length_mm\": 186.0, \"body_mass_g\": 3550.0, \"sex\": \"female\", \"year\": 2008}, {\"species\": \"Adelie\", \"island\": \"Biscoe\", \"bill_length_mm\": 40.6, \"bill_depth_mm\": 18.8, \"flipper_length_mm\": 193.0, \"body_mass_g\": 3800.0, \"sex\": \"male\", \"year\": 2008}, {\"species\": \"Adelie\", \"island\": \"Biscoe\", \"bill_length_mm\": 36.5, \"bill_depth_mm\": 16.6, \"flipper_length_mm\": 181.0, \"body_mass_g\": 2850.0, \"sex\": \"female\", \"year\": 2008}, {\"species\": \"Adelie\", \"island\": \"Biscoe\", \"bill_length_mm\": 37.6, \"bill_depth_mm\": 19.1, \"flipper_length_mm\": 194.0, \"body_mass_g\": 3750.0, \"sex\": \"male\", \"year\": 2008}, {\"species\": \"Adelie\", \"island\": \"Biscoe\", \"bill_length_mm\": 35.7, \"bill_depth_mm\": 16.9, \"flipper_length_mm\": 185.0, \"body_mass_g\": 3150.0, \"sex\": \"female\", \"year\": 2008}, {\"species\": \"Adelie\", \"island\": \"Biscoe\", \"bill_length_mm\": 41.3, \"bill_depth_mm\": 21.1, \"flipper_length_mm\": 195.0, \"body_mass_g\": 4400.0, \"sex\": \"male\", \"year\": 2008}, {\"species\": \"Adelie\", \"island\": \"Biscoe\", \"bill_length_mm\": 37.6, \"bill_depth_mm\": 17.0, \"flipper_length_mm\": 185.0, \"body_mass_g\": 3600.0, \"sex\": \"female\", \"year\": 2008}, {\"species\": \"Adelie\", \"island\": \"Biscoe\", \"bill_length_mm\": 41.1, \"bill_depth_mm\": 18.2, \"flipper_length_mm\": 192.0, \"body_mass_g\": 4050.0, \"sex\": \"male\", \"year\": 2008}, {\"species\": \"Adelie\", \"island\": \"Biscoe\", \"bill_length_mm\": 36.4, \"bill_depth_mm\": 17.1, \"flipper_length_mm\": 184.0, \"body_mass_g\": 2850.0, \"sex\": \"female\", \"year\": 2008}, {\"species\": \"Adelie\", \"island\": \"Biscoe\", \"bill_length_mm\": 41.6, \"bill_depth_mm\": 18.0, \"flipper_length_mm\": 192.0, \"body_mass_g\": 3950.0, \"sex\": \"male\", \"year\": 2008}, {\"species\": \"Adelie\", \"island\": \"Biscoe\", \"bill_length_mm\": 35.5, \"bill_depth_mm\": 16.2, \"flipper_length_mm\": 195.0, \"body_mass_g\": 3350.0, \"sex\": \"female\", \"year\": 2008}, {\"species\": \"Adelie\", \"island\": \"Biscoe\", \"bill_length_mm\": 41.1, \"bill_depth_mm\": 19.1, \"flipper_length_mm\": 188.0, \"body_mass_g\": 4100.0, \"sex\": \"male\", \"year\": 2008}, {\"species\": \"Adelie\", \"island\": \"Torgersen\", \"bill_length_mm\": 35.9, \"bill_depth_mm\": 16.6, \"flipper_length_mm\": 190.0, \"body_mass_g\": 3050.0, \"sex\": \"female\", \"year\": 2008}, {\"species\": \"Adelie\", \"island\": \"Torgersen\", \"bill_length_mm\": 41.8, \"bill_depth_mm\": 19.4, \"flipper_length_mm\": 198.0, \"body_mass_g\": 4450.0, \"sex\": \"male\", \"year\": 2008}, {\"species\": \"Adelie\", \"island\": \"Torgersen\", \"bill_length_mm\": 33.5, \"bill_depth_mm\": 19.0, \"flipper_length_mm\": 190.0, \"body_mass_g\": 3600.0, \"sex\": \"female\", \"year\": 2008}, {\"species\": \"Adelie\", \"island\": \"Torgersen\", \"bill_length_mm\": 39.7, \"bill_depth_mm\": 18.4, \"flipper_length_mm\": 190.0, \"body_mass_g\": 3900.0, \"sex\": \"male\", \"year\": 2008}, {\"species\": \"Adelie\", \"island\": \"Torgersen\", \"bill_length_mm\": 39.6, \"bill_depth_mm\": 17.2, \"flipper_length_mm\": 196.0, \"body_mass_g\": 3550.0, \"sex\": \"female\", \"year\": 2008}, {\"species\": \"Adelie\", \"island\": \"Torgersen\", \"bill_length_mm\": 45.8, \"bill_depth_mm\": 18.9, \"flipper_length_mm\": 197.0, \"body_mass_g\": 4150.0, \"sex\": \"male\", \"year\": 2008}, {\"species\": \"Adelie\", \"island\": \"Torgersen\", \"bill_length_mm\": 35.5, \"bill_depth_mm\": 17.5, \"flipper_length_mm\": 190.0, \"body_mass_g\": 3700.0, \"sex\": \"female\", \"year\": 2008}, {\"species\": \"Adelie\", \"island\": \"Torgersen\", \"bill_length_mm\": 42.8, \"bill_depth_mm\": 18.5, \"flipper_length_mm\": 195.0, \"body_mass_g\": 4250.0, \"sex\": \"male\", \"year\": 2008}, {\"species\": \"Adelie\", \"island\": \"Torgersen\", \"bill_length_mm\": 40.9, \"bill_depth_mm\": 16.8, \"flipper_length_mm\": 191.0, \"body_mass_g\": 3700.0, \"sex\": \"female\", \"year\": 2008}, {\"species\": \"Adelie\", \"island\": \"Torgersen\", \"bill_length_mm\": 37.2, \"bill_depth_mm\": 19.4, \"flipper_length_mm\": 184.0, \"body_mass_g\": 3900.0, \"sex\": \"male\", \"year\": 2008}, {\"species\": \"Adelie\", \"island\": \"Torgersen\", \"bill_length_mm\": 36.2, \"bill_depth_mm\": 16.1, \"flipper_length_mm\": 187.0, \"body_mass_g\": 3550.0, \"sex\": \"female\", \"year\": 2008}, {\"species\": \"Adelie\", \"island\": \"Torgersen\", \"bill_length_mm\": 42.1, \"bill_depth_mm\": 19.1, \"flipper_length_mm\": 195.0, \"body_mass_g\": 4000.0, \"sex\": \"male\", \"year\": 2008}, {\"species\": \"Adelie\", \"island\": \"Torgersen\", \"bill_length_mm\": 34.6, \"bill_depth_mm\": 17.2, \"flipper_length_mm\": 189.0, \"body_mass_g\": 3200.0, \"sex\": \"female\", \"year\": 2008}, {\"species\": \"Adelie\", \"island\": \"Torgersen\", \"bill_length_mm\": 42.9, \"bill_depth_mm\": 17.6, \"flipper_length_mm\": 196.0, \"body_mass_g\": 4700.0, \"sex\": \"male\", \"year\": 2008}, {\"species\": \"Adelie\", \"island\": \"Torgersen\", \"bill_length_mm\": 36.7, \"bill_depth_mm\": 18.8, \"flipper_length_mm\": 187.0, \"body_mass_g\": 3800.0, \"sex\": \"female\", \"year\": 2008}, {\"species\": \"Adelie\", \"island\": \"Torgersen\", \"bill_length_mm\": 35.1, \"bill_depth_mm\": 19.4, \"flipper_length_mm\": 193.0, \"body_mass_g\": 4200.0, \"sex\": \"male\", \"year\": 2008}, {\"species\": \"Adelie\", \"island\": \"Dream\", \"bill_length_mm\": 37.3, \"bill_depth_mm\": 17.8, \"flipper_length_mm\": 191.0, \"body_mass_g\": 3350.0, \"sex\": \"female\", \"year\": 2008}, {\"species\": \"Adelie\", \"island\": \"Dream\", \"bill_length_mm\": 41.3, \"bill_depth_mm\": 20.3, \"flipper_length_mm\": 194.0, \"body_mass_g\": 3550.0, \"sex\": \"male\", \"year\": 2008}, {\"species\": \"Adelie\", \"island\": \"Dream\", \"bill_length_mm\": 36.3, \"bill_depth_mm\": 19.5, \"flipper_length_mm\": 190.0, \"body_mass_g\": 3800.0, \"sex\": \"male\", \"year\": 2008}, {\"species\": \"Adelie\", \"island\": \"Dream\", \"bill_length_mm\": 36.9, \"bill_depth_mm\": 18.6, \"flipper_length_mm\": 189.0, \"body_mass_g\": 3500.0, \"sex\": \"female\", \"year\": 2008}, {\"species\": \"Adelie\", \"island\": \"Dream\", \"bill_length_mm\": 38.3, \"bill_depth_mm\": 19.2, \"flipper_length_mm\": 189.0, \"body_mass_g\": 3950.0, \"sex\": \"male\", \"year\": 2008}, {\"species\": \"Adelie\", \"island\": \"Dream\", \"bill_length_mm\": 38.9, \"bill_depth_mm\": 18.8, \"flipper_length_mm\": 190.0, \"body_mass_g\": 3600.0, \"sex\": \"female\", \"year\": 2008}, {\"species\": \"Adelie\", \"island\": \"Dream\", \"bill_length_mm\": 35.7, \"bill_depth_mm\": 18.0, \"flipper_length_mm\": 202.0, \"body_mass_g\": 3550.0, \"sex\": \"female\", \"year\": 2008}, {\"species\": \"Adelie\", \"island\": \"Dream\", \"bill_length_mm\": 41.1, \"bill_depth_mm\": 18.1, \"flipper_length_mm\": 205.0, \"body_mass_g\": 4300.0, \"sex\": \"male\", \"year\": 2008}, {\"species\": \"Adelie\", \"island\": \"Dream\", \"bill_length_mm\": 34.0, \"bill_depth_mm\": 17.1, \"flipper_length_mm\": 185.0, \"body_mass_g\": 3400.0, \"sex\": \"female\", \"year\": 2008}, {\"species\": \"Adelie\", \"island\": \"Dream\", \"bill_length_mm\": 39.6, \"bill_depth_mm\": 18.1, \"flipper_length_mm\": 186.0, \"body_mass_g\": 4450.0, \"sex\": \"male\", \"year\": 2008}, {\"species\": \"Adelie\", \"island\": \"Dream\", \"bill_length_mm\": 36.2, \"bill_depth_mm\": 17.3, \"flipper_length_mm\": 187.0, \"body_mass_g\": 3300.0, \"sex\": \"female\", \"year\": 2008}, {\"species\": \"Adelie\", \"island\": \"Dream\", \"bill_length_mm\": 40.8, \"bill_depth_mm\": 18.9, \"flipper_length_mm\": 208.0, \"body_mass_g\": 4300.0, \"sex\": \"male\", \"year\": 2008}, {\"species\": \"Adelie\", \"island\": \"Dream\", \"bill_length_mm\": 38.1, \"bill_depth_mm\": 18.6, \"flipper_length_mm\": 190.0, \"body_mass_g\": 3700.0, \"sex\": \"female\", \"year\": 2008}, {\"species\": \"Adelie\", \"island\": \"Dream\", \"bill_length_mm\": 40.3, \"bill_depth_mm\": 18.5, \"flipper_length_mm\": 196.0, \"body_mass_g\": 4350.0, \"sex\": \"male\", \"year\": 2008}, {\"species\": \"Adelie\", \"island\": \"Dream\", \"bill_length_mm\": 33.1, \"bill_depth_mm\": 16.1, \"flipper_length_mm\": 178.0, \"body_mass_g\": 2900.0, \"sex\": \"female\", \"year\": 2008}, {\"species\": \"Adelie\", \"island\": \"Dream\", \"bill_length_mm\": 43.2, \"bill_depth_mm\": 18.5, \"flipper_length_mm\": 192.0, \"body_mass_g\": 4100.0, \"sex\": \"male\", \"year\": 2008}, {\"species\": \"Adelie\", \"island\": \"Biscoe\", \"bill_length_mm\": 35.0, \"bill_depth_mm\": 17.9, \"flipper_length_mm\": 192.0, \"body_mass_g\": 3725.0, \"sex\": \"female\", \"year\": 2009}, {\"species\": \"Adelie\", \"island\": \"Biscoe\", \"bill_length_mm\": 41.0, \"bill_depth_mm\": 20.0, \"flipper_length_mm\": 203.0, \"body_mass_g\": 4725.0, \"sex\": \"male\", \"year\": 2009}, {\"species\": \"Adelie\", \"island\": \"Biscoe\", \"bill_length_mm\": 37.7, \"bill_depth_mm\": 16.0, \"flipper_length_mm\": 183.0, \"body_mass_g\": 3075.0, \"sex\": \"female\", \"year\": 2009}, {\"species\": \"Adelie\", \"island\": \"Biscoe\", \"bill_length_mm\": 37.8, \"bill_depth_mm\": 20.0, \"flipper_length_mm\": 190.0, \"body_mass_g\": 4250.0, \"sex\": \"male\", \"year\": 2009}, {\"species\": \"Adelie\", \"island\": \"Biscoe\", \"bill_length_mm\": 37.9, \"bill_depth_mm\": 18.6, \"flipper_length_mm\": 193.0, \"body_mass_g\": 2925.0, \"sex\": \"female\", \"year\": 2009}, {\"species\": \"Adelie\", \"island\": \"Biscoe\", \"bill_length_mm\": 39.7, \"bill_depth_mm\": 18.9, \"flipper_length_mm\": 184.0, \"body_mass_g\": 3550.0, \"sex\": \"male\", \"year\": 2009}, {\"species\": \"Adelie\", \"island\": \"Biscoe\", \"bill_length_mm\": 38.6, \"bill_depth_mm\": 17.2, \"flipper_length_mm\": 199.0, \"body_mass_g\": 3750.0, \"sex\": \"female\", \"year\": 2009}, {\"species\": \"Adelie\", \"island\": \"Biscoe\", \"bill_length_mm\": 38.2, \"bill_depth_mm\": 20.0, \"flipper_length_mm\": 190.0, \"body_mass_g\": 3900.0, \"sex\": \"male\", \"year\": 2009}, {\"species\": \"Adelie\", \"island\": \"Biscoe\", \"bill_length_mm\": 38.1, \"bill_depth_mm\": 17.0, \"flipper_length_mm\": 181.0, \"body_mass_g\": 3175.0, \"sex\": \"female\", \"year\": 2009}, {\"species\": \"Adelie\", \"island\": \"Biscoe\", \"bill_length_mm\": 43.2, \"bill_depth_mm\": 19.0, \"flipper_length_mm\": 197.0, \"body_mass_g\": 4775.0, \"sex\": \"male\", \"year\": 2009}, {\"species\": \"Adelie\", \"island\": \"Biscoe\", \"bill_length_mm\": 38.1, \"bill_depth_mm\": 16.5, \"flipper_length_mm\": 198.0, \"body_mass_g\": 3825.0, \"sex\": \"female\", \"year\": 2009}, {\"species\": \"Adelie\", \"island\": \"Biscoe\", \"bill_length_mm\": 45.6, \"bill_depth_mm\": 20.3, \"flipper_length_mm\": 191.0, \"body_mass_g\": 4600.0, \"sex\": \"male\", \"year\": 2009}, {\"species\": \"Adelie\", \"island\": \"Biscoe\", \"bill_length_mm\": 39.7, \"bill_depth_mm\": 17.7, \"flipper_length_mm\": 193.0, \"body_mass_g\": 3200.0, \"sex\": \"female\", \"year\": 2009}, {\"species\": \"Adelie\", \"island\": \"Biscoe\", \"bill_length_mm\": 42.2, \"bill_depth_mm\": 19.5, \"flipper_length_mm\": 197.0, \"body_mass_g\": 4275.0, \"sex\": \"male\", \"year\": 2009}, {\"species\": \"Adelie\", \"island\": \"Biscoe\", \"bill_length_mm\": 39.6, \"bill_depth_mm\": 20.7, \"flipper_length_mm\": 191.0, \"body_mass_g\": 3900.0, \"sex\": \"female\", \"year\": 2009}, {\"species\": \"Adelie\", \"island\": \"Biscoe\", \"bill_length_mm\": 42.7, \"bill_depth_mm\": 18.3, \"flipper_length_mm\": 196.0, \"body_mass_g\": 4075.0, \"sex\": \"male\", \"year\": 2009}, {\"species\": \"Adelie\", \"island\": \"Torgersen\", \"bill_length_mm\": 38.6, \"bill_depth_mm\": 17.0, \"flipper_length_mm\": 188.0, \"body_mass_g\": 2900.0, \"sex\": \"female\", \"year\": 2009}, {\"species\": \"Adelie\", \"island\": \"Torgersen\", \"bill_length_mm\": 37.3, \"bill_depth_mm\": 20.5, \"flipper_length_mm\": 199.0, \"body_mass_g\": 3775.0, \"sex\": \"male\", \"year\": 2009}, {\"species\": \"Adelie\", \"island\": \"Torgersen\", \"bill_length_mm\": 35.7, \"bill_depth_mm\": 17.0, \"flipper_length_mm\": 189.0, \"body_mass_g\": 3350.0, \"sex\": \"female\", \"year\": 2009}, {\"species\": \"Adelie\", \"island\": \"Torgersen\", \"bill_length_mm\": 41.1, \"bill_depth_mm\": 18.6, \"flipper_length_mm\": 189.0, \"body_mass_g\": 3325.0, \"sex\": \"male\", \"year\": 2009}, {\"species\": \"Adelie\", \"island\": \"Torgersen\", \"bill_length_mm\": 36.2, \"bill_depth_mm\": 17.2, \"flipper_length_mm\": 187.0, \"body_mass_g\": 3150.0, \"sex\": \"female\", \"year\": 2009}, {\"species\": \"Adelie\", \"island\": \"Torgersen\", \"bill_length_mm\": 37.7, \"bill_depth_mm\": 19.8, \"flipper_length_mm\": 198.0, \"body_mass_g\": 3500.0, \"sex\": \"male\", \"year\": 2009}, {\"species\": \"Adelie\", \"island\": \"Torgersen\", \"bill_length_mm\": 40.2, \"bill_depth_mm\": 17.0, \"flipper_length_mm\": 176.0, \"body_mass_g\": 3450.0, \"sex\": \"female\", \"year\": 2009}, {\"species\": \"Adelie\", \"island\": \"Torgersen\", \"bill_length_mm\": 41.4, \"bill_depth_mm\": 18.5, \"flipper_length_mm\": 202.0, \"body_mass_g\": 3875.0, \"sex\": \"male\", \"year\": 2009}, {\"species\": \"Adelie\", \"island\": \"Torgersen\", \"bill_length_mm\": 35.2, \"bill_depth_mm\": 15.9, \"flipper_length_mm\": 186.0, \"body_mass_g\": 3050.0, \"sex\": \"female\", \"year\": 2009}, {\"species\": \"Adelie\", \"island\": \"Torgersen\", \"bill_length_mm\": 40.6, \"bill_depth_mm\": 19.0, \"flipper_length_mm\": 199.0, \"body_mass_g\": 4000.0, \"sex\": \"male\", \"year\": 2009}, {\"species\": \"Adelie\", \"island\": \"Torgersen\", \"bill_length_mm\": 38.8, \"bill_depth_mm\": 17.6, \"flipper_length_mm\": 191.0, \"body_mass_g\": 3275.0, \"sex\": \"female\", \"year\": 2009}, {\"species\": \"Adelie\", \"island\": \"Torgersen\", \"bill_length_mm\": 41.5, \"bill_depth_mm\": 18.3, \"flipper_length_mm\": 195.0, \"body_mass_g\": 4300.0, \"sex\": \"male\", \"year\": 2009}, {\"species\": \"Adelie\", \"island\": \"Torgersen\", \"bill_length_mm\": 39.0, \"bill_depth_mm\": 17.1, \"flipper_length_mm\": 191.0, \"body_mass_g\": 3050.0, \"sex\": \"female\", \"year\": 2009}, {\"species\": \"Adelie\", \"island\": \"Torgersen\", \"bill_length_mm\": 44.1, \"bill_depth_mm\": 18.0, \"flipper_length_mm\": 210.0, \"body_mass_g\": 4000.0, \"sex\": \"male\", \"year\": 2009}, {\"species\": \"Adelie\", \"island\": \"Torgersen\", \"bill_length_mm\": 38.5, \"bill_depth_mm\": 17.9, \"flipper_length_mm\": 190.0, \"body_mass_g\": 3325.0, \"sex\": \"female\", \"year\": 2009}, {\"species\": \"Adelie\", \"island\": \"Torgersen\", \"bill_length_mm\": 43.1, \"bill_depth_mm\": 19.2, \"flipper_length_mm\": 197.0, \"body_mass_g\": 3500.0, \"sex\": \"male\", \"year\": 2009}, {\"species\": \"Adelie\", \"island\": \"Dream\", \"bill_length_mm\": 36.8, \"bill_depth_mm\": 18.5, \"flipper_length_mm\": 193.0, \"body_mass_g\": 3500.0, \"sex\": \"female\", \"year\": 2009}, {\"species\": \"Adelie\", \"island\": \"Dream\", \"bill_length_mm\": 37.5, \"bill_depth_mm\": 18.5, \"flipper_length_mm\": 199.0, \"body_mass_g\": 4475.0, \"sex\": \"male\", \"year\": 2009}, {\"species\": \"Adelie\", \"island\": \"Dream\", \"bill_length_mm\": 38.1, \"bill_depth_mm\": 17.6, \"flipper_length_mm\": 187.0, \"body_mass_g\": 3425.0, \"sex\": \"female\", \"year\": 2009}, {\"species\": \"Adelie\", \"island\": \"Dream\", \"bill_length_mm\": 41.1, \"bill_depth_mm\": 17.5, \"flipper_length_mm\": 190.0, \"body_mass_g\": 3900.0, \"sex\": \"male\", \"year\": 2009}, {\"species\": \"Adelie\", \"island\": \"Dream\", \"bill_length_mm\": 35.6, \"bill_depth_mm\": 17.5, \"flipper_length_mm\": 191.0, \"body_mass_g\": 3175.0, \"sex\": \"female\", \"year\": 2009}, {\"species\": \"Adelie\", \"island\": \"Dream\", \"bill_length_mm\": 40.2, \"bill_depth_mm\": 20.1, \"flipper_length_mm\": 200.0, \"body_mass_g\": 3975.0, \"sex\": \"male\", \"year\": 2009}, {\"species\": \"Adelie\", \"island\": \"Dream\", \"bill_length_mm\": 37.0, \"bill_depth_mm\": 16.5, \"flipper_length_mm\": 185.0, \"body_mass_g\": 3400.0, \"sex\": \"female\", \"year\": 2009}, {\"species\": \"Adelie\", \"island\": \"Dream\", \"bill_length_mm\": 39.7, \"bill_depth_mm\": 17.9, \"flipper_length_mm\": 193.0, \"body_mass_g\": 4250.0, \"sex\": \"male\", \"year\": 2009}, {\"species\": \"Adelie\", \"island\": \"Dream\", \"bill_length_mm\": 40.2, \"bill_depth_mm\": 17.1, \"flipper_length_mm\": 193.0, \"body_mass_g\": 3400.0, \"sex\": \"female\", \"year\": 2009}, {\"species\": \"Adelie\", \"island\": \"Dream\", \"bill_length_mm\": 40.6, \"bill_depth_mm\": 17.2, \"flipper_length_mm\": 187.0, \"body_mass_g\": 3475.0, \"sex\": \"male\", \"year\": 2009}, {\"species\": \"Adelie\", \"island\": \"Dream\", \"bill_length_mm\": 32.1, \"bill_depth_mm\": 15.5, \"flipper_length_mm\": 188.0, \"body_mass_g\": 3050.0, \"sex\": \"female\", \"year\": 2009}, {\"species\": \"Adelie\", \"island\": \"Dream\", \"bill_length_mm\": 40.7, \"bill_depth_mm\": 17.0, \"flipper_length_mm\": 190.0, \"body_mass_g\": 3725.0, \"sex\": \"male\", \"year\": 2009}, {\"species\": \"Adelie\", \"island\": \"Dream\", \"bill_length_mm\": 37.3, \"bill_depth_mm\": 16.8, \"flipper_length_mm\": 192.0, \"body_mass_g\": 3000.0, \"sex\": \"female\", \"year\": 2009}, {\"species\": \"Adelie\", \"island\": \"Dream\", \"bill_length_mm\": 39.0, \"bill_depth_mm\": 18.7, \"flipper_length_mm\": 185.0, \"body_mass_g\": 3650.0, \"sex\": \"male\", \"year\": 2009}, {\"species\": \"Adelie\", \"island\": \"Dream\", \"bill_length_mm\": 39.2, \"bill_depth_mm\": 18.6, \"flipper_length_mm\": 190.0, \"body_mass_g\": 4250.0, \"sex\": \"male\", \"year\": 2009}, {\"species\": \"Adelie\", \"island\": \"Dream\", \"bill_length_mm\": 36.6, \"bill_depth_mm\": 18.4, \"flipper_length_mm\": 184.0, \"body_mass_g\": 3475.0, \"sex\": \"female\", \"year\": 2009}, {\"species\": \"Adelie\", \"island\": \"Dream\", \"bill_length_mm\": 36.0, \"bill_depth_mm\": 17.8, \"flipper_length_mm\": 195.0, \"body_mass_g\": 3450.0, \"sex\": \"female\", \"year\": 2009}, {\"species\": \"Adelie\", \"island\": \"Dream\", \"bill_length_mm\": 37.8, \"bill_depth_mm\": 18.1, \"flipper_length_mm\": 193.0, \"body_mass_g\": 3750.0, \"sex\": \"male\", \"year\": 2009}, {\"species\": \"Adelie\", \"island\": \"Dream\", \"bill_length_mm\": 36.0, \"bill_depth_mm\": 17.1, \"flipper_length_mm\": 187.0, \"body_mass_g\": 3700.0, \"sex\": \"female\", \"year\": 2009}, {\"species\": \"Adelie\", \"island\": \"Dream\", \"bill_length_mm\": 41.5, \"bill_depth_mm\": 18.5, \"flipper_length_mm\": 201.0, \"body_mass_g\": 4000.0, \"sex\": \"male\", \"year\": 2009}, {\"species\": \"Gentoo\", \"island\": \"Biscoe\", \"bill_length_mm\": 46.1, \"bill_depth_mm\": 13.2, \"flipper_length_mm\": 211.0, \"body_mass_g\": 4500.0, \"sex\": \"female\", \"year\": 2007}, {\"species\": \"Gentoo\", \"island\": \"Biscoe\", \"bill_length_mm\": 50.0, \"bill_depth_mm\": 16.3, \"flipper_length_mm\": 230.0, \"body_mass_g\": 5700.0, \"sex\": \"male\", \"year\": 2007}, {\"species\": \"Gentoo\", \"island\": \"Biscoe\", \"bill_length_mm\": 48.7, \"bill_depth_mm\": 14.1, \"flipper_length_mm\": 210.0, \"body_mass_g\": 4450.0, \"sex\": \"female\", \"year\": 2007}, {\"species\": \"Gentoo\", \"island\": \"Biscoe\", \"bill_length_mm\": 50.0, \"bill_depth_mm\": 15.2, \"flipper_length_mm\": 218.0, \"body_mass_g\": 5700.0, \"sex\": \"male\", \"year\": 2007}, {\"species\": \"Gentoo\", \"island\": \"Biscoe\", \"bill_length_mm\": 47.6, \"bill_depth_mm\": 14.5, \"flipper_length_mm\": 215.0, \"body_mass_g\": 5400.0, \"sex\": \"male\", \"year\": 2007}, {\"species\": \"Gentoo\", \"island\": \"Biscoe\", \"bill_length_mm\": 46.5, \"bill_depth_mm\": 13.5, \"flipper_length_mm\": 210.0, \"body_mass_g\": 4550.0, \"sex\": \"female\", \"year\": 2007}, {\"species\": \"Gentoo\", \"island\": \"Biscoe\", \"bill_length_mm\": 45.4, \"bill_depth_mm\": 14.6, \"flipper_length_mm\": 211.0, \"body_mass_g\": 4800.0, \"sex\": \"female\", \"year\": 2007}, {\"species\": \"Gentoo\", \"island\": \"Biscoe\", \"bill_length_mm\": 46.7, \"bill_depth_mm\": 15.3, \"flipper_length_mm\": 219.0, \"body_mass_g\": 5200.0, \"sex\": \"male\", \"year\": 2007}, {\"species\": \"Gentoo\", \"island\": \"Biscoe\", \"bill_length_mm\": 43.3, \"bill_depth_mm\": 13.4, \"flipper_length_mm\": 209.0, \"body_mass_g\": 4400.0, \"sex\": \"female\", \"year\": 2007}, {\"species\": \"Gentoo\", \"island\": \"Biscoe\", \"bill_length_mm\": 46.8, \"bill_depth_mm\": 15.4, \"flipper_length_mm\": 215.0, \"body_mass_g\": 5150.0, \"sex\": \"male\", \"year\": 2007}, {\"species\": \"Gentoo\", \"island\": \"Biscoe\", \"bill_length_mm\": 40.9, \"bill_depth_mm\": 13.7, \"flipper_length_mm\": 214.0, \"body_mass_g\": 4650.0, \"sex\": \"female\", \"year\": 2007}, {\"species\": \"Gentoo\", \"island\": \"Biscoe\", \"bill_length_mm\": 49.0, \"bill_depth_mm\": 16.1, \"flipper_length_mm\": 216.0, \"body_mass_g\": 5550.0, \"sex\": \"male\", \"year\": 2007}, {\"species\": \"Gentoo\", \"island\": \"Biscoe\", \"bill_length_mm\": 45.5, \"bill_depth_mm\": 13.7, \"flipper_length_mm\": 214.0, \"body_mass_g\": 4650.0, \"sex\": \"female\", \"year\": 2007}, {\"species\": \"Gentoo\", \"island\": \"Biscoe\", \"bill_length_mm\": 48.4, \"bill_depth_mm\": 14.6, \"flipper_length_mm\": 213.0, \"body_mass_g\": 5850.0, \"sex\": \"male\", \"year\": 2007}, {\"species\": \"Gentoo\", \"island\": \"Biscoe\", \"bill_length_mm\": 45.8, \"bill_depth_mm\": 14.6, \"flipper_length_mm\": 210.0, \"body_mass_g\": 4200.0, \"sex\": \"female\", \"year\": 2007}, {\"species\": \"Gentoo\", \"island\": \"Biscoe\", \"bill_length_mm\": 49.3, \"bill_depth_mm\": 15.7, \"flipper_length_mm\": 217.0, \"body_mass_g\": 5850.0, \"sex\": \"male\", \"year\": 2007}, {\"species\": \"Gentoo\", \"island\": \"Biscoe\", \"bill_length_mm\": 42.0, \"bill_depth_mm\": 13.5, \"flipper_length_mm\": 210.0, \"body_mass_g\": 4150.0, \"sex\": \"female\", \"year\": 2007}, {\"species\": \"Gentoo\", \"island\": \"Biscoe\", \"bill_length_mm\": 49.2, \"bill_depth_mm\": 15.2, \"flipper_length_mm\": 221.0, \"body_mass_g\": 6300.0, \"sex\": \"male\", \"year\": 2007}, {\"species\": \"Gentoo\", \"island\": \"Biscoe\", \"bill_length_mm\": 46.2, \"bill_depth_mm\": 14.5, \"flipper_length_mm\": 209.0, \"body_mass_g\": 4800.0, \"sex\": \"female\", \"year\": 2007}, {\"species\": \"Gentoo\", \"island\": \"Biscoe\", \"bill_length_mm\": 48.7, \"bill_depth_mm\": 15.1, \"flipper_length_mm\": 222.0, \"body_mass_g\": 5350.0, \"sex\": \"male\", \"year\": 2007}, {\"species\": \"Gentoo\", \"island\": \"Biscoe\", \"bill_length_mm\": 50.2, \"bill_depth_mm\": 14.3, \"flipper_length_mm\": 218.0, \"body_mass_g\": 5700.0, \"sex\": \"male\", \"year\": 2007}, {\"species\": \"Gentoo\", \"island\": \"Biscoe\", \"bill_length_mm\": 45.1, \"bill_depth_mm\": 14.5, \"flipper_length_mm\": 215.0, \"body_mass_g\": 5000.0, \"sex\": \"female\", \"year\": 2007}, {\"species\": \"Gentoo\", \"island\": \"Biscoe\", \"bill_length_mm\": 46.5, \"bill_depth_mm\": 14.5, \"flipper_length_mm\": 213.0, \"body_mass_g\": 4400.0, \"sex\": \"female\", \"year\": 2007}, {\"species\": \"Gentoo\", \"island\": \"Biscoe\", \"bill_length_mm\": 46.3, \"bill_depth_mm\": 15.8, \"flipper_length_mm\": 215.0, \"body_mass_g\": 5050.0, \"sex\": \"male\", \"year\": 2007}, {\"species\": \"Gentoo\", \"island\": \"Biscoe\", \"bill_length_mm\": 42.9, \"bill_depth_mm\": 13.1, \"flipper_length_mm\": 215.0, \"body_mass_g\": 5000.0, \"sex\": \"female\", \"year\": 2007}, {\"species\": \"Gentoo\", \"island\": \"Biscoe\", \"bill_length_mm\": 46.1, \"bill_depth_mm\": 15.1, \"flipper_length_mm\": 215.0, \"body_mass_g\": 5100.0, \"sex\": \"male\", \"year\": 2007}, {\"species\": \"Gentoo\", \"island\": \"Biscoe\", \"bill_length_mm\": 44.5, \"bill_depth_mm\": 14.3, \"flipper_length_mm\": 216.0, \"body_mass_g\": 4100.0, \"sex\": null, \"year\": 2007}, {\"species\": \"Gentoo\", \"island\": \"Biscoe\", \"bill_length_mm\": 47.8, \"bill_depth_mm\": 15.0, \"flipper_length_mm\": 215.0, \"body_mass_g\": 5650.0, \"sex\": \"male\", \"year\": 2007}, {\"species\": \"Gentoo\", \"island\": \"Biscoe\", \"bill_length_mm\": 48.2, \"bill_depth_mm\": 14.3, \"flipper_length_mm\": 210.0, \"body_mass_g\": 4600.0, \"sex\": \"female\", \"year\": 2007}, {\"species\": \"Gentoo\", \"island\": \"Biscoe\", \"bill_length_mm\": 50.0, \"bill_depth_mm\": 15.3, \"flipper_length_mm\": 220.0, \"body_mass_g\": 5550.0, \"sex\": \"male\", \"year\": 2007}, {\"species\": \"Gentoo\", \"island\": \"Biscoe\", \"bill_length_mm\": 47.3, \"bill_depth_mm\": 15.3, \"flipper_length_mm\": 222.0, \"body_mass_g\": 5250.0, \"sex\": \"male\", \"year\": 2007}, {\"species\": \"Gentoo\", \"island\": \"Biscoe\", \"bill_length_mm\": 42.8, \"bill_depth_mm\": 14.2, \"flipper_length_mm\": 209.0, \"body_mass_g\": 4700.0, \"sex\": \"female\", \"year\": 2007}, {\"species\": \"Gentoo\", \"island\": \"Biscoe\", \"bill_length_mm\": 45.1, \"bill_depth_mm\": 14.5, \"flipper_length_mm\": 207.0, \"body_mass_g\": 5050.0, \"sex\": \"female\", \"year\": 2007}, {\"species\": \"Gentoo\", \"island\": \"Biscoe\", \"bill_length_mm\": 59.6, \"bill_depth_mm\": 17.0, \"flipper_length_mm\": 230.0, \"body_mass_g\": 6050.0, \"sex\": \"male\", \"year\": 2007}, {\"species\": \"Gentoo\", \"island\": \"Biscoe\", \"bill_length_mm\": 49.1, \"bill_depth_mm\": 14.8, \"flipper_length_mm\": 220.0, \"body_mass_g\": 5150.0, \"sex\": \"female\", \"year\": 2008}, {\"species\": \"Gentoo\", \"island\": \"Biscoe\", \"bill_length_mm\": 48.4, \"bill_depth_mm\": 16.3, \"flipper_length_mm\": 220.0, \"body_mass_g\": 5400.0, \"sex\": \"male\", \"year\": 2008}, {\"species\": \"Gentoo\", \"island\": \"Biscoe\", \"bill_length_mm\": 42.6, \"bill_depth_mm\": 13.7, \"flipper_length_mm\": 213.0, \"body_mass_g\": 4950.0, \"sex\": \"female\", \"year\": 2008}, {\"species\": \"Gentoo\", \"island\": \"Biscoe\", \"bill_length_mm\": 44.4, \"bill_depth_mm\": 17.3, \"flipper_length_mm\": 219.0, \"body_mass_g\": 5250.0, \"sex\": \"male\", \"year\": 2008}, {\"species\": \"Gentoo\", \"island\": \"Biscoe\", \"bill_length_mm\": 44.0, \"bill_depth_mm\": 13.6, \"flipper_length_mm\": 208.0, \"body_mass_g\": 4350.0, \"sex\": \"female\", \"year\": 2008}, {\"species\": \"Gentoo\", \"island\": \"Biscoe\", \"bill_length_mm\": 48.7, \"bill_depth_mm\": 15.7, \"flipper_length_mm\": 208.0, \"body_mass_g\": 5350.0, \"sex\": \"male\", \"year\": 2008}, {\"species\": \"Gentoo\", \"island\": \"Biscoe\", \"bill_length_mm\": 42.7, \"bill_depth_mm\": 13.7, \"flipper_length_mm\": 208.0, \"body_mass_g\": 3950.0, \"sex\": \"female\", \"year\": 2008}, {\"species\": \"Gentoo\", \"island\": \"Biscoe\", \"bill_length_mm\": 49.6, \"bill_depth_mm\": 16.0, \"flipper_length_mm\": 225.0, \"body_mass_g\": 5700.0, \"sex\": \"male\", \"year\": 2008}, {\"species\": \"Gentoo\", \"island\": \"Biscoe\", \"bill_length_mm\": 45.3, \"bill_depth_mm\": 13.7, \"flipper_length_mm\": 210.0, \"body_mass_g\": 4300.0, \"sex\": \"female\", \"year\": 2008}, {\"species\": \"Gentoo\", \"island\": \"Biscoe\", \"bill_length_mm\": 49.6, \"bill_depth_mm\": 15.0, \"flipper_length_mm\": 216.0, \"body_mass_g\": 4750.0, \"sex\": \"male\", \"year\": 2008}, {\"species\": \"Gentoo\", \"island\": \"Biscoe\", \"bill_length_mm\": 50.5, \"bill_depth_mm\": 15.9, \"flipper_length_mm\": 222.0, \"body_mass_g\": 5550.0, \"sex\": \"male\", \"year\": 2008}, {\"species\": \"Gentoo\", \"island\": \"Biscoe\", \"bill_length_mm\": 43.6, \"bill_depth_mm\": 13.9, \"flipper_length_mm\": 217.0, \"body_mass_g\": 4900.0, \"sex\": \"female\", \"year\": 2008}, {\"species\": \"Gentoo\", \"island\": \"Biscoe\", \"bill_length_mm\": 45.5, \"bill_depth_mm\": 13.9, \"flipper_length_mm\": 210.0, \"body_mass_g\": 4200.0, \"sex\": \"female\", \"year\": 2008}, {\"species\": \"Gentoo\", \"island\": \"Biscoe\", \"bill_length_mm\": 50.5, \"bill_depth_mm\": 15.9, \"flipper_length_mm\": 225.0, \"body_mass_g\": 5400.0, \"sex\": \"male\", \"year\": 2008}, {\"species\": \"Gentoo\", \"island\": \"Biscoe\", \"bill_length_mm\": 44.9, \"bill_depth_mm\": 13.3, \"flipper_length_mm\": 213.0, \"body_mass_g\": 5100.0, \"sex\": \"female\", \"year\": 2008}, {\"species\": \"Gentoo\", \"island\": \"Biscoe\", \"bill_length_mm\": 45.2, \"bill_depth_mm\": 15.8, \"flipper_length_mm\": 215.0, \"body_mass_g\": 5300.0, \"sex\": \"male\", \"year\": 2008}, {\"species\": \"Gentoo\", \"island\": \"Biscoe\", \"bill_length_mm\": 46.6, \"bill_depth_mm\": 14.2, \"flipper_length_mm\": 210.0, \"body_mass_g\": 4850.0, \"sex\": \"female\", \"year\": 2008}, {\"species\": \"Gentoo\", \"island\": \"Biscoe\", \"bill_length_mm\": 48.5, \"bill_depth_mm\": 14.1, \"flipper_length_mm\": 220.0, \"body_mass_g\": 5300.0, \"sex\": \"male\", \"year\": 2008}, {\"species\": \"Gentoo\", \"island\": \"Biscoe\", \"bill_length_mm\": 45.1, \"bill_depth_mm\": 14.4, \"flipper_length_mm\": 210.0, \"body_mass_g\": 4400.0, \"sex\": \"female\", \"year\": 2008}, {\"species\": \"Gentoo\", \"island\": \"Biscoe\", \"bill_length_mm\": 50.1, \"bill_depth_mm\": 15.0, \"flipper_length_mm\": 225.0, \"body_mass_g\": 5000.0, \"sex\": \"male\", \"year\": 2008}, {\"species\": \"Gentoo\", \"island\": \"Biscoe\", \"bill_length_mm\": 46.5, \"bill_depth_mm\": 14.4, \"flipper_length_mm\": 217.0, \"body_mass_g\": 4900.0, \"sex\": \"female\", \"year\": 2008}, {\"species\": \"Gentoo\", \"island\": \"Biscoe\", \"bill_length_mm\": 45.0, \"bill_depth_mm\": 15.4, \"flipper_length_mm\": 220.0, \"body_mass_g\": 5050.0, \"sex\": \"male\", \"year\": 2008}, {\"species\": \"Gentoo\", \"island\": \"Biscoe\", \"bill_length_mm\": 43.8, \"bill_depth_mm\": 13.9, \"flipper_length_mm\": 208.0, \"body_mass_g\": 4300.0, \"sex\": \"female\", \"year\": 2008}, {\"species\": \"Gentoo\", \"island\": \"Biscoe\", \"bill_length_mm\": 45.5, \"bill_depth_mm\": 15.0, \"flipper_length_mm\": 220.0, \"body_mass_g\": 5000.0, \"sex\": \"male\", \"year\": 2008}, {\"species\": \"Gentoo\", \"island\": \"Biscoe\", \"bill_length_mm\": 43.2, \"bill_depth_mm\": 14.5, \"flipper_length_mm\": 208.0, \"body_mass_g\": 4450.0, \"sex\": \"female\", \"year\": 2008}, {\"species\": \"Gentoo\", \"island\": \"Biscoe\", \"bill_length_mm\": 50.4, \"bill_depth_mm\": 15.3, \"flipper_length_mm\": 224.0, \"body_mass_g\": 5550.0, \"sex\": \"male\", \"year\": 2008}, {\"species\": \"Gentoo\", \"island\": \"Biscoe\", \"bill_length_mm\": 45.3, \"bill_depth_mm\": 13.8, \"flipper_length_mm\": 208.0, \"body_mass_g\": 4200.0, \"sex\": \"female\", \"year\": 2008}, {\"species\": \"Gentoo\", \"island\": \"Biscoe\", \"bill_length_mm\": 46.2, \"bill_depth_mm\": 14.9, \"flipper_length_mm\": 221.0, \"body_mass_g\": 5300.0, \"sex\": \"male\", \"year\": 2008}, {\"species\": \"Gentoo\", \"island\": \"Biscoe\", \"bill_length_mm\": 45.7, \"bill_depth_mm\": 13.9, \"flipper_length_mm\": 214.0, \"body_mass_g\": 4400.0, \"sex\": \"female\", \"year\": 2008}, {\"species\": \"Gentoo\", \"island\": \"Biscoe\", \"bill_length_mm\": 54.3, \"bill_depth_mm\": 15.7, \"flipper_length_mm\": 231.0, \"body_mass_g\": 5650.0, \"sex\": \"male\", \"year\": 2008}, {\"species\": \"Gentoo\", \"island\": \"Biscoe\", \"bill_length_mm\": 45.8, \"bill_depth_mm\": 14.2, \"flipper_length_mm\": 219.0, \"body_mass_g\": 4700.0, \"sex\": \"female\", \"year\": 2008}, {\"species\": \"Gentoo\", \"island\": \"Biscoe\", \"bill_length_mm\": 49.8, \"bill_depth_mm\": 16.8, \"flipper_length_mm\": 230.0, \"body_mass_g\": 5700.0, \"sex\": \"male\", \"year\": 2008}, {\"species\": \"Gentoo\", \"island\": \"Biscoe\", \"bill_length_mm\": 46.2, \"bill_depth_mm\": 14.4, \"flipper_length_mm\": 214.0, \"body_mass_g\": 4650.0, \"sex\": null, \"year\": 2008}, {\"species\": \"Gentoo\", \"island\": \"Biscoe\", \"bill_length_mm\": 49.5, \"bill_depth_mm\": 16.2, \"flipper_length_mm\": 229.0, \"body_mass_g\": 5800.0, \"sex\": \"male\", \"year\": 2008}, {\"species\": \"Gentoo\", \"island\": \"Biscoe\", \"bill_length_mm\": 43.5, \"bill_depth_mm\": 14.2, \"flipper_length_mm\": 220.0, \"body_mass_g\": 4700.0, \"sex\": \"female\", \"year\": 2008}, {\"species\": \"Gentoo\", \"island\": \"Biscoe\", \"bill_length_mm\": 50.7, \"bill_depth_mm\": 15.0, \"flipper_length_mm\": 223.0, \"body_mass_g\": 5550.0, \"sex\": \"male\", \"year\": 2008}, {\"species\": \"Gentoo\", \"island\": \"Biscoe\", \"bill_length_mm\": 47.7, \"bill_depth_mm\": 15.0, \"flipper_length_mm\": 216.0, \"body_mass_g\": 4750.0, \"sex\": \"female\", \"year\": 2008}, {\"species\": \"Gentoo\", \"island\": \"Biscoe\", \"bill_length_mm\": 46.4, \"bill_depth_mm\": 15.6, \"flipper_length_mm\": 221.0, \"body_mass_g\": 5000.0, \"sex\": \"male\", \"year\": 2008}, {\"species\": \"Gentoo\", \"island\": \"Biscoe\", \"bill_length_mm\": 48.2, \"bill_depth_mm\": 15.6, \"flipper_length_mm\": 221.0, \"body_mass_g\": 5100.0, \"sex\": \"male\", \"year\": 2008}, {\"species\": \"Gentoo\", \"island\": \"Biscoe\", \"bill_length_mm\": 46.5, \"bill_depth_mm\": 14.8, \"flipper_length_mm\": 217.0, \"body_mass_g\": 5200.0, \"sex\": \"female\", \"year\": 2008}, {\"species\": \"Gentoo\", \"island\": \"Biscoe\", \"bill_length_mm\": 46.4, \"bill_depth_mm\": 15.0, \"flipper_length_mm\": 216.0, \"body_mass_g\": 4700.0, \"sex\": \"female\", \"year\": 2008}, {\"species\": \"Gentoo\", \"island\": \"Biscoe\", \"bill_length_mm\": 48.6, \"bill_depth_mm\": 16.0, \"flipper_length_mm\": 230.0, \"body_mass_g\": 5800.0, \"sex\": \"male\", \"year\": 2008}, {\"species\": \"Gentoo\", \"island\": \"Biscoe\", \"bill_length_mm\": 47.5, \"bill_depth_mm\": 14.2, \"flipper_length_mm\": 209.0, \"body_mass_g\": 4600.0, \"sex\": \"female\", \"year\": 2008}, {\"species\": \"Gentoo\", \"island\": \"Biscoe\", \"bill_length_mm\": 51.1, \"bill_depth_mm\": 16.3, \"flipper_length_mm\": 220.0, \"body_mass_g\": 6000.0, \"sex\": \"male\", \"year\": 2008}, {\"species\": \"Gentoo\", \"island\": \"Biscoe\", \"bill_length_mm\": 45.2, \"bill_depth_mm\": 13.8, \"flipper_length_mm\": 215.0, \"body_mass_g\": 4750.0, \"sex\": \"female\", \"year\": 2008}, {\"species\": \"Gentoo\", \"island\": \"Biscoe\", \"bill_length_mm\": 45.2, \"bill_depth_mm\": 16.4, \"flipper_length_mm\": 223.0, \"body_mass_g\": 5950.0, \"sex\": \"male\", \"year\": 2008}, {\"species\": \"Gentoo\", \"island\": \"Biscoe\", \"bill_length_mm\": 49.1, \"bill_depth_mm\": 14.5, \"flipper_length_mm\": 212.0, \"body_mass_g\": 4625.0, \"sex\": \"female\", \"year\": 2009}, {\"species\": \"Gentoo\", \"island\": \"Biscoe\", \"bill_length_mm\": 52.5, \"bill_depth_mm\": 15.6, \"flipper_length_mm\": 221.0, \"body_mass_g\": 5450.0, \"sex\": \"male\", \"year\": 2009}, {\"species\": \"Gentoo\", \"island\": \"Biscoe\", \"bill_length_mm\": 47.4, \"bill_depth_mm\": 14.6, \"flipper_length_mm\": 212.0, \"body_mass_g\": 4725.0, \"sex\": \"female\", \"year\": 2009}, {\"species\": \"Gentoo\", \"island\": \"Biscoe\", \"bill_length_mm\": 50.0, \"bill_depth_mm\": 15.9, \"flipper_length_mm\": 224.0, \"body_mass_g\": 5350.0, \"sex\": \"male\", \"year\": 2009}, {\"species\": \"Gentoo\", \"island\": \"Biscoe\", \"bill_length_mm\": 44.9, \"bill_depth_mm\": 13.8, \"flipper_length_mm\": 212.0, \"body_mass_g\": 4750.0, \"sex\": \"female\", \"year\": 2009}, {\"species\": \"Gentoo\", \"island\": \"Biscoe\", \"bill_length_mm\": 50.8, \"bill_depth_mm\": 17.3, \"flipper_length_mm\": 228.0, \"body_mass_g\": 5600.0, \"sex\": \"male\", \"year\": 2009}, {\"species\": \"Gentoo\", \"island\": \"Biscoe\", \"bill_length_mm\": 43.4, \"bill_depth_mm\": 14.4, \"flipper_length_mm\": 218.0, \"body_mass_g\": 4600.0, \"sex\": \"female\", \"year\": 2009}, {\"species\": \"Gentoo\", \"island\": \"Biscoe\", \"bill_length_mm\": 51.3, \"bill_depth_mm\": 14.2, \"flipper_length_mm\": 218.0, \"body_mass_g\": 5300.0, \"sex\": \"male\", \"year\": 2009}, {\"species\": \"Gentoo\", \"island\": \"Biscoe\", \"bill_length_mm\": 47.5, \"bill_depth_mm\": 14.0, \"flipper_length_mm\": 212.0, \"body_mass_g\": 4875.0, \"sex\": \"female\", \"year\": 2009}, {\"species\": \"Gentoo\", \"island\": \"Biscoe\", \"bill_length_mm\": 52.1, \"bill_depth_mm\": 17.0, \"flipper_length_mm\": 230.0, \"body_mass_g\": 5550.0, \"sex\": \"male\", \"year\": 2009}, {\"species\": \"Gentoo\", \"island\": \"Biscoe\", \"bill_length_mm\": 47.5, \"bill_depth_mm\": 15.0, \"flipper_length_mm\": 218.0, \"body_mass_g\": 4950.0, \"sex\": \"female\", \"year\": 2009}, {\"species\": \"Gentoo\", \"island\": \"Biscoe\", \"bill_length_mm\": 52.2, \"bill_depth_mm\": 17.1, \"flipper_length_mm\": 228.0, \"body_mass_g\": 5400.0, \"sex\": \"male\", \"year\": 2009}, {\"species\": \"Gentoo\", \"island\": \"Biscoe\", \"bill_length_mm\": 45.5, \"bill_depth_mm\": 14.5, \"flipper_length_mm\": 212.0, \"body_mass_g\": 4750.0, \"sex\": \"female\", \"year\": 2009}, {\"species\": \"Gentoo\", \"island\": \"Biscoe\", \"bill_length_mm\": 49.5, \"bill_depth_mm\": 16.1, \"flipper_length_mm\": 224.0, \"body_mass_g\": 5650.0, \"sex\": \"male\", \"year\": 2009}, {\"species\": \"Gentoo\", \"island\": \"Biscoe\", \"bill_length_mm\": 44.5, \"bill_depth_mm\": 14.7, \"flipper_length_mm\": 214.0, \"body_mass_g\": 4850.0, \"sex\": \"female\", \"year\": 2009}, {\"species\": \"Gentoo\", \"island\": \"Biscoe\", \"bill_length_mm\": 50.8, \"bill_depth_mm\": 15.7, \"flipper_length_mm\": 226.0, \"body_mass_g\": 5200.0, \"sex\": \"male\", \"year\": 2009}, {\"species\": \"Gentoo\", \"island\": \"Biscoe\", \"bill_length_mm\": 49.4, \"bill_depth_mm\": 15.8, \"flipper_length_mm\": 216.0, \"body_mass_g\": 4925.0, \"sex\": \"male\", \"year\": 2009}, {\"species\": \"Gentoo\", \"island\": \"Biscoe\", \"bill_length_mm\": 46.9, \"bill_depth_mm\": 14.6, \"flipper_length_mm\": 222.0, \"body_mass_g\": 4875.0, \"sex\": \"female\", \"year\": 2009}, {\"species\": \"Gentoo\", \"island\": \"Biscoe\", \"bill_length_mm\": 48.4, \"bill_depth_mm\": 14.4, \"flipper_length_mm\": 203.0, \"body_mass_g\": 4625.0, \"sex\": \"female\", \"year\": 2009}, {\"species\": \"Gentoo\", \"island\": \"Biscoe\", \"bill_length_mm\": 51.1, \"bill_depth_mm\": 16.5, \"flipper_length_mm\": 225.0, \"body_mass_g\": 5250.0, \"sex\": \"male\", \"year\": 2009}, {\"species\": \"Gentoo\", \"island\": \"Biscoe\", \"bill_length_mm\": 48.5, \"bill_depth_mm\": 15.0, \"flipper_length_mm\": 219.0, \"body_mass_g\": 4850.0, \"sex\": \"female\", \"year\": 2009}, {\"species\": \"Gentoo\", \"island\": \"Biscoe\", \"bill_length_mm\": 55.9, \"bill_depth_mm\": 17.0, \"flipper_length_mm\": 228.0, \"body_mass_g\": 5600.0, \"sex\": \"male\", \"year\": 2009}, {\"species\": \"Gentoo\", \"island\": \"Biscoe\", \"bill_length_mm\": 47.2, \"bill_depth_mm\": 15.5, \"flipper_length_mm\": 215.0, \"body_mass_g\": 4975.0, \"sex\": \"female\", \"year\": 2009}, {\"species\": \"Gentoo\", \"island\": \"Biscoe\", \"bill_length_mm\": 49.1, \"bill_depth_mm\": 15.0, \"flipper_length_mm\": 228.0, \"body_mass_g\": 5500.0, \"sex\": \"male\", \"year\": 2009}, {\"species\": \"Gentoo\", \"island\": \"Biscoe\", \"bill_length_mm\": 47.3, \"bill_depth_mm\": 13.8, \"flipper_length_mm\": 216.0, \"body_mass_g\": 4725.0, \"sex\": null, \"year\": 2009}, {\"species\": \"Gentoo\", \"island\": \"Biscoe\", \"bill_length_mm\": 46.8, \"bill_depth_mm\": 16.1, \"flipper_length_mm\": 215.0, \"body_mass_g\": 5500.0, \"sex\": \"male\", \"year\": 2009}, {\"species\": \"Gentoo\", \"island\": \"Biscoe\", \"bill_length_mm\": 41.7, \"bill_depth_mm\": 14.7, \"flipper_length_mm\": 210.0, \"body_mass_g\": 4700.0, \"sex\": \"female\", \"year\": 2009}, {\"species\": \"Gentoo\", \"island\": \"Biscoe\", \"bill_length_mm\": 53.4, \"bill_depth_mm\": 15.8, \"flipper_length_mm\": 219.0, \"body_mass_g\": 5500.0, \"sex\": \"male\", \"year\": 2009}, {\"species\": \"Gentoo\", \"island\": \"Biscoe\", \"bill_length_mm\": 43.3, \"bill_depth_mm\": 14.0, \"flipper_length_mm\": 208.0, \"body_mass_g\": 4575.0, \"sex\": \"female\", \"year\": 2009}, {\"species\": \"Gentoo\", \"island\": \"Biscoe\", \"bill_length_mm\": 48.1, \"bill_depth_mm\": 15.1, \"flipper_length_mm\": 209.0, \"body_mass_g\": 5500.0, \"sex\": \"male\", \"year\": 2009}, {\"species\": \"Gentoo\", \"island\": \"Biscoe\", \"bill_length_mm\": 50.5, \"bill_depth_mm\": 15.2, \"flipper_length_mm\": 216.0, \"body_mass_g\": 5000.0, \"sex\": \"female\", \"year\": 2009}, {\"species\": \"Gentoo\", \"island\": \"Biscoe\", \"bill_length_mm\": 49.8, \"bill_depth_mm\": 15.9, \"flipper_length_mm\": 229.0, \"body_mass_g\": 5950.0, \"sex\": \"male\", \"year\": 2009}, {\"species\": \"Gentoo\", \"island\": \"Biscoe\", \"bill_length_mm\": 43.5, \"bill_depth_mm\": 15.2, \"flipper_length_mm\": 213.0, \"body_mass_g\": 4650.0, \"sex\": \"female\", \"year\": 2009}, {\"species\": \"Gentoo\", \"island\": \"Biscoe\", \"bill_length_mm\": 51.5, \"bill_depth_mm\": 16.3, \"flipper_length_mm\": 230.0, \"body_mass_g\": 5500.0, \"sex\": \"male\", \"year\": 2009}, {\"species\": \"Gentoo\", \"island\": \"Biscoe\", \"bill_length_mm\": 46.2, \"bill_depth_mm\": 14.1, \"flipper_length_mm\": 217.0, \"body_mass_g\": 4375.0, \"sex\": \"female\", \"year\": 2009}, {\"species\": \"Gentoo\", \"island\": \"Biscoe\", \"bill_length_mm\": 55.1, \"bill_depth_mm\": 16.0, \"flipper_length_mm\": 230.0, \"body_mass_g\": 5850.0, \"sex\": \"male\", \"year\": 2009}, {\"species\": \"Gentoo\", \"island\": \"Biscoe\", \"bill_length_mm\": 44.5, \"bill_depth_mm\": 15.7, \"flipper_length_mm\": 217.0, \"body_mass_g\": 4875.0, \"sex\": null, \"year\": 2009}, {\"species\": \"Gentoo\", \"island\": \"Biscoe\", \"bill_length_mm\": 48.8, \"bill_depth_mm\": 16.2, \"flipper_length_mm\": 222.0, \"body_mass_g\": 6000.0, \"sex\": \"male\", \"year\": 2009}, {\"species\": \"Gentoo\", \"island\": \"Biscoe\", \"bill_length_mm\": 47.2, \"bill_depth_mm\": 13.7, \"flipper_length_mm\": 214.0, \"body_mass_g\": 4925.0, \"sex\": \"female\", \"year\": 2009}, {\"species\": \"Gentoo\", \"island\": \"Biscoe\", \"bill_length_mm\": null, \"bill_depth_mm\": null, \"flipper_length_mm\": null, \"body_mass_g\": null, \"sex\": null, \"year\": 2009}, {\"species\": \"Gentoo\", \"island\": \"Biscoe\", \"bill_length_mm\": 46.8, \"bill_depth_mm\": 14.3, \"flipper_length_mm\": 215.0, \"body_mass_g\": 4850.0, \"sex\": \"female\", \"year\": 2009}, {\"species\": \"Gentoo\", \"island\": \"Biscoe\", \"bill_length_mm\": 50.4, \"bill_depth_mm\": 15.7, \"flipper_length_mm\": 222.0, \"body_mass_g\": 5750.0, \"sex\": \"male\", \"year\": 2009}, {\"species\": \"Gentoo\", \"island\": \"Biscoe\", \"bill_length_mm\": 45.2, \"bill_depth_mm\": 14.8, \"flipper_length_mm\": 212.0, \"body_mass_g\": 5200.0, \"sex\": \"female\", \"year\": 2009}, {\"species\": \"Gentoo\", \"island\": \"Biscoe\", \"bill_length_mm\": 49.9, \"bill_depth_mm\": 16.1, \"flipper_length_mm\": 213.0, \"body_mass_g\": 5400.0, \"sex\": \"male\", \"year\": 2009}, {\"species\": \"Chinstrap\", \"island\": \"Dream\", \"bill_length_mm\": 46.5, \"bill_depth_mm\": 17.9, \"flipper_length_mm\": 192.0, \"body_mass_g\": 3500.0, \"sex\": \"female\", \"year\": 2007}, {\"species\": \"Chinstrap\", \"island\": \"Dream\", \"bill_length_mm\": 50.0, \"bill_depth_mm\": 19.5, \"flipper_length_mm\": 196.0, \"body_mass_g\": 3900.0, \"sex\": \"male\", \"year\": 2007}, {\"species\": \"Chinstrap\", \"island\": \"Dream\", \"bill_length_mm\": 51.3, \"bill_depth_mm\": 19.2, \"flipper_length_mm\": 193.0, \"body_mass_g\": 3650.0, \"sex\": \"male\", \"year\": 2007}, {\"species\": \"Chinstrap\", \"island\": \"Dream\", \"bill_length_mm\": 45.4, \"bill_depth_mm\": 18.7, \"flipper_length_mm\": 188.0, \"body_mass_g\": 3525.0, \"sex\": \"female\", \"year\": 2007}, {\"species\": \"Chinstrap\", \"island\": \"Dream\", \"bill_length_mm\": 52.7, \"bill_depth_mm\": 19.8, \"flipper_length_mm\": 197.0, \"body_mass_g\": 3725.0, \"sex\": \"male\", \"year\": 2007}, {\"species\": \"Chinstrap\", \"island\": \"Dream\", \"bill_length_mm\": 45.2, \"bill_depth_mm\": 17.8, \"flipper_length_mm\": 198.0, \"body_mass_g\": 3950.0, \"sex\": \"female\", \"year\": 2007}, {\"species\": \"Chinstrap\", \"island\": \"Dream\", \"bill_length_mm\": 46.1, \"bill_depth_mm\": 18.2, \"flipper_length_mm\": 178.0, \"body_mass_g\": 3250.0, \"sex\": \"female\", \"year\": 2007}, {\"species\": \"Chinstrap\", \"island\": \"Dream\", \"bill_length_mm\": 51.3, \"bill_depth_mm\": 18.2, \"flipper_length_mm\": 197.0, \"body_mass_g\": 3750.0, \"sex\": \"male\", \"year\": 2007}, {\"species\": \"Chinstrap\", \"island\": \"Dream\", \"bill_length_mm\": 46.0, \"bill_depth_mm\": 18.9, \"flipper_length_mm\": 195.0, \"body_mass_g\": 4150.0, \"sex\": \"female\", \"year\": 2007}, {\"species\": \"Chinstrap\", \"island\": \"Dream\", \"bill_length_mm\": 51.3, \"bill_depth_mm\": 19.9, \"flipper_length_mm\": 198.0, \"body_mass_g\": 3700.0, \"sex\": \"male\", \"year\": 2007}, {\"species\": \"Chinstrap\", \"island\": \"Dream\", \"bill_length_mm\": 46.6, \"bill_depth_mm\": 17.8, \"flipper_length_mm\": 193.0, \"body_mass_g\": 3800.0, \"sex\": \"female\", \"year\": 2007}, {\"species\": \"Chinstrap\", \"island\": \"Dream\", \"bill_length_mm\": 51.7, \"bill_depth_mm\": 20.3, \"flipper_length_mm\": 194.0, \"body_mass_g\": 3775.0, \"sex\": \"male\", \"year\": 2007}, {\"species\": \"Chinstrap\", \"island\": \"Dream\", \"bill_length_mm\": 47.0, \"bill_depth_mm\": 17.3, \"flipper_length_mm\": 185.0, \"body_mass_g\": 3700.0, \"sex\": \"female\", \"year\": 2007}, {\"species\": \"Chinstrap\", \"island\": \"Dream\", \"bill_length_mm\": 52.0, \"bill_depth_mm\": 18.1, \"flipper_length_mm\": 201.0, \"body_mass_g\": 4050.0, \"sex\": \"male\", \"year\": 2007}, {\"species\": \"Chinstrap\", \"island\": \"Dream\", \"bill_length_mm\": 45.9, \"bill_depth_mm\": 17.1, \"flipper_length_mm\": 190.0, \"body_mass_g\": 3575.0, \"sex\": \"female\", \"year\": 2007}, {\"species\": \"Chinstrap\", \"island\": \"Dream\", \"bill_length_mm\": 50.5, \"bill_depth_mm\": 19.6, \"flipper_length_mm\": 201.0, \"body_mass_g\": 4050.0, \"sex\": \"male\", \"year\": 2007}, {\"species\": \"Chinstrap\", \"island\": \"Dream\", \"bill_length_mm\": 50.3, \"bill_depth_mm\": 20.0, \"flipper_length_mm\": 197.0, \"body_mass_g\": 3300.0, \"sex\": \"male\", \"year\": 2007}, {\"species\": \"Chinstrap\", \"island\": \"Dream\", \"bill_length_mm\": 58.0, \"bill_depth_mm\": 17.8, \"flipper_length_mm\": 181.0, \"body_mass_g\": 3700.0, \"sex\": \"female\", \"year\": 2007}, {\"species\": \"Chinstrap\", \"island\": \"Dream\", \"bill_length_mm\": 46.4, \"bill_depth_mm\": 18.6, \"flipper_length_mm\": 190.0, \"body_mass_g\": 3450.0, \"sex\": \"female\", \"year\": 2007}, {\"species\": \"Chinstrap\", \"island\": \"Dream\", \"bill_length_mm\": 49.2, \"bill_depth_mm\": 18.2, \"flipper_length_mm\": 195.0, \"body_mass_g\": 4400.0, \"sex\": \"male\", \"year\": 2007}, {\"species\": \"Chinstrap\", \"island\": \"Dream\", \"bill_length_mm\": 42.4, \"bill_depth_mm\": 17.3, \"flipper_length_mm\": 181.0, \"body_mass_g\": 3600.0, \"sex\": \"female\", \"year\": 2007}, {\"species\": \"Chinstrap\", \"island\": \"Dream\", \"bill_length_mm\": 48.5, \"bill_depth_mm\": 17.5, \"flipper_length_mm\": 191.0, \"body_mass_g\": 3400.0, \"sex\": \"male\", \"year\": 2007}, {\"species\": \"Chinstrap\", \"island\": \"Dream\", \"bill_length_mm\": 43.2, \"bill_depth_mm\": 16.6, \"flipper_length_mm\": 187.0, \"body_mass_g\": 2900.0, \"sex\": \"female\", \"year\": 2007}, {\"species\": \"Chinstrap\", \"island\": \"Dream\", \"bill_length_mm\": 50.6, \"bill_depth_mm\": 19.4, \"flipper_length_mm\": 193.0, \"body_mass_g\": 3800.0, \"sex\": \"male\", \"year\": 2007}, {\"species\": \"Chinstrap\", \"island\": \"Dream\", \"bill_length_mm\": 46.7, \"bill_depth_mm\": 17.9, \"flipper_length_mm\": 195.0, \"body_mass_g\": 3300.0, \"sex\": \"female\", \"year\": 2007}, {\"species\": \"Chinstrap\", \"island\": \"Dream\", \"bill_length_mm\": 52.0, \"bill_depth_mm\": 19.0, \"flipper_length_mm\": 197.0, \"body_mass_g\": 4150.0, \"sex\": \"male\", \"year\": 2007}, {\"species\": \"Chinstrap\", \"island\": \"Dream\", \"bill_length_mm\": 50.5, \"bill_depth_mm\": 18.4, \"flipper_length_mm\": 200.0, \"body_mass_g\": 3400.0, \"sex\": \"female\", \"year\": 2008}, {\"species\": \"Chinstrap\", \"island\": \"Dream\", \"bill_length_mm\": 49.5, \"bill_depth_mm\": 19.0, \"flipper_length_mm\": 200.0, \"body_mass_g\": 3800.0, \"sex\": \"male\", \"year\": 2008}, {\"species\": \"Chinstrap\", \"island\": \"Dream\", \"bill_length_mm\": 46.4, \"bill_depth_mm\": 17.8, \"flipper_length_mm\": 191.0, \"body_mass_g\": 3700.0, \"sex\": \"female\", \"year\": 2008}, {\"species\": \"Chinstrap\", \"island\": \"Dream\", \"bill_length_mm\": 52.8, \"bill_depth_mm\": 20.0, \"flipper_length_mm\": 205.0, \"body_mass_g\": 4550.0, \"sex\": \"male\", \"year\": 2008}, {\"species\": \"Chinstrap\", \"island\": \"Dream\", \"bill_length_mm\": 40.9, \"bill_depth_mm\": 16.6, \"flipper_length_mm\": 187.0, \"body_mass_g\": 3200.0, \"sex\": \"female\", \"year\": 2008}, {\"species\": \"Chinstrap\", \"island\": \"Dream\", \"bill_length_mm\": 54.2, \"bill_depth_mm\": 20.8, \"flipper_length_mm\": 201.0, \"body_mass_g\": 4300.0, \"sex\": \"male\", \"year\": 2008}, {\"species\": \"Chinstrap\", \"island\": \"Dream\", \"bill_length_mm\": 42.5, \"bill_depth_mm\": 16.7, \"flipper_length_mm\": 187.0, \"body_mass_g\": 3350.0, \"sex\": \"female\", \"year\": 2008}, {\"species\": \"Chinstrap\", \"island\": \"Dream\", \"bill_length_mm\": 51.0, \"bill_depth_mm\": 18.8, \"flipper_length_mm\": 203.0, \"body_mass_g\": 4100.0, \"sex\": \"male\", \"year\": 2008}, {\"species\": \"Chinstrap\", \"island\": \"Dream\", \"bill_length_mm\": 49.7, \"bill_depth_mm\": 18.6, \"flipper_length_mm\": 195.0, \"body_mass_g\": 3600.0, \"sex\": \"male\", \"year\": 2008}, {\"species\": \"Chinstrap\", \"island\": \"Dream\", \"bill_length_mm\": 47.5, \"bill_depth_mm\": 16.8, \"flipper_length_mm\": 199.0, \"body_mass_g\": 3900.0, \"sex\": \"female\", \"year\": 2008}, {\"species\": \"Chinstrap\", \"island\": \"Dream\", \"bill_length_mm\": 47.6, \"bill_depth_mm\": 18.3, \"flipper_length_mm\": 195.0, \"body_mass_g\": 3850.0, \"sex\": \"female\", \"year\": 2008}, {\"species\": \"Chinstrap\", \"island\": \"Dream\", \"bill_length_mm\": 52.0, \"bill_depth_mm\": 20.7, \"flipper_length_mm\": 210.0, \"body_mass_g\": 4800.0, \"sex\": \"male\", \"year\": 2008}, {\"species\": \"Chinstrap\", \"island\": \"Dream\", \"bill_length_mm\": 46.9, \"bill_depth_mm\": 16.6, \"flipper_length_mm\": 192.0, \"body_mass_g\": 2700.0, \"sex\": \"female\", \"year\": 2008}, {\"species\": \"Chinstrap\", \"island\": \"Dream\", \"bill_length_mm\": 53.5, \"bill_depth_mm\": 19.9, \"flipper_length_mm\": 205.0, \"body_mass_g\": 4500.0, \"sex\": \"male\", \"year\": 2008}, {\"species\": \"Chinstrap\", \"island\": \"Dream\", \"bill_length_mm\": 49.0, \"bill_depth_mm\": 19.5, \"flipper_length_mm\": 210.0, \"body_mass_g\": 3950.0, \"sex\": \"male\", \"year\": 2008}, {\"species\": \"Chinstrap\", \"island\": \"Dream\", \"bill_length_mm\": 46.2, \"bill_depth_mm\": 17.5, \"flipper_length_mm\": 187.0, \"body_mass_g\": 3650.0, \"sex\": \"female\", \"year\": 2008}, {\"species\": \"Chinstrap\", \"island\": \"Dream\", \"bill_length_mm\": 50.9, \"bill_depth_mm\": 19.1, \"flipper_length_mm\": 196.0, \"body_mass_g\": 3550.0, \"sex\": \"male\", \"year\": 2008}, {\"species\": \"Chinstrap\", \"island\": \"Dream\", \"bill_length_mm\": 45.5, \"bill_depth_mm\": 17.0, \"flipper_length_mm\": 196.0, \"body_mass_g\": 3500.0, \"sex\": \"female\", \"year\": 2008}, {\"species\": \"Chinstrap\", \"island\": \"Dream\", \"bill_length_mm\": 50.9, \"bill_depth_mm\": 17.9, \"flipper_length_mm\": 196.0, \"body_mass_g\": 3675.0, \"sex\": \"female\", \"year\": 2009}, {\"species\": \"Chinstrap\", \"island\": \"Dream\", \"bill_length_mm\": 50.8, \"bill_depth_mm\": 18.5, \"flipper_length_mm\": 201.0, \"body_mass_g\": 4450.0, \"sex\": \"male\", \"year\": 2009}, {\"species\": \"Chinstrap\", \"island\": \"Dream\", \"bill_length_mm\": 50.1, \"bill_depth_mm\": 17.9, \"flipper_length_mm\": 190.0, \"body_mass_g\": 3400.0, \"sex\": \"female\", \"year\": 2009}, {\"species\": \"Chinstrap\", \"island\": \"Dream\", \"bill_length_mm\": 49.0, \"bill_depth_mm\": 19.6, \"flipper_length_mm\": 212.0, \"body_mass_g\": 4300.0, \"sex\": \"male\", \"year\": 2009}, {\"species\": \"Chinstrap\", \"island\": \"Dream\", \"bill_length_mm\": 51.5, \"bill_depth_mm\": 18.7, \"flipper_length_mm\": 187.0, \"body_mass_g\": 3250.0, \"sex\": \"male\", \"year\": 2009}, {\"species\": \"Chinstrap\", \"island\": \"Dream\", \"bill_length_mm\": 49.8, \"bill_depth_mm\": 17.3, \"flipper_length_mm\": 198.0, \"body_mass_g\": 3675.0, \"sex\": \"female\", \"year\": 2009}, {\"species\": \"Chinstrap\", \"island\": \"Dream\", \"bill_length_mm\": 48.1, \"bill_depth_mm\": 16.4, \"flipper_length_mm\": 199.0, \"body_mass_g\": 3325.0, \"sex\": \"female\", \"year\": 2009}, {\"species\": \"Chinstrap\", \"island\": \"Dream\", \"bill_length_mm\": 51.4, \"bill_depth_mm\": 19.0, \"flipper_length_mm\": 201.0, \"body_mass_g\": 3950.0, \"sex\": \"male\", \"year\": 2009}, {\"species\": \"Chinstrap\", \"island\": \"Dream\", \"bill_length_mm\": 45.7, \"bill_depth_mm\": 17.3, \"flipper_length_mm\": 193.0, \"body_mass_g\": 3600.0, \"sex\": \"female\", \"year\": 2009}, {\"species\": \"Chinstrap\", \"island\": \"Dream\", \"bill_length_mm\": 50.7, \"bill_depth_mm\": 19.7, \"flipper_length_mm\": 203.0, \"body_mass_g\": 4050.0, \"sex\": \"male\", \"year\": 2009}, {\"species\": \"Chinstrap\", \"island\": \"Dream\", \"bill_length_mm\": 42.5, \"bill_depth_mm\": 17.3, \"flipper_length_mm\": 187.0, \"body_mass_g\": 3350.0, \"sex\": \"female\", \"year\": 2009}, {\"species\": \"Chinstrap\", \"island\": \"Dream\", \"bill_length_mm\": 52.2, \"bill_depth_mm\": 18.8, \"flipper_length_mm\": 197.0, \"body_mass_g\": 3450.0, \"sex\": \"male\", \"year\": 2009}, {\"species\": \"Chinstrap\", \"island\": \"Dream\", \"bill_length_mm\": 45.2, \"bill_depth_mm\": 16.6, \"flipper_length_mm\": 191.0, \"body_mass_g\": 3250.0, \"sex\": \"female\", \"year\": 2009}, {\"species\": \"Chinstrap\", \"island\": \"Dream\", \"bill_length_mm\": 49.3, \"bill_depth_mm\": 19.9, \"flipper_length_mm\": 203.0, \"body_mass_g\": 4050.0, \"sex\": \"male\", \"year\": 2009}, {\"species\": \"Chinstrap\", \"island\": \"Dream\", \"bill_length_mm\": 50.2, \"bill_depth_mm\": 18.8, \"flipper_length_mm\": 202.0, \"body_mass_g\": 3800.0, \"sex\": \"male\", \"year\": 2009}, {\"species\": \"Chinstrap\", \"island\": \"Dream\", \"bill_length_mm\": 45.6, \"bill_depth_mm\": 19.4, \"flipper_length_mm\": 194.0, \"body_mass_g\": 3525.0, \"sex\": \"female\", \"year\": 2009}, {\"species\": \"Chinstrap\", \"island\": \"Dream\", \"bill_length_mm\": 51.9, \"bill_depth_mm\": 19.5, \"flipper_length_mm\": 206.0, \"body_mass_g\": 3950.0, \"sex\": \"male\", \"year\": 2009}, {\"species\": \"Chinstrap\", \"island\": \"Dream\", \"bill_length_mm\": 46.8, \"bill_depth_mm\": 16.5, \"flipper_length_mm\": 189.0, \"body_mass_g\": 3650.0, \"sex\": \"female\", \"year\": 2009}, {\"species\": \"Chinstrap\", \"island\": \"Dream\", \"bill_length_mm\": 45.7, \"bill_depth_mm\": 17.0, \"flipper_length_mm\": 195.0, \"body_mass_g\": 3650.0, \"sex\": \"female\", \"year\": 2009}, {\"species\": \"Chinstrap\", \"island\": \"Dream\", \"bill_length_mm\": 55.8, \"bill_depth_mm\": 19.8, \"flipper_length_mm\": 207.0, \"body_mass_g\": 4000.0, \"sex\": \"male\", \"year\": 2009}, {\"species\": \"Chinstrap\", \"island\": \"Dream\", \"bill_length_mm\": 43.5, \"bill_depth_mm\": 18.1, \"flipper_length_mm\": 202.0, \"body_mass_g\": 3400.0, \"sex\": \"female\", \"year\": 2009}, {\"species\": \"Chinstrap\", \"island\": \"Dream\", \"bill_length_mm\": 49.6, \"bill_depth_mm\": 18.2, \"flipper_length_mm\": 193.0, \"body_mass_g\": 3775.0, \"sex\": \"male\", \"year\": 2009}, {\"species\": \"Chinstrap\", \"island\": \"Dream\", \"bill_length_mm\": 50.8, \"bill_depth_mm\": 19.0, \"flipper_length_mm\": 210.0, \"body_mass_g\": 4100.0, \"sex\": \"male\", \"year\": 2009}, {\"species\": \"Chinstrap\", \"island\": \"Dream\", \"bill_length_mm\": 50.2, \"bill_depth_mm\": 18.7, \"flipper_length_mm\": 198.0, \"body_mass_g\": 3775.0, \"sex\": \"female\", \"year\": 2009}]}}, {\"mode\": \"vega-lite\"});\n",
       "</script>"
      ],
      "text/plain": [
       "alt.Chart(...)"
      ]
     },
     "execution_count": 9,
     "metadata": {},
     "output_type": "execute_result"
    }
   ],
   "source": [
    "# Load the penguins dataset\n",
    "penguins = load_penguins()\n",
    "\n",
    "# Convert the 'species' column to a categorical type\n",
    "penguins['species'] = pd.Categorical(penguins['species'])\n",
    "\n",
    "# Create the Altair chart\n",
    "penguins_chart = alt.Chart(penguins).mark_point(size=60).encode(\n",
    "    x=alt.X('bill_length_mm', title='Bill length (mm)'),\n",
    "    y=alt.Y('body_mass_g', title='Body mass (g)'),\n",
    "    color=alt.Color('species', scale=alt.Scale(scheme='category10'))\n",
    ").properties(\n",
    "    width=450,\n",
    "    height=350\n",
    ").configure_axis(\n",
    "    labelFontSize=14,\n",
    "    titleFontSize=18\n",
    ").configure_legend(\n",
    "    labelFontSize=14,\n",
    "    titleFontSize=18\n",
    ")\n",
    "\n",
    "penguins_chart"
   ]
  },
  {
   "cell_type": "code",
   "execution_count": 10,
   "metadata": {},
   "outputs": [],
   "source": [
    "# BEGIN SOLUTION\n",
    "# Load the penguins dataset\n",
    "penguins = load_penguins()\n",
    "\n",
    "# Sort the data based on the species name into descending alphabetic order\n",
    "penguins_value_sorted = penguins.sort_values('species', ascending=False)\n",
    "# Create the Altair chart\n",
    "penguins_chart_value_sorted = alt.Chart(penguins_value_sorted).mark_point(size=60).encode(\n",
    "    x=alt.X('bill_length_mm', title='Bill length (mm)'),\n",
    "    y=alt.Y('body_mass_g', title='Body mass (g)'),\n",
    "    color=alt.Color('species', scale=alt.Scale(scheme='category10'))\n",
    ").properties(\n",
    "    width=400,\n",
    "    height=300\n",
    ").configure_axis(\n",
    "    labelFontSize=14,\n",
    "    titleFontSize=18\n",
    ").configure_legend(\n",
    "    labelFontSize=14,\n",
    "    titleFontSize=18\n",
    ")\n",
    "penguins_chart_value_sorted\n",
    "\n",
    "# Convert the 'species' column to a categorical type\n",
    "penguins_categorical_ordered = penguins\n",
    "\n",
    "# Define the species order in descending alphabetical order\n",
    "species_order = sorted(penguins_categorical_ordered['species'].unique(), reverse=True)\n",
    "\n",
    "# Convert 'species' column to a categorical type with the specified order\n",
    "penguins_categorical_ordered['species'] = pd.Categorical(penguins_categorical_ordered['species'], categories=species_order, ordered=True)\n",
    "\n",
    "# Create the Altair chart\n",
    "penguins_chart_categorical_ordered = alt.Chart(penguins_categorical_ordered).mark_point(size=60).encode(\n",
    "    x=alt.X('bill_length_mm', title='Bill length (mm)'),\n",
    "    y=alt.Y('body_mass_g', title='Body mass (g)'),\n",
    "    color=alt.Color('species', scale=alt.Scale(scheme='category10'))\n",
    ").properties(\n",
    "    width=400,\n",
    "    height=300\n",
    ").configure_axis(\n",
    "    labelFontSize=14,\n",
    "    titleFontSize=18\n",
    ").configure_legend(\n",
    "    labelFontSize=14,\n",
    "    titleFontSize=18\n",
    ")\n",
    "# END SOLUTION"
   ]
  },
  {
   "cell_type": "code",
   "execution_count": 11,
   "metadata": {},
   "outputs": [
    {
     "data": {
      "text/html": [
       "\n",
       "<style>\n",
       "  #altair-viz-c4fb4ad3b260402db503b978fc0fbf63.vega-embed {\n",
       "    width: 100%;\n",
       "    display: flex;\n",
       "  }\n",
       "\n",
       "  #altair-viz-c4fb4ad3b260402db503b978fc0fbf63.vega-embed details,\n",
       "  #altair-viz-c4fb4ad3b260402db503b978fc0fbf63.vega-embed details summary {\n",
       "    position: relative;\n",
       "  }\n",
       "</style>\n",
       "<div id=\"altair-viz-c4fb4ad3b260402db503b978fc0fbf63\"></div>\n",
       "<script type=\"text/javascript\">\n",
       "  var VEGA_DEBUG = (typeof VEGA_DEBUG == \"undefined\") ? {} : VEGA_DEBUG;\n",
       "  (function(spec, embedOpt){\n",
       "    let outputDiv = document.currentScript.previousElementSibling;\n",
       "    if (outputDiv.id !== \"altair-viz-c4fb4ad3b260402db503b978fc0fbf63\") {\n",
       "      outputDiv = document.getElementById(\"altair-viz-c4fb4ad3b260402db503b978fc0fbf63\");\n",
       "    }\n",
       "    const paths = {\n",
       "      \"vega\": \"https://cdn.jsdelivr.net/npm/vega@5?noext\",\n",
       "      \"vega-lib\": \"https://cdn.jsdelivr.net/npm/vega-lib?noext\",\n",
       "      \"vega-lite\": \"https://cdn.jsdelivr.net/npm/vega-lite@5.20.1?noext\",\n",
       "      \"vega-embed\": \"https://cdn.jsdelivr.net/npm/vega-embed@6?noext\",\n",
       "    };\n",
       "\n",
       "    function maybeLoadScript(lib, version) {\n",
       "      var key = `${lib.replace(\"-\", \"\")}_version`;\n",
       "      return (VEGA_DEBUG[key] == version) ?\n",
       "        Promise.resolve(paths[lib]) :\n",
       "        new Promise(function(resolve, reject) {\n",
       "          var s = document.createElement('script');\n",
       "          document.getElementsByTagName(\"head\")[0].appendChild(s);\n",
       "          s.async = true;\n",
       "          s.onload = () => {\n",
       "            VEGA_DEBUG[key] = version;\n",
       "            return resolve(paths[lib]);\n",
       "          };\n",
       "          s.onerror = () => reject(`Error loading script: ${paths[lib]}`);\n",
       "          s.src = paths[lib];\n",
       "        });\n",
       "    }\n",
       "\n",
       "    function showError(err) {\n",
       "      outputDiv.innerHTML = `<div class=\"error\" style=\"color:red;\">${err}</div>`;\n",
       "      throw err;\n",
       "    }\n",
       "\n",
       "    function displayChart(vegaEmbed) {\n",
       "      vegaEmbed(outputDiv, spec, embedOpt)\n",
       "        .catch(err => showError(`Javascript Error: ${err.message}<br>This usually means there's a typo in your chart specification. See the javascript console for the full traceback.`));\n",
       "    }\n",
       "\n",
       "    if(typeof define === \"function\" && define.amd) {\n",
       "      requirejs.config({paths});\n",
       "      require([\"vega-embed\"], displayChart, err => showError(`Error loading script: ${err.message}`));\n",
       "    } else {\n",
       "      maybeLoadScript(\"vega\", \"5\")\n",
       "        .then(() => maybeLoadScript(\"vega-lite\", \"5.20.1\"))\n",
       "        .then(() => maybeLoadScript(\"vega-embed\", \"6\"))\n",
       "        .catch(showError)\n",
       "        .then(() => displayChart(vegaEmbed));\n",
       "    }\n",
       "  })({\"config\": {\"view\": {\"continuousWidth\": 300, \"continuousHeight\": 300}, \"axis\": {\"labelFontSize\": 14, \"titleFontSize\": 18}, \"legend\": {\"labelFontSize\": 14, \"titleFontSize\": 18}}, \"data\": {\"name\": \"data-626ae55a3c0b1f55e899e5ac8952d5f6\"}, \"mark\": {\"type\": \"point\", \"size\": 60}, \"encoding\": {\"color\": {\"field\": \"species\", \"scale\": {\"scheme\": \"category10\"}, \"type\": \"nominal\"}, \"x\": {\"field\": \"bill_length_mm\", \"title\": \"Bill length (mm)\", \"type\": \"quantitative\"}, \"y\": {\"field\": \"body_mass_g\", \"title\": \"Body mass (g)\", \"type\": \"quantitative\"}}, \"height\": 300, \"width\": 400, \"$schema\": \"https://vega.github.io/schema/vega-lite/v5.20.1.json\", \"datasets\": {\"data-626ae55a3c0b1f55e899e5ac8952d5f6\": [{\"species\": \"Gentoo\", \"island\": \"Biscoe\", \"bill_length_mm\": 50.2, \"bill_depth_mm\": 14.3, \"flipper_length_mm\": 218.0, \"body_mass_g\": 5700.0, \"sex\": \"male\", \"year\": 2007}, {\"species\": \"Gentoo\", \"island\": \"Biscoe\", \"bill_length_mm\": 46.2, \"bill_depth_mm\": 14.9, \"flipper_length_mm\": 221.0, \"body_mass_g\": 5300.0, \"sex\": \"male\", \"year\": 2008}, {\"species\": \"Gentoo\", \"island\": \"Biscoe\", \"bill_length_mm\": 47.7, \"bill_depth_mm\": 15.0, \"flipper_length_mm\": 216.0, \"body_mass_g\": 4750.0, \"sex\": \"female\", \"year\": 2008}, {\"species\": \"Gentoo\", \"island\": \"Biscoe\", \"bill_length_mm\": 50.7, \"bill_depth_mm\": 15.0, \"flipper_length_mm\": 223.0, \"body_mass_g\": 5550.0, \"sex\": \"male\", \"year\": 2008}, {\"species\": \"Gentoo\", \"island\": \"Biscoe\", \"bill_length_mm\": 43.5, \"bill_depth_mm\": 14.2, \"flipper_length_mm\": 220.0, \"body_mass_g\": 4700.0, \"sex\": \"female\", \"year\": 2008}, {\"species\": \"Gentoo\", \"island\": \"Biscoe\", \"bill_length_mm\": 49.5, \"bill_depth_mm\": 16.2, \"flipper_length_mm\": 229.0, \"body_mass_g\": 5800.0, \"sex\": \"male\", \"year\": 2008}, {\"species\": \"Gentoo\", \"island\": \"Biscoe\", \"bill_length_mm\": 46.2, \"bill_depth_mm\": 14.4, \"flipper_length_mm\": 214.0, \"body_mass_g\": 4650.0, \"sex\": null, \"year\": 2008}, {\"species\": \"Gentoo\", \"island\": \"Biscoe\", \"bill_length_mm\": 49.8, \"bill_depth_mm\": 16.8, \"flipper_length_mm\": 230.0, \"body_mass_g\": 5700.0, \"sex\": \"male\", \"year\": 2008}, {\"species\": \"Gentoo\", \"island\": \"Biscoe\", \"bill_length_mm\": 45.8, \"bill_depth_mm\": 14.2, \"flipper_length_mm\": 219.0, \"body_mass_g\": 4700.0, \"sex\": \"female\", \"year\": 2008}, {\"species\": \"Gentoo\", \"island\": \"Biscoe\", \"bill_length_mm\": 54.3, \"bill_depth_mm\": 15.7, \"flipper_length_mm\": 231.0, \"body_mass_g\": 5650.0, \"sex\": \"male\", \"year\": 2008}, {\"species\": \"Gentoo\", \"island\": \"Biscoe\", \"bill_length_mm\": 45.7, \"bill_depth_mm\": 13.9, \"flipper_length_mm\": 214.0, \"body_mass_g\": 4400.0, \"sex\": \"female\", \"year\": 2008}, {\"species\": \"Gentoo\", \"island\": \"Biscoe\", \"bill_length_mm\": 45.3, \"bill_depth_mm\": 13.8, \"flipper_length_mm\": 208.0, \"body_mass_g\": 4200.0, \"sex\": \"female\", \"year\": 2008}, {\"species\": \"Gentoo\", \"island\": \"Biscoe\", \"bill_length_mm\": 48.2, \"bill_depth_mm\": 15.6, \"flipper_length_mm\": 221.0, \"body_mass_g\": 5100.0, \"sex\": \"male\", \"year\": 2008}, {\"species\": \"Gentoo\", \"island\": \"Biscoe\", \"bill_length_mm\": 50.4, \"bill_depth_mm\": 15.3, \"flipper_length_mm\": 224.0, \"body_mass_g\": 5550.0, \"sex\": \"male\", \"year\": 2008}, {\"species\": \"Gentoo\", \"island\": \"Biscoe\", \"bill_length_mm\": 43.2, \"bill_depth_mm\": 14.5, \"flipper_length_mm\": 208.0, \"body_mass_g\": 4450.0, \"sex\": \"female\", \"year\": 2008}, {\"species\": \"Gentoo\", \"island\": \"Biscoe\", \"bill_length_mm\": 45.5, \"bill_depth_mm\": 15.0, \"flipper_length_mm\": 220.0, \"body_mass_g\": 5000.0, \"sex\": \"male\", \"year\": 2008}, {\"species\": \"Gentoo\", \"island\": \"Biscoe\", \"bill_length_mm\": 43.8, \"bill_depth_mm\": 13.9, \"flipper_length_mm\": 208.0, \"body_mass_g\": 4300.0, \"sex\": \"female\", \"year\": 2008}, {\"species\": \"Gentoo\", \"island\": \"Biscoe\", \"bill_length_mm\": 45.0, \"bill_depth_mm\": 15.4, \"flipper_length_mm\": 220.0, \"body_mass_g\": 5050.0, \"sex\": \"male\", \"year\": 2008}, {\"species\": \"Gentoo\", \"island\": \"Biscoe\", \"bill_length_mm\": 46.5, \"bill_depth_mm\": 14.4, \"flipper_length_mm\": 217.0, \"body_mass_g\": 4900.0, \"sex\": \"female\", \"year\": 2008}, {\"species\": \"Gentoo\", \"island\": \"Biscoe\", \"bill_length_mm\": 50.1, \"bill_depth_mm\": 15.0, \"flipper_length_mm\": 225.0, \"body_mass_g\": 5000.0, \"sex\": \"male\", \"year\": 2008}, {\"species\": \"Gentoo\", \"island\": \"Biscoe\", \"bill_length_mm\": 45.1, \"bill_depth_mm\": 14.4, \"flipper_length_mm\": 210.0, \"body_mass_g\": 4400.0, \"sex\": \"female\", \"year\": 2008}, {\"species\": \"Gentoo\", \"island\": \"Biscoe\", \"bill_length_mm\": 48.5, \"bill_depth_mm\": 14.1, \"flipper_length_mm\": 220.0, \"body_mass_g\": 5300.0, \"sex\": \"male\", \"year\": 2008}, {\"species\": \"Gentoo\", \"island\": \"Biscoe\", \"bill_length_mm\": 46.4, \"bill_depth_mm\": 15.6, \"flipper_length_mm\": 221.0, \"body_mass_g\": 5000.0, \"sex\": \"male\", \"year\": 2008}, {\"species\": \"Gentoo\", \"island\": \"Biscoe\", \"bill_length_mm\": 46.5, \"bill_depth_mm\": 14.8, \"flipper_length_mm\": 217.0, \"body_mass_g\": 5200.0, \"sex\": \"female\", \"year\": 2008}, {\"species\": \"Gentoo\", \"island\": \"Biscoe\", \"bill_length_mm\": 45.2, \"bill_depth_mm\": 15.8, \"flipper_length_mm\": 215.0, \"body_mass_g\": 5300.0, \"sex\": \"male\", \"year\": 2008}, {\"species\": \"Gentoo\", \"island\": \"Biscoe\", \"bill_length_mm\": 50.8, \"bill_depth_mm\": 17.3, \"flipper_length_mm\": 228.0, \"body_mass_g\": 5600.0, \"sex\": \"male\", \"year\": 2009}, {\"species\": \"Gentoo\", \"island\": \"Biscoe\", \"bill_length_mm\": 44.5, \"bill_depth_mm\": 14.7, \"flipper_length_mm\": 214.0, \"body_mass_g\": 4850.0, \"sex\": \"female\", \"year\": 2009}, {\"species\": \"Gentoo\", \"island\": \"Biscoe\", \"bill_length_mm\": 49.5, \"bill_depth_mm\": 16.1, \"flipper_length_mm\": 224.0, \"body_mass_g\": 5650.0, \"sex\": \"male\", \"year\": 2009}, {\"species\": \"Gentoo\", \"island\": \"Biscoe\", \"bill_length_mm\": 45.5, \"bill_depth_mm\": 14.5, \"flipper_length_mm\": 212.0, \"body_mass_g\": 4750.0, \"sex\": \"female\", \"year\": 2009}, {\"species\": \"Gentoo\", \"island\": \"Biscoe\", \"bill_length_mm\": 52.2, \"bill_depth_mm\": 17.1, \"flipper_length_mm\": 228.0, \"body_mass_g\": 5400.0, \"sex\": \"male\", \"year\": 2009}, {\"species\": \"Gentoo\", \"island\": \"Biscoe\", \"bill_length_mm\": 47.5, \"bill_depth_mm\": 15.0, \"flipper_length_mm\": 218.0, \"body_mass_g\": 4950.0, \"sex\": \"female\", \"year\": 2009}, {\"species\": \"Gentoo\", \"island\": \"Biscoe\", \"bill_length_mm\": 52.1, \"bill_depth_mm\": 17.0, \"flipper_length_mm\": 230.0, \"body_mass_g\": 5550.0, \"sex\": \"male\", \"year\": 2009}, {\"species\": \"Gentoo\", \"island\": \"Biscoe\", \"bill_length_mm\": 47.5, \"bill_depth_mm\": 14.0, \"flipper_length_mm\": 212.0, \"body_mass_g\": 4875.0, \"sex\": \"female\", \"year\": 2009}, {\"species\": \"Gentoo\", \"island\": \"Biscoe\", \"bill_length_mm\": 51.3, \"bill_depth_mm\": 14.2, \"flipper_length_mm\": 218.0, \"body_mass_g\": 5300.0, \"sex\": \"male\", \"year\": 2009}, {\"species\": \"Gentoo\", \"island\": \"Biscoe\", \"bill_length_mm\": 43.4, \"bill_depth_mm\": 14.4, \"flipper_length_mm\": 218.0, \"body_mass_g\": 4600.0, \"sex\": \"female\", \"year\": 2009}, {\"species\": \"Gentoo\", \"island\": \"Biscoe\", \"bill_length_mm\": 44.9, \"bill_depth_mm\": 13.8, \"flipper_length_mm\": 212.0, \"body_mass_g\": 4750.0, \"sex\": \"female\", \"year\": 2009}, {\"species\": \"Gentoo\", \"island\": \"Biscoe\", \"bill_length_mm\": 46.4, \"bill_depth_mm\": 15.0, \"flipper_length_mm\": 216.0, \"body_mass_g\": 4700.0, \"sex\": \"female\", \"year\": 2008}, {\"species\": \"Gentoo\", \"island\": \"Biscoe\", \"bill_length_mm\": 50.0, \"bill_depth_mm\": 15.9, \"flipper_length_mm\": 224.0, \"body_mass_g\": 5350.0, \"sex\": \"male\", \"year\": 2009}, {\"species\": \"Gentoo\", \"island\": \"Biscoe\", \"bill_length_mm\": 47.4, \"bill_depth_mm\": 14.6, \"flipper_length_mm\": 212.0, \"body_mass_g\": 4725.0, \"sex\": \"female\", \"year\": 2009}, {\"species\": \"Gentoo\", \"island\": \"Biscoe\", \"bill_length_mm\": 52.5, \"bill_depth_mm\": 15.6, \"flipper_length_mm\": 221.0, \"body_mass_g\": 5450.0, \"sex\": \"male\", \"year\": 2009}, {\"species\": \"Gentoo\", \"island\": \"Biscoe\", \"bill_length_mm\": 49.1, \"bill_depth_mm\": 14.5, \"flipper_length_mm\": 212.0, \"body_mass_g\": 4625.0, \"sex\": \"female\", \"year\": 2009}, {\"species\": \"Gentoo\", \"island\": \"Biscoe\", \"bill_length_mm\": 45.2, \"bill_depth_mm\": 16.4, \"flipper_length_mm\": 223.0, \"body_mass_g\": 5950.0, \"sex\": \"male\", \"year\": 2008}, {\"species\": \"Gentoo\", \"island\": \"Biscoe\", \"bill_length_mm\": 45.2, \"bill_depth_mm\": 13.8, \"flipper_length_mm\": 215.0, \"body_mass_g\": 4750.0, \"sex\": \"female\", \"year\": 2008}, {\"species\": \"Gentoo\", \"island\": \"Biscoe\", \"bill_length_mm\": 51.1, \"bill_depth_mm\": 16.3, \"flipper_length_mm\": 220.0, \"body_mass_g\": 6000.0, \"sex\": \"male\", \"year\": 2008}, {\"species\": \"Gentoo\", \"island\": \"Biscoe\", \"bill_length_mm\": 47.5, \"bill_depth_mm\": 14.2, \"flipper_length_mm\": 209.0, \"body_mass_g\": 4600.0, \"sex\": \"female\", \"year\": 2008}, {\"species\": \"Gentoo\", \"island\": \"Biscoe\", \"bill_length_mm\": 48.6, \"bill_depth_mm\": 16.0, \"flipper_length_mm\": 230.0, \"body_mass_g\": 5800.0, \"sex\": \"male\", \"year\": 2008}, {\"species\": \"Gentoo\", \"island\": \"Biscoe\", \"bill_length_mm\": 46.6, \"bill_depth_mm\": 14.2, \"flipper_length_mm\": 210.0, \"body_mass_g\": 4850.0, \"sex\": \"female\", \"year\": 2008}, {\"species\": \"Gentoo\", \"island\": \"Biscoe\", \"bill_length_mm\": 44.9, \"bill_depth_mm\": 13.3, \"flipper_length_mm\": 213.0, \"body_mass_g\": 5100.0, \"sex\": \"female\", \"year\": 2008}, {\"species\": \"Gentoo\", \"island\": \"Biscoe\", \"bill_length_mm\": 49.4, \"bill_depth_mm\": 15.8, \"flipper_length_mm\": 216.0, \"body_mass_g\": 4925.0, \"sex\": \"male\", \"year\": 2009}, {\"species\": \"Gentoo\", \"island\": \"Biscoe\", \"bill_length_mm\": 47.8, \"bill_depth_mm\": 15.0, \"flipper_length_mm\": 215.0, \"body_mass_g\": 5650.0, \"sex\": \"male\", \"year\": 2007}, {\"species\": \"Gentoo\", \"island\": \"Biscoe\", \"bill_length_mm\": 46.2, \"bill_depth_mm\": 14.5, \"flipper_length_mm\": 209.0, \"body_mass_g\": 4800.0, \"sex\": \"female\", \"year\": 2007}, {\"species\": \"Gentoo\", \"island\": \"Biscoe\", \"bill_length_mm\": 48.7, \"bill_depth_mm\": 15.1, \"flipper_length_mm\": 222.0, \"body_mass_g\": 5350.0, \"sex\": \"male\", \"year\": 2007}, {\"species\": \"Gentoo\", \"island\": \"Biscoe\", \"bill_length_mm\": 42.7, \"bill_depth_mm\": 13.7, \"flipper_length_mm\": 208.0, \"body_mass_g\": 3950.0, \"sex\": \"female\", \"year\": 2008}, {\"species\": \"Gentoo\", \"island\": \"Biscoe\", \"bill_length_mm\": 45.1, \"bill_depth_mm\": 14.5, \"flipper_length_mm\": 215.0, \"body_mass_g\": 5000.0, \"sex\": \"female\", \"year\": 2007}, {\"species\": \"Gentoo\", \"island\": \"Biscoe\", \"bill_length_mm\": 46.5, \"bill_depth_mm\": 14.5, \"flipper_length_mm\": 213.0, \"body_mass_g\": 4400.0, \"sex\": \"female\", \"year\": 2007}, {\"species\": \"Gentoo\", \"island\": \"Biscoe\", \"bill_length_mm\": 46.3, \"bill_depth_mm\": 15.8, \"flipper_length_mm\": 215.0, \"body_mass_g\": 5050.0, \"sex\": \"male\", \"year\": 2007}, {\"species\": \"Gentoo\", \"island\": \"Biscoe\", \"bill_length_mm\": 42.9, \"bill_depth_mm\": 13.1, \"flipper_length_mm\": 215.0, \"body_mass_g\": 5000.0, \"sex\": \"female\", \"year\": 2007}, {\"species\": \"Gentoo\", \"island\": \"Biscoe\", \"bill_length_mm\": 46.1, \"bill_depth_mm\": 15.1, \"flipper_length_mm\": 215.0, \"body_mass_g\": 5100.0, \"sex\": \"male\", \"year\": 2007}, {\"species\": \"Gentoo\", \"island\": \"Biscoe\", \"bill_length_mm\": 44.5, \"bill_depth_mm\": 14.3, \"flipper_length_mm\": 216.0, \"body_mass_g\": 4100.0, \"sex\": null, \"year\": 2007}, {\"species\": \"Gentoo\", \"island\": \"Biscoe\", \"bill_length_mm\": 48.2, \"bill_depth_mm\": 14.3, \"flipper_length_mm\": 210.0, \"body_mass_g\": 4600.0, \"sex\": \"female\", \"year\": 2007}, {\"species\": \"Gentoo\", \"island\": \"Biscoe\", \"bill_length_mm\": 42.0, \"bill_depth_mm\": 13.5, \"flipper_length_mm\": 210.0, \"body_mass_g\": 4150.0, \"sex\": \"female\", \"year\": 2007}, {\"species\": \"Gentoo\", \"island\": \"Biscoe\", \"bill_length_mm\": 50.0, \"bill_depth_mm\": 15.3, \"flipper_length_mm\": 220.0, \"body_mass_g\": 5550.0, \"sex\": \"male\", \"year\": 2007}, {\"species\": \"Gentoo\", \"island\": \"Biscoe\", \"bill_length_mm\": 47.3, \"bill_depth_mm\": 15.3, \"flipper_length_mm\": 222.0, \"body_mass_g\": 5250.0, \"sex\": \"male\", \"year\": 2007}, {\"species\": \"Gentoo\", \"island\": \"Biscoe\", \"bill_length_mm\": 42.8, \"bill_depth_mm\": 14.2, \"flipper_length_mm\": 209.0, \"body_mass_g\": 4700.0, \"sex\": \"female\", \"year\": 2007}, {\"species\": \"Gentoo\", \"island\": \"Biscoe\", \"bill_length_mm\": 45.1, \"bill_depth_mm\": 14.5, \"flipper_length_mm\": 207.0, \"body_mass_g\": 5050.0, \"sex\": \"female\", \"year\": 2007}, {\"species\": \"Gentoo\", \"island\": \"Biscoe\", \"bill_length_mm\": 59.6, \"bill_depth_mm\": 17.0, \"flipper_length_mm\": 230.0, \"body_mass_g\": 6050.0, \"sex\": \"male\", \"year\": 2007}, {\"species\": \"Gentoo\", \"island\": \"Biscoe\", \"bill_length_mm\": 49.1, \"bill_depth_mm\": 14.8, \"flipper_length_mm\": 220.0, \"body_mass_g\": 5150.0, \"sex\": \"female\", \"year\": 2008}, {\"species\": \"Gentoo\", \"island\": \"Biscoe\", \"bill_length_mm\": 48.4, \"bill_depth_mm\": 16.3, \"flipper_length_mm\": 220.0, \"body_mass_g\": 5400.0, \"sex\": \"male\", \"year\": 2008}, {\"species\": \"Gentoo\", \"island\": \"Biscoe\", \"bill_length_mm\": 42.6, \"bill_depth_mm\": 13.7, \"flipper_length_mm\": 213.0, \"body_mass_g\": 4950.0, \"sex\": \"female\", \"year\": 2008}, {\"species\": \"Gentoo\", \"island\": \"Biscoe\", \"bill_length_mm\": 44.4, \"bill_depth_mm\": 17.3, \"flipper_length_mm\": 219.0, \"body_mass_g\": 5250.0, \"sex\": \"male\", \"year\": 2008}, {\"species\": \"Gentoo\", \"island\": \"Biscoe\", \"bill_length_mm\": 49.2, \"bill_depth_mm\": 15.2, \"flipper_length_mm\": 221.0, \"body_mass_g\": 6300.0, \"sex\": \"male\", \"year\": 2007}, {\"species\": \"Gentoo\", \"island\": \"Biscoe\", \"bill_length_mm\": 49.3, \"bill_depth_mm\": 15.7, \"flipper_length_mm\": 217.0, \"body_mass_g\": 5850.0, \"sex\": \"male\", \"year\": 2007}, {\"species\": \"Gentoo\", \"island\": \"Biscoe\", \"bill_length_mm\": 50.5, \"bill_depth_mm\": 15.9, \"flipper_length_mm\": 225.0, \"body_mass_g\": 5400.0, \"sex\": \"male\", \"year\": 2008}, {\"species\": \"Gentoo\", \"island\": \"Biscoe\", \"bill_length_mm\": 50.0, \"bill_depth_mm\": 15.2, \"flipper_length_mm\": 218.0, \"body_mass_g\": 5700.0, \"sex\": \"male\", \"year\": 2007}, {\"species\": \"Gentoo\", \"island\": \"Biscoe\", \"bill_length_mm\": 45.5, \"bill_depth_mm\": 13.9, \"flipper_length_mm\": 210.0, \"body_mass_g\": 4200.0, \"sex\": \"female\", \"year\": 2008}, {\"species\": \"Gentoo\", \"island\": \"Biscoe\", \"bill_length_mm\": 43.6, \"bill_depth_mm\": 13.9, \"flipper_length_mm\": 217.0, \"body_mass_g\": 4900.0, \"sex\": \"female\", \"year\": 2008}, {\"species\": \"Gentoo\", \"island\": \"Biscoe\", \"bill_length_mm\": 50.5, \"bill_depth_mm\": 15.9, \"flipper_length_mm\": 222.0, \"body_mass_g\": 5550.0, \"sex\": \"male\", \"year\": 2008}, {\"species\": \"Gentoo\", \"island\": \"Biscoe\", \"bill_length_mm\": 49.6, \"bill_depth_mm\": 15.0, \"flipper_length_mm\": 216.0, \"body_mass_g\": 4750.0, \"sex\": \"male\", \"year\": 2008}, {\"species\": \"Gentoo\", \"island\": \"Biscoe\", \"bill_length_mm\": 45.3, \"bill_depth_mm\": 13.7, \"flipper_length_mm\": 210.0, \"body_mass_g\": 4300.0, \"sex\": \"female\", \"year\": 2008}, {\"species\": \"Gentoo\", \"island\": \"Biscoe\", \"bill_length_mm\": 49.6, \"bill_depth_mm\": 16.0, \"flipper_length_mm\": 225.0, \"body_mass_g\": 5700.0, \"sex\": \"male\", \"year\": 2008}, {\"species\": \"Gentoo\", \"island\": \"Biscoe\", \"bill_length_mm\": 46.1, \"bill_depth_mm\": 13.2, \"flipper_length_mm\": 211.0, \"body_mass_g\": 4500.0, \"sex\": \"female\", \"year\": 2007}, {\"species\": \"Gentoo\", \"island\": \"Biscoe\", \"bill_length_mm\": 50.0, \"bill_depth_mm\": 16.3, \"flipper_length_mm\": 230.0, \"body_mass_g\": 5700.0, \"sex\": \"male\", \"year\": 2007}, {\"species\": \"Gentoo\", \"island\": \"Biscoe\", \"bill_length_mm\": 48.7, \"bill_depth_mm\": 14.1, \"flipper_length_mm\": 210.0, \"body_mass_g\": 4450.0, \"sex\": \"female\", \"year\": 2007}, {\"species\": \"Gentoo\", \"island\": \"Biscoe\", \"bill_length_mm\": 47.6, \"bill_depth_mm\": 14.5, \"flipper_length_mm\": 215.0, \"body_mass_g\": 5400.0, \"sex\": \"male\", \"year\": 2007}, {\"species\": \"Gentoo\", \"island\": \"Biscoe\", \"bill_length_mm\": 45.8, \"bill_depth_mm\": 14.6, \"flipper_length_mm\": 210.0, \"body_mass_g\": 4200.0, \"sex\": \"female\", \"year\": 2007}, {\"species\": \"Gentoo\", \"island\": \"Biscoe\", \"bill_length_mm\": 46.5, \"bill_depth_mm\": 13.5, \"flipper_length_mm\": 210.0, \"body_mass_g\": 4550.0, \"sex\": \"female\", \"year\": 2007}, {\"species\": \"Gentoo\", \"island\": \"Biscoe\", \"bill_length_mm\": 45.4, \"bill_depth_mm\": 14.6, \"flipper_length_mm\": 211.0, \"body_mass_g\": 4800.0, \"sex\": \"female\", \"year\": 2007}, {\"species\": \"Gentoo\", \"island\": \"Biscoe\", \"bill_length_mm\": 46.7, \"bill_depth_mm\": 15.3, \"flipper_length_mm\": 219.0, \"body_mass_g\": 5200.0, \"sex\": \"male\", \"year\": 2007}, {\"species\": \"Gentoo\", \"island\": \"Biscoe\", \"bill_length_mm\": 43.3, \"bill_depth_mm\": 13.4, \"flipper_length_mm\": 209.0, \"body_mass_g\": 4400.0, \"sex\": \"female\", \"year\": 2007}, {\"species\": \"Gentoo\", \"island\": \"Biscoe\", \"bill_length_mm\": 46.8, \"bill_depth_mm\": 15.4, \"flipper_length_mm\": 215.0, \"body_mass_g\": 5150.0, \"sex\": \"male\", \"year\": 2007}, {\"species\": \"Gentoo\", \"island\": \"Biscoe\", \"bill_length_mm\": 40.9, \"bill_depth_mm\": 13.7, \"flipper_length_mm\": 214.0, \"body_mass_g\": 4650.0, \"sex\": \"female\", \"year\": 2007}, {\"species\": \"Gentoo\", \"island\": \"Biscoe\", \"bill_length_mm\": 49.0, \"bill_depth_mm\": 16.1, \"flipper_length_mm\": 216.0, \"body_mass_g\": 5550.0, \"sex\": \"male\", \"year\": 2007}, {\"species\": \"Gentoo\", \"island\": \"Biscoe\", \"bill_length_mm\": 45.5, \"bill_depth_mm\": 13.7, \"flipper_length_mm\": 214.0, \"body_mass_g\": 4650.0, \"sex\": \"female\", \"year\": 2007}, {\"species\": \"Gentoo\", \"island\": \"Biscoe\", \"bill_length_mm\": 48.4, \"bill_depth_mm\": 14.6, \"flipper_length_mm\": 213.0, \"body_mass_g\": 5850.0, \"sex\": \"male\", \"year\": 2007}, {\"species\": \"Gentoo\", \"island\": \"Biscoe\", \"bill_length_mm\": 50.8, \"bill_depth_mm\": 15.7, \"flipper_length_mm\": 226.0, \"body_mass_g\": 5200.0, \"sex\": \"male\", \"year\": 2009}, {\"species\": \"Gentoo\", \"island\": \"Biscoe\", \"bill_length_mm\": 46.9, \"bill_depth_mm\": 14.6, \"flipper_length_mm\": 222.0, \"body_mass_g\": 4875.0, \"sex\": \"female\", \"year\": 2009}, {\"species\": \"Gentoo\", \"island\": \"Biscoe\", \"bill_length_mm\": 48.7, \"bill_depth_mm\": 15.7, \"flipper_length_mm\": 208.0, \"body_mass_g\": 5350.0, \"sex\": \"male\", \"year\": 2008}, {\"species\": \"Gentoo\", \"island\": \"Biscoe\", \"bill_length_mm\": 43.5, \"bill_depth_mm\": 15.2, \"flipper_length_mm\": 213.0, \"body_mass_g\": 4650.0, \"sex\": \"female\", \"year\": 2009}, {\"species\": \"Gentoo\", \"island\": \"Biscoe\", \"bill_length_mm\": 48.4, \"bill_depth_mm\": 14.4, \"flipper_length_mm\": 203.0, \"body_mass_g\": 4625.0, \"sex\": \"female\", \"year\": 2009}, {\"species\": \"Gentoo\", \"island\": \"Biscoe\", \"bill_length_mm\": 49.9, \"bill_depth_mm\": 16.1, \"flipper_length_mm\": 213.0, \"body_mass_g\": 5400.0, \"sex\": \"male\", \"year\": 2009}, {\"species\": \"Gentoo\", \"island\": \"Biscoe\", \"bill_length_mm\": 45.2, \"bill_depth_mm\": 14.8, \"flipper_length_mm\": 212.0, \"body_mass_g\": 5200.0, \"sex\": \"female\", \"year\": 2009}, {\"species\": \"Gentoo\", \"island\": \"Biscoe\", \"bill_length_mm\": 50.4, \"bill_depth_mm\": 15.7, \"flipper_length_mm\": 222.0, \"body_mass_g\": 5750.0, \"sex\": \"male\", \"year\": 2009}, {\"species\": \"Gentoo\", \"island\": \"Biscoe\", \"bill_length_mm\": 46.8, \"bill_depth_mm\": 14.3, \"flipper_length_mm\": 215.0, \"body_mass_g\": 4850.0, \"sex\": \"female\", \"year\": 2009}, {\"species\": \"Gentoo\", \"island\": \"Biscoe\", \"bill_length_mm\": null, \"bill_depth_mm\": null, \"flipper_length_mm\": null, \"body_mass_g\": null, \"sex\": null, \"year\": 2009}, {\"species\": \"Gentoo\", \"island\": \"Biscoe\", \"bill_length_mm\": 47.2, \"bill_depth_mm\": 13.7, \"flipper_length_mm\": 214.0, \"body_mass_g\": 4925.0, \"sex\": \"female\", \"year\": 2009}, {\"species\": \"Gentoo\", \"island\": \"Biscoe\", \"bill_length_mm\": 48.8, \"bill_depth_mm\": 16.2, \"flipper_length_mm\": 222.0, \"body_mass_g\": 6000.0, \"sex\": \"male\", \"year\": 2009}, {\"species\": \"Gentoo\", \"island\": \"Biscoe\", \"bill_length_mm\": 44.5, \"bill_depth_mm\": 15.7, \"flipper_length_mm\": 217.0, \"body_mass_g\": 4875.0, \"sex\": null, \"year\": 2009}, {\"species\": \"Gentoo\", \"island\": \"Biscoe\", \"bill_length_mm\": 55.1, \"bill_depth_mm\": 16.0, \"flipper_length_mm\": 230.0, \"body_mass_g\": 5850.0, \"sex\": \"male\", \"year\": 2009}, {\"species\": \"Gentoo\", \"island\": \"Biscoe\", \"bill_length_mm\": 46.2, \"bill_depth_mm\": 14.1, \"flipper_length_mm\": 217.0, \"body_mass_g\": 4375.0, \"sex\": \"female\", \"year\": 2009}, {\"species\": \"Gentoo\", \"island\": \"Biscoe\", \"bill_length_mm\": 51.5, \"bill_depth_mm\": 16.3, \"flipper_length_mm\": 230.0, \"body_mass_g\": 5500.0, \"sex\": \"male\", \"year\": 2009}, {\"species\": \"Gentoo\", \"island\": \"Biscoe\", \"bill_length_mm\": 44.0, \"bill_depth_mm\": 13.6, \"flipper_length_mm\": 208.0, \"body_mass_g\": 4350.0, \"sex\": \"female\", \"year\": 2008}, {\"species\": \"Gentoo\", \"island\": \"Biscoe\", \"bill_length_mm\": 49.8, \"bill_depth_mm\": 15.9, \"flipper_length_mm\": 229.0, \"body_mass_g\": 5950.0, \"sex\": \"male\", \"year\": 2009}, {\"species\": \"Gentoo\", \"island\": \"Biscoe\", \"bill_length_mm\": 47.3, \"bill_depth_mm\": 13.8, \"flipper_length_mm\": 216.0, \"body_mass_g\": 4725.0, \"sex\": null, \"year\": 2009}, {\"species\": \"Gentoo\", \"island\": \"Biscoe\", \"bill_length_mm\": 50.5, \"bill_depth_mm\": 15.2, \"flipper_length_mm\": 216.0, \"body_mass_g\": 5000.0, \"sex\": \"female\", \"year\": 2009}, {\"species\": \"Gentoo\", \"island\": \"Biscoe\", \"bill_length_mm\": 51.1, \"bill_depth_mm\": 16.5, \"flipper_length_mm\": 225.0, \"body_mass_g\": 5250.0, \"sex\": \"male\", \"year\": 2009}, {\"species\": \"Gentoo\", \"island\": \"Biscoe\", \"bill_length_mm\": 48.5, \"bill_depth_mm\": 15.0, \"flipper_length_mm\": 219.0, \"body_mass_g\": 4850.0, \"sex\": \"female\", \"year\": 2009}, {\"species\": \"Gentoo\", \"island\": \"Biscoe\", \"bill_length_mm\": 55.9, \"bill_depth_mm\": 17.0, \"flipper_length_mm\": 228.0, \"body_mass_g\": 5600.0, \"sex\": \"male\", \"year\": 2009}, {\"species\": \"Gentoo\", \"island\": \"Biscoe\", \"bill_length_mm\": 49.1, \"bill_depth_mm\": 15.0, \"flipper_length_mm\": 228.0, \"body_mass_g\": 5500.0, \"sex\": \"male\", \"year\": 2009}, {\"species\": \"Gentoo\", \"island\": \"Biscoe\", \"bill_length_mm\": 47.2, \"bill_depth_mm\": 15.5, \"flipper_length_mm\": 215.0, \"body_mass_g\": 4975.0, \"sex\": \"female\", \"year\": 2009}, {\"species\": \"Gentoo\", \"island\": \"Biscoe\", \"bill_length_mm\": 46.8, \"bill_depth_mm\": 16.1, \"flipper_length_mm\": 215.0, \"body_mass_g\": 5500.0, \"sex\": \"male\", \"year\": 2009}, {\"species\": \"Gentoo\", \"island\": \"Biscoe\", \"bill_length_mm\": 41.7, \"bill_depth_mm\": 14.7, \"flipper_length_mm\": 210.0, \"body_mass_g\": 4700.0, \"sex\": \"female\", \"year\": 2009}, {\"species\": \"Gentoo\", \"island\": \"Biscoe\", \"bill_length_mm\": 53.4, \"bill_depth_mm\": 15.8, \"flipper_length_mm\": 219.0, \"body_mass_g\": 5500.0, \"sex\": \"male\", \"year\": 2009}, {\"species\": \"Gentoo\", \"island\": \"Biscoe\", \"bill_length_mm\": 43.3, \"bill_depth_mm\": 14.0, \"flipper_length_mm\": 208.0, \"body_mass_g\": 4575.0, \"sex\": \"female\", \"year\": 2009}, {\"species\": \"Gentoo\", \"island\": \"Biscoe\", \"bill_length_mm\": 48.1, \"bill_depth_mm\": 15.1, \"flipper_length_mm\": 209.0, \"body_mass_g\": 5500.0, \"sex\": \"male\", \"year\": 2009}, {\"species\": \"Chinstrap\", \"island\": \"Dream\", \"bill_length_mm\": 45.5, \"bill_depth_mm\": 17.0, \"flipper_length_mm\": 196.0, \"body_mass_g\": 3500.0, \"sex\": \"female\", \"year\": 2008}, {\"species\": \"Chinstrap\", \"island\": \"Dream\", \"bill_length_mm\": 51.5, \"bill_depth_mm\": 18.7, \"flipper_length_mm\": 187.0, \"body_mass_g\": 3250.0, \"sex\": \"male\", \"year\": 2009}, {\"species\": \"Chinstrap\", \"island\": \"Dream\", \"bill_length_mm\": 49.0, \"bill_depth_mm\": 19.6, \"flipper_length_mm\": 212.0, \"body_mass_g\": 4300.0, \"sex\": \"male\", \"year\": 2009}, {\"species\": \"Chinstrap\", \"island\": \"Dream\", \"bill_length_mm\": 50.1, \"bill_depth_mm\": 17.9, \"flipper_length_mm\": 190.0, \"body_mass_g\": 3400.0, \"sex\": \"female\", \"year\": 2009}, {\"species\": \"Chinstrap\", \"island\": \"Dream\", \"bill_length_mm\": 50.8, \"bill_depth_mm\": 18.5, \"flipper_length_mm\": 201.0, \"body_mass_g\": 4450.0, \"sex\": \"male\", \"year\": 2009}, {\"species\": \"Chinstrap\", \"island\": \"Dream\", \"bill_length_mm\": 50.9, \"bill_depth_mm\": 17.9, \"flipper_length_mm\": 196.0, \"body_mass_g\": 3675.0, \"sex\": \"female\", \"year\": 2009}, {\"species\": \"Chinstrap\", \"island\": \"Dream\", \"bill_length_mm\": 46.9, \"bill_depth_mm\": 16.6, \"flipper_length_mm\": 192.0, \"body_mass_g\": 2700.0, \"sex\": \"female\", \"year\": 2008}, {\"species\": \"Chinstrap\", \"island\": \"Dream\", \"bill_length_mm\": 50.9, \"bill_depth_mm\": 19.1, \"flipper_length_mm\": 196.0, \"body_mass_g\": 3550.0, \"sex\": \"male\", \"year\": 2008}, {\"species\": \"Chinstrap\", \"island\": \"Dream\", \"bill_length_mm\": 46.2, \"bill_depth_mm\": 17.5, \"flipper_length_mm\": 187.0, \"body_mass_g\": 3650.0, \"sex\": \"female\", \"year\": 2008}, {\"species\": \"Chinstrap\", \"island\": \"Dream\", \"bill_length_mm\": 49.0, \"bill_depth_mm\": 19.5, \"flipper_length_mm\": 210.0, \"body_mass_g\": 3950.0, \"sex\": \"male\", \"year\": 2008}, {\"species\": \"Chinstrap\", \"island\": \"Dream\", \"bill_length_mm\": 53.5, \"bill_depth_mm\": 19.9, \"flipper_length_mm\": 205.0, \"body_mass_g\": 4500.0, \"sex\": \"male\", \"year\": 2008}, {\"species\": \"Chinstrap\", \"island\": \"Dream\", \"bill_length_mm\": 48.1, \"bill_depth_mm\": 16.4, \"flipper_length_mm\": 199.0, \"body_mass_g\": 3325.0, \"sex\": \"female\", \"year\": 2009}, {\"species\": \"Chinstrap\", \"island\": \"Dream\", \"bill_length_mm\": 52.0, \"bill_depth_mm\": 20.7, \"flipper_length_mm\": 210.0, \"body_mass_g\": 4800.0, \"sex\": \"male\", \"year\": 2008}, {\"species\": \"Chinstrap\", \"island\": \"Dream\", \"bill_length_mm\": 47.6, \"bill_depth_mm\": 18.3, \"flipper_length_mm\": 195.0, \"body_mass_g\": 3850.0, \"sex\": \"female\", \"year\": 2008}, {\"species\": \"Chinstrap\", \"island\": \"Dream\", \"bill_length_mm\": 49.8, \"bill_depth_mm\": 17.3, \"flipper_length_mm\": 198.0, \"body_mass_g\": 3675.0, \"sex\": \"female\", \"year\": 2009}, {\"species\": \"Chinstrap\", \"island\": \"Dream\", \"bill_length_mm\": 52.2, \"bill_depth_mm\": 18.8, \"flipper_length_mm\": 197.0, \"body_mass_g\": 3450.0, \"sex\": \"male\", \"year\": 2009}, {\"species\": \"Chinstrap\", \"island\": \"Dream\", \"bill_length_mm\": 51.4, \"bill_depth_mm\": 19.0, \"flipper_length_mm\": 201.0, \"body_mass_g\": 3950.0, \"sex\": \"male\", \"year\": 2009}, {\"species\": \"Chinstrap\", \"island\": \"Dream\", \"bill_length_mm\": 51.9, \"bill_depth_mm\": 19.5, \"flipper_length_mm\": 206.0, \"body_mass_g\": 3950.0, \"sex\": \"male\", \"year\": 2009}, {\"species\": \"Chinstrap\", \"island\": \"Dream\", \"bill_length_mm\": 50.8, \"bill_depth_mm\": 19.0, \"flipper_length_mm\": 210.0, \"body_mass_g\": 4100.0, \"sex\": \"male\", \"year\": 2009}, {\"species\": \"Chinstrap\", \"island\": \"Dream\", \"bill_length_mm\": 49.6, \"bill_depth_mm\": 18.2, \"flipper_length_mm\": 193.0, \"body_mass_g\": 3775.0, \"sex\": \"male\", \"year\": 2009}, {\"species\": \"Chinstrap\", \"island\": \"Dream\", \"bill_length_mm\": 43.5, \"bill_depth_mm\": 18.1, \"flipper_length_mm\": 202.0, \"body_mass_g\": 3400.0, \"sex\": \"female\", \"year\": 2009}, {\"species\": \"Chinstrap\", \"island\": \"Dream\", \"bill_length_mm\": 55.8, \"bill_depth_mm\": 19.8, \"flipper_length_mm\": 207.0, \"body_mass_g\": 4000.0, \"sex\": \"male\", \"year\": 2009}, {\"species\": \"Chinstrap\", \"island\": \"Dream\", \"bill_length_mm\": 45.7, \"bill_depth_mm\": 17.0, \"flipper_length_mm\": 195.0, \"body_mass_g\": 3650.0, \"sex\": \"female\", \"year\": 2009}, {\"species\": \"Chinstrap\", \"island\": \"Dream\", \"bill_length_mm\": 46.8, \"bill_depth_mm\": 16.5, \"flipper_length_mm\": 189.0, \"body_mass_g\": 3650.0, \"sex\": \"female\", \"year\": 2009}, {\"species\": \"Chinstrap\", \"island\": \"Dream\", \"bill_length_mm\": 45.6, \"bill_depth_mm\": 19.4, \"flipper_length_mm\": 194.0, \"body_mass_g\": 3525.0, \"sex\": \"female\", \"year\": 2009}, {\"species\": \"Chinstrap\", \"island\": \"Dream\", \"bill_length_mm\": 45.7, \"bill_depth_mm\": 17.3, \"flipper_length_mm\": 193.0, \"body_mass_g\": 3600.0, \"sex\": \"female\", \"year\": 2009}, {\"species\": \"Chinstrap\", \"island\": \"Dream\", \"bill_length_mm\": 50.2, \"bill_depth_mm\": 18.8, \"flipper_length_mm\": 202.0, \"body_mass_g\": 3800.0, \"sex\": \"male\", \"year\": 2009}, {\"species\": \"Chinstrap\", \"island\": \"Dream\", \"bill_length_mm\": 49.3, \"bill_depth_mm\": 19.9, \"flipper_length_mm\": 203.0, \"body_mass_g\": 4050.0, \"sex\": \"male\", \"year\": 2009}, {\"species\": \"Chinstrap\", \"island\": \"Dream\", \"bill_length_mm\": 45.2, \"bill_depth_mm\": 16.6, \"flipper_length_mm\": 191.0, \"body_mass_g\": 3250.0, \"sex\": \"female\", \"year\": 2009}, {\"species\": \"Chinstrap\", \"island\": \"Dream\", \"bill_length_mm\": 49.7, \"bill_depth_mm\": 18.6, \"flipper_length_mm\": 195.0, \"body_mass_g\": 3600.0, \"sex\": \"male\", \"year\": 2008}, {\"species\": \"Chinstrap\", \"island\": \"Dream\", \"bill_length_mm\": 42.5, \"bill_depth_mm\": 17.3, \"flipper_length_mm\": 187.0, \"body_mass_g\": 3350.0, \"sex\": \"female\", \"year\": 2009}, {\"species\": \"Chinstrap\", \"island\": \"Dream\", \"bill_length_mm\": 50.7, \"bill_depth_mm\": 19.7, \"flipper_length_mm\": 203.0, \"body_mass_g\": 4050.0, \"sex\": \"male\", \"year\": 2009}, {\"species\": \"Chinstrap\", \"island\": \"Dream\", \"bill_length_mm\": 47.5, \"bill_depth_mm\": 16.8, \"flipper_length_mm\": 199.0, \"body_mass_g\": 3900.0, \"sex\": \"female\", \"year\": 2008}, {\"species\": \"Chinstrap\", \"island\": \"Dream\", \"bill_length_mm\": 46.4, \"bill_depth_mm\": 17.8, \"flipper_length_mm\": 191.0, \"body_mass_g\": 3700.0, \"sex\": \"female\", \"year\": 2008}, {\"species\": \"Chinstrap\", \"island\": \"Dream\", \"bill_length_mm\": 51.0, \"bill_depth_mm\": 18.8, \"flipper_length_mm\": 203.0, \"body_mass_g\": 4100.0, \"sex\": \"male\", \"year\": 2008}, {\"species\": \"Chinstrap\", \"island\": \"Dream\", \"bill_length_mm\": 45.9, \"bill_depth_mm\": 17.1, \"flipper_length_mm\": 190.0, \"body_mass_g\": 3575.0, \"sex\": \"female\", \"year\": 2007}, {\"species\": \"Chinstrap\", \"island\": \"Dream\", \"bill_length_mm\": 46.5, \"bill_depth_mm\": 17.9, \"flipper_length_mm\": 192.0, \"body_mass_g\": 3500.0, \"sex\": \"female\", \"year\": 2007}, {\"species\": \"Chinstrap\", \"island\": \"Dream\", \"bill_length_mm\": 50.0, \"bill_depth_mm\": 19.5, \"flipper_length_mm\": 196.0, \"body_mass_g\": 3900.0, \"sex\": \"male\", \"year\": 2007}, {\"species\": \"Chinstrap\", \"island\": \"Dream\", \"bill_length_mm\": 51.3, \"bill_depth_mm\": 19.2, \"flipper_length_mm\": 193.0, \"body_mass_g\": 3650.0, \"sex\": \"male\", \"year\": 2007}, {\"species\": \"Chinstrap\", \"island\": \"Dream\", \"bill_length_mm\": 45.4, \"bill_depth_mm\": 18.7, \"flipper_length_mm\": 188.0, \"body_mass_g\": 3525.0, \"sex\": \"female\", \"year\": 2007}, {\"species\": \"Chinstrap\", \"island\": \"Dream\", \"bill_length_mm\": 52.7, \"bill_depth_mm\": 19.8, \"flipper_length_mm\": 197.0, \"body_mass_g\": 3725.0, \"sex\": \"male\", \"year\": 2007}, {\"species\": \"Chinstrap\", \"island\": \"Dream\", \"bill_length_mm\": 45.2, \"bill_depth_mm\": 17.8, \"flipper_length_mm\": 198.0, \"body_mass_g\": 3950.0, \"sex\": \"female\", \"year\": 2007}, {\"species\": \"Chinstrap\", \"island\": \"Dream\", \"bill_length_mm\": 46.1, \"bill_depth_mm\": 18.2, \"flipper_length_mm\": 178.0, \"body_mass_g\": 3250.0, \"sex\": \"female\", \"year\": 2007}, {\"species\": \"Chinstrap\", \"island\": \"Dream\", \"bill_length_mm\": 51.3, \"bill_depth_mm\": 18.2, \"flipper_length_mm\": 197.0, \"body_mass_g\": 3750.0, \"sex\": \"male\", \"year\": 2007}, {\"species\": \"Chinstrap\", \"island\": \"Dream\", \"bill_length_mm\": 46.0, \"bill_depth_mm\": 18.9, \"flipper_length_mm\": 195.0, \"body_mass_g\": 4150.0, \"sex\": \"female\", \"year\": 2007}, {\"species\": \"Chinstrap\", \"island\": \"Dream\", \"bill_length_mm\": 51.3, \"bill_depth_mm\": 19.9, \"flipper_length_mm\": 198.0, \"body_mass_g\": 3700.0, \"sex\": \"male\", \"year\": 2007}, {\"species\": \"Chinstrap\", \"island\": \"Dream\", \"bill_length_mm\": 46.6, \"bill_depth_mm\": 17.8, \"flipper_length_mm\": 193.0, \"body_mass_g\": 3800.0, \"sex\": \"female\", \"year\": 2007}, {\"species\": \"Chinstrap\", \"island\": \"Dream\", \"bill_length_mm\": 51.7, \"bill_depth_mm\": 20.3, \"flipper_length_mm\": 194.0, \"body_mass_g\": 3775.0, \"sex\": \"male\", \"year\": 2007}, {\"species\": \"Chinstrap\", \"island\": \"Dream\", \"bill_length_mm\": 47.0, \"bill_depth_mm\": 17.3, \"flipper_length_mm\": 185.0, \"body_mass_g\": 3700.0, \"sex\": \"female\", \"year\": 2007}, {\"species\": \"Chinstrap\", \"island\": \"Dream\", \"bill_length_mm\": 52.0, \"bill_depth_mm\": 18.1, \"flipper_length_mm\": 201.0, \"body_mass_g\": 4050.0, \"sex\": \"male\", \"year\": 2007}, {\"species\": \"Chinstrap\", \"island\": \"Dream\", \"bill_length_mm\": 50.5, \"bill_depth_mm\": 19.6, \"flipper_length_mm\": 201.0, \"body_mass_g\": 4050.0, \"sex\": \"male\", \"year\": 2007}, {\"species\": \"Chinstrap\", \"island\": \"Dream\", \"bill_length_mm\": 42.5, \"bill_depth_mm\": 16.7, \"flipper_length_mm\": 187.0, \"body_mass_g\": 3350.0, \"sex\": \"female\", \"year\": 2008}, {\"species\": \"Chinstrap\", \"island\": \"Dream\", \"bill_length_mm\": 50.3, \"bill_depth_mm\": 20.0, \"flipper_length_mm\": 197.0, \"body_mass_g\": 3300.0, \"sex\": \"male\", \"year\": 2007}, {\"species\": \"Chinstrap\", \"island\": \"Dream\", \"bill_length_mm\": 58.0, \"bill_depth_mm\": 17.8, \"flipper_length_mm\": 181.0, \"body_mass_g\": 3700.0, \"sex\": \"female\", \"year\": 2007}, {\"species\": \"Chinstrap\", \"island\": \"Dream\", \"bill_length_mm\": 46.4, \"bill_depth_mm\": 18.6, \"flipper_length_mm\": 190.0, \"body_mass_g\": 3450.0, \"sex\": \"female\", \"year\": 2007}, {\"species\": \"Chinstrap\", \"island\": \"Dream\", \"bill_length_mm\": 49.2, \"bill_depth_mm\": 18.2, \"flipper_length_mm\": 195.0, \"body_mass_g\": 4400.0, \"sex\": \"male\", \"year\": 2007}, {\"species\": \"Chinstrap\", \"island\": \"Dream\", \"bill_length_mm\": 48.5, \"bill_depth_mm\": 17.5, \"flipper_length_mm\": 191.0, \"body_mass_g\": 3400.0, \"sex\": \"male\", \"year\": 2007}, {\"species\": \"Chinstrap\", \"island\": \"Dream\", \"bill_length_mm\": 43.2, \"bill_depth_mm\": 16.6, \"flipper_length_mm\": 187.0, \"body_mass_g\": 2900.0, \"sex\": \"female\", \"year\": 2007}, {\"species\": \"Chinstrap\", \"island\": \"Dream\", \"bill_length_mm\": 50.6, \"bill_depth_mm\": 19.4, \"flipper_length_mm\": 193.0, \"body_mass_g\": 3800.0, \"sex\": \"male\", \"year\": 2007}, {\"species\": \"Chinstrap\", \"island\": \"Dream\", \"bill_length_mm\": 46.7, \"bill_depth_mm\": 17.9, \"flipper_length_mm\": 195.0, \"body_mass_g\": 3300.0, \"sex\": \"female\", \"year\": 2007}, {\"species\": \"Chinstrap\", \"island\": \"Dream\", \"bill_length_mm\": 52.0, \"bill_depth_mm\": 19.0, \"flipper_length_mm\": 197.0, \"body_mass_g\": 4150.0, \"sex\": \"male\", \"year\": 2007}, {\"species\": \"Chinstrap\", \"island\": \"Dream\", \"bill_length_mm\": 50.5, \"bill_depth_mm\": 18.4, \"flipper_length_mm\": 200.0, \"body_mass_g\": 3400.0, \"sex\": \"female\", \"year\": 2008}, {\"species\": \"Chinstrap\", \"island\": \"Dream\", \"bill_length_mm\": 49.5, \"bill_depth_mm\": 19.0, \"flipper_length_mm\": 200.0, \"body_mass_g\": 3800.0, \"sex\": \"male\", \"year\": 2008}, {\"species\": \"Chinstrap\", \"island\": \"Dream\", \"bill_length_mm\": 52.8, \"bill_depth_mm\": 20.0, \"flipper_length_mm\": 205.0, \"body_mass_g\": 4550.0, \"sex\": \"male\", \"year\": 2008}, {\"species\": \"Chinstrap\", \"island\": \"Dream\", \"bill_length_mm\": 40.9, \"bill_depth_mm\": 16.6, \"flipper_length_mm\": 187.0, \"body_mass_g\": 3200.0, \"sex\": \"female\", \"year\": 2008}, {\"species\": \"Chinstrap\", \"island\": \"Dream\", \"bill_length_mm\": 54.2, \"bill_depth_mm\": 20.8, \"flipper_length_mm\": 201.0, \"body_mass_g\": 4300.0, \"sex\": \"male\", \"year\": 2008}, {\"species\": \"Chinstrap\", \"island\": \"Dream\", \"bill_length_mm\": 42.4, \"bill_depth_mm\": 17.3, \"flipper_length_mm\": 181.0, \"body_mass_g\": 3600.0, \"sex\": \"female\", \"year\": 2007}, {\"species\": \"Chinstrap\", \"island\": \"Dream\", \"bill_length_mm\": 50.2, \"bill_depth_mm\": 18.7, \"flipper_length_mm\": 198.0, \"body_mass_g\": 3775.0, \"sex\": \"female\", \"year\": 2009}, {\"species\": \"Adelie\", \"island\": \"Torgersen\", \"bill_length_mm\": 39.5, \"bill_depth_mm\": 17.4, \"flipper_length_mm\": 186.0, \"body_mass_g\": 3800.0, \"sex\": \"female\", \"year\": 2007}, {\"species\": \"Adelie\", \"island\": \"Dream\", \"bill_length_mm\": 36.0, \"bill_depth_mm\": 17.9, \"flipper_length_mm\": 190.0, \"body_mass_g\": 3450.0, \"sex\": \"female\", \"year\": 2007}, {\"species\": \"Adelie\", \"island\": \"Biscoe\", \"bill_length_mm\": 41.4, \"bill_depth_mm\": 18.6, \"flipper_length_mm\": 191.0, \"body_mass_g\": 3700.0, \"sex\": \"male\", \"year\": 2008}, {\"species\": \"Adelie\", \"island\": \"Biscoe\", \"bill_length_mm\": 34.5, \"bill_depth_mm\": 18.1, \"flipper_length_mm\": 187.0, \"body_mass_g\": 2900.0, \"sex\": \"female\", \"year\": 2008}, {\"species\": \"Adelie\", \"island\": \"Biscoe\", \"bill_length_mm\": 42.0, \"bill_depth_mm\": 19.5, \"flipper_length_mm\": 200.0, \"body_mass_g\": 4050.0, \"sex\": \"male\", \"year\": 2008}, {\"species\": \"Adelie\", \"island\": \"Biscoe\", \"bill_length_mm\": 35.0, \"bill_depth_mm\": 17.9, \"flipper_length_mm\": 190.0, \"body_mass_g\": 3450.0, \"sex\": \"female\", \"year\": 2008}, {\"species\": \"Adelie\", \"island\": \"Biscoe\", \"bill_length_mm\": 40.1, \"bill_depth_mm\": 18.9, \"flipper_length_mm\": 188.0, \"body_mass_g\": 4300.0, \"sex\": \"male\", \"year\": 2008}, {\"species\": \"Adelie\", \"island\": \"Biscoe\", \"bill_length_mm\": 39.6, \"bill_depth_mm\": 17.7, \"flipper_length_mm\": 186.0, \"body_mass_g\": 3500.0, \"sex\": \"female\", \"year\": 2008}, {\"species\": \"Adelie\", \"island\": \"Dream\", \"bill_length_mm\": 42.3, \"bill_depth_mm\": 21.2, \"flipper_length_mm\": 191.0, \"body_mass_g\": 4150.0, \"sex\": \"male\", \"year\": 2007}, {\"species\": \"Adelie\", \"island\": \"Dream\", \"bill_length_mm\": 37.5, \"bill_depth_mm\": 18.9, \"flipper_length_mm\": 179.0, \"body_mass_g\": 2975.0, \"sex\": null, \"year\": 2007}, {\"species\": \"Adelie\", \"island\": \"Dream\", \"bill_length_mm\": 41.5, \"bill_depth_mm\": 18.5, \"flipper_length_mm\": 201.0, \"body_mass_g\": 4000.0, \"sex\": \"male\", \"year\": 2009}, {\"species\": \"Adelie\", \"island\": \"Dream\", \"bill_length_mm\": 41.1, \"bill_depth_mm\": 19.0, \"flipper_length_mm\": 182.0, \"body_mass_g\": 3425.0, \"sex\": \"male\", \"year\": 2007}, {\"species\": \"Adelie\", \"island\": \"Dream\", \"bill_length_mm\": 39.6, \"bill_depth_mm\": 18.8, \"flipper_length_mm\": 190.0, \"body_mass_g\": 4600.0, \"sex\": \"male\", \"year\": 2007}, {\"species\": \"Adelie\", \"island\": \"Dream\", \"bill_length_mm\": 37.0, \"bill_depth_mm\": 16.9, \"flipper_length_mm\": 185.0, \"body_mass_g\": 3000.0, \"sex\": \"female\", \"year\": 2007}, {\"species\": \"Adelie\", \"island\": \"Dream\", \"bill_length_mm\": 44.1, \"bill_depth_mm\": 19.7, \"flipper_length_mm\": 196.0, \"body_mass_g\": 4400.0, \"sex\": \"male\", \"year\": 2007}, {\"species\": \"Adelie\", \"island\": \"Dream\", \"bill_length_mm\": 36.0, \"bill_depth_mm\": 18.5, \"flipper_length_mm\": 186.0, \"body_mass_g\": 3100.0, \"sex\": \"female\", \"year\": 2007}, {\"species\": \"Adelie\", \"island\": \"Dream\", \"bill_length_mm\": 40.8, \"bill_depth_mm\": 18.4, \"flipper_length_mm\": 195.0, \"body_mass_g\": 3900.0, \"sex\": \"male\", \"year\": 2007}, {\"species\": \"Adelie\", \"island\": \"Dream\", \"bill_length_mm\": 36.5, \"bill_depth_mm\": 18.0, \"flipper_length_mm\": 182.0, \"body_mass_g\": 3150.0, \"sex\": \"female\", \"year\": 2007}, {\"species\": \"Adelie\", \"island\": \"Biscoe\", \"bill_length_mm\": 39.0, \"bill_depth_mm\": 17.5, \"flipper_length_mm\": 186.0, \"body_mass_g\": 3550.0, \"sex\": \"female\", \"year\": 2008}, {\"species\": \"Adelie\", \"island\": \"Biscoe\", \"bill_length_mm\": 40.6, \"bill_depth_mm\": 18.8, \"flipper_length_mm\": 193.0, \"body_mass_g\": 3800.0, \"sex\": \"male\", \"year\": 2008}, {\"species\": \"Adelie\", \"island\": \"Biscoe\", \"bill_length_mm\": 36.5, \"bill_depth_mm\": 16.6, \"flipper_length_mm\": 181.0, \"body_mass_g\": 2850.0, \"sex\": \"female\", \"year\": 2008}, {\"species\": \"Adelie\", \"island\": \"Biscoe\", \"bill_length_mm\": 37.6, \"bill_depth_mm\": 19.1, \"flipper_length_mm\": 194.0, \"body_mass_g\": 3750.0, \"sex\": \"male\", \"year\": 2008}, {\"species\": \"Adelie\", \"island\": \"Torgersen\", \"bill_length_mm\": 35.5, \"bill_depth_mm\": 17.5, \"flipper_length_mm\": 190.0, \"body_mass_g\": 3700.0, \"sex\": \"female\", \"year\": 2008}, {\"species\": \"Adelie\", \"island\": \"Torgersen\", \"bill_length_mm\": 45.8, \"bill_depth_mm\": 18.9, \"flipper_length_mm\": 197.0, \"body_mass_g\": 4150.0, \"sex\": \"male\", \"year\": 2008}, {\"species\": \"Adelie\", \"island\": \"Torgersen\", \"bill_length_mm\": 39.6, \"bill_depth_mm\": 17.2, \"flipper_length_mm\": 196.0, \"body_mass_g\": 3550.0, \"sex\": \"female\", \"year\": 2008}, {\"species\": \"Adelie\", \"island\": \"Torgersen\", \"bill_length_mm\": 39.7, \"bill_depth_mm\": 18.4, \"flipper_length_mm\": 190.0, \"body_mass_g\": 3900.0, \"sex\": \"male\", \"year\": 2008}, {\"species\": \"Adelie\", \"island\": \"Torgersen\", \"bill_length_mm\": 33.5, \"bill_depth_mm\": 19.0, \"flipper_length_mm\": 190.0, \"body_mass_g\": 3600.0, \"sex\": \"female\", \"year\": 2008}, {\"species\": \"Adelie\", \"island\": \"Torgersen\", \"bill_length_mm\": 41.8, \"bill_depth_mm\": 19.4, \"flipper_length_mm\": 198.0, \"body_mass_g\": 4450.0, \"sex\": \"male\", \"year\": 2008}, {\"species\": \"Adelie\", \"island\": \"Torgersen\", \"bill_length_mm\": 35.9, \"bill_depth_mm\": 16.6, \"flipper_length_mm\": 190.0, \"body_mass_g\": 3050.0, \"sex\": \"female\", \"year\": 2008}, {\"species\": \"Adelie\", \"island\": \"Biscoe\", \"bill_length_mm\": 41.1, \"bill_depth_mm\": 19.1, \"flipper_length_mm\": 188.0, \"body_mass_g\": 4100.0, \"sex\": \"male\", \"year\": 2008}, {\"species\": \"Adelie\", \"island\": \"Biscoe\", \"bill_length_mm\": 35.5, \"bill_depth_mm\": 16.2, \"flipper_length_mm\": 195.0, \"body_mass_g\": 3350.0, \"sex\": \"female\", \"year\": 2008}, {\"species\": \"Adelie\", \"island\": \"Biscoe\", \"bill_length_mm\": 41.6, \"bill_depth_mm\": 18.0, \"flipper_length_mm\": 192.0, \"body_mass_g\": 3950.0, \"sex\": \"male\", \"year\": 2008}, {\"species\": \"Adelie\", \"island\": \"Biscoe\", \"bill_length_mm\": 36.4, \"bill_depth_mm\": 17.1, \"flipper_length_mm\": 184.0, \"body_mass_g\": 2850.0, \"sex\": \"female\", \"year\": 2008}, {\"species\": \"Adelie\", \"island\": \"Biscoe\", \"bill_length_mm\": 41.1, \"bill_depth_mm\": 18.2, \"flipper_length_mm\": 192.0, \"body_mass_g\": 4050.0, \"sex\": \"male\", \"year\": 2008}, {\"species\": \"Adelie\", \"island\": \"Biscoe\", \"bill_length_mm\": 37.6, \"bill_depth_mm\": 17.0, \"flipper_length_mm\": 185.0, \"body_mass_g\": 3600.0, \"sex\": \"female\", \"year\": 2008}, {\"species\": \"Adelie\", \"island\": \"Biscoe\", \"bill_length_mm\": 41.3, \"bill_depth_mm\": 21.1, \"flipper_length_mm\": 195.0, \"body_mass_g\": 4400.0, \"sex\": \"male\", \"year\": 2008}, {\"species\": \"Adelie\", \"island\": \"Biscoe\", \"bill_length_mm\": 35.7, \"bill_depth_mm\": 16.9, \"flipper_length_mm\": 185.0, \"body_mass_g\": 3150.0, \"sex\": \"female\", \"year\": 2008}, {\"species\": \"Adelie\", \"island\": \"Dream\", \"bill_length_mm\": 39.8, \"bill_depth_mm\": 19.1, \"flipper_length_mm\": 184.0, \"body_mass_g\": 4650.0, \"sex\": \"male\", \"year\": 2007}, {\"species\": \"Adelie\", \"island\": \"Dream\", \"bill_length_mm\": 37.6, \"bill_depth_mm\": 19.3, \"flipper_length_mm\": 181.0, \"body_mass_g\": 3300.0, \"sex\": \"female\", \"year\": 2007}, {\"species\": \"Adelie\", \"island\": \"Dream\", \"bill_length_mm\": 42.2, \"bill_depth_mm\": 18.5, \"flipper_length_mm\": 180.0, \"body_mass_g\": 3550.0, \"sex\": \"female\", \"year\": 2007}, {\"species\": \"Adelie\", \"island\": \"Torgersen\", \"bill_length_mm\": 34.4, \"bill_depth_mm\": 18.4, \"flipper_length_mm\": 184.0, \"body_mass_g\": 3325.0, \"sex\": \"female\", \"year\": 2007}, {\"species\": \"Adelie\", \"island\": \"Torgersen\", \"bill_length_mm\": 38.7, \"bill_depth_mm\": 19.0, \"flipper_length_mm\": 195.0, \"body_mass_g\": 3450.0, \"sex\": \"female\", \"year\": 2007}, {\"species\": \"Adelie\", \"island\": \"Torgersen\", \"bill_length_mm\": 36.6, \"bill_depth_mm\": 17.8, \"flipper_length_mm\": 185.0, \"body_mass_g\": 3700.0, \"sex\": \"female\", \"year\": 2007}, {\"species\": \"Adelie\", \"island\": \"Torgersen\", \"bill_length_mm\": 34.6, \"bill_depth_mm\": 21.1, \"flipper_length_mm\": 198.0, \"body_mass_g\": 4400.0, \"sex\": \"male\", \"year\": 2007}, {\"species\": \"Adelie\", \"island\": \"Torgersen\", \"bill_length_mm\": 38.6, \"bill_depth_mm\": 21.2, \"flipper_length_mm\": 191.0, \"body_mass_g\": 3800.0, \"sex\": \"male\", \"year\": 2007}, {\"species\": \"Adelie\", \"island\": \"Torgersen\", \"bill_length_mm\": 41.1, \"bill_depth_mm\": 17.6, \"flipper_length_mm\": 182.0, \"body_mass_g\": 3200.0, \"sex\": \"female\", \"year\": 2007}, {\"species\": \"Adelie\", \"island\": \"Torgersen\", \"bill_length_mm\": 37.8, \"bill_depth_mm\": 17.3, \"flipper_length_mm\": 180.0, \"body_mass_g\": 3700.0, \"sex\": null, \"year\": 2007}, {\"species\": \"Adelie\", \"island\": \"Torgersen\", \"bill_length_mm\": 37.8, \"bill_depth_mm\": 17.1, \"flipper_length_mm\": 186.0, \"body_mass_g\": 3300.0, \"sex\": null, \"year\": 2007}, {\"species\": \"Adelie\", \"island\": \"Torgersen\", \"bill_length_mm\": 42.0, \"bill_depth_mm\": 20.2, \"flipper_length_mm\": 190.0, \"body_mass_g\": 4250.0, \"sex\": null, \"year\": 2007}, {\"species\": \"Adelie\", \"island\": \"Torgersen\", \"bill_length_mm\": 34.1, \"bill_depth_mm\": 18.1, \"flipper_length_mm\": 193.0, \"body_mass_g\": 3475.0, \"sex\": null, \"year\": 2007}, {\"species\": \"Adelie\", \"island\": \"Torgersen\", \"bill_length_mm\": 39.2, \"bill_depth_mm\": 19.6, \"flipper_length_mm\": 195.0, \"body_mass_g\": 4675.0, \"sex\": \"male\", \"year\": 2007}, {\"species\": \"Adelie\", \"island\": \"Torgersen\", \"bill_length_mm\": 38.9, \"bill_depth_mm\": 17.8, \"flipper_length_mm\": 181.0, \"body_mass_g\": 3625.0, \"sex\": \"female\", \"year\": 2007}, {\"species\": \"Adelie\", \"island\": \"Torgersen\", \"bill_length_mm\": 39.3, \"bill_depth_mm\": 20.6, \"flipper_length_mm\": 190.0, \"body_mass_g\": 3650.0, \"sex\": \"male\", \"year\": 2007}, {\"species\": \"Adelie\", \"island\": \"Torgersen\", \"bill_length_mm\": 36.7, \"bill_depth_mm\": 19.3, \"flipper_length_mm\": 193.0, \"body_mass_g\": 3450.0, \"sex\": \"female\", \"year\": 2007}, {\"species\": \"Adelie\", \"island\": \"Torgersen\", \"bill_length_mm\": null, \"bill_depth_mm\": null, \"flipper_length_mm\": null, \"body_mass_g\": null, \"sex\": null, \"year\": 2007}, {\"species\": \"Adelie\", \"island\": \"Torgersen\", \"bill_length_mm\": 40.3, \"bill_depth_mm\": 18.0, \"flipper_length_mm\": 195.0, \"body_mass_g\": 3250.0, \"sex\": \"female\", \"year\": 2007}, {\"species\": \"Adelie\", \"island\": \"Torgersen\", \"bill_length_mm\": 42.5, \"bill_depth_mm\": 20.7, \"flipper_length_mm\": 197.0, \"body_mass_g\": 4500.0, \"sex\": \"male\", \"year\": 2007}, {\"species\": \"Adelie\", \"island\": \"Torgersen\", \"bill_length_mm\": 46.0, \"bill_depth_mm\": 21.5, \"flipper_length_mm\": 194.0, \"body_mass_g\": 4200.0, \"sex\": \"male\", \"year\": 2007}, {\"species\": \"Adelie\", \"island\": \"Dream\", \"bill_length_mm\": 38.8, \"bill_depth_mm\": 20.0, \"flipper_length_mm\": 190.0, \"body_mass_g\": 3950.0, \"sex\": \"male\", \"year\": 2007}, {\"species\": \"Adelie\", \"island\": \"Biscoe\", \"bill_length_mm\": 37.8, \"bill_depth_mm\": 18.3, \"flipper_length_mm\": 174.0, \"body_mass_g\": 3400.0, \"sex\": \"female\", \"year\": 2007}, {\"species\": \"Adelie\", \"island\": \"Dream\", \"bill_length_mm\": 39.2, \"bill_depth_mm\": 21.1, \"flipper_length_mm\": 196.0, \"body_mass_g\": 4150.0, \"sex\": \"male\", \"year\": 2007}, {\"species\": \"Adelie\", \"island\": \"Dream\", \"bill_length_mm\": 36.4, \"bill_depth_mm\": 17.0, \"flipper_length_mm\": 195.0, \"body_mass_g\": 3325.0, \"sex\": \"female\", \"year\": 2007}, {\"species\": \"Adelie\", \"island\": \"Dream\", \"bill_length_mm\": 40.9, \"bill_depth_mm\": 18.9, \"flipper_length_mm\": 184.0, \"body_mass_g\": 3900.0, \"sex\": \"male\", \"year\": 2007}, {\"species\": \"Adelie\", \"island\": \"Dream\", \"bill_length_mm\": 39.5, \"bill_depth_mm\": 17.8, \"flipper_length_mm\": 188.0, \"body_mass_g\": 3300.0, \"sex\": \"female\", \"year\": 2007}, {\"species\": \"Adelie\", \"island\": \"Dream\", \"bill_length_mm\": 37.2, \"bill_depth_mm\": 18.1, \"flipper_length_mm\": 178.0, \"body_mass_g\": 3900.0, \"sex\": \"male\", \"year\": 2007}, {\"species\": \"Adelie\", \"island\": \"Dream\", \"bill_length_mm\": 39.5, \"bill_depth_mm\": 16.7, \"flipper_length_mm\": 178.0, \"body_mass_g\": 3250.0, \"sex\": \"female\", \"year\": 2007}, {\"species\": \"Adelie\", \"island\": \"Biscoe\", \"bill_length_mm\": 40.5, \"bill_depth_mm\": 18.9, \"flipper_length_mm\": 180.0, \"body_mass_g\": 3950.0, \"sex\": \"male\", \"year\": 2007}, {\"species\": \"Adelie\", \"island\": \"Biscoe\", \"bill_length_mm\": 37.9, \"bill_depth_mm\": 18.6, \"flipper_length_mm\": 172.0, \"body_mass_g\": 3150.0, \"sex\": \"female\", \"year\": 2007}, {\"species\": \"Adelie\", \"island\": \"Biscoe\", \"bill_length_mm\": 40.5, \"bill_depth_mm\": 17.9, \"flipper_length_mm\": 187.0, \"body_mass_g\": 3200.0, \"sex\": \"female\", \"year\": 2007}, {\"species\": \"Adelie\", \"island\": \"Biscoe\", \"bill_length_mm\": 40.6, \"bill_depth_mm\": 18.6, \"flipper_length_mm\": 183.0, \"body_mass_g\": 3550.0, \"sex\": \"male\", \"year\": 2007}, {\"species\": \"Adelie\", \"island\": \"Biscoe\", \"bill_length_mm\": 35.3, \"bill_depth_mm\": 18.9, \"flipper_length_mm\": 187.0, \"body_mass_g\": 3800.0, \"sex\": \"female\", \"year\": 2007}, {\"species\": \"Adelie\", \"island\": \"Biscoe\", \"bill_length_mm\": 38.8, \"bill_depth_mm\": 17.2, \"flipper_length_mm\": 180.0, \"body_mass_g\": 3800.0, \"sex\": \"male\", \"year\": 2007}, {\"species\": \"Adelie\", \"island\": \"Biscoe\", \"bill_length_mm\": 38.2, \"bill_depth_mm\": 18.1, \"flipper_length_mm\": 185.0, \"body_mass_g\": 3950.0, \"sex\": \"male\", \"year\": 2007}, {\"species\": \"Adelie\", \"island\": \"Biscoe\", \"bill_length_mm\": 35.9, \"bill_depth_mm\": 19.2, \"flipper_length_mm\": 189.0, \"body_mass_g\": 3800.0, \"sex\": \"female\", \"year\": 2007}, {\"species\": \"Adelie\", \"island\": \"Biscoe\", \"bill_length_mm\": 37.7, \"bill_depth_mm\": 18.7, \"flipper_length_mm\": 180.0, \"body_mass_g\": 3600.0, \"sex\": \"male\", \"year\": 2007}, {\"species\": \"Adelie\", \"island\": \"Torgersen\", \"bill_length_mm\": 42.8, \"bill_depth_mm\": 18.5, \"flipper_length_mm\": 195.0, \"body_mass_g\": 4250.0, \"sex\": \"male\", \"year\": 2008}, {\"species\": \"Adelie\", \"island\": \"Torgersen\", \"bill_length_mm\": 40.9, \"bill_depth_mm\": 16.8, \"flipper_length_mm\": 191.0, \"body_mass_g\": 3700.0, \"sex\": \"female\", \"year\": 2008}, {\"species\": \"Adelie\", \"island\": \"Torgersen\", \"bill_length_mm\": 37.2, \"bill_depth_mm\": 19.4, \"flipper_length_mm\": 184.0, \"body_mass_g\": 3900.0, \"sex\": \"male\", \"year\": 2008}, {\"species\": \"Adelie\", \"island\": \"Dream\", \"bill_length_mm\": 37.5, \"bill_depth_mm\": 18.5, \"flipper_length_mm\": 199.0, \"body_mass_g\": 4475.0, \"sex\": \"male\", \"year\": 2009}, {\"species\": \"Adelie\", \"island\": \"Torgersen\", \"bill_length_mm\": 43.1, \"bill_depth_mm\": 19.2, \"flipper_length_mm\": 197.0, \"body_mass_g\": 3500.0, \"sex\": \"male\", \"year\": 2009}, {\"species\": \"Adelie\", \"island\": \"Torgersen\", \"bill_length_mm\": 38.5, \"bill_depth_mm\": 17.9, \"flipper_length_mm\": 190.0, \"body_mass_g\": 3325.0, \"sex\": \"female\", \"year\": 2009}, {\"species\": \"Adelie\", \"island\": \"Torgersen\", \"bill_length_mm\": 44.1, \"bill_depth_mm\": 18.0, \"flipper_length_mm\": 210.0, \"body_mass_g\": 4000.0, \"sex\": \"male\", \"year\": 2009}, {\"species\": \"Adelie\", \"island\": \"Torgersen\", \"bill_length_mm\": 39.0, \"bill_depth_mm\": 17.1, \"flipper_length_mm\": 191.0, \"body_mass_g\": 3050.0, \"sex\": \"female\", \"year\": 2009}, {\"species\": \"Adelie\", \"island\": \"Torgersen\", \"bill_length_mm\": 41.5, \"bill_depth_mm\": 18.3, \"flipper_length_mm\": 195.0, \"body_mass_g\": 4300.0, \"sex\": \"male\", \"year\": 2009}, {\"species\": \"Adelie\", \"island\": \"Torgersen\", \"bill_length_mm\": 38.8, \"bill_depth_mm\": 17.6, \"flipper_length_mm\": 191.0, \"body_mass_g\": 3275.0, \"sex\": \"female\", \"year\": 2009}, {\"species\": \"Adelie\", \"island\": \"Torgersen\", \"bill_length_mm\": 40.6, \"bill_depth_mm\": 19.0, \"flipper_length_mm\": 199.0, \"body_mass_g\": 4000.0, \"sex\": \"male\", \"year\": 2009}, {\"species\": \"Adelie\", \"island\": \"Torgersen\", \"bill_length_mm\": 35.2, \"bill_depth_mm\": 15.9, \"flipper_length_mm\": 186.0, \"body_mass_g\": 3050.0, \"sex\": \"female\", \"year\": 2009}, {\"species\": \"Adelie\", \"island\": \"Torgersen\", \"bill_length_mm\": 41.4, \"bill_depth_mm\": 18.5, \"flipper_length_mm\": 202.0, \"body_mass_g\": 3875.0, \"sex\": \"male\", \"year\": 2009}, {\"species\": \"Adelie\", \"island\": \"Torgersen\", \"bill_length_mm\": 40.2, \"bill_depth_mm\": 17.0, \"flipper_length_mm\": 176.0, \"body_mass_g\": 3450.0, \"sex\": \"female\", \"year\": 2009}, {\"species\": \"Adelie\", \"island\": \"Torgersen\", \"bill_length_mm\": 37.7, \"bill_depth_mm\": 19.8, \"flipper_length_mm\": 198.0, \"body_mass_g\": 3500.0, \"sex\": \"male\", \"year\": 2009}, {\"species\": \"Adelie\", \"island\": \"Torgersen\", \"bill_length_mm\": 36.2, \"bill_depth_mm\": 17.2, \"flipper_length_mm\": 187.0, \"body_mass_g\": 3150.0, \"sex\": \"female\", \"year\": 2009}, {\"species\": \"Adelie\", \"island\": \"Torgersen\", \"bill_length_mm\": 41.1, \"bill_depth_mm\": 18.6, \"flipper_length_mm\": 189.0, \"body_mass_g\": 3325.0, \"sex\": \"male\", \"year\": 2009}, {\"species\": \"Adelie\", \"island\": \"Torgersen\", \"bill_length_mm\": 35.7, \"bill_depth_mm\": 17.0, \"flipper_length_mm\": 189.0, \"body_mass_g\": 3350.0, \"sex\": \"female\", \"year\": 2009}, {\"species\": \"Adelie\", \"island\": \"Torgersen\", \"bill_length_mm\": 37.3, \"bill_depth_mm\": 20.5, \"flipper_length_mm\": 199.0, \"body_mass_g\": 3775.0, \"sex\": \"male\", \"year\": 2009}, {\"species\": \"Adelie\", \"island\": \"Dream\", \"bill_length_mm\": 36.8, \"bill_depth_mm\": 18.5, \"flipper_length_mm\": 193.0, \"body_mass_g\": 3500.0, \"sex\": \"female\", \"year\": 2009}, {\"species\": \"Adelie\", \"island\": \"Dream\", \"bill_length_mm\": 38.1, \"bill_depth_mm\": 17.6, \"flipper_length_mm\": 187.0, \"body_mass_g\": 3425.0, \"sex\": \"female\", \"year\": 2009}, {\"species\": \"Adelie\", \"island\": \"Biscoe\", \"bill_length_mm\": 42.7, \"bill_depth_mm\": 18.3, \"flipper_length_mm\": 196.0, \"body_mass_g\": 4075.0, \"sex\": \"male\", \"year\": 2009}, {\"species\": \"Adelie\", \"island\": \"Dream\", \"bill_length_mm\": 41.1, \"bill_depth_mm\": 17.5, \"flipper_length_mm\": 190.0, \"body_mass_g\": 3900.0, \"sex\": \"male\", \"year\": 2009}, {\"species\": \"Adelie\", \"island\": \"Dream\", \"bill_length_mm\": 36.0, \"bill_depth_mm\": 17.1, \"flipper_length_mm\": 187.0, \"body_mass_g\": 3700.0, \"sex\": \"female\", \"year\": 2009}, {\"species\": \"Adelie\", \"island\": \"Dream\", \"bill_length_mm\": 37.8, \"bill_depth_mm\": 18.1, \"flipper_length_mm\": 193.0, \"body_mass_g\": 3750.0, \"sex\": \"male\", \"year\": 2009}, {\"species\": \"Adelie\", \"island\": \"Dream\", \"bill_length_mm\": 36.0, \"bill_depth_mm\": 17.8, \"flipper_length_mm\": 195.0, \"body_mass_g\": 3450.0, \"sex\": \"female\", \"year\": 2009}, {\"species\": \"Adelie\", \"island\": \"Dream\", \"bill_length_mm\": 36.6, \"bill_depth_mm\": 18.4, \"flipper_length_mm\": 184.0, \"body_mass_g\": 3475.0, \"sex\": \"female\", \"year\": 2009}, {\"species\": \"Adelie\", \"island\": \"Dream\", \"bill_length_mm\": 39.2, \"bill_depth_mm\": 18.6, \"flipper_length_mm\": 190.0, \"body_mass_g\": 4250.0, \"sex\": \"male\", \"year\": 2009}, {\"species\": \"Adelie\", \"island\": \"Dream\", \"bill_length_mm\": 39.0, \"bill_depth_mm\": 18.7, \"flipper_length_mm\": 185.0, \"body_mass_g\": 3650.0, \"sex\": \"male\", \"year\": 2009}, {\"species\": \"Adelie\", \"island\": \"Dream\", \"bill_length_mm\": 37.3, \"bill_depth_mm\": 16.8, \"flipper_length_mm\": 192.0, \"body_mass_g\": 3000.0, \"sex\": \"female\", \"year\": 2009}, {\"species\": \"Adelie\", \"island\": \"Dream\", \"bill_length_mm\": 40.7, \"bill_depth_mm\": 17.0, \"flipper_length_mm\": 190.0, \"body_mass_g\": 3725.0, \"sex\": \"male\", \"year\": 2009}, {\"species\": \"Adelie\", \"island\": \"Dream\", \"bill_length_mm\": 32.1, \"bill_depth_mm\": 15.5, \"flipper_length_mm\": 188.0, \"body_mass_g\": 3050.0, \"sex\": \"female\", \"year\": 2009}, {\"species\": \"Adelie\", \"island\": \"Dream\", \"bill_length_mm\": 40.6, \"bill_depth_mm\": 17.2, \"flipper_length_mm\": 187.0, \"body_mass_g\": 3475.0, \"sex\": \"male\", \"year\": 2009}, {\"species\": \"Adelie\", \"island\": \"Dream\", \"bill_length_mm\": 40.2, \"bill_depth_mm\": 17.1, \"flipper_length_mm\": 193.0, \"body_mass_g\": 3400.0, \"sex\": \"female\", \"year\": 2009}, {\"species\": \"Adelie\", \"island\": \"Dream\", \"bill_length_mm\": 39.7, \"bill_depth_mm\": 17.9, \"flipper_length_mm\": 193.0, \"body_mass_g\": 4250.0, \"sex\": \"male\", \"year\": 2009}, {\"species\": \"Adelie\", \"island\": \"Dream\", \"bill_length_mm\": 37.0, \"bill_depth_mm\": 16.5, \"flipper_length_mm\": 185.0, \"body_mass_g\": 3400.0, \"sex\": \"female\", \"year\": 2009}, {\"species\": \"Adelie\", \"island\": \"Dream\", \"bill_length_mm\": 40.2, \"bill_depth_mm\": 20.1, \"flipper_length_mm\": 200.0, \"body_mass_g\": 3975.0, \"sex\": \"male\", \"year\": 2009}, {\"species\": \"Adelie\", \"island\": \"Dream\", \"bill_length_mm\": 35.6, \"bill_depth_mm\": 17.5, \"flipper_length_mm\": 191.0, \"body_mass_g\": 3175.0, \"sex\": \"female\", \"year\": 2009}, {\"species\": \"Adelie\", \"island\": \"Torgersen\", \"bill_length_mm\": 38.6, \"bill_depth_mm\": 17.0, \"flipper_length_mm\": 188.0, \"body_mass_g\": 2900.0, \"sex\": \"female\", \"year\": 2009}, {\"species\": \"Adelie\", \"island\": \"Biscoe\", \"bill_length_mm\": 39.6, \"bill_depth_mm\": 20.7, \"flipper_length_mm\": 191.0, \"body_mass_g\": 3900.0, \"sex\": \"female\", \"year\": 2009}, {\"species\": \"Adelie\", \"island\": \"Torgersen\", \"bill_length_mm\": 36.2, \"bill_depth_mm\": 16.1, \"flipper_length_mm\": 187.0, \"body_mass_g\": 3550.0, \"sex\": \"female\", \"year\": 2008}, {\"species\": \"Adelie\", \"island\": \"Dream\", \"bill_length_mm\": 40.8, \"bill_depth_mm\": 18.9, \"flipper_length_mm\": 208.0, \"body_mass_g\": 4300.0, \"sex\": \"male\", \"year\": 2008}, {\"species\": \"Adelie\", \"island\": \"Dream\", \"bill_length_mm\": 39.6, \"bill_depth_mm\": 18.1, \"flipper_length_mm\": 186.0, \"body_mass_g\": 4450.0, \"sex\": \"male\", \"year\": 2008}, {\"species\": \"Adelie\", \"island\": \"Dream\", \"bill_length_mm\": 34.0, \"bill_depth_mm\": 17.1, \"flipper_length_mm\": 185.0, \"body_mass_g\": 3400.0, \"sex\": \"female\", \"year\": 2008}, {\"species\": \"Adelie\", \"island\": \"Dream\", \"bill_length_mm\": 41.1, \"bill_depth_mm\": 18.1, \"flipper_length_mm\": 205.0, \"body_mass_g\": 4300.0, \"sex\": \"male\", \"year\": 2008}, {\"species\": \"Adelie\", \"island\": \"Dream\", \"bill_length_mm\": 35.7, \"bill_depth_mm\": 18.0, \"flipper_length_mm\": 202.0, \"body_mass_g\": 3550.0, \"sex\": \"female\", \"year\": 2008}, {\"species\": \"Adelie\", \"island\": \"Dream\", \"bill_length_mm\": 38.9, \"bill_depth_mm\": 18.8, \"flipper_length_mm\": 190.0, \"body_mass_g\": 3600.0, \"sex\": \"female\", \"year\": 2008}, {\"species\": \"Adelie\", \"island\": \"Dream\", \"bill_length_mm\": 38.3, \"bill_depth_mm\": 19.2, \"flipper_length_mm\": 189.0, \"body_mass_g\": 3950.0, \"sex\": \"male\", \"year\": 2008}, {\"species\": \"Adelie\", \"island\": \"Dream\", \"bill_length_mm\": 36.9, \"bill_depth_mm\": 18.6, \"flipper_length_mm\": 189.0, \"body_mass_g\": 3500.0, \"sex\": \"female\", \"year\": 2008}, {\"species\": \"Adelie\", \"island\": \"Dream\", \"bill_length_mm\": 36.3, \"bill_depth_mm\": 19.5, \"flipper_length_mm\": 190.0, \"body_mass_g\": 3800.0, \"sex\": \"male\", \"year\": 2008}, {\"species\": \"Adelie\", \"island\": \"Dream\", \"bill_length_mm\": 41.3, \"bill_depth_mm\": 20.3, \"flipper_length_mm\": 194.0, \"body_mass_g\": 3550.0, \"sex\": \"male\", \"year\": 2008}, {\"species\": \"Adelie\", \"island\": \"Dream\", \"bill_length_mm\": 37.3, \"bill_depth_mm\": 17.8, \"flipper_length_mm\": 191.0, \"body_mass_g\": 3350.0, \"sex\": \"female\", \"year\": 2008}, {\"species\": \"Adelie\", \"island\": \"Torgersen\", \"bill_length_mm\": 35.1, \"bill_depth_mm\": 19.4, \"flipper_length_mm\": 193.0, \"body_mass_g\": 4200.0, \"sex\": \"male\", \"year\": 2008}, {\"species\": \"Adelie\", \"island\": \"Torgersen\", \"bill_length_mm\": 36.7, \"bill_depth_mm\": 18.8, \"flipper_length_mm\": 187.0, \"body_mass_g\": 3800.0, \"sex\": \"female\", \"year\": 2008}, {\"species\": \"Adelie\", \"island\": \"Torgersen\", \"bill_length_mm\": 42.9, \"bill_depth_mm\": 17.6, \"flipper_length_mm\": 196.0, \"body_mass_g\": 4700.0, \"sex\": \"male\", \"year\": 2008}, {\"species\": \"Adelie\", \"island\": \"Torgersen\", \"bill_length_mm\": 34.6, \"bill_depth_mm\": 17.2, \"flipper_length_mm\": 189.0, \"body_mass_g\": 3200.0, \"sex\": \"female\", \"year\": 2008}, {\"species\": \"Adelie\", \"island\": \"Torgersen\", \"bill_length_mm\": 42.1, \"bill_depth_mm\": 19.1, \"flipper_length_mm\": 195.0, \"body_mass_g\": 4000.0, \"sex\": \"male\", \"year\": 2008}, {\"species\": \"Adelie\", \"island\": \"Dream\", \"bill_length_mm\": 36.2, \"bill_depth_mm\": 17.3, \"flipper_length_mm\": 187.0, \"body_mass_g\": 3300.0, \"sex\": \"female\", \"year\": 2008}, {\"species\": \"Adelie\", \"island\": \"Dream\", \"bill_length_mm\": 38.1, \"bill_depth_mm\": 18.6, \"flipper_length_mm\": 190.0, \"body_mass_g\": 3700.0, \"sex\": \"female\", \"year\": 2008}, {\"species\": \"Adelie\", \"island\": \"Biscoe\", \"bill_length_mm\": 42.2, \"bill_depth_mm\": 19.5, \"flipper_length_mm\": 197.0, \"body_mass_g\": 4275.0, \"sex\": \"male\", \"year\": 2009}, {\"species\": \"Adelie\", \"island\": \"Dream\", \"bill_length_mm\": 40.3, \"bill_depth_mm\": 18.5, \"flipper_length_mm\": 196.0, \"body_mass_g\": 4350.0, \"sex\": \"male\", \"year\": 2008}, {\"species\": \"Adelie\", \"island\": \"Biscoe\", \"bill_length_mm\": 39.7, \"bill_depth_mm\": 17.7, \"flipper_length_mm\": 193.0, \"body_mass_g\": 3200.0, \"sex\": \"female\", \"year\": 2009}, {\"species\": \"Adelie\", \"island\": \"Biscoe\", \"bill_length_mm\": 45.6, \"bill_depth_mm\": 20.3, \"flipper_length_mm\": 191.0, \"body_mass_g\": 4600.0, \"sex\": \"male\", \"year\": 2009}, {\"species\": \"Adelie\", \"island\": \"Biscoe\", \"bill_length_mm\": 38.1, \"bill_depth_mm\": 16.5, \"flipper_length_mm\": 198.0, \"body_mass_g\": 3825.0, \"sex\": \"female\", \"year\": 2009}, {\"species\": \"Adelie\", \"island\": \"Biscoe\", \"bill_length_mm\": 43.2, \"bill_depth_mm\": 19.0, \"flipper_length_mm\": 197.0, \"body_mass_g\": 4775.0, \"sex\": \"male\", \"year\": 2009}, {\"species\": \"Adelie\", \"island\": \"Biscoe\", \"bill_length_mm\": 38.1, \"bill_depth_mm\": 17.0, \"flipper_length_mm\": 181.0, \"body_mass_g\": 3175.0, \"sex\": \"female\", \"year\": 2009}, {\"species\": \"Adelie\", \"island\": \"Biscoe\", \"bill_length_mm\": 38.2, \"bill_depth_mm\": 20.0, \"flipper_length_mm\": 190.0, \"body_mass_g\": 3900.0, \"sex\": \"male\", \"year\": 2009}, {\"species\": \"Adelie\", \"island\": \"Biscoe\", \"bill_length_mm\": 38.6, \"bill_depth_mm\": 17.2, \"flipper_length_mm\": 199.0, \"body_mass_g\": 3750.0, \"sex\": \"female\", \"year\": 2009}, {\"species\": \"Adelie\", \"island\": \"Biscoe\", \"bill_length_mm\": 39.7, \"bill_depth_mm\": 18.9, \"flipper_length_mm\": 184.0, \"body_mass_g\": 3550.0, \"sex\": \"male\", \"year\": 2009}, {\"species\": \"Adelie\", \"island\": \"Biscoe\", \"bill_length_mm\": 37.9, \"bill_depth_mm\": 18.6, \"flipper_length_mm\": 193.0, \"body_mass_g\": 2925.0, \"sex\": \"female\", \"year\": 2009}, {\"species\": \"Adelie\", \"island\": \"Biscoe\", \"bill_length_mm\": 37.8, \"bill_depth_mm\": 20.0, \"flipper_length_mm\": 190.0, \"body_mass_g\": 4250.0, \"sex\": \"male\", \"year\": 2009}, {\"species\": \"Adelie\", \"island\": \"Biscoe\", \"bill_length_mm\": 37.7, \"bill_depth_mm\": 16.0, \"flipper_length_mm\": 183.0, \"body_mass_g\": 3075.0, \"sex\": \"female\", \"year\": 2009}, {\"species\": \"Adelie\", \"island\": \"Biscoe\", \"bill_length_mm\": 41.0, \"bill_depth_mm\": 20.0, \"flipper_length_mm\": 203.0, \"body_mass_g\": 4725.0, \"sex\": \"male\", \"year\": 2009}, {\"species\": \"Adelie\", \"island\": \"Biscoe\", \"bill_length_mm\": 35.0, \"bill_depth_mm\": 17.9, \"flipper_length_mm\": 192.0, \"body_mass_g\": 3725.0, \"sex\": \"female\", \"year\": 2009}, {\"species\": \"Adelie\", \"island\": \"Dream\", \"bill_length_mm\": 43.2, \"bill_depth_mm\": 18.5, \"flipper_length_mm\": 192.0, \"body_mass_g\": 4100.0, \"sex\": \"male\", \"year\": 2008}, {\"species\": \"Adelie\", \"island\": \"Dream\", \"bill_length_mm\": 33.1, \"bill_depth_mm\": 16.1, \"flipper_length_mm\": 178.0, \"body_mass_g\": 2900.0, \"sex\": \"female\", \"year\": 2008}, {\"species\": \"Adelie\", \"island\": \"Torgersen\", \"bill_length_mm\": 39.1, \"bill_depth_mm\": 18.7, \"flipper_length_mm\": 181.0, \"body_mass_g\": 3750.0, \"sex\": \"male\", \"year\": 2007}]}}, {\"mode\": \"vega-lite\"});\n",
       "</script>"
      ],
      "text/plain": [
       "alt.Chart(...)"
      ]
     },
     "execution_count": 11,
     "metadata": {},
     "output_type": "execute_result"
    }
   ],
   "source": [
    "# BEGIN SOLUTION\n",
    "penguins_chart_value_sorted\n",
    "# END SOLUTION"
   ]
  },
  {
   "cell_type": "code",
   "execution_count": 12,
   "metadata": {},
   "outputs": [
    {
     "data": {
      "text/html": [
       "\n",
       "<style>\n",
       "  #altair-viz-12ec4cd228cd451c854e26c73feb53d7.vega-embed {\n",
       "    width: 100%;\n",
       "    display: flex;\n",
       "  }\n",
       "\n",
       "  #altair-viz-12ec4cd228cd451c854e26c73feb53d7.vega-embed details,\n",
       "  #altair-viz-12ec4cd228cd451c854e26c73feb53d7.vega-embed details summary {\n",
       "    position: relative;\n",
       "  }\n",
       "</style>\n",
       "<div id=\"altair-viz-12ec4cd228cd451c854e26c73feb53d7\"></div>\n",
       "<script type=\"text/javascript\">\n",
       "  var VEGA_DEBUG = (typeof VEGA_DEBUG == \"undefined\") ? {} : VEGA_DEBUG;\n",
       "  (function(spec, embedOpt){\n",
       "    let outputDiv = document.currentScript.previousElementSibling;\n",
       "    if (outputDiv.id !== \"altair-viz-12ec4cd228cd451c854e26c73feb53d7\") {\n",
       "      outputDiv = document.getElementById(\"altair-viz-12ec4cd228cd451c854e26c73feb53d7\");\n",
       "    }\n",
       "    const paths = {\n",
       "      \"vega\": \"https://cdn.jsdelivr.net/npm/vega@5?noext\",\n",
       "      \"vega-lib\": \"https://cdn.jsdelivr.net/npm/vega-lib?noext\",\n",
       "      \"vega-lite\": \"https://cdn.jsdelivr.net/npm/vega-lite@5.20.1?noext\",\n",
       "      \"vega-embed\": \"https://cdn.jsdelivr.net/npm/vega-embed@6?noext\",\n",
       "    };\n",
       "\n",
       "    function maybeLoadScript(lib, version) {\n",
       "      var key = `${lib.replace(\"-\", \"\")}_version`;\n",
       "      return (VEGA_DEBUG[key] == version) ?\n",
       "        Promise.resolve(paths[lib]) :\n",
       "        new Promise(function(resolve, reject) {\n",
       "          var s = document.createElement('script');\n",
       "          document.getElementsByTagName(\"head\")[0].appendChild(s);\n",
       "          s.async = true;\n",
       "          s.onload = () => {\n",
       "            VEGA_DEBUG[key] = version;\n",
       "            return resolve(paths[lib]);\n",
       "          };\n",
       "          s.onerror = () => reject(`Error loading script: ${paths[lib]}`);\n",
       "          s.src = paths[lib];\n",
       "        });\n",
       "    }\n",
       "\n",
       "    function showError(err) {\n",
       "      outputDiv.innerHTML = `<div class=\"error\" style=\"color:red;\">${err}</div>`;\n",
       "      throw err;\n",
       "    }\n",
       "\n",
       "    function displayChart(vegaEmbed) {\n",
       "      vegaEmbed(outputDiv, spec, embedOpt)\n",
       "        .catch(err => showError(`Javascript Error: ${err.message}<br>This usually means there's a typo in your chart specification. See the javascript console for the full traceback.`));\n",
       "    }\n",
       "\n",
       "    if(typeof define === \"function\" && define.amd) {\n",
       "      requirejs.config({paths});\n",
       "      require([\"vega-embed\"], displayChart, err => showError(`Error loading script: ${err.message}`));\n",
       "    } else {\n",
       "      maybeLoadScript(\"vega\", \"5\")\n",
       "        .then(() => maybeLoadScript(\"vega-lite\", \"5.20.1\"))\n",
       "        .then(() => maybeLoadScript(\"vega-embed\", \"6\"))\n",
       "        .catch(showError)\n",
       "        .then(() => displayChart(vegaEmbed));\n",
       "    }\n",
       "  })({\"config\": {\"view\": {\"continuousWidth\": 300, \"continuousHeight\": 300}, \"axis\": {\"labelFontSize\": 14, \"titleFontSize\": 18}, \"legend\": {\"labelFontSize\": 14, \"titleFontSize\": 18}}, \"data\": {\"name\": \"data-f80d16c19c47129227654822b1a984e6\"}, \"mark\": {\"type\": \"point\", \"size\": 60}, \"encoding\": {\"color\": {\"field\": \"species\", \"scale\": {\"scheme\": \"category10\"}, \"sort\": [\"Gentoo\", \"Chinstrap\", \"Adelie\"], \"type\": \"ordinal\"}, \"x\": {\"field\": \"bill_length_mm\", \"title\": \"Bill length (mm)\", \"type\": \"quantitative\"}, \"y\": {\"field\": \"body_mass_g\", \"title\": \"Body mass (g)\", \"type\": \"quantitative\"}}, \"height\": 300, \"width\": 400, \"$schema\": \"https://vega.github.io/schema/vega-lite/v5.20.1.json\", \"datasets\": {\"data-f80d16c19c47129227654822b1a984e6\": [{\"species\": \"Adelie\", \"island\": \"Torgersen\", \"bill_length_mm\": 39.1, \"bill_depth_mm\": 18.7, \"flipper_length_mm\": 181.0, \"body_mass_g\": 3750.0, \"sex\": \"male\", \"year\": 2007}, {\"species\": \"Adelie\", \"island\": \"Torgersen\", \"bill_length_mm\": 39.5, \"bill_depth_mm\": 17.4, \"flipper_length_mm\": 186.0, \"body_mass_g\": 3800.0, \"sex\": \"female\", \"year\": 2007}, {\"species\": \"Adelie\", \"island\": \"Torgersen\", \"bill_length_mm\": 40.3, \"bill_depth_mm\": 18.0, \"flipper_length_mm\": 195.0, \"body_mass_g\": 3250.0, \"sex\": \"female\", \"year\": 2007}, {\"species\": \"Adelie\", \"island\": \"Torgersen\", \"bill_length_mm\": null, \"bill_depth_mm\": null, \"flipper_length_mm\": null, \"body_mass_g\": null, \"sex\": null, \"year\": 2007}, {\"species\": \"Adelie\", \"island\": \"Torgersen\", \"bill_length_mm\": 36.7, \"bill_depth_mm\": 19.3, \"flipper_length_mm\": 193.0, \"body_mass_g\": 3450.0, \"sex\": \"female\", \"year\": 2007}, {\"species\": \"Adelie\", \"island\": \"Torgersen\", \"bill_length_mm\": 39.3, \"bill_depth_mm\": 20.6, \"flipper_length_mm\": 190.0, \"body_mass_g\": 3650.0, \"sex\": \"male\", \"year\": 2007}, {\"species\": \"Adelie\", \"island\": \"Torgersen\", \"bill_length_mm\": 38.9, \"bill_depth_mm\": 17.8, \"flipper_length_mm\": 181.0, \"body_mass_g\": 3625.0, \"sex\": \"female\", \"year\": 2007}, {\"species\": \"Adelie\", \"island\": \"Torgersen\", \"bill_length_mm\": 39.2, \"bill_depth_mm\": 19.6, \"flipper_length_mm\": 195.0, \"body_mass_g\": 4675.0, \"sex\": \"male\", \"year\": 2007}, {\"species\": \"Adelie\", \"island\": \"Torgersen\", \"bill_length_mm\": 34.1, \"bill_depth_mm\": 18.1, \"flipper_length_mm\": 193.0, \"body_mass_g\": 3475.0, \"sex\": null, \"year\": 2007}, {\"species\": \"Adelie\", \"island\": \"Torgersen\", \"bill_length_mm\": 42.0, \"bill_depth_mm\": 20.2, \"flipper_length_mm\": 190.0, \"body_mass_g\": 4250.0, \"sex\": null, \"year\": 2007}, {\"species\": \"Adelie\", \"island\": \"Torgersen\", \"bill_length_mm\": 37.8, \"bill_depth_mm\": 17.1, \"flipper_length_mm\": 186.0, \"body_mass_g\": 3300.0, \"sex\": null, \"year\": 2007}, {\"species\": \"Adelie\", \"island\": \"Torgersen\", \"bill_length_mm\": 37.8, \"bill_depth_mm\": 17.3, \"flipper_length_mm\": 180.0, \"body_mass_g\": 3700.0, \"sex\": null, \"year\": 2007}, {\"species\": \"Adelie\", \"island\": \"Torgersen\", \"bill_length_mm\": 41.1, \"bill_depth_mm\": 17.6, \"flipper_length_mm\": 182.0, \"body_mass_g\": 3200.0, \"sex\": \"female\", \"year\": 2007}, {\"species\": \"Adelie\", \"island\": \"Torgersen\", \"bill_length_mm\": 38.6, \"bill_depth_mm\": 21.2, \"flipper_length_mm\": 191.0, \"body_mass_g\": 3800.0, \"sex\": \"male\", \"year\": 2007}, {\"species\": \"Adelie\", \"island\": \"Torgersen\", \"bill_length_mm\": 34.6, \"bill_depth_mm\": 21.1, \"flipper_length_mm\": 198.0, \"body_mass_g\": 4400.0, \"sex\": \"male\", \"year\": 2007}, {\"species\": \"Adelie\", \"island\": \"Torgersen\", \"bill_length_mm\": 36.6, \"bill_depth_mm\": 17.8, \"flipper_length_mm\": 185.0, \"body_mass_g\": 3700.0, \"sex\": \"female\", \"year\": 2007}, {\"species\": \"Adelie\", \"island\": \"Torgersen\", \"bill_length_mm\": 38.7, \"bill_depth_mm\": 19.0, \"flipper_length_mm\": 195.0, \"body_mass_g\": 3450.0, \"sex\": \"female\", \"year\": 2007}, {\"species\": \"Adelie\", \"island\": \"Torgersen\", \"bill_length_mm\": 42.5, \"bill_depth_mm\": 20.7, \"flipper_length_mm\": 197.0, \"body_mass_g\": 4500.0, \"sex\": \"male\", \"year\": 2007}, {\"species\": \"Adelie\", \"island\": \"Torgersen\", \"bill_length_mm\": 34.4, \"bill_depth_mm\": 18.4, \"flipper_length_mm\": 184.0, \"body_mass_g\": 3325.0, \"sex\": \"female\", \"year\": 2007}, {\"species\": \"Adelie\", \"island\": \"Torgersen\", \"bill_length_mm\": 46.0, \"bill_depth_mm\": 21.5, \"flipper_length_mm\": 194.0, \"body_mass_g\": 4200.0, \"sex\": \"male\", \"year\": 2007}, {\"species\": \"Adelie\", \"island\": \"Biscoe\", \"bill_length_mm\": 37.8, \"bill_depth_mm\": 18.3, \"flipper_length_mm\": 174.0, \"body_mass_g\": 3400.0, \"sex\": \"female\", \"year\": 2007}, {\"species\": \"Adelie\", \"island\": \"Biscoe\", \"bill_length_mm\": 37.7, \"bill_depth_mm\": 18.7, \"flipper_length_mm\": 180.0, \"body_mass_g\": 3600.0, \"sex\": \"male\", \"year\": 2007}, {\"species\": \"Adelie\", \"island\": \"Biscoe\", \"bill_length_mm\": 35.9, \"bill_depth_mm\": 19.2, \"flipper_length_mm\": 189.0, \"body_mass_g\": 3800.0, \"sex\": \"female\", \"year\": 2007}, {\"species\": \"Adelie\", \"island\": \"Biscoe\", \"bill_length_mm\": 38.2, \"bill_depth_mm\": 18.1, \"flipper_length_mm\": 185.0, \"body_mass_g\": 3950.0, \"sex\": \"male\", \"year\": 2007}, {\"species\": \"Adelie\", \"island\": \"Biscoe\", \"bill_length_mm\": 38.8, \"bill_depth_mm\": 17.2, \"flipper_length_mm\": 180.0, \"body_mass_g\": 3800.0, \"sex\": \"male\", \"year\": 2007}, {\"species\": \"Adelie\", \"island\": \"Biscoe\", \"bill_length_mm\": 35.3, \"bill_depth_mm\": 18.9, \"flipper_length_mm\": 187.0, \"body_mass_g\": 3800.0, \"sex\": \"female\", \"year\": 2007}, {\"species\": \"Adelie\", \"island\": \"Biscoe\", \"bill_length_mm\": 40.6, \"bill_depth_mm\": 18.6, \"flipper_length_mm\": 183.0, \"body_mass_g\": 3550.0, \"sex\": \"male\", \"year\": 2007}, {\"species\": \"Adelie\", \"island\": \"Biscoe\", \"bill_length_mm\": 40.5, \"bill_depth_mm\": 17.9, \"flipper_length_mm\": 187.0, \"body_mass_g\": 3200.0, \"sex\": \"female\", \"year\": 2007}, {\"species\": \"Adelie\", \"island\": \"Biscoe\", \"bill_length_mm\": 37.9, \"bill_depth_mm\": 18.6, \"flipper_length_mm\": 172.0, \"body_mass_g\": 3150.0, \"sex\": \"female\", \"year\": 2007}, {\"species\": \"Adelie\", \"island\": \"Biscoe\", \"bill_length_mm\": 40.5, \"bill_depth_mm\": 18.9, \"flipper_length_mm\": 180.0, \"body_mass_g\": 3950.0, \"sex\": \"male\", \"year\": 2007}, {\"species\": \"Adelie\", \"island\": \"Dream\", \"bill_length_mm\": 39.5, \"bill_depth_mm\": 16.7, \"flipper_length_mm\": 178.0, \"body_mass_g\": 3250.0, \"sex\": \"female\", \"year\": 2007}, {\"species\": \"Adelie\", \"island\": \"Dream\", \"bill_length_mm\": 37.2, \"bill_depth_mm\": 18.1, \"flipper_length_mm\": 178.0, \"body_mass_g\": 3900.0, \"sex\": \"male\", \"year\": 2007}, {\"species\": \"Adelie\", \"island\": \"Dream\", \"bill_length_mm\": 39.5, \"bill_depth_mm\": 17.8, \"flipper_length_mm\": 188.0, \"body_mass_g\": 3300.0, \"sex\": \"female\", \"year\": 2007}, {\"species\": \"Adelie\", \"island\": \"Dream\", \"bill_length_mm\": 40.9, \"bill_depth_mm\": 18.9, \"flipper_length_mm\": 184.0, \"body_mass_g\": 3900.0, \"sex\": \"male\", \"year\": 2007}, {\"species\": \"Adelie\", \"island\": \"Dream\", \"bill_length_mm\": 36.4, \"bill_depth_mm\": 17.0, \"flipper_length_mm\": 195.0, \"body_mass_g\": 3325.0, \"sex\": \"female\", \"year\": 2007}, {\"species\": \"Adelie\", \"island\": \"Dream\", \"bill_length_mm\": 39.2, \"bill_depth_mm\": 21.1, \"flipper_length_mm\": 196.0, \"body_mass_g\": 4150.0, \"sex\": \"male\", \"year\": 2007}, {\"species\": \"Adelie\", \"island\": \"Dream\", \"bill_length_mm\": 38.8, \"bill_depth_mm\": 20.0, \"flipper_length_mm\": 190.0, \"body_mass_g\": 3950.0, \"sex\": \"male\", \"year\": 2007}, {\"species\": \"Adelie\", \"island\": \"Dream\", \"bill_length_mm\": 42.2, \"bill_depth_mm\": 18.5, \"flipper_length_mm\": 180.0, \"body_mass_g\": 3550.0, \"sex\": \"female\", \"year\": 2007}, {\"species\": \"Adelie\", \"island\": \"Dream\", \"bill_length_mm\": 37.6, \"bill_depth_mm\": 19.3, \"flipper_length_mm\": 181.0, \"body_mass_g\": 3300.0, \"sex\": \"female\", \"year\": 2007}, {\"species\": \"Adelie\", \"island\": \"Dream\", \"bill_length_mm\": 39.8, \"bill_depth_mm\": 19.1, \"flipper_length_mm\": 184.0, \"body_mass_g\": 4650.0, \"sex\": \"male\", \"year\": 2007}, {\"species\": \"Adelie\", \"island\": \"Dream\", \"bill_length_mm\": 36.5, \"bill_depth_mm\": 18.0, \"flipper_length_mm\": 182.0, \"body_mass_g\": 3150.0, \"sex\": \"female\", \"year\": 2007}, {\"species\": \"Adelie\", \"island\": \"Dream\", \"bill_length_mm\": 40.8, \"bill_depth_mm\": 18.4, \"flipper_length_mm\": 195.0, \"body_mass_g\": 3900.0, \"sex\": \"male\", \"year\": 2007}, {\"species\": \"Adelie\", \"island\": \"Dream\", \"bill_length_mm\": 36.0, \"bill_depth_mm\": 18.5, \"flipper_length_mm\": 186.0, \"body_mass_g\": 3100.0, \"sex\": \"female\", \"year\": 2007}, {\"species\": \"Adelie\", \"island\": \"Dream\", \"bill_length_mm\": 44.1, \"bill_depth_mm\": 19.7, \"flipper_length_mm\": 196.0, \"body_mass_g\": 4400.0, \"sex\": \"male\", \"year\": 2007}, {\"species\": \"Adelie\", \"island\": \"Dream\", \"bill_length_mm\": 37.0, \"bill_depth_mm\": 16.9, \"flipper_length_mm\": 185.0, \"body_mass_g\": 3000.0, \"sex\": \"female\", \"year\": 2007}, {\"species\": \"Adelie\", \"island\": \"Dream\", \"bill_length_mm\": 39.6, \"bill_depth_mm\": 18.8, \"flipper_length_mm\": 190.0, \"body_mass_g\": 4600.0, \"sex\": \"male\", \"year\": 2007}, {\"species\": \"Adelie\", \"island\": \"Dream\", \"bill_length_mm\": 41.1, \"bill_depth_mm\": 19.0, \"flipper_length_mm\": 182.0, \"body_mass_g\": 3425.0, \"sex\": \"male\", \"year\": 2007}, {\"species\": \"Adelie\", \"island\": \"Dream\", \"bill_length_mm\": 37.5, \"bill_depth_mm\": 18.9, \"flipper_length_mm\": 179.0, \"body_mass_g\": 2975.0, \"sex\": null, \"year\": 2007}, {\"species\": \"Adelie\", \"island\": \"Dream\", \"bill_length_mm\": 36.0, \"bill_depth_mm\": 17.9, \"flipper_length_mm\": 190.0, \"body_mass_g\": 3450.0, \"sex\": \"female\", \"year\": 2007}, {\"species\": \"Adelie\", \"island\": \"Dream\", \"bill_length_mm\": 42.3, \"bill_depth_mm\": 21.2, \"flipper_length_mm\": 191.0, \"body_mass_g\": 4150.0, \"sex\": \"male\", \"year\": 2007}, {\"species\": \"Adelie\", \"island\": \"Biscoe\", \"bill_length_mm\": 39.6, \"bill_depth_mm\": 17.7, \"flipper_length_mm\": 186.0, \"body_mass_g\": 3500.0, \"sex\": \"female\", \"year\": 2008}, {\"species\": \"Adelie\", \"island\": \"Biscoe\", \"bill_length_mm\": 40.1, \"bill_depth_mm\": 18.9, \"flipper_length_mm\": 188.0, \"body_mass_g\": 4300.0, \"sex\": \"male\", \"year\": 2008}, {\"species\": \"Adelie\", \"island\": \"Biscoe\", \"bill_length_mm\": 35.0, \"bill_depth_mm\": 17.9, \"flipper_length_mm\": 190.0, \"body_mass_g\": 3450.0, \"sex\": \"female\", \"year\": 2008}, {\"species\": \"Adelie\", \"island\": \"Biscoe\", \"bill_length_mm\": 42.0, \"bill_depth_mm\": 19.5, \"flipper_length_mm\": 200.0, \"body_mass_g\": 4050.0, \"sex\": \"male\", \"year\": 2008}, {\"species\": \"Adelie\", \"island\": \"Biscoe\", \"bill_length_mm\": 34.5, \"bill_depth_mm\": 18.1, \"flipper_length_mm\": 187.0, \"body_mass_g\": 2900.0, \"sex\": \"female\", \"year\": 2008}, {\"species\": \"Adelie\", \"island\": \"Biscoe\", \"bill_length_mm\": 41.4, \"bill_depth_mm\": 18.6, \"flipper_length_mm\": 191.0, \"body_mass_g\": 3700.0, \"sex\": \"male\", \"year\": 2008}, {\"species\": \"Adelie\", \"island\": \"Biscoe\", \"bill_length_mm\": 39.0, \"bill_depth_mm\": 17.5, \"flipper_length_mm\": 186.0, \"body_mass_g\": 3550.0, \"sex\": \"female\", \"year\": 2008}, {\"species\": \"Adelie\", \"island\": \"Biscoe\", \"bill_length_mm\": 40.6, \"bill_depth_mm\": 18.8, \"flipper_length_mm\": 193.0, \"body_mass_g\": 3800.0, \"sex\": \"male\", \"year\": 2008}, {\"species\": \"Adelie\", \"island\": \"Biscoe\", \"bill_length_mm\": 36.5, \"bill_depth_mm\": 16.6, \"flipper_length_mm\": 181.0, \"body_mass_g\": 2850.0, \"sex\": \"female\", \"year\": 2008}, {\"species\": \"Adelie\", \"island\": \"Biscoe\", \"bill_length_mm\": 37.6, \"bill_depth_mm\": 19.1, \"flipper_length_mm\": 194.0, \"body_mass_g\": 3750.0, \"sex\": \"male\", \"year\": 2008}, {\"species\": \"Adelie\", \"island\": \"Biscoe\", \"bill_length_mm\": 35.7, \"bill_depth_mm\": 16.9, \"flipper_length_mm\": 185.0, \"body_mass_g\": 3150.0, \"sex\": \"female\", \"year\": 2008}, {\"species\": \"Adelie\", \"island\": \"Biscoe\", \"bill_length_mm\": 41.3, \"bill_depth_mm\": 21.1, \"flipper_length_mm\": 195.0, \"body_mass_g\": 4400.0, \"sex\": \"male\", \"year\": 2008}, {\"species\": \"Adelie\", \"island\": \"Biscoe\", \"bill_length_mm\": 37.6, \"bill_depth_mm\": 17.0, \"flipper_length_mm\": 185.0, \"body_mass_g\": 3600.0, \"sex\": \"female\", \"year\": 2008}, {\"species\": \"Adelie\", \"island\": \"Biscoe\", \"bill_length_mm\": 41.1, \"bill_depth_mm\": 18.2, \"flipper_length_mm\": 192.0, \"body_mass_g\": 4050.0, \"sex\": \"male\", \"year\": 2008}, {\"species\": \"Adelie\", \"island\": \"Biscoe\", \"bill_length_mm\": 36.4, \"bill_depth_mm\": 17.1, \"flipper_length_mm\": 184.0, \"body_mass_g\": 2850.0, \"sex\": \"female\", \"year\": 2008}, {\"species\": \"Adelie\", \"island\": \"Biscoe\", \"bill_length_mm\": 41.6, \"bill_depth_mm\": 18.0, \"flipper_length_mm\": 192.0, \"body_mass_g\": 3950.0, \"sex\": \"male\", \"year\": 2008}, {\"species\": \"Adelie\", \"island\": \"Biscoe\", \"bill_length_mm\": 35.5, \"bill_depth_mm\": 16.2, \"flipper_length_mm\": 195.0, \"body_mass_g\": 3350.0, \"sex\": \"female\", \"year\": 2008}, {\"species\": \"Adelie\", \"island\": \"Biscoe\", \"bill_length_mm\": 41.1, \"bill_depth_mm\": 19.1, \"flipper_length_mm\": 188.0, \"body_mass_g\": 4100.0, \"sex\": \"male\", \"year\": 2008}, {\"species\": \"Adelie\", \"island\": \"Torgersen\", \"bill_length_mm\": 35.9, \"bill_depth_mm\": 16.6, \"flipper_length_mm\": 190.0, \"body_mass_g\": 3050.0, \"sex\": \"female\", \"year\": 2008}, {\"species\": \"Adelie\", \"island\": \"Torgersen\", \"bill_length_mm\": 41.8, \"bill_depth_mm\": 19.4, \"flipper_length_mm\": 198.0, \"body_mass_g\": 4450.0, \"sex\": \"male\", \"year\": 2008}, {\"species\": \"Adelie\", \"island\": \"Torgersen\", \"bill_length_mm\": 33.5, \"bill_depth_mm\": 19.0, \"flipper_length_mm\": 190.0, \"body_mass_g\": 3600.0, \"sex\": \"female\", \"year\": 2008}, {\"species\": \"Adelie\", \"island\": \"Torgersen\", \"bill_length_mm\": 39.7, \"bill_depth_mm\": 18.4, \"flipper_length_mm\": 190.0, \"body_mass_g\": 3900.0, \"sex\": \"male\", \"year\": 2008}, {\"species\": \"Adelie\", \"island\": \"Torgersen\", \"bill_length_mm\": 39.6, \"bill_depth_mm\": 17.2, \"flipper_length_mm\": 196.0, \"body_mass_g\": 3550.0, \"sex\": \"female\", \"year\": 2008}, {\"species\": \"Adelie\", \"island\": \"Torgersen\", \"bill_length_mm\": 45.8, \"bill_depth_mm\": 18.9, \"flipper_length_mm\": 197.0, \"body_mass_g\": 4150.0, \"sex\": \"male\", \"year\": 2008}, {\"species\": \"Adelie\", \"island\": \"Torgersen\", \"bill_length_mm\": 35.5, \"bill_depth_mm\": 17.5, \"flipper_length_mm\": 190.0, \"body_mass_g\": 3700.0, \"sex\": \"female\", \"year\": 2008}, {\"species\": \"Adelie\", \"island\": \"Torgersen\", \"bill_length_mm\": 42.8, \"bill_depth_mm\": 18.5, \"flipper_length_mm\": 195.0, \"body_mass_g\": 4250.0, \"sex\": \"male\", \"year\": 2008}, {\"species\": \"Adelie\", \"island\": \"Torgersen\", \"bill_length_mm\": 40.9, \"bill_depth_mm\": 16.8, \"flipper_length_mm\": 191.0, \"body_mass_g\": 3700.0, \"sex\": \"female\", \"year\": 2008}, {\"species\": \"Adelie\", \"island\": \"Torgersen\", \"bill_length_mm\": 37.2, \"bill_depth_mm\": 19.4, \"flipper_length_mm\": 184.0, \"body_mass_g\": 3900.0, \"sex\": \"male\", \"year\": 2008}, {\"species\": \"Adelie\", \"island\": \"Torgersen\", \"bill_length_mm\": 36.2, \"bill_depth_mm\": 16.1, \"flipper_length_mm\": 187.0, \"body_mass_g\": 3550.0, \"sex\": \"female\", \"year\": 2008}, {\"species\": \"Adelie\", \"island\": \"Torgersen\", \"bill_length_mm\": 42.1, \"bill_depth_mm\": 19.1, \"flipper_length_mm\": 195.0, \"body_mass_g\": 4000.0, \"sex\": \"male\", \"year\": 2008}, {\"species\": \"Adelie\", \"island\": \"Torgersen\", \"bill_length_mm\": 34.6, \"bill_depth_mm\": 17.2, \"flipper_length_mm\": 189.0, \"body_mass_g\": 3200.0, \"sex\": \"female\", \"year\": 2008}, {\"species\": \"Adelie\", \"island\": \"Torgersen\", \"bill_length_mm\": 42.9, \"bill_depth_mm\": 17.6, \"flipper_length_mm\": 196.0, \"body_mass_g\": 4700.0, \"sex\": \"male\", \"year\": 2008}, {\"species\": \"Adelie\", \"island\": \"Torgersen\", \"bill_length_mm\": 36.7, \"bill_depth_mm\": 18.8, \"flipper_length_mm\": 187.0, \"body_mass_g\": 3800.0, \"sex\": \"female\", \"year\": 2008}, {\"species\": \"Adelie\", \"island\": \"Torgersen\", \"bill_length_mm\": 35.1, \"bill_depth_mm\": 19.4, \"flipper_length_mm\": 193.0, \"body_mass_g\": 4200.0, \"sex\": \"male\", \"year\": 2008}, {\"species\": \"Adelie\", \"island\": \"Dream\", \"bill_length_mm\": 37.3, \"bill_depth_mm\": 17.8, \"flipper_length_mm\": 191.0, \"body_mass_g\": 3350.0, \"sex\": \"female\", \"year\": 2008}, {\"species\": \"Adelie\", \"island\": \"Dream\", \"bill_length_mm\": 41.3, \"bill_depth_mm\": 20.3, \"flipper_length_mm\": 194.0, \"body_mass_g\": 3550.0, \"sex\": \"male\", \"year\": 2008}, {\"species\": \"Adelie\", \"island\": \"Dream\", \"bill_length_mm\": 36.3, \"bill_depth_mm\": 19.5, \"flipper_length_mm\": 190.0, \"body_mass_g\": 3800.0, \"sex\": \"male\", \"year\": 2008}, {\"species\": \"Adelie\", \"island\": \"Dream\", \"bill_length_mm\": 36.9, \"bill_depth_mm\": 18.6, \"flipper_length_mm\": 189.0, \"body_mass_g\": 3500.0, \"sex\": \"female\", \"year\": 2008}, {\"species\": \"Adelie\", \"island\": \"Dream\", \"bill_length_mm\": 38.3, \"bill_depth_mm\": 19.2, \"flipper_length_mm\": 189.0, \"body_mass_g\": 3950.0, \"sex\": \"male\", \"year\": 2008}, {\"species\": \"Adelie\", \"island\": \"Dream\", \"bill_length_mm\": 38.9, \"bill_depth_mm\": 18.8, \"flipper_length_mm\": 190.0, \"body_mass_g\": 3600.0, \"sex\": \"female\", \"year\": 2008}, {\"species\": \"Adelie\", \"island\": \"Dream\", \"bill_length_mm\": 35.7, \"bill_depth_mm\": 18.0, \"flipper_length_mm\": 202.0, \"body_mass_g\": 3550.0, \"sex\": \"female\", \"year\": 2008}, {\"species\": \"Adelie\", \"island\": \"Dream\", \"bill_length_mm\": 41.1, \"bill_depth_mm\": 18.1, \"flipper_length_mm\": 205.0, \"body_mass_g\": 4300.0, \"sex\": \"male\", \"year\": 2008}, {\"species\": \"Adelie\", \"island\": \"Dream\", \"bill_length_mm\": 34.0, \"bill_depth_mm\": 17.1, \"flipper_length_mm\": 185.0, \"body_mass_g\": 3400.0, \"sex\": \"female\", \"year\": 2008}, {\"species\": \"Adelie\", \"island\": \"Dream\", \"bill_length_mm\": 39.6, \"bill_depth_mm\": 18.1, \"flipper_length_mm\": 186.0, \"body_mass_g\": 4450.0, \"sex\": \"male\", \"year\": 2008}, {\"species\": \"Adelie\", \"island\": \"Dream\", \"bill_length_mm\": 36.2, \"bill_depth_mm\": 17.3, \"flipper_length_mm\": 187.0, \"body_mass_g\": 3300.0, \"sex\": \"female\", \"year\": 2008}, {\"species\": \"Adelie\", \"island\": \"Dream\", \"bill_length_mm\": 40.8, \"bill_depth_mm\": 18.9, \"flipper_length_mm\": 208.0, \"body_mass_g\": 4300.0, \"sex\": \"male\", \"year\": 2008}, {\"species\": \"Adelie\", \"island\": \"Dream\", \"bill_length_mm\": 38.1, \"bill_depth_mm\": 18.6, \"flipper_length_mm\": 190.0, \"body_mass_g\": 3700.0, \"sex\": \"female\", \"year\": 2008}, {\"species\": \"Adelie\", \"island\": \"Dream\", \"bill_length_mm\": 40.3, \"bill_depth_mm\": 18.5, \"flipper_length_mm\": 196.0, \"body_mass_g\": 4350.0, \"sex\": \"male\", \"year\": 2008}, {\"species\": \"Adelie\", \"island\": \"Dream\", \"bill_length_mm\": 33.1, \"bill_depth_mm\": 16.1, \"flipper_length_mm\": 178.0, \"body_mass_g\": 2900.0, \"sex\": \"female\", \"year\": 2008}, {\"species\": \"Adelie\", \"island\": \"Dream\", \"bill_length_mm\": 43.2, \"bill_depth_mm\": 18.5, \"flipper_length_mm\": 192.0, \"body_mass_g\": 4100.0, \"sex\": \"male\", \"year\": 2008}, {\"species\": \"Adelie\", \"island\": \"Biscoe\", \"bill_length_mm\": 35.0, \"bill_depth_mm\": 17.9, \"flipper_length_mm\": 192.0, \"body_mass_g\": 3725.0, \"sex\": \"female\", \"year\": 2009}, {\"species\": \"Adelie\", \"island\": \"Biscoe\", \"bill_length_mm\": 41.0, \"bill_depth_mm\": 20.0, \"flipper_length_mm\": 203.0, \"body_mass_g\": 4725.0, \"sex\": \"male\", \"year\": 2009}, {\"species\": \"Adelie\", \"island\": \"Biscoe\", \"bill_length_mm\": 37.7, \"bill_depth_mm\": 16.0, \"flipper_length_mm\": 183.0, \"body_mass_g\": 3075.0, \"sex\": \"female\", \"year\": 2009}, {\"species\": \"Adelie\", \"island\": \"Biscoe\", \"bill_length_mm\": 37.8, \"bill_depth_mm\": 20.0, \"flipper_length_mm\": 190.0, \"body_mass_g\": 4250.0, \"sex\": \"male\", \"year\": 2009}, {\"species\": \"Adelie\", \"island\": \"Biscoe\", \"bill_length_mm\": 37.9, \"bill_depth_mm\": 18.6, \"flipper_length_mm\": 193.0, \"body_mass_g\": 2925.0, \"sex\": \"female\", \"year\": 2009}, {\"species\": \"Adelie\", \"island\": \"Biscoe\", \"bill_length_mm\": 39.7, \"bill_depth_mm\": 18.9, \"flipper_length_mm\": 184.0, \"body_mass_g\": 3550.0, \"sex\": \"male\", \"year\": 2009}, {\"species\": \"Adelie\", \"island\": \"Biscoe\", \"bill_length_mm\": 38.6, \"bill_depth_mm\": 17.2, \"flipper_length_mm\": 199.0, \"body_mass_g\": 3750.0, \"sex\": \"female\", \"year\": 2009}, {\"species\": \"Adelie\", \"island\": \"Biscoe\", \"bill_length_mm\": 38.2, \"bill_depth_mm\": 20.0, \"flipper_length_mm\": 190.0, \"body_mass_g\": 3900.0, \"sex\": \"male\", \"year\": 2009}, {\"species\": \"Adelie\", \"island\": \"Biscoe\", \"bill_length_mm\": 38.1, \"bill_depth_mm\": 17.0, \"flipper_length_mm\": 181.0, \"body_mass_g\": 3175.0, \"sex\": \"female\", \"year\": 2009}, {\"species\": \"Adelie\", \"island\": \"Biscoe\", \"bill_length_mm\": 43.2, \"bill_depth_mm\": 19.0, \"flipper_length_mm\": 197.0, \"body_mass_g\": 4775.0, \"sex\": \"male\", \"year\": 2009}, {\"species\": \"Adelie\", \"island\": \"Biscoe\", \"bill_length_mm\": 38.1, \"bill_depth_mm\": 16.5, \"flipper_length_mm\": 198.0, \"body_mass_g\": 3825.0, \"sex\": \"female\", \"year\": 2009}, {\"species\": \"Adelie\", \"island\": \"Biscoe\", \"bill_length_mm\": 45.6, \"bill_depth_mm\": 20.3, \"flipper_length_mm\": 191.0, \"body_mass_g\": 4600.0, \"sex\": \"male\", \"year\": 2009}, {\"species\": \"Adelie\", \"island\": \"Biscoe\", \"bill_length_mm\": 39.7, \"bill_depth_mm\": 17.7, \"flipper_length_mm\": 193.0, \"body_mass_g\": 3200.0, \"sex\": \"female\", \"year\": 2009}, {\"species\": \"Adelie\", \"island\": \"Biscoe\", \"bill_length_mm\": 42.2, \"bill_depth_mm\": 19.5, \"flipper_length_mm\": 197.0, \"body_mass_g\": 4275.0, \"sex\": \"male\", \"year\": 2009}, {\"species\": \"Adelie\", \"island\": \"Biscoe\", \"bill_length_mm\": 39.6, \"bill_depth_mm\": 20.7, \"flipper_length_mm\": 191.0, \"body_mass_g\": 3900.0, \"sex\": \"female\", \"year\": 2009}, {\"species\": \"Adelie\", \"island\": \"Biscoe\", \"bill_length_mm\": 42.7, \"bill_depth_mm\": 18.3, \"flipper_length_mm\": 196.0, \"body_mass_g\": 4075.0, \"sex\": \"male\", \"year\": 2009}, {\"species\": \"Adelie\", \"island\": \"Torgersen\", \"bill_length_mm\": 38.6, \"bill_depth_mm\": 17.0, \"flipper_length_mm\": 188.0, \"body_mass_g\": 2900.0, \"sex\": \"female\", \"year\": 2009}, {\"species\": \"Adelie\", \"island\": \"Torgersen\", \"bill_length_mm\": 37.3, \"bill_depth_mm\": 20.5, \"flipper_length_mm\": 199.0, \"body_mass_g\": 3775.0, \"sex\": \"male\", \"year\": 2009}, {\"species\": \"Adelie\", \"island\": \"Torgersen\", \"bill_length_mm\": 35.7, \"bill_depth_mm\": 17.0, \"flipper_length_mm\": 189.0, \"body_mass_g\": 3350.0, \"sex\": \"female\", \"year\": 2009}, {\"species\": \"Adelie\", \"island\": \"Torgersen\", \"bill_length_mm\": 41.1, \"bill_depth_mm\": 18.6, \"flipper_length_mm\": 189.0, \"body_mass_g\": 3325.0, \"sex\": \"male\", \"year\": 2009}, {\"species\": \"Adelie\", \"island\": \"Torgersen\", \"bill_length_mm\": 36.2, \"bill_depth_mm\": 17.2, \"flipper_length_mm\": 187.0, \"body_mass_g\": 3150.0, \"sex\": \"female\", \"year\": 2009}, {\"species\": \"Adelie\", \"island\": \"Torgersen\", \"bill_length_mm\": 37.7, \"bill_depth_mm\": 19.8, \"flipper_length_mm\": 198.0, \"body_mass_g\": 3500.0, \"sex\": \"male\", \"year\": 2009}, {\"species\": \"Adelie\", \"island\": \"Torgersen\", \"bill_length_mm\": 40.2, \"bill_depth_mm\": 17.0, \"flipper_length_mm\": 176.0, \"body_mass_g\": 3450.0, \"sex\": \"female\", \"year\": 2009}, {\"species\": \"Adelie\", \"island\": \"Torgersen\", \"bill_length_mm\": 41.4, \"bill_depth_mm\": 18.5, \"flipper_length_mm\": 202.0, \"body_mass_g\": 3875.0, \"sex\": \"male\", \"year\": 2009}, {\"species\": \"Adelie\", \"island\": \"Torgersen\", \"bill_length_mm\": 35.2, \"bill_depth_mm\": 15.9, \"flipper_length_mm\": 186.0, \"body_mass_g\": 3050.0, \"sex\": \"female\", \"year\": 2009}, {\"species\": \"Adelie\", \"island\": \"Torgersen\", \"bill_length_mm\": 40.6, \"bill_depth_mm\": 19.0, \"flipper_length_mm\": 199.0, \"body_mass_g\": 4000.0, \"sex\": \"male\", \"year\": 2009}, {\"species\": \"Adelie\", \"island\": \"Torgersen\", \"bill_length_mm\": 38.8, \"bill_depth_mm\": 17.6, \"flipper_length_mm\": 191.0, \"body_mass_g\": 3275.0, \"sex\": \"female\", \"year\": 2009}, {\"species\": \"Adelie\", \"island\": \"Torgersen\", \"bill_length_mm\": 41.5, \"bill_depth_mm\": 18.3, \"flipper_length_mm\": 195.0, \"body_mass_g\": 4300.0, \"sex\": \"male\", \"year\": 2009}, {\"species\": \"Adelie\", \"island\": \"Torgersen\", \"bill_length_mm\": 39.0, \"bill_depth_mm\": 17.1, \"flipper_length_mm\": 191.0, \"body_mass_g\": 3050.0, \"sex\": \"female\", \"year\": 2009}, {\"species\": \"Adelie\", \"island\": \"Torgersen\", \"bill_length_mm\": 44.1, \"bill_depth_mm\": 18.0, \"flipper_length_mm\": 210.0, \"body_mass_g\": 4000.0, \"sex\": \"male\", \"year\": 2009}, {\"species\": \"Adelie\", \"island\": \"Torgersen\", \"bill_length_mm\": 38.5, \"bill_depth_mm\": 17.9, \"flipper_length_mm\": 190.0, \"body_mass_g\": 3325.0, \"sex\": \"female\", \"year\": 2009}, {\"species\": \"Adelie\", \"island\": \"Torgersen\", \"bill_length_mm\": 43.1, \"bill_depth_mm\": 19.2, \"flipper_length_mm\": 197.0, \"body_mass_g\": 3500.0, \"sex\": \"male\", \"year\": 2009}, {\"species\": \"Adelie\", \"island\": \"Dream\", \"bill_length_mm\": 36.8, \"bill_depth_mm\": 18.5, \"flipper_length_mm\": 193.0, \"body_mass_g\": 3500.0, \"sex\": \"female\", \"year\": 2009}, {\"species\": \"Adelie\", \"island\": \"Dream\", \"bill_length_mm\": 37.5, \"bill_depth_mm\": 18.5, \"flipper_length_mm\": 199.0, \"body_mass_g\": 4475.0, \"sex\": \"male\", \"year\": 2009}, {\"species\": \"Adelie\", \"island\": \"Dream\", \"bill_length_mm\": 38.1, \"bill_depth_mm\": 17.6, \"flipper_length_mm\": 187.0, \"body_mass_g\": 3425.0, \"sex\": \"female\", \"year\": 2009}, {\"species\": \"Adelie\", \"island\": \"Dream\", \"bill_length_mm\": 41.1, \"bill_depth_mm\": 17.5, \"flipper_length_mm\": 190.0, \"body_mass_g\": 3900.0, \"sex\": \"male\", \"year\": 2009}, {\"species\": \"Adelie\", \"island\": \"Dream\", \"bill_length_mm\": 35.6, \"bill_depth_mm\": 17.5, \"flipper_length_mm\": 191.0, \"body_mass_g\": 3175.0, \"sex\": \"female\", \"year\": 2009}, {\"species\": \"Adelie\", \"island\": \"Dream\", \"bill_length_mm\": 40.2, \"bill_depth_mm\": 20.1, \"flipper_length_mm\": 200.0, \"body_mass_g\": 3975.0, \"sex\": \"male\", \"year\": 2009}, {\"species\": \"Adelie\", \"island\": \"Dream\", \"bill_length_mm\": 37.0, \"bill_depth_mm\": 16.5, \"flipper_length_mm\": 185.0, \"body_mass_g\": 3400.0, \"sex\": \"female\", \"year\": 2009}, {\"species\": \"Adelie\", \"island\": \"Dream\", \"bill_length_mm\": 39.7, \"bill_depth_mm\": 17.9, \"flipper_length_mm\": 193.0, \"body_mass_g\": 4250.0, \"sex\": \"male\", \"year\": 2009}, {\"species\": \"Adelie\", \"island\": \"Dream\", \"bill_length_mm\": 40.2, \"bill_depth_mm\": 17.1, \"flipper_length_mm\": 193.0, \"body_mass_g\": 3400.0, \"sex\": \"female\", \"year\": 2009}, {\"species\": \"Adelie\", \"island\": \"Dream\", \"bill_length_mm\": 40.6, \"bill_depth_mm\": 17.2, \"flipper_length_mm\": 187.0, \"body_mass_g\": 3475.0, \"sex\": \"male\", \"year\": 2009}, {\"species\": \"Adelie\", \"island\": \"Dream\", \"bill_length_mm\": 32.1, \"bill_depth_mm\": 15.5, \"flipper_length_mm\": 188.0, \"body_mass_g\": 3050.0, \"sex\": \"female\", \"year\": 2009}, {\"species\": \"Adelie\", \"island\": \"Dream\", \"bill_length_mm\": 40.7, \"bill_depth_mm\": 17.0, \"flipper_length_mm\": 190.0, \"body_mass_g\": 3725.0, \"sex\": \"male\", \"year\": 2009}, {\"species\": \"Adelie\", \"island\": \"Dream\", \"bill_length_mm\": 37.3, \"bill_depth_mm\": 16.8, \"flipper_length_mm\": 192.0, \"body_mass_g\": 3000.0, \"sex\": \"female\", \"year\": 2009}, {\"species\": \"Adelie\", \"island\": \"Dream\", \"bill_length_mm\": 39.0, \"bill_depth_mm\": 18.7, \"flipper_length_mm\": 185.0, \"body_mass_g\": 3650.0, \"sex\": \"male\", \"year\": 2009}, {\"species\": \"Adelie\", \"island\": \"Dream\", \"bill_length_mm\": 39.2, \"bill_depth_mm\": 18.6, \"flipper_length_mm\": 190.0, \"body_mass_g\": 4250.0, \"sex\": \"male\", \"year\": 2009}, {\"species\": \"Adelie\", \"island\": \"Dream\", \"bill_length_mm\": 36.6, \"bill_depth_mm\": 18.4, \"flipper_length_mm\": 184.0, \"body_mass_g\": 3475.0, \"sex\": \"female\", \"year\": 2009}, {\"species\": \"Adelie\", \"island\": \"Dream\", \"bill_length_mm\": 36.0, \"bill_depth_mm\": 17.8, \"flipper_length_mm\": 195.0, \"body_mass_g\": 3450.0, \"sex\": \"female\", \"year\": 2009}, {\"species\": \"Adelie\", \"island\": \"Dream\", \"bill_length_mm\": 37.8, \"bill_depth_mm\": 18.1, \"flipper_length_mm\": 193.0, \"body_mass_g\": 3750.0, \"sex\": \"male\", \"year\": 2009}, {\"species\": \"Adelie\", \"island\": \"Dream\", \"bill_length_mm\": 36.0, \"bill_depth_mm\": 17.1, \"flipper_length_mm\": 187.0, \"body_mass_g\": 3700.0, \"sex\": \"female\", \"year\": 2009}, {\"species\": \"Adelie\", \"island\": \"Dream\", \"bill_length_mm\": 41.5, \"bill_depth_mm\": 18.5, \"flipper_length_mm\": 201.0, \"body_mass_g\": 4000.0, \"sex\": \"male\", \"year\": 2009}, {\"species\": \"Gentoo\", \"island\": \"Biscoe\", \"bill_length_mm\": 46.1, \"bill_depth_mm\": 13.2, \"flipper_length_mm\": 211.0, \"body_mass_g\": 4500.0, \"sex\": \"female\", \"year\": 2007}, {\"species\": \"Gentoo\", \"island\": \"Biscoe\", \"bill_length_mm\": 50.0, \"bill_depth_mm\": 16.3, \"flipper_length_mm\": 230.0, \"body_mass_g\": 5700.0, \"sex\": \"male\", \"year\": 2007}, {\"species\": \"Gentoo\", \"island\": \"Biscoe\", \"bill_length_mm\": 48.7, \"bill_depth_mm\": 14.1, \"flipper_length_mm\": 210.0, \"body_mass_g\": 4450.0, \"sex\": \"female\", \"year\": 2007}, {\"species\": \"Gentoo\", \"island\": \"Biscoe\", \"bill_length_mm\": 50.0, \"bill_depth_mm\": 15.2, \"flipper_length_mm\": 218.0, \"body_mass_g\": 5700.0, \"sex\": \"male\", \"year\": 2007}, {\"species\": \"Gentoo\", \"island\": \"Biscoe\", \"bill_length_mm\": 47.6, \"bill_depth_mm\": 14.5, \"flipper_length_mm\": 215.0, \"body_mass_g\": 5400.0, \"sex\": \"male\", \"year\": 2007}, {\"species\": \"Gentoo\", \"island\": \"Biscoe\", \"bill_length_mm\": 46.5, \"bill_depth_mm\": 13.5, \"flipper_length_mm\": 210.0, \"body_mass_g\": 4550.0, \"sex\": \"female\", \"year\": 2007}, {\"species\": \"Gentoo\", \"island\": \"Biscoe\", \"bill_length_mm\": 45.4, \"bill_depth_mm\": 14.6, \"flipper_length_mm\": 211.0, \"body_mass_g\": 4800.0, \"sex\": \"female\", \"year\": 2007}, {\"species\": \"Gentoo\", \"island\": \"Biscoe\", \"bill_length_mm\": 46.7, \"bill_depth_mm\": 15.3, \"flipper_length_mm\": 219.0, \"body_mass_g\": 5200.0, \"sex\": \"male\", \"year\": 2007}, {\"species\": \"Gentoo\", \"island\": \"Biscoe\", \"bill_length_mm\": 43.3, \"bill_depth_mm\": 13.4, \"flipper_length_mm\": 209.0, \"body_mass_g\": 4400.0, \"sex\": \"female\", \"year\": 2007}, {\"species\": \"Gentoo\", \"island\": \"Biscoe\", \"bill_length_mm\": 46.8, \"bill_depth_mm\": 15.4, \"flipper_length_mm\": 215.0, \"body_mass_g\": 5150.0, \"sex\": \"male\", \"year\": 2007}, {\"species\": \"Gentoo\", \"island\": \"Biscoe\", \"bill_length_mm\": 40.9, \"bill_depth_mm\": 13.7, \"flipper_length_mm\": 214.0, \"body_mass_g\": 4650.0, \"sex\": \"female\", \"year\": 2007}, {\"species\": \"Gentoo\", \"island\": \"Biscoe\", \"bill_length_mm\": 49.0, \"bill_depth_mm\": 16.1, \"flipper_length_mm\": 216.0, \"body_mass_g\": 5550.0, \"sex\": \"male\", \"year\": 2007}, {\"species\": \"Gentoo\", \"island\": \"Biscoe\", \"bill_length_mm\": 45.5, \"bill_depth_mm\": 13.7, \"flipper_length_mm\": 214.0, \"body_mass_g\": 4650.0, \"sex\": \"female\", \"year\": 2007}, {\"species\": \"Gentoo\", \"island\": \"Biscoe\", \"bill_length_mm\": 48.4, \"bill_depth_mm\": 14.6, \"flipper_length_mm\": 213.0, \"body_mass_g\": 5850.0, \"sex\": \"male\", \"year\": 2007}, {\"species\": \"Gentoo\", \"island\": \"Biscoe\", \"bill_length_mm\": 45.8, \"bill_depth_mm\": 14.6, \"flipper_length_mm\": 210.0, \"body_mass_g\": 4200.0, \"sex\": \"female\", \"year\": 2007}, {\"species\": \"Gentoo\", \"island\": \"Biscoe\", \"bill_length_mm\": 49.3, \"bill_depth_mm\": 15.7, \"flipper_length_mm\": 217.0, \"body_mass_g\": 5850.0, \"sex\": \"male\", \"year\": 2007}, {\"species\": \"Gentoo\", \"island\": \"Biscoe\", \"bill_length_mm\": 42.0, \"bill_depth_mm\": 13.5, \"flipper_length_mm\": 210.0, \"body_mass_g\": 4150.0, \"sex\": \"female\", \"year\": 2007}, {\"species\": \"Gentoo\", \"island\": \"Biscoe\", \"bill_length_mm\": 49.2, \"bill_depth_mm\": 15.2, \"flipper_length_mm\": 221.0, \"body_mass_g\": 6300.0, \"sex\": \"male\", \"year\": 2007}, {\"species\": \"Gentoo\", \"island\": \"Biscoe\", \"bill_length_mm\": 46.2, \"bill_depth_mm\": 14.5, \"flipper_length_mm\": 209.0, \"body_mass_g\": 4800.0, \"sex\": \"female\", \"year\": 2007}, {\"species\": \"Gentoo\", \"island\": \"Biscoe\", \"bill_length_mm\": 48.7, \"bill_depth_mm\": 15.1, \"flipper_length_mm\": 222.0, \"body_mass_g\": 5350.0, \"sex\": \"male\", \"year\": 2007}, {\"species\": \"Gentoo\", \"island\": \"Biscoe\", \"bill_length_mm\": 50.2, \"bill_depth_mm\": 14.3, \"flipper_length_mm\": 218.0, \"body_mass_g\": 5700.0, \"sex\": \"male\", \"year\": 2007}, {\"species\": \"Gentoo\", \"island\": \"Biscoe\", \"bill_length_mm\": 45.1, \"bill_depth_mm\": 14.5, \"flipper_length_mm\": 215.0, \"body_mass_g\": 5000.0, \"sex\": \"female\", \"year\": 2007}, {\"species\": \"Gentoo\", \"island\": \"Biscoe\", \"bill_length_mm\": 46.5, \"bill_depth_mm\": 14.5, \"flipper_length_mm\": 213.0, \"body_mass_g\": 4400.0, \"sex\": \"female\", \"year\": 2007}, {\"species\": \"Gentoo\", \"island\": \"Biscoe\", \"bill_length_mm\": 46.3, \"bill_depth_mm\": 15.8, \"flipper_length_mm\": 215.0, \"body_mass_g\": 5050.0, \"sex\": \"male\", \"year\": 2007}, {\"species\": \"Gentoo\", \"island\": \"Biscoe\", \"bill_length_mm\": 42.9, \"bill_depth_mm\": 13.1, \"flipper_length_mm\": 215.0, \"body_mass_g\": 5000.0, \"sex\": \"female\", \"year\": 2007}, {\"species\": \"Gentoo\", \"island\": \"Biscoe\", \"bill_length_mm\": 46.1, \"bill_depth_mm\": 15.1, \"flipper_length_mm\": 215.0, \"body_mass_g\": 5100.0, \"sex\": \"male\", \"year\": 2007}, {\"species\": \"Gentoo\", \"island\": \"Biscoe\", \"bill_length_mm\": 44.5, \"bill_depth_mm\": 14.3, \"flipper_length_mm\": 216.0, \"body_mass_g\": 4100.0, \"sex\": null, \"year\": 2007}, {\"species\": \"Gentoo\", \"island\": \"Biscoe\", \"bill_length_mm\": 47.8, \"bill_depth_mm\": 15.0, \"flipper_length_mm\": 215.0, \"body_mass_g\": 5650.0, \"sex\": \"male\", \"year\": 2007}, {\"species\": \"Gentoo\", \"island\": \"Biscoe\", \"bill_length_mm\": 48.2, \"bill_depth_mm\": 14.3, \"flipper_length_mm\": 210.0, \"body_mass_g\": 4600.0, \"sex\": \"female\", \"year\": 2007}, {\"species\": \"Gentoo\", \"island\": \"Biscoe\", \"bill_length_mm\": 50.0, \"bill_depth_mm\": 15.3, \"flipper_length_mm\": 220.0, \"body_mass_g\": 5550.0, \"sex\": \"male\", \"year\": 2007}, {\"species\": \"Gentoo\", \"island\": \"Biscoe\", \"bill_length_mm\": 47.3, \"bill_depth_mm\": 15.3, \"flipper_length_mm\": 222.0, \"body_mass_g\": 5250.0, \"sex\": \"male\", \"year\": 2007}, {\"species\": \"Gentoo\", \"island\": \"Biscoe\", \"bill_length_mm\": 42.8, \"bill_depth_mm\": 14.2, \"flipper_length_mm\": 209.0, \"body_mass_g\": 4700.0, \"sex\": \"female\", \"year\": 2007}, {\"species\": \"Gentoo\", \"island\": \"Biscoe\", \"bill_length_mm\": 45.1, \"bill_depth_mm\": 14.5, \"flipper_length_mm\": 207.0, \"body_mass_g\": 5050.0, \"sex\": \"female\", \"year\": 2007}, {\"species\": \"Gentoo\", \"island\": \"Biscoe\", \"bill_length_mm\": 59.6, \"bill_depth_mm\": 17.0, \"flipper_length_mm\": 230.0, \"body_mass_g\": 6050.0, \"sex\": \"male\", \"year\": 2007}, {\"species\": \"Gentoo\", \"island\": \"Biscoe\", \"bill_length_mm\": 49.1, \"bill_depth_mm\": 14.8, \"flipper_length_mm\": 220.0, \"body_mass_g\": 5150.0, \"sex\": \"female\", \"year\": 2008}, {\"species\": \"Gentoo\", \"island\": \"Biscoe\", \"bill_length_mm\": 48.4, \"bill_depth_mm\": 16.3, \"flipper_length_mm\": 220.0, \"body_mass_g\": 5400.0, \"sex\": \"male\", \"year\": 2008}, {\"species\": \"Gentoo\", \"island\": \"Biscoe\", \"bill_length_mm\": 42.6, \"bill_depth_mm\": 13.7, \"flipper_length_mm\": 213.0, \"body_mass_g\": 4950.0, \"sex\": \"female\", \"year\": 2008}, {\"species\": \"Gentoo\", \"island\": \"Biscoe\", \"bill_length_mm\": 44.4, \"bill_depth_mm\": 17.3, \"flipper_length_mm\": 219.0, \"body_mass_g\": 5250.0, \"sex\": \"male\", \"year\": 2008}, {\"species\": \"Gentoo\", \"island\": \"Biscoe\", \"bill_length_mm\": 44.0, \"bill_depth_mm\": 13.6, \"flipper_length_mm\": 208.0, \"body_mass_g\": 4350.0, \"sex\": \"female\", \"year\": 2008}, {\"species\": \"Gentoo\", \"island\": \"Biscoe\", \"bill_length_mm\": 48.7, \"bill_depth_mm\": 15.7, \"flipper_length_mm\": 208.0, \"body_mass_g\": 5350.0, \"sex\": \"male\", \"year\": 2008}, {\"species\": \"Gentoo\", \"island\": \"Biscoe\", \"bill_length_mm\": 42.7, \"bill_depth_mm\": 13.7, \"flipper_length_mm\": 208.0, \"body_mass_g\": 3950.0, \"sex\": \"female\", \"year\": 2008}, {\"species\": \"Gentoo\", \"island\": \"Biscoe\", \"bill_length_mm\": 49.6, \"bill_depth_mm\": 16.0, \"flipper_length_mm\": 225.0, \"body_mass_g\": 5700.0, \"sex\": \"male\", \"year\": 2008}, {\"species\": \"Gentoo\", \"island\": \"Biscoe\", \"bill_length_mm\": 45.3, \"bill_depth_mm\": 13.7, \"flipper_length_mm\": 210.0, \"body_mass_g\": 4300.0, \"sex\": \"female\", \"year\": 2008}, {\"species\": \"Gentoo\", \"island\": \"Biscoe\", \"bill_length_mm\": 49.6, \"bill_depth_mm\": 15.0, \"flipper_length_mm\": 216.0, \"body_mass_g\": 4750.0, \"sex\": \"male\", \"year\": 2008}, {\"species\": \"Gentoo\", \"island\": \"Biscoe\", \"bill_length_mm\": 50.5, \"bill_depth_mm\": 15.9, \"flipper_length_mm\": 222.0, \"body_mass_g\": 5550.0, \"sex\": \"male\", \"year\": 2008}, {\"species\": \"Gentoo\", \"island\": \"Biscoe\", \"bill_length_mm\": 43.6, \"bill_depth_mm\": 13.9, \"flipper_length_mm\": 217.0, \"body_mass_g\": 4900.0, \"sex\": \"female\", \"year\": 2008}, {\"species\": \"Gentoo\", \"island\": \"Biscoe\", \"bill_length_mm\": 45.5, \"bill_depth_mm\": 13.9, \"flipper_length_mm\": 210.0, \"body_mass_g\": 4200.0, \"sex\": \"female\", \"year\": 2008}, {\"species\": \"Gentoo\", \"island\": \"Biscoe\", \"bill_length_mm\": 50.5, \"bill_depth_mm\": 15.9, \"flipper_length_mm\": 225.0, \"body_mass_g\": 5400.0, \"sex\": \"male\", \"year\": 2008}, {\"species\": \"Gentoo\", \"island\": \"Biscoe\", \"bill_length_mm\": 44.9, \"bill_depth_mm\": 13.3, \"flipper_length_mm\": 213.0, \"body_mass_g\": 5100.0, \"sex\": \"female\", \"year\": 2008}, {\"species\": \"Gentoo\", \"island\": \"Biscoe\", \"bill_length_mm\": 45.2, \"bill_depth_mm\": 15.8, \"flipper_length_mm\": 215.0, \"body_mass_g\": 5300.0, \"sex\": \"male\", \"year\": 2008}, {\"species\": \"Gentoo\", \"island\": \"Biscoe\", \"bill_length_mm\": 46.6, \"bill_depth_mm\": 14.2, \"flipper_length_mm\": 210.0, \"body_mass_g\": 4850.0, \"sex\": \"female\", \"year\": 2008}, {\"species\": \"Gentoo\", \"island\": \"Biscoe\", \"bill_length_mm\": 48.5, \"bill_depth_mm\": 14.1, \"flipper_length_mm\": 220.0, \"body_mass_g\": 5300.0, \"sex\": \"male\", \"year\": 2008}, {\"species\": \"Gentoo\", \"island\": \"Biscoe\", \"bill_length_mm\": 45.1, \"bill_depth_mm\": 14.4, \"flipper_length_mm\": 210.0, \"body_mass_g\": 4400.0, \"sex\": \"female\", \"year\": 2008}, {\"species\": \"Gentoo\", \"island\": \"Biscoe\", \"bill_length_mm\": 50.1, \"bill_depth_mm\": 15.0, \"flipper_length_mm\": 225.0, \"body_mass_g\": 5000.0, \"sex\": \"male\", \"year\": 2008}, {\"species\": \"Gentoo\", \"island\": \"Biscoe\", \"bill_length_mm\": 46.5, \"bill_depth_mm\": 14.4, \"flipper_length_mm\": 217.0, \"body_mass_g\": 4900.0, \"sex\": \"female\", \"year\": 2008}, {\"species\": \"Gentoo\", \"island\": \"Biscoe\", \"bill_length_mm\": 45.0, \"bill_depth_mm\": 15.4, \"flipper_length_mm\": 220.0, \"body_mass_g\": 5050.0, \"sex\": \"male\", \"year\": 2008}, {\"species\": \"Gentoo\", \"island\": \"Biscoe\", \"bill_length_mm\": 43.8, \"bill_depth_mm\": 13.9, \"flipper_length_mm\": 208.0, \"body_mass_g\": 4300.0, \"sex\": \"female\", \"year\": 2008}, {\"species\": \"Gentoo\", \"island\": \"Biscoe\", \"bill_length_mm\": 45.5, \"bill_depth_mm\": 15.0, \"flipper_length_mm\": 220.0, \"body_mass_g\": 5000.0, \"sex\": \"male\", \"year\": 2008}, {\"species\": \"Gentoo\", \"island\": \"Biscoe\", \"bill_length_mm\": 43.2, \"bill_depth_mm\": 14.5, \"flipper_length_mm\": 208.0, \"body_mass_g\": 4450.0, \"sex\": \"female\", \"year\": 2008}, {\"species\": \"Gentoo\", \"island\": \"Biscoe\", \"bill_length_mm\": 50.4, \"bill_depth_mm\": 15.3, \"flipper_length_mm\": 224.0, \"body_mass_g\": 5550.0, \"sex\": \"male\", \"year\": 2008}, {\"species\": \"Gentoo\", \"island\": \"Biscoe\", \"bill_length_mm\": 45.3, \"bill_depth_mm\": 13.8, \"flipper_length_mm\": 208.0, \"body_mass_g\": 4200.0, \"sex\": \"female\", \"year\": 2008}, {\"species\": \"Gentoo\", \"island\": \"Biscoe\", \"bill_length_mm\": 46.2, \"bill_depth_mm\": 14.9, \"flipper_length_mm\": 221.0, \"body_mass_g\": 5300.0, \"sex\": \"male\", \"year\": 2008}, {\"species\": \"Gentoo\", \"island\": \"Biscoe\", \"bill_length_mm\": 45.7, \"bill_depth_mm\": 13.9, \"flipper_length_mm\": 214.0, \"body_mass_g\": 4400.0, \"sex\": \"female\", \"year\": 2008}, {\"species\": \"Gentoo\", \"island\": \"Biscoe\", \"bill_length_mm\": 54.3, \"bill_depth_mm\": 15.7, \"flipper_length_mm\": 231.0, \"body_mass_g\": 5650.0, \"sex\": \"male\", \"year\": 2008}, {\"species\": \"Gentoo\", \"island\": \"Biscoe\", \"bill_length_mm\": 45.8, \"bill_depth_mm\": 14.2, \"flipper_length_mm\": 219.0, \"body_mass_g\": 4700.0, \"sex\": \"female\", \"year\": 2008}, {\"species\": \"Gentoo\", \"island\": \"Biscoe\", \"bill_length_mm\": 49.8, \"bill_depth_mm\": 16.8, \"flipper_length_mm\": 230.0, \"body_mass_g\": 5700.0, \"sex\": \"male\", \"year\": 2008}, {\"species\": \"Gentoo\", \"island\": \"Biscoe\", \"bill_length_mm\": 46.2, \"bill_depth_mm\": 14.4, \"flipper_length_mm\": 214.0, \"body_mass_g\": 4650.0, \"sex\": null, \"year\": 2008}, {\"species\": \"Gentoo\", \"island\": \"Biscoe\", \"bill_length_mm\": 49.5, \"bill_depth_mm\": 16.2, \"flipper_length_mm\": 229.0, \"body_mass_g\": 5800.0, \"sex\": \"male\", \"year\": 2008}, {\"species\": \"Gentoo\", \"island\": \"Biscoe\", \"bill_length_mm\": 43.5, \"bill_depth_mm\": 14.2, \"flipper_length_mm\": 220.0, \"body_mass_g\": 4700.0, \"sex\": \"female\", \"year\": 2008}, {\"species\": \"Gentoo\", \"island\": \"Biscoe\", \"bill_length_mm\": 50.7, \"bill_depth_mm\": 15.0, \"flipper_length_mm\": 223.0, \"body_mass_g\": 5550.0, \"sex\": \"male\", \"year\": 2008}, {\"species\": \"Gentoo\", \"island\": \"Biscoe\", \"bill_length_mm\": 47.7, \"bill_depth_mm\": 15.0, \"flipper_length_mm\": 216.0, \"body_mass_g\": 4750.0, \"sex\": \"female\", \"year\": 2008}, {\"species\": \"Gentoo\", \"island\": \"Biscoe\", \"bill_length_mm\": 46.4, \"bill_depth_mm\": 15.6, \"flipper_length_mm\": 221.0, \"body_mass_g\": 5000.0, \"sex\": \"male\", \"year\": 2008}, {\"species\": \"Gentoo\", \"island\": \"Biscoe\", \"bill_length_mm\": 48.2, \"bill_depth_mm\": 15.6, \"flipper_length_mm\": 221.0, \"body_mass_g\": 5100.0, \"sex\": \"male\", \"year\": 2008}, {\"species\": \"Gentoo\", \"island\": \"Biscoe\", \"bill_length_mm\": 46.5, \"bill_depth_mm\": 14.8, \"flipper_length_mm\": 217.0, \"body_mass_g\": 5200.0, \"sex\": \"female\", \"year\": 2008}, {\"species\": \"Gentoo\", \"island\": \"Biscoe\", \"bill_length_mm\": 46.4, \"bill_depth_mm\": 15.0, \"flipper_length_mm\": 216.0, \"body_mass_g\": 4700.0, \"sex\": \"female\", \"year\": 2008}, {\"species\": \"Gentoo\", \"island\": \"Biscoe\", \"bill_length_mm\": 48.6, \"bill_depth_mm\": 16.0, \"flipper_length_mm\": 230.0, \"body_mass_g\": 5800.0, \"sex\": \"male\", \"year\": 2008}, {\"species\": \"Gentoo\", \"island\": \"Biscoe\", \"bill_length_mm\": 47.5, \"bill_depth_mm\": 14.2, \"flipper_length_mm\": 209.0, \"body_mass_g\": 4600.0, \"sex\": \"female\", \"year\": 2008}, {\"species\": \"Gentoo\", \"island\": \"Biscoe\", \"bill_length_mm\": 51.1, \"bill_depth_mm\": 16.3, \"flipper_length_mm\": 220.0, \"body_mass_g\": 6000.0, \"sex\": \"male\", \"year\": 2008}, {\"species\": \"Gentoo\", \"island\": \"Biscoe\", \"bill_length_mm\": 45.2, \"bill_depth_mm\": 13.8, \"flipper_length_mm\": 215.0, \"body_mass_g\": 4750.0, \"sex\": \"female\", \"year\": 2008}, {\"species\": \"Gentoo\", \"island\": \"Biscoe\", \"bill_length_mm\": 45.2, \"bill_depth_mm\": 16.4, \"flipper_length_mm\": 223.0, \"body_mass_g\": 5950.0, \"sex\": \"male\", \"year\": 2008}, {\"species\": \"Gentoo\", \"island\": \"Biscoe\", \"bill_length_mm\": 49.1, \"bill_depth_mm\": 14.5, \"flipper_length_mm\": 212.0, \"body_mass_g\": 4625.0, \"sex\": \"female\", \"year\": 2009}, {\"species\": \"Gentoo\", \"island\": \"Biscoe\", \"bill_length_mm\": 52.5, \"bill_depth_mm\": 15.6, \"flipper_length_mm\": 221.0, \"body_mass_g\": 5450.0, \"sex\": \"male\", \"year\": 2009}, {\"species\": \"Gentoo\", \"island\": \"Biscoe\", \"bill_length_mm\": 47.4, \"bill_depth_mm\": 14.6, \"flipper_length_mm\": 212.0, \"body_mass_g\": 4725.0, \"sex\": \"female\", \"year\": 2009}, {\"species\": \"Gentoo\", \"island\": \"Biscoe\", \"bill_length_mm\": 50.0, \"bill_depth_mm\": 15.9, \"flipper_length_mm\": 224.0, \"body_mass_g\": 5350.0, \"sex\": \"male\", \"year\": 2009}, {\"species\": \"Gentoo\", \"island\": \"Biscoe\", \"bill_length_mm\": 44.9, \"bill_depth_mm\": 13.8, \"flipper_length_mm\": 212.0, \"body_mass_g\": 4750.0, \"sex\": \"female\", \"year\": 2009}, {\"species\": \"Gentoo\", \"island\": \"Biscoe\", \"bill_length_mm\": 50.8, \"bill_depth_mm\": 17.3, \"flipper_length_mm\": 228.0, \"body_mass_g\": 5600.0, \"sex\": \"male\", \"year\": 2009}, {\"species\": \"Gentoo\", \"island\": \"Biscoe\", \"bill_length_mm\": 43.4, \"bill_depth_mm\": 14.4, \"flipper_length_mm\": 218.0, \"body_mass_g\": 4600.0, \"sex\": \"female\", \"year\": 2009}, {\"species\": \"Gentoo\", \"island\": \"Biscoe\", \"bill_length_mm\": 51.3, \"bill_depth_mm\": 14.2, \"flipper_length_mm\": 218.0, \"body_mass_g\": 5300.0, \"sex\": \"male\", \"year\": 2009}, {\"species\": \"Gentoo\", \"island\": \"Biscoe\", \"bill_length_mm\": 47.5, \"bill_depth_mm\": 14.0, \"flipper_length_mm\": 212.0, \"body_mass_g\": 4875.0, \"sex\": \"female\", \"year\": 2009}, {\"species\": \"Gentoo\", \"island\": \"Biscoe\", \"bill_length_mm\": 52.1, \"bill_depth_mm\": 17.0, \"flipper_length_mm\": 230.0, \"body_mass_g\": 5550.0, \"sex\": \"male\", \"year\": 2009}, {\"species\": \"Gentoo\", \"island\": \"Biscoe\", \"bill_length_mm\": 47.5, \"bill_depth_mm\": 15.0, \"flipper_length_mm\": 218.0, \"body_mass_g\": 4950.0, \"sex\": \"female\", \"year\": 2009}, {\"species\": \"Gentoo\", \"island\": \"Biscoe\", \"bill_length_mm\": 52.2, \"bill_depth_mm\": 17.1, \"flipper_length_mm\": 228.0, \"body_mass_g\": 5400.0, \"sex\": \"male\", \"year\": 2009}, {\"species\": \"Gentoo\", \"island\": \"Biscoe\", \"bill_length_mm\": 45.5, \"bill_depth_mm\": 14.5, \"flipper_length_mm\": 212.0, \"body_mass_g\": 4750.0, \"sex\": \"female\", \"year\": 2009}, {\"species\": \"Gentoo\", \"island\": \"Biscoe\", \"bill_length_mm\": 49.5, \"bill_depth_mm\": 16.1, \"flipper_length_mm\": 224.0, \"body_mass_g\": 5650.0, \"sex\": \"male\", \"year\": 2009}, {\"species\": \"Gentoo\", \"island\": \"Biscoe\", \"bill_length_mm\": 44.5, \"bill_depth_mm\": 14.7, \"flipper_length_mm\": 214.0, \"body_mass_g\": 4850.0, \"sex\": \"female\", \"year\": 2009}, {\"species\": \"Gentoo\", \"island\": \"Biscoe\", \"bill_length_mm\": 50.8, \"bill_depth_mm\": 15.7, \"flipper_length_mm\": 226.0, \"body_mass_g\": 5200.0, \"sex\": \"male\", \"year\": 2009}, {\"species\": \"Gentoo\", \"island\": \"Biscoe\", \"bill_length_mm\": 49.4, \"bill_depth_mm\": 15.8, \"flipper_length_mm\": 216.0, \"body_mass_g\": 4925.0, \"sex\": \"male\", \"year\": 2009}, {\"species\": \"Gentoo\", \"island\": \"Biscoe\", \"bill_length_mm\": 46.9, \"bill_depth_mm\": 14.6, \"flipper_length_mm\": 222.0, \"body_mass_g\": 4875.0, \"sex\": \"female\", \"year\": 2009}, {\"species\": \"Gentoo\", \"island\": \"Biscoe\", \"bill_length_mm\": 48.4, \"bill_depth_mm\": 14.4, \"flipper_length_mm\": 203.0, \"body_mass_g\": 4625.0, \"sex\": \"female\", \"year\": 2009}, {\"species\": \"Gentoo\", \"island\": \"Biscoe\", \"bill_length_mm\": 51.1, \"bill_depth_mm\": 16.5, \"flipper_length_mm\": 225.0, \"body_mass_g\": 5250.0, \"sex\": \"male\", \"year\": 2009}, {\"species\": \"Gentoo\", \"island\": \"Biscoe\", \"bill_length_mm\": 48.5, \"bill_depth_mm\": 15.0, \"flipper_length_mm\": 219.0, \"body_mass_g\": 4850.0, \"sex\": \"female\", \"year\": 2009}, {\"species\": \"Gentoo\", \"island\": \"Biscoe\", \"bill_length_mm\": 55.9, \"bill_depth_mm\": 17.0, \"flipper_length_mm\": 228.0, \"body_mass_g\": 5600.0, \"sex\": \"male\", \"year\": 2009}, {\"species\": \"Gentoo\", \"island\": \"Biscoe\", \"bill_length_mm\": 47.2, \"bill_depth_mm\": 15.5, \"flipper_length_mm\": 215.0, \"body_mass_g\": 4975.0, \"sex\": \"female\", \"year\": 2009}, {\"species\": \"Gentoo\", \"island\": \"Biscoe\", \"bill_length_mm\": 49.1, \"bill_depth_mm\": 15.0, \"flipper_length_mm\": 228.0, \"body_mass_g\": 5500.0, \"sex\": \"male\", \"year\": 2009}, {\"species\": \"Gentoo\", \"island\": \"Biscoe\", \"bill_length_mm\": 47.3, \"bill_depth_mm\": 13.8, \"flipper_length_mm\": 216.0, \"body_mass_g\": 4725.0, \"sex\": null, \"year\": 2009}, {\"species\": \"Gentoo\", \"island\": \"Biscoe\", \"bill_length_mm\": 46.8, \"bill_depth_mm\": 16.1, \"flipper_length_mm\": 215.0, \"body_mass_g\": 5500.0, \"sex\": \"male\", \"year\": 2009}, {\"species\": \"Gentoo\", \"island\": \"Biscoe\", \"bill_length_mm\": 41.7, \"bill_depth_mm\": 14.7, \"flipper_length_mm\": 210.0, \"body_mass_g\": 4700.0, \"sex\": \"female\", \"year\": 2009}, {\"species\": \"Gentoo\", \"island\": \"Biscoe\", \"bill_length_mm\": 53.4, \"bill_depth_mm\": 15.8, \"flipper_length_mm\": 219.0, \"body_mass_g\": 5500.0, \"sex\": \"male\", \"year\": 2009}, {\"species\": \"Gentoo\", \"island\": \"Biscoe\", \"bill_length_mm\": 43.3, \"bill_depth_mm\": 14.0, \"flipper_length_mm\": 208.0, \"body_mass_g\": 4575.0, \"sex\": \"female\", \"year\": 2009}, {\"species\": \"Gentoo\", \"island\": \"Biscoe\", \"bill_length_mm\": 48.1, \"bill_depth_mm\": 15.1, \"flipper_length_mm\": 209.0, \"body_mass_g\": 5500.0, \"sex\": \"male\", \"year\": 2009}, {\"species\": \"Gentoo\", \"island\": \"Biscoe\", \"bill_length_mm\": 50.5, \"bill_depth_mm\": 15.2, \"flipper_length_mm\": 216.0, \"body_mass_g\": 5000.0, \"sex\": \"female\", \"year\": 2009}, {\"species\": \"Gentoo\", \"island\": \"Biscoe\", \"bill_length_mm\": 49.8, \"bill_depth_mm\": 15.9, \"flipper_length_mm\": 229.0, \"body_mass_g\": 5950.0, \"sex\": \"male\", \"year\": 2009}, {\"species\": \"Gentoo\", \"island\": \"Biscoe\", \"bill_length_mm\": 43.5, \"bill_depth_mm\": 15.2, \"flipper_length_mm\": 213.0, \"body_mass_g\": 4650.0, \"sex\": \"female\", \"year\": 2009}, {\"species\": \"Gentoo\", \"island\": \"Biscoe\", \"bill_length_mm\": 51.5, \"bill_depth_mm\": 16.3, \"flipper_length_mm\": 230.0, \"body_mass_g\": 5500.0, \"sex\": \"male\", \"year\": 2009}, {\"species\": \"Gentoo\", \"island\": \"Biscoe\", \"bill_length_mm\": 46.2, \"bill_depth_mm\": 14.1, \"flipper_length_mm\": 217.0, \"body_mass_g\": 4375.0, \"sex\": \"female\", \"year\": 2009}, {\"species\": \"Gentoo\", \"island\": \"Biscoe\", \"bill_length_mm\": 55.1, \"bill_depth_mm\": 16.0, \"flipper_length_mm\": 230.0, \"body_mass_g\": 5850.0, \"sex\": \"male\", \"year\": 2009}, {\"species\": \"Gentoo\", \"island\": \"Biscoe\", \"bill_length_mm\": 44.5, \"bill_depth_mm\": 15.7, \"flipper_length_mm\": 217.0, \"body_mass_g\": 4875.0, \"sex\": null, \"year\": 2009}, {\"species\": \"Gentoo\", \"island\": \"Biscoe\", \"bill_length_mm\": 48.8, \"bill_depth_mm\": 16.2, \"flipper_length_mm\": 222.0, \"body_mass_g\": 6000.0, \"sex\": \"male\", \"year\": 2009}, {\"species\": \"Gentoo\", \"island\": \"Biscoe\", \"bill_length_mm\": 47.2, \"bill_depth_mm\": 13.7, \"flipper_length_mm\": 214.0, \"body_mass_g\": 4925.0, \"sex\": \"female\", \"year\": 2009}, {\"species\": \"Gentoo\", \"island\": \"Biscoe\", \"bill_length_mm\": null, \"bill_depth_mm\": null, \"flipper_length_mm\": null, \"body_mass_g\": null, \"sex\": null, \"year\": 2009}, {\"species\": \"Gentoo\", \"island\": \"Biscoe\", \"bill_length_mm\": 46.8, \"bill_depth_mm\": 14.3, \"flipper_length_mm\": 215.0, \"body_mass_g\": 4850.0, \"sex\": \"female\", \"year\": 2009}, {\"species\": \"Gentoo\", \"island\": \"Biscoe\", \"bill_length_mm\": 50.4, \"bill_depth_mm\": 15.7, \"flipper_length_mm\": 222.0, \"body_mass_g\": 5750.0, \"sex\": \"male\", \"year\": 2009}, {\"species\": \"Gentoo\", \"island\": \"Biscoe\", \"bill_length_mm\": 45.2, \"bill_depth_mm\": 14.8, \"flipper_length_mm\": 212.0, \"body_mass_g\": 5200.0, \"sex\": \"female\", \"year\": 2009}, {\"species\": \"Gentoo\", \"island\": \"Biscoe\", \"bill_length_mm\": 49.9, \"bill_depth_mm\": 16.1, \"flipper_length_mm\": 213.0, \"body_mass_g\": 5400.0, \"sex\": \"male\", \"year\": 2009}, {\"species\": \"Chinstrap\", \"island\": \"Dream\", \"bill_length_mm\": 46.5, \"bill_depth_mm\": 17.9, \"flipper_length_mm\": 192.0, \"body_mass_g\": 3500.0, \"sex\": \"female\", \"year\": 2007}, {\"species\": \"Chinstrap\", \"island\": \"Dream\", \"bill_length_mm\": 50.0, \"bill_depth_mm\": 19.5, \"flipper_length_mm\": 196.0, \"body_mass_g\": 3900.0, \"sex\": \"male\", \"year\": 2007}, {\"species\": \"Chinstrap\", \"island\": \"Dream\", \"bill_length_mm\": 51.3, \"bill_depth_mm\": 19.2, \"flipper_length_mm\": 193.0, \"body_mass_g\": 3650.0, \"sex\": \"male\", \"year\": 2007}, {\"species\": \"Chinstrap\", \"island\": \"Dream\", \"bill_length_mm\": 45.4, \"bill_depth_mm\": 18.7, \"flipper_length_mm\": 188.0, \"body_mass_g\": 3525.0, \"sex\": \"female\", \"year\": 2007}, {\"species\": \"Chinstrap\", \"island\": \"Dream\", \"bill_length_mm\": 52.7, \"bill_depth_mm\": 19.8, \"flipper_length_mm\": 197.0, \"body_mass_g\": 3725.0, \"sex\": \"male\", \"year\": 2007}, {\"species\": \"Chinstrap\", \"island\": \"Dream\", \"bill_length_mm\": 45.2, \"bill_depth_mm\": 17.8, \"flipper_length_mm\": 198.0, \"body_mass_g\": 3950.0, \"sex\": \"female\", \"year\": 2007}, {\"species\": \"Chinstrap\", \"island\": \"Dream\", \"bill_length_mm\": 46.1, \"bill_depth_mm\": 18.2, \"flipper_length_mm\": 178.0, \"body_mass_g\": 3250.0, \"sex\": \"female\", \"year\": 2007}, {\"species\": \"Chinstrap\", \"island\": \"Dream\", \"bill_length_mm\": 51.3, \"bill_depth_mm\": 18.2, \"flipper_length_mm\": 197.0, \"body_mass_g\": 3750.0, \"sex\": \"male\", \"year\": 2007}, {\"species\": \"Chinstrap\", \"island\": \"Dream\", \"bill_length_mm\": 46.0, \"bill_depth_mm\": 18.9, \"flipper_length_mm\": 195.0, \"body_mass_g\": 4150.0, \"sex\": \"female\", \"year\": 2007}, {\"species\": \"Chinstrap\", \"island\": \"Dream\", \"bill_length_mm\": 51.3, \"bill_depth_mm\": 19.9, \"flipper_length_mm\": 198.0, \"body_mass_g\": 3700.0, \"sex\": \"male\", \"year\": 2007}, {\"species\": \"Chinstrap\", \"island\": \"Dream\", \"bill_length_mm\": 46.6, \"bill_depth_mm\": 17.8, \"flipper_length_mm\": 193.0, \"body_mass_g\": 3800.0, \"sex\": \"female\", \"year\": 2007}, {\"species\": \"Chinstrap\", \"island\": \"Dream\", \"bill_length_mm\": 51.7, \"bill_depth_mm\": 20.3, \"flipper_length_mm\": 194.0, \"body_mass_g\": 3775.0, \"sex\": \"male\", \"year\": 2007}, {\"species\": \"Chinstrap\", \"island\": \"Dream\", \"bill_length_mm\": 47.0, \"bill_depth_mm\": 17.3, \"flipper_length_mm\": 185.0, \"body_mass_g\": 3700.0, \"sex\": \"female\", \"year\": 2007}, {\"species\": \"Chinstrap\", \"island\": \"Dream\", \"bill_length_mm\": 52.0, \"bill_depth_mm\": 18.1, \"flipper_length_mm\": 201.0, \"body_mass_g\": 4050.0, \"sex\": \"male\", \"year\": 2007}, {\"species\": \"Chinstrap\", \"island\": \"Dream\", \"bill_length_mm\": 45.9, \"bill_depth_mm\": 17.1, \"flipper_length_mm\": 190.0, \"body_mass_g\": 3575.0, \"sex\": \"female\", \"year\": 2007}, {\"species\": \"Chinstrap\", \"island\": \"Dream\", \"bill_length_mm\": 50.5, \"bill_depth_mm\": 19.6, \"flipper_length_mm\": 201.0, \"body_mass_g\": 4050.0, \"sex\": \"male\", \"year\": 2007}, {\"species\": \"Chinstrap\", \"island\": \"Dream\", \"bill_length_mm\": 50.3, \"bill_depth_mm\": 20.0, \"flipper_length_mm\": 197.0, \"body_mass_g\": 3300.0, \"sex\": \"male\", \"year\": 2007}, {\"species\": \"Chinstrap\", \"island\": \"Dream\", \"bill_length_mm\": 58.0, \"bill_depth_mm\": 17.8, \"flipper_length_mm\": 181.0, \"body_mass_g\": 3700.0, \"sex\": \"female\", \"year\": 2007}, {\"species\": \"Chinstrap\", \"island\": \"Dream\", \"bill_length_mm\": 46.4, \"bill_depth_mm\": 18.6, \"flipper_length_mm\": 190.0, \"body_mass_g\": 3450.0, \"sex\": \"female\", \"year\": 2007}, {\"species\": \"Chinstrap\", \"island\": \"Dream\", \"bill_length_mm\": 49.2, \"bill_depth_mm\": 18.2, \"flipper_length_mm\": 195.0, \"body_mass_g\": 4400.0, \"sex\": \"male\", \"year\": 2007}, {\"species\": \"Chinstrap\", \"island\": \"Dream\", \"bill_length_mm\": 42.4, \"bill_depth_mm\": 17.3, \"flipper_length_mm\": 181.0, \"body_mass_g\": 3600.0, \"sex\": \"female\", \"year\": 2007}, {\"species\": \"Chinstrap\", \"island\": \"Dream\", \"bill_length_mm\": 48.5, \"bill_depth_mm\": 17.5, \"flipper_length_mm\": 191.0, \"body_mass_g\": 3400.0, \"sex\": \"male\", \"year\": 2007}, {\"species\": \"Chinstrap\", \"island\": \"Dream\", \"bill_length_mm\": 43.2, \"bill_depth_mm\": 16.6, \"flipper_length_mm\": 187.0, \"body_mass_g\": 2900.0, \"sex\": \"female\", \"year\": 2007}, {\"species\": \"Chinstrap\", \"island\": \"Dream\", \"bill_length_mm\": 50.6, \"bill_depth_mm\": 19.4, \"flipper_length_mm\": 193.0, \"body_mass_g\": 3800.0, \"sex\": \"male\", \"year\": 2007}, {\"species\": \"Chinstrap\", \"island\": \"Dream\", \"bill_length_mm\": 46.7, \"bill_depth_mm\": 17.9, \"flipper_length_mm\": 195.0, \"body_mass_g\": 3300.0, \"sex\": \"female\", \"year\": 2007}, {\"species\": \"Chinstrap\", \"island\": \"Dream\", \"bill_length_mm\": 52.0, \"bill_depth_mm\": 19.0, \"flipper_length_mm\": 197.0, \"body_mass_g\": 4150.0, \"sex\": \"male\", \"year\": 2007}, {\"species\": \"Chinstrap\", \"island\": \"Dream\", \"bill_length_mm\": 50.5, \"bill_depth_mm\": 18.4, \"flipper_length_mm\": 200.0, \"body_mass_g\": 3400.0, \"sex\": \"female\", \"year\": 2008}, {\"species\": \"Chinstrap\", \"island\": \"Dream\", \"bill_length_mm\": 49.5, \"bill_depth_mm\": 19.0, \"flipper_length_mm\": 200.0, \"body_mass_g\": 3800.0, \"sex\": \"male\", \"year\": 2008}, {\"species\": \"Chinstrap\", \"island\": \"Dream\", \"bill_length_mm\": 46.4, \"bill_depth_mm\": 17.8, \"flipper_length_mm\": 191.0, \"body_mass_g\": 3700.0, \"sex\": \"female\", \"year\": 2008}, {\"species\": \"Chinstrap\", \"island\": \"Dream\", \"bill_length_mm\": 52.8, \"bill_depth_mm\": 20.0, \"flipper_length_mm\": 205.0, \"body_mass_g\": 4550.0, \"sex\": \"male\", \"year\": 2008}, {\"species\": \"Chinstrap\", \"island\": \"Dream\", \"bill_length_mm\": 40.9, \"bill_depth_mm\": 16.6, \"flipper_length_mm\": 187.0, \"body_mass_g\": 3200.0, \"sex\": \"female\", \"year\": 2008}, {\"species\": \"Chinstrap\", \"island\": \"Dream\", \"bill_length_mm\": 54.2, \"bill_depth_mm\": 20.8, \"flipper_length_mm\": 201.0, \"body_mass_g\": 4300.0, \"sex\": \"male\", \"year\": 2008}, {\"species\": \"Chinstrap\", \"island\": \"Dream\", \"bill_length_mm\": 42.5, \"bill_depth_mm\": 16.7, \"flipper_length_mm\": 187.0, \"body_mass_g\": 3350.0, \"sex\": \"female\", \"year\": 2008}, {\"species\": \"Chinstrap\", \"island\": \"Dream\", \"bill_length_mm\": 51.0, \"bill_depth_mm\": 18.8, \"flipper_length_mm\": 203.0, \"body_mass_g\": 4100.0, \"sex\": \"male\", \"year\": 2008}, {\"species\": \"Chinstrap\", \"island\": \"Dream\", \"bill_length_mm\": 49.7, \"bill_depth_mm\": 18.6, \"flipper_length_mm\": 195.0, \"body_mass_g\": 3600.0, \"sex\": \"male\", \"year\": 2008}, {\"species\": \"Chinstrap\", \"island\": \"Dream\", \"bill_length_mm\": 47.5, \"bill_depth_mm\": 16.8, \"flipper_length_mm\": 199.0, \"body_mass_g\": 3900.0, \"sex\": \"female\", \"year\": 2008}, {\"species\": \"Chinstrap\", \"island\": \"Dream\", \"bill_length_mm\": 47.6, \"bill_depth_mm\": 18.3, \"flipper_length_mm\": 195.0, \"body_mass_g\": 3850.0, \"sex\": \"female\", \"year\": 2008}, {\"species\": \"Chinstrap\", \"island\": \"Dream\", \"bill_length_mm\": 52.0, \"bill_depth_mm\": 20.7, \"flipper_length_mm\": 210.0, \"body_mass_g\": 4800.0, \"sex\": \"male\", \"year\": 2008}, {\"species\": \"Chinstrap\", \"island\": \"Dream\", \"bill_length_mm\": 46.9, \"bill_depth_mm\": 16.6, \"flipper_length_mm\": 192.0, \"body_mass_g\": 2700.0, \"sex\": \"female\", \"year\": 2008}, {\"species\": \"Chinstrap\", \"island\": \"Dream\", \"bill_length_mm\": 53.5, \"bill_depth_mm\": 19.9, \"flipper_length_mm\": 205.0, \"body_mass_g\": 4500.0, \"sex\": \"male\", \"year\": 2008}, {\"species\": \"Chinstrap\", \"island\": \"Dream\", \"bill_length_mm\": 49.0, \"bill_depth_mm\": 19.5, \"flipper_length_mm\": 210.0, \"body_mass_g\": 3950.0, \"sex\": \"male\", \"year\": 2008}, {\"species\": \"Chinstrap\", \"island\": \"Dream\", \"bill_length_mm\": 46.2, \"bill_depth_mm\": 17.5, \"flipper_length_mm\": 187.0, \"body_mass_g\": 3650.0, \"sex\": \"female\", \"year\": 2008}, {\"species\": \"Chinstrap\", \"island\": \"Dream\", \"bill_length_mm\": 50.9, \"bill_depth_mm\": 19.1, \"flipper_length_mm\": 196.0, \"body_mass_g\": 3550.0, \"sex\": \"male\", \"year\": 2008}, {\"species\": \"Chinstrap\", \"island\": \"Dream\", \"bill_length_mm\": 45.5, \"bill_depth_mm\": 17.0, \"flipper_length_mm\": 196.0, \"body_mass_g\": 3500.0, \"sex\": \"female\", \"year\": 2008}, {\"species\": \"Chinstrap\", \"island\": \"Dream\", \"bill_length_mm\": 50.9, \"bill_depth_mm\": 17.9, \"flipper_length_mm\": 196.0, \"body_mass_g\": 3675.0, \"sex\": \"female\", \"year\": 2009}, {\"species\": \"Chinstrap\", \"island\": \"Dream\", \"bill_length_mm\": 50.8, \"bill_depth_mm\": 18.5, \"flipper_length_mm\": 201.0, \"body_mass_g\": 4450.0, \"sex\": \"male\", \"year\": 2009}, {\"species\": \"Chinstrap\", \"island\": \"Dream\", \"bill_length_mm\": 50.1, \"bill_depth_mm\": 17.9, \"flipper_length_mm\": 190.0, \"body_mass_g\": 3400.0, \"sex\": \"female\", \"year\": 2009}, {\"species\": \"Chinstrap\", \"island\": \"Dream\", \"bill_length_mm\": 49.0, \"bill_depth_mm\": 19.6, \"flipper_length_mm\": 212.0, \"body_mass_g\": 4300.0, \"sex\": \"male\", \"year\": 2009}, {\"species\": \"Chinstrap\", \"island\": \"Dream\", \"bill_length_mm\": 51.5, \"bill_depth_mm\": 18.7, \"flipper_length_mm\": 187.0, \"body_mass_g\": 3250.0, \"sex\": \"male\", \"year\": 2009}, {\"species\": \"Chinstrap\", \"island\": \"Dream\", \"bill_length_mm\": 49.8, \"bill_depth_mm\": 17.3, \"flipper_length_mm\": 198.0, \"body_mass_g\": 3675.0, \"sex\": \"female\", \"year\": 2009}, {\"species\": \"Chinstrap\", \"island\": \"Dream\", \"bill_length_mm\": 48.1, \"bill_depth_mm\": 16.4, \"flipper_length_mm\": 199.0, \"body_mass_g\": 3325.0, \"sex\": \"female\", \"year\": 2009}, {\"species\": \"Chinstrap\", \"island\": \"Dream\", \"bill_length_mm\": 51.4, \"bill_depth_mm\": 19.0, \"flipper_length_mm\": 201.0, \"body_mass_g\": 3950.0, \"sex\": \"male\", \"year\": 2009}, {\"species\": \"Chinstrap\", \"island\": \"Dream\", \"bill_length_mm\": 45.7, \"bill_depth_mm\": 17.3, \"flipper_length_mm\": 193.0, \"body_mass_g\": 3600.0, \"sex\": \"female\", \"year\": 2009}, {\"species\": \"Chinstrap\", \"island\": \"Dream\", \"bill_length_mm\": 50.7, \"bill_depth_mm\": 19.7, \"flipper_length_mm\": 203.0, \"body_mass_g\": 4050.0, \"sex\": \"male\", \"year\": 2009}, {\"species\": \"Chinstrap\", \"island\": \"Dream\", \"bill_length_mm\": 42.5, \"bill_depth_mm\": 17.3, \"flipper_length_mm\": 187.0, \"body_mass_g\": 3350.0, \"sex\": \"female\", \"year\": 2009}, {\"species\": \"Chinstrap\", \"island\": \"Dream\", \"bill_length_mm\": 52.2, \"bill_depth_mm\": 18.8, \"flipper_length_mm\": 197.0, \"body_mass_g\": 3450.0, \"sex\": \"male\", \"year\": 2009}, {\"species\": \"Chinstrap\", \"island\": \"Dream\", \"bill_length_mm\": 45.2, \"bill_depth_mm\": 16.6, \"flipper_length_mm\": 191.0, \"body_mass_g\": 3250.0, \"sex\": \"female\", \"year\": 2009}, {\"species\": \"Chinstrap\", \"island\": \"Dream\", \"bill_length_mm\": 49.3, \"bill_depth_mm\": 19.9, \"flipper_length_mm\": 203.0, \"body_mass_g\": 4050.0, \"sex\": \"male\", \"year\": 2009}, {\"species\": \"Chinstrap\", \"island\": \"Dream\", \"bill_length_mm\": 50.2, \"bill_depth_mm\": 18.8, \"flipper_length_mm\": 202.0, \"body_mass_g\": 3800.0, \"sex\": \"male\", \"year\": 2009}, {\"species\": \"Chinstrap\", \"island\": \"Dream\", \"bill_length_mm\": 45.6, \"bill_depth_mm\": 19.4, \"flipper_length_mm\": 194.0, \"body_mass_g\": 3525.0, \"sex\": \"female\", \"year\": 2009}, {\"species\": \"Chinstrap\", \"island\": \"Dream\", \"bill_length_mm\": 51.9, \"bill_depth_mm\": 19.5, \"flipper_length_mm\": 206.0, \"body_mass_g\": 3950.0, \"sex\": \"male\", \"year\": 2009}, {\"species\": \"Chinstrap\", \"island\": \"Dream\", \"bill_length_mm\": 46.8, \"bill_depth_mm\": 16.5, \"flipper_length_mm\": 189.0, \"body_mass_g\": 3650.0, \"sex\": \"female\", \"year\": 2009}, {\"species\": \"Chinstrap\", \"island\": \"Dream\", \"bill_length_mm\": 45.7, \"bill_depth_mm\": 17.0, \"flipper_length_mm\": 195.0, \"body_mass_g\": 3650.0, \"sex\": \"female\", \"year\": 2009}, {\"species\": \"Chinstrap\", \"island\": \"Dream\", \"bill_length_mm\": 55.8, \"bill_depth_mm\": 19.8, \"flipper_length_mm\": 207.0, \"body_mass_g\": 4000.0, \"sex\": \"male\", \"year\": 2009}, {\"species\": \"Chinstrap\", \"island\": \"Dream\", \"bill_length_mm\": 43.5, \"bill_depth_mm\": 18.1, \"flipper_length_mm\": 202.0, \"body_mass_g\": 3400.0, \"sex\": \"female\", \"year\": 2009}, {\"species\": \"Chinstrap\", \"island\": \"Dream\", \"bill_length_mm\": 49.6, \"bill_depth_mm\": 18.2, \"flipper_length_mm\": 193.0, \"body_mass_g\": 3775.0, \"sex\": \"male\", \"year\": 2009}, {\"species\": \"Chinstrap\", \"island\": \"Dream\", \"bill_length_mm\": 50.8, \"bill_depth_mm\": 19.0, \"flipper_length_mm\": 210.0, \"body_mass_g\": 4100.0, \"sex\": \"male\", \"year\": 2009}, {\"species\": \"Chinstrap\", \"island\": \"Dream\", \"bill_length_mm\": 50.2, \"bill_depth_mm\": 18.7, \"flipper_length_mm\": 198.0, \"body_mass_g\": 3775.0, \"sex\": \"female\", \"year\": 2009}]}}, {\"mode\": \"vega-lite\"});\n",
       "</script>"
      ],
      "text/plain": [
       "alt.Chart(...)"
      ]
     },
     "execution_count": 12,
     "metadata": {},
     "output_type": "execute_result"
    }
   ],
   "source": [
    "# BEGIN SOLUTION\n",
    "penguins_chart_categorical_ordered\n",
    "# END SOLUTION"
   ]
  },
  {
   "cell_type": "markdown",
   "metadata": {},
   "source": [
    "# BEGIN SOLUTION\n",
    "The code snippet above shows a very simple example of how `sort_values` has no effect on figures, \n",
    "but that `cat.reorder_categories` does. \n",
    "In this example, we plot body mass vs bill length from the `penguins` dataset, \n",
    "colored by a `categorical` `species` variable. \n",
    "The first plot is the original data. \n",
    "The second plot is the data sorted based on the species name into descending alphabetic order, \n",
    "it shows that `sort_values` has no effect on plot aesthetics.\n",
    "The third plot uses the `cat.reorder_categories` method to reorder the catergorical \n",
    "based on species name into descending alphabetic order. \n",
    "This shows that reordering has an effect on the aesthetics of the plot, namely, \n",
    "through the legend and color ordering. \n",
    "Reordering `categoricals` can be a very useful method of controlling plots.\n",
    "# END SOLUTION"
   ]
  },
  {
   "cell_type": "raw",
   "metadata": {},
   "source": [
    "# END SOLUTION"
   ]
  },
  {
   "cell_type": "raw",
   "metadata": {},
   "source": [
    "# END QUESTION"
   ]
  },
  {
   "cell_type": "raw",
   "metadata": {},
   "source": [
    "# BEGIN QUESTION\n",
    "name: ex4\n",
    "points: 16\n",
    "manual: true"
   ]
  },
  {
   "cell_type": "markdown",
   "metadata": {},
   "source": [
    "## Exercise 4: Two table joins cheatsheet\n",
    "rubric={accuracy:8,reasoning:8}\n",
    "\n",
    "This exercise is to help you familiarize with the different _joins_ available in `pandas` using the `merge` method. First, take a look at [Jenny Bryan's cheatsheet](http://stat545.com/bit001_dplyr-cheatsheet.html). Your task is to create your own cheatsheet, covering all the joins that Jenny covers (and in both orders for joins where order has an effect) but focused on something you care about. Examples:\r",
    "\r",
    "  - Pets I have owned + breed + friendly vs. unfriendly + ??. Join to a table of pet breed, including variables for furry vs not furry, mammal true or false, etc.\r",
    "  - Movies and studios....\r",
    "  - Athletes and teams....\r",
    "\r",
    "The data set should be tractable (think 5-7 items in each table). **You are expected to create your own data set for this question, do not use an existing data set.**\r",
    "\r",
    "While demonstrating the joins with your data and code, also provide a narrative in written English explaining what you are doing and what is revealed through the joins. The narrative should be ~ 2-4 sentences per join scenario. **This narrative must be in your own words.**\r",
    "\r",
    "You will likely need to iterate between your data prep and your joining to make your explorations comprehensive and interesting. For example, you will want a specific amount (or lack) of overlap between the two data frames, in order to demonstrate all the different joins. You will want both the data frames to be as small as possible, while still retaining the expository value.\r",
    "\r",
    "You should create this cheatsheet as a separate `.ipynb` file that you render to `.md` (you can do that by clicking **File** > **Save and Export Notebook As ...** > **Markdown**). Both of these files should live in this lab2 repo, and you should paste the links (URL) to them below:"
   ]
  },
  {
   "cell_type": "raw",
   "metadata": {},
   "source": [
    "# BEGIN SOLUTION"
   ]
  },
  {
   "cell_type": "markdown",
   "metadata": {},
   "source": [
    "# BEGIN SOLUTION\n",
    "\n",
    "- URL to to source `.Rmd` file:\r",
    "\r",
    "- URL to to rendered `.md` file:\n",
    "\n",
    "# END SOLUTION"
   ]
  },
  {
   "cell_type": "raw",
   "metadata": {},
   "source": [
    "# END SOLUTION"
   ]
  },
  {
   "cell_type": "raw",
   "metadata": {},
   "source": [
    "# END QUESTION"
   ]
  },
  {
   "cell_type": "raw",
   "metadata": {},
   "source": [
    "# BEGIN QUESTION\n",
    "name: ex5\n",
    "points: 16"
   ]
  },
  {
   "cell_type": "markdown",
   "metadata": {},
   "source": [
    "## Exercise 5: Grouping and aggregating\n",
    "\n",
    "rubric={autograde:16}\n",
    "\n",
    "Use the `pandas`to take the `flights` data set, from the `nycflights13` Python package, \n",
    "and obtain the average speed (in km/hr) and average distance (in km) for all flights, \n",
    "for each of the carriers AA, AS, UA and US.\n",
    "Name these new columns `carrier_avg_speed` and `carrier_avg_distance_km`, \n",
    "and round the values so that the answer is a whole number (i.e., no decimal points). \n",
    "Convert the carrier acronyms to their full names \n",
    "(American Airlines, Alaska Airlines, United Airlines and US Airways). \n",
    "Sort the results in ascending order according to `carrier_avg_speed`. \n",
    "Name the data frame `carrier_avg_flights`.\n",
    "\n",
    "Some hints:\n",
    "- The distance is in miles and air time is in minutes in the `flights` data. \n",
    "- You will have to create a column that holds the average speed for each flight before you can do this for each carrier.\n",
    "- You may also need to handle `NA` entries in the data."
   ]
  },
  {
   "cell_type": "raw",
   "metadata": {},
   "source": [
    "# BEGIN SOLUTION"
   ]
  },
  {
   "cell_type": "code",
   "execution_count": 13,
   "metadata": {},
   "outputs": [
    {
     "data": {
      "text/html": [
       "<div>\n",
       "<style scoped>\n",
       "    .dataframe tbody tr th:only-of-type {\n",
       "        vertical-align: middle;\n",
       "    }\n",
       "\n",
       "    .dataframe tbody tr th {\n",
       "        vertical-align: top;\n",
       "    }\n",
       "\n",
       "    .dataframe thead th {\n",
       "        text-align: right;\n",
       "    }\n",
       "</style>\n",
       "<table border=\"1\" class=\"dataframe\">\n",
       "  <thead>\n",
       "    <tr style=\"text-align: right;\">\n",
       "      <th></th>\n",
       "      <th>carrier</th>\n",
       "      <th>carrier_avg_speed</th>\n",
       "      <th>carrier_avg_distance_km</th>\n",
       "    </tr>\n",
       "  </thead>\n",
       "  <tbody>\n",
       "    <tr>\n",
       "      <th>2</th>\n",
       "      <td>US Airways</td>\n",
       "      <td>550.0</td>\n",
       "      <td>891.0</td>\n",
       "    </tr>\n",
       "    <tr>\n",
       "      <th>1</th>\n",
       "      <td>American Airlines</td>\n",
       "      <td>672.0</td>\n",
       "      <td>2157.0</td>\n",
       "    </tr>\n",
       "    <tr>\n",
       "      <th>3</th>\n",
       "      <td>United Airlines</td>\n",
       "      <td>677.0</td>\n",
       "      <td>2461.0</td>\n",
       "    </tr>\n",
       "    <tr>\n",
       "      <th>0</th>\n",
       "      <td>Alaska Airlines</td>\n",
       "      <td>714.0</td>\n",
       "      <td>3866.0</td>\n",
       "    </tr>\n",
       "  </tbody>\n",
       "</table>\n",
       "</div>"
      ],
      "text/plain": [
       "             carrier  carrier_avg_speed  carrier_avg_distance_km\n",
       "2         US Airways              550.0                    891.0\n",
       "1  American Airlines              672.0                   2157.0\n",
       "3    United Airlines              677.0                   2461.0\n",
       "0    Alaska Airlines              714.0                   3866.0"
      ]
     },
     "execution_count": 13,
     "metadata": {},
     "output_type": "execute_result"
    }
   ],
   "source": [
    "carrier_avg_flights = None\n",
    "\n",
    "# BEGIN SOLUTION\n",
    "# Filtering and mutating\n",
    "flights_filtered = flights[flights['carrier'].isin(['AA', 'AS', 'UA', 'US'])].copy()\n",
    "\n",
    "flights_filtered['carrier'] = flights_filtered['carrier'].map({\n",
    "    'AA': 'American Airlines',\n",
    "    'AS': 'Alaska Airlines',\n",
    "    'UA': 'United Airlines',\n",
    "    'US': 'US Airways'\n",
    "})\n",
    "\n",
    "flights_filtered['distance_km'] = flights_filtered['distance'] * 1.6093\n",
    "flights_filtered['avg_speed'] = flights_filtered['distance_km'] / (flights_filtered['air_time'] / 60)\n",
    "\n",
    "flights_filtered\n",
    "# Grouping and aggregating\n",
    "carrier_avg_flights = flights_filtered.groupby('carrier').agg(\n",
    "    carrier_avg_speed=('avg_speed', 'mean'), carrier_avg_distance_km=('distance_km', 'mean')\n",
    ").reset_index()\n",
    "\n",
    "# Rounding and sorting\n",
    "carrier_avg_flights = carrier_avg_flights.round().sort_values(by='carrier_avg_speed')\n",
    "\n",
    "# END SOLUTION\n",
    "carrier_avg_flights"
   ]
  },
  {
   "cell_type": "raw",
   "metadata": {},
   "source": [
    "# END SOLUTION"
   ]
  },
  {
   "cell_type": "markdown",
   "metadata": {},
   "source": [
    "The tests below only check that the object has the correct names. The other tests are intentionally hidden."
   ]
  },
  {
   "cell_type": "raw",
   "metadata": {},
   "source": [
    "# BEGIN TESTS"
   ]
  },
  {
   "cell_type": "code",
   "execution_count": 14,
   "metadata": {},
   "outputs": [],
   "source": [
    "# TEST\n",
    "# Checking if the DataFrame is defined\n",
    "assert carrier_avg_flights is not None, \"The DataFrame 'carrier_avg_flights' is not defined.\"\n",
    "\n",
    "# Checking column names\n",
    "expected_columns = ['carrier', 'carrier_avg_speed', 'carrier_avg_distance_km']\n",
    "assert list(carrier_avg_flights.columns) == expected_columns, f\"Column names are incorrect. Expected: {expected_columns}, but got: {list(carrier_avg_flights.columns)}.\""
   ]
  },
  {
   "cell_type": "code",
   "execution_count": 15,
   "metadata": {},
   "outputs": [],
   "source": [
    "# HIDDEN TEST\n",
    "# Checking object type\n",
    "assert isinstance(carrier_avg_flights, pd.DataFrame), \"The object 'carrier_avg_flights' is not a DataFrame.\"\n",
    "\n",
    "# Checking column names\n",
    "expected_columns = ['carrier', 'carrier_avg_speed', 'carrier_avg_distance_km']\n",
    "assert list(carrier_avg_flights.columns) == expected_columns, f\"Column names are incorrect. Expected: {expected_columns}, but got: {list(carrier_avg_flights.columns)}.\"\n",
    "\n",
    "# Checking column data types\n",
    "\n",
    "expected_dtypes = {\n",
    "    'carrier': np.dtype('O'),\n",
    "    'carrier_avg_speed': (np.dtype('float64'), np.dtype('int64')),\n",
    "    'carrier_avg_distance_km': (np.dtype('float64'), np.dtype('int64'))\n",
    "}\n",
    "\n",
    "actual_dtypes = carrier_avg_flights.dtypes.to_dict()\n",
    "\n",
    "# Checking if the actual dtypes are among the expected types\n",
    "assert all(actual_dtypes[col] in expected_dtypes[col] if isinstance(expected_dtypes[col], tuple) else actual_dtypes[col] == expected_dtypes[col]\n",
    "           for col in expected_columns), f\"Column types are incorrect. Expected: {expected_dtypes}, but got: {actual_dtypes}.\"\n",
    "\n",
    "# Checking DataFrame shape\n",
    "expected_shape = (4, 3) \n",
    "assert carrier_avg_flights.shape == expected_shape, f\"DataFrame shape is incorrect. Expected: {expected_shape}, but got: {carrier_avg_flights.shape}.\"\n",
    "\n",
    "# Checking if the 'carrier' column is in the correct order\n",
    "expected_order = carrier_avg_flights.sort_values(by='carrier_avg_speed', ascending=True)['carrier'].tolist()\n",
    "actual_order = carrier_avg_flights['carrier'].tolist()\n",
    "assert actual_order == expected_order, f\"The 'carrier' column is not in the correct order. Expected: {expected_order}, but got: {actual_order}.\"\n",
    "\n",
    "# Checking the sum of numerical columns with a tolerance\n",
    "tolerance = 5\n",
    "expected_sums = {\n",
    "    'carrier_avg_speed': 2613,  # Replace with the actual expected sum\n",
    "    'carrier_avg_distance_km': 9375  # Replace with the actual expected sum\n",
    "}\n",
    "actual_sums = carrier_avg_flights[expected_columns[1:]].sum().to_dict()\n",
    "for col in expected_sums:\n",
    "    assert abs(actual_sums[col] - expected_sums[col]) <= tolerance, (\n",
    "        f\"Sum of column '{col}' is incorrect. \"\n",
    "        f\"Expected: {expected_sums[col]} ± {tolerance}, but got: {actual_sums[col]}.\"\n",
    "    )"
   ]
  },
  {
   "cell_type": "raw",
   "metadata": {},
   "source": [
    "# END TESTS"
   ]
  },
  {
   "cell_type": "raw",
   "metadata": {},
   "source": [
    "# END QUESTION"
   ]
  },
  {
   "cell_type": "raw",
   "metadata": {},
   "source": [
    "# BEGIN QUESTION\n",
    "name: ex6\n",
    "points: 5\n",
    "manual: true"
   ]
  },
  {
   "cell_type": "markdown",
   "metadata": {},
   "source": [
    "## Exercise 6: CHALLENGING\n",
    "rubric={accuracy:5}\n",
    "\n",
    "Warning: This exercise is challenging and could be time-consuming. Please only attempt if you find yourself finishing the assignment early and you want a bit more of a challenge.\n",
    "\n",
    "In this exercise, you will need to use regular expressions and the Python `re` library to parse a text file containing a collection of 10 \"Nigerian\" Fraud Letters, dating from 1998 to 2007. This is a subset of a data set [retrieved from Kaggle](https://www.kaggle.com/datasets/rtatman/fraudulent-email-corpus?resource=download).\n",
    "\n",
    "We would like you to create a dataframe with the following columns:\n",
    "- `senders` (containing the email addresses the emails were sent to)\n",
    "- `recipients` (containing the email addresses the emails were sent from)\n",
    "\n",
    "In the code below, we have read in the text file for you as a single string. \n",
    "\n",
    "Some useful resources:\n",
    "- You can test out your regex expression in real-time using https://regex101.com \n",
    "- Documentation on regex flags https://docs.python.org/3/library/re.html#flags"
   ]
  },
  {
   "cell_type": "raw",
   "metadata": {},
   "source": [
    "# BEGIN SOLUTION"
   ]
  },
  {
   "cell_type": "code",
   "execution_count": 16,
   "metadata": {},
   "outputs": [],
   "source": [
    "# Open the test_emails.txt file in read mode and read its contents into a string\n",
    "with open('data/test_emails.txt', 'r') as file:\n",
    "    email_text = file.read()"
   ]
  },
  {
   "cell_type": "code",
   "execution_count": 19,
   "metadata": {},
   "outputs": [
    {
     "data": {
      "text/html": [
       "<div>\n",
       "<style scoped>\n",
       "    .dataframe tbody tr th:only-of-type {\n",
       "        vertical-align: middle;\n",
       "    }\n",
       "\n",
       "    .dataframe tbody tr th {\n",
       "        vertical-align: top;\n",
       "    }\n",
       "\n",
       "    .dataframe thead th {\n",
       "        text-align: right;\n",
       "    }\n",
       "</style>\n",
       "<table border=\"1\" class=\"dataframe\">\n",
       "  <thead>\n",
       "    <tr style=\"text-align: right;\">\n",
       "      <th></th>\n",
       "      <th>senders</th>\n",
       "      <th>recipients</th>\n",
       "    </tr>\n",
       "  </thead>\n",
       "  <tbody>\n",
       "    <tr>\n",
       "      <th>0</th>\n",
       "      <td>james_ngola2002@maktoob.com</td>\n",
       "      <td>webmaster@aclweb.org</td>\n",
       "    </tr>\n",
       "    <tr>\n",
       "      <th>1</th>\n",
       "      <td>bensul2004nng@spinfinder.com</td>\n",
       "      <td>R@M</td>\n",
       "    </tr>\n",
       "    <tr>\n",
       "      <th>2</th>\n",
       "      <td>obong_715@epatra.com</td>\n",
       "      <td>webmaster@aclweb.org</td>\n",
       "    </tr>\n",
       "    <tr>\n",
       "      <th>3</th>\n",
       "      <td>obong_715@epatra.com</td>\n",
       "      <td>webmaster@aclweb.org</td>\n",
       "    </tr>\n",
       "    <tr>\n",
       "      <th>4</th>\n",
       "      <td>m_abacha03@www.com</td>\n",
       "      <td>R@M</td>\n",
       "    </tr>\n",
       "    <tr>\n",
       "      <th>5</th>\n",
       "      <td>davidkuta@postmark.net</td>\n",
       "      <td>davidkuta@yahoo.com</td>\n",
       "    </tr>\n",
       "    <tr>\n",
       "      <th>6</th>\n",
       "      <td>tunde_dosumu@lycos.com</td>\n",
       "      <td>albert.acme@yahoo.ca</td>\n",
       "    </tr>\n",
       "    <tr>\n",
       "      <th>7</th>\n",
       "      <td>william2244drallo@maktoob.com</td>\n",
       "      <td>webmaster@aclweb.org</td>\n",
       "    </tr>\n",
       "    <tr>\n",
       "      <th>8</th>\n",
       "      <td>abdul_817@rediffmail.com</td>\n",
       "      <td>R@M</td>\n",
       "    </tr>\n",
       "    <tr>\n",
       "      <th>9</th>\n",
       "      <td>barrister_td@lycos.com</td>\n",
       "      <td>jenn235232@hotmail.com</td>\n",
       "    </tr>\n",
       "  </tbody>\n",
       "</table>\n",
       "</div>"
      ],
      "text/plain": [
       "                         senders              recipients\n",
       "0    james_ngola2002@maktoob.com    webmaster@aclweb.org\n",
       "1   bensul2004nng@spinfinder.com                     R@M\n",
       "2           obong_715@epatra.com    webmaster@aclweb.org\n",
       "3           obong_715@epatra.com    webmaster@aclweb.org\n",
       "4             m_abacha03@www.com                     R@M\n",
       "5         davidkuta@postmark.net     davidkuta@yahoo.com\n",
       "6         tunde_dosumu@lycos.com    albert.acme@yahoo.ca\n",
       "7  william2244drallo@maktoob.com    webmaster@aclweb.org\n",
       "8       abdul_817@rediffmail.com                     R@M\n",
       "9         barrister_td@lycos.com  jenn235232@hotmail.com"
      ]
     },
     "execution_count": 19,
     "metadata": {},
     "output_type": "execute_result"
    }
   ],
   "source": [
    "# BEGIN SOLUTION\n",
    "email_senders_pattern = r'From.*?<([A-Za-z0-9._%+-]+@[A-Za-z0-9.-]+\\.[A-Za-z]{2,})>'\n",
    "email_senders = re.findall(email_senders_pattern, email_text)\n",
    "\n",
    "email_recipients_pattern = r'(?<!Reply-)To:\\s*([A-Za-z0-9._%+-]+@[A-Za-z0-9.-]+)'\n",
    "email_recipients = re.findall(email_recipients_pattern, email_text)\n",
    "\n",
    "email_addresses = pd.DataFrame({\n",
    "    'senders': email_senders, \n",
    "    'recipients': email_recipients\n",
    "})\n",
    "\n",
    "email_addresses\n",
    "# END SOLUTION"
   ]
  },
  {
   "cell_type": "raw",
   "metadata": {},
   "source": [
    "# END SOLUTION"
   ]
  },
  {
   "cell_type": "raw",
   "metadata": {},
   "source": [
    "# END QUESTION"
   ]
  },
  {
   "cell_type": "markdown",
   "metadata": {},
   "source": [
    "**Congratulations!!!** You are done the lab!!! Pat yourself on the back, and submit your lab to **GitHub** and Gradescope! Make sure you have 3 Git commits!"
   ]
  }
 ],
 "metadata": {
  "anaconda-cloud": {},
  "celltoolbar": "Create Assignment",
  "kernelspec": {
   "display_name": "Python 3 (ipykernel)",
   "language": "python",
   "name": "python3"
  },
  "language_info": {
   "codemirror_mode": {
    "name": "ipython",
    "version": 3
   },
   "file_extension": ".py",
   "mimetype": "text/x-python",
   "name": "python",
   "nbconvert_exporter": "python",
   "pygments_lexer": "ipython3",
   "version": "3.11.9"
  },
  "toc": {
   "base_numbering": 1,
   "nav_menu": {},
   "number_sections": false,
   "sideBar": true,
   "skip_h1_title": true,
   "title_cell": "Table of Contents",
   "title_sidebar": "Contents",
   "toc_cell": true,
   "toc_position": {},
   "toc_section_display": true,
   "toc_window_display": true
  },
  "vscode": {
   "interpreter": {
    "hash": "e48f8b1687318edbd5a2a918b592db3baee1b5f69ffdc30179f0c7d8337e101b"
   }
  }
 },
 "nbformat": 4,
 "nbformat_minor": 4
}
