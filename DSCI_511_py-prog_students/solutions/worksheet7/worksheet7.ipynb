{
 "cells": [
  {
   "cell_type": "raw",
   "metadata": {},
   "source": [
    "# ASSIGNMENT CONFIG\n",
    "solutions_pdf: false\n",
    "export_cell: false\n",
    "check_all_cell: false\n",
    "environment: environment.yml\n",
    "generate:\n",
    "    pdf: false\n",
    "    zips: false\n",
    "    show_hidden: false\n",
    "    show_stdout: true"
   ]
  },
  {
   "cell_type": "markdown",
   "metadata": {},
   "source": [
    "# Worksheet 7 - Functions & Testing"
   ]
  },
  {
   "cell_type": "markdown",
   "metadata": {},
   "source": [
    "These exercises complement [DSCI 511 lecture 7](../lecture7-functions-testing.ipynb)."
   ]
  },
  {
   "cell_type": "code",
   "execution_count": 1,
   "metadata": {},
   "outputs": [],
   "source": [
    "import pytest\n",
    "import math\n",
    "import unittest\n",
    "import io\n",
    "from contextlib import redirect_stdout"
   ]
  },
  {
   "cell_type": "markdown",
   "metadata": {},
   "source": [
    "## 1. Functions"
   ]
  },
  {
   "cell_type": "markdown",
   "metadata": {},
   "source": [
    "### 1.1 Website domain"
   ]
  },
  {
   "cell_type": "markdown",
   "metadata": {},
   "source": [
    "Create a function `website()` that grabs the website domain from a url string. For example, if your function is passed `\"www.google.com\"`, it should return `\"google\"`.\n",
    "\n",
    "Hint: You can use the `split()` built-in function to parse a url"
   ]
  },
  {
   "cell_type": "raw",
   "metadata": {},
   "source": [
    "# BEGIN QUESTION\n",
    "name: q1.1\n",
    "points: 1"
   ]
  },
  {
   "cell_type": "raw",
   "metadata": {},
   "source": [
    "# BEGIN SOLUTION"
   ]
  },
  {
   "cell_type": "code",
   "execution_count": 2,
   "metadata": {},
   "outputs": [],
   "source": [
    "def website(url):\n",
    "    # BEGIN SOLUTION\n",
    "    return url.split(\".\")[1] \n",
    "    # END SOLUTION"
   ]
  },
  {
   "cell_type": "code",
   "execution_count": 3,
   "metadata": {},
   "outputs": [
    {
     "data": {
      "text/plain": [
       "'apple'"
      ]
     },
     "execution_count": 3,
     "metadata": {},
     "output_type": "execute_result"
    }
   ],
   "source": [
    "# TEST CASE\n",
    "website('www.apple.com') # EXPECT OUTPUT: 'apple'"
   ]
  },
  {
   "cell_type": "raw",
   "metadata": {},
   "source": [
    "# END SOLUTION"
   ]
  },
  {
   "cell_type": "raw",
   "metadata": {},
   "source": [
    "# BEGIN TESTS"
   ]
  },
  {
   "cell_type": "code",
   "execution_count": 4,
   "metadata": {},
   "outputs": [],
   "source": [
    "assert website('www.bbc.com') == 'bbc'\n",
    "assert website('www.amazon.ca') == 'amazon'\n",
    "assert website('www.yahoo.co.jp') == 'yahoo'"
   ]
  },
  {
   "cell_type": "raw",
   "metadata": {},
   "source": [
    "# END TESTS"
   ]
  },
  {
   "cell_type": "raw",
   "metadata": {},
   "source": [
    "# END QUESTION"
   ]
  },
  {
   "cell_type": "markdown",
   "metadata": {},
   "source": [
    "### 1.2 Divisible?"
   ]
  },
  {
   "cell_type": "markdown",
   "metadata": {},
   "source": [
    "Create a function `divisible(a, b)` that accepts two integers (`a` and `b`) and returns `True` if `a` is divisble by `b` without a remainder. For example, `divisible(10, 3)` should return `False`, while `divisible(6, 3)` should return `True`."
   ]
  },
  {
   "cell_type": "raw",
   "metadata": {},
   "source": [
    "# BEGIN QUESTION\n",
    "name: q1.2\n",
    "points: 1"
   ]
  },
  {
   "cell_type": "raw",
   "metadata": {},
   "source": [
    "# BEGIN SOLUTION"
   ]
  },
  {
   "cell_type": "code",
   "execution_count": 5,
   "metadata": {},
   "outputs": [
    {
     "name": "stdout",
     "output_type": "stream",
     "text": [
      "False\n",
      "True\n"
     ]
    }
   ],
   "source": [
    "def divisible(a, b):\n",
    "    # BEGIN SOLUTION\n",
    "    return True if a % b == 0 else False \n",
    "    # END SOLUTION\n",
    "\n",
    "print(divisible(10, 3)) # output should be FALSE\n",
    "print(divisible(6, 3)) # output should be TRUE"
   ]
  },
  {
   "cell_type": "raw",
   "metadata": {},
   "source": [
    "# END SOLUTION"
   ]
  },
  {
   "cell_type": "raw",
   "metadata": {},
   "source": [
    "# BEGIN TESTS"
   ]
  },
  {
   "cell_type": "code",
   "execution_count": 6,
   "metadata": {},
   "outputs": [],
   "source": [
    "assert divisible(9, 3)\n",
    "assert not divisible(16, 3)"
   ]
  },
  {
   "cell_type": "raw",
   "metadata": {},
   "source": [
    "# END TESTS"
   ]
  },
  {
   "cell_type": "raw",
   "metadata": {},
   "source": [
    "# END QUESTION"
   ]
  },
  {
   "cell_type": "markdown",
   "metadata": {},
   "source": [
    "### 1.3 Generators"
   ]
  },
  {
   "cell_type": "markdown",
   "metadata": {},
   "source": [
    "This question is a little harder. Create a generator function called `listgen(n)` that yields numbers from 0 to n, in batches of lists of maximum 10 numbers at a time. For example, your function should behave as follows:\n",
    "\n",
    "```python\n",
    "for batch in listgen(25):\n",
    "    print(batch)\n",
    "    \n",
    "[0, 1, 2, 3, 4, 5, 6, 7, 8, 9]\n",
    "[10, 11, 12, 13, 14, 15, 16, 17, 18, 19]\n",
    "[20, 21, 22, 23, 24]\n",
    "```"
   ]
  },
  {
   "cell_type": "raw",
   "metadata": {},
   "source": [
    "# BEGIN QUESTION\n",
    "name: q1.3\n",
    "points: 1"
   ]
  },
  {
   "cell_type": "raw",
   "metadata": {},
   "source": [
    "# BEGIN SOLUTION"
   ]
  },
  {
   "cell_type": "code",
   "execution_count": 7,
   "metadata": {},
   "outputs": [
    {
     "name": "stdout",
     "output_type": "stream",
     "text": [
      "[0, 1, 2, 3, 4, 5, 6, 7, 8, 9]\n",
      "[10, 11, 12, 13, 14, 15, 16, 17, 18, 19]\n",
      "[20, 21, 22, 23, 24]\n"
     ]
    }
   ],
   "source": [
    "def listgen(n):\n",
    "    # BEGIN SOLUTION\n",
    "    counter = 0\n",
    "    numbers = list(range(n))\n",
    "    while counter <= n // 10:\n",
    "        yield numbers[10 * counter:10*(counter+1)]\n",
    "        counter += 1\n",
    "    # END SOLUTION\n",
    "\n",
    "for batch in listgen(25):\n",
    "    print(batch)"
   ]
  },
  {
   "cell_type": "raw",
   "metadata": {},
   "source": [
    "# END SOLUTION"
   ]
  },
  {
   "cell_type": "raw",
   "metadata": {},
   "source": [
    "# BEGIN TESTS"
   ]
  },
  {
   "cell_type": "code",
   "execution_count": 8,
   "metadata": {},
   "outputs": [],
   "source": [
    "gen = listgen(25)\n",
    "assert next(gen) == [0, 1, 2, 3, 4, 5, 6, 7, 8, 9]\n",
    "assert next(gen) == [10, 11, 12, 13, 14, 15, 16, 17, 18, 19]\n",
    "assert next(gen) == [20, 21, 22, 23, 24]"
   ]
  },
  {
   "cell_type": "raw",
   "metadata": {},
   "source": [
    "# END TESTS"
   ]
  },
  {
   "cell_type": "raw",
   "metadata": {},
   "source": [
    "# END QUESTION"
   ]
  },
  {
   "cell_type": "markdown",
   "metadata": {},
   "source": [
    "### 1.4 *args and **kwargs"
   ]
  },
  {
   "cell_type": "markdown",
   "metadata": {},
   "source": [
    "Create a function `lucky_sum()` that takes all the integers a user enters and returns their sum. *However*, if one of the values is 13 then it does not count towards the sum, nor do any values to its right.\n",
    "\n",
    "For example, your function should behave as follows:\n",
    "\n",
    "```python\n",
    "lucky_sum(1, 2, 3, 4)\n",
    "10\n",
    "\n",
    "lucky_sum(1, 13, 3, 4)\n",
    "1\n",
    "\n",
    "lucky_sum(13)\n",
    "0\n",
    "```\n",
    "\n",
    "*This example is inspired by the related [codingbat challenge](https://codingbat.com/prob/p130788).*"
   ]
  },
  {
   "cell_type": "raw",
   "metadata": {},
   "source": [
    "# BEGIN QUESTION\n",
    "name: q1.4\n",
    "points: 1"
   ]
  },
  {
   "cell_type": "raw",
   "metadata": {},
   "source": [
    "# BEGIN SOLUTION"
   ]
  },
  {
   "cell_type": "code",
   "execution_count": 9,
   "metadata": {},
   "outputs": [],
   "source": [
    "def lucky_sum(*args):\n",
    "    # BEGIN SOLUTION\n",
    "    if 13 in args:\n",
    "        return sum(args[:args.index(13)])\n",
    "    return sum(args)\n",
    "    # END SOLUTION"
   ]
  },
  {
   "cell_type": "raw",
   "metadata": {},
   "source": [
    "# END SOLUTION"
   ]
  },
  {
   "cell_type": "raw",
   "metadata": {},
   "source": [
    "# BEGIN TESTS"
   ]
  },
  {
   "cell_type": "code",
   "execution_count": 10,
   "metadata": {},
   "outputs": [],
   "source": [
    "assert lucky_sum(1, 2, 3) == 6\n",
    "assert lucky_sum(1, 2, 13) == 3\n",
    "assert lucky_sum(1, 2, 13, 4, 5) == 3\n",
    "assert lucky_sum(13, 2, 3, 4) == 0"
   ]
  },
  {
   "cell_type": "raw",
   "metadata": {},
   "source": [
    "# END TESTS"
   ]
  },
  {
   "cell_type": "raw",
   "metadata": {},
   "source": [
    "# END QUESTION"
   ]
  },
  {
   "cell_type": "markdown",
   "metadata": {},
   "source": [
    "### 2.1 Unit tests\n",
    "\n",
    "rubric = {autograde: 1}"
   ]
  },
  {
   "cell_type": "markdown",
   "metadata": {},
   "source": [
    "The function `area()` accepts the argument `radius` and calculates the area of a circle. In the function `unit_test_area()` below, write three tests using `assert` statements for the following conditions:\n",
    "\n",
    "1. Check if the function `area()` returns the correct data type\n",
    "2. Check if the function `area()` returns the correct calculation up to 2 decimals with a input value of your choice\n",
    "3. Check if the function `area()` returns the correct calculation up to 2 decimals with a different input value\n",
    "\n",
    "(hint: `math.isclose(..., abs_tol=0.01)`)"
   ]
  },
  {
   "cell_type": "raw",
   "metadata": {},
   "source": [
    "# BEGIN QUESTION\n",
    "name: q2.1\n",
    "points: 1"
   ]
  },
  {
   "cell_type": "raw",
   "metadata": {},
   "source": [
    "# BEGIN SOLUTION"
   ]
  },
  {
   "cell_type": "code",
   "execution_count": 11,
   "metadata": {},
   "outputs": [],
   "source": [
    "def area(radius):\n",
    "    \"\"\"Calculate the area of a circle based on the given radius.\"\"\"\n",
    "    return math.pi * radius ** 2\n",
    "    \n",
    "def unit_test_area():\n",
    "    # BEGIN SOLUTION\n",
    "    assert isinstance(area(1), float), 'Test 1 failed!'\n",
    "    assert area(0) == 0, 'Test 2 failed!'\n",
    "    assert math.isclose(area(5), 78.5, abs_tol=0.01), 'Calculated area was incorrect'\n",
    "    # END SOLUTION\n"
   ]
  },
  {
   "cell_type": "raw",
   "metadata": {},
   "source": [
    "# END SOLUTION"
   ]
  },
  {
   "cell_type": "raw",
   "metadata": {},
   "source": [
    "# BEGIN TESTS"
   ]
  },
  {
   "cell_type": "code",
   "execution_count": 12,
   "metadata": {},
   "outputs": [],
   "source": [
    "def area(radius):\n",
    "    return radius**5/2 # purposely wrong output\n",
    "\n",
    "def test_value_error():\n",
    "    with pytest.raises(Exception):\n",
    "        unit_test_area()\n",
    "\n",
    "test_value_error()"
   ]
  },
  {
   "cell_type": "code",
   "execution_count": 13,
   "metadata": {},
   "outputs": [],
   "source": [
    "def area(radius):\n",
    "    return 'string' # purposely wrong output\n",
    "\n",
    "def test_value_error():\n",
    "    with pytest.raises(Exception):\n",
    "        unit_test_area()\n",
    "\n",
    "test_value_error()"
   ]
  },
  {
   "cell_type": "raw",
   "metadata": {},
   "source": [
    "# END TESTS"
   ]
  },
  {
   "cell_type": "raw",
   "metadata": {},
   "source": [
    "# END QUESTION"
   ]
  },
  {
   "cell_type": "markdown",
   "metadata": {},
   "source": [
    "### 2.2 EAFP unit test\n",
    "\n",
    "rubric = {autograde: 1}"
   ]
  },
  {
   "cell_type": "markdown",
   "metadata": {},
   "source": [
    "In the spirit of the EAFP (easier to ask for forgiveness than permission) philosophy. Modify the code of the function `area()` and add a `try`/`except` statement to catch the `TypeError` if users pass a non-numeric input to `area()`. Print out a custom message \"radius should be a number but you entered a X\" where X is the data type of the input object. For example:\n",
    "\n",
    "```python\n",
    "area('10')  # EXPECTED OUTPUT: radius should be a number but you entered a <class 'str'>\n",
    "```\n",
    "\n",
    "Note: You should print out an error message instead of raising an error"
   ]
  },
  {
   "cell_type": "raw",
   "metadata": {},
   "source": [
    "# BEGIN QUESTION\n",
    "name: q2.2\n",
    "points: 1"
   ]
  },
  {
   "cell_type": "raw",
   "metadata": {},
   "source": [
    "# BEGIN SOLUTION"
   ]
  },
  {
   "cell_type": "code",
   "execution_count": 14,
   "metadata": {},
   "outputs": [],
   "source": [
    "def area(radius):\n",
    "    # BEGIN SOLUTION\n",
    "    \"\"\"Calculate the area of a circle based on the given radius.\"\"\"\n",
    "    try:\n",
    "        return math.pi * radius ** 2\n",
    "    except TypeError:\n",
    "        print(f\"radius should be a number but you entered a {type(radius)}\")\n",
    "    except:\n",
    "        print(\"Some other error occurred!\")\n",
    "    # END SOLUTION\n"
   ]
  },
  {
   "cell_type": "raw",
   "metadata": {},
   "source": [
    "# END SOLUTION"
   ]
  },
  {
   "cell_type": "raw",
   "metadata": {},
   "source": [
    "# BEGIN TESTS"
   ]
  },
  {
   "cell_type": "code",
   "execution_count": 15,
   "metadata": {},
   "outputs": [],
   "source": [
    "f = io.StringIO()\n",
    "with redirect_stdout(f):\n",
    "    area([10])\n",
    "result = f.getvalue()\n",
    "assert \"radius should be a number but you entered a <class 'list'\" in result"
   ]
  },
  {
   "cell_type": "raw",
   "metadata": {},
   "source": [
    "# END TESTS"
   ]
  },
  {
   "cell_type": "raw",
   "metadata": {},
   "source": [
    "# END QUESTION"
   ]
  },
  {
   "cell_type": "markdown",
   "metadata": {},
   "source": [
    "### 2.3 LBYL unit test\n",
    "\n",
    "rubric = {autograde: 1}"
   ]
  },
  {
   "cell_type": "markdown",
   "metadata": {},
   "source": [
    "In the spirit of the LBYL (look before you leap) philosophy. Modify the code of the function `area()` and add a conditional `if`/`else` statement to make sure that a user has passed a number (`int` or `float`) to the `area()` function. If they pass something else, raise a `TypeError` with a message of your choice. For example:\n",
    "\n",
    "```python\n",
    "area('10') # EXPECTED OUTPUT: TypeError: Your input is not a number!\n",
    "```\n",
    "\n",
    "Note: You should raise an error instead of printing out an error message."
   ]
  },
  {
   "cell_type": "markdown",
   "metadata": {},
   "source": [
    "**Hint:** Use the built-in Python function `isinstance(obj, (class1, class2, ...)` to inspect input object types."
   ]
  },
  {
   "cell_type": "raw",
   "metadata": {},
   "source": [
    "# BEGIN QUESTION\n",
    "name: q2.3\n",
    "points: 1"
   ]
  },
  {
   "cell_type": "raw",
   "metadata": {},
   "source": [
    "# BEGIN SOLUTION"
   ]
  },
  {
   "cell_type": "code",
   "execution_count": 16,
   "metadata": {},
   "outputs": [],
   "source": [
    "def area(radius):\n",
    "    # BEGIN SOLUTION\n",
    "    \"\"\"Calculate the area of a circle based on the given radius.\"\"\"\n",
    "    if isinstance(radius, (int, float)):\n",
    "        return math.pi * radius ** 2\n",
    "    else:\n",
    "        raise TypeError(\"Your input is not a number!\")\n",
    "    # END SOLUTION"
   ]
  },
  {
   "cell_type": "raw",
   "metadata": {},
   "source": [
    "# END SOLUTION"
   ]
  },
  {
   "cell_type": "raw",
   "metadata": {},
   "source": [
    "# BEGIN TESTS"
   ]
  },
  {
   "cell_type": "code",
   "execution_count": 17,
   "metadata": {},
   "outputs": [],
   "source": [
    "# check if your unit test raises an error\n",
    "def test_type_error():\n",
    "    with pytest.raises(TypeError):\n",
    "        area('10')\n",
    "\n",
    "test_type_error()"
   ]
  },
  {
   "cell_type": "raw",
   "metadata": {},
   "source": [
    "# END TESTS"
   ]
  },
  {
   "cell_type": "raw",
   "metadata": {},
   "source": [
    "# END QUESTION"
   ]
  }
 ],
 "metadata": {
  "kernelspec": {
   "display_name": "Python 3 (ipykernel)",
   "language": "python",
   "name": "python3"
  },
  "language_info": {
   "codemirror_mode": {
    "name": "ipython",
    "version": 3
   },
   "file_extension": ".py",
   "mimetype": "text/x-python",
   "name": "python",
   "nbconvert_exporter": "python",
   "pygments_lexer": "ipython3",
   "version": "3.11.9"
  }
 },
 "nbformat": 4,
 "nbformat_minor": 4
}
