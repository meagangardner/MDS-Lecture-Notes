{
 "cells": [
  {
   "cell_type": "raw",
   "id": "4afbe842-b4d6-4046-83c3-69bcc63a7357",
   "metadata": {
    "vscode": {
     "languageId": "raw"
    }
   },
   "source": [
    "# ASSIGNMENT CONFIG\n",
    "solutions_pdf: false\n",
    "export_cell: false\n",
    "check_all_cell: false\n",
    "environment: environment.yml\n",
    "overwrite_requirements: true\n",
    "generate:\n",
    "    pdf: false\n",
    "    zips: false\n",
    "    show_hidden: false\n",
    "    show_stdout: true\n",
    "files:\n",
    "    - img/dsci511_header.png\n",
    "    - data/abbotsford_lang.xlsx\n",
    "    - data/departure_bay_temperature.csv \n",
    "    - data/region_data.csv\n",
    "    - data/beach_data.xlsx                \n",
    "    - data/kelowna_lang.csv\n",
    "    - data/region_lang.csv\n",
    "    - data/calgary_lang.csv\n",
    "    - data/language_diversity.csv\n",
    "    - data/vancouver_lang.csv\n"
   ]
  },
  {
   "cell_type": "markdown",
   "id": "047dfe03",
   "metadata": {},
   "source": [
    "<img src=\"img/dsci511_header.png\" width=\"600\">"
   ]
  },
  {
   "cell_type": "markdown",
   "id": "47b22e49-06e0-4759-9ef1-f7defbdc09fe",
   "metadata": {},
   "source": [
    "# Lab 1: Reading in and wrangling data"
   ]
  },
  {
   "cell_type": "markdown",
   "id": "e0c4dc29",
   "metadata": {},
   "source": [
    "## Instructions\n",
    "rubric={mechanics:5}"
   ]
  },
  {
   "cell_type": "markdown",
   "id": "c526578f",
   "metadata": {},
   "source": [
    "Check off that you have read and followed each of these instructions:\n",
    "\n",
    "- [ ] All files necessary to run your work must be pushed to your GitHub.ubc.ca repository for this lab.\n",
    "- [ ] You need to have a minimum of 3 commit messages associated with your GitHub.ubc.ca repository for this lab.\n",
    "- [ ] You must also submit `.ipynb` file and the rendered PDF in this worksheet/lab to Gradescope. Entire notebook must be executed so the TA's can see the results of your work. \n",
    "- [ ] **There is autograding in this lab, so please do not move or rename this file. Also, do not copy and paste cells, if you need to add new cells, create new cells via the \"Insert a cell below\" button instead.**\n",
    "- [ ] To ensure you do not break the autograder remove all code for installing packages (i.e., DO NOT have `! conda install ...` or `! pip install ...` in your homework!\n",
    "- [ ] Follow the [MDS general lab instructions](https://ubc-mds.github.io/resources_pages/general_lab_instructions/).\n",
    "- [ ] <mark>This lab has hidden tests. In this lab, the visible tests are just there to ensure you create an object with the correct name. The remaining tests are hidden intentionally. This is so you get practice deciding when you have written the correct code and created the correct data object. This is a necessary skill for data scientists, and if we were to provide robust visible tests for all questions you would not develop this skill, or at least not to its full potential.</mark>\n"
   ]
  },
  {
   "cell_type": "markdown",
   "id": "4961ca34",
   "metadata": {},
   "source": [
    "## Code Quality\n",
    "rubric={quality:5}\n",
    "\n",
    "The code that you write for this assignment will be given one overall grade for code quality, see our code quality rubric as a guide to what we are looking for. Also, for this course (and other MDS courses that use R), we are trying to follow the PEP 8 code style. There is a guide you can refer too: https://peps.python.org/pep-0008/\n",
    "\n",
    "Each code question will also be assessed for code accuracy (i.e., does it do what it is supposed to do?).\n",
    "\n",
    "## Writing \n",
    "rubric={writing:5}\n",
    "\n",
    "To get the marks for this writing component, you should:\n",
    "\n",
    "- Use proper English, spelling, and grammar throughout your submission (the non-coding parts).\n",
    "- Be succinct. This means being specific about what you want to communicate, without being superfluous.\n"
   ]
  },
  {
   "cell_type": "markdown",
   "id": "588cf7f9",
   "metadata": {},
   "source": [
    "## Let's get started!\n",
    "\n",
    "Run the cell below to load the packages needed for this lab."
   ]
  },
  {
   "cell_type": "code",
   "execution_count": 2,
   "id": "1fa0bd9e",
   "metadata": {},
   "outputs": [],
   "source": [
    "import pandas as pd\n",
    "import numpy as np\n",
    "import altair as alt\n",
    "pd.set_option('display.max_rows', 6)"
   ]
  },
  {
   "cell_type": "markdown",
   "id": "6e31f77e-3c3f-47b8-9cf5-4b5b0a04aba5",
   "metadata": {},
   "source": [
    "## Exercise 1: Reading in Data\n",
    "\n",
    "Read the data files listed in the table below, and store them as pandas data frames with the names provided in the table. We will use hidden tests to grade this, so you will get to practice deciding that your job is done, and done correctly.\n",
    "\n",
    "**Note - if the column names are missing from any data sets you need to add them yourself programmatically via python**\n",
    "\n",
    "| File  | Name for Data Frame | File location |\n",
    "|---|---|----|\n",
    "| `abbotsford_lang.xlsx`  | `abbotsford` | `data` directory of this repo |\n",
    "| `calgary_lang.csv`  | `calgary`  | `data` directory of this repo |\n",
    "| `edmonton_lang.xlsx`  | `edmonton`  | https://github.com/ttimbers/canlang/blob/master/inst/extdata/edmonton_lang.xlsx?raw=true |\n",
    "|  `kelowna_lang.csv` | `kelowna`  | `data` directory of this repo |\n",
    "| `vancouver_lang.csv`  | `vancouver`  | `data` directory of this repo |\n",
    "| `victoria_lang.csv`  | `victoria`  | https://github.com/ttimbers/canlang/raw/master/inst/extdata/victoria_lang.tsv |\n"
   ]
  },
  {
   "cell_type": "markdown",
   "id": "0a306afb",
   "metadata": {},
   "source": [
    "### The Data\n",
    "\n",
    "The data you will be working with in this first exercise is language data from the 2016 Canadian Census for cities in Western Canada. If you are unfamiliar with Western Canadian geography, here’s a map to help you start to get more familiar:\n",
    "\n",
    "<img src=\"https://www.canadatours.com/images/maps/Canada_W.gif\" width=500>\n",
    "\n",
    "Image source: https://www.canadatours.com/canada_maps.cfm?#W "
   ]
  },
  {
   "cell_type": "raw",
   "id": "2941df77",
   "metadata": {
    "vscode": {
     "languageId": "raw"
    }
   },
   "source": [
    "# BEGIN QUESTION\n",
    "name: ex1_1\n",
    "points: 5"
   ]
  },
  {
   "cell_type": "markdown",
   "id": "5bbb4dc8",
   "metadata": {},
   "source": [
    "### Exercise 1.1: Read in the Abbotsford language Data\n",
    "rubric={autograde:5}"
   ]
  },
  {
   "cell_type": "raw",
   "id": "dcc798b0",
   "metadata": {
    "vscode": {
     "languageId": "raw"
    }
   },
   "source": [
    "# BEGIN SOLUTION"
   ]
  },
  {
   "cell_type": "code",
   "execution_count": 2,
   "id": "32c06c07-02c7-430e-a047-226696ca442e",
   "metadata": {},
   "outputs": [
    {
     "data": {
      "text/html": [
       "<div>\n",
       "<style scoped>\n",
       "    .dataframe tbody tr th:only-of-type {\n",
       "        vertical-align: middle;\n",
       "    }\n",
       "\n",
       "    .dataframe tbody tr th {\n",
       "        vertical-align: top;\n",
       "    }\n",
       "\n",
       "    .dataframe thead th {\n",
       "        text-align: right;\n",
       "    }\n",
       "</style>\n",
       "<table border=\"1\" class=\"dataframe\">\n",
       "  <thead>\n",
       "    <tr style=\"text-align: right;\">\n",
       "      <th></th>\n",
       "      <th>category</th>\n",
       "      <th>language</th>\n",
       "      <th>mother_tongue</th>\n",
       "      <th>most_at_home</th>\n",
       "      <th>most_at_work</th>\n",
       "      <th>lang_known</th>\n",
       "    </tr>\n",
       "  </thead>\n",
       "  <tbody>\n",
       "    <tr>\n",
       "      <th>0</th>\n",
       "      <td>Aboriginal languages</td>\n",
       "      <td>Aboriginal languages, n.o.s.</td>\n",
       "      <td>5</td>\n",
       "      <td>5</td>\n",
       "      <td>0</td>\n",
       "      <td>0</td>\n",
       "    </tr>\n",
       "    <tr>\n",
       "      <th>1</th>\n",
       "      <td>Non-Official &amp; Non-Aboriginal languages</td>\n",
       "      <td>Afrikaans</td>\n",
       "      <td>135</td>\n",
       "      <td>75</td>\n",
       "      <td>0</td>\n",
       "      <td>285</td>\n",
       "    </tr>\n",
       "    <tr>\n",
       "      <th>2</th>\n",
       "      <td>Non-Official &amp; Non-Aboriginal languages</td>\n",
       "      <td>Afro-Asiatic languages, n.i.e.</td>\n",
       "      <td>0</td>\n",
       "      <td>0</td>\n",
       "      <td>0</td>\n",
       "      <td>10</td>\n",
       "    </tr>\n",
       "    <tr>\n",
       "      <th>...</th>\n",
       "      <td>...</td>\n",
       "      <td>...</td>\n",
       "      <td>...</td>\n",
       "      <td>...</td>\n",
       "      <td>...</td>\n",
       "      <td>...</td>\n",
       "    </tr>\n",
       "    <tr>\n",
       "      <th>211</th>\n",
       "      <td>Non-Official &amp; Non-Aboriginal languages</td>\n",
       "      <td>Wu (Shanghainese)</td>\n",
       "      <td>15</td>\n",
       "      <td>5</td>\n",
       "      <td>0</td>\n",
       "      <td>10</td>\n",
       "    </tr>\n",
       "    <tr>\n",
       "      <th>212</th>\n",
       "      <td>Non-Official &amp; Non-Aboriginal languages</td>\n",
       "      <td>Yiddish</td>\n",
       "      <td>5</td>\n",
       "      <td>0</td>\n",
       "      <td>0</td>\n",
       "      <td>0</td>\n",
       "    </tr>\n",
       "    <tr>\n",
       "      <th>213</th>\n",
       "      <td>Non-Official &amp; Non-Aboriginal languages</td>\n",
       "      <td>Yoruba</td>\n",
       "      <td>20</td>\n",
       "      <td>0</td>\n",
       "      <td>0</td>\n",
       "      <td>50</td>\n",
       "    </tr>\n",
       "  </tbody>\n",
       "</table>\n",
       "<p>214 rows × 6 columns</p>\n",
       "</div>"
      ],
      "text/plain": [
       "                                    category                        language  \\\n",
       "0                       Aboriginal languages    Aboriginal languages, n.o.s.   \n",
       "1    Non-Official & Non-Aboriginal languages                       Afrikaans   \n",
       "2    Non-Official & Non-Aboriginal languages  Afro-Asiatic languages, n.i.e.   \n",
       "..                                       ...                             ...   \n",
       "211  Non-Official & Non-Aboriginal languages               Wu (Shanghainese)   \n",
       "212  Non-Official & Non-Aboriginal languages                         Yiddish   \n",
       "213  Non-Official & Non-Aboriginal languages                          Yoruba   \n",
       "\n",
       "     mother_tongue  most_at_home  most_at_work  lang_known  \n",
       "0                5             5             0           0  \n",
       "1              135            75             0         285  \n",
       "2                0             0             0          10  \n",
       "..             ...           ...           ...         ...  \n",
       "211             15             5             0          10  \n",
       "212              5             0             0           0  \n",
       "213             20             0             0          50  \n",
       "\n",
       "[214 rows x 6 columns]"
      ]
     },
     "execution_count": 2,
     "metadata": {},
     "output_type": "execute_result"
    }
   ],
   "source": [
    "abbotsford = pd.read_excel(\"data/abbotsford_lang.xlsx\", sheet_name = \"data\") # SOLUTION\n",
    "abbotsford"
   ]
  },
  {
   "cell_type": "raw",
   "id": "afe1cd3e",
   "metadata": {
    "vscode": {
     "languageId": "raw"
    }
   },
   "source": [
    "# END SOLUTION"
   ]
  },
  {
   "cell_type": "raw",
   "id": "ea5ea49e",
   "metadata": {
    "vscode": {
     "languageId": "raw"
    }
   },
   "source": [
    "# BEGIN TESTS"
   ]
  },
  {
   "cell_type": "code",
   "execution_count": 3,
   "id": "6c5feaf3",
   "metadata": {},
   "outputs": [],
   "source": [
    "# TEST\n",
    "\n",
    "# Checking if Data Frame is defined\n",
    "assert abbotsford is not None, \"The Data Frame abbotsford has not been defined\"\n",
    "\n",
    "# Check if abbotsford is a DataFrame\n",
    "assert isinstance(abbotsford, pd.core.frame.DataFrame), \"abbotsford is not a pandas Data Frame\"\n"
   ]
  },
  {
   "cell_type": "code",
   "execution_count": 4,
   "id": "f5deb476",
   "metadata": {},
   "outputs": [],
   "source": [
    "# HIDDEN TEST\n",
    "\n",
    "nrows = 214\n",
    "ncols = 6\n",
    "assert abbotsford.shape == (nrows,ncols), \"Data Frame has incorrect shape\"\n",
    "\n",
    "msum = 173570\n",
    "assert sum(abbotsford['mother_tongue']) == msum\n",
    "\n",
    "# Checking column names\n",
    "expected_columns = ['category', 'language', 'mother_tongue', 'most_at_home', 'most_at_work', 'lang_known']\n",
    "assert list(abbotsford.columns) == expected_columns, f\"Column names are incorrect. Expected: {expected_columns}, but got: {list(abbotsford.columns)}.\"\n",
    "\n",
    "# Check dtype for 'lang_known'\n",
    "assert abbotsford['lang_known'].dtype == np.dtype('int64'), f\"lang_known column is not int64\"\n"
   ]
  },
  {
   "cell_type": "raw",
   "id": "89f9814d",
   "metadata": {
    "vscode": {
     "languageId": "raw"
    }
   },
   "source": [
    "# END TESTS"
   ]
  },
  {
   "cell_type": "raw",
   "id": "2faaa35d",
   "metadata": {
    "vscode": {
     "languageId": "raw"
    }
   },
   "source": [
    "# END QUESTION"
   ]
  },
  {
   "cell_type": "raw",
   "id": "7959e4d6",
   "metadata": {
    "vscode": {
     "languageId": "raw"
    }
   },
   "source": [
    "# BEGIN QUESTION\n",
    "name: ex1_2\n",
    "points: 5"
   ]
  },
  {
   "cell_type": "markdown",
   "id": "e89a8abd",
   "metadata": {},
   "source": [
    "### Exercise 1.2: Read in the Calgary language Data\n",
    "rubric={autograde:5}"
   ]
  },
  {
   "cell_type": "raw",
   "id": "cc2bc1be",
   "metadata": {
    "vscode": {
     "languageId": "raw"
    }
   },
   "source": [
    "# BEGIN SOLUTION"
   ]
  },
  {
   "cell_type": "code",
   "execution_count": 2,
   "id": "358db2ef-f54c-4d8f-8927-284f7b92ddb1",
   "metadata": {},
   "outputs": [
    {
     "data": {
      "text/html": [
       "<div>\n",
       "<style scoped>\n",
       "    .dataframe tbody tr th:only-of-type {\n",
       "        vertical-align: middle;\n",
       "    }\n",
       "\n",
       "    .dataframe tbody tr th {\n",
       "        vertical-align: top;\n",
       "    }\n",
       "\n",
       "    .dataframe thead th {\n",
       "        text-align: right;\n",
       "    }\n",
       "</style>\n",
       "<table border=\"1\" class=\"dataframe\">\n",
       "  <thead>\n",
       "    <tr style=\"text-align: right;\">\n",
       "      <th></th>\n",
       "      <th>category</th>\n",
       "      <th>language</th>\n",
       "      <th>mother_tongue</th>\n",
       "      <th>most_at_home</th>\n",
       "      <th>most_at_work</th>\n",
       "      <th>lang_known</th>\n",
       "    </tr>\n",
       "  </thead>\n",
       "  <tbody>\n",
       "    <tr>\n",
       "      <th>0</th>\n",
       "      <td>Aboriginal languages</td>\n",
       "      <td>Aboriginal languages, n.o.s.</td>\n",
       "      <td>20</td>\n",
       "      <td>5</td>\n",
       "      <td>0</td>\n",
       "      <td>15</td>\n",
       "    </tr>\n",
       "    <tr>\n",
       "      <th>1</th>\n",
       "      <td>Non-Official &amp; Non-Aboriginal languages</td>\n",
       "      <td>Afrikaans</td>\n",
       "      <td>960</td>\n",
       "      <td>505</td>\n",
       "      <td>15</td>\n",
       "      <td>1955</td>\n",
       "    </tr>\n",
       "    <tr>\n",
       "      <th>2</th>\n",
       "      <td>Non-Official &amp; Non-Aboriginal languages</td>\n",
       "      <td>Afro-Asiatic languages, n.i.e.</td>\n",
       "      <td>45</td>\n",
       "      <td>15</td>\n",
       "      <td>0</td>\n",
       "      <td>170</td>\n",
       "    </tr>\n",
       "    <tr>\n",
       "      <th>...</th>\n",
       "      <td>...</td>\n",
       "      <td>...</td>\n",
       "      <td>...</td>\n",
       "      <td>...</td>\n",
       "      <td>...</td>\n",
       "      <td>...</td>\n",
       "    </tr>\n",
       "    <tr>\n",
       "      <th>211</th>\n",
       "      <td>Non-Official &amp; Non-Aboriginal languages</td>\n",
       "      <td>Wu (Shanghainese)</td>\n",
       "      <td>380</td>\n",
       "      <td>210</td>\n",
       "      <td>0</td>\n",
       "      <td>580</td>\n",
       "    </tr>\n",
       "    <tr>\n",
       "      <th>212</th>\n",
       "      <td>Non-Official &amp; Non-Aboriginal languages</td>\n",
       "      <td>Yiddish</td>\n",
       "      <td>80</td>\n",
       "      <td>10</td>\n",
       "      <td>0</td>\n",
       "      <td>175</td>\n",
       "    </tr>\n",
       "    <tr>\n",
       "      <th>213</th>\n",
       "      <td>Non-Official &amp; Non-Aboriginal languages</td>\n",
       "      <td>Yoruba</td>\n",
       "      <td>1430</td>\n",
       "      <td>350</td>\n",
       "      <td>0</td>\n",
       "      <td>3460</td>\n",
       "    </tr>\n",
       "  </tbody>\n",
       "</table>\n",
       "<p>214 rows × 6 columns</p>\n",
       "</div>"
      ],
      "text/plain": [
       "                                    category                        language  \\\n",
       "0                       Aboriginal languages    Aboriginal languages, n.o.s.   \n",
       "1    Non-Official & Non-Aboriginal languages                       Afrikaans   \n",
       "2    Non-Official & Non-Aboriginal languages  Afro-Asiatic languages, n.i.e.   \n",
       "..                                       ...                             ...   \n",
       "211  Non-Official & Non-Aboriginal languages               Wu (Shanghainese)   \n",
       "212  Non-Official & Non-Aboriginal languages                         Yiddish   \n",
       "213  Non-Official & Non-Aboriginal languages                          Yoruba   \n",
       "\n",
       "     mother_tongue  most_at_home  most_at_work  lang_known  \n",
       "0               20             5             0          15  \n",
       "1              960           505            15        1955  \n",
       "2               45            15             0         170  \n",
       "..             ...           ...           ...         ...  \n",
       "211            380           210             0         580  \n",
       "212             80            10             0         175  \n",
       "213           1430           350             0        3460  \n",
       "\n",
       "[214 rows x 6 columns]"
      ]
     },
     "execution_count": 2,
     "metadata": {},
     "output_type": "execute_result"
    }
   ],
   "source": [
    "calgary = pd.read_csv(\"data/calgary_lang.csv\") # SOLUTION\n",
    "calgary"
   ]
  },
  {
   "cell_type": "raw",
   "id": "4f8ed7ad",
   "metadata": {
    "vscode": {
     "languageId": "raw"
    }
   },
   "source": [
    "# END SOLUTION"
   ]
  },
  {
   "cell_type": "raw",
   "id": "91a1bcee",
   "metadata": {
    "vscode": {
     "languageId": "raw"
    }
   },
   "source": [
    "# BEGIN TESTS"
   ]
  },
  {
   "cell_type": "code",
   "execution_count": 3,
   "id": "a9af860d",
   "metadata": {},
   "outputs": [],
   "source": [
    "# TEST\n",
    "\n",
    "# Checking if Data Frame is defined\n",
    "assert calgary is not None, \"The Data Frame calgary has not been defined\"\n",
    "\n",
    "# Check if calgary is a DataFrame\n",
    "assert isinstance(calgary, pd.core.frame.DataFrame), \"calgary is not a pandas Data Frame\"\n"
   ]
  },
  {
   "cell_type": "code",
   "execution_count": 8,
   "id": "f38ee352",
   "metadata": {},
   "outputs": [],
   "source": [
    "# HIDDEN TEST\n",
    "\n",
    "nrows = 214\n",
    "ncols = 6\n",
    "assert calgary.shape == (nrows,ncols), \"Data Frame has incorrect shape\"\n",
    "\n",
    "msum = 1341120\n",
    "assert sum(calgary['mother_tongue']) == msum\n",
    "\n",
    "# Checking column names\n",
    "expected_columns = ['category', 'language', 'mother_tongue', 'most_at_home', 'most_at_work', 'lang_known']\n",
    "assert list(calgary.columns) == expected_columns, f\"Column names are incorrect. Expected: {expected_columns}, but got: {list(calgary.columns)}.\"\n",
    "\n",
    "# Check dtype for 'lang_known'\n",
    "assert type(calgary['lang_known'][0]) == np.int64, f\"lang_known column is not int64\""
   ]
  },
  {
   "cell_type": "raw",
   "id": "fae6d3ff",
   "metadata": {
    "vscode": {
     "languageId": "raw"
    }
   },
   "source": [
    "# END TESTS"
   ]
  },
  {
   "cell_type": "raw",
   "id": "6fa4772b",
   "metadata": {
    "vscode": {
     "languageId": "raw"
    }
   },
   "source": [
    "# END QUESTION"
   ]
  },
  {
   "cell_type": "raw",
   "id": "1d8e433b",
   "metadata": {
    "vscode": {
     "languageId": "raw"
    }
   },
   "source": [
    "# BEGIN QUESTION\n",
    "name: ex1_3\n",
    "points: 5"
   ]
  },
  {
   "cell_type": "markdown",
   "id": "ef632a76",
   "metadata": {},
   "source": [
    "### Exercise 1.3: Read in the Edmonton language Data\n",
    "rubric={autograde:5}"
   ]
  },
  {
   "cell_type": "raw",
   "id": "f107030b",
   "metadata": {
    "vscode": {
     "languageId": "raw"
    }
   },
   "source": [
    "# BEGIN SOLUTION"
   ]
  },
  {
   "cell_type": "code",
   "execution_count": 8,
   "id": "46b1c34c-3563-41aa-b1a5-3c617ee334e2",
   "metadata": {},
   "outputs": [
    {
     "data": {
      "text/html": [
       "<div>\n",
       "<style scoped>\n",
       "    .dataframe tbody tr th:only-of-type {\n",
       "        vertical-align: middle;\n",
       "    }\n",
       "\n",
       "    .dataframe tbody tr th {\n",
       "        vertical-align: top;\n",
       "    }\n",
       "\n",
       "    .dataframe thead th {\n",
       "        text-align: right;\n",
       "    }\n",
       "</style>\n",
       "<table border=\"1\" class=\"dataframe\">\n",
       "  <thead>\n",
       "    <tr style=\"text-align: right;\">\n",
       "      <th></th>\n",
       "      <th>category</th>\n",
       "      <th>language</th>\n",
       "      <th>mother_tongue</th>\n",
       "      <th>most_at_home</th>\n",
       "      <th>most_at_work</th>\n",
       "      <th>lang_known</th>\n",
       "    </tr>\n",
       "  </thead>\n",
       "  <tbody>\n",
       "    <tr>\n",
       "      <th>0</th>\n",
       "      <td>Aboriginal languages</td>\n",
       "      <td>Aboriginal languages, n.o.s.</td>\n",
       "      <td>25</td>\n",
       "      <td>10</td>\n",
       "      <td>0</td>\n",
       "      <td>0</td>\n",
       "    </tr>\n",
       "    <tr>\n",
       "      <th>1</th>\n",
       "      <td>Non-Official &amp; Non-Aboriginal languages</td>\n",
       "      <td>Afrikaans</td>\n",
       "      <td>575</td>\n",
       "      <td>300</td>\n",
       "      <td>0</td>\n",
       "      <td>1220</td>\n",
       "    </tr>\n",
       "    <tr>\n",
       "      <th>2</th>\n",
       "      <td>Non-Official &amp; Non-Aboriginal languages</td>\n",
       "      <td>Afro-Asiatic languages, n.i.e.</td>\n",
       "      <td>65</td>\n",
       "      <td>20</td>\n",
       "      <td>0</td>\n",
       "      <td>155</td>\n",
       "    </tr>\n",
       "    <tr>\n",
       "      <th>...</th>\n",
       "      <td>...</td>\n",
       "      <td>...</td>\n",
       "      <td>...</td>\n",
       "      <td>...</td>\n",
       "      <td>...</td>\n",
       "      <td>...</td>\n",
       "    </tr>\n",
       "    <tr>\n",
       "      <th>211</th>\n",
       "      <td>Non-Official &amp; Non-Aboriginal languages</td>\n",
       "      <td>Wu (Shanghainese)</td>\n",
       "      <td>235</td>\n",
       "      <td>120</td>\n",
       "      <td>0</td>\n",
       "      <td>260</td>\n",
       "    </tr>\n",
       "    <tr>\n",
       "      <th>212</th>\n",
       "      <td>Non-Official &amp; Non-Aboriginal languages</td>\n",
       "      <td>Yiddish</td>\n",
       "      <td>55</td>\n",
       "      <td>0</td>\n",
       "      <td>0</td>\n",
       "      <td>65</td>\n",
       "    </tr>\n",
       "    <tr>\n",
       "      <th>213</th>\n",
       "      <td>Non-Official &amp; Non-Aboriginal languages</td>\n",
       "      <td>Yoruba</td>\n",
       "      <td>700</td>\n",
       "      <td>280</td>\n",
       "      <td>0</td>\n",
       "      <td>1600</td>\n",
       "    </tr>\n",
       "  </tbody>\n",
       "</table>\n",
       "<p>214 rows × 6 columns</p>\n",
       "</div>"
      ],
      "text/plain": [
       "                                    category                        language  \\\n",
       "0                       Aboriginal languages    Aboriginal languages, n.o.s.   \n",
       "1    Non-Official & Non-Aboriginal languages                       Afrikaans   \n",
       "2    Non-Official & Non-Aboriginal languages  Afro-Asiatic languages, n.i.e.   \n",
       "..                                       ...                             ...   \n",
       "211  Non-Official & Non-Aboriginal languages               Wu (Shanghainese)   \n",
       "212  Non-Official & Non-Aboriginal languages                         Yiddish   \n",
       "213  Non-Official & Non-Aboriginal languages                          Yoruba   \n",
       "\n",
       "     mother_tongue  most_at_home  most_at_work  lang_known  \n",
       "0               25            10             0           0  \n",
       "1              575           300             0        1220  \n",
       "2               65            20             0         155  \n",
       "..             ...           ...           ...         ...  \n",
       "211            235           120             0         260  \n",
       "212             55             0             0          65  \n",
       "213            700           280             0        1600  \n",
       "\n",
       "[214 rows x 6 columns]"
      ]
     },
     "execution_count": 8,
     "metadata": {},
     "output_type": "execute_result"
    }
   ],
   "source": [
    "url = \"https://github.com/ttimbers/canlang/blob/master/inst/extdata/edmonton_lang.xlsx?raw=true\" # SOLUTION\n",
    "edmonton = pd.read_excel(url, sheet_name = \"data\") # SOLUTION\n",
    "edmonton"
   ]
  },
  {
   "cell_type": "raw",
   "id": "cdbe9418",
   "metadata": {
    "vscode": {
     "languageId": "raw"
    }
   },
   "source": [
    "# END SOLUTION"
   ]
  },
  {
   "cell_type": "raw",
   "id": "820d4620",
   "metadata": {
    "vscode": {
     "languageId": "raw"
    }
   },
   "source": [
    "# BEGIN TESTS"
   ]
  },
  {
   "cell_type": "code",
   "execution_count": 9,
   "id": "fba819e8",
   "metadata": {},
   "outputs": [],
   "source": [
    "# TEST\n",
    "\n",
    "# Checking if Data Frame is defined\n",
    "assert edmonton is not None, \"The Data Frame edmonton has not been defined\"\n",
    "\n",
    "# Check if edmonton is a DataFrame\n",
    "assert isinstance(edmonton, pd.core.frame.DataFrame), \"edmonton is not a Data Frame\"\n"
   ]
  },
  {
   "cell_type": "code",
   "execution_count": 10,
   "id": "cc7db97e",
   "metadata": {},
   "outputs": [],
   "source": [
    "# HIDDEN TEST\n",
    "\n",
    "nrows = 214\n",
    "ncols = 6\n",
    "assert edmonton.shape == (nrows,ncols), \"Data Frame has incorrect shape\"\n",
    "\n",
    "msum = 1273005\n",
    "assert sum(edmonton['mother_tongue']) == msum\n",
    "\n",
    "# Checking column names\n",
    "expected_columns = ['category', 'language', 'mother_tongue', 'most_at_home', 'most_at_work', 'lang_known']\n",
    "assert list(edmonton.columns) == expected_columns, f\"Column names are incorrect. Expected: {expected_columns}, but got: {list(edmonton.columns)}.\"\n",
    "\n",
    "# Check dtype for 'lang_known'\n",
    "assert edmonton['lang_known'].dtype == np.dtype('int64'), f\"lang_known column is not int64\"\n"
   ]
  },
  {
   "cell_type": "raw",
   "id": "d3775476",
   "metadata": {
    "vscode": {
     "languageId": "raw"
    }
   },
   "source": [
    "# END TESTS"
   ]
  },
  {
   "cell_type": "raw",
   "id": "21ba3767",
   "metadata": {
    "vscode": {
     "languageId": "raw"
    }
   },
   "source": [
    "# END QUESTION"
   ]
  },
  {
   "cell_type": "raw",
   "id": "a713e70a",
   "metadata": {
    "vscode": {
     "languageId": "raw"
    }
   },
   "source": [
    "# BEGIN QUESTION\n",
    "name: ex1_4\n",
    "points: 5"
   ]
  },
  {
   "cell_type": "markdown",
   "id": "2ddebfdc",
   "metadata": {},
   "source": [
    "### Exercise 1.4: Read in the Kelowna language Data\n",
    "rubric={autograde:5}"
   ]
  },
  {
   "cell_type": "raw",
   "id": "6572bd28",
   "metadata": {
    "vscode": {
     "languageId": "raw"
    }
   },
   "source": [
    "# BEGIN SOLUTION"
   ]
  },
  {
   "cell_type": "code",
   "execution_count": 11,
   "id": "14877aac-c837-4cfb-a231-3ebe8adcaea8",
   "metadata": {},
   "outputs": [
    {
     "data": {
      "text/html": [
       "<div>\n",
       "<style scoped>\n",
       "    .dataframe tbody tr th:only-of-type {\n",
       "        vertical-align: middle;\n",
       "    }\n",
       "\n",
       "    .dataframe tbody tr th {\n",
       "        vertical-align: top;\n",
       "    }\n",
       "\n",
       "    .dataframe thead th {\n",
       "        text-align: right;\n",
       "    }\n",
       "</style>\n",
       "<table border=\"1\" class=\"dataframe\">\n",
       "  <thead>\n",
       "    <tr style=\"text-align: right;\">\n",
       "      <th></th>\n",
       "      <th>category</th>\n",
       "      <th>language</th>\n",
       "      <th>mother_tongue</th>\n",
       "      <th>most_at_home</th>\n",
       "      <th>most_at_work</th>\n",
       "      <th>lang_known</th>\n",
       "    </tr>\n",
       "  </thead>\n",
       "  <tbody>\n",
       "    <tr>\n",
       "      <th>0</th>\n",
       "      <td>Aboriginal languages</td>\n",
       "      <td>Aboriginal languages, n.o.s.</td>\n",
       "      <td>0</td>\n",
       "      <td>0</td>\n",
       "      <td>0</td>\n",
       "      <td>10</td>\n",
       "    </tr>\n",
       "    <tr>\n",
       "      <th>1</th>\n",
       "      <td>Non-Official &amp; Non-Aboriginal languages</td>\n",
       "      <td>Afrikaans</td>\n",
       "      <td>175</td>\n",
       "      <td>75</td>\n",
       "      <td>0</td>\n",
       "      <td>280</td>\n",
       "    </tr>\n",
       "    <tr>\n",
       "      <th>2</th>\n",
       "      <td>Non-Official &amp; Non-Aboriginal languages</td>\n",
       "      <td>Afro-Asiatic languages, n.i.e.</td>\n",
       "      <td>5</td>\n",
       "      <td>0</td>\n",
       "      <td>0</td>\n",
       "      <td>0</td>\n",
       "    </tr>\n",
       "    <tr>\n",
       "      <th>...</th>\n",
       "      <td>...</td>\n",
       "      <td>...</td>\n",
       "      <td>...</td>\n",
       "      <td>...</td>\n",
       "      <td>...</td>\n",
       "      <td>...</td>\n",
       "    </tr>\n",
       "    <tr>\n",
       "      <th>211</th>\n",
       "      <td>Non-Official &amp; Non-Aboriginal languages</td>\n",
       "      <td>Wu (Shanghainese)</td>\n",
       "      <td>10</td>\n",
       "      <td>0</td>\n",
       "      <td>0</td>\n",
       "      <td>0</td>\n",
       "    </tr>\n",
       "    <tr>\n",
       "      <th>212</th>\n",
       "      <td>Non-Official &amp; Non-Aboriginal languages</td>\n",
       "      <td>Yiddish</td>\n",
       "      <td>0</td>\n",
       "      <td>5</td>\n",
       "      <td>0</td>\n",
       "      <td>0</td>\n",
       "    </tr>\n",
       "    <tr>\n",
       "      <th>213</th>\n",
       "      <td>Non-Official &amp; Non-Aboriginal languages</td>\n",
       "      <td>Yoruba</td>\n",
       "      <td>5</td>\n",
       "      <td>0</td>\n",
       "      <td>0</td>\n",
       "      <td>0</td>\n",
       "    </tr>\n",
       "  </tbody>\n",
       "</table>\n",
       "<p>214 rows × 6 columns</p>\n",
       "</div>"
      ],
      "text/plain": [
       "                                    category                        language  \\\n",
       "0                       Aboriginal languages    Aboriginal languages, n.o.s.   \n",
       "1    Non-Official & Non-Aboriginal languages                       Afrikaans   \n",
       "2    Non-Official & Non-Aboriginal languages  Afro-Asiatic languages, n.i.e.   \n",
       "..                                       ...                             ...   \n",
       "211  Non-Official & Non-Aboriginal languages               Wu (Shanghainese)   \n",
       "212  Non-Official & Non-Aboriginal languages                         Yiddish   \n",
       "213  Non-Official & Non-Aboriginal languages                          Yoruba   \n",
       "\n",
       "     mother_tongue  most_at_home  most_at_work  lang_known  \n",
       "0                0             0             0          10  \n",
       "1              175            75             0         280  \n",
       "2                5             0             0           0  \n",
       "..             ...           ...           ...         ...  \n",
       "211             10             0             0           0  \n",
       "212              0             5             0           0  \n",
       "213              5             0             0           0  \n",
       "\n",
       "[214 rows x 6 columns]"
      ]
     },
     "execution_count": 11,
     "metadata": {},
     "output_type": "execute_result"
    }
   ],
   "source": [
    "# BEGIN SOLUTION\n",
    "names_for_cols = [\"category\", \"language\", \"mother_tongue\", \"most_at_home\", \"most_at_work\", \"lang_known\"]\n",
    "kelowna = pd.read_csv('data/kelowna_lang.csv', sep = ';', decimal = ',', skiprows = [0,1,2,3,4,5,220], names = names_for_cols)\n",
    "# END SOLUTION\n",
    "kelowna"
   ]
  },
  {
   "cell_type": "raw",
   "id": "da58851e",
   "metadata": {
    "vscode": {
     "languageId": "raw"
    }
   },
   "source": [
    "# END SOLUTION"
   ]
  },
  {
   "cell_type": "raw",
   "id": "22459897",
   "metadata": {
    "vscode": {
     "languageId": "raw"
    }
   },
   "source": [
    "# BEGIN TESTS"
   ]
  },
  {
   "cell_type": "code",
   "execution_count": 12,
   "id": "9ee2e2bf",
   "metadata": {},
   "outputs": [],
   "source": [
    "# TEST\n",
    "\n",
    "# Checking if Data Frame is defined\n",
    "assert kelowna is not None, \"The Data Frame kelowna has not been defined\"\n",
    "\n",
    "# Check if kelowna is a DataFrame\n",
    "assert isinstance(kelowna, pd.core.frame.DataFrame), \"kelowna is not a pandas Data Frame\""
   ]
  },
  {
   "cell_type": "code",
   "execution_count": 13,
   "id": "39ff5834",
   "metadata": {},
   "outputs": [],
   "source": [
    "# HIDDEN TEST\n",
    "\n",
    "nrows = 214\n",
    "ncols = 6\n",
    "assert kelowna.shape == (nrows,ncols), \"Data Frame has incorrect shape\"\n",
    "\n",
    "msum = 190845\n",
    "assert sum(kelowna['mother_tongue']) == msum\n",
    "\n",
    "# Checking column names\n",
    "expected_columns = ['category', 'language', 'mother_tongue', 'most_at_home', 'most_at_work', 'lang_known']\n",
    "assert list(kelowna.columns) == expected_columns, f\"Column names are incorrect. Expected: {expected_columns}, but got: {list(kelowna.columns)}.\"\n",
    "\n",
    "# Check dtype for 'lang_known'\n",
    "assert kelowna['lang_known'].dtype == np.dtype('int64'), f\"lang_known column is not int64\""
   ]
  },
  {
   "cell_type": "raw",
   "id": "7143445e",
   "metadata": {
    "vscode": {
     "languageId": "raw"
    }
   },
   "source": [
    "# END TESTS"
   ]
  },
  {
   "cell_type": "raw",
   "id": "5bc1367b",
   "metadata": {
    "vscode": {
     "languageId": "raw"
    }
   },
   "source": [
    "# END QUESTION"
   ]
  },
  {
   "cell_type": "raw",
   "id": "47e21506",
   "metadata": {
    "vscode": {
     "languageId": "raw"
    }
   },
   "source": [
    "# BEGIN QUESTION\n",
    "name: ex1_5\n",
    "points: 5"
   ]
  },
  {
   "cell_type": "markdown",
   "id": "abce83d3",
   "metadata": {},
   "source": [
    "### Exercise 1.5: Read in the Vancouver language Data\n",
    "rubric={autograde:5}"
   ]
  },
  {
   "cell_type": "raw",
   "id": "d281f084",
   "metadata": {
    "vscode": {
     "languageId": "raw"
    }
   },
   "source": [
    "# BEGIN SOLUTION"
   ]
  },
  {
   "cell_type": "code",
   "execution_count": 14,
   "id": "3a057b86-2d9c-41ff-9807-c3128b73bfc5",
   "metadata": {},
   "outputs": [
    {
     "data": {
      "text/html": [
       "<div>\n",
       "<style scoped>\n",
       "    .dataframe tbody tr th:only-of-type {\n",
       "        vertical-align: middle;\n",
       "    }\n",
       "\n",
       "    .dataframe tbody tr th {\n",
       "        vertical-align: top;\n",
       "    }\n",
       "\n",
       "    .dataframe thead th {\n",
       "        text-align: right;\n",
       "    }\n",
       "</style>\n",
       "<table border=\"1\" class=\"dataframe\">\n",
       "  <thead>\n",
       "    <tr style=\"text-align: right;\">\n",
       "      <th></th>\n",
       "      <th>category</th>\n",
       "      <th>language</th>\n",
       "      <th>mother_tongue</th>\n",
       "      <th>most_at_home</th>\n",
       "      <th>most_at_work</th>\n",
       "      <th>lang_known</th>\n",
       "    </tr>\n",
       "  </thead>\n",
       "  <tbody>\n",
       "    <tr>\n",
       "      <th>0</th>\n",
       "      <td>Aboriginal languages</td>\n",
       "      <td>Aboriginal languages, n.o.s.</td>\n",
       "      <td>70</td>\n",
       "      <td>15</td>\n",
       "      <td>0</td>\n",
       "      <td>35</td>\n",
       "    </tr>\n",
       "    <tr>\n",
       "      <th>1</th>\n",
       "      <td>Non-Official &amp; Non-Aboriginal languages</td>\n",
       "      <td>Afrikaans</td>\n",
       "      <td>1435</td>\n",
       "      <td>520</td>\n",
       "      <td>10</td>\n",
       "      <td>4225</td>\n",
       "    </tr>\n",
       "    <tr>\n",
       "      <th>2</th>\n",
       "      <td>Non-Official &amp; Non-Aboriginal languages</td>\n",
       "      <td>Afro-Asiatic languages, n.i.e.</td>\n",
       "      <td>45</td>\n",
       "      <td>10</td>\n",
       "      <td>0</td>\n",
       "      <td>95</td>\n",
       "    </tr>\n",
       "    <tr>\n",
       "      <th>...</th>\n",
       "      <td>...</td>\n",
       "      <td>...</td>\n",
       "      <td>...</td>\n",
       "      <td>...</td>\n",
       "      <td>...</td>\n",
       "      <td>...</td>\n",
       "    </tr>\n",
       "    <tr>\n",
       "      <th>211</th>\n",
       "      <td>Non-Official &amp; Non-Aboriginal languages</td>\n",
       "      <td>Wu (Shanghainese)</td>\n",
       "      <td>4330</td>\n",
       "      <td>2495</td>\n",
       "      <td>45</td>\n",
       "      <td>5385</td>\n",
       "    </tr>\n",
       "    <tr>\n",
       "      <th>212</th>\n",
       "      <td>Non-Official &amp; Non-Aboriginal languages</td>\n",
       "      <td>Yiddish</td>\n",
       "      <td>220</td>\n",
       "      <td>10</td>\n",
       "      <td>0</td>\n",
       "      <td>385</td>\n",
       "    </tr>\n",
       "    <tr>\n",
       "      <th>213</th>\n",
       "      <td>Non-Official &amp; Non-Aboriginal languages</td>\n",
       "      <td>Yoruba</td>\n",
       "      <td>190</td>\n",
       "      <td>40</td>\n",
       "      <td>0</td>\n",
       "      <td>505</td>\n",
       "    </tr>\n",
       "  </tbody>\n",
       "</table>\n",
       "<p>214 rows × 6 columns</p>\n",
       "</div>"
      ],
      "text/plain": [
       "                                    category                        language  \\\n",
       "0                       Aboriginal languages    Aboriginal languages, n.o.s.   \n",
       "1    Non-Official & Non-Aboriginal languages                       Afrikaans   \n",
       "2    Non-Official & Non-Aboriginal languages  Afro-Asiatic languages, n.i.e.   \n",
       "..                                       ...                             ...   \n",
       "211  Non-Official & Non-Aboriginal languages               Wu (Shanghainese)   \n",
       "212  Non-Official & Non-Aboriginal languages                         Yiddish   \n",
       "213  Non-Official & Non-Aboriginal languages                          Yoruba   \n",
       "\n",
       "     mother_tongue  most_at_home  most_at_work  lang_known  \n",
       "0               70            15             0          35  \n",
       "1             1435           520            10        4225  \n",
       "2               45            10             0          95  \n",
       "..             ...           ...           ...         ...  \n",
       "211           4330          2495            45        5385  \n",
       "212            220            10             0         385  \n",
       "213            190            40             0         505  \n",
       "\n",
       "[214 rows x 6 columns]"
      ]
     },
     "execution_count": 14,
     "metadata": {},
     "output_type": "execute_result"
    }
   ],
   "source": [
    "vancouver = pd.read_csv('data/vancouver_lang.csv') # SOLUTION\n",
    "vancouver"
   ]
  },
  {
   "cell_type": "raw",
   "id": "1072d48a",
   "metadata": {
    "vscode": {
     "languageId": "raw"
    }
   },
   "source": [
    "# END SOLUTION"
   ]
  },
  {
   "cell_type": "raw",
   "id": "d50d68e2",
   "metadata": {
    "vscode": {
     "languageId": "raw"
    }
   },
   "source": [
    "# BEGIN TESTS"
   ]
  },
  {
   "cell_type": "code",
   "execution_count": 15,
   "id": "772c6d61",
   "metadata": {},
   "outputs": [],
   "source": [
    "# TEST\n",
    "\n",
    "# Checking if Data Frame is defined\n",
    "assert vancouver is not None, \"The Data Frame vancouver has not been defined\"\n",
    "\n",
    "# Check if vancouver is a DataFrame\n",
    "assert isinstance(vancouver, pd.core.frame.DataFrame), \"vancouver is not a pandas Data Frame\""
   ]
  },
  {
   "cell_type": "code",
   "execution_count": 16,
   "id": "43bc5b67",
   "metadata": {},
   "outputs": [],
   "source": [
    "# HIDDEN TEST\n",
    "\n",
    "nrows = 214\n",
    "ncols = 6\n",
    "assert vancouver.shape == (nrows,ncols), \"Data Frame has incorrect shape\"\n",
    "\n",
    "msum = 2361925\n",
    "assert sum(vancouver['mother_tongue']) == msum\n",
    "\n",
    "# Checking column names\n",
    "expected_columns = ['category', 'language', 'mother_tongue', 'most_at_home', 'most_at_work', 'lang_known']\n",
    "assert list(vancouver.columns) == expected_columns, f\"Column names are incorrect. Expected: {expected_columns}, but got: {list(vancouver.columns)}.\"\n",
    "\n",
    "# Check dtype for 'lang_known'\n",
    "assert vancouver['lang_known'].dtype == np.dtype('int64'), f\"lang_known column is not int64\""
   ]
  },
  {
   "cell_type": "raw",
   "id": "b21bc70b",
   "metadata": {
    "vscode": {
     "languageId": "raw"
    }
   },
   "source": [
    "# END TESTS"
   ]
  },
  {
   "cell_type": "raw",
   "id": "7214babc",
   "metadata": {
    "vscode": {
     "languageId": "raw"
    }
   },
   "source": [
    "# END QUESTION"
   ]
  },
  {
   "cell_type": "raw",
   "id": "9dc2c1e4",
   "metadata": {
    "vscode": {
     "languageId": "raw"
    }
   },
   "source": [
    "# BEGIN QUESTION\n",
    "name: ex1_6\n",
    "points: 5"
   ]
  },
  {
   "cell_type": "markdown",
   "id": "923c586f",
   "metadata": {},
   "source": [
    "### Exercise 1.6: Read in the Victoria language Data\n",
    "rubric={autograde:5}"
   ]
  },
  {
   "cell_type": "raw",
   "id": "5e287d2b",
   "metadata": {
    "vscode": {
     "languageId": "raw"
    }
   },
   "source": [
    "# BEGIN SOLUTION"
   ]
  },
  {
   "cell_type": "code",
   "execution_count": 17,
   "id": "27bfd9b2-91fb-4315-bb33-fcb6125101f6",
   "metadata": {},
   "outputs": [
    {
     "data": {
      "text/html": [
       "<div>\n",
       "<style scoped>\n",
       "    .dataframe tbody tr th:only-of-type {\n",
       "        vertical-align: middle;\n",
       "    }\n",
       "\n",
       "    .dataframe tbody tr th {\n",
       "        vertical-align: top;\n",
       "    }\n",
       "\n",
       "    .dataframe thead th {\n",
       "        text-align: right;\n",
       "    }\n",
       "</style>\n",
       "<table border=\"1\" class=\"dataframe\">\n",
       "  <thead>\n",
       "    <tr style=\"text-align: right;\">\n",
       "      <th></th>\n",
       "      <th>category</th>\n",
       "      <th>language</th>\n",
       "      <th>mother_tongue</th>\n",
       "      <th>most_at_home</th>\n",
       "      <th>most_at_work</th>\n",
       "      <th>lang_known</th>\n",
       "    </tr>\n",
       "  </thead>\n",
       "  <tbody>\n",
       "    <tr>\n",
       "      <th>0</th>\n",
       "      <td>Aboriginal languages</td>\n",
       "      <td>Aboriginal languages, n.o.s.</td>\n",
       "      <td>10</td>\n",
       "      <td>0</td>\n",
       "      <td>0</td>\n",
       "      <td>25</td>\n",
       "    </tr>\n",
       "    <tr>\n",
       "      <th>1</th>\n",
       "      <td>Non-Official &amp; Non-Aboriginal languages</td>\n",
       "      <td>Afrikaans</td>\n",
       "      <td>175</td>\n",
       "      <td>50</td>\n",
       "      <td>0</td>\n",
       "      <td>580</td>\n",
       "    </tr>\n",
       "    <tr>\n",
       "      <th>2</th>\n",
       "      <td>Non-Official &amp; Non-Aboriginal languages</td>\n",
       "      <td>Afro-Asiatic languages, n.i.e.</td>\n",
       "      <td>0</td>\n",
       "      <td>0</td>\n",
       "      <td>0</td>\n",
       "      <td>20</td>\n",
       "    </tr>\n",
       "    <tr>\n",
       "      <th>...</th>\n",
       "      <td>...</td>\n",
       "      <td>...</td>\n",
       "      <td>...</td>\n",
       "      <td>...</td>\n",
       "      <td>...</td>\n",
       "      <td>...</td>\n",
       "    </tr>\n",
       "    <tr>\n",
       "      <th>211</th>\n",
       "      <td>Non-Official &amp; Non-Aboriginal languages</td>\n",
       "      <td>Wu (Shanghainese)</td>\n",
       "      <td>125</td>\n",
       "      <td>65</td>\n",
       "      <td>0</td>\n",
       "      <td>135</td>\n",
       "    </tr>\n",
       "    <tr>\n",
       "      <th>212</th>\n",
       "      <td>Non-Official &amp; Non-Aboriginal languages</td>\n",
       "      <td>Yiddish</td>\n",
       "      <td>35</td>\n",
       "      <td>0</td>\n",
       "      <td>0</td>\n",
       "      <td>55</td>\n",
       "    </tr>\n",
       "    <tr>\n",
       "      <th>213</th>\n",
       "      <td>Non-Official &amp; Non-Aboriginal languages</td>\n",
       "      <td>Yoruba</td>\n",
       "      <td>20</td>\n",
       "      <td>0</td>\n",
       "      <td>0</td>\n",
       "      <td>90</td>\n",
       "    </tr>\n",
       "  </tbody>\n",
       "</table>\n",
       "<p>214 rows × 6 columns</p>\n",
       "</div>"
      ],
      "text/plain": [
       "                                    category                        language  \\\n",
       "0                       Aboriginal languages    Aboriginal languages, n.o.s.   \n",
       "1    Non-Official & Non-Aboriginal languages                       Afrikaans   \n",
       "2    Non-Official & Non-Aboriginal languages  Afro-Asiatic languages, n.i.e.   \n",
       "..                                       ...                             ...   \n",
       "211  Non-Official & Non-Aboriginal languages               Wu (Shanghainese)   \n",
       "212  Non-Official & Non-Aboriginal languages                         Yiddish   \n",
       "213  Non-Official & Non-Aboriginal languages                          Yoruba   \n",
       "\n",
       "     mother_tongue  most_at_home  most_at_work  lang_known  \n",
       "0               10             0             0          25  \n",
       "1              175            50             0         580  \n",
       "2                0             0             0          20  \n",
       "..             ...           ...           ...         ...  \n",
       "211            125            65             0         135  \n",
       "212             35             0             0          55  \n",
       "213             20             0             0          90  \n",
       "\n",
       "[214 rows x 6 columns]"
      ]
     },
     "execution_count": 17,
     "metadata": {},
     "output_type": "execute_result"
    }
   ],
   "source": [
    "url = \"https://github.com/ttimbers/canlang/raw/master/inst/extdata/victoria_lang.tsv\" # SOLUTION\n",
    "victoria = pd.read_csv(url, sep = '\\t')\n",
    "victoria"
   ]
  },
  {
   "cell_type": "raw",
   "id": "6567791a",
   "metadata": {
    "vscode": {
     "languageId": "raw"
    }
   },
   "source": [
    "# END SOLUTION"
   ]
  },
  {
   "cell_type": "raw",
   "id": "5d8d2baf",
   "metadata": {},
   "source": [
    "# BEGIN TESTS"
   ]
  },
  {
   "cell_type": "code",
   "execution_count": 18,
   "id": "c5103a49",
   "metadata": {},
   "outputs": [],
   "source": [
    "# TEST\n",
    "\n",
    "# Checking if Data Frame is defined\n",
    "assert victoria is not None, \"The Data Frame victoria has not been defined\"\n",
    "\n",
    "# Check if victoria is a DataFrame\n",
    "assert isinstance(victoria, pd.core.frame.DataFrame), \"victoria is not a pandas Data Frame\""
   ]
  },
  {
   "cell_type": "code",
   "execution_count": 19,
   "id": "7bdb1457",
   "metadata": {},
   "outputs": [],
   "source": [
    "# HIDDEN TEST\n",
    "\n",
    "nrows = 214\n",
    "ncols = 6\n",
    "assert victoria.shape == (nrows,ncols), \"Data Frame has incorrect shape\"\n",
    "\n",
    "msum = 357030\n",
    "assert sum(victoria['mother_tongue']) == msum\n",
    "\n",
    "# Checking column names\n",
    "expected_columns = ['category', 'language', 'mother_tongue', 'most_at_home', 'most_at_work', 'lang_known']\n",
    "assert list(victoria.columns) == expected_columns, f\"Column names are incorrect. Expected: {expected_columns}, but got: {list(victoria.columns)}.\"\n",
    "\n",
    "# Check dtype for 'lang_known'\n",
    "assert victoria['lang_known'].dtype == np.dtype('int64'), f\"lang_known column is not int64\""
   ]
  },
  {
   "cell_type": "raw",
   "id": "b542620d",
   "metadata": {
    "vscode": {
     "languageId": "raw"
    }
   },
   "source": [
    "# END TESTS"
   ]
  },
  {
   "cell_type": "raw",
   "id": "14a977f4-41d7-4cff-b383-4f6bd40fcd52",
   "metadata": {
    "vscode": {
     "languageId": "raw"
    }
   },
   "source": [
    "# END QUESTION"
   ]
  },
  {
   "cell_type": "raw",
   "id": "28f83bd8",
   "metadata": {
    "vscode": {
     "languageId": "raw"
    }
   },
   "source": [
    "# BEGIN QUESTION\n",
    "name: ex2\n",
    "points: 10"
   ]
  },
  {
   "cell_type": "markdown",
   "id": "7fd29270-bfd5-4df1-9ad5-4cd483296dad",
   "metadata": {},
   "source": [
    "## Exercise 2: Basic Data Wrangling\n",
    "\n",
    "rubric={autograde:10}\n",
    "\n",
    "Read the file `region_lang.csv` (located in the `data` directory of this repo) into a pandas data frame. We will use this data frame to uncover the name of the Canadian census metropolitan area which has the second greatest number of people who claim that the language they speak most often at home is **Spanish**. Return the region name as a string and assign this string to a variable named `spanish2`."
   ]
  },
  {
   "cell_type": "raw",
   "id": "baeca73e",
   "metadata": {
    "vscode": {
     "languageId": "raw"
    }
   },
   "source": [
    "# BEGIN SOLUTION"
   ]
  },
  {
   "cell_type": "code",
   "execution_count": 3,
   "id": "b01f970a-d1b3-4ced-bce0-00b712692dc1",
   "metadata": {},
   "outputs": [],
   "source": [
    "# BEGIN SOLUTION\n",
    "region_lang = pd.read_csv(\"data/region_lang.csv\", usecols = range(1,8))\n",
    "spanish = region_lang[region_lang[\"language\"] == \"Spanish\"].sort_values(by = 'most_at_home', ascending = False)\n",
    "spanish2 = spanish.iloc[1]['region']\n",
    "# END SOLUTION"
   ]
  },
  {
   "cell_type": "code",
   "execution_count": 21,
   "id": "2cbc9c17-2fc2-45c8-8536-c9a0c7bd5385",
   "metadata": {},
   "outputs": [
    {
     "data": {
      "text/plain": [
       "'Toronto'"
      ]
     },
     "execution_count": 21,
     "metadata": {},
     "output_type": "execute_result"
    }
   ],
   "source": [
    "spanish2"
   ]
  },
  {
   "cell_type": "raw",
   "id": "3a8a60b8",
   "metadata": {
    "vscode": {
     "languageId": "raw"
    }
   },
   "source": [
    "# END SOLUTION"
   ]
  },
  {
   "cell_type": "raw",
   "id": "d812025b",
   "metadata": {
    "vscode": {
     "languageId": "raw"
    }
   },
   "source": [
    "# BEGIN TESTS"
   ]
  },
  {
   "cell_type": "code",
   "execution_count": 22,
   "id": "85958205",
   "metadata": {},
   "outputs": [],
   "source": [
    "# TEST\n",
    "\n",
    "assert spanish2 is not None, \"The variable spanish2 has not been assigned a value.\"\n",
    "\n",
    "assert isinstance(spanish2, str), \"The variable spanish2 is not a string.\""
   ]
  },
  {
   "cell_type": "code",
   "execution_count": 23,
   "id": "fcea2df4",
   "metadata": {},
   "outputs": [],
   "source": [
    "# HIDDEN TEST\n",
    "\n",
    "assert spanish2 == 'Toronto'"
   ]
  },
  {
   "cell_type": "raw",
   "id": "131c630f",
   "metadata": {
    "vscode": {
     "languageId": "raw"
    }
   },
   "source": [
    "# END TESTS"
   ]
  },
  {
   "cell_type": "raw",
   "id": "259e1158",
   "metadata": {
    "vscode": {
     "languageId": "raw"
    }
   },
   "source": [
    "# END QUESTION"
   ]
  },
  {
   "cell_type": "raw",
   "id": "e84d752f",
   "metadata": {
    "vscode": {
     "languageId": "raw"
    }
   },
   "source": [
    "# BEGIN QUESTION\n",
    "name: ex3\n",
    "points: 20"
   ]
  },
  {
   "cell_type": "markdown",
   "id": "ff2ee9b4-c87b-4fcf-8c8b-d1c2568a02e9",
   "metadata": {},
   "source": [
    "## Exercise 3: More Data Wrangling\n",
    "\n",
    "rubric={accuracy:20}\n",
    "\n",
    "For this exercise, we want you to choose a Canadian census metropolitan area from the `region_lang` data set you encountered in the previous question and find the top 5 languages spoken most often at home from that area. Your final result should be a data frame with two columns: 1. `language` 2. `perc_pop`.\n",
    "\n",
    "The column perc_pop should be the percentage of the area’s population who reported that they speak that language most often at home. You can find the population size for each Canadian census metropolitan area in the file `region_data.csv` located in the `data` directory of this repo."
   ]
  },
  {
   "cell_type": "raw",
   "id": "4a925f2f",
   "metadata": {
    "vscode": {
     "languageId": "raw"
    }
   },
   "source": [
    "# BEGIN SOLUTION"
   ]
  },
  {
   "cell_type": "code",
   "execution_count": 24,
   "id": "5e966e8d-b7af-4cf4-8665-eedbd7a3990e",
   "metadata": {},
   "outputs": [
    {
     "data": {
      "text/html": [
       "<div>\n",
       "<style scoped>\n",
       "    .dataframe tbody tr th:only-of-type {\n",
       "        vertical-align: middle;\n",
       "    }\n",
       "\n",
       "    .dataframe tbody tr th {\n",
       "        vertical-align: top;\n",
       "    }\n",
       "\n",
       "    .dataframe thead th {\n",
       "        text-align: right;\n",
       "    }\n",
       "</style>\n",
       "<table border=\"1\" class=\"dataframe\">\n",
       "  <thead>\n",
       "    <tr style=\"text-align: right;\">\n",
       "      <th></th>\n",
       "      <th>language</th>\n",
       "      <th>perc_pop</th>\n",
       "    </tr>\n",
       "  </thead>\n",
       "  <tbody>\n",
       "    <tr>\n",
       "      <th>1920</th>\n",
       "      <td>English</td>\n",
       "      <td>58.03</td>\n",
       "    </tr>\n",
       "    <tr>\n",
       "      <th>2095</th>\n",
       "      <td>French</td>\n",
       "      <td>26.70</td>\n",
       "    </tr>\n",
       "    <tr>\n",
       "      <th>345</th>\n",
       "      <td>Arabic</td>\n",
       "      <td>1.73</td>\n",
       "    </tr>\n",
       "    <tr>\n",
       "      <th>4125</th>\n",
       "      <td>Mandarin</td>\n",
       "      <td>1.10</td>\n",
       "    </tr>\n",
       "    <tr>\n",
       "      <th>6260</th>\n",
       "      <td>Spanish</td>\n",
       "      <td>0.71</td>\n",
       "    </tr>\n",
       "  </tbody>\n",
       "</table>\n",
       "</div>"
      ],
      "text/plain": [
       "      language  perc_pop\n",
       "1920   English     58.03\n",
       "2095    French     26.70\n",
       "345     Arabic      1.73\n",
       "4125  Mandarin      1.10\n",
       "6260   Spanish      0.71"
      ]
     },
     "execution_count": 24,
     "metadata": {},
     "output_type": "execute_result"
    }
   ],
   "source": [
    "# BEGIN SOLUTION\n",
    "region_pop = pd.read_csv(\"data/region_data.csv\", usecols = [\"region\", \"population\"])\n",
    "ottawa_pop = (region_pop[region_pop[\"region\"] == \"Ottawa - Gatineau\"].iloc[0])['population']; ottawa_pop\n",
    "\n",
    "ottawa_top5_langs = (\n",
    "          region_lang[region_lang[\"region\"] == \"Ottawa - Gatineau\"]\n",
    "          .sort_values(by = 'most_at_home', ascending = False)\n",
    "          .iloc[:5]\n",
    "          [['language', 'most_at_home']]\n",
    "         )\n",
    "\n",
    "ottawa_top5_langs['perc_pop'] = (ottawa_top5_langs['most_at_home']*100/ottawa_pop).round(2)\n",
    "ottawa_top5_langs.drop(columns = 'most_at_home', inplace = True)\n",
    "\n",
    "ottawa_top5_langs\n",
    "# END SOLUTION"
   ]
  },
  {
   "cell_type": "raw",
   "id": "8933828e",
   "metadata": {
    "vscode": {
     "languageId": "raw"
    }
   },
   "source": [
    "# END SOLUTION"
   ]
  },
  {
   "cell_type": "raw",
   "id": "15a67a68-1db6-486f-8cdb-530ae2f247ba",
   "metadata": {
    "vscode": {
     "languageId": "raw"
    }
   },
   "source": [
    "# END QUESTION"
   ]
  },
  {
   "cell_type": "raw",
   "id": "4072fff0",
   "metadata": {
    "vscode": {
     "languageId": "raw"
    }
   },
   "source": [
    "# BEGIN QUESTION\n",
    "name: ex4\n",
    "points: 10"
   ]
  },
  {
   "cell_type": "markdown",
   "id": "beb6b3e8-fa54-4ffb-8f40-297c3c45e015",
   "metadata": {},
   "source": [
    "## Exercise 4: Tidying Data\n",
    "\n",
    "rubric={autograde:10}\n",
    "\n",
    "Let’s load a data set that is not tidy, because it is too wide for the statistical question being asked, and then use pandas to tidy it.\n",
    "\n",
    "This next data set that we will be looking at contains environmental data from 1914 to 2018. The data was collected by the DFO (Canada’s Department of Fisheries and Oceans) at the Pacific Biological Station (Departure Bay). Daily sea surface temperatures were recorded. Original data source: http://www.pac.dfo-mpo.gc.ca/science/oceans/data-donnees/lightstations-phares/index-eng.html\n",
    "\n",
    "A statistical question we might be interested in answering with this data set is, has sea surface temperature been changing over time, and is there an association between time of year (i.e., month) and this change over time? Read the `departure_bay_temperature.csv` data set in from the `data` directory and decide what tidying you will have to do, and then get to work and tidy it!\n",
    "\n",
    "Assign the the tidy data frame you create to the variable `tidy_temps`. Set the second column name to be `month` & third column name to be `temp`."
   ]
  },
  {
   "cell_type": "raw",
   "id": "8fb0bfa7",
   "metadata": {
    "vscode": {
     "languageId": "raw"
    }
   },
   "source": [
    "# BEGIN SOLUTION"
   ]
  },
  {
   "cell_type": "code",
   "execution_count": 25,
   "id": "eba2761c",
   "metadata": {},
   "outputs": [],
   "source": [
    "# BEGIN SOLUTION\n",
    "untidy_temps = pd.read_csv(\"data/departure_bay_temperature.csv\", skiprows = 2)\n",
    "tidy_temps = pd.melt(untidy_temps, id_vars = \"Year\",\n",
    "                     var_name = \"month\", value_name = \"temp\")\n",
    "# END SOLUTION"
   ]
  },
  {
   "cell_type": "code",
   "execution_count": 26,
   "id": "dfe88b69",
   "metadata": {},
   "outputs": [
    {
     "data": {
      "text/html": [
       "<div>\n",
       "<style scoped>\n",
       "    .dataframe tbody tr th:only-of-type {\n",
       "        vertical-align: middle;\n",
       "    }\n",
       "\n",
       "    .dataframe tbody tr th {\n",
       "        vertical-align: top;\n",
       "    }\n",
       "\n",
       "    .dataframe thead th {\n",
       "        text-align: right;\n",
       "    }\n",
       "</style>\n",
       "<table border=\"1\" class=\"dataframe\">\n",
       "  <thead>\n",
       "    <tr style=\"text-align: right;\">\n",
       "      <th></th>\n",
       "      <th>Year</th>\n",
       "      <th>month</th>\n",
       "      <th>temp</th>\n",
       "    </tr>\n",
       "  </thead>\n",
       "  <tbody>\n",
       "    <tr>\n",
       "      <th>0</th>\n",
       "      <td>1914</td>\n",
       "      <td>Jan</td>\n",
       "      <td>7.2</td>\n",
       "    </tr>\n",
       "    <tr>\n",
       "      <th>1</th>\n",
       "      <td>1915</td>\n",
       "      <td>Jan</td>\n",
       "      <td>5.6</td>\n",
       "    </tr>\n",
       "    <tr>\n",
       "      <th>2</th>\n",
       "      <td>1916</td>\n",
       "      <td>Jan</td>\n",
       "      <td>1.2</td>\n",
       "    </tr>\n",
       "    <tr>\n",
       "      <th>...</th>\n",
       "      <td>...</td>\n",
       "      <td>...</td>\n",
       "      <td>...</td>\n",
       "    </tr>\n",
       "    <tr>\n",
       "      <th>1257</th>\n",
       "      <td>2016</td>\n",
       "      <td>Dec</td>\n",
       "      <td>5.5</td>\n",
       "    </tr>\n",
       "    <tr>\n",
       "      <th>1258</th>\n",
       "      <td>2017</td>\n",
       "      <td>Dec</td>\n",
       "      <td>6.9</td>\n",
       "    </tr>\n",
       "    <tr>\n",
       "      <th>1259</th>\n",
       "      <td>2018</td>\n",
       "      <td>Dec</td>\n",
       "      <td>NaN</td>\n",
       "    </tr>\n",
       "  </tbody>\n",
       "</table>\n",
       "<p>1260 rows × 3 columns</p>\n",
       "</div>"
      ],
      "text/plain": [
       "      Year month  temp\n",
       "0     1914   Jan   7.2\n",
       "1     1915   Jan   5.6\n",
       "2     1916   Jan   1.2\n",
       "...    ...   ...   ...\n",
       "1257  2016   Dec   5.5\n",
       "1258  2017   Dec   6.9\n",
       "1259  2018   Dec   NaN\n",
       "\n",
       "[1260 rows x 3 columns]"
      ]
     },
     "execution_count": 26,
     "metadata": {},
     "output_type": "execute_result"
    }
   ],
   "source": [
    "tidy_temps"
   ]
  },
  {
   "cell_type": "raw",
   "id": "c50ebf4a",
   "metadata": {
    "vscode": {
     "languageId": "raw"
    }
   },
   "source": [
    "# END SOLUTION"
   ]
  },
  {
   "cell_type": "raw",
   "id": "70fe77b7",
   "metadata": {
    "vscode": {
     "languageId": "raw"
    }
   },
   "source": [
    "# BEGIN TESTS"
   ]
  },
  {
   "cell_type": "code",
   "execution_count": 27,
   "id": "c2185284",
   "metadata": {},
   "outputs": [],
   "source": [
    "# TEST\n",
    "\n",
    "# Check the data frame is defined\n",
    "assert tidy_temps is not None, \"Data Frame tidy_temps has not been defined.\"\n",
    "\n",
    "# Check that tidy_temps is a Data Frame\n",
    "assert isinstance(tidy_temps, pd.core.frame.DataFrame), \"tidy_temps is not a Data Frame\""
   ]
  },
  {
   "cell_type": "code",
   "execution_count": 28,
   "id": "afa40009",
   "metadata": {},
   "outputs": [],
   "source": [
    "# HIDDEN TEST\n",
    "\n",
    "nrows = 1260\n",
    "ncols = 3\n",
    "assert tidy_temps.shape == (nrows,ncols), \"tidy_temps has incorrect shape\"\n",
    "\n",
    "# Check column names\n",
    "expect = 'monthtempyear'\n",
    "actual = \"\".join(sorted([c.lower() for c in list(tidy_temps.columns)]))\n",
    "\n",
    "assert expect == actual, \"Column names not as expected\"\n",
    "\n",
    "# Sum of temperatures\n",
    "expected_sum = 10508\n",
    "actual_sum = round(  sum(tidy_temps['temp'].dropna())   )   \n",
    "tolerance = 3\n",
    "\n",
    "assert np.abs(expected_sum - actual_sum) <= tolerance"
   ]
  },
  {
   "cell_type": "raw",
   "id": "31977fcc",
   "metadata": {
    "vscode": {
     "languageId": "raw"
    }
   },
   "source": [
    "# END TESTS"
   ]
  },
  {
   "cell_type": "raw",
   "id": "f8542cd3",
   "metadata": {
    "vscode": {
     "languageId": "raw"
    }
   },
   "source": [
    "# END QUESTION"
   ]
  },
  {
   "cell_type": "markdown",
   "id": "97ace0b4-9369-42cd-84de-3c25e919ea53",
   "metadata": {},
   "source": [
    "### Reward: Visualizing the data\n",
    "\n",
    "Let’s take a look and see whether sea surface temperature been changing over time at Departure Bay, BC. Given that time of year is a factor that influences temperature, we’ll plot this for each month separately:"
   ]
  },
  {
   "cell_type": "code",
   "execution_count": 29,
   "id": "61d2ecee-d4bd-4ca0-95a9-b2120b0f86ad",
   "metadata": {},
   "outputs": [
    {
     "data": {
      "text/html": [
       "\n",
       "<style>\n",
       "  #altair-viz-23230312cf6f4cc68f98b619d4a71081.vega-embed {\n",
       "    width: 100%;\n",
       "    display: flex;\n",
       "  }\n",
       "\n",
       "  #altair-viz-23230312cf6f4cc68f98b619d4a71081.vega-embed details,\n",
       "  #altair-viz-23230312cf6f4cc68f98b619d4a71081.vega-embed details summary {\n",
       "    position: relative;\n",
       "  }\n",
       "</style>\n",
       "<div id=\"altair-viz-23230312cf6f4cc68f98b619d4a71081\"></div>\n",
       "<script type=\"text/javascript\">\n",
       "  var VEGA_DEBUG = (typeof VEGA_DEBUG == \"undefined\") ? {} : VEGA_DEBUG;\n",
       "  (function(spec, embedOpt){\n",
       "    let outputDiv = document.currentScript.previousElementSibling;\n",
       "    if (outputDiv.id !== \"altair-viz-23230312cf6f4cc68f98b619d4a71081\") {\n",
       "      outputDiv = document.getElementById(\"altair-viz-23230312cf6f4cc68f98b619d4a71081\");\n",
       "    }\n",
       "    const paths = {\n",
       "      \"vega\": \"https://cdn.jsdelivr.net/npm/vega@5?noext\",\n",
       "      \"vega-lib\": \"https://cdn.jsdelivr.net/npm/vega-lib?noext\",\n",
       "      \"vega-lite\": \"https://cdn.jsdelivr.net/npm/vega-lite@5.20.1?noext\",\n",
       "      \"vega-embed\": \"https://cdn.jsdelivr.net/npm/vega-embed@6?noext\",\n",
       "    };\n",
       "\n",
       "    function maybeLoadScript(lib, version) {\n",
       "      var key = `${lib.replace(\"-\", \"\")}_version`;\n",
       "      return (VEGA_DEBUG[key] == version) ?\n",
       "        Promise.resolve(paths[lib]) :\n",
       "        new Promise(function(resolve, reject) {\n",
       "          var s = document.createElement('script');\n",
       "          document.getElementsByTagName(\"head\")[0].appendChild(s);\n",
       "          s.async = true;\n",
       "          s.onload = () => {\n",
       "            VEGA_DEBUG[key] = version;\n",
       "            return resolve(paths[lib]);\n",
       "          };\n",
       "          s.onerror = () => reject(`Error loading script: ${paths[lib]}`);\n",
       "          s.src = paths[lib];\n",
       "        });\n",
       "    }\n",
       "\n",
       "    function showError(err) {\n",
       "      outputDiv.innerHTML = `<div class=\"error\" style=\"color:red;\">${err}</div>`;\n",
       "      throw err;\n",
       "    }\n",
       "\n",
       "    function displayChart(vegaEmbed) {\n",
       "      vegaEmbed(outputDiv, spec, embedOpt)\n",
       "        .catch(err => showError(`Javascript Error: ${err.message}<br>This usually means there's a typo in your chart specification. See the javascript console for the full traceback.`));\n",
       "    }\n",
       "\n",
       "    if(typeof define === \"function\" && define.amd) {\n",
       "      requirejs.config({paths});\n",
       "      require([\"vega-embed\"], displayChart, err => showError(`Error loading script: ${err.message}`));\n",
       "    } else {\n",
       "      maybeLoadScript(\"vega\", \"5\")\n",
       "        .then(() => maybeLoadScript(\"vega-lite\", \"5.20.1\"))\n",
       "        .then(() => maybeLoadScript(\"vega-embed\", \"6\"))\n",
       "        .catch(showError)\n",
       "        .then(() => displayChart(vegaEmbed));\n",
       "    }\n",
       "  })({\"config\": {\"view\": {\"continuousWidth\": 300, \"continuousHeight\": 300}}, \"data\": {\"name\": \"data-2b2907be295e3eda7a570e71900783cb\"}, \"facet\": {\"field\": \"month\", \"sort\": [\"Jan\", \"Feb\", \"Mar\", \"Apr\", \"May\", \"Jun\", \"Jul\", \"Aug\", \"Sep\", \"Oct\", \"Nov\", \"Dec\"], \"type\": \"nominal\"}, \"spec\": {\"mark\": {\"type\": \"point\"}, \"encoding\": {\"x\": {\"axis\": {\"labels\": false, \"ticks\": false}, \"field\": \"Year\", \"title\": \"Year\", \"type\": \"nominal\"}, \"y\": {\"field\": \"temp\", \"title\": \"Temperature\", \"type\": \"quantitative\"}}, \"height\": 200, \"name\": \"view_1\", \"width\": 200}, \"columns\": 4, \"params\": [{\"name\": \"param_1\", \"select\": {\"type\": \"interval\", \"encodings\": [\"x\", \"y\"]}, \"bind\": \"scales\", \"views\": [\"view_1\"]}], \"$schema\": \"https://vega.github.io/schema/vega-lite/v5.20.1.json\", \"datasets\": {\"data-2b2907be295e3eda7a570e71900783cb\": [{\"Year\": 1914, \"month\": \"Jan\", \"temp\": 7.2}, {\"Year\": 1915, \"month\": \"Jan\", \"temp\": 5.6}, {\"Year\": 1916, \"month\": \"Jan\", \"temp\": 1.2}, {\"Year\": 1917, \"month\": \"Jan\", \"temp\": 3.8}, {\"Year\": 1918, \"month\": \"Jan\", \"temp\": 3.7}, {\"Year\": 1919, \"month\": \"Jan\", \"temp\": 4.4}, {\"Year\": 1920, \"month\": \"Jan\", \"temp\": 3.9}, {\"Year\": 1921, \"month\": \"Jan\", \"temp\": 3.8}, {\"Year\": 1922, \"month\": \"Jan\", \"temp\": 4.1}, {\"Year\": 1923, \"month\": \"Jan\", \"temp\": 0.1}, {\"Year\": 1924, \"month\": \"Jan\", \"temp\": 0.4}, {\"Year\": 1925, \"month\": \"Jan\", \"temp\": 2.0}, {\"Year\": 1926, \"month\": \"Jan\", \"temp\": 6.0}, {\"Year\": 1927, \"month\": \"Jan\", \"temp\": 4.1}, {\"Year\": 1928, \"month\": \"Jan\", \"temp\": 4.3}, {\"Year\": 1929, \"month\": \"Jan\", \"temp\": 4.9}, {\"Year\": 1930, \"month\": \"Jan\", \"temp\": 4.1}, {\"Year\": 1931, \"month\": \"Jan\", \"temp\": 5.4}, {\"Year\": 1932, \"month\": \"Jan\", \"temp\": 2.2}, {\"Year\": 1933, \"month\": \"Jan\", \"temp\": null}, {\"Year\": 1934, \"month\": \"Jan\", \"temp\": null}, {\"Year\": 1935, \"month\": \"Jan\", \"temp\": 4.7}, {\"Year\": 1936, \"month\": \"Jan\", \"temp\": 6.2}, {\"Year\": 1937, \"month\": \"Jan\", \"temp\": 4.4}, {\"Year\": 1938, \"month\": \"Jan\", \"temp\": 4.9}, {\"Year\": 1939, \"month\": \"Jan\", \"temp\": 6.7}, {\"Year\": 1940, \"month\": \"Jan\", \"temp\": 5.4}, {\"Year\": 1941, \"month\": \"Jan\", \"temp\": 5.8}, {\"Year\": 1942, \"month\": \"Jan\", \"temp\": 5.7}, {\"Year\": 1943, \"month\": \"Jan\", \"temp\": 4.9}, {\"Year\": 1944, \"month\": \"Jan\", \"temp\": 6.2}, {\"Year\": 1945, \"month\": \"Jan\", \"temp\": 6.4}, {\"Year\": 1946, \"month\": \"Jan\", \"temp\": 5.6}, {\"Year\": 1947, \"month\": \"Jan\", \"temp\": 4.4}, {\"Year\": 1948, \"month\": \"Jan\", \"temp\": 5.5}, {\"Year\": 1949, \"month\": \"Jan\", \"temp\": 3.7}, {\"Year\": 1950, \"month\": \"Jan\", \"temp\": -0.6}, {\"Year\": 1951, \"month\": \"Jan\", \"temp\": 3.1}, {\"Year\": 1952, \"month\": \"Jan\", \"temp\": 3.4}, {\"Year\": 1953, \"month\": \"Jan\", \"temp\": 4.8}, {\"Year\": 1954, \"month\": \"Jan\", \"temp\": 4.2}, {\"Year\": 1955, \"month\": \"Jan\", \"temp\": 5.6}, {\"Year\": 1956, \"month\": \"Jan\", \"temp\": 4.3}, {\"Year\": 1957, \"month\": \"Jan\", \"temp\": 3.7}, {\"Year\": 1958, \"month\": \"Jan\", \"temp\": 6.2}, {\"Year\": 1959, \"month\": \"Jan\", \"temp\": 2.8}, {\"Year\": 1960, \"month\": \"Jan\", \"temp\": 5.3}, {\"Year\": 1961, \"month\": \"Jan\", \"temp\": 5.5}, {\"Year\": 1962, \"month\": \"Jan\", \"temp\": 4.2}, {\"Year\": 1963, \"month\": \"Jan\", \"temp\": 4.2}, {\"Year\": 1964, \"month\": \"Jan\", \"temp\": 5.2}, {\"Year\": 1965, \"month\": \"Jan\", \"temp\": 4.4}, {\"Year\": 1966, \"month\": \"Jan\", \"temp\": 4.9}, {\"Year\": 1967, \"month\": \"Jan\", \"temp\": 5.4}, {\"Year\": 1968, \"month\": \"Jan\", \"temp\": 5.3}, {\"Year\": 1969, \"month\": \"Jan\", \"temp\": 3.3}, {\"Year\": 1970, \"month\": \"Jan\", \"temp\": 5.6}, {\"Year\": 1971, \"month\": \"Jan\", \"temp\": 0.9}, {\"Year\": 1972, \"month\": \"Jan\", \"temp\": 4.4}, {\"Year\": 1973, \"month\": \"Jan\", \"temp\": 4.7}, {\"Year\": 1974, \"month\": \"Jan\", \"temp\": 3.3}, {\"Year\": 1975, \"month\": \"Jan\", \"temp\": 2.9}, {\"Year\": 1976, \"month\": \"Jan\", \"temp\": 5.0}, {\"Year\": 1977, \"month\": \"Jan\", \"temp\": 5.5}, {\"Year\": 1978, \"month\": \"Jan\", \"temp\": 3.0}, {\"Year\": 1979, \"month\": \"Jan\", \"temp\": 5.9}, {\"Year\": 1980, \"month\": \"Jan\", \"temp\": 4.0}, {\"Year\": 1981, \"month\": \"Jan\", \"temp\": 6.1}, {\"Year\": 1982, \"month\": \"Jan\", \"temp\": 4.6}, {\"Year\": 1983, \"month\": \"Jan\", \"temp\": 6.7}, {\"Year\": 1984, \"month\": \"Jan\", \"temp\": null}, {\"Year\": 1985, \"month\": \"Jan\", \"temp\": null}, {\"Year\": 1986, \"month\": \"Jan\", \"temp\": null}, {\"Year\": 1987, \"month\": \"Jan\", \"temp\": 5.3}, {\"Year\": 1988, \"month\": \"Jan\", \"temp\": 6.3}, {\"Year\": 1989, \"month\": \"Jan\", \"temp\": 5.2}, {\"Year\": 1990, \"month\": \"Jan\", \"temp\": 6.0}, {\"Year\": 1991, \"month\": \"Jan\", \"temp\": 3.0}, {\"Year\": 1992, \"month\": \"Jan\", \"temp\": 5.2}, {\"Year\": 1993, \"month\": \"Jan\", \"temp\": 5.7}, {\"Year\": 1994, \"month\": \"Jan\", \"temp\": 6.2}, {\"Year\": 1995, \"month\": \"Jan\", \"temp\": 4.5}, {\"Year\": 1996, \"month\": \"Jan\", \"temp\": 0.5}, {\"Year\": 1997, \"month\": \"Jan\", \"temp\": 4.2}, {\"Year\": 1998, \"month\": \"Jan\", \"temp\": 4.3}, {\"Year\": 1999, \"month\": \"Jan\", \"temp\": 4.9}, {\"Year\": 2000, \"month\": \"Jan\", \"temp\": 5.4}, {\"Year\": 2001, \"month\": \"Jan\", \"temp\": 5.5}, {\"Year\": 2002, \"month\": \"Jan\", \"temp\": 4.8}, {\"Year\": 2003, \"month\": \"Jan\", \"temp\": 5.7}, {\"Year\": 2004, \"month\": \"Jan\", \"temp\": 4.5}, {\"Year\": 2005, \"month\": \"Jan\", \"temp\": 5.2}, {\"Year\": 2006, \"month\": \"Jan\", \"temp\": 7.0}, {\"Year\": 2007, \"month\": \"Jan\", \"temp\": 6.0}, {\"Year\": 2008, \"month\": \"Jan\", \"temp\": 5.1}, {\"Year\": 2009, \"month\": \"Jan\", \"temp\": 4.5}, {\"Year\": 2010, \"month\": \"Jan\", \"temp\": 5.5}, {\"Year\": 2011, \"month\": \"Jan\", \"temp\": 4.5}, {\"Year\": 2012, \"month\": \"Jan\", \"temp\": 4.5}, {\"Year\": 2013, \"month\": \"Jan\", \"temp\": 4.7}, {\"Year\": 2014, \"month\": \"Jan\", \"temp\": 4.4}, {\"Year\": 2015, \"month\": \"Jan\", \"temp\": 6.3}, {\"Year\": 2016, \"month\": \"Jan\", \"temp\": 6.0}, {\"Year\": 2017, \"month\": \"Jan\", \"temp\": 5.6}, {\"Year\": 2018, \"month\": \"Jan\", \"temp\": 6.2}, {\"Year\": 1914, \"month\": \"Feb\", \"temp\": null}, {\"Year\": 1915, \"month\": \"Feb\", \"temp\": 6.6}, {\"Year\": 1916, \"month\": \"Feb\", \"temp\": 0.1}, {\"Year\": 1917, \"month\": \"Feb\", \"temp\": 2.8}, {\"Year\": 1918, \"month\": \"Feb\", \"temp\": 3.9}, {\"Year\": 1919, \"month\": \"Feb\", \"temp\": 2.5}, {\"Year\": 1920, \"month\": \"Feb\", \"temp\": 3.8}, {\"Year\": 1921, \"month\": \"Feb\", \"temp\": 1.1}, {\"Year\": 1922, \"month\": \"Feb\", \"temp\": 3.8}, {\"Year\": 1923, \"month\": \"Feb\", \"temp\": 2.7}, {\"Year\": 1924, \"month\": \"Feb\", \"temp\": 6.0}, {\"Year\": 1925, \"month\": \"Feb\", \"temp\": 4.1}, {\"Year\": 1926, \"month\": \"Feb\", \"temp\": 7.5}, {\"Year\": 1927, \"month\": \"Feb\", \"temp\": 5.0}, {\"Year\": 1928, \"month\": \"Feb\", \"temp\": 5.0}, {\"Year\": 1929, \"month\": \"Feb\", \"temp\": 5.8}, {\"Year\": 1930, \"month\": \"Feb\", \"temp\": 4.1}, {\"Year\": 1931, \"month\": \"Feb\", \"temp\": 5.4}, {\"Year\": 1932, \"month\": \"Feb\", \"temp\": 4.4}, {\"Year\": 1933, \"month\": \"Feb\", \"temp\": null}, {\"Year\": 1934, \"month\": \"Feb\", \"temp\": null}, {\"Year\": 1935, \"month\": \"Feb\", \"temp\": 5.1}, {\"Year\": 1936, \"month\": \"Feb\", \"temp\": 4.2}, {\"Year\": 1937, \"month\": \"Feb\", \"temp\": 5.4}, {\"Year\": 1938, \"month\": \"Feb\", \"temp\": 5.5}, {\"Year\": 1939, \"month\": \"Feb\", \"temp\": 3.3}, {\"Year\": 1940, \"month\": \"Feb\", \"temp\": 6.1}, {\"Year\": 1941, \"month\": \"Feb\", \"temp\": 6.8}, {\"Year\": 1942, \"month\": \"Feb\", \"temp\": 6.6}, {\"Year\": 1943, \"month\": \"Feb\", \"temp\": 4.9}, {\"Year\": 1944, \"month\": \"Feb\", \"temp\": 6.5}, {\"Year\": 1945, \"month\": \"Feb\", \"temp\": 6.1}, {\"Year\": 1946, \"month\": \"Feb\", \"temp\": 5.9}, {\"Year\": 1947, \"month\": \"Feb\", \"temp\": 4.6}, {\"Year\": 1948, \"month\": \"Feb\", \"temp\": 5.0}, {\"Year\": 1949, \"month\": \"Feb\", \"temp\": 4.8}, {\"Year\": 1950, \"month\": \"Feb\", \"temp\": -0.1}, {\"Year\": 1951, \"month\": \"Feb\", \"temp\": 3.3}, {\"Year\": 1952, \"month\": \"Feb\", \"temp\": 4.2}, {\"Year\": 1953, \"month\": \"Feb\", \"temp\": 6.1}, {\"Year\": 1954, \"month\": \"Feb\", \"temp\": 4.2}, {\"Year\": 1955, \"month\": \"Feb\", \"temp\": 5.2}, {\"Year\": 1956, \"month\": \"Feb\", \"temp\": 3.7}, {\"Year\": 1957, \"month\": \"Feb\", \"temp\": 4.2}, {\"Year\": 1958, \"month\": \"Feb\", \"temp\": 6.5}, {\"Year\": 1959, \"month\": \"Feb\", \"temp\": 4.9}, {\"Year\": 1960, \"month\": \"Feb\", \"temp\": 4.9}, {\"Year\": 1961, \"month\": \"Feb\", \"temp\": 5.7}, {\"Year\": 1962, \"month\": \"Feb\", \"temp\": 5.4}, {\"Year\": 1963, \"month\": \"Feb\", \"temp\": 4.4}, {\"Year\": 1964, \"month\": \"Feb\", \"temp\": 5.8}, {\"Year\": 1965, \"month\": \"Feb\", \"temp\": 4.3}, {\"Year\": 1966, \"month\": \"Feb\", \"temp\": 5.6}, {\"Year\": 1967, \"month\": \"Feb\", \"temp\": 5.4}, {\"Year\": 1968, \"month\": \"Feb\", \"temp\": 4.4}, {\"Year\": 1969, \"month\": \"Feb\", \"temp\": 4.1}, {\"Year\": 1970, \"month\": \"Feb\", \"temp\": 6.6}, {\"Year\": 1971, \"month\": \"Feb\", \"temp\": 1.1}, {\"Year\": 1972, \"month\": \"Feb\", \"temp\": 4.7}, {\"Year\": 1973, \"month\": \"Feb\", \"temp\": 2.2}, {\"Year\": 1974, \"month\": \"Feb\", \"temp\": 5.0}, {\"Year\": 1975, \"month\": \"Feb\", \"temp\": 2.9}, {\"Year\": 1976, \"month\": \"Feb\", \"temp\": 3.0}, {\"Year\": 1977, \"month\": \"Feb\", \"temp\": 7.0}, {\"Year\": 1978, \"month\": \"Feb\", \"temp\": 4.9}, {\"Year\": 1979, \"month\": \"Feb\", \"temp\": 4.8}, {\"Year\": 1980, \"month\": \"Feb\", \"temp\": 5.0}, {\"Year\": 1981, \"month\": \"Feb\", \"temp\": 5.0}, {\"Year\": 1982, \"month\": \"Feb\", \"temp\": 5.3}, {\"Year\": 1983, \"month\": \"Feb\", \"temp\": 6.5}, {\"Year\": 1984, \"month\": \"Feb\", \"temp\": null}, {\"Year\": 1985, \"month\": \"Feb\", \"temp\": null}, {\"Year\": 1986, \"month\": \"Feb\", \"temp\": null}, {\"Year\": 1987, \"month\": \"Feb\", \"temp\": 6.0}, {\"Year\": 1988, \"month\": \"Feb\", \"temp\": 6.0}, {\"Year\": 1989, \"month\": \"Feb\", \"temp\": 0.7}, {\"Year\": 1990, \"month\": \"Feb\", \"temp\": 4.3}, {\"Year\": 1991, \"month\": \"Feb\", \"temp\": 6.2}, {\"Year\": 1992, \"month\": \"Feb\", \"temp\": 6.2}, {\"Year\": 1993, \"month\": \"Feb\", \"temp\": 6.3}, {\"Year\": 1994, \"month\": \"Feb\", \"temp\": 5.5}, {\"Year\": 1995, \"month\": \"Feb\", \"temp\": 5.2}, {\"Year\": 1996, \"month\": \"Feb\", \"temp\": 2.5}, {\"Year\": 1997, \"month\": \"Feb\", \"temp\": 4.9}, {\"Year\": 1998, \"month\": \"Feb\", \"temp\": 6.4}, {\"Year\": 1999, \"month\": \"Feb\", \"temp\": 5.5}, {\"Year\": 2000, \"month\": \"Feb\", \"temp\": 5.7}, {\"Year\": 2001, \"month\": \"Feb\", \"temp\": 4.9}, {\"Year\": 2002, \"month\": \"Feb\", \"temp\": 5.3}, {\"Year\": 2003, \"month\": \"Feb\", \"temp\": 6.7}, {\"Year\": 2004, \"month\": \"Feb\", \"temp\": 6.1}, {\"Year\": 2005, \"month\": \"Feb\", \"temp\": 6.0}, {\"Year\": 2006, \"month\": \"Feb\", \"temp\": 5.8}, {\"Year\": 2007, \"month\": \"Feb\", \"temp\": 6.2}, {\"Year\": 2008, \"month\": \"Feb\", \"temp\": 5.8}, {\"Year\": 2009, \"month\": \"Feb\", \"temp\": 5.1}, {\"Year\": 2010, \"month\": \"Feb\", \"temp\": 6.8}, {\"Year\": 2011, \"month\": \"Feb\", \"temp\": 4.8}, {\"Year\": 2012, \"month\": \"Feb\", \"temp\": 4.8}, {\"Year\": 2013, \"month\": \"Feb\", \"temp\": 6.2}, {\"Year\": 2014, \"month\": \"Feb\", \"temp\": 3.1}, {\"Year\": 2015, \"month\": \"Feb\", \"temp\": 8.0}, {\"Year\": 2016, \"month\": \"Feb\", \"temp\": 7.1}, {\"Year\": 2017, \"month\": \"Feb\", \"temp\": 4.8}, {\"Year\": 2018, \"month\": \"Feb\", \"temp\": 6.0}, {\"Year\": 1914, \"month\": \"Mar\", \"temp\": null}, {\"Year\": 1915, \"month\": \"Mar\", \"temp\": 7.5}, {\"Year\": 1916, \"month\": \"Mar\", \"temp\": 3.5}, {\"Year\": 1917, \"month\": \"Mar\", \"temp\": 4.4}, {\"Year\": 1918, \"month\": \"Mar\", \"temp\": 4.6}, {\"Year\": 1919, \"month\": \"Mar\", \"temp\": 5.0}, {\"Year\": 1920, \"month\": \"Mar\", \"temp\": 6.1}, {\"Year\": 1921, \"month\": \"Mar\", \"temp\": 6.0}, {\"Year\": 1922, \"month\": \"Mar\", \"temp\": 5.8}, {\"Year\": 1923, \"month\": \"Mar\", \"temp\": 4.1}, {\"Year\": 1924, \"month\": \"Mar\", \"temp\": 7.0}, {\"Year\": 1925, \"month\": \"Mar\", \"temp\": 6.3}, {\"Year\": 1926, \"month\": \"Mar\", \"temp\": 8.0}, {\"Year\": 1927, \"month\": \"Mar\", \"temp\": 6.0}, {\"Year\": 1928, \"month\": \"Mar\", \"temp\": 5.9}, {\"Year\": 1929, \"month\": \"Mar\", \"temp\": 6.2}, {\"Year\": 1930, \"month\": \"Mar\", \"temp\": 5.0}, {\"Year\": 1931, \"month\": \"Mar\", \"temp\": 6.5}, {\"Year\": 1932, \"month\": \"Mar\", \"temp\": 4.8}, {\"Year\": 1933, \"month\": \"Mar\", \"temp\": null}, {\"Year\": 1934, \"month\": \"Mar\", \"temp\": null}, {\"Year\": 1935, \"month\": \"Mar\", \"temp\": 6.2}, {\"Year\": 1936, \"month\": \"Mar\", \"temp\": 6.1}, {\"Year\": 1937, \"month\": \"Mar\", \"temp\": 6.2}, {\"Year\": 1938, \"month\": \"Mar\", \"temp\": 7.2}, {\"Year\": 1939, \"month\": \"Mar\", \"temp\": 5.6}, {\"Year\": 1940, \"month\": \"Mar\", \"temp\": 7.2}, {\"Year\": 1941, \"month\": \"Mar\", \"temp\": 7.5}, {\"Year\": 1942, \"month\": \"Mar\", \"temp\": 7.5}, {\"Year\": 1943, \"month\": \"Mar\", \"temp\": 6.4}, {\"Year\": 1944, \"month\": \"Mar\", \"temp\": 6.9}, {\"Year\": 1945, \"month\": \"Mar\", \"temp\": 6.5}, {\"Year\": 1946, \"month\": \"Mar\", \"temp\": 6.6}, {\"Year\": 1947, \"month\": \"Mar\", \"temp\": 6.0}, {\"Year\": 1948, \"month\": \"Mar\", \"temp\": 6.4}, {\"Year\": 1949, \"month\": \"Mar\", \"temp\": 6.3}, {\"Year\": 1950, \"month\": \"Mar\", \"temp\": 5.3}, {\"Year\": 1951, \"month\": \"Mar\", \"temp\": 3.4}, {\"Year\": 1952, \"month\": \"Mar\", \"temp\": 5.7}, {\"Year\": 1953, \"month\": \"Mar\", \"temp\": 5.8}, {\"Year\": 1954, \"month\": \"Mar\", \"temp\": 6.0}, {\"Year\": 1955, \"month\": \"Mar\", \"temp\": 5.5}, {\"Year\": 1956, \"month\": \"Mar\", \"temp\": 4.8}, {\"Year\": 1957, \"month\": \"Mar\", \"temp\": 5.9}, {\"Year\": 1958, \"month\": \"Mar\", \"temp\": 6.9}, {\"Year\": 1959, \"month\": \"Mar\", \"temp\": 6.5}, {\"Year\": 1960, \"month\": \"Mar\", \"temp\": 5.3}, {\"Year\": 1961, \"month\": \"Mar\", \"temp\": 4.8}, {\"Year\": 1962, \"month\": \"Mar\", \"temp\": 4.4}, {\"Year\": 1963, \"month\": \"Mar\", \"temp\": 6.8}, {\"Year\": 1964, \"month\": \"Mar\", \"temp\": 5.6}, {\"Year\": 1965, \"month\": \"Mar\", \"temp\": 6.1}, {\"Year\": 1966, \"month\": \"Mar\", \"temp\": 5.4}, {\"Year\": 1967, \"month\": \"Mar\", \"temp\": 6.6}, {\"Year\": 1968, \"month\": \"Mar\", \"temp\": 6.9}, {\"Year\": 1969, \"month\": \"Mar\", \"temp\": 4.9}, {\"Year\": 1970, \"month\": \"Mar\", \"temp\": 7.2}, {\"Year\": 1971, \"month\": \"Mar\", \"temp\": 0.0}, {\"Year\": 1972, \"month\": \"Mar\", \"temp\": 4.4}, {\"Year\": 1973, \"month\": \"Mar\", \"temp\": 6.1}, {\"Year\": 1974, \"month\": \"Mar\", \"temp\": 5.3}, {\"Year\": 1975, \"month\": \"Mar\", \"temp\": 5.6}, {\"Year\": 1976, \"month\": \"Mar\", \"temp\": 4.2}, {\"Year\": 1977, \"month\": \"Mar\", \"temp\": 6.0}, {\"Year\": 1978, \"month\": \"Mar\", \"temp\": 7.0}, {\"Year\": 1979, \"month\": \"Mar\", \"temp\": 5.9}, {\"Year\": 1980, \"month\": \"Mar\", \"temp\": 6.7}, {\"Year\": 1981, \"month\": \"Mar\", \"temp\": 8.5}, {\"Year\": 1982, \"month\": \"Mar\", \"temp\": 6.7}, {\"Year\": 1983, \"month\": \"Mar\", \"temp\": 7.7}, {\"Year\": 1984, \"month\": \"Mar\", \"temp\": null}, {\"Year\": 1985, \"month\": \"Mar\", \"temp\": null}, {\"Year\": 1986, \"month\": \"Mar\", \"temp\": null}, {\"Year\": 1987, \"month\": \"Mar\", \"temp\": 5.5}, {\"Year\": 1988, \"month\": \"Mar\", \"temp\": 7.0}, {\"Year\": 1989, \"month\": \"Mar\", \"temp\": 5.5}, {\"Year\": 1990, \"month\": \"Mar\", \"temp\": 6.5}, {\"Year\": 1991, \"month\": \"Mar\", \"temp\": 6.1}, {\"Year\": 1992, \"month\": \"Mar\", \"temp\": 8.2}, {\"Year\": 1993, \"month\": \"Mar\", \"temp\": 6.9}, {\"Year\": 1994, \"month\": \"Mar\", \"temp\": 7.3}, {\"Year\": 1995, \"month\": \"Mar\", \"temp\": 6.3}, {\"Year\": 1996, \"month\": \"Mar\", \"temp\": 5.9}, {\"Year\": 1997, \"month\": \"Mar\", \"temp\": 6.1}, {\"Year\": 1998, \"month\": \"Mar\", \"temp\": 6.8}, {\"Year\": 1999, \"month\": \"Mar\", \"temp\": 5.7}, {\"Year\": 2000, \"month\": \"Mar\", \"temp\": 6.3}, {\"Year\": 2001, \"month\": \"Mar\", \"temp\": 6.4}, {\"Year\": 2002, \"month\": \"Mar\", \"temp\": 5.1}, {\"Year\": 2003, \"month\": \"Mar\", \"temp\": 6.4}, {\"Year\": 2004, \"month\": \"Mar\", \"temp\": 7.1}, {\"Year\": 2005, \"month\": \"Mar\", \"temp\": 6.9}, {\"Year\": 2006, \"month\": \"Mar\", \"temp\": 6.7}, {\"Year\": 2007, \"month\": \"Mar\", \"temp\": 7.3}, {\"Year\": 2008, \"month\": \"Mar\", \"temp\": 6.7}, {\"Year\": 2009, \"month\": \"Mar\", \"temp\": 5.2}, {\"Year\": 2010, \"month\": \"Mar\", \"temp\": 7.1}, {\"Year\": 2011, \"month\": \"Mar\", \"temp\": 5.2}, {\"Year\": 2012, \"month\": \"Mar\", \"temp\": 5.2}, {\"Year\": 2013, \"month\": \"Mar\", \"temp\": 6.2}, {\"Year\": 2014, \"month\": \"Mar\", \"temp\": 3.7}, {\"Year\": 2015, \"month\": \"Mar\", \"temp\": 8.0}, {\"Year\": 2016, \"month\": \"Mar\", \"temp\": 8.4}, {\"Year\": 2017, \"month\": \"Mar\", \"temp\": 7.1}, {\"Year\": 2018, \"month\": \"Mar\", \"temp\": 7.1}, {\"Year\": 1914, \"month\": \"Apr\", \"temp\": null}, {\"Year\": 1915, \"month\": \"Apr\", \"temp\": 9.0}, {\"Year\": 1916, \"month\": \"Apr\", \"temp\": 6.5}, {\"Year\": 1917, \"month\": \"Apr\", \"temp\": 5.4}, {\"Year\": 1918, \"month\": \"Apr\", \"temp\": 6.0}, {\"Year\": 1919, \"month\": \"Apr\", \"temp\": 7.2}, {\"Year\": 1920, \"month\": \"Apr\", \"temp\": 6.9}, {\"Year\": 1921, \"month\": \"Apr\", \"temp\": 7.8}, {\"Year\": 1922, \"month\": \"Apr\", \"temp\": 6.5}, {\"Year\": 1923, \"month\": \"Apr\", \"temp\": 7.8}, {\"Year\": 1924, \"month\": \"Apr\", \"temp\": 8.0}, {\"Year\": 1925, \"month\": \"Apr\", \"temp\": 7.5}, {\"Year\": 1926, \"month\": \"Apr\", \"temp\": 8.9}, {\"Year\": 1927, \"month\": \"Apr\", \"temp\": 6.8}, {\"Year\": 1928, \"month\": \"Apr\", \"temp\": 7.9}, {\"Year\": 1929, \"month\": \"Apr\", \"temp\": 7.0}, {\"Year\": 1930, \"month\": \"Apr\", \"temp\": 8.0}, {\"Year\": 1931, \"month\": \"Apr\", \"temp\": 8.6}, {\"Year\": 1932, \"month\": \"Apr\", \"temp\": 7.4}, {\"Year\": 1933, \"month\": \"Apr\", \"temp\": null}, {\"Year\": 1934, \"month\": \"Apr\", \"temp\": null}, {\"Year\": 1935, \"month\": \"Apr\", \"temp\": 8.1}, {\"Year\": 1936, \"month\": \"Apr\", \"temp\": 6.4}, {\"Year\": 1937, \"month\": \"Apr\", \"temp\": 7.2}, {\"Year\": 1938, \"month\": \"Apr\", \"temp\": 8.3}, {\"Year\": 1939, \"month\": \"Apr\", \"temp\": 7.8}, {\"Year\": 1940, \"month\": \"Apr\", \"temp\": 9.4}, {\"Year\": 1941, \"month\": \"Apr\", \"temp\": 9.1}, {\"Year\": 1942, \"month\": \"Apr\", \"temp\": 9.4}, {\"Year\": 1943, \"month\": \"Apr\", \"temp\": 7.9}, {\"Year\": 1944, \"month\": \"Apr\", \"temp\": 7.9}, {\"Year\": 1945, \"month\": \"Apr\", \"temp\": 7.5}, {\"Year\": 1946, \"month\": \"Apr\", \"temp\": 7.8}, {\"Year\": 1947, \"month\": \"Apr\", \"temp\": 7.5}, {\"Year\": 1948, \"month\": \"Apr\", \"temp\": 6.5}, {\"Year\": 1949, \"month\": \"Apr\", \"temp\": 7.3}, {\"Year\": 1950, \"month\": \"Apr\", \"temp\": 6.6}, {\"Year\": 1951, \"month\": \"Apr\", \"temp\": 7.7}, {\"Year\": 1952, \"month\": \"Apr\", \"temp\": 6.6}, {\"Year\": 1953, \"month\": \"Apr\", \"temp\": 7.3}, {\"Year\": 1954, \"month\": \"Apr\", \"temp\": 5.7}, {\"Year\": 1955, \"month\": \"Apr\", \"temp\": 7.1}, {\"Year\": 1956, \"month\": \"Apr\", \"temp\": 7.1}, {\"Year\": 1957, \"month\": \"Apr\", \"temp\": 7.4}, {\"Year\": 1958, \"month\": \"Apr\", \"temp\": 7.4}, {\"Year\": 1959, \"month\": \"Apr\", \"temp\": 8.0}, {\"Year\": 1960, \"month\": \"Apr\", \"temp\": 7.5}, {\"Year\": 1961, \"month\": \"Apr\", \"temp\": 7.8}, {\"Year\": 1962, \"month\": \"Apr\", \"temp\": 7.6}, {\"Year\": 1963, \"month\": \"Apr\", \"temp\": 7.6}, {\"Year\": 1964, \"month\": \"Apr\", \"temp\": 7.4}, {\"Year\": 1965, \"month\": \"Apr\", \"temp\": 7.1}, {\"Year\": 1966, \"month\": \"Apr\", \"temp\": null}, {\"Year\": 1967, \"month\": \"Apr\", \"temp\": 7.6}, {\"Year\": 1968, \"month\": \"Apr\", \"temp\": 7.6}, {\"Year\": 1969, \"month\": \"Apr\", \"temp\": 5.9}, {\"Year\": 1970, \"month\": \"Apr\", \"temp\": 8.0}, {\"Year\": 1971, \"month\": \"Apr\", \"temp\": 7.2}, {\"Year\": 1972, \"month\": \"Apr\", \"temp\": 6.1}, {\"Year\": 1973, \"month\": \"Apr\", \"temp\": 7.0}, {\"Year\": 1974, \"month\": \"Apr\", \"temp\": 6.7}, {\"Year\": 1975, \"month\": \"Apr\", \"temp\": 6.8}, {\"Year\": 1976, \"month\": \"Apr\", \"temp\": 7.0}, {\"Year\": 1977, \"month\": \"Apr\", \"temp\": 8.0}, {\"Year\": 1978, \"month\": \"Apr\", \"temp\": 8.7}, {\"Year\": 1979, \"month\": \"Apr\", \"temp\": 8.2}, {\"Year\": 1980, \"month\": \"Apr\", \"temp\": 8.0}, {\"Year\": 1981, \"month\": \"Apr\", \"temp\": 9.0}, {\"Year\": 1982, \"month\": \"Apr\", \"temp\": 7.0}, {\"Year\": 1983, \"month\": \"Apr\", \"temp\": null}, {\"Year\": 1984, \"month\": \"Apr\", \"temp\": null}, {\"Year\": 1985, \"month\": \"Apr\", \"temp\": null}, {\"Year\": 1986, \"month\": \"Apr\", \"temp\": null}, {\"Year\": 1987, \"month\": \"Apr\", \"temp\": 8.6}, {\"Year\": 1988, \"month\": \"Apr\", \"temp\": 7.0}, {\"Year\": 1989, \"month\": \"Apr\", \"temp\": 7.7}, {\"Year\": 1990, \"month\": \"Apr\", \"temp\": 9.2}, {\"Year\": 1991, \"month\": \"Apr\", \"temp\": 7.7}, {\"Year\": 1992, \"month\": \"Apr\", \"temp\": 8.8}, {\"Year\": 1993, \"month\": \"Apr\", \"temp\": 8.4}, {\"Year\": 1994, \"month\": \"Apr\", \"temp\": 8.2}, {\"Year\": 1995, \"month\": \"Apr\", \"temp\": 8.0}, {\"Year\": 1996, \"month\": \"Apr\", \"temp\": 7.5}, {\"Year\": 1997, \"month\": \"Apr\", \"temp\": 7.7}, {\"Year\": 1998, \"month\": \"Apr\", \"temp\": 8.3}, {\"Year\": 1999, \"month\": \"Apr\", \"temp\": 6.5}, {\"Year\": 2000, \"month\": \"Apr\", \"temp\": 8.7}, {\"Year\": 2001, \"month\": \"Apr\", \"temp\": 8.0}, {\"Year\": 2002, \"month\": \"Apr\", \"temp\": 7.2}, {\"Year\": 2003, \"month\": \"Apr\", \"temp\": 7.7}, {\"Year\": 2004, \"month\": \"Apr\", \"temp\": 9.1}, {\"Year\": 2005, \"month\": \"Apr\", \"temp\": 7.8}, {\"Year\": 2006, \"month\": \"Apr\", \"temp\": 8.2}, {\"Year\": 2007, \"month\": \"Apr\", \"temp\": 7.3}, {\"Year\": 2008, \"month\": \"Apr\", \"temp\": 6.3}, {\"Year\": 2009, \"month\": \"Apr\", \"temp\": 6.7}, {\"Year\": 2010, \"month\": \"Apr\", \"temp\": 7.3}, {\"Year\": 2011, \"month\": \"Apr\", \"temp\": 7.1}, {\"Year\": 2012, \"month\": \"Apr\", \"temp\": 6.5}, {\"Year\": 2013, \"month\": \"Apr\", \"temp\": 8.1}, {\"Year\": 2014, \"month\": \"Apr\", \"temp\": 7.7}, {\"Year\": 2015, \"month\": \"Apr\", \"temp\": 8.9}, {\"Year\": 2016, \"month\": \"Apr\", \"temp\": 9.8}, {\"Year\": 2017, \"month\": \"Apr\", \"temp\": 7.9}, {\"Year\": 2018, \"month\": \"Apr\", \"temp\": 8.2}, {\"Year\": 1914, \"month\": \"May\", \"temp\": null}, {\"Year\": 1915, \"month\": \"May\", \"temp\": 9.9}, {\"Year\": 1916, \"month\": \"May\", \"temp\": 8.0}, {\"Year\": 1917, \"month\": \"May\", \"temp\": 8.3}, {\"Year\": 1918, \"month\": \"May\", \"temp\": 9.3}, {\"Year\": 1919, \"month\": \"May\", \"temp\": 10.0}, {\"Year\": 1920, \"month\": \"May\", \"temp\": 10.2}, {\"Year\": 1921, \"month\": \"May\", \"temp\": 9.4}, {\"Year\": 1922, \"month\": \"May\", \"temp\": 7.5}, {\"Year\": 1923, \"month\": \"May\", \"temp\": 10.5}, {\"Year\": 1924, \"month\": \"May\", \"temp\": 9.4}, {\"Year\": 1925, \"month\": \"May\", \"temp\": 11.0}, {\"Year\": 1926, \"month\": \"May\", \"temp\": 9.8}, {\"Year\": 1927, \"month\": \"May\", \"temp\": 8.4}, {\"Year\": 1928, \"month\": \"May\", \"temp\": 9.1}, {\"Year\": 1929, \"month\": \"May\", \"temp\": null}, {\"Year\": 1930, \"month\": \"May\", \"temp\": 10.5}, {\"Year\": 1931, \"month\": \"May\", \"temp\": 12.7}, {\"Year\": 1932, \"month\": \"May\", \"temp\": 10.3}, {\"Year\": 1933, \"month\": \"May\", \"temp\": null}, {\"Year\": 1934, \"month\": \"May\", \"temp\": null}, {\"Year\": 1935, \"month\": \"May\", \"temp\": 9.4}, {\"Year\": 1936, \"month\": \"May\", \"temp\": 9.8}, {\"Year\": 1937, \"month\": \"May\", \"temp\": 8.0}, {\"Year\": 1938, \"month\": \"May\", \"temp\": 10.0}, {\"Year\": 1939, \"month\": \"May\", \"temp\": 11.0}, {\"Year\": 1940, \"month\": \"May\", \"temp\": 11.0}, {\"Year\": 1941, \"month\": \"May\", \"temp\": 10.8}, {\"Year\": 1942, \"month\": \"May\", \"temp\": 10.5}, {\"Year\": 1943, \"month\": \"May\", \"temp\": 9.7}, {\"Year\": 1944, \"month\": \"May\", \"temp\": 10.5}, {\"Year\": 1945, \"month\": \"May\", \"temp\": 10.0}, {\"Year\": 1946, \"month\": \"May\", \"temp\": 10.2}, {\"Year\": 1947, \"month\": \"May\", \"temp\": 9.4}, {\"Year\": 1948, \"month\": \"May\", \"temp\": 9.3}, {\"Year\": 1949, \"month\": \"May\", \"temp\": 8.5}, {\"Year\": 1950, \"month\": \"May\", \"temp\": 8.4}, {\"Year\": 1951, \"month\": \"May\", \"temp\": 10.1}, {\"Year\": 1952, \"month\": \"May\", \"temp\": 7.8}, {\"Year\": 1953, \"month\": \"May\", \"temp\": 9.6}, {\"Year\": 1954, \"month\": \"May\", \"temp\": 8.8}, {\"Year\": 1955, \"month\": \"May\", \"temp\": 9.7}, {\"Year\": 1956, \"month\": \"May\", \"temp\": 10.8}, {\"Year\": 1957, \"month\": \"May\", \"temp\": 10.9}, {\"Year\": 1958, \"month\": \"May\", \"temp\": 11.0}, {\"Year\": 1959, \"month\": \"May\", \"temp\": 9.3}, {\"Year\": 1960, \"month\": \"May\", \"temp\": 10.1}, {\"Year\": 1961, \"month\": \"May\", \"temp\": 9.1}, {\"Year\": 1962, \"month\": \"May\", \"temp\": 8.6}, {\"Year\": 1963, \"month\": \"May\", \"temp\": 9.5}, {\"Year\": 1964, \"month\": \"May\", \"temp\": 8.8}, {\"Year\": 1965, \"month\": \"May\", \"temp\": 8.6}, {\"Year\": 1966, \"month\": \"May\", \"temp\": null}, {\"Year\": 1967, \"month\": \"May\", \"temp\": 9.8}, {\"Year\": 1968, \"month\": \"May\", \"temp\": 9.9}, {\"Year\": 1969, \"month\": \"May\", \"temp\": 9.4}, {\"Year\": 1970, \"month\": \"May\", \"temp\": 9.4}, {\"Year\": 1971, \"month\": \"May\", \"temp\": 8.6}, {\"Year\": 1972, \"month\": \"May\", \"temp\": 8.4}, {\"Year\": 1973, \"month\": \"May\", \"temp\": 8.9}, {\"Year\": 1974, \"month\": \"May\", \"temp\": 10.0}, {\"Year\": 1975, \"month\": \"May\", \"temp\": 9.4}, {\"Year\": 1976, \"month\": \"May\", \"temp\": 8.6}, {\"Year\": 1977, \"month\": \"May\", \"temp\": 9.5}, {\"Year\": 1978, \"month\": \"May\", \"temp\": 10.1}, {\"Year\": 1979, \"month\": \"May\", \"temp\": 11.0}, {\"Year\": 1980, \"month\": \"May\", \"temp\": 10.6}, {\"Year\": 1981, \"month\": \"May\", \"temp\": null}, {\"Year\": 1982, \"month\": \"May\", \"temp\": 9.0}, {\"Year\": 1983, \"month\": \"May\", \"temp\": null}, {\"Year\": 1984, \"month\": \"May\", \"temp\": null}, {\"Year\": 1985, \"month\": \"May\", \"temp\": null}, {\"Year\": 1986, \"month\": \"May\", \"temp\": null}, {\"Year\": 1987, \"month\": \"May\", \"temp\": 9.4}, {\"Year\": 1988, \"month\": \"May\", \"temp\": 8.7}, {\"Year\": 1989, \"month\": \"May\", \"temp\": 11.0}, {\"Year\": 1990, \"month\": \"May\", \"temp\": 11.2}, {\"Year\": 1991, \"month\": \"May\", \"temp\": 9.8}, {\"Year\": 1992, \"month\": \"May\", \"temp\": 11.2}, {\"Year\": 1993, \"month\": \"May\", \"temp\": 9.5}, {\"Year\": 1994, \"month\": \"May\", \"temp\": 10.9}, {\"Year\": 1995, \"month\": \"May\", \"temp\": 10.7}, {\"Year\": 1996, \"month\": \"May\", \"temp\": 9.6}, {\"Year\": 1997, \"month\": \"May\", \"temp\": 9.3}, {\"Year\": 1998, \"month\": \"May\", \"temp\": 10.4}, {\"Year\": 1999, \"month\": \"May\", \"temp\": 9.2}, {\"Year\": 2000, \"month\": \"May\", \"temp\": 9.4}, {\"Year\": 2001, \"month\": \"May\", \"temp\": 9.4}, {\"Year\": 2002, \"month\": \"May\", \"temp\": 9.4}, {\"Year\": 2003, \"month\": \"May\", \"temp\": 10.6}, {\"Year\": 2004, \"month\": \"May\", \"temp\": 12.0}, {\"Year\": 2005, \"month\": \"May\", \"temp\": 10.5}, {\"Year\": 2006, \"month\": \"May\", \"temp\": 9.4}, {\"Year\": 2007, \"month\": \"May\", \"temp\": 10.0}, {\"Year\": 2008, \"month\": \"May\", \"temp\": 9.7}, {\"Year\": 2009, \"month\": \"May\", \"temp\": 9.3}, {\"Year\": 2010, \"month\": \"May\", \"temp\": 9.7}, {\"Year\": 2011, \"month\": \"May\", \"temp\": 8.5}, {\"Year\": 2012, \"month\": \"May\", \"temp\": 9.6}, {\"Year\": 2013, \"month\": \"May\", \"temp\": 10.3}, {\"Year\": 2014, \"month\": \"May\", \"temp\": 10.1}, {\"Year\": 2015, \"month\": \"May\", \"temp\": 11.0}, {\"Year\": 2016, \"month\": \"May\", \"temp\": 13.0}, {\"Year\": 2017, \"month\": \"May\", \"temp\": 10.5}, {\"Year\": 2018, \"month\": \"May\", \"temp\": null}, {\"Year\": 1914, \"month\": \"Jun\", \"temp\": null}, {\"Year\": 1915, \"month\": \"Jun\", \"temp\": 12.5}, {\"Year\": 1916, \"month\": \"Jun\", \"temp\": 12.0}, {\"Year\": 1917, \"month\": \"Jun\", \"temp\": 11.0}, {\"Year\": 1918, \"month\": \"Jun\", \"temp\": 11.2}, {\"Year\": 1919, \"month\": \"Jun\", \"temp\": 12.2}, {\"Year\": 1920, \"month\": \"Jun\", \"temp\": 11.9}, {\"Year\": 1921, \"month\": \"Jun\", \"temp\": 12.4}, {\"Year\": 1922, \"month\": \"Jun\", \"temp\": 13.3}, {\"Year\": 1923, \"month\": \"Jun\", \"temp\": 12.5}, {\"Year\": 1924, \"month\": \"Jun\", \"temp\": 14.5}, {\"Year\": 1925, \"month\": \"Jun\", \"temp\": 14.0}, {\"Year\": 1926, \"month\": \"Jun\", \"temp\": 13.2}, {\"Year\": 1927, \"month\": \"Jun\", \"temp\": 13.5}, {\"Year\": 1928, \"month\": \"Jun\", \"temp\": 14.0}, {\"Year\": 1929, \"month\": \"Jun\", \"temp\": 11.0}, {\"Year\": 1930, \"month\": \"Jun\", \"temp\": 12.0}, {\"Year\": 1931, \"month\": \"Jun\", \"temp\": 14.0}, {\"Year\": 1932, \"month\": \"Jun\", \"temp\": 13.8}, {\"Year\": 1933, \"month\": \"Jun\", \"temp\": null}, {\"Year\": 1934, \"month\": \"Jun\", \"temp\": 15.5}, {\"Year\": 1935, \"month\": \"Jun\", \"temp\": 14.0}, {\"Year\": 1936, \"month\": \"Jun\", \"temp\": 12.3}, {\"Year\": 1937, \"month\": \"Jun\", \"temp\": 12.7}, {\"Year\": 1938, \"month\": \"Jun\", \"temp\": 12.3}, {\"Year\": 1939, \"month\": \"Jun\", \"temp\": 12.9}, {\"Year\": 1940, \"month\": \"Jun\", \"temp\": 13.6}, {\"Year\": 1941, \"month\": \"Jun\", \"temp\": 13.6}, {\"Year\": 1942, \"month\": \"Jun\", \"temp\": 12.5}, {\"Year\": 1943, \"month\": \"Jun\", \"temp\": 12.0}, {\"Year\": 1944, \"month\": \"Jun\", \"temp\": 13.5}, {\"Year\": 1945, \"month\": \"Jun\", \"temp\": 14.4}, {\"Year\": 1946, \"month\": \"Jun\", \"temp\": 13.1}, {\"Year\": 1947, \"month\": \"Jun\", \"temp\": 13.6}, {\"Year\": 1948, \"month\": \"Jun\", \"temp\": 14.7}, {\"Year\": 1949, \"month\": \"Jun\", \"temp\": 11.7}, {\"Year\": 1950, \"month\": \"Jun\", \"temp\": 11.1}, {\"Year\": 1951, \"month\": \"Jun\", \"temp\": 13.4}, {\"Year\": 1952, \"month\": \"Jun\", \"temp\": 11.1}, {\"Year\": 1953, \"month\": \"Jun\", \"temp\": 10.0}, {\"Year\": 1954, \"month\": \"Jun\", \"temp\": 10.9}, {\"Year\": 1955, \"month\": \"Jun\", \"temp\": 12.2}, {\"Year\": 1956, \"month\": \"Jun\", \"temp\": 9.9}, {\"Year\": 1957, \"month\": \"Jun\", \"temp\": 12.4}, {\"Year\": 1958, \"month\": \"Jun\", \"temp\": 15.7}, {\"Year\": 1959, \"month\": \"Jun\", \"temp\": 11.9}, {\"Year\": 1960, \"month\": \"Jun\", \"temp\": 12.1}, {\"Year\": 1961, \"month\": \"Jun\", \"temp\": 12.8}, {\"Year\": 1962, \"month\": \"Jun\", \"temp\": 12.1}, {\"Year\": 1963, \"month\": \"Jun\", \"temp\": 13.1}, {\"Year\": 1964, \"month\": \"Jun\", \"temp\": 11.4}, {\"Year\": 1965, \"month\": \"Jun\", \"temp\": 13.3}, {\"Year\": 1966, \"month\": \"Jun\", \"temp\": 11.8}, {\"Year\": 1967, \"month\": \"Jun\", \"temp\": 14.5}, {\"Year\": 1968, \"month\": \"Jun\", \"temp\": 10.4}, {\"Year\": 1969, \"month\": \"Jun\", \"temp\": 14.6}, {\"Year\": 1970, \"month\": \"Jun\", \"temp\": 12.2}, {\"Year\": 1971, \"month\": \"Jun\", \"temp\": 11.1}, {\"Year\": 1972, \"month\": \"Jun\", \"temp\": 13.1}, {\"Year\": 1973, \"month\": \"Jun\", \"temp\": 11.7}, {\"Year\": 1974, \"month\": \"Jun\", \"temp\": 11.1}, {\"Year\": 1975, \"month\": \"Jun\", \"temp\": 10.7}, {\"Year\": 1976, \"month\": \"Jun\", \"temp\": 9.3}, {\"Year\": 1977, \"month\": \"Jun\", \"temp\": 12.0}, {\"Year\": 1978, \"month\": \"Jun\", \"temp\": 12.4}, {\"Year\": 1979, \"month\": \"Jun\", \"temp\": 14.0}, {\"Year\": 1980, \"month\": \"Jun\", \"temp\": 12.6}, {\"Year\": 1981, \"month\": \"Jun\", \"temp\": 12.0}, {\"Year\": 1982, \"month\": \"Jun\", \"temp\": 12.6}, {\"Year\": 1983, \"month\": \"Jun\", \"temp\": null}, {\"Year\": 1984, \"month\": \"Jun\", \"temp\": null}, {\"Year\": 1985, \"month\": \"Jun\", \"temp\": null}, {\"Year\": 1986, \"month\": \"Jun\", \"temp\": null}, {\"Year\": 1987, \"month\": \"Jun\", \"temp\": 10.5}, {\"Year\": 1988, \"month\": \"Jun\", \"temp\": 10.7}, {\"Year\": 1989, \"month\": \"Jun\", \"temp\": 12.7}, {\"Year\": 1990, \"month\": \"Jun\", \"temp\": 12.3}, {\"Year\": 1991, \"month\": \"Jun\", \"temp\": 11.3}, {\"Year\": 1992, \"month\": \"Jun\", \"temp\": 14.3}, {\"Year\": 1993, \"month\": \"Jun\", \"temp\": 12.5}, {\"Year\": 1994, \"month\": \"Jun\", \"temp\": 11.9}, {\"Year\": 1995, \"month\": \"Jun\", \"temp\": 11.0}, {\"Year\": 1996, \"month\": \"Jun\", \"temp\": 12.5}, {\"Year\": 1997, \"month\": \"Jun\", \"temp\": 11.8}, {\"Year\": 1998, \"month\": \"Jun\", \"temp\": 13.5}, {\"Year\": 1999, \"month\": \"Jun\", \"temp\": 12.2}, {\"Year\": 2000, \"month\": \"Jun\", \"temp\": 11.5}, {\"Year\": 2001, \"month\": \"Jun\", \"temp\": 12.4}, {\"Year\": 2002, \"month\": \"Jun\", \"temp\": 11.4}, {\"Year\": 2003, \"month\": \"Jun\", \"temp\": 11.7}, {\"Year\": 2004, \"month\": \"Jun\", \"temp\": 13.4}, {\"Year\": 2005, \"month\": \"Jun\", \"temp\": 14.0}, {\"Year\": 2006, \"month\": \"Jun\", \"temp\": 12.4}, {\"Year\": 2007, \"month\": \"Jun\", \"temp\": 13.4}, {\"Year\": 2008, \"month\": \"Jun\", \"temp\": null}, {\"Year\": 2009, \"month\": \"Jun\", \"temp\": 13.3}, {\"Year\": 2010, \"month\": \"Jun\", \"temp\": 9.9}, {\"Year\": 2011, \"month\": \"Jun\", \"temp\": 13.1}, {\"Year\": 2012, \"month\": \"Jun\", \"temp\": 11.1}, {\"Year\": 2013, \"month\": \"Jun\", \"temp\": 12.8}, {\"Year\": 2014, \"month\": \"Jun\", \"temp\": 12.0}, {\"Year\": 2015, \"month\": \"Jun\", \"temp\": 15.5}, {\"Year\": 2016, \"month\": \"Jun\", \"temp\": 14.2}, {\"Year\": 2017, \"month\": \"Jun\", \"temp\": 12.4}, {\"Year\": 2018, \"month\": \"Jun\", \"temp\": null}, {\"Year\": 1914, \"month\": \"Jul\", \"temp\": null}, {\"Year\": 1915, \"month\": \"Jul\", \"temp\": 14.7}, {\"Year\": 1916, \"month\": \"Jul\", \"temp\": 13.1}, {\"Year\": 1917, \"month\": \"Jul\", \"temp\": 13.7}, {\"Year\": 1918, \"month\": \"Jul\", \"temp\": 13.1}, {\"Year\": 1919, \"month\": \"Jul\", \"temp\": 15.3}, {\"Year\": 1920, \"month\": \"Jul\", \"temp\": 14.7}, {\"Year\": 1921, \"month\": \"Jul\", \"temp\": 14.0}, {\"Year\": 1922, \"month\": \"Jul\", \"temp\": 14.9}, {\"Year\": 1923, \"month\": \"Jul\", \"temp\": 15.8}, {\"Year\": 1924, \"month\": \"Jul\", \"temp\": 14.0}, {\"Year\": 1925, \"month\": \"Jul\", \"temp\": 16.1}, {\"Year\": 1926, \"month\": \"Jul\", \"temp\": 14.0}, {\"Year\": 1927, \"month\": \"Jul\", \"temp\": 14.5}, {\"Year\": 1928, \"month\": \"Jul\", \"temp\": 16.1}, {\"Year\": 1929, \"month\": \"Jul\", \"temp\": 15.0}, {\"Year\": 1930, \"month\": \"Jul\", \"temp\": 14.2}, {\"Year\": 1931, \"month\": \"Jul\", \"temp\": 14.7}, {\"Year\": 1932, \"month\": \"Jul\", \"temp\": 14.0}, {\"Year\": 1933, \"month\": \"Jul\", \"temp\": null}, {\"Year\": 1934, \"month\": \"Jul\", \"temp\": 14.5}, {\"Year\": 1935, \"month\": \"Jul\", \"temp\": 14.6}, {\"Year\": 1936, \"month\": \"Jul\", \"temp\": 14.1}, {\"Year\": 1937, \"month\": \"Jul\", \"temp\": 17.0}, {\"Year\": 1938, \"month\": \"Jul\", \"temp\": 14.9}, {\"Year\": 1939, \"month\": \"Jul\", \"temp\": 13.9}, {\"Year\": 1940, \"month\": \"Jul\", \"temp\": 15.5}, {\"Year\": 1941, \"month\": \"Jul\", \"temp\": 15.1}, {\"Year\": 1942, \"month\": \"Jul\", \"temp\": 15.8}, {\"Year\": 1943, \"month\": \"Jul\", \"temp\": 14.2}, {\"Year\": 1944, \"month\": \"Jul\", \"temp\": 14.0}, {\"Year\": 1945, \"month\": \"Jul\", \"temp\": 15.5}, {\"Year\": 1946, \"month\": \"Jul\", \"temp\": 13.7}, {\"Year\": 1947, \"month\": \"Jul\", \"temp\": 14.2}, {\"Year\": 1948, \"month\": \"Jul\", \"temp\": 13.9}, {\"Year\": 1949, \"month\": \"Jul\", \"temp\": 13.6}, {\"Year\": 1950, \"month\": \"Jul\", \"temp\": 16.4}, {\"Year\": 1951, \"month\": \"Jul\", \"temp\": 12.7}, {\"Year\": 1952, \"month\": \"Jul\", \"temp\": 13.5}, {\"Year\": 1953, \"month\": \"Jul\", \"temp\": 13.4}, {\"Year\": 1954, \"month\": \"Jul\", \"temp\": 13.3}, {\"Year\": 1955, \"month\": \"Jul\", \"temp\": 14.0}, {\"Year\": 1956, \"month\": \"Jul\", \"temp\": 15.0}, {\"Year\": 1957, \"month\": \"Jul\", \"temp\": 11.9}, {\"Year\": 1958, \"month\": \"Jul\", \"temp\": 17.6}, {\"Year\": 1959, \"month\": \"Jul\", \"temp\": 13.2}, {\"Year\": 1960, \"month\": \"Jul\", \"temp\": 14.4}, {\"Year\": 1961, \"month\": \"Jul\", \"temp\": 14.4}, {\"Year\": 1962, \"month\": \"Jul\", \"temp\": 13.6}, {\"Year\": 1963, \"month\": \"Jul\", \"temp\": 13.5}, {\"Year\": 1964, \"month\": \"Jul\", \"temp\": 13.1}, {\"Year\": 1965, \"month\": \"Jul\", \"temp\": 15.1}, {\"Year\": 1966, \"month\": \"Jul\", \"temp\": 13.2}, {\"Year\": 1967, \"month\": \"Jul\", \"temp\": 16.5}, {\"Year\": 1968, \"month\": \"Jul\", \"temp\": 13.3}, {\"Year\": 1969, \"month\": \"Jul\", \"temp\": 14.7}, {\"Year\": 1970, \"month\": \"Jul\", \"temp\": 13.3}, {\"Year\": 1971, \"month\": \"Jul\", \"temp\": 11.7}, {\"Year\": 1972, \"month\": \"Jul\", \"temp\": 11.4}, {\"Year\": 1973, \"month\": \"Jul\", \"temp\": 13.6}, {\"Year\": 1974, \"month\": \"Jul\", \"temp\": 12.8}, {\"Year\": 1975, \"month\": \"Jul\", \"temp\": 16.1}, {\"Year\": 1976, \"month\": \"Jul\", \"temp\": 14.0}, {\"Year\": 1977, \"month\": \"Jul\", \"temp\": 14.5}, {\"Year\": 1978, \"month\": \"Jul\", \"temp\": 14.8}, {\"Year\": 1979, \"month\": \"Jul\", \"temp\": 12.0}, {\"Year\": 1980, \"month\": \"Jul\", \"temp\": 13.2}, {\"Year\": 1981, \"month\": \"Jul\", \"temp\": 15.0}, {\"Year\": 1982, \"month\": \"Jul\", \"temp\": 14.9}, {\"Year\": 1983, \"month\": \"Jul\", \"temp\": null}, {\"Year\": 1984, \"month\": \"Jul\", \"temp\": null}, {\"Year\": 1985, \"month\": \"Jul\", \"temp\": null}, {\"Year\": 1986, \"month\": \"Jul\", \"temp\": null}, {\"Year\": 1987, \"month\": \"Jul\", \"temp\": 13.5}, {\"Year\": 1988, \"month\": \"Jul\", \"temp\": 13.6}, {\"Year\": 1989, \"month\": \"Jul\", \"temp\": 13.5}, {\"Year\": 1990, \"month\": \"Jul\", \"temp\": 15.6}, {\"Year\": 1991, \"month\": \"Jul\", \"temp\": 13.4}, {\"Year\": 1992, \"month\": \"Jul\", \"temp\": 13.6}, {\"Year\": 1993, \"month\": \"Jul\", \"temp\": 12.5}, {\"Year\": 1994, \"month\": \"Jul\", \"temp\": 15.3}, {\"Year\": 1995, \"month\": \"Jul\", \"temp\": 15.3}, {\"Year\": 1996, \"month\": \"Jul\", \"temp\": 14.9}, {\"Year\": 1997, \"month\": \"Jul\", \"temp\": 12.9}, {\"Year\": 1998, \"month\": \"Jul\", \"temp\": 12.8}, {\"Year\": 1999, \"month\": \"Jul\", \"temp\": 13.0}, {\"Year\": 2000, \"month\": \"Jul\", \"temp\": 13.2}, {\"Year\": 2001, \"month\": \"Jul\", \"temp\": 15.4}, {\"Year\": 2002, \"month\": \"Jul\", \"temp\": 14.5}, {\"Year\": 2003, \"month\": \"Jul\", \"temp\": 12.3}, {\"Year\": 2004, \"month\": \"Jul\", \"temp\": 15.8}, {\"Year\": 2005, \"month\": \"Jul\", \"temp\": 13.1}, {\"Year\": 2006, \"month\": \"Jul\", \"temp\": 13.5}, {\"Year\": 2007, \"month\": \"Jul\", \"temp\": 13.1}, {\"Year\": 2008, \"month\": \"Jul\", \"temp\": 12.9}, {\"Year\": 2009, \"month\": \"Jul\", \"temp\": 13.0}, {\"Year\": 2010, \"month\": \"Jul\", \"temp\": 14.3}, {\"Year\": 2011, \"month\": \"Jul\", \"temp\": 13.9}, {\"Year\": 2012, \"month\": \"Jul\", \"temp\": 14.2}, {\"Year\": 2013, \"month\": \"Jul\", \"temp\": 17.0}, {\"Year\": 2014, \"month\": \"Jul\", \"temp\": 15.9}, {\"Year\": 2015, \"month\": \"Jul\", \"temp\": 13.8}, {\"Year\": 2016, \"month\": \"Jul\", \"temp\": 14.6}, {\"Year\": 2017, \"month\": \"Jul\", \"temp\": 15.3}, {\"Year\": 2018, \"month\": \"Jul\", \"temp\": null}, {\"Year\": 1914, \"month\": \"Aug\", \"temp\": null}, {\"Year\": 1915, \"month\": \"Aug\", \"temp\": 15.8}, {\"Year\": 1916, \"month\": \"Aug\", \"temp\": 14.0}, {\"Year\": 1917, \"month\": \"Aug\", \"temp\": 12.2}, {\"Year\": 1918, \"month\": \"Aug\", \"temp\": 14.5}, {\"Year\": 1919, \"month\": \"Aug\", \"temp\": 14.5}, {\"Year\": 1920, \"month\": \"Aug\", \"temp\": 14.5}, {\"Year\": 1921, \"month\": \"Aug\", \"temp\": 13.2}, {\"Year\": 1922, \"month\": \"Aug\", \"temp\": 12.0}, {\"Year\": 1923, \"month\": \"Aug\", \"temp\": 16.8}, {\"Year\": 1924, \"month\": \"Aug\", \"temp\": 14.0}, {\"Year\": 1925, \"month\": \"Aug\", \"temp\": 11.4}, {\"Year\": 1926, \"month\": \"Aug\", \"temp\": 14.2}, {\"Year\": 1927, \"month\": \"Aug\", \"temp\": 14.5}, {\"Year\": 1928, \"month\": \"Aug\", \"temp\": 16.4}, {\"Year\": 1929, \"month\": \"Aug\", \"temp\": 13.1}, {\"Year\": 1930, \"month\": \"Aug\", \"temp\": 15.0}, {\"Year\": 1931, \"month\": \"Aug\", \"temp\": 16.6}, {\"Year\": 1932, \"month\": \"Aug\", \"temp\": 16.4}, {\"Year\": 1933, \"month\": \"Aug\", \"temp\": null}, {\"Year\": 1934, \"month\": \"Aug\", \"temp\": 14.3}, {\"Year\": 1935, \"month\": \"Aug\", \"temp\": 16.6}, {\"Year\": 1936, \"month\": \"Aug\", \"temp\": 16.1}, {\"Year\": 1937, \"month\": \"Aug\", \"temp\": 13.6}, {\"Year\": 1938, \"month\": \"Aug\", \"temp\": 13.9}, {\"Year\": 1939, \"month\": \"Aug\", \"temp\": 13.3}, {\"Year\": 1940, \"month\": \"Aug\", \"temp\": 14.8}, {\"Year\": 1941, \"month\": \"Aug\", \"temp\": 14.8}, {\"Year\": 1942, \"month\": \"Aug\", \"temp\": 16.1}, {\"Year\": 1943, \"month\": \"Aug\", \"temp\": 14.0}, {\"Year\": 1944, \"month\": \"Aug\", \"temp\": 15.7}, {\"Year\": 1945, \"month\": \"Aug\", \"temp\": 15.9}, {\"Year\": 1946, \"month\": \"Aug\", \"temp\": 12.4}, {\"Year\": 1947, \"month\": \"Aug\", \"temp\": 14.0}, {\"Year\": 1948, \"month\": \"Aug\", \"temp\": 14.3}, {\"Year\": 1949, \"month\": \"Aug\", \"temp\": 12.4}, {\"Year\": 1950, \"month\": \"Aug\", \"temp\": 12.3}, {\"Year\": 1951, \"month\": \"Aug\", \"temp\": 14.3}, {\"Year\": 1952, \"month\": \"Aug\", \"temp\": 12.7}, {\"Year\": 1953, \"month\": \"Aug\", \"temp\": 11.7}, {\"Year\": 1954, \"month\": \"Aug\", \"temp\": 13.5}, {\"Year\": 1955, \"month\": \"Aug\", \"temp\": 15.2}, {\"Year\": 1956, \"month\": \"Aug\", \"temp\": 14.8}, {\"Year\": 1957, \"month\": \"Aug\", \"temp\": 14.9}, {\"Year\": 1958, \"month\": \"Aug\", \"temp\": 12.9}, {\"Year\": 1959, \"month\": \"Aug\", \"temp\": 14.2}, {\"Year\": 1960, \"month\": \"Aug\", \"temp\": 12.4}, {\"Year\": 1961, \"month\": \"Aug\", \"temp\": 13.0}, {\"Year\": 1962, \"month\": \"Aug\", \"temp\": 13.3}, {\"Year\": 1963, \"month\": \"Aug\", \"temp\": 14.0}, {\"Year\": 1964, \"month\": \"Aug\", \"temp\": 13.6}, {\"Year\": 1965, \"month\": \"Aug\", \"temp\": 15.2}, {\"Year\": 1966, \"month\": \"Aug\", \"temp\": 12.9}, {\"Year\": 1967, \"month\": \"Aug\", \"temp\": 17.0}, {\"Year\": 1968, \"month\": \"Aug\", \"temp\": 12.8}, {\"Year\": 1969, \"month\": \"Aug\", \"temp\": 11.2}, {\"Year\": 1970, \"month\": \"Aug\", \"temp\": 14.7}, {\"Year\": 1971, \"month\": \"Aug\", \"temp\": 13.4}, {\"Year\": 1972, \"month\": \"Aug\", \"temp\": 16.4}, {\"Year\": 1973, \"month\": \"Aug\", \"temp\": 14.4}, {\"Year\": 1974, \"month\": \"Aug\", \"temp\": 11.8}, {\"Year\": 1975, \"month\": \"Aug\", \"temp\": 13.1}, {\"Year\": 1976, \"month\": \"Aug\", \"temp\": 13.7}, {\"Year\": 1977, \"month\": \"Aug\", \"temp\": 12.5}, {\"Year\": 1978, \"month\": \"Aug\", \"temp\": 13.4}, {\"Year\": 1979, \"month\": \"Aug\", \"temp\": 14.5}, {\"Year\": 1980, \"month\": \"Aug\", \"temp\": 14.0}, {\"Year\": 1981, \"month\": \"Aug\", \"temp\": 13.4}, {\"Year\": 1982, \"month\": \"Aug\", \"temp\": 14.6}, {\"Year\": 1983, \"month\": \"Aug\", \"temp\": null}, {\"Year\": 1984, \"month\": \"Aug\", \"temp\": null}, {\"Year\": 1985, \"month\": \"Aug\", \"temp\": null}, {\"Year\": 1986, \"month\": \"Aug\", \"temp\": null}, {\"Year\": 1987, \"month\": \"Aug\", \"temp\": 15.5}, {\"Year\": 1988, \"month\": \"Aug\", \"temp\": 11.5}, {\"Year\": 1989, \"month\": \"Aug\", \"temp\": 15.4}, {\"Year\": 1990, \"month\": \"Aug\", \"temp\": 14.8}, {\"Year\": 1991, \"month\": \"Aug\", \"temp\": 11.5}, {\"Year\": 1992, \"month\": \"Aug\", \"temp\": 13.7}, {\"Year\": 1993, \"month\": \"Aug\", \"temp\": 13.2}, {\"Year\": 1994, \"month\": \"Aug\", \"temp\": 14.6}, {\"Year\": 1995, \"month\": \"Aug\", \"temp\": 13.1}, {\"Year\": 1996, \"month\": \"Aug\", \"temp\": 14.5}, {\"Year\": 1997, \"month\": \"Aug\", \"temp\": 12.4}, {\"Year\": 1998, \"month\": \"Aug\", \"temp\": 16.9}, {\"Year\": 1999, \"month\": \"Aug\", \"temp\": 14.9}, {\"Year\": 2000, \"month\": \"Aug\", \"temp\": 11.4}, {\"Year\": 2001, \"month\": \"Aug\", \"temp\": 11.7}, {\"Year\": 2002, \"month\": \"Aug\", \"temp\": 14.8}, {\"Year\": 2003, \"month\": \"Aug\", \"temp\": 16.4}, {\"Year\": 2004, \"month\": \"Aug\", \"temp\": 13.7}, {\"Year\": 2005, \"month\": \"Aug\", \"temp\": 13.9}, {\"Year\": 2006, \"month\": \"Aug\", \"temp\": 15.2}, {\"Year\": 2007, \"month\": \"Aug\", \"temp\": 15.3}, {\"Year\": 2008, \"month\": \"Aug\", \"temp\": 12.5}, {\"Year\": 2009, \"month\": \"Aug\", \"temp\": 12.8}, {\"Year\": 2010, \"month\": \"Aug\", \"temp\": 15.9}, {\"Year\": 2011, \"month\": \"Aug\", \"temp\": 15.4}, {\"Year\": 2012, \"month\": \"Aug\", \"temp\": 13.8}, {\"Year\": 2013, \"month\": \"Aug\", \"temp\": 14.0}, {\"Year\": 2014, \"month\": \"Aug\", \"temp\": 16.8}, {\"Year\": 2015, \"month\": \"Aug\", \"temp\": 13.4}, {\"Year\": 2016, \"month\": \"Aug\", \"temp\": 14.6}, {\"Year\": 2017, \"month\": \"Aug\", \"temp\": 15.3}, {\"Year\": 2018, \"month\": \"Aug\", \"temp\": null}, {\"Year\": 1914, \"month\": \"Sep\", \"temp\": 11.1}, {\"Year\": 1915, \"month\": \"Sep\", \"temp\": 14.0}, {\"Year\": 1916, \"month\": \"Sep\", \"temp\": 11.4}, {\"Year\": 1917, \"month\": \"Sep\", \"temp\": 10.0}, {\"Year\": 1918, \"month\": \"Sep\", \"temp\": 13.8}, {\"Year\": 1919, \"month\": \"Sep\", \"temp\": 12.1}, {\"Year\": 1920, \"month\": \"Sep\", \"temp\": 11.3}, {\"Year\": 1921, \"month\": \"Sep\", \"temp\": 10.2}, {\"Year\": 1922, \"month\": \"Sep\", \"temp\": 10.3}, {\"Year\": 1923, \"month\": \"Sep\", \"temp\": 13.1}, {\"Year\": 1924, \"month\": \"Sep\", \"temp\": 12.5}, {\"Year\": 1925, \"month\": \"Sep\", \"temp\": 13.1}, {\"Year\": 1926, \"month\": \"Sep\", \"temp\": 12.2}, {\"Year\": 1927, \"month\": \"Sep\", \"temp\": 12.0}, {\"Year\": 1928, \"month\": \"Sep\", \"temp\": 9.8}, {\"Year\": 1929, \"month\": \"Sep\", \"temp\": 13.1}, {\"Year\": 1930, \"month\": \"Sep\", \"temp\": 11.4}, {\"Year\": 1931, \"month\": \"Sep\", \"temp\": 11.0}, {\"Year\": 1932, \"month\": \"Sep\", \"temp\": null}, {\"Year\": 1933, \"month\": \"Sep\", \"temp\": null}, {\"Year\": 1934, \"month\": \"Sep\", \"temp\": 11.3}, {\"Year\": 1935, \"month\": \"Sep\", \"temp\": 11.2}, {\"Year\": 1936, \"month\": \"Sep\", \"temp\": 13.5}, {\"Year\": 1937, \"month\": \"Sep\", \"temp\": 12.8}, {\"Year\": 1938, \"month\": \"Sep\", \"temp\": 12.9}, {\"Year\": 1939, \"month\": \"Sep\", \"temp\": 13.3}, {\"Year\": 1940, \"month\": \"Sep\", \"temp\": 13.8}, {\"Year\": 1941, \"month\": \"Sep\", \"temp\": 13.2}, {\"Year\": 1942, \"month\": \"Sep\", \"temp\": 13.0}, {\"Year\": 1943, \"month\": \"Sep\", \"temp\": 11.4}, {\"Year\": 1944, \"month\": \"Sep\", \"temp\": 8.4}, {\"Year\": 1945, \"month\": \"Sep\", \"temp\": 12.6}, {\"Year\": 1946, \"month\": \"Sep\", \"temp\": 12.1}, {\"Year\": 1947, \"month\": \"Sep\", \"temp\": 10.4}, {\"Year\": 1948, \"month\": \"Sep\", \"temp\": 9.9}, {\"Year\": 1949, \"month\": \"Sep\", \"temp\": 11.7}, {\"Year\": 1950, \"month\": \"Sep\", \"temp\": 10.3}, {\"Year\": 1951, \"month\": \"Sep\", \"temp\": 11.6}, {\"Year\": 1952, \"month\": \"Sep\", \"temp\": 10.2}, {\"Year\": 1953, \"month\": \"Sep\", \"temp\": 10.6}, {\"Year\": 1954, \"month\": \"Sep\", \"temp\": 12.9}, {\"Year\": 1955, \"month\": \"Sep\", \"temp\": 10.8}, {\"Year\": 1956, \"month\": \"Sep\", \"temp\": 9.8}, {\"Year\": 1957, \"month\": \"Sep\", \"temp\": 13.7}, {\"Year\": 1958, \"month\": \"Sep\", \"temp\": 10.9}, {\"Year\": 1959, \"month\": \"Sep\", \"temp\": 10.4}, {\"Year\": 1960, \"month\": \"Sep\", \"temp\": 10.7}, {\"Year\": 1961, \"month\": \"Sep\", \"temp\": 11.2}, {\"Year\": 1962, \"month\": \"Sep\", \"temp\": 11.1}, {\"Year\": 1963, \"month\": \"Sep\", \"temp\": 12.0}, {\"Year\": 1964, \"month\": \"Sep\", \"temp\": 11.5}, {\"Year\": 1965, \"month\": \"Sep\", \"temp\": 13.4}, {\"Year\": 1966, \"month\": \"Sep\", \"temp\": 11.2}, {\"Year\": 1967, \"month\": \"Sep\", \"temp\": 11.7}, {\"Year\": 1968, \"month\": \"Sep\", \"temp\": 11.3}, {\"Year\": 1969, \"month\": \"Sep\", \"temp\": 11.1}, {\"Year\": 1970, \"month\": \"Sep\", \"temp\": 11.2}, {\"Year\": 1971, \"month\": \"Sep\", \"temp\": 12.2}, {\"Year\": 1972, \"month\": \"Sep\", \"temp\": 9.7}, {\"Year\": 1973, \"month\": \"Sep\", \"temp\": 11.4}, {\"Year\": 1974, \"month\": \"Sep\", \"temp\": 13.9}, {\"Year\": 1975, \"month\": \"Sep\", \"temp\": 14.0}, {\"Year\": 1976, \"month\": \"Sep\", \"temp\": 13.0}, {\"Year\": 1977, \"month\": \"Sep\", \"temp\": 12.0}, {\"Year\": 1978, \"month\": \"Sep\", \"temp\": 11.3}, {\"Year\": 1979, \"month\": \"Sep\", \"temp\": 12.0}, {\"Year\": 1980, \"month\": \"Sep\", \"temp\": 12.4}, {\"Year\": 1981, \"month\": \"Sep\", \"temp\": 11.2}, {\"Year\": 1982, \"month\": \"Sep\", \"temp\": 12.0}, {\"Year\": 1983, \"month\": \"Sep\", \"temp\": null}, {\"Year\": 1984, \"month\": \"Sep\", \"temp\": null}, {\"Year\": 1985, \"month\": \"Sep\", \"temp\": null}, {\"Year\": 1986, \"month\": \"Sep\", \"temp\": null}, {\"Year\": 1987, \"month\": \"Sep\", \"temp\": 11.8}, {\"Year\": 1988, \"month\": \"Sep\", \"temp\": 11.4}, {\"Year\": 1989, \"month\": \"Sep\", \"temp\": 14.2}, {\"Year\": 1990, \"month\": \"Sep\", \"temp\": 14.2}, {\"Year\": 1991, \"month\": \"Sep\", \"temp\": 13.2}, {\"Year\": 1992, \"month\": \"Sep\", \"temp\": 11.8}, {\"Year\": 1993, \"month\": \"Sep\", \"temp\": 14.7}, {\"Year\": 1994, \"month\": \"Sep\", \"temp\": 12.2}, {\"Year\": 1995, \"month\": \"Sep\", \"temp\": 11.3}, {\"Year\": 1996, \"month\": \"Sep\", \"temp\": 11.5}, {\"Year\": 1997, \"month\": \"Sep\", \"temp\": 11.7}, {\"Year\": 1998, \"month\": \"Sep\", \"temp\": 14.8}, {\"Year\": 1999, \"month\": \"Sep\", \"temp\": 11.5}, {\"Year\": 2000, \"month\": \"Sep\", \"temp\": 12.1}, {\"Year\": 2001, \"month\": \"Sep\", \"temp\": 11.7}, {\"Year\": 2002, \"month\": \"Sep\", \"temp\": 13.7}, {\"Year\": 2003, \"month\": \"Sep\", \"temp\": 13.1}, {\"Year\": 2004, \"month\": \"Sep\", \"temp\": 13.1}, {\"Year\": 2005, \"month\": \"Sep\", \"temp\": 10.9}, {\"Year\": 2006, \"month\": \"Sep\", \"temp\": 13.9}, {\"Year\": 2007, \"month\": \"Sep\", \"temp\": 12.6}, {\"Year\": 2008, \"month\": \"Sep\", \"temp\": 12.1}, {\"Year\": 2009, \"month\": \"Sep\", \"temp\": 11.4}, {\"Year\": 2010, \"month\": \"Sep\", \"temp\": 12.2}, {\"Year\": 2011, \"month\": \"Sep\", \"temp\": 10.1}, {\"Year\": 2012, \"month\": \"Sep\", \"temp\": 12.5}, {\"Year\": 2013, \"month\": \"Sep\", \"temp\": 11.0}, {\"Year\": 2014, \"month\": \"Sep\", \"temp\": 11.7}, {\"Year\": 2015, \"month\": \"Sep\", \"temp\": 11.6}, {\"Year\": 2016, \"month\": \"Sep\", \"temp\": 12.6}, {\"Year\": 2017, \"month\": \"Sep\", \"temp\": 13.1}, {\"Year\": 2018, \"month\": \"Sep\", \"temp\": null}, {\"Year\": 1914, \"month\": \"Oct\", \"temp\": 10.0}, {\"Year\": 1915, \"month\": \"Oct\", \"temp\": 8.2}, {\"Year\": 1916, \"month\": \"Oct\", \"temp\": 7.6}, {\"Year\": 1917, \"month\": \"Oct\", \"temp\": 8.6}, {\"Year\": 1918, \"month\": \"Oct\", \"temp\": 9.1}, {\"Year\": 1919, \"month\": \"Oct\", \"temp\": 9.2}, {\"Year\": 1920, \"month\": \"Oct\", \"temp\": 8.0}, {\"Year\": 1921, \"month\": \"Oct\", \"temp\": 8.0}, {\"Year\": 1922, \"month\": \"Oct\", \"temp\": 7.7}, {\"Year\": 1923, \"month\": \"Oct\", \"temp\": 10.0}, {\"Year\": 1924, \"month\": \"Oct\", \"temp\": 7.0}, {\"Year\": 1925, \"month\": \"Oct\", \"temp\": 9.4}, {\"Year\": 1926, \"month\": \"Oct\", \"temp\": 9.7}, {\"Year\": 1927, \"month\": \"Oct\", \"temp\": 9.4}, {\"Year\": 1928, \"month\": \"Oct\", \"temp\": 10.0}, {\"Year\": 1929, \"month\": \"Oct\", \"temp\": 10.0}, {\"Year\": 1930, \"month\": \"Oct\", \"temp\": 8.5}, {\"Year\": 1931, \"month\": \"Oct\", \"temp\": 7.8}, {\"Year\": 1932, \"month\": \"Oct\", \"temp\": null}, {\"Year\": 1933, \"month\": \"Oct\", \"temp\": null}, {\"Year\": 1934, \"month\": \"Oct\", \"temp\": 9.4}, {\"Year\": 1935, \"month\": \"Oct\", \"temp\": 8.6}, {\"Year\": 1936, \"month\": \"Oct\", \"temp\": 10.5}, {\"Year\": 1937, \"month\": \"Oct\", \"temp\": 10.6}, {\"Year\": 1938, \"month\": \"Oct\", \"temp\": 9.7}, {\"Year\": 1939, \"month\": \"Oct\", \"temp\": 8.0}, {\"Year\": 1940, \"month\": \"Oct\", \"temp\": 10.6}, {\"Year\": 1941, \"month\": \"Oct\", \"temp\": 10.6}, {\"Year\": 1942, \"month\": \"Oct\", \"temp\": 10.4}, {\"Year\": 1943, \"month\": \"Oct\", \"temp\": 9.7}, {\"Year\": 1944, \"month\": \"Oct\", \"temp\": 10.7}, {\"Year\": 1945, \"month\": \"Oct\", \"temp\": 9.4}, {\"Year\": 1946, \"month\": \"Oct\", \"temp\": 9.0}, {\"Year\": 1947, \"month\": \"Oct\", \"temp\": 9.6}, {\"Year\": 1948, \"month\": \"Oct\", \"temp\": 9.7}, {\"Year\": 1949, \"month\": \"Oct\", \"temp\": 9.5}, {\"Year\": 1950, \"month\": \"Oct\", \"temp\": 8.2}, {\"Year\": 1951, \"month\": \"Oct\", \"temp\": 9.2}, {\"Year\": 1952, \"month\": \"Oct\", \"temp\": 9.8}, {\"Year\": 1953, \"month\": \"Oct\", \"temp\": 10.3}, {\"Year\": 1954, \"month\": \"Oct\", \"temp\": 9.8}, {\"Year\": 1955, \"month\": \"Oct\", \"temp\": 8.6}, {\"Year\": 1956, \"month\": \"Oct\", \"temp\": 7.3}, {\"Year\": 1957, \"month\": \"Oct\", \"temp\": 10.0}, {\"Year\": 1958, \"month\": \"Oct\", \"temp\": 10.1}, {\"Year\": 1959, \"month\": \"Oct\", \"temp\": 10.1}, {\"Year\": 1960, \"month\": \"Oct\", \"temp\": 9.3}, {\"Year\": 1961, \"month\": \"Oct\", \"temp\": 8.5}, {\"Year\": 1962, \"month\": \"Oct\", \"temp\": 9.9}, {\"Year\": 1963, \"month\": \"Oct\", \"temp\": 9.1}, {\"Year\": 1964, \"month\": \"Oct\", \"temp\": 10.3}, {\"Year\": 1965, \"month\": \"Oct\", \"temp\": 10.0}, {\"Year\": 1966, \"month\": \"Oct\", \"temp\": 9.5}, {\"Year\": 1967, \"month\": \"Oct\", \"temp\": 10.0}, {\"Year\": 1968, \"month\": \"Oct\", \"temp\": 8.9}, {\"Year\": 1969, \"month\": \"Oct\", \"temp\": 9.8}, {\"Year\": 1970, \"month\": \"Oct\", \"temp\": 7.6}, {\"Year\": 1971, \"month\": \"Oct\", \"temp\": 5.8}, {\"Year\": 1972, \"month\": \"Oct\", \"temp\": 8.8}, {\"Year\": 1973, \"month\": \"Oct\", \"temp\": 9.2}, {\"Year\": 1974, \"month\": \"Oct\", \"temp\": 10.0}, {\"Year\": 1975, \"month\": \"Oct\", \"temp\": 8.0}, {\"Year\": 1976, \"month\": \"Oct\", \"temp\": 10.0}, {\"Year\": 1977, \"month\": \"Oct\", \"temp\": 9.0}, {\"Year\": 1978, \"month\": \"Oct\", \"temp\": 10.2}, {\"Year\": 1979, \"month\": \"Oct\", \"temp\": 9.2}, {\"Year\": 1980, \"month\": \"Oct\", \"temp\": 10.0}, {\"Year\": 1981, \"month\": \"Oct\", \"temp\": 10.5}, {\"Year\": 1982, \"month\": \"Oct\", \"temp\": 9.5}, {\"Year\": 1983, \"month\": \"Oct\", \"temp\": null}, {\"Year\": 1984, \"month\": \"Oct\", \"temp\": null}, {\"Year\": 1985, \"month\": \"Oct\", \"temp\": null}, {\"Year\": 1986, \"month\": \"Oct\", \"temp\": null}, {\"Year\": 1987, \"month\": \"Oct\", \"temp\": 10.4}, {\"Year\": 1988, \"month\": \"Oct\", \"temp\": 10.5}, {\"Year\": 1989, \"month\": \"Oct\", \"temp\": 9.5}, {\"Year\": 1990, \"month\": \"Oct\", \"temp\": 9.3}, {\"Year\": 1991, \"month\": \"Oct\", \"temp\": 9.9}, {\"Year\": 1992, \"month\": \"Oct\", \"temp\": 10.3}, {\"Year\": 1993, \"month\": \"Oct\", \"temp\": 10.6}, {\"Year\": 1994, \"month\": \"Oct\", \"temp\": 10.0}, {\"Year\": 1995, \"month\": \"Oct\", \"temp\": 9.5}, {\"Year\": 1996, \"month\": \"Oct\", \"temp\": 8.2}, {\"Year\": 1997, \"month\": \"Oct\", \"temp\": 10.4}, {\"Year\": 1998, \"month\": \"Oct\", \"temp\": 10.1}, {\"Year\": 1999, \"month\": \"Oct\", \"temp\": 9.3}, {\"Year\": 2000, \"month\": \"Oct\", \"temp\": 9.1}, {\"Year\": 2001, \"month\": \"Oct\", \"temp\": 9.0}, {\"Year\": 2002, \"month\": \"Oct\", \"temp\": 10.2}, {\"Year\": 2003, \"month\": \"Oct\", \"temp\": 10.2}, {\"Year\": 2004, \"month\": \"Oct\", \"temp\": 10.2}, {\"Year\": 2005, \"month\": \"Oct\", \"temp\": 9.7}, {\"Year\": 2006, \"month\": \"Oct\", \"temp\": 9.9}, {\"Year\": 2007, \"month\": \"Oct\", \"temp\": 9.8}, {\"Year\": 2008, \"month\": \"Oct\", \"temp\": 9.9}, {\"Year\": 2009, \"month\": \"Oct\", \"temp\": 9.2}, {\"Year\": 2010, \"month\": \"Oct\", \"temp\": 9.3}, {\"Year\": 2011, \"month\": \"Oct\", \"temp\": 9.1}, {\"Year\": 2012, \"month\": \"Oct\", \"temp\": 8.8}, {\"Year\": 2013, \"month\": \"Oct\", \"temp\": 9.5}, {\"Year\": 2014, \"month\": \"Oct\", \"temp\": 10.6}, {\"Year\": 2015, \"month\": \"Oct\", \"temp\": 11.3}, {\"Year\": 2016, \"month\": \"Oct\", \"temp\": 10.8}, {\"Year\": 2017, \"month\": \"Oct\", \"temp\": 10.2}, {\"Year\": 2018, \"month\": \"Oct\", \"temp\": null}, {\"Year\": 1914, \"month\": \"Nov\", \"temp\": 7.3}, {\"Year\": 1915, \"month\": \"Nov\", \"temp\": 4.4}, {\"Year\": 1916, \"month\": \"Nov\", \"temp\": 5.4}, {\"Year\": 1917, \"month\": \"Nov\", \"temp\": 7.0}, {\"Year\": 1918, \"month\": \"Nov\", \"temp\": 6.7}, {\"Year\": 1919, \"month\": \"Nov\", \"temp\": 6.1}, {\"Year\": 1920, \"month\": \"Nov\", \"temp\": 7.5}, {\"Year\": 1921, \"month\": \"Nov\", \"temp\": 4.4}, {\"Year\": 1922, \"month\": \"Nov\", \"temp\": 6.2}, {\"Year\": 1923, \"month\": \"Nov\", \"temp\": 7.8}, {\"Year\": 1924, \"month\": \"Nov\", \"temp\": 6.0}, {\"Year\": 1925, \"month\": \"Nov\", \"temp\": 7.0}, {\"Year\": 1926, \"month\": \"Nov\", \"temp\": 8.6}, {\"Year\": 1927, \"month\": \"Nov\", \"temp\": 5.9}, {\"Year\": 1928, \"month\": \"Nov\", \"temp\": 8.0}, {\"Year\": 1929, \"month\": \"Nov\", \"temp\": 8.0}, {\"Year\": 1930, \"month\": \"Nov\", \"temp\": 5.0}, {\"Year\": 1931, \"month\": \"Nov\", \"temp\": 6.3}, {\"Year\": 1932, \"month\": \"Nov\", \"temp\": null}, {\"Year\": 1933, \"month\": \"Nov\", \"temp\": null}, {\"Year\": 1934, \"month\": \"Nov\", \"temp\": 8.6}, {\"Year\": 1935, \"month\": \"Nov\", \"temp\": 7.2}, {\"Year\": 1936, \"month\": \"Nov\", \"temp\": 8.2}, {\"Year\": 1937, \"month\": \"Nov\", \"temp\": 5.7}, {\"Year\": 1938, \"month\": \"Nov\", \"temp\": 7.2}, {\"Year\": 1939, \"month\": \"Nov\", \"temp\": 4.9}, {\"Year\": 1940, \"month\": \"Nov\", \"temp\": 6.9}, {\"Year\": 1941, \"month\": \"Nov\", \"temp\": 8.5}, {\"Year\": 1942, \"month\": \"Nov\", \"temp\": 6.9}, {\"Year\": 1943, \"month\": \"Nov\", \"temp\": 8.9}, {\"Year\": 1944, \"month\": \"Nov\", \"temp\": 8.0}, {\"Year\": 1945, \"month\": \"Nov\", \"temp\": 7.0}, {\"Year\": 1946, \"month\": \"Nov\", \"temp\": 7.0}, {\"Year\": 1947, \"month\": \"Nov\", \"temp\": 7.1}, {\"Year\": 1948, \"month\": \"Nov\", \"temp\": 6.9}, {\"Year\": 1949, \"month\": \"Nov\", \"temp\": 8.6}, {\"Year\": 1950, \"month\": \"Nov\", \"temp\": 6.2}, {\"Year\": 1951, \"month\": \"Nov\", \"temp\": 6.7}, {\"Year\": 1952, \"month\": \"Nov\", \"temp\": 7.2}, {\"Year\": 1953, \"month\": \"Nov\", \"temp\": 7.9}, {\"Year\": 1954, \"month\": \"Nov\", \"temp\": 7.8}, {\"Year\": 1955, \"month\": \"Nov\", \"temp\": 4.8}, {\"Year\": 1956, \"month\": \"Nov\", \"temp\": 6.1}, {\"Year\": 1957, \"month\": \"Nov\", \"temp\": 7.2}, {\"Year\": 1958, \"month\": \"Nov\", \"temp\": 6.8}, {\"Year\": 1959, \"month\": \"Nov\", \"temp\": 7.4}, {\"Year\": 1960, \"month\": \"Nov\", \"temp\": 6.8}, {\"Year\": 1961, \"month\": \"Nov\", \"temp\": 7.3}, {\"Year\": 1962, \"month\": \"Nov\", \"temp\": 6.6}, {\"Year\": 1963, \"month\": \"Nov\", \"temp\": 6.9}, {\"Year\": 1964, \"month\": \"Nov\", \"temp\": 6.9}, {\"Year\": 1965, \"month\": \"Nov\", \"temp\": 7.6}, {\"Year\": 1966, \"month\": \"Nov\", \"temp\": 7.7}, {\"Year\": 1967, \"month\": \"Nov\", \"temp\": 8.1}, {\"Year\": 1968, \"month\": \"Nov\", \"temp\": 7.5}, {\"Year\": 1969, \"month\": \"Nov\", \"temp\": 6.8}, {\"Year\": 1970, \"month\": \"Nov\", \"temp\": 4.6}, {\"Year\": 1971, \"month\": \"Nov\", \"temp\": 7.2}, {\"Year\": 1972, \"month\": \"Nov\", \"temp\": 7.2}, {\"Year\": 1973, \"month\": \"Nov\", \"temp\": 5.8}, {\"Year\": 1974, \"month\": \"Nov\", \"temp\": 6.1}, {\"Year\": 1975, \"month\": \"Nov\", \"temp\": 6.0}, {\"Year\": 1976, \"month\": \"Nov\", \"temp\": 7.0}, {\"Year\": 1977, \"month\": \"Nov\", \"temp\": 6.5}, {\"Year\": 1978, \"month\": \"Nov\", \"temp\": 7.8}, {\"Year\": 1979, \"month\": \"Nov\", \"temp\": 7.2}, {\"Year\": 1980, \"month\": \"Nov\", \"temp\": 7.5}, {\"Year\": 1981, \"month\": \"Nov\", \"temp\": 8.0}, {\"Year\": 1982, \"month\": \"Nov\", \"temp\": 7.3}, {\"Year\": 1983, \"month\": \"Nov\", \"temp\": null}, {\"Year\": 1984, \"month\": \"Nov\", \"temp\": null}, {\"Year\": 1985, \"month\": \"Nov\", \"temp\": null}, {\"Year\": 1986, \"month\": \"Nov\", \"temp\": null}, {\"Year\": 1987, \"month\": \"Nov\", \"temp\": 7.6}, {\"Year\": 1988, \"month\": \"Nov\", \"temp\": 7.4}, {\"Year\": 1989, \"month\": \"Nov\", \"temp\": 8.2}, {\"Year\": 1990, \"month\": \"Nov\", \"temp\": 7.3}, {\"Year\": 1991, \"month\": \"Nov\", \"temp\": 7.3}, {\"Year\": 1992, \"month\": \"Nov\", \"temp\": 7.4}, {\"Year\": 1993, \"month\": \"Nov\", \"temp\": 7.8}, {\"Year\": 1994, \"month\": \"Nov\", \"temp\": 7.2}, {\"Year\": 1995, \"month\": \"Nov\", \"temp\": 7.3}, {\"Year\": 1996, \"month\": \"Nov\", \"temp\": 6.0}, {\"Year\": 1997, \"month\": \"Nov\", \"temp\": 7.1}, {\"Year\": 1998, \"month\": \"Nov\", \"temp\": 7.8}, {\"Year\": 1999, \"month\": \"Nov\", \"temp\": 7.3}, {\"Year\": 2000, \"month\": \"Nov\", \"temp\": 7.2}, {\"Year\": 2001, \"month\": \"Nov\", \"temp\": 7.8}, {\"Year\": 2002, \"month\": \"Nov\", \"temp\": 8.1}, {\"Year\": 2003, \"month\": \"Nov\", \"temp\": 6.6}, {\"Year\": 2004, \"month\": \"Nov\", \"temp\": 8.0}, {\"Year\": 2005, \"month\": \"Nov\", \"temp\": 7.8}, {\"Year\": 2006, \"month\": \"Nov\", \"temp\": 6.2}, {\"Year\": 2007, \"month\": \"Nov\", \"temp\": 7.6}, {\"Year\": 2008, \"month\": \"Nov\", \"temp\": 8.1}, {\"Year\": 2009, \"month\": \"Nov\", \"temp\": 7.9}, {\"Year\": 2010, \"month\": \"Nov\", \"temp\": 6.7}, {\"Year\": 2011, \"month\": \"Nov\", \"temp\": 6.7}, {\"Year\": 2012, \"month\": \"Nov\", \"temp\": 5.9}, {\"Year\": 2013, \"month\": \"Nov\", \"temp\": 7.6}, {\"Year\": 2014, \"month\": \"Nov\", \"temp\": 7.1}, {\"Year\": 2015, \"month\": \"Nov\", \"temp\": 8.1}, {\"Year\": 2016, \"month\": \"Nov\", \"temp\": 8.2}, {\"Year\": 2017, \"month\": \"Nov\", \"temp\": 8.8}, {\"Year\": 2018, \"month\": \"Nov\", \"temp\": null}, {\"Year\": 1914, \"month\": \"Dec\", \"temp\": 6.3}, {\"Year\": 1915, \"month\": \"Dec\", \"temp\": 4.1}, {\"Year\": 1916, \"month\": \"Dec\", \"temp\": 3.5}, {\"Year\": 1917, \"month\": \"Dec\", \"temp\": 4.9}, {\"Year\": 1918, \"month\": \"Dec\", \"temp\": 5.0}, {\"Year\": 1919, \"month\": \"Dec\", \"temp\": 4.1}, {\"Year\": 1920, \"month\": \"Dec\", \"temp\": 5.4}, {\"Year\": 1921, \"month\": \"Dec\", \"temp\": 0.4}, {\"Year\": 1922, \"month\": \"Dec\", \"temp\": 5.0}, {\"Year\": 1923, \"month\": \"Dec\", \"temp\": 5.0}, {\"Year\": 1924, \"month\": \"Dec\", \"temp\": 4.1}, {\"Year\": 1925, \"month\": \"Dec\", \"temp\": 7.5}, {\"Year\": 1926, \"month\": \"Dec\", \"temp\": 4.4}, {\"Year\": 1927, \"month\": \"Dec\", \"temp\": 3.8}, {\"Year\": 1928, \"month\": \"Dec\", \"temp\": 6.5}, {\"Year\": 1929, \"month\": \"Dec\", \"temp\": 7.0}, {\"Year\": 1930, \"month\": \"Dec\", \"temp\": 5.0}, {\"Year\": 1931, \"month\": \"Dec\", \"temp\": 5.4}, {\"Year\": 1932, \"month\": \"Dec\", \"temp\": null}, {\"Year\": 1933, \"month\": \"Dec\", \"temp\": null}, {\"Year\": 1934, \"month\": \"Dec\", \"temp\": 5.4}, {\"Year\": 1935, \"month\": \"Dec\", \"temp\": 6.7}, {\"Year\": 1936, \"month\": \"Dec\", \"temp\": 5.4}, {\"Year\": 1937, \"month\": \"Dec\", \"temp\": 5.3}, {\"Year\": 1938, \"month\": \"Dec\", \"temp\": 5.9}, {\"Year\": 1939, \"month\": \"Dec\", \"temp\": 6.4}, {\"Year\": 1940, \"month\": \"Dec\", \"temp\": 6.7}, {\"Year\": 1941, \"month\": \"Dec\", \"temp\": 6.2}, {\"Year\": 1942, \"month\": \"Dec\", \"temp\": 5.8}, {\"Year\": 1943, \"month\": \"Dec\", \"temp\": 6.7}, {\"Year\": 1944, \"month\": \"Dec\", \"temp\": 6.6}, {\"Year\": 1945, \"month\": \"Dec\", \"temp\": 6.0}, {\"Year\": 1946, \"month\": \"Dec\", \"temp\": 5.1}, {\"Year\": 1947, \"month\": \"Dec\", \"temp\": 6.3}, {\"Year\": 1948, \"month\": \"Dec\", \"temp\": 4.7}, {\"Year\": 1949, \"month\": \"Dec\", \"temp\": 4.2}, {\"Year\": 1950, \"month\": \"Dec\", \"temp\": 5.9}, {\"Year\": 1951, \"month\": \"Dec\", \"temp\": 5.0}, {\"Year\": 1952, \"month\": \"Dec\", \"temp\": 5.3}, {\"Year\": 1953, \"month\": \"Dec\", \"temp\": 5.9}, {\"Year\": 1954, \"month\": \"Dec\", \"temp\": 5.7}, {\"Year\": 1955, \"month\": \"Dec\", \"temp\": 3.0}, {\"Year\": 1956, \"month\": \"Dec\", \"temp\": 5.4}, {\"Year\": 1957, \"month\": \"Dec\", \"temp\": 6.1}, {\"Year\": 1958, \"month\": \"Dec\", \"temp\": 5.9}, {\"Year\": 1959, \"month\": \"Dec\", \"temp\": 6.1}, {\"Year\": 1960, \"month\": \"Dec\", \"temp\": 6.1}, {\"Year\": 1961, \"month\": \"Dec\", \"temp\": 4.2}, {\"Year\": 1962, \"month\": \"Dec\", \"temp\": 6.1}, {\"Year\": 1963, \"month\": \"Dec\", \"temp\": 6.1}, {\"Year\": 1964, \"month\": \"Dec\", \"temp\": 3.9}, {\"Year\": 1965, \"month\": \"Dec\", \"temp\": 4.7}, {\"Year\": 1966, \"month\": \"Dec\", \"temp\": 5.8}, {\"Year\": 1967, \"month\": \"Dec\", \"temp\": 5.5}, {\"Year\": 1968, \"month\": \"Dec\", \"temp\": 1.9}, {\"Year\": 1969, \"month\": \"Dec\", \"temp\": 6.9}, {\"Year\": 1970, \"month\": \"Dec\", \"temp\": 1.9}, {\"Year\": 1971, \"month\": \"Dec\", \"temp\": 4.4}, {\"Year\": 1972, \"month\": \"Dec\", \"temp\": 5.3}, {\"Year\": 1973, \"month\": \"Dec\", \"temp\": 4.4}, {\"Year\": 1974, \"month\": \"Dec\", \"temp\": 5.6}, {\"Year\": 1975, \"month\": \"Dec\", \"temp\": 4.0}, {\"Year\": 1976, \"month\": \"Dec\", \"temp\": 6.0}, {\"Year\": 1977, \"month\": \"Dec\", \"temp\": 4.1}, {\"Year\": 1978, \"month\": \"Dec\", \"temp\": 6.0}, {\"Year\": 1979, \"month\": \"Dec\", \"temp\": 6.5}, {\"Year\": 1980, \"month\": \"Dec\", \"temp\": 5.6}, {\"Year\": 1981, \"month\": \"Dec\", \"temp\": 6.1}, {\"Year\": 1982, \"month\": \"Dec\", \"temp\": 6.5}, {\"Year\": 1983, \"month\": \"Dec\", \"temp\": null}, {\"Year\": 1984, \"month\": \"Dec\", \"temp\": null}, {\"Year\": 1985, \"month\": \"Dec\", \"temp\": null}, {\"Year\": 1986, \"month\": \"Dec\", \"temp\": null}, {\"Year\": 1987, \"month\": \"Dec\", \"temp\": 6.3}, {\"Year\": 1988, \"month\": \"Dec\", \"temp\": 5.6}, {\"Year\": 1989, \"month\": \"Dec\", \"temp\": 6.7}, {\"Year\": 1990, \"month\": \"Dec\", \"temp\": 2.6}, {\"Year\": 1991, \"month\": \"Dec\", \"temp\": 6.4}, {\"Year\": 1992, \"month\": \"Dec\", \"temp\": 4.6}, {\"Year\": 1993, \"month\": \"Dec\", \"temp\": 6.6}, {\"Year\": 1994, \"month\": \"Dec\", \"temp\": 4.7}, {\"Year\": 1995, \"month\": \"Dec\", \"temp\": 4.2}, {\"Year\": 1996, \"month\": \"Dec\", \"temp\": 2.0}, {\"Year\": 1997, \"month\": \"Dec\", \"temp\": 6.0}, {\"Year\": 1998, \"month\": \"Dec\", \"temp\": 2.0}, {\"Year\": 1999, \"month\": \"Dec\", \"temp\": 5.8}, {\"Year\": 2000, \"month\": \"Dec\", \"temp\": 5.7}, {\"Year\": 2001, \"month\": \"Dec\", \"temp\": 5.2}, {\"Year\": 2002, \"month\": \"Dec\", \"temp\": 6.1}, {\"Year\": 2003, \"month\": \"Dec\", \"temp\": 6.3}, {\"Year\": 2004, \"month\": \"Dec\", \"temp\": 6.5}, {\"Year\": 2005, \"month\": \"Dec\", \"temp\": 6.2}, {\"Year\": 2006, \"month\": \"Dec\", \"temp\": 5.9}, {\"Year\": 2007, \"month\": \"Dec\", \"temp\": 6.5}, {\"Year\": 2008, \"month\": \"Dec\", \"temp\": 5.9}, {\"Year\": 2009, \"month\": \"Dec\", \"temp\": 5.3}, {\"Year\": 2010, \"month\": \"Dec\", \"temp\": 4.5}, {\"Year\": 2011, \"month\": \"Dec\", \"temp\": 5.8}, {\"Year\": 2012, \"month\": \"Dec\", \"temp\": 6.0}, {\"Year\": 2013, \"month\": \"Dec\", \"temp\": 5.5}, {\"Year\": 2014, \"month\": \"Dec\", \"temp\": 7.1}, {\"Year\": 2015, \"month\": \"Dec\", \"temp\": 6.8}, {\"Year\": 2016, \"month\": \"Dec\", \"temp\": 5.5}, {\"Year\": 2017, \"month\": \"Dec\", \"temp\": 6.9}, {\"Year\": 2018, \"month\": \"Dec\", \"temp\": null}]}}, {\"mode\": \"vega-lite\"});\n",
       "</script>"
      ],
      "text/plain": [
       "alt.FacetChart(...)"
      ]
     },
     "execution_count": 29,
     "metadata": {},
     "output_type": "execute_result"
    }
   ],
   "source": [
    "alt.Chart(tidy_temps).mark_point().encode(\n",
    "    alt.X('Year:N', axis = alt.Axis(labels=False, ticks = False), title = 'Year', ),\n",
    "    alt.Y('temp:Q', title= 'Temperature')\n",
    ").properties(\n",
    "    width=200,\n",
    "    height=200\n",
    ").facet(alt.Facet('month:N', sort = ['Jan','Feb','Mar','Apr','May','Jun','Jul','Aug','Sep','Oct','Nov','Dec']),\n",
    "    columns = 4\n",
    ").interactive()"
   ]
  },
  {
   "cell_type": "raw",
   "id": "86971ca6",
   "metadata": {
    "vscode": {
     "languageId": "raw"
    }
   },
   "source": [
    "# BEGIN QUESTION\n",
    "name: ex5\n",
    "points: 10"
   ]
  },
  {
   "cell_type": "markdown",
   "id": "7daca1f0-2617-4ea5-8e63-b50756753a64",
   "metadata": {},
   "source": [
    "## Exercise 5: More Tidying\n",
    "\n",
    "rubric = {autograde:10}\n",
    "\n",
    "Use one of the `pandas` functions to tidy the data that you will load in from the `language_diversity.csv` file located in the data directory. This data was collected to answer research questions, such as what factors are associated with language diversity (as measured by the number of languages spoken in a country). Read in the `language_diversity.csv` data set and decide what tidying you will have to do, and then get to work and tidy it! Assign the tidy data frame you create to the variable `tidy_lang`."
   ]
  },
  {
   "cell_type": "raw",
   "id": "2293e787",
   "metadata": {
    "vscode": {
     "languageId": "raw"
    }
   },
   "source": [
    "# BEGIN SOLUTION"
   ]
  },
  {
   "cell_type": "code",
   "execution_count": 30,
   "id": "9f7881d0-9550-4d59-ab75-dbb9daaee1cd",
   "metadata": {},
   "outputs": [],
   "source": [
    "# BEGIN SOLUTION\n",
    "untidy_lang = pd.read_csv(\"data/language_diversity.csv\", sep = '\\t')\n",
    "tidy_lang = pd.pivot(untidy_lang,\n",
    "                      columns = \"Measurement\", values = \"Value\",\n",
    "                      index = [\"Continent\",\"Country\"])\n",
    "tidy_lang.reset_index(inplace = True);\n",
    "tidy_lang.columns.name = None;\n",
    "# END SOLUTION"
   ]
  },
  {
   "cell_type": "code",
   "execution_count": 31,
   "id": "bc49ca68-88a8-42ca-91ff-b2ba5215c5ad",
   "metadata": {},
   "outputs": [
    {
     "data": {
      "text/html": [
       "<div>\n",
       "<style scoped>\n",
       "    .dataframe tbody tr th:only-of-type {\n",
       "        vertical-align: middle;\n",
       "    }\n",
       "\n",
       "    .dataframe tbody tr th {\n",
       "        vertical-align: top;\n",
       "    }\n",
       "\n",
       "    .dataframe thead th {\n",
       "        text-align: right;\n",
       "    }\n",
       "</style>\n",
       "<table border=\"1\" class=\"dataframe\">\n",
       "  <thead>\n",
       "    <tr style=\"text-align: right;\">\n",
       "      <th></th>\n",
       "      <th>Continent</th>\n",
       "      <th>Country</th>\n",
       "      <th>Area</th>\n",
       "      <th>Langs</th>\n",
       "      <th>MGS</th>\n",
       "      <th>Population</th>\n",
       "      <th>Stations</th>\n",
       "      <th>Std</th>\n",
       "    </tr>\n",
       "  </thead>\n",
       "  <tbody>\n",
       "    <tr>\n",
       "      <th>0</th>\n",
       "      <td>Africa</td>\n",
       "      <td>Algeria</td>\n",
       "      <td>2381741.0</td>\n",
       "      <td>18.0</td>\n",
       "      <td>6.60</td>\n",
       "      <td>25660.0</td>\n",
       "      <td>102.0</td>\n",
       "      <td>2.29</td>\n",
       "    </tr>\n",
       "    <tr>\n",
       "      <th>1</th>\n",
       "      <td>Africa</td>\n",
       "      <td>Angola</td>\n",
       "      <td>1246700.0</td>\n",
       "      <td>42.0</td>\n",
       "      <td>6.22</td>\n",
       "      <td>10303.0</td>\n",
       "      <td>50.0</td>\n",
       "      <td>1.87</td>\n",
       "    </tr>\n",
       "    <tr>\n",
       "      <th>2</th>\n",
       "      <td>Africa</td>\n",
       "      <td>Benin</td>\n",
       "      <td>112622.0</td>\n",
       "      <td>52.0</td>\n",
       "      <td>7.14</td>\n",
       "      <td>4889.0</td>\n",
       "      <td>7.0</td>\n",
       "      <td>0.99</td>\n",
       "    </tr>\n",
       "    <tr>\n",
       "      <th>...</th>\n",
       "      <td>...</td>\n",
       "      <td>...</td>\n",
       "      <td>...</td>\n",
       "      <td>...</td>\n",
       "      <td>...</td>\n",
       "      <td>...</td>\n",
       "      <td>...</td>\n",
       "      <td>...</td>\n",
       "    </tr>\n",
       "    <tr>\n",
       "      <th>71</th>\n",
       "      <td>Oceania</td>\n",
       "      <td>Papua New Guinea</td>\n",
       "      <td>462840.0</td>\n",
       "      <td>862.0</td>\n",
       "      <td>10.88</td>\n",
       "      <td>3772.0</td>\n",
       "      <td>8.0</td>\n",
       "      <td>1.96</td>\n",
       "    </tr>\n",
       "    <tr>\n",
       "      <th>72</th>\n",
       "      <td>Oceania</td>\n",
       "      <td>Solomon Islands</td>\n",
       "      <td>28896.0</td>\n",
       "      <td>66.0</td>\n",
       "      <td>12.00</td>\n",
       "      <td>3301.0</td>\n",
       "      <td>1.0</td>\n",
       "      <td>0.00</td>\n",
       "    </tr>\n",
       "    <tr>\n",
       "      <th>73</th>\n",
       "      <td>Oceania</td>\n",
       "      <td>Vanuatu</td>\n",
       "      <td>12189.0</td>\n",
       "      <td>111.0</td>\n",
       "      <td>12.00</td>\n",
       "      <td>163.0</td>\n",
       "      <td>4.0</td>\n",
       "      <td>0.00</td>\n",
       "    </tr>\n",
       "  </tbody>\n",
       "</table>\n",
       "<p>74 rows × 8 columns</p>\n",
       "</div>"
      ],
      "text/plain": [
       "   Continent           Country       Area  Langs    MGS  Population  Stations  \\\n",
       "0     Africa           Algeria  2381741.0   18.0   6.60     25660.0     102.0   \n",
       "1     Africa            Angola  1246700.0   42.0   6.22     10303.0      50.0   \n",
       "2     Africa             Benin   112622.0   52.0   7.14      4889.0       7.0   \n",
       "..       ...               ...        ...    ...    ...         ...       ...   \n",
       "71   Oceania  Papua New Guinea   462840.0  862.0  10.88      3772.0       8.0   \n",
       "72   Oceania   Solomon Islands    28896.0   66.0  12.00      3301.0       1.0   \n",
       "73   Oceania           Vanuatu    12189.0  111.0  12.00       163.0       4.0   \n",
       "\n",
       "     Std  \n",
       "0   2.29  \n",
       "1   1.87  \n",
       "2   0.99  \n",
       "..   ...  \n",
       "71  1.96  \n",
       "72  0.00  \n",
       "73  0.00  \n",
       "\n",
       "[74 rows x 8 columns]"
      ]
     },
     "execution_count": 31,
     "metadata": {},
     "output_type": "execute_result"
    }
   ],
   "source": [
    "tidy_lang"
   ]
  },
  {
   "cell_type": "raw",
   "id": "df4bc9c9",
   "metadata": {
    "vscode": {
     "languageId": "raw"
    }
   },
   "source": [
    "# END SOLUTION"
   ]
  },
  {
   "cell_type": "raw",
   "id": "40cc853e",
   "metadata": {
    "vscode": {
     "languageId": "raw"
    }
   },
   "source": [
    "# BEGIN TESTS"
   ]
  },
  {
   "cell_type": "code",
   "execution_count": 32,
   "id": "63ec7bdf",
   "metadata": {},
   "outputs": [],
   "source": [
    "# TEST\n",
    "\n",
    "assert tidy_lang is not None, \"Data Frame tidy_lang has not been defined\"\n",
    "\n",
    "assert isinstance(tidy_lang, pd.core.frame.DataFrame), \"tidy_lang is not a Data Frame\""
   ]
  },
  {
   "cell_type": "code",
   "execution_count": 33,
   "id": "c6e145c2",
   "metadata": {},
   "outputs": [],
   "source": [
    "# HIDDEN TEST\n",
    "\n",
    "nrows = 74\n",
    "ncols = 8\n",
    "assert tidy_lang.shape == (nrows,ncols), f\"tidy_lang has incorrect shape. Expected (74,8), got: {tidy_lang.shape}\"\n",
    "\n",
    "# Check column names\n",
    "expectname = 'areacontinentcountrylangsmgspopulationstationsstd'\n",
    "actualname = \"\".join(sorted([c.lower() for c in list(tidy_lang.columns)]))\n",
    "\n",
    "assert actualname == expectname, \"Column names not as expected\"\n",
    "\n",
    "# Check sum of Langs column\n",
    "\n",
    "expectedlangs = 6640.0\n",
    "actuallangs = sum(tidy_lang['Langs'].astype('float64'))\n",
    "\n",
    "tolerance = 2\n",
    "\n",
    "assert np.abs(expectedlangs - actuallangs) <= tolerance"
   ]
  },
  {
   "cell_type": "raw",
   "id": "59a1bc2b",
   "metadata": {
    "vscode": {
     "languageId": "raw"
    }
   },
   "source": [
    "# END TESTS"
   ]
  },
  {
   "cell_type": "raw",
   "id": "90c460c4-5b13-41fb-92de-f391a968dbe4",
   "metadata": {
    "vscode": {
     "languageId": "raw"
    }
   },
   "source": [
    "# END QUESTION"
   ]
  },
  {
   "cell_type": "markdown",
   "id": "c95e4892-b5f6-4eb1-9cd1-d48ce22835c0",
   "metadata": {},
   "source": [
    "### Let's plot!"
   ]
  },
  {
   "cell_type": "markdown",
   "id": "b407845a-2f7a-4a5d-beae-a57adc6ea1ed",
   "metadata": {},
   "source": [
    "Now that we have this data in a tidy format, let’s explore it and plot the number of languages spoken in each country in the data set against the country’s population:"
   ]
  },
  {
   "cell_type": "code",
   "execution_count": 34,
   "id": "a8c000f3-c9f8-48c7-99d1-cbaf7bc89a43",
   "metadata": {},
   "outputs": [
    {
     "data": {
      "text/html": [
       "\n",
       "<style>\n",
       "  #altair-viz-91c4593da14842419b6e53e7cb44fbd0.vega-embed {\n",
       "    width: 100%;\n",
       "    display: flex;\n",
       "  }\n",
       "\n",
       "  #altair-viz-91c4593da14842419b6e53e7cb44fbd0.vega-embed details,\n",
       "  #altair-viz-91c4593da14842419b6e53e7cb44fbd0.vega-embed details summary {\n",
       "    position: relative;\n",
       "  }\n",
       "</style>\n",
       "<div id=\"altair-viz-91c4593da14842419b6e53e7cb44fbd0\"></div>\n",
       "<script type=\"text/javascript\">\n",
       "  var VEGA_DEBUG = (typeof VEGA_DEBUG == \"undefined\") ? {} : VEGA_DEBUG;\n",
       "  (function(spec, embedOpt){\n",
       "    let outputDiv = document.currentScript.previousElementSibling;\n",
       "    if (outputDiv.id !== \"altair-viz-91c4593da14842419b6e53e7cb44fbd0\") {\n",
       "      outputDiv = document.getElementById(\"altair-viz-91c4593da14842419b6e53e7cb44fbd0\");\n",
       "    }\n",
       "    const paths = {\n",
       "      \"vega\": \"https://cdn.jsdelivr.net/npm/vega@5?noext\",\n",
       "      \"vega-lib\": \"https://cdn.jsdelivr.net/npm/vega-lib?noext\",\n",
       "      \"vega-lite\": \"https://cdn.jsdelivr.net/npm/vega-lite@5.20.1?noext\",\n",
       "      \"vega-embed\": \"https://cdn.jsdelivr.net/npm/vega-embed@6?noext\",\n",
       "    };\n",
       "\n",
       "    function maybeLoadScript(lib, version) {\n",
       "      var key = `${lib.replace(\"-\", \"\")}_version`;\n",
       "      return (VEGA_DEBUG[key] == version) ?\n",
       "        Promise.resolve(paths[lib]) :\n",
       "        new Promise(function(resolve, reject) {\n",
       "          var s = document.createElement('script');\n",
       "          document.getElementsByTagName(\"head\")[0].appendChild(s);\n",
       "          s.async = true;\n",
       "          s.onload = () => {\n",
       "            VEGA_DEBUG[key] = version;\n",
       "            return resolve(paths[lib]);\n",
       "          };\n",
       "          s.onerror = () => reject(`Error loading script: ${paths[lib]}`);\n",
       "          s.src = paths[lib];\n",
       "        });\n",
       "    }\n",
       "\n",
       "    function showError(err) {\n",
       "      outputDiv.innerHTML = `<div class=\"error\" style=\"color:red;\">${err}</div>`;\n",
       "      throw err;\n",
       "    }\n",
       "\n",
       "    function displayChart(vegaEmbed) {\n",
       "      vegaEmbed(outputDiv, spec, embedOpt)\n",
       "        .catch(err => showError(`Javascript Error: ${err.message}<br>This usually means there's a typo in your chart specification. See the javascript console for the full traceback.`));\n",
       "    }\n",
       "\n",
       "    if(typeof define === \"function\" && define.amd) {\n",
       "      requirejs.config({paths});\n",
       "      require([\"vega-embed\"], displayChart, err => showError(`Error loading script: ${err.message}`));\n",
       "    } else {\n",
       "      maybeLoadScript(\"vega\", \"5\")\n",
       "        .then(() => maybeLoadScript(\"vega-lite\", \"5.20.1\"))\n",
       "        .then(() => maybeLoadScript(\"vega-embed\", \"6\"))\n",
       "        .catch(showError)\n",
       "        .then(() => displayChart(vegaEmbed));\n",
       "    }\n",
       "  })({\"config\": {\"view\": {\"continuousWidth\": 300, \"continuousHeight\": 300}}, \"data\": {\"name\": \"data-72ca05c299dde64c1acfab70838dc6cc\"}, \"mark\": {\"type\": \"point\"}, \"encoding\": {\"color\": {\"field\": \"Continent\", \"type\": \"nominal\"}, \"shape\": {\"field\": \"Continent\", \"type\": \"nominal\"}, \"x\": {\"field\": \"Population\", \"scale\": {\"type\": \"log\"}, \"type\": \"quantitative\"}, \"y\": {\"field\": \"Langs\", \"scale\": {\"type\": \"log\"}, \"type\": \"quantitative\"}}, \"params\": [{\"name\": \"param_2\", \"select\": {\"type\": \"interval\", \"encodings\": [\"x\", \"y\"]}, \"bind\": \"scales\"}], \"$schema\": \"https://vega.github.io/schema/vega-lite/v5.20.1.json\", \"datasets\": {\"data-72ca05c299dde64c1acfab70838dc6cc\": [{\"Continent\": \"Africa\", \"Country\": \"Algeria\", \"Area\": 2381741.0, \"Langs\": 18.0, \"MGS\": 6.6, \"Population\": 25660.0, \"Stations\": 102.0, \"Std\": 2.29}, {\"Continent\": \"Africa\", \"Country\": \"Angola\", \"Area\": 1246700.0, \"Langs\": 42.0, \"MGS\": 6.22, \"Population\": 10303.0, \"Stations\": 50.0, \"Std\": 1.87}, {\"Continent\": \"Africa\", \"Country\": \"Benin\", \"Area\": 112622.0, \"Langs\": 52.0, \"MGS\": 7.14, \"Population\": 4889.0, \"Stations\": 7.0, \"Std\": 0.99}, {\"Continent\": \"Africa\", \"Country\": \"Botswana\", \"Area\": 581730.0, \"Langs\": 27.0, \"MGS\": 4.6, \"Population\": 1348.0, \"Stations\": 10.0, \"Std\": 1.69}, {\"Continent\": \"Africa\", \"Country\": \"Burkina Faso\", \"Area\": 274000.0, \"Langs\": 75.0, \"MGS\": 5.17, \"Population\": 9242.0, \"Stations\": 6.0, \"Std\": 1.07}, {\"Continent\": \"Africa\", \"Country\": \"CAR\", \"Area\": 622984.0, \"Langs\": 94.0, \"MGS\": 8.08, \"Population\": 3127.0, \"Stations\": 13.0, \"Std\": 1.21}, {\"Continent\": \"Africa\", \"Country\": \"Cameroon\", \"Area\": 475422.0, \"Langs\": 275.0, \"MGS\": 9.17, \"Population\": 12239.0, \"Stations\": 35.0, \"Std\": 1.75}, {\"Continent\": \"Africa\", \"Country\": \"Chad\", \"Area\": 1284000.0, \"Langs\": 126.0, \"MGS\": 4.0, \"Population\": 5819.0, \"Stations\": 11.0, \"Std\": 1.81}, {\"Continent\": \"Africa\", \"Country\": \"Congo\", \"Area\": 342000.0, \"Langs\": 60.0, \"MGS\": 9.6, \"Population\": 2346.0, \"Stations\": 10.0, \"Std\": 1.69}, {\"Continent\": \"Africa\", \"Country\": \"Cote d'Ivoire\", \"Area\": 322463.0, \"Langs\": 75.0, \"MGS\": 8.67, \"Population\": 12464.0, \"Stations\": 9.0, \"Std\": 1.25}, {\"Continent\": \"Africa\", \"Country\": \"Egypt\", \"Area\": 1001449.0, \"Langs\": 11.0, \"MGS\": 0.89, \"Population\": 54688.0, \"Stations\": 50.0, \"Std\": 0.89}, {\"Continent\": \"Africa\", \"Country\": \"Ethiopia\", \"Area\": 1221900.0, \"Langs\": 112.0, \"MGS\": 7.28, \"Population\": 53383.0, \"Stations\": 36.0, \"Std\": 3.1}, {\"Continent\": \"Africa\", \"Country\": \"Gabon\", \"Area\": 267667.0, \"Langs\": 40.0, \"MGS\": 8.79, \"Population\": 1212.0, \"Stations\": 14.0, \"Std\": 0.77}, {\"Continent\": \"Africa\", \"Country\": \"Ghana\", \"Area\": 238553.0, \"Langs\": 73.0, \"MGS\": 8.79, \"Population\": 15509.0, \"Stations\": 28.0, \"Std\": 1.68}, {\"Continent\": \"Africa\", \"Country\": \"Guinea\", \"Area\": 245857.0, \"Langs\": 29.0, \"MGS\": 7.38, \"Population\": 5931.0, \"Stations\": 8.0, \"Std\": 1.22}, {\"Continent\": \"Africa\", \"Country\": \"Kenya\", \"Area\": 580367.0, \"Langs\": 58.0, \"MGS\": 7.26, \"Population\": 25905.0, \"Stations\": 34.0, \"Std\": 3.61}, {\"Continent\": \"Africa\", \"Country\": \"Liberia\", \"Area\": 111369.0, \"Langs\": 34.0, \"MGS\": 10.62, \"Population\": 2705.0, \"Stations\": 21.0, \"Std\": 0.84}, {\"Continent\": \"Africa\", \"Country\": \"Libya\", \"Area\": 1759540.0, \"Langs\": 13.0, \"MGS\": 2.43, \"Population\": 4712.0, \"Stations\": 54.0, \"Std\": 1.6}, {\"Continent\": \"Africa\", \"Country\": \"Madagascar\", \"Area\": 587041.0, \"Langs\": 4.0, \"MGS\": 7.33, \"Population\": 11493.0, \"Stations\": 81.0, \"Std\": 2.96}, {\"Continent\": \"Africa\", \"Country\": \"Malawi\", \"Area\": 118484.0, \"Langs\": 14.0, \"MGS\": 5.8, \"Population\": 8556.0, \"Stations\": 20.0, \"Std\": 1.5}, {\"Continent\": \"Africa\", \"Country\": \"Mali\", \"Area\": 1240192.0, \"Langs\": 31.0, \"MGS\": 3.59, \"Population\": 9507.0, \"Stations\": 17.0, \"Std\": 1.97}, {\"Continent\": \"Africa\", \"Country\": \"Mauritania\", \"Area\": 1025520.0, \"Langs\": 8.0, \"MGS\": 0.75, \"Population\": 2036.0, \"Stations\": 8.0, \"Std\": 0.83}, {\"Continent\": \"Africa\", \"Country\": \"Mozambique\", \"Area\": 801590.0, \"Langs\": 36.0, \"MGS\": 6.07, \"Population\": 16084.0, \"Stations\": 90.0, \"Std\": 1.39}, {\"Continent\": \"Africa\", \"Country\": \"Namibia\", \"Area\": 824292.0, \"Langs\": 21.0, \"MGS\": 2.5, \"Population\": 1837.0, \"Stations\": 6.0, \"Std\": 1.89}, {\"Continent\": \"Africa\", \"Country\": \"Niger\", \"Area\": 1267000.0, \"Langs\": 21.0, \"MGS\": 2.4, \"Population\": 7984.0, \"Stations\": 10.0, \"Std\": 1.28}, {\"Continent\": \"Africa\", \"Country\": \"Nigeria\", \"Area\": 923768.0, \"Langs\": 427.0, \"MGS\": 7.0, \"Population\": 112163.0, \"Stations\": 24.0, \"Std\": 2.16}, {\"Continent\": \"Africa\", \"Country\": \"Senegal\", \"Area\": 196722.0, \"Langs\": 42.0, \"MGS\": 3.58, \"Population\": 7533.0, \"Stations\": 12.0, \"Std\": 1.11}, {\"Continent\": \"Africa\", \"Country\": \"Sierra Leone\", \"Area\": 71740.0, \"Langs\": 23.0, \"MGS\": 8.22, \"Population\": 4260.0, \"Stations\": 23.0, \"Std\": 0.59}, {\"Continent\": \"Africa\", \"Country\": \"Somalia\", \"Area\": 637657.0, \"Langs\": 14.0, \"MGS\": 3.0, \"Population\": 7691.0, \"Stations\": 28.0, \"Std\": 1.69}, {\"Continent\": \"Africa\", \"Country\": \"South Africa\", \"Area\": 1221037.0, \"Langs\": 32.0, \"MGS\": 6.05, \"Population\": 36070.0, \"Stations\": 114.0, \"Std\": 3.5}, {\"Continent\": \"Africa\", \"Country\": \"Sudan\", \"Area\": 2505813.0, \"Langs\": 134.0, \"MGS\": 4.02, \"Population\": 25941.0, \"Stations\": 43.0, \"Std\": 2.82}, {\"Continent\": \"Africa\", \"Country\": \"Tanzania\", \"Area\": 945087.0, \"Langs\": 131.0, \"MGS\": 7.02, \"Population\": 28359.0, \"Stations\": 45.0, \"Std\": 1.9}, {\"Continent\": \"Africa\", \"Country\": \"Togo\", \"Area\": 56785.0, \"Langs\": 43.0, \"MGS\": 7.91, \"Population\": 3643.0, \"Stations\": 11.0, \"Std\": 1.78}, {\"Continent\": \"Africa\", \"Country\": \"Uganda\", \"Area\": 235880.0, \"Langs\": 43.0, \"MGS\": 10.14, \"Population\": 19517.0, \"Stations\": 21.0, \"Std\": 1.17}, {\"Continent\": \"Africa\", \"Country\": \"Zaire\", \"Area\": 2344858.0, \"Langs\": 219.0, \"MGS\": 9.44, \"Population\": 36672.0, \"Stations\": 16.0, \"Std\": 1.9}, {\"Continent\": \"Africa\", \"Country\": \"Zambia\", \"Area\": 752618.0, \"Langs\": 38.0, \"MGS\": 5.43, \"Population\": 8780.0, \"Stations\": 30.0, \"Std\": 0.67}, {\"Continent\": \"Africa\", \"Country\": \"Zimbabwe\", \"Area\": 390759.0, \"Langs\": 18.0, \"MGS\": 5.29, \"Population\": 10019.0, \"Stations\": 52.0, \"Std\": 1.43}, {\"Continent\": \"Americas\", \"Country\": \"Bolivia\", \"Area\": 1098581.0, \"Langs\": 38.0, \"MGS\": 6.92, \"Population\": 7612.0, \"Stations\": 48.0, \"Std\": 2.5}, {\"Continent\": \"Americas\", \"Country\": \"Brazil\", \"Area\": 8511965.0, \"Langs\": 209.0, \"MGS\": 9.71, \"Population\": 153322.0, \"Stations\": 245.0, \"Std\": 5.87}, {\"Continent\": \"Americas\", \"Country\": \"Colombia\", \"Area\": 1138914.0, \"Langs\": 79.0, \"MGS\": 11.37, \"Population\": 33613.0, \"Stations\": 35.0, \"Std\": 1.37}, {\"Continent\": \"Americas\", \"Country\": \"Costa Rica\", \"Area\": 51100.0, \"Langs\": 10.0, \"MGS\": 8.92, \"Population\": 3064.0, \"Stations\": 38.0, \"Std\": 1.78}, {\"Continent\": \"Americas\", \"Country\": \"Cuba\", \"Area\": 110861.0, \"Langs\": 1.0, \"MGS\": 7.46, \"Population\": 10736.0, \"Stations\": 13.0, \"Std\": 1.55}, {\"Continent\": \"Americas\", \"Country\": \"Ecuador\", \"Area\": 283561.0, \"Langs\": 22.0, \"MGS\": 8.14, \"Population\": 10851.0, \"Stations\": 44.0, \"Std\": 3.47}, {\"Continent\": \"Americas\", \"Country\": \"French Guiana\", \"Area\": 90000.0, \"Langs\": 11.0, \"MGS\": 10.4, \"Population\": 102.0, \"Stations\": 5.0, \"Std\": 0.8}, {\"Continent\": \"Americas\", \"Country\": \"Guatemala\", \"Area\": 108889.0, \"Langs\": 52.0, \"MGS\": 9.31, \"Population\": 9467.0, \"Stations\": 59.0, \"Std\": 2.23}, {\"Continent\": \"Americas\", \"Country\": \"Guyana\", \"Area\": 214969.0, \"Langs\": 14.0, \"MGS\": 12.0, \"Population\": 800.0, \"Stations\": 5.0, \"Std\": 0.0}, {\"Continent\": \"Americas\", \"Country\": \"Honduras\", \"Area\": 112088.0, \"Langs\": 9.0, \"MGS\": 8.54, \"Population\": 5265.0, \"Stations\": 13.0, \"Std\": 2.53}, {\"Continent\": \"Americas\", \"Country\": \"Mexico\", \"Area\": 1958201.0, \"Langs\": 243.0, \"MGS\": 5.84, \"Population\": 87836.0, \"Stations\": 272.0, \"Std\": 2.69}, {\"Continent\": \"Americas\", \"Country\": \"Nicaragua\", \"Area\": 130000.0, \"Langs\": 7.0, \"MGS\": 8.13, \"Population\": 3999.0, \"Stations\": 8.0, \"Std\": 2.15}, {\"Continent\": \"Americas\", \"Country\": \"Panama\", \"Area\": 75517.0, \"Langs\": 13.0, \"MGS\": 9.2, \"Population\": 2466.0, \"Stations\": 5.0, \"Std\": 0.75}, {\"Continent\": \"Americas\", \"Country\": \"Paraguay\", \"Area\": 406752.0, \"Langs\": 21.0, \"MGS\": 10.25, \"Population\": 4397.0, \"Stations\": 16.0, \"Std\": 2.51}, {\"Continent\": \"Americas\", \"Country\": \"Peru\", \"Area\": 1285216.0, \"Langs\": 91.0, \"MGS\": 2.65, \"Population\": 21998.0, \"Stations\": 40.0, \"Std\": 4.22}, {\"Continent\": \"Americas\", \"Country\": \"Suriname\", \"Area\": 163265.0, \"Langs\": 17.0, \"MGS\": 12.0, \"Population\": 429.0, \"Stations\": 2.0, \"Std\": 0.0}, {\"Continent\": \"Americas\", \"Country\": \"Venezuela\", \"Area\": 912050.0, \"Langs\": 40.0, \"MGS\": 7.98, \"Population\": 20226.0, \"Stations\": 44.0, \"Std\": 2.73}, {\"Continent\": \"Asia\", \"Country\": \"Bangladesh\", \"Area\": 143998.0, \"Langs\": 37.0, \"MGS\": 7.4, \"Population\": 118745.0, \"Stations\": 20.0, \"Std\": 0.73}, {\"Continent\": \"Asia\", \"Country\": \"Cambodia\", \"Area\": 181035.0, \"Langs\": 18.0, \"MGS\": 8.44, \"Population\": 8442.0, \"Stations\": 9.0, \"Std\": 0.5}, {\"Continent\": \"Asia\", \"Country\": \"India\", \"Area\": 3287590.0, \"Langs\": 405.0, \"MGS\": 5.32, \"Population\": 849638.0, \"Stations\": 218.0, \"Std\": 1.92}, {\"Continent\": \"Asia\", \"Country\": \"Indonesia\", \"Area\": 1904569.0, \"Langs\": 701.0, \"MGS\": 10.67, \"Population\": 187765.0, \"Stations\": 58.0, \"Std\": 1.82}, {\"Continent\": \"Asia\", \"Country\": \"Laos\", \"Area\": 236800.0, \"Langs\": 93.0, \"MGS\": 7.14, \"Population\": 4262.0, \"Stations\": 7.0, \"Std\": 0.35}, {\"Continent\": \"Asia\", \"Country\": \"Malaysia\", \"Area\": 329749.0, \"Langs\": 140.0, \"MGS\": 11.92, \"Population\": 18333.0, \"Stations\": 63.0, \"Std\": 0.37}, {\"Continent\": \"Asia\", \"Country\": \"Myanmar\", \"Area\": 676578.0, \"Langs\": 105.0, \"MGS\": 6.93, \"Population\": 42561.0, \"Stations\": 30.0, \"Std\": 0.81}, {\"Continent\": \"Asia\", \"Country\": \"Nepal\", \"Area\": 140797.0, \"Langs\": 102.0, \"MGS\": 6.39, \"Population\": 19605.0, \"Stations\": 16.0, \"Std\": 1.98}, {\"Continent\": \"Asia\", \"Country\": \"Oman\", \"Area\": 212457.0, \"Langs\": 8.0, \"MGS\": 0.0, \"Population\": 1559.0, \"Stations\": 2.0, \"Std\": 0.0}, {\"Continent\": \"Asia\", \"Country\": \"Phillipines\", \"Area\": 300000.0, \"Langs\": 168.0, \"MGS\": 10.34, \"Population\": 62868.0, \"Stations\": 64.0, \"Std\": 1.92}, {\"Continent\": \"Asia\", \"Country\": \"Saudi Arabia\", \"Area\": 2149690.0, \"Langs\": 8.0, \"MGS\": 0.4, \"Population\": 14691.0, \"Stations\": 10.0, \"Std\": 0.92}, {\"Continent\": \"Asia\", \"Country\": \"Sri Lanka\", \"Area\": 65610.0, \"Langs\": 7.0, \"MGS\": 9.59, \"Population\": 17240.0, \"Stations\": 17.0, \"Std\": 2.59}, {\"Continent\": \"Asia\", \"Country\": \"Thailand\", \"Area\": 513115.0, \"Langs\": 82.0, \"MGS\": 8.04, \"Population\": 56293.0, \"Stations\": 54.0, \"Std\": 1.57}, {\"Continent\": \"Asia\", \"Country\": \"UAE\", \"Area\": 83600.0, \"Langs\": 9.0, \"MGS\": 0.83, \"Population\": 1629.0, \"Stations\": 6.0, \"Std\": 0.69}, {\"Continent\": \"Asia\", \"Country\": \"Vietnam\", \"Area\": 331689.0, \"Langs\": 88.0, \"MGS\": 8.8, \"Population\": 68183.0, \"Stations\": 40.0, \"Std\": 1.59}, {\"Continent\": \"Asia\", \"Country\": \"Yemen\", \"Area\": 527968.0, \"Langs\": 6.0, \"MGS\": 0.0, \"Population\": 12302.0, \"Stations\": 2.0, \"Std\": 0.0}, {\"Continent\": \"Oceania\", \"Country\": \"Australia\", \"Area\": 7713364.0, \"Langs\": 234.0, \"MGS\": 6.0, \"Population\": 17336.0, \"Stations\": 134.0, \"Std\": 4.17}, {\"Continent\": \"Oceania\", \"Country\": \"Papua New Guinea\", \"Area\": 462840.0, \"Langs\": 862.0, \"MGS\": 10.88, \"Population\": 3772.0, \"Stations\": 8.0, \"Std\": 1.96}, {\"Continent\": \"Oceania\", \"Country\": \"Solomon Islands\", \"Area\": 28896.0, \"Langs\": 66.0, \"MGS\": 12.0, \"Population\": 3301.0, \"Stations\": 1.0, \"Std\": 0.0}, {\"Continent\": \"Oceania\", \"Country\": \"Vanuatu\", \"Area\": 12189.0, \"Langs\": 111.0, \"MGS\": 12.0, \"Population\": 163.0, \"Stations\": 4.0, \"Std\": 0.0}]}}, {\"mode\": \"vega-lite\"});\n",
       "</script>"
      ],
      "text/plain": [
       "alt.Chart(...)"
      ]
     },
     "execution_count": 34,
     "metadata": {},
     "output_type": "execute_result"
    }
   ],
   "source": [
    "alt.Chart(tidy_lang).mark_point().encode(\n",
    "    x=alt.X('Population').scale(type=\"log\"),\n",
    "    y=alt.Y('Langs').scale(type=\"log\"),\n",
    "    color='Continent:N',\n",
    "    shape='Continent:N',\n",
    ").interactive()"
   ]
  },
  {
   "cell_type": "raw",
   "id": "36a6bfb6",
   "metadata": {
    "vscode": {
     "languageId": "raw"
    }
   },
   "source": [
    "# BEGIN QUESTION\n",
    "name: ex6\n",
    "points: 5"
   ]
  },
  {
   "cell_type": "markdown",
   "id": "753b7c5f-eb73-4d73-b809-87a25a674e61",
   "metadata": {},
   "source": [
    "## Exercise 6 (Challenging)\n",
    "\n",
    "rubric = {accuracy:5}\n",
    "\n",
    "(This exercise may be more time consuming than the previous ones. Attempt it only if you finish the previous questions early and want a bit more of a challenge.)\n",
    "\n",
    "The file `data/beach_data.xlsx` contains data from the Narrabeen beach survey program in Sydney, Australia. The survey program started in the 1970's and has continued to the present day. The survey program is aimed to measure the width of the beach every few weeks. There are five locations along the beach for which measurements are made, from location 1 at the northern end of the beach, to location 5 at the southern end. All the data is available [here](http://narrabeen.wrl.unsw.edu.au/explore_data/time_series/).\n",
    "\n",
    "Your tasks:\n",
    "\n",
    "* Determine the largest absolute deviation in width for each beach location in 2010, relative to the mean beach width at that location across all time.\n",
    "* Determine the standard deviation in width for each beach location in 2010.\n",
    "* Present the results in a single Data Frame and sort it in descending order of maximum absolute deviation. For example, the corresponding data frame for the year 2011 would look like this:\n",
    "\n",
    "\n",
    "| Location  | Abs Max | Std |\n",
    "| --- | --- | --- |\n",
    "|  3 | 35.805778 | 13.258404 |\n",
    "|  4 | 31.611717 | 9.892066 |\n",
    "|  5 | 26.424559 | 7.463615 |\n",
    "|  2 | 25.652488 | 8.867712 |\n",
    "|  1 | 23.943018 | 8.244922 |"
   ]
  },
  {
   "cell_type": "raw",
   "id": "6ea80da4",
   "metadata": {
    "vscode": {
     "languageId": "raw"
    }
   },
   "source": [
    "# BEGIN SOLUTION"
   ]
  },
  {
   "cell_type": "code",
   "execution_count": 35,
   "id": "836f92e7",
   "metadata": {},
   "outputs": [],
   "source": [
    "# BEGIN SOLUTION\n",
    "beach_df = pd.read_excel('data/beach_data.xlsx', sheet_name = 'Data')\n",
    "# Subtract the mean of each location to get a DataFrame of deviations from the mean\n",
    "beach_df.iloc[:,-5:] -= beach_df.iloc[:,-5:].mean()\n",
    "# Look only at dates from 2010\n",
    "filter_df = beach_df[beach_df['Year']==2010]\n",
    "# Ignore the columns for day/month/year\n",
    "filter_df = filter_df.drop(labels=[\"Day\", \"Month\", \"Year\"], axis = 1)\n",
    "# Make a Data Frame of maximum absolute deviations\n",
    "ans_df = pd.DataFrame(filter_df.abs().max(), columns=[\"Abs Max\"])\n",
    "# Add a column for the standard deviations\n",
    "ans_df[\"Std\"] = pd.DataFrame(filter_df.std())\n",
    "# Sort by descending order for Abs Max\n",
    "ans_df.sort_values(by=\"Abs Max\", ascending= False, inplace=True)\n",
    "# END SOLUTION"
   ]
  },
  {
   "cell_type": "raw",
   "id": "8471e393",
   "metadata": {
    "vscode": {
     "languageId": "raw"
    }
   },
   "source": [
    "# END SOLUTION"
   ]
  },
  {
   "cell_type": "raw",
   "id": "b9db857e",
   "metadata": {
    "vscode": {
     "languageId": "raw"
    }
   },
   "source": [
    "# END QUESTION"
   ]
  },
  {
   "cell_type": "markdown",
   "id": "6159fdac-eacc-4369-a902-5a985fd74a82",
   "metadata": {},
   "source": [
    "**Congratulations!** You are done the lab!!! Pat yourself on the back, convert the notebook to PDF and submit your lab to **GitHub** and Gradescope! Make sure you have 3 Git commits!"
   ]
  }
 ],
 "metadata": {
  "kernelspec": {
   "display_name": "Python [conda env:571]",
   "language": "python",
   "name": "conda-env-571-py"
  },
  "language_info": {
   "codemirror_mode": {
    "name": "ipython",
    "version": 3
   },
   "file_extension": ".py",
   "mimetype": "text/x-python",
   "name": "python",
   "nbconvert_exporter": "python",
   "pygments_lexer": "ipython3",
   "version": "3.12.0"
  }
 },
 "nbformat": 4,
 "nbformat_minor": 5
}
