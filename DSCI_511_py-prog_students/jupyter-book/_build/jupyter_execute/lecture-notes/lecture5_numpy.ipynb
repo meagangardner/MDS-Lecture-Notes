{
 "cells": [
  {
   "cell_type": "markdown",
   "id": "aca90e24-7d35-4b52-b2f5-34c20ddb6065",
   "metadata": {},
   "source": [
    "<img src=\"img/dsci511_header.png\" width=\"600\">"
   ]
  },
  {
   "cell_type": "markdown",
   "id": "c55af97c-0ad6-4b44-bb46-f1af1f44d513",
   "metadata": {},
   "source": [
    "# Lecture 5: Numpy\n",
    "\n",
    "## Lecture Learning Objectives\n",
    "\n",
    "- Explain what a NumPy array is, and why it is useful in data science.\n",
    "- Explain the relationship and differences between `numpy.ndarray`, `pandas.Series` and `pandas.DataFrame` objects in Python.\n",
    "- Use NumPy to create arrays with Numpy functions including `numpy.array()`, `numpy.arange()`, `numpy.linspace()` and `numpy.full()`, `numpy.zeros()` and `numpy.random.rand()`\n",
    "- Perform mathematical operations on and with arrays, like `+`, `-`, `*`, `**` on numeric values\n",
    "- Use NumPy math functions like `numpy.sum()`, `numpy.mean()`, `numpy.min()`, `numpy.max()`, `numpy.log()` as stand-alone functions or as methods of numpy arrays (when available)\n",
    "- Be able to access values from a NumPy array by numeric indexing and slicing and boolean indexing\n",
    "- Explain what broadcasting is and how to use it.\n",
    "- Reshape arrays by adding/removing/reshaping axes with `numpy.transpose()`, `numpy.reshape()`, `numpy.ravel()`, `numpy.flatten()`"
   ]
  },
  {
   "cell_type": "markdown",
   "id": "2c12ae41-26e2-4073-aca6-cc0a7cdcb22e",
   "metadata": {
    "jp-MarkdownHeadingCollapsed": true
   },
   "source": [
    "## What is NumPy\n",
    "\n",
    "**NumPy -> “Numerical Python extensions”.**\n",
    "\n",
    "NumPy offers:\n",
    "- Arrays\n",
    "- Mathematical Constants\n",
    "- Mathematical Functions\n",
    "\n",
    "The name NumPy is derived from **“Numerical Python extensions”.**\n",
    "\n",
    "NumPy is a Python library used primarily for computing involving numbers. It is especially useful as it provides a multidimensional array object, called an **array**. In addition, NumPy also offers numerous other mathematical functions used in the domain of Linear Algebra and Calculus. NumPy is written in C, making NumPy arrays faster and more memory efficient than Python lists, read more [here](https://www.labri.fr/perso/nrougier/from-python-to-numpy/)). The Numpy docs are excellent: <https://numpy.org/doc/stable/index.html>\n",
    "\n",
    "#### Almost everything in scientific Python relies on NumPy  \n",
    "\n",
    "<img src=\"https://media.springernature.com/full/springer-static/image/art%3A10.1038%2Fs41586-020-2649-2/MediaObjects/41586_2020_2649_Fig2_HTML.png?as=webp\" width=500>\n",
    "\n",
    "*__Source__: Harris, C.R., Millman, K.J., van der Walt, S.J. et al. Array programming with NumPy. Nature 585, 357–362 (2020). https://doi.org/10.1038/s41586-020-2649-2*"
   ]
  },
  {
   "cell_type": "markdown",
   "id": "304f51bd-890f-4254-8183-45dd4573cddd",
   "metadata": {},
   "source": [
    "## NumPy arrays\n",
    "\n",
    "- \"n-dimensional\" data structures called `ndarray`s, which must be rectilinear \n",
    "- Can contain all the basic `dtype`s, e.g., floats, integers, strings etc, but work best with numeric data\n",
    "- Generally homogeneous, meaning that items in the array should be of the same type. Type coercion usually happens when creating an array from mixed types.\n",
    "- Are vectorized (apply operations (like addition, subtraction, multiplication, etc.) over an entire array without needing to explicitly write loops)\n",
    "- Compatible with NumPy's vast collection of built-in functions\n",
    "\n",
    "<img src=\"img/numpy_arrays.png\" width=400>\n",
    "\n",
    "*__Source:__ [Medium.com](https://medium.com/hackernoon/10-machine-learning-data-science-and-deep-learning-courses-for-programmers-7edc56078cde)*"
   ]
  },
  {
   "cell_type": "markdown",
   "id": "215f2896-b86c-4f57-9169-f9921c4510ce",
   "metadata": {},
   "source": [
    "#### Why is it important to have the same `dtype`?\n",
    "\n",
    "- We can allocate memory in advance knowing that all items are the same `dtype`\n",
    "- Items are stored in contiguous block of memory\n",
    "\n",
    "<img src=\"https://jakevdp.github.io/PythonDataScienceHandbook/figures/array_vs_list.png\" width=600>\n",
    "\n",
    "*__Source:__ https://jakevdp.github.io/PythonDataScienceHandbook/*"
   ]
  },
  {
   "cell_type": "markdown",
   "id": "9da92ccd-6889-4a95-943d-cd62bd5418e2",
   "metadata": {},
   "source": [
    "### Our first array:\n",
    "\n",
    "We can make arrays in many ways, but we'll create our first one from a list:"
   ]
  },
  {
   "cell_type": "code",
   "execution_count": 1,
   "id": "3ba14f42-c4d7-4d2a-97d7-993364bef69f",
   "metadata": {},
   "outputs": [],
   "source": [
    "import numpy as np"
   ]
  },
  {
   "cell_type": "code",
   "execution_count": 2,
   "id": "fdc21251-75e0-46bf-8902-81ad1a560fa9",
   "metadata": {},
   "outputs": [
    {
     "data": {
      "text/plain": [
       "[1, 2, 3, 4, 5]"
      ]
     },
     "execution_count": 2,
     "metadata": {},
     "output_type": "execute_result"
    }
   ],
   "source": [
    "my_list = [1, 2, 3, 4, 5]\n",
    "my_list"
   ]
  },
  {
   "cell_type": "code",
   "execution_count": 3,
   "id": "70016dda-9775-4b27-aa33-006cf67a7286",
   "metadata": {},
   "outputs": [
    {
     "data": {
      "text/plain": [
       "array([1, 2, 3, 4, 5])"
      ]
     },
     "execution_count": 3,
     "metadata": {},
     "output_type": "execute_result"
    }
   ],
   "source": [
    "import numpy as np\n",
    "\n",
    "my_array = np.array([1, 2, 3, 4, 5])\n",
    "my_array"
   ]
  },
  {
   "cell_type": "markdown",
   "id": "7061be70-b8f4-411c-87b5-596ca9cef384",
   "metadata": {},
   "source": [
    "We can learn things about our array from functions and attributes we have met before:"
   ]
  },
  {
   "cell_type": "code",
   "execution_count": 4,
   "id": "86aecfe5-bccf-493e-b061-8ae9c7a297e8",
   "metadata": {},
   "outputs": [
    {
     "data": {
      "text/plain": [
       "numpy.ndarray"
      ]
     },
     "execution_count": 4,
     "metadata": {},
     "output_type": "execute_result"
    }
   ],
   "source": [
    "type(my_array)"
   ]
  },
  {
   "cell_type": "code",
   "execution_count": 5,
   "id": "572104b6-41cf-4285-956a-9dc2dd1be491",
   "metadata": {},
   "outputs": [
    {
     "data": {
      "text/plain": [
       "dtype('int64')"
      ]
     },
     "execution_count": 5,
     "metadata": {},
     "output_type": "execute_result"
    }
   ],
   "source": [
    "my_array.dtype"
   ]
  },
  {
   "cell_type": "code",
   "execution_count": 6,
   "id": "31c41382-741e-464a-acb9-8d2cb466413a",
   "metadata": {},
   "outputs": [
    {
     "data": {
      "text/plain": [
       "(5,)"
      ]
     },
     "execution_count": 6,
     "metadata": {},
     "output_type": "execute_result"
    }
   ],
   "source": [
    "my_array.shape # elements in each dimension"
   ]
  },
  {
   "cell_type": "code",
   "execution_count": 7,
   "id": "da5598af-e599-4cc2-bc9e-efe908eb7b32",
   "metadata": {},
   "outputs": [
    {
     "data": {
      "text/plain": [
       "5"
      ]
     },
     "execution_count": 7,
     "metadata": {},
     "output_type": "execute_result"
    }
   ],
   "source": [
    "my_array.size # elements in total"
   ]
  },
  {
   "cell_type": "markdown",
   "id": "0e380495-bb19-4d96-ae75-a5996d74648d",
   "metadata": {},
   "source": [
    "And because they can come in $n$ dimensions, we also sometimes want to use `numpy.ndim`"
   ]
  },
  {
   "cell_type": "code",
   "execution_count": 8,
   "id": "47024072-6167-4f71-9a6f-5dd94408047e",
   "metadata": {},
   "outputs": [
    {
     "data": {
      "text/plain": [
       "1"
      ]
     },
     "execution_count": 8,
     "metadata": {},
     "output_type": "execute_result"
    }
   ],
   "source": [
    "my_array.ndim"
   ]
  },
  {
   "cell_type": "markdown",
   "id": "2787983e-a1b2-435f-bf90-8fa082279d48",
   "metadata": {},
   "source": [
    "And we can use numerical subsetting to get elements back from our array:"
   ]
  },
  {
   "cell_type": "code",
   "execution_count": 9,
   "id": "83bcb332-2b8e-4ec8-bb86-0fa2b6df4a73",
   "metadata": {},
   "outputs": [
    {
     "data": {
      "text/plain": [
       "array([3, 4])"
      ]
     },
     "execution_count": 9,
     "metadata": {},
     "output_type": "execute_result"
    }
   ],
   "source": [
    "my_array[2:4]"
   ]
  },
  {
   "cell_type": "markdown",
   "id": "9e0a96fb-272f-42f9-9d4b-2686e9be17a5",
   "metadata": {},
   "source": [
    "### What is vectorization?\n",
    "\n",
    "Vectorization is the ability to operate on objects with multiple elements in an element-wise fashion, without loops.\n",
    "\n",
    "Here's an example where because `numpy.ndarray`s are vectorized we can add 5 to each element using `+`. "
   ]
  },
  {
   "cell_type": "code",
   "execution_count": 10,
   "id": "be1610ef-4c4f-432b-8daf-26d3954491f4",
   "metadata": {},
   "outputs": [
    {
     "data": {
      "text/plain": [
       "array([ 6,  7,  8,  9, 10])"
      ]
     },
     "execution_count": 10,
     "metadata": {},
     "output_type": "execute_result"
    }
   ],
   "source": [
    "my_array + 5"
   ]
  },
  {
   "cell_type": "markdown",
   "id": "09386039-7ce4-4ad9-9487-44fabb5bf52e",
   "metadata": {},
   "source": [
    "In contrast, to add 5 to every element in a list, we need to iterate over every item with a loop:"
   ]
  },
  {
   "cell_type": "code",
   "execution_count": 11,
   "id": "8b18de56-e562-4177-85f3-91ddeb112c12",
   "metadata": {},
   "outputs": [
    {
     "ename": "TypeError",
     "evalue": "can only concatenate list (not \"int\") to list",
     "output_type": "error",
     "traceback": [
      "\u001b[0;31m---------------------------------------------------------------------------\u001b[0m",
      "\u001b[0;31mTypeError\u001b[0m                                 Traceback (most recent call last)",
      "Cell \u001b[0;32mIn[11], line 1\u001b[0m\n\u001b[0;32m----> 1\u001b[0m \u001b[43mmy_list\u001b[49m\u001b[43m \u001b[49m\u001b[38;5;241;43m+\u001b[39;49m\u001b[43m \u001b[49m\u001b[38;5;241;43m5\u001b[39;49m \u001b[38;5;66;03m# throws an error\u001b[39;00m\n",
      "\u001b[0;31mTypeError\u001b[0m: can only concatenate list (not \"int\") to list"
     ]
    }
   ],
   "source": [
    "my_list + 5 # throws an error"
   ]
  },
  {
   "cell_type": "code",
   "execution_count": 12,
   "id": "ab47853f-5597-45c3-9f90-3bc5dc2c4217",
   "metadata": {},
   "outputs": [
    {
     "data": {
      "text/plain": [
       "[6, 7, 8, 9, 10]"
      ]
     },
     "execution_count": 12,
     "metadata": {},
     "output_type": "execute_result"
    }
   ],
   "source": [
    "for i in range(len(my_list)):\n",
    "    my_list[i] = my_list[i] + 5\n",
    "my_list    "
   ]
  },
  {
   "cell_type": "markdown",
   "id": "f7031f9f-d3cb-4206-9e98-fcd70b06aadd",
   "metadata": {},
   "source": [
    "### Relationship to Pandas\n",
    "\n",
    "- NumPy `ndarray` are the object that Pandas `Series` objects are built on top of.\n",
    "- The elements/values in a `Series` are actually represented as an `ndarray` in memory.\n",
    "- Pandas `Series` objects have an attribute called an index that is used to label and access its elements. NumPy `ndarray`s do not have an index and instead can only be accessed by numerical subsetting.\n",
    "- We can easily convert a NumPy `ndarray` to Pandas `Series` object via `pandas.Series()`, and we can covert a Pandas `Series` to a a NumPy `ndarray` via `pandas.Series.to_numpy()`\n",
    "\n",
    "<img src=\"img/numpy-series.png\" width=375>"
   ]
  },
  {
   "cell_type": "code",
   "execution_count": 13,
   "id": "90be7588-e7ce-4d3e-956b-80057d822825",
   "metadata": {},
   "outputs": [
    {
     "data": {
      "text/plain": [
       "array([1, 2, 3, 4, 5])"
      ]
     },
     "execution_count": 13,
     "metadata": {},
     "output_type": "execute_result"
    }
   ],
   "source": [
    "my_array"
   ]
  },
  {
   "cell_type": "code",
   "execution_count": 14,
   "id": "98fc7fe3-ca76-40ac-9fef-aed0e9ec3a2c",
   "metadata": {},
   "outputs": [
    {
     "data": {
      "text/plain": [
       "0    1\n",
       "1    2\n",
       "2    3\n",
       "3    4\n",
       "4    5\n",
       "dtype: int64"
      ]
     },
     "execution_count": 14,
     "metadata": {},
     "output_type": "execute_result"
    }
   ],
   "source": [
    "import pandas as pd\n",
    "\n",
    "my_series = pd.Series(my_array)\n",
    "my_series"
   ]
  },
  {
   "cell_type": "code",
   "execution_count": 15,
   "id": "f92ef1c1-079d-4d86-a35a-e12a14761a2c",
   "metadata": {},
   "outputs": [
    {
     "data": {
      "text/plain": [
       "array([1, 2, 3, 4, 5])"
      ]
     },
     "execution_count": 15,
     "metadata": {},
     "output_type": "execute_result"
    }
   ],
   "source": [
    "my_array_from_series = my_series.to_numpy()\n",
    "my_array_from_series"
   ]
  },
  {
   "cell_type": "markdown",
   "id": "f0e7a2d3-bed0-4f4c-b217-65b2553f6632",
   "metadata": {},
   "source": [
    "## Creating `ndarray`s\n",
    "\n",
    "`ndarray`s are typically created using two main methods:\n",
    "- From existing data (usually lists or tuples) using `numpy.array()`, like we saw above; or,\n",
    "- Using other Numpy functions such as `numpy.arange()`, `numpy.linspace()`, `numpy.zeros()`, etc.\n",
    "\n",
    "#### From existing data\n",
    "\n",
    "Here we take two lists to create a 2D `ndarray` (of DNA sequences that correspond to amino acid codons):"
   ]
  },
  {
   "cell_type": "code",
   "execution_count": 16,
   "id": "8e5a803d-00a0-4e86-90ee-b8e59feb6827",
   "metadata": {},
   "outputs": [
    {
     "data": {
      "text/plain": [
       "array([['ttt', 'ttc', 'ttaere', 'ttg'],\n",
       "       ['ctt', 'ctc', 'cta', 'ctg']], dtype='<U6')"
      ]
     },
     "execution_count": 16,
     "metadata": {},
     "output_type": "execute_result"
    }
   ],
   "source": [
    "codons = np.array([[\"ttt\", \"ttc\", \"ttaere\", \"ttg\"],\n",
    "        [\"ctt\", \"ctc\", \"cta\", \"ctg\"]])\n",
    "codons"
   ]
  },
  {
   "cell_type": "markdown",
   "id": "86ee1326-7e1c-4019-83f9-4cb38317d8e4",
   "metadata": {},
   "source": [
    "> Note: See the `[[` in the `codons` `ndarray` we created above? In the print output of `ndarray`s, each `[` indicates one dimension. So for the `codons` `ndarray` we can read that as it being a 2D array because there are two `[`'s in the print output for that object."
   ]
  },
  {
   "cell_type": "markdown",
   "id": "60f1aac7-b1c5-40fc-948e-e43861982b4f",
   "metadata": {},
   "source": [
    "## From other Numpy functions\n",
    "\n",
    "Here we use `numpy.arrange()` to create an 1D `ndarray` with the values from 2 - 10, skip counting by 2's:"
   ]
  },
  {
   "cell_type": "code",
   "execution_count": 17,
   "id": "98ac3e9c-c53c-4232-904b-2eeaa5ee0542",
   "metadata": {},
   "outputs": [
    {
     "data": {
      "text/plain": [
       "array([ 0,  2,  4,  6,  8, 10])"
      ]
     },
     "execution_count": 17,
     "metadata": {},
     "output_type": "execute_result"
    }
   ],
   "source": [
    "np.arange(0, 11, 2)"
   ]
  },
  {
   "cell_type": "markdown",
   "id": "e4acef96-1c69-46ed-be44-9efa4cec5bb3",
   "metadata": {},
   "source": [
    "There are many, many, maaaaaaaaannnnnny Numpy functions we can use to create `ndarray`s in useful ways. We summarise some with think will be most important to you below in this table, and each function is linked to its official Numpy documentation so you can learn more and view examples.\n",
    "\n",
    "#### Functions for creating `ndarray`s\n",
    "\n",
    "| Numpy function | Description |\n",
    "|----------------|-------------|\n",
    "| [`numpy.arange()`](https://numpy.org/doc/stable/reference/generated/numpy.arange.html) | Returns an `ndarray` with evenly spaced values within a given interval, given a start, stop and step-size. | \n",
    "| [`numpy.linspace()`](https://numpy.org/doc/stable/reference/generated/numpy.linspace.html) | Returns an `ndarray` with evenly spaced numbers over a specified interval, given a start, stop and number of steps. |\n",
    "| [`numpy.full()`](https://numpy.org/doc/stable/reference/generated/numpy.full.html) | Returns an `ndarray` of a given shape and type, filled with fill_value. |\n",
    "| [`numpy.zeros()`](https://numpy.org/doc/stable/reference/generated/numpy.zeros.html)| Returns an `ndarray` of a given shape and type, filled with zeros. |\n",
    "| [`numpy.random.rand()`](https://numpy.org/doc/stable/reference/random/generated/numpy.random.rand.html) | Returns an `ndarray` of random values in a given shape. |"
   ]
  },
  {
   "cell_type": "markdown",
   "id": "3403601f-c1cd-4a2d-ad7b-0f7bbfc40792",
   "metadata": {},
   "source": [
    "## Mathematical operations with `ndarray`s\n",
    "\n",
    "As mentioned in the introduction, `ndarray`s are vectorized. This means that we can do element-wise operations on them without having to write `for` loops. Our element-wise operations can be an operation applied to each element of an array or can be between the paired entries of two (or more) arrays.\n",
    "\n",
    "### Mathematical operators\n",
    "\n",
    "We can use the standard Python math operators (e.g., `+`, `-`, `*`, `**`) to do math on `ndarray`s. \n",
    "\n",
    "Here we create an array, `x` and then use the `+` operator to create a new `ndarray` named `y` with the value of 1 added to all the elements in `x`:"
   ]
  },
  {
   "cell_type": "code",
   "execution_count": 18,
   "id": "3fae9f9b-f3bb-4927-b80c-942790d4cb42",
   "metadata": {},
   "outputs": [
    {
     "data": {
      "text/plain": [
       "array([4, 4, 4, 4, 4])"
      ]
     },
     "execution_count": 18,
     "metadata": {},
     "output_type": "execute_result"
    }
   ],
   "source": [
    "x = np.full(5, 4)\n",
    "x"
   ]
  },
  {
   "cell_type": "code",
   "execution_count": 19,
   "id": "288ad02b-9a93-4c11-8356-87e975bb7168",
   "metadata": {},
   "outputs": [
    {
     "data": {
      "text/plain": [
       "array([5, 5, 5, 5, 5])"
      ]
     },
     "execution_count": 19,
     "metadata": {},
     "output_type": "execute_result"
    }
   ],
   "source": [
    "y = x + 1\n",
    "y"
   ]
  },
  {
   "cell_type": "markdown",
   "id": "63e00288-8c4c-40d8-a5f4-9e3c961e8745",
   "metadata": {},
   "source": [
    "Here we add `x` and `y` together, element-by-element:"
   ]
  },
  {
   "cell_type": "code",
   "execution_count": 20,
   "id": "082a53b1-26a8-4e0e-b85f-e476cd99a2c3",
   "metadata": {},
   "outputs": [
    {
     "data": {
      "text/plain": [
       "array([20, 20, 20, 20, 20])"
      ]
     },
     "execution_count": 20,
     "metadata": {},
     "output_type": "execute_result"
    }
   ],
   "source": [
    "x * y"
   ]
  },
  {
   "cell_type": "markdown",
   "id": "4f787a31-f34b-451d-8f09-2be7bc0e4e64",
   "metadata": {},
   "source": [
    "This is also true for the Python operators that work on strings!"
   ]
  },
  {
   "cell_type": "code",
   "execution_count": 21,
   "id": "c1f1270f-7727-4e0a-8b87-362e802c099a",
   "metadata": {},
   "outputs": [
    {
     "ename": "UFuncTypeError",
     "evalue": "ufunc 'add' did not contain a loop with signature matching types (dtype('<U8'), dtype('<U1')) -> None",
     "output_type": "error",
     "traceback": [
      "\u001b[0;31m---------------------------------------------------------------------------\u001b[0m",
      "\u001b[0;31mUFuncTypeError\u001b[0m                            Traceback (most recent call last)",
      "Cell \u001b[0;32mIn[21], line 5\u001b[0m\n\u001b[1;32m      2\u001b[0m space \u001b[38;5;241m=\u001b[39m np\u001b[38;5;241m.\u001b[39marray([\u001b[38;5;124m\"\u001b[39m\u001b[38;5;124m \u001b[39m\u001b[38;5;124m\"\u001b[39m])\n\u001b[1;32m      3\u001b[0m lasts \u001b[38;5;241m=\u001b[39m np\u001b[38;5;241m.\u001b[39marray([\u001b[38;5;124m\"\u001b[39m\u001b[38;5;124mNightingale\u001b[39m\u001b[38;5;124m\"\u001b[39m, \u001b[38;5;124m\"\u001b[39m\u001b[38;5;124mLovelace\u001b[39m\u001b[38;5;124m\"\u001b[39m, \u001b[38;5;124m\"\u001b[39m\u001b[38;5;124mCox\u001b[39m\u001b[38;5;124m\"\u001b[39m])\n\u001b[0;32m----> 5\u001b[0m \u001b[43mfirsts\u001b[49m\u001b[43m \u001b[49m\u001b[38;5;241;43m+\u001b[39;49m\u001b[43m \u001b[49m\u001b[43mspace\u001b[49m \u001b[38;5;241m+\u001b[39m lasts\n",
      "\u001b[0;31mUFuncTypeError\u001b[0m: ufunc 'add' did not contain a loop with signature matching types (dtype('<U8'), dtype('<U1')) -> None"
     ]
    }
   ],
   "source": [
    "firsts = np.array([\"Florence\", \"Ada\", \"Gertrude\"])\n",
    "space = np.array([\" \"])\n",
    "lasts = np.array([\"Nightingale\", \"Lovelace\", \"Cox\"])\n",
    "\n",
    "firsts + space + lasts"
   ]
  },
  {
   "cell_type": "markdown",
   "id": "747a75d7-b83c-4a1c-b2c8-d640763c73b5",
   "metadata": {},
   "source": [
    "### Mathematical Numpy functions\n",
    "\n",
    "As in `ndarray` creating, there are many, many, maaaaaaaaannnnnny Numpy functions we can use to perform mathematical operations. All functions work element-wise, but some return an `ndarray` single value when applied to an `ndarray` (e.g., `numpy.sum()`), while others return an `ndarray` of the same size the function was applied to (`numpy.log()`). Be sure to check the documentation for each function you use so you understand how it should be applied and what shape of object it will return. \n",
    "\n",
    "Below we demonstrate how to use  `numpy.sum()` and `numpy.log()` on 2D arrays, and then we summarise some additional mathematical Numpy functions with think will be most important to you in table following the demonstrations. Again, each function is linked to its official Numpy documentation so you can learn more and view examples."
   ]
  },
  {
   "cell_type": "markdown",
   "id": "7955a88e-7320-4429-97cf-68d2973c425b",
   "metadata": {},
   "source": [
    "Creating a 2D array:"
   ]
  },
  {
   "cell_type": "code",
   "execution_count": 22,
   "id": "927db81a-5531-4f0f-9eba-b9083d05d1b1",
   "metadata": {},
   "outputs": [
    {
     "data": {
      "text/plain": [
       "array([[ 2.5,  3.5,  2. ],\n",
       "       [10. , 20. , 30. ]])"
      ]
     },
     "execution_count": 22,
     "metadata": {},
     "output_type": "execute_result"
    }
   ],
   "source": [
    "measurements = np.array([[2.5, 3.5, 2],\n",
    "          [10, 20, 30]])\n",
    "measurements"
   ]
  },
  {
   "cell_type": "code",
   "execution_count": 23,
   "id": "4284a722-8c4a-4cf5-b3b9-5173ce01d070",
   "metadata": {},
   "outputs": [
    {
     "data": {
      "text/plain": [
       "(2, 3)"
      ]
     },
     "execution_count": 23,
     "metadata": {},
     "output_type": "execute_result"
    }
   ],
   "source": [
    "measurements.shape"
   ]
  },
  {
   "cell_type": "code",
   "execution_count": 24,
   "id": "de925b78-8eec-41ae-af59-a06ddf820291",
   "metadata": {},
   "outputs": [
    {
     "data": {
      "text/plain": [
       "2"
      ]
     },
     "execution_count": 24,
     "metadata": {},
     "output_type": "execute_result"
    }
   ],
   "source": [
    "measurements.ndim"
   ]
  },
  {
   "cell_type": "markdown",
   "id": "10a2269b-00be-4471-96ab-284dd28c126d",
   "metadata": {},
   "source": [
    "### `np.sum()`\n",
    "\n",
    "If we want to get the sum of the entire `ndarray` (use default for `axis`, which is `None`):"
   ]
  },
  {
   "cell_type": "code",
   "execution_count": 25,
   "id": "373b56c1-187f-4ec9-9a3c-0ab01fd1cd48",
   "metadata": {},
   "outputs": [
    {
     "data": {
      "text/plain": [
       "68.0"
      ]
     },
     "execution_count": 25,
     "metadata": {},
     "output_type": "execute_result"
    }
   ],
   "source": [
    "total_sum_measurements = np.sum(measurements)\n",
    "total_sum_measurements"
   ]
  },
  {
   "cell_type": "code",
   "execution_count": 26,
   "id": "57c5f6a9-b8b6-4d48-99e5-da1eb07746e4",
   "metadata": {},
   "outputs": [
    {
     "data": {
      "text/plain": [
       "array([[ 2.5,  3.5,  2. ],\n",
       "       [10. , 20. , 30. ]])"
      ]
     },
     "execution_count": 26,
     "metadata": {},
     "output_type": "execute_result"
    }
   ],
   "source": [
    "measurements"
   ]
  },
  {
   "cell_type": "markdown",
   "id": "db21ff07-d21e-4c17-a861-63e10a04f1e3",
   "metadata": {},
   "source": [
    "If we want to get the sum of axis 1:"
   ]
  },
  {
   "cell_type": "code",
   "execution_count": 27,
   "id": "75f4185c-a638-42f8-9e7f-7153d9c731d5",
   "metadata": {},
   "outputs": [
    {
     "data": {
      "text/plain": [
       "array([ 8., 60.])"
      ]
     },
     "execution_count": 27,
     "metadata": {},
     "output_type": "execute_result"
    }
   ],
   "source": [
    "col_sums_measurements = np.sum(measurements, axis=1)\n",
    "col_sums_measurements"
   ]
  },
  {
   "cell_type": "code",
   "execution_count": 28,
   "id": "de115d1d-595d-4c6c-b513-d32cc19227a3",
   "metadata": {},
   "outputs": [
    {
     "data": {
      "text/plain": [
       "array([12.5, 23.5, 32. ])"
      ]
     },
     "execution_count": 28,
     "metadata": {},
     "output_type": "execute_result"
    }
   ],
   "source": [
    "np.sum(measurements, axis=0)"
   ]
  },
  {
   "cell_type": "markdown",
   "id": "770b2935-ae5b-4c47-bee3-4348152d9860",
   "metadata": {},
   "source": [
    "### `np.log()`\n",
    "\n",
    "If we want to log transform every element in the `ndarray`:"
   ]
  },
  {
   "cell_type": "code",
   "execution_count": 29,
   "id": "387fa2ad-fbb2-4ed2-b600-3da4726bc712",
   "metadata": {},
   "outputs": [
    {
     "data": {
      "text/plain": [
       "array([[0.91629073, 1.25276297, 0.69314718],\n",
       "       [2.30258509, 2.99573227, 3.40119738]])"
      ]
     },
     "execution_count": 29,
     "metadata": {},
     "output_type": "execute_result"
    }
   ],
   "source": [
    "log_measurements = np.log(measurements)\n",
    "log_measurements"
   ]
  },
  {
   "cell_type": "markdown",
   "id": "12a0a93e-4320-4db2-9335-ea2b3e9fbd56",
   "metadata": {},
   "source": [
    "#### Mathematical functions for `ndarray`s\n",
    "\n",
    "Below are some key mathematical functions for `ndarray`s. This is NOT an exhaustive list, you can find an exhaustive list here in the Numpy docs: <https://numpy.org/doc/stable/reference/routines.math.html>\n",
    "\n",
    "| Numpy function | Description |\n",
    "|----------------|-------------|\n",
    "| [`numpy.sum()`](https://numpy.org/doc/stable/reference/generated/numpy.sum.html) | Sum of array elements over a given axis. | \n",
    "| [`numpy.mean()`](https://numpy.org/doc/stable/reference/generated/numpy.mean.html#numpy.mean) | Returns the average of the array elements. The average is taken over the flattened array by default, otherwise over the specified axis. float64 intermediate and return values are used for integer inputs. |\n",
    "| [`numpy.min()`](https://numpy.org/doc/stable/reference/generated/numpy.min.html) | Return the minimum of an array or minimum along an axis. |\n",
    "| [`numpy.max()`](https://numpy.org/doc/stable/reference/generated/numpy.max.html)| Return the maximum of an array or maximum along an axis. |\n",
    "| [`numpy.log()`](https://numpy.org/doc/stable/reference/generated/numpy.log.html) | The natural logarithm log is the inverse of the exponential function, so that log(exp(x)) = x. The natural logarithm is logarithm in base e.|"
   ]
  },
  {
   "cell_type": "markdown",
   "id": "21ccecee-1c10-41d3-9cc8-c56f964fca0e",
   "metadata": {},
   "source": [
    "## Indexing and slicing `ndarray`s\n",
    "\n",
    "Indexing and slicing `ndarray`s must be done using numerical or boolean indexing because arrays do not have indices or column labels. \n",
    "\n",
    "Numerical indexing is of `ndarray`s is similar to what you have seen for other objects in Python. The new challenge comes however from doing this in higher dimensions, which `ndarrays` can come it! Let's practice slicing 3D `ndarray`s so we can get the hang of it.\n",
    "\n",
    "Let's create a 3 x 3 `ndarray` that would be like this cube:\n",
    "\n",
    "<img src=\"img/3d-cube.png\" width=400>"
   ]
  },
  {
   "cell_type": "code",
   "execution_count": 30,
   "id": "813f1f3f-95d9-44c2-98ae-b613159264e5",
   "metadata": {},
   "outputs": [
    {
     "data": {
      "text/plain": [
       "array([[[1, 1],\n",
       "        [1, 1],\n",
       "        [1, 1]],\n",
       "\n",
       "       [[1, 1],\n",
       "        [1, 1],\n",
       "        [1, 1]],\n",
       "\n",
       "       [[1, 1],\n",
       "        [1, 1],\n",
       "        [1, 1]],\n",
       "\n",
       "       [[1, 1],\n",
       "        [1, 1],\n",
       "        [1, 1]]])"
      ]
     },
     "execution_count": 30,
     "metadata": {},
     "output_type": "execute_result"
    }
   ],
   "source": [
    "np.full((4, 3, 2), 1)"
   ]
  },
  {
   "cell_type": "code",
   "execution_count": 31,
   "id": "7bd15aa7-33e6-41f3-b21f-1d02b7364204",
   "metadata": {},
   "outputs": [
    {
     "data": {
      "text/plain": [
       "array([[[1, 2, 3],\n",
       "        [1, 2, 3],\n",
       "        [1, 2, 3]],\n",
       "\n",
       "       [[1, 2, 3],\n",
       "        [1, 2, 3],\n",
       "        [1, 2, 3]],\n",
       "\n",
       "       [[1, 2, 3],\n",
       "        [1, 2, 3],\n",
       "        [1, 2, 3]]])"
      ]
     },
     "execution_count": 31,
     "metadata": {},
     "output_type": "execute_result"
    }
   ],
   "source": [
    "cube_3_3 = np.array(\n",
    "    [[[1, 2, 3],\n",
    "      [1, 2, 3],\n",
    "      [1, 2, 3]],\n",
    "     [[1, 2, 3],\n",
    "      [1, 2, 3],\n",
    "      [1, 2, 3]],\n",
    "     [[1, 2, 3],\n",
    "      [1, 2, 3],\n",
    "      [1, 2, 3]]]\n",
    ")\n",
    "cube_3_3"
   ]
  },
  {
   "cell_type": "code",
   "execution_count": 32,
   "id": "3c01dbbf-0e69-4d69-9902-d7a452abb47c",
   "metadata": {},
   "outputs": [
    {
     "data": {
      "text/plain": [
       "1"
      ]
     },
     "execution_count": 32,
     "metadata": {},
     "output_type": "execute_result"
    }
   ],
   "source": [
    "cube_3_3[1,1,0]"
   ]
  },
  {
   "cell_type": "code",
   "execution_count": 33,
   "id": "8525a766-a548-4096-af92-8177a3fa7d1e",
   "metadata": {},
   "outputs": [
    {
     "data": {
      "text/plain": [
       "(3, 3, 3)"
      ]
     },
     "execution_count": 33,
     "metadata": {},
     "output_type": "execute_result"
    }
   ],
   "source": [
    "cube_3_3.shape"
   ]
  },
  {
   "attachments": {},
   "cell_type": "markdown",
   "id": "318e06ab-de45-44de-adcc-69e3b6047c6f",
   "metadata": {},
   "source": [
    "### Getting a single element from a 3D `ndarray`:\n",
    "\n",
    "If we want to get the middle value, on the front face of the cube, as highlighted in the picture below (and should be `1`), we need to give the following numerical indices for the three axes:\n",
    "- axis 0 = `1`\n",
    "- axis 1 = `1`\n",
    "- axis 2 = `0`\n",
    "\n",
    "<img src=\"img/3d-cube-middle-front.png\" width=400>"
   ]
  },
  {
   "cell_type": "code",
   "execution_count": 34,
   "id": "5da433cb-6803-4ee9-b460-38a43d9000e1",
   "metadata": {},
   "outputs": [
    {
     "data": {
      "text/plain": [
       "1"
      ]
     },
     "execution_count": 34,
     "metadata": {},
     "output_type": "execute_result"
    }
   ],
   "source": [
    "cube_3_3[1, 1, 0]"
   ]
  },
  {
   "cell_type": "markdown",
   "id": "723427cc-846f-473d-84d3-1286c463f873",
   "metadata": {},
   "source": [
    "### Getting all the elements from one row from a particular dimension\n",
    "\n",
    "If we want to get the top row, at the back of the cube as highlighted in the picture below (and should be `3, 3, 3`), we need to give the following numerical indices for the three axes:\n",
    "\n",
    "- axis 0 = `0`\n",
    "- axis 1 = `0:2` or `:`\n",
    "- axis 2 = `2`\n",
    "\n",
    "<img src=\"img/3d-cube-top-back-row.png\" width=400>"
   ]
  },
  {
   "cell_type": "code",
   "execution_count": 35,
   "id": "3d75092b-a734-441c-9217-4eda170e2c64",
   "metadata": {},
   "outputs": [
    {
     "data": {
      "text/plain": [
       "array([3, 3, 3])"
      ]
     },
     "execution_count": 35,
     "metadata": {},
     "output_type": "execute_result"
    }
   ],
   "source": [
    "cube_3_3[0, :, 2]"
   ]
  },
  {
   "cell_type": "markdown",
   "id": "27b33cb7-2081-4523-a28c-45d87976d5c6",
   "metadata": {},
   "source": [
    "### Getting a slice of an entire dimension\n",
    "\n",
    "If we want to get a slice of an entire dimension of the cube as highlighted in the picture below (and should be comprised of nine 1's as a 3 x 3 shape in 2D), we need to give the following numerical indices for the three axes:\n",
    "\n",
    "- axis 0 = `0:2` or `:`\n",
    "- axis 1 = `0:2` or `:`\n",
    "- axis 2 = `0`\n",
    "\n",
    "<img src=\"img/3d-cube-entire-dim.png\" width=400>"
   ]
  },
  {
   "cell_type": "code",
   "execution_count": 36,
   "id": "5f7348f4-c3cb-461e-92d1-e371609508ce",
   "metadata": {},
   "outputs": [
    {
     "data": {
      "text/plain": [
       "array([[1, 1, 1],\n",
       "       [1, 1, 1],\n",
       "       [1, 1, 1]])"
      ]
     },
     "execution_count": 36,
     "metadata": {},
     "output_type": "execute_result"
    }
   ],
   "source": [
    "cube_3_3[:, :, 0]"
   ]
  },
  {
   "cell_type": "markdown",
   "id": "24931080-7260-4a54-9746-2e7fff5e8a70",
   "metadata": {},
   "source": [
    "## Boolean indexing `ndarray`s\n",
    "\n",
    "As mentioned above, we can also use boolean indexing to subset `ndarray`s. This works in a similar way to what we have seen of other objects in Python. We'll look at a couple examples here to refresh and remind ourselves.\n",
    "\n",
    "#### Returning values above or below a threshold\n",
    "\n",
    "If we have an `ndarray` from which we want to subset values above or below a threshold, we can use comparison operators and square bracket notation to do this. In the example below, we have a mix of postive and negative numbers. We can use the threshold of 0 and the comparison operator `>` to subset and obtain only the positive values from the temperature measurements listed below:"
   ]
  },
  {
   "cell_type": "code",
   "execution_count": 37,
   "id": "88b41e3a-5640-4652-9fca-da4bc05d1017",
   "metadata": {},
   "outputs": [
    {
     "data": {
      "text/plain": [
       "array([ 0.000e+00,  3.500e+00, -9.999e+03,  9.300e+00, -9.999e+03,\n",
       "       -9.999e+03,  2.700e+00])"
      ]
     },
     "execution_count": 37,
     "metadata": {},
     "output_type": "execute_result"
    }
   ],
   "source": [
    "temps = np.array([0, 3.5, -9999, 9.3, -9999, -9999, 2.7])\n",
    "temps"
   ]
  },
  {
   "cell_type": "code",
   "execution_count": 38,
   "id": "792edded-b5cf-4557-a1ad-b87b1145e7bb",
   "metadata": {},
   "outputs": [
    {
     "data": {
      "text/plain": [
       "array([3.5, 9.3, 2.7])"
      ]
     },
     "execution_count": 38,
     "metadata": {},
     "output_type": "execute_result"
    }
   ],
   "source": [
    "postive_temps = temps[temps > 0]\n",
    "postive_temps"
   ]
  },
  {
   "cell_type": "markdown",
   "id": "ff4813a3-3771-42ac-9b40-57b10159cb73",
   "metadata": {},
   "source": [
    "Sometimes we don't want to subset, but instead replace values. For example `-9999` is often used to represent a missing value, and working with such data numerically in Python, it might be better to encode it as a `nan`. To do this we use boolean indexing to subset values based on a condition and then use the `=` sign to assign a new value selectively to those which were subset:"
   ]
  },
  {
   "cell_type": "code",
   "execution_count": 39,
   "id": "49711d41-7940-47b5-9be0-d07dd365e34e",
   "metadata": {},
   "outputs": [],
   "source": [
    "temps_nans = temps\n",
    "temps_nans[temps_nans < 0] = np.nan"
   ]
  },
  {
   "cell_type": "code",
   "execution_count": 40,
   "id": "16d35c61-4ef0-4791-974a-2940a576d413",
   "metadata": {},
   "outputs": [
    {
     "data": {
      "text/plain": [
       "array([0. , 3.5, nan, 9.3, nan, nan, 2.7])"
      ]
     },
     "execution_count": 40,
     "metadata": {},
     "output_type": "execute_result"
    }
   ],
   "source": [
    "temps_nans"
   ]
  },
  {
   "cell_type": "markdown",
   "id": "dcd55b35-aef5-471b-a45c-e5188039df4f",
   "metadata": {},
   "source": [
    "## Broadcasting\n",
    "\n",
    "Numpy `ndarray`'s with different sizes cannot be directly used together in mathematical operations. When we try to do something like that Numpy intentionally returns an error. This Numpy feature helps minimize mathematical errors in code.\n",
    "\n",
    "For example, we get a `ValueError` when we try to add two 1D `ndarray`s of different lengths:"
   ]
  },
  {
   "cell_type": "code",
   "execution_count": 41,
   "id": "a9307dbe-25ed-46d8-b4b0-1e520e570df4",
   "metadata": {},
   "outputs": [
    {
     "ename": "ValueError",
     "evalue": "operands could not be broadcast together with shapes (3,) (6,) ",
     "output_type": "error",
     "traceback": [
      "\u001b[0;31m---------------------------------------------------------------------------\u001b[0m",
      "\u001b[0;31mValueError\u001b[0m                                Traceback (most recent call last)",
      "Cell \u001b[0;32mIn[41], line 3\u001b[0m\n\u001b[1;32m      1\u001b[0m fives \u001b[38;5;241m=\u001b[39m np\u001b[38;5;241m.\u001b[39marray([\u001b[38;5;241m5\u001b[39m, \u001b[38;5;241m5\u001b[39m, \u001b[38;5;241m5\u001b[39m])\n\u001b[1;32m      2\u001b[0m tens \u001b[38;5;241m=\u001b[39m np\u001b[38;5;241m.\u001b[39marray([\u001b[38;5;241m10\u001b[39m, \u001b[38;5;241m10\u001b[39m, \u001b[38;5;241m10\u001b[39m, \u001b[38;5;241m10\u001b[39m, \u001b[38;5;241m10\u001b[39m, \u001b[38;5;241m10\u001b[39m])\n\u001b[0;32m----> 3\u001b[0m \u001b[43mfives\u001b[49m\u001b[43m \u001b[49m\u001b[38;5;241;43m+\u001b[39;49m\u001b[43m \u001b[49m\u001b[43mtens\u001b[49m\n",
      "\u001b[0;31mValueError\u001b[0m: operands could not be broadcast together with shapes (3,) (6,) "
     ]
    }
   ],
   "source": [
    "fives = np.array([5, 5, 5])\n",
    "tens = np.array([10, 10, 10, 10, 10, 10])\n",
    "fives + tens"
   ]
  },
  {
   "cell_type": "markdown",
   "id": "8cbd8167-f64e-45ba-9957-cd94af1fe80b",
   "metadata": {},
   "source": [
    "However, you might then wonder why this works:"
   ]
  },
  {
   "cell_type": "code",
   "execution_count": 42,
   "id": "5132796c-a410-4f5a-8138-a942080b425b",
   "metadata": {},
   "outputs": [
    {
     "data": {
      "text/plain": [
       "array([15, 15, 15, 15, 15, 15])"
      ]
     },
     "execution_count": 42,
     "metadata": {},
     "output_type": "execute_result"
    }
   ],
   "source": [
    "five = np.array([5])\n",
    "tens = np.array([10, 10, 10, 10, 10, 10])\n",
    "five + tens"
   ]
  },
  {
   "cell_type": "markdown",
   "id": "22b3913f-79b5-4bb5-9e22-ed6839d65f3c",
   "metadata": {},
   "source": [
    "Or this:"
   ]
  },
  {
   "cell_type": "code",
   "execution_count": 43,
   "id": "3cfa400d-f195-4be8-8052-5eae1a45004b",
   "metadata": {},
   "outputs": [
    {
     "data": {
      "text/plain": [
       "array([[15, 15, 15],\n",
       "       [15, 15, 15]])"
      ]
     },
     "execution_count": 43,
     "metadata": {},
     "output_type": "execute_result"
    }
   ],
   "source": [
    "fives = np.array([5, 5, 5])\n",
    "two_tens = np.array([[10, 10, 10], \n",
    "                 [10, 10, 10]])\n",
    "fives + two_tens"
   ]
  },
  {
   "cell_type": "markdown",
   "id": "ea3eddaf-24e9-491c-b9e3-77e4e7e82b8a",
   "metadata": {},
   "source": [
    "In NumPy the smaller array is “broadcast” across the larger array so that they have compatible shapes. Why should you care about broadcasting?\n",
    "- Well, it's cleaner and faster than looping\n",
    "- It also affects the array shapes resulting from arithmetic operations\n",
    "\n",
    "The figure below shows more examples where this can happen.\n",
    "\n",
    "<img src=\"img/broadcasting.png\" width=600>\n",
    "\n",
    "Source: [Python Data Science Handbook](https://jakevdp.github.io/PythonDataScienceHandbook/) by Jake VanderPlas (2016)"
   ]
  },
  {
   "cell_type": "markdown",
   "id": "af84426a-ba24-489f-9a6a-92f42280908d",
   "metadata": {},
   "source": [
    "**Caution!!** Arrays can only be broadcast together if they are compatible in all dimensions. Dimensions are compatible if:\n",
    "    - **they are equal**, or\n",
    "    - **one of them is 1**.\n",
    "    \n",
    "NumPy checks for dimensional compatibility by starting from the right-most dimension. Consider these two examples from NumPy's documentation:\n",
    "  \n",
    "```\n",
    "Broadcastable:\n",
    "A      (3d array): 256 x 256 x 3\n",
    "B      (1d array):             3\n",
    "Result (3d array): 256 x 256 x 3\n",
    "\n",
    "A      (4d array): 8 x 1 x 6 x 1\n",
    "B      (3d array):     7 x 1 x 5\n",
    "Result (4d array): 8 x 7 x 6 x 5\n",
    "```\n",
    "\n",
    "We've provided some code below to test out array compatibility:"
   ]
  },
  {
   "cell_type": "code",
   "execution_count": 44,
   "id": "315eea76-0f0c-4897-8142-906b608c3352",
   "metadata": {},
   "outputs": [
    {
     "data": {
      "text/plain": [
       "array([[[[1., 1., 1., 1., 1., 1.]],\n",
       "\n",
       "        [[1., 1., 1., 1., 1., 1.]]],\n",
       "\n",
       "\n",
       "       [[[1., 1., 1., 1., 1., 1.]],\n",
       "\n",
       "        [[1., 1., 1., 1., 1., 1.]]],\n",
       "\n",
       "\n",
       "       [[[1., 1., 1., 1., 1., 1.]],\n",
       "\n",
       "        [[1., 1., 1., 1., 1., 1.]]]])"
      ]
     },
     "execution_count": 44,
     "metadata": {},
     "output_type": "execute_result"
    }
   ],
   "source": [
    "a = np.ones((3, 2, 1, 6))\n",
    "a"
   ]
  },
  {
   "cell_type": "code",
   "execution_count": 45,
   "id": "6150255c-21d2-4056-bde0-932a97868e03",
   "metadata": {},
   "outputs": [
    {
     "name": "stdout",
     "output_type": "stream",
     "text": [
      "The shape of a is:(3, 2, 1, 6)\n",
      "The shape of b is: (1, 2, 7)\n",
      "\n",
      "ERROR: arrays are NOT broadcast compatible!\n"
     ]
    }
   ],
   "source": [
    "b = np.ones((1, 2, 7))\n",
    "print(\"The shape of a is:\" + f\"{a.shape}\".rjust(10))\n",
    "print(\"The shape of b is:\" + f\"{b.shape}\".rjust(10))\n",
    "print(\"\")\n",
    "try:\n",
    "    print(f\"The shape of a + b is: {(a + b).shape}\")\n",
    "except:\n",
    "    print(f\"ERROR: arrays are NOT broadcast compatible!\")"
   ]
  },
  {
   "cell_type": "markdown",
   "id": "7ee78e04-748f-4235-bc34-254e7ef1522b",
   "metadata": {},
   "source": [
    "## Reshaping `ndarray`s\n",
    "\n",
    "Sometimes you will need to reshape `ndarray`s in your work. There are three useful functions for doing this that we will discuss, which we list to in the table below. There are many many maaaaannnny more array manipulation routines than just these, and you can find an exhaustive list in the Numpy docs: <https://numpy.org/doc/stable/reference/routines.array-manipulation.html>\n",
    "\n",
    "| Numpy Function | Description |\n",
    "|----------------|-------------|\n",
    "| [`numpy.transpose()`](https://numpy.org/doc/stable/reference/generated/numpy.transpose.html)  | Returns an array with axes transposed. |\n",
    "| [`numpy.reshape()`](https://numpy.org/doc/stable/reference/generated/numpy.reshape.html) | Gives a new shape to an array without changing its data. |\n",
    "| [`numpy.flatten()`](https://numpy.org/doc/stable/reference/generated/numpy.ndarray.flatten.html) | Return a copy of the array collapsed into one dimension. |\n"
   ]
  },
  {
   "cell_type": "markdown",
   "id": "1890980c-855e-42db-adb3-6336bc8b061a",
   "metadata": {},
   "source": [
    "### `numpy.transpose()`\n",
    "\n",
    "`numpy.transpose()` works to returns an array with axes transposed. This can be useful in math as well as in image manipulation (more on this in later courses). Below is an example:"
   ]
  },
  {
   "cell_type": "code",
   "execution_count": 46,
   "id": "950129a0-0196-4df1-892a-6a76414204ad",
   "metadata": {},
   "outputs": [
    {
     "data": {
      "text/plain": [
       "array([[1, 1, 1],\n",
       "       [0, 1, 0],\n",
       "       [0, 1, 0]])"
      ]
     },
     "execution_count": 46,
     "metadata": {},
     "output_type": "execute_result"
    }
   ],
   "source": [
    "capital_t = np.array([[1, 1, 1],\n",
    "                      [0, 1, 0],\n",
    "                      [0, 1, 0]])\n",
    "capital_t"
   ]
  },
  {
   "cell_type": "code",
   "execution_count": 47,
   "id": "b7c2309d-3430-473f-a5e8-bf668ed4146e",
   "metadata": {},
   "outputs": [
    {
     "data": {
      "text/plain": [
       "array([[1, 0, 0],\n",
       "       [1, 1, 1],\n",
       "       [1, 0, 0]])"
      ]
     },
     "execution_count": 47,
     "metadata": {},
     "output_type": "execute_result"
    }
   ],
   "source": [
    "capital_t_transpose = np.transpose(capital_t)\n",
    "capital_t_transpose"
   ]
  },
  {
   "cell_type": "markdown",
   "id": "1cd9ce14-1664-447a-a3ac-e77e814b9e83",
   "metadata": {},
   "source": [
    "### `numpy.reshape()`\n",
    "\n",
    "`numpy.reshape()` works to give a new shape to an array without changing its data. The function requires an `ndarray` and a shape (which must be compatible with the intial shape). \n",
    "\n",
    "The default order for reshaping is row-major (C-like index order). You can set `order='F'` to get a column-major (Fortran-like index order) reshaping. The following image illustrates this point:\n",
    "\n",
    "<img src=\"img/row_column_major.png\" width=200>\n",
    "\n",
    "*__Source:__ https://en.wikipedia.org/wiki/Row-_and_column-major_order*\n",
    "\n",
    "Let's take a tractable example, where we create a 4 x 3 array that is a sequence from 1-12 and then reshape it to a 6 x 2 array:"
   ]
  },
  {
   "cell_type": "code",
   "execution_count": 48,
   "id": "bbafac5f-60c9-4e8f-8cc0-2c21c654cc51",
   "metadata": {},
   "outputs": [
    {
     "data": {
      "text/plain": [
       "array([[ 1,  2,  3],\n",
       "       [ 4,  5,  6],\n",
       "       [ 7,  8,  9],\n",
       "       [10, 11, 12]])"
      ]
     },
     "execution_count": 48,
     "metadata": {},
     "output_type": "execute_result"
    }
   ],
   "source": [
    "seq = np.array([[1, 2, 3],\n",
    "       [4, 5, 6],\n",
    "       [7, 8, 9],\n",
    "       [10, 11, 12]])\n",
    "seq"
   ]
  },
  {
   "cell_type": "code",
   "execution_count": 49,
   "id": "a2d1ce37-3908-4d62-946b-94af920caddf",
   "metadata": {},
   "outputs": [
    {
     "data": {
      "text/plain": [
       "array([[ 1,  2],\n",
       "       [ 3,  4],\n",
       "       [ 5,  6],\n",
       "       [ 7,  8],\n",
       "       [ 9, 10],\n",
       "       [11, 12]])"
      ]
     },
     "execution_count": 49,
     "metadata": {},
     "output_type": "execute_result"
    }
   ],
   "source": [
    "row_major = np.reshape(seq, (6, 2))\n",
    "row_major"
   ]
  },
  {
   "cell_type": "markdown",
   "id": "e1104a6e-cb9d-4cfe-9980-4b3dea9f2f7c",
   "metadata": {},
   "source": [
    "Let's compare this to the column order:"
   ]
  },
  {
   "cell_type": "code",
   "execution_count": 50,
   "id": "74155929-da3f-4a2f-b821-e1f9964fcd9d",
   "metadata": {},
   "outputs": [
    {
     "data": {
      "text/plain": [
       "array([[ 1,  8],\n",
       "       [ 4, 11],\n",
       "       [ 7,  3],\n",
       "       [10,  6],\n",
       "       [ 2,  9],\n",
       "       [ 5, 12]])"
      ]
     },
     "execution_count": 50,
     "metadata": {},
     "output_type": "execute_result"
    }
   ],
   "source": [
    "column_major = np.reshape(seq, (6, 2), order='F')\n",
    "column_major"
   ]
  },
  {
   "cell_type": "markdown",
   "id": "39ec4932-865d-49bf-b5fd-ad61661fb62a",
   "metadata": {},
   "source": [
    "### `numpy.ndarray.flatten()`\n",
    "\n",
    "`numpy.ndarray.flatten()` works to return a **copy** of the array collapsed into one dimension. It is import to note that this is a method and so must be used by typing `.flatten()` following the name of the array you would like to apply it to (most of the others in this lecture have been functions). There is a related function [`numpy.ravel()`](https://numpy.org/doc/stable/reference/generated/numpy.ravel.html#numpy.ravel) which works similarly but only returns a copy is necessary. \n",
    "\n",
    "Below we show an example of using `numpy.ndarray.flatten()` on the two arrays we worked with above (`seq` and `capital_t`):"
   ]
  },
  {
   "cell_type": "code",
   "execution_count": 51,
   "id": "cc69e40f-cf06-48c0-b2da-82e53f1bbd4d",
   "metadata": {},
   "outputs": [
    {
     "data": {
      "text/plain": [
       "array([[ 1,  2,  3],\n",
       "       [ 4,  5,  6],\n",
       "       [ 7,  8,  9],\n",
       "       [10, 11, 12]])"
      ]
     },
     "execution_count": 51,
     "metadata": {},
     "output_type": "execute_result"
    }
   ],
   "source": [
    "seq"
   ]
  },
  {
   "cell_type": "code",
   "execution_count": 52,
   "id": "1b807e9d-a1fe-4ed1-8f78-c64baffc3ea6",
   "metadata": {},
   "outputs": [
    {
     "data": {
      "text/plain": [
       "array([ 1,  2,  3,  4,  5,  6,  7,  8,  9, 10, 11, 12])"
      ]
     },
     "execution_count": 52,
     "metadata": {},
     "output_type": "execute_result"
    }
   ],
   "source": [
    "seq.flatten()"
   ]
  },
  {
   "cell_type": "code",
   "execution_count": 53,
   "id": "163efc50-b23f-4ae1-b98a-8d281ad9abe3",
   "metadata": {},
   "outputs": [
    {
     "data": {
      "text/plain": [
       "array([[1, 1, 1],\n",
       "       [0, 1, 0],\n",
       "       [0, 1, 0]])"
      ]
     },
     "execution_count": 53,
     "metadata": {},
     "output_type": "execute_result"
    }
   ],
   "source": [
    "capital_t"
   ]
  },
  {
   "cell_type": "code",
   "execution_count": 54,
   "id": "08d690f5-4c24-43b2-846e-98595f0f4783",
   "metadata": {},
   "outputs": [
    {
     "data": {
      "text/plain": [
       "array([1, 1, 1, 0, 1, 0, 0, 1, 0])"
      ]
     },
     "execution_count": 54,
     "metadata": {},
     "output_type": "execute_result"
    }
   ],
   "source": [
    "capital_t.flatten()"
   ]
  },
  {
   "cell_type": "markdown",
   "id": "0af2f0b4-2a04-4e98-97ef-20e12a2b9a69",
   "metadata": {},
   "source": [
    "## Appendix (OPTIONAL)\n",
    "\n",
    "In this appendix, I'll show more about how NumPy manages and stores arrays in memory. **This is completely optional material**. I'll stress that a thorough understanding of the NumPy internals like how memory is handled and accessed is really more for developers working on super-optimized algorithms or for those interested in these kinds of things. The data scientist who does not care about these implementation details can just continue to visualize and use arrays as N-dimensional data structures—after all, the point of NumPy is to abstract away the technical implementation details so such users can focus on writing code and wrangling data.\n",
    "\n",
    "This appendix draws on excellent material presented in:\n",
    "- [The NumPy documentation](https://numpy.org/doc/stable/reference/internals.html)\n",
    "- [Guide to NumPy](https://web.mit.edu/dvp/Public/numpybook.pdf) by Travis Oliphant, 2006\n",
    "\n",
    "### Array data type\n",
    "\n",
    "All ndarrays are homogeneous, meaning that every element has the exact same data-type (e.g., integer, float, string, etc) which takes up the exact same amount of memory.\n",
    "\n",
    "For example, consider the following 1d-array which is full of 8-bit integers (`int8`):"
   ]
  },
  {
   "cell_type": "code",
   "execution_count": 55,
   "id": "6dc141cb-8eef-4c8a-9da1-83389f8cadc9",
   "metadata": {},
   "outputs": [
    {
     "data": {
      "text/plain": [
       "array([1, 2, 3, 4, 5, 6], dtype=int8)"
      ]
     },
     "execution_count": 55,
     "metadata": {},
     "output_type": "execute_result"
    }
   ],
   "source": [
    "a = np.array([1, 2, 3, 4, 5, 6], dtype='int8')\n",
    "a"
   ]
  },
  {
   "cell_type": "markdown",
   "id": "2dda7ff2-6fc2-4292-b466-69f73321d92f",
   "metadata": {},
   "source": [
    "One byte is equal to eight bits ([refresh yourself on bits and bytes here](https://web.stanford.edu/class/cs101/bits-bytes.html)), so for this array of `int8` data-types, we would expect each element to take up one byte. We can confirm using:"
   ]
  },
  {
   "cell_type": "code",
   "execution_count": 56,
   "id": "c5b47498-01be-415d-a5c3-11598afae942",
   "metadata": {},
   "outputs": [
    {
     "data": {
      "text/plain": [
       "1"
      ]
     },
     "execution_count": 56,
     "metadata": {},
     "output_type": "execute_result"
    }
   ],
   "source": [
    "a.itemsize"
   ]
  },
  {
   "cell_type": "markdown",
   "id": "3f4cc73a-f82d-482a-a916-9184a97c063f",
   "metadata": {},
   "source": [
    "> An aside on the difference between e.g., `int8`, `int16`, `int32`. The number here refers to the number of bits used to represent each integer. For example, `int8` is an integer represented with one byte (one byte = 8 bits). Recall that bits (i.e., 0s and 1s) are the basic units of information used by computers. So the maximum *unsigned* number that can be held with an `int8` datatype is: $2^8=256$. If we wish to have negative numbers, we need to use one of those bits to represent the sign, and we are left with $2^7$ bits to make numbers with, and so the signed range of `int8` is -128 to +127. Likewise, `int16` has an unsigned range of 0 to 65,535 ($2^{16}$), or a signed range of -32,768 to +32,767, etc. It's interesting to watch what happens if you try to use a dtype that does not support the number you wish to store:"
   ]
  },
  {
   "cell_type": "code",
   "execution_count": 57,
   "id": "b5cf5303-a194-4092-b93c-beca6812bec1",
   "metadata": {},
   "outputs": [
    {
     "name": "stderr",
     "output_type": "stream",
     "text": [
      "/var/folders/j_/rfl72ddx1tz52j5wkbd8dc3w0000gn/T/ipykernel_8584/2454158965.py:1: DeprecationWarning: NumPy will stop allowing conversion of out-of-bound Python integers to integer arrays.  The conversion of 128 to int8 will fail in the future.\n",
      "For the old behavior, usually:\n",
      "    np.array(value).astype(dtype)\n",
      "will give the desired result (the cast overflows).\n",
      "  np.array([126, 127, 128, 129, 130, 131, 132], dtype='int8')\n",
      "/var/folders/j_/rfl72ddx1tz52j5wkbd8dc3w0000gn/T/ipykernel_8584/2454158965.py:1: DeprecationWarning: NumPy will stop allowing conversion of out-of-bound Python integers to integer arrays.  The conversion of 129 to int8 will fail in the future.\n",
      "For the old behavior, usually:\n",
      "    np.array(value).astype(dtype)\n",
      "will give the desired result (the cast overflows).\n",
      "  np.array([126, 127, 128, 129, 130, 131, 132], dtype='int8')\n",
      "/var/folders/j_/rfl72ddx1tz52j5wkbd8dc3w0000gn/T/ipykernel_8584/2454158965.py:1: DeprecationWarning: NumPy will stop allowing conversion of out-of-bound Python integers to integer arrays.  The conversion of 130 to int8 will fail in the future.\n",
      "For the old behavior, usually:\n",
      "    np.array(value).astype(dtype)\n",
      "will give the desired result (the cast overflows).\n",
      "  np.array([126, 127, 128, 129, 130, 131, 132], dtype='int8')\n",
      "/var/folders/j_/rfl72ddx1tz52j5wkbd8dc3w0000gn/T/ipykernel_8584/2454158965.py:1: DeprecationWarning: NumPy will stop allowing conversion of out-of-bound Python integers to integer arrays.  The conversion of 131 to int8 will fail in the future.\n",
      "For the old behavior, usually:\n",
      "    np.array(value).astype(dtype)\n",
      "will give the desired result (the cast overflows).\n",
      "  np.array([126, 127, 128, 129, 130, 131, 132], dtype='int8')\n",
      "/var/folders/j_/rfl72ddx1tz52j5wkbd8dc3w0000gn/T/ipykernel_8584/2454158965.py:1: DeprecationWarning: NumPy will stop allowing conversion of out-of-bound Python integers to integer arrays.  The conversion of 132 to int8 will fail in the future.\n",
      "For the old behavior, usually:\n",
      "    np.array(value).astype(dtype)\n",
      "will give the desired result (the cast overflows).\n",
      "  np.array([126, 127, 128, 129, 130, 131, 132], dtype='int8')\n"
     ]
    },
    {
     "data": {
      "text/plain": [
       "array([ 126,  127, -128, -127, -126, -125, -124], dtype=int8)"
      ]
     },
     "execution_count": 57,
     "metadata": {},
     "output_type": "execute_result"
    }
   ],
   "source": [
    "np.array([126, 127, 128, 129, 130, 131, 132], dtype='int8')"
   ]
  },
  {
   "cell_type": "markdown",
   "id": "225ab4a6-7b67-4b13-b579-f92e8c33cb03",
   "metadata": {},
   "source": [
    ">Above, notice how when we exceeded the integer 127 (the max of the `int8` signed range), NumPy automatically represents this number by counting up from the minimum of the signed range (-128). Of course, this wouldn't be a problem if we used `int16`:"
   ]
  },
  {
   "cell_type": "code",
   "execution_count": 58,
   "id": "aa6fec84-2e71-4bf0-8fc2-f01fc0fccdab",
   "metadata": {},
   "outputs": [
    {
     "data": {
      "text/plain": [
       "array([126, 127, 128, 129, 130, 131, 132], dtype=int16)"
      ]
     },
     "execution_count": 58,
     "metadata": {},
     "output_type": "execute_result"
    }
   ],
   "source": [
    "np.array([126, 127, 128, 129, 130, 131, 132], dtype='int16')"
   ]
  },
  {
   "cell_type": "markdown",
   "id": "dffa35dd-d8b4-40ee-a66d-683839a79090",
   "metadata": {},
   "source": [
    "Finally I'll say that technically it is possible to have mixed data-types in an array (i.e., a heterogenous array), but in this case, the array still \"sees\" each element as the same thing: a reference to some Python object, and the dtype would be \"object\"."
   ]
  },
  {
   "cell_type": "code",
   "execution_count": 59,
   "id": "3281ac47-171d-41ee-8780-60614939ecb5",
   "metadata": {},
   "outputs": [
    {
     "data": {
      "text/plain": [
       "array([list(['a', 'b', 'c']), 1, 3.14159], dtype=object)"
      ]
     },
     "execution_count": 59,
     "metadata": {},
     "output_type": "execute_result"
    }
   ],
   "source": [
    "a = np.array([['a', 'b', 'c'], 1, 3.14159], dtype='object')\n",
    "a"
   ]
  },
  {
   "cell_type": "markdown",
   "id": "cc90522b-565d-46a0-ab23-f80b416e7411",
   "metadata": {},
   "source": [
    "Above is an ndarrays of objects, each one being a reference to some other Python object with its own data-type:"
   ]
  },
  {
   "cell_type": "code",
   "execution_count": 60,
   "id": "99a58fe0-9cf6-4037-b1f6-9ede94c6cb6c",
   "metadata": {},
   "outputs": [
    {
     "data": {
      "text/plain": [
       "[list, int, float]"
      ]
     },
     "execution_count": 60,
     "metadata": {},
     "output_type": "execute_result"
    }
   ],
   "source": [
    "list(map(type, a))"
   ]
  },
  {
   "cell_type": "markdown",
   "id": "cdca67e8-0a78-493a-8464-ff5cad4c03fc",
   "metadata": {},
   "source": [
    "Using arrays like this negates much of the optimized functionality that comes with them, and I can't recall a time when I've used a \"heterogenous array\". For mixed data-types, I would typically use other structures like lists or dictionaries.\n",
    "\n",
    "### Memory layout & strides\n",
    "\n",
    "Now that we've covered the basic concepts of ndarrays, we can talk more about how arrays are represented in memory. An ndarray is stored as a single “chunk” of memory starting at some location. It's helpful to think of it as a one-dimensional sequence in memory but with \"fancy indexing\" that can help map an N-dimensional index (for ndarrays) into that one-dimensional representation.\n",
    "\n",
    "Consider \"**Panel a**\" in the below conceptual figure from the paper [Array programming with NumPy](https://www.nature.com/articles/s41586-020-2649-2), showing how a 2d-array of data-type `int64` (8 bytes) is represented in memory as a single chunk:\n",
    "\n",
    "![](img/numpy_paper.png)\n",
    "\n",
    "That word **strides** (stride means \"one long step\") is the number of bytes you need to step in each dimension when traversing the array. As you can see in the example, the **stride** information is particularly important for mapping the chunk of memory back to a n-dimensional array structure. So in the above case, the strides is `(24, 8)` meaning 24 bytes (three 8-byte `int64` elements) and 8 bytes (one 8-byte `int64` element), meaning that every 3 elements we increment our first dimension (i.e., move to the next row) and every 1 element we increment our second dimension (i.e., move to the next column).\n",
    "\n",
    "Let's go through another example:"
   ]
  },
  {
   "cell_type": "code",
   "execution_count": 61,
   "id": "d22a574c-e4b1-4345-bcd6-956bfe29cfde",
   "metadata": {},
   "outputs": [
    {
     "data": {
      "text/plain": [
       "array([[1, 2],\n",
       "       [3, 4],\n",
       "       [5, 6]], dtype=int16)"
      ]
     },
     "execution_count": 61,
     "metadata": {},
     "output_type": "execute_result"
    }
   ],
   "source": [
    "a = np.array([[1, 2], [3, 4], [5, 6]], dtype='int16')\n",
    "a"
   ]
  },
  {
   "cell_type": "markdown",
   "id": "c9a1d266-f6c7-488b-bb00-3c8b1b90dc0c",
   "metadata": {},
   "source": [
    "Here we have an ndarray of shape `(3, 2)` and with a dtype of `int16` (2 bytes per element in the array). We would expect the stride to be `(4, 2)` (every 4 bytes, which is 2 elements here for `int16`, we begin a new row, and every 2 bytes, which is 1 element here, we begin a new column). We can confirm with:"
   ]
  },
  {
   "cell_type": "code",
   "execution_count": 62,
   "id": "b66af150-0ed6-4539-9caf-35301569391f",
   "metadata": {},
   "outputs": [
    {
     "data": {
      "text/plain": [
       "(4, 2)"
      ]
     },
     "execution_count": 62,
     "metadata": {},
     "output_type": "execute_result"
    }
   ],
   "source": [
    "a.strides"
   ]
  },
  {
   "cell_type": "markdown",
   "id": "113d503b-ca54-47ff-afde-08cac0489ab6",
   "metadata": {},
   "source": [
    "Neat! We could actually change how our ndarray maps from the memory block back to the ndarray by changing the stride information:"
   ]
  },
  {
   "cell_type": "code",
   "execution_count": 63,
   "id": "c05970ca-6935-4a89-b25d-e8005e3c319b",
   "metadata": {},
   "outputs": [
    {
     "data": {
      "text/plain": [
       "array([[1, 3],\n",
       "       [2, 4],\n",
       "       [3, 5]], dtype=int16)"
      ]
     },
     "execution_count": 63,
     "metadata": {},
     "output_type": "execute_result"
    }
   ],
   "source": [
    "a.strides = (2, 4)\n",
    "a"
   ]
  },
  {
   "cell_type": "markdown",
   "id": "e6b2d9f3-6bfb-44b9-94c1-01099d5ab6a8",
   "metadata": {},
   "source": [
    "To further drive the point home, what do you expect the strides to be of a 1D array? In that case, there is only one dimension to traverse, so we'd expect the strides to just be the number of bytes of 1 element, `(2,)` (i.e., every 2 bytes, which is one `int16` element). Let's confirm:"
   ]
  },
  {
   "cell_type": "code",
   "execution_count": 64,
   "id": "d9421a09-7f9f-46ce-a48a-943ff710c3e4",
   "metadata": {},
   "outputs": [
    {
     "data": {
      "text/plain": [
       "array([1, 3, 2, 4, 3, 5], dtype=int16)"
      ]
     },
     "execution_count": 64,
     "metadata": {},
     "output_type": "execute_result"
    }
   ],
   "source": [
    "a = a.flatten()\n",
    "a"
   ]
  },
  {
   "cell_type": "code",
   "execution_count": 65,
   "id": "f56c94eb-16b9-4a99-adf8-101394dda001",
   "metadata": {},
   "outputs": [
    {
     "data": {
      "text/plain": [
       "(2,)"
      ]
     },
     "execution_count": 65,
     "metadata": {},
     "output_type": "execute_result"
    }
   ],
   "source": [
    "a.strides"
   ]
  },
  {
   "cell_type": "markdown",
   "id": "2c943f0b-7fd1-4ea1-89e1-d0b9495619ab",
   "metadata": {},
   "source": [
    "Finally, let's look at the strides of the following 3D array of size `(3,3,2)` but with the data-type `int8` (so that 1 byte = 1 element which makes interpreting strides a little easier). Visualizing 3D arrays starts to get a bit tricker, but I think of them as matrices stacked together like slices in a loaf of bread, or multiple chessboards stacked on top of each other."
   ]
  },
  {
   "cell_type": "code",
   "execution_count": 66,
   "id": "79ce34c2-aba5-47c5-a0c8-9bd820c8bcda",
   "metadata": {},
   "outputs": [
    {
     "data": {
      "text/plain": [
       "array([[[ 0,  1],\n",
       "        [ 2,  3],\n",
       "        [ 4,  5]],\n",
       "\n",
       "       [[ 6,  7],\n",
       "        [ 8,  9],\n",
       "        [10, 11]],\n",
       "\n",
       "       [[12, 13],\n",
       "        [14, 15],\n",
       "        [16, 17]]], dtype=int8)"
      ]
     },
     "execution_count": 66,
     "metadata": {},
     "output_type": "execute_result"
    }
   ],
   "source": [
    "a = np.arange(18, dtype='int8').reshape(3, 3, 2)\n",
    "a"
   ]
  },
  {
   "cell_type": "code",
   "execution_count": 67,
   "id": "061cec37-a329-4466-a876-d4aa42109142",
   "metadata": {},
   "outputs": [
    {
     "data": {
      "text/plain": [
       "(6, 2, 1)"
      ]
     },
     "execution_count": 67,
     "metadata": {},
     "output_type": "execute_result"
    }
   ],
   "source": [
    "a.strides"
   ]
  },
  {
   "cell_type": "markdown",
   "id": "d97ece3c-2b99-41bf-945e-ab17c2ed6153",
   "metadata": {},
   "source": [
    "Now things are getting a little more confusing! The above is saying that every 6 elements we increment a \"depth dimension\", every 2 elements we increment a \"row dimension\" and every 1 element we increment a \"column dimension\". Using our chessboard analogy, every 6 elements in memory we move to the next chessboard in the stack, every 2 elements we move down one row of a chessboard and every element we move across 1 column of our chessboard. I'll talk more about this 3D example in the next section.\n",
    "\n",
    "### Why do we care?\n",
    "\n",
    "#### Reshaping\n",
    "\n",
    "One sometimes-confusing topic in NumPy is understanding how ndarrays are reshaped. But now that you understand how ndarrays are represented in memory, you can better understand how reshaping works in NumPy too! Basically, you can think of reshaping as viewing that \"chunk\" of memory in a different way (reading it into a different shape but preserving the ordering of the data in memory). Consider the same 2D array we just saw earlier, but with the data-type `int8` (so that 1 byte = 1 element which makes interpreting strides a little easier):"
   ]
  },
  {
   "cell_type": "code",
   "execution_count": 68,
   "id": "f6dd1a09-479c-41f7-85a5-57f6d0adb17a",
   "metadata": {},
   "outputs": [
    {
     "data": {
      "text/plain": [
       "array([[1, 2],\n",
       "       [3, 4],\n",
       "       [5, 6]], dtype=int8)"
      ]
     },
     "execution_count": 68,
     "metadata": {},
     "output_type": "execute_result"
    }
   ],
   "source": [
    "a = np.array([[1, 2], [3, 4], [5, 6]], dtype='int8')\n",
    "a"
   ]
  },
  {
   "cell_type": "code",
   "execution_count": 69,
   "id": "6b0bcef9-b4b4-40d4-a8cf-87d5f879281c",
   "metadata": {},
   "outputs": [
    {
     "data": {
      "text/plain": [
       "(2, 1)"
      ]
     },
     "execution_count": 69,
     "metadata": {},
     "output_type": "execute_result"
    }
   ],
   "source": [
    "a.strides"
   ]
  },
  {
   "cell_type": "markdown",
   "id": "123845c5-0348-482a-b062-cac1f1858ba6",
   "metadata": {},
   "source": [
    "When we reshape the array, think of it as flattening the array out:"
   ]
  },
  {
   "cell_type": "code",
   "execution_count": 70,
   "id": "c23f0a2e-e2cf-45ae-9195-39943bc746f7",
   "metadata": {},
   "outputs": [
    {
     "data": {
      "text/plain": [
       "array([1, 2, 3, 4, 5, 6], dtype=int8)"
      ]
     },
     "execution_count": 70,
     "metadata": {},
     "output_type": "execute_result"
    }
   ],
   "source": [
    "a.flatten()"
   ]
  },
  {
   "cell_type": "markdown",
   "id": "f17fd306-2e4e-4757-81d7-c1c926f4ed6a",
   "metadata": {},
   "source": [
    "And then reading that data back into a different shape with different strides. Below I'll change the shape to be `(2, 3)`, which means that we'll need strides of `(3, 1)` (every 3 elements, increment a row, every 1 element, increment a column in the array)."
   ]
  },
  {
   "cell_type": "code",
   "execution_count": 71,
   "id": "571a38e3-0b2b-4206-9f10-b8767574b658",
   "metadata": {},
   "outputs": [
    {
     "data": {
      "text/plain": [
       "array([[1, 2, 3],\n",
       "       [4, 5, 6]], dtype=int8)"
      ]
     },
     "execution_count": 71,
     "metadata": {},
     "output_type": "execute_result"
    }
   ],
   "source": [
    "a.shape = (2, 3)\n",
    "a.strides = (3, 1)\n",
    "a"
   ]
  },
  {
   "cell_type": "markdown",
   "id": "7dd18c4d-cb82-44e3-bd2f-44b8a6191fc7",
   "metadata": {},
   "source": [
    "> Above, I didn't need to do `a.strides`. When I changed the shape to `(2, 3)`, NumPy already took care of changing the strides for me, but I'm showing it for demonstration purposes.\n",
    "\n",
    "The same logic applies to reshaping ndarrays of more than 2 dimensions. For example:"
   ]
  },
  {
   "cell_type": "code",
   "execution_count": 72,
   "id": "05672349-ab0d-4d2b-bf6d-dec66e7668c3",
   "metadata": {},
   "outputs": [
    {
     "data": {
      "text/plain": [
       "array([ 0,  1,  2,  3,  4,  5,  6,  7,  8,  9, 10, 11, 12, 13, 14, 15, 16,\n",
       "       17], dtype=int8)"
      ]
     },
     "execution_count": 72,
     "metadata": {},
     "output_type": "execute_result"
    }
   ],
   "source": [
    "a = np.arange(18, dtype='int8')\n",
    "a"
   ]
  },
  {
   "cell_type": "code",
   "execution_count": 73,
   "id": "cfc1b89e-d0b5-4123-9513-7e89545988ca",
   "metadata": {},
   "outputs": [
    {
     "data": {
      "text/plain": [
       "array([[[ 0,  1],\n",
       "        [ 2,  3],\n",
       "        [ 4,  5]],\n",
       "\n",
       "       [[ 6,  7],\n",
       "        [ 8,  9],\n",
       "        [10, 11]],\n",
       "\n",
       "       [[12, 13],\n",
       "        [14, 15],\n",
       "        [16, 17]]], dtype=int8)"
      ]
     },
     "execution_count": 73,
     "metadata": {},
     "output_type": "execute_result"
    }
   ],
   "source": [
    "a = a.reshape(3, 3, 2)\n",
    "a"
   ]
  },
  {
   "cell_type": "code",
   "execution_count": 74,
   "id": "c5f2e929-d577-4a9e-922b-2e11b9c9e4c9",
   "metadata": {},
   "outputs": [
    {
     "data": {
      "text/plain": [
       "(6, 2, 1)"
      ]
     },
     "execution_count": 74,
     "metadata": {},
     "output_type": "execute_result"
    }
   ],
   "source": [
    "a.strides"
   ]
  },
  {
   "cell_type": "markdown",
   "id": "eb8e732a-d961-45f6-93ca-3679589d5028",
   "metadata": {},
   "source": [
    "In the above example, we have three 2D matrix stacked together (I'll call them \"slices\"). We use the first 6 elements of our flattened array to fill in the first \"slice\", and within that 2D slice, those elements are arranged in rows and columns dictated by the strides (i.e., every 2 elements increment a row and every 1 element increment a column). Once we've used the first 6 elements, we traverse a dimensional \"slice\" and use the next 6 element to fill that 2D slice. We then repeat that one more time for the last \"slice\".\n",
    "\n",
    "You might be wondering two things at this point:\n",
    "\n",
    "1. Why is our array above composed of 3 slices of 3x2 matrices and not 2 slices of 3x3 matrices? \n",
    "2. How did NumPy decide to fill each 2D matrix slice with elements first, why not fill along the \"depth\" dimension first?\n",
    "\n",
    "These questions are related and actually much deeper than you might expect. They are explained in detail in the [NumPy documentation](https://numpy.org/doc/stable/reference/internals.html#multidimensional-array-indexing-order-issues) and in section *2.3 Memory Layout of ndarray* in the book [Guide to NumPy](https://web.mit.edu/dvp/Public/numpybook.pdf) by Travis Oliphant, but they are to do with the fundamental implementation of how NumPy reads data from memory.\n",
    "\n",
    "Briefly, NumPy uses \"row-major\" indexing when reading data from memory which basically means that \"grouping\" starts from the left most index. So for a 2D array, the order is `(row, column)`, for a 3D array the order is `(depth, row, column)`, for a 4D array it is `(4th dimension, depth, row, column)`, etc. The way I think about this is that the ndarray is a container, in the 3D case I think of a cube made up of stacked matrices. I can enter this for container (\"dimension\") and view a matrix. The next container is a \"row\" of values which comprises one smaller container for each \"column\". There are two overarching styles that dictate the way data is read in from memory, they are the \"C style\" and \"Fortran style\". NumPy uses the \"C style\" by default which is what we saw above:"
   ]
  },
  {
   "cell_type": "code",
   "execution_count": 75,
   "id": "b20fa678-c99a-4527-b468-15c452669995",
   "metadata": {},
   "outputs": [
    {
     "data": {
      "text/plain": [
       "array([[[ 0,  1],\n",
       "        [ 2,  3],\n",
       "        [ 4,  5]],\n",
       "\n",
       "       [[ 6,  7],\n",
       "        [ 8,  9],\n",
       "        [10, 11]],\n",
       "\n",
       "       [[12, 13],\n",
       "        [14, 15],\n",
       "        [16, 17]]], dtype=int8)"
      ]
     },
     "execution_count": 75,
     "metadata": {},
     "output_type": "execute_result"
    }
   ],
   "source": [
    "a = np.arange(18, dtype='int8').reshape(3, 3, 2, order=\"C\")\n",
    "a"
   ]
  },
  {
   "cell_type": "markdown",
   "id": "034f4bc4-7ac9-4f3d-b897-f622f16c1a07",
   "metadata": {},
   "source": [
    "But there is also the \"Fortran style\", which you can see in the example below and can specify using the order argument, which appears to fill the \"depth\" dimension first:"
   ]
  },
  {
   "cell_type": "code",
   "execution_count": 76,
   "id": "454b9424-dc86-45b0-99a5-0159d3ec0925",
   "metadata": {},
   "outputs": [
    {
     "data": {
      "text/plain": [
       "array([[[ 0,  9],\n",
       "        [ 3, 12],\n",
       "        [ 6, 15]],\n",
       "\n",
       "       [[ 1, 10],\n",
       "        [ 4, 13],\n",
       "        [ 7, 16]],\n",
       "\n",
       "       [[ 2, 11],\n",
       "        [ 5, 14],\n",
       "        [ 8, 17]]], dtype=int8)"
      ]
     },
     "execution_count": 76,
     "metadata": {},
     "output_type": "execute_result"
    }
   ],
   "source": [
    "a = np.arange(18, dtype='int8').reshape(3, 3, 2, order=\"F\")\n",
    "a"
   ]
  },
  {
   "cell_type": "markdown",
   "id": "d440338b-0f58-4fc2-94f5-b2ed9f4bc316",
   "metadata": {},
   "source": [
    "These implementation details are not really necessary to know unless your developing algorithms or packages like NumPy that are directly interfacing with a computer's memory.\n",
    "\n",
    "#### Super-speed code\n",
    "\n",
    "Knowing about how ndarrays are stored in memory and what strides are can help us leverage some pretty nifty tricks to speed up our NumPy code. Consider performing convolution on a 2D image by passinga filter window of \"weights\" over the image pixels:\n",
    "\n",
    "![](img/convolution.gif)\n",
    "\n",
    "[(source: Wikipedia)](https://de.wikipedia.org/wiki/Convolutional_Neural_Network)\n",
    "\n",
    "There are plenty of ways to solve this problem. The goal is really to apply our filter to windowed segments of our array. One way we can \"view\" our array as windows is using strides and the `numpy.lib.stride_tricks` module. Here's a 400 x 400 pixel image of the UBC sign:"
   ]
  },
  {
   "cell_type": "code",
   "execution_count": 77,
   "id": "da33cfca-02a6-474b-b0c3-b0692368c3c7",
   "metadata": {},
   "outputs": [],
   "source": [
    "import time\n",
    "import matplotlib.pyplot as plt\n",
    "from numpy.lib.stride_tricks import as_strided\n",
    "%config InlineBackend.figure_formats = ['svg']\n",
    "plt.rcParams.update({'font.size': 14, 'figure.figsize': (6, 4), 'axes.grid': False})"
   ]
  },
  {
   "cell_type": "code",
   "execution_count": 78,
   "id": "99f5cc10-e619-45dd-b83c-a1a556effef4",
   "metadata": {},
   "outputs": [
    {
     "data": {
      "text/plain": [
       "<matplotlib.image.AxesImage at 0x126fb27f0>"
      ]
     },
     "execution_count": 78,
     "metadata": {},
     "output_type": "execute_result"
    },
    {
     "data": {
      "image/svg+xml": [
       "<?xml version=\"1.0\" encoding=\"utf-8\" standalone=\"no\"?>\n",
       "<!DOCTYPE svg PUBLIC \"-//W3C//DTD SVG 1.1//EN\"\n",
       "  \"http://www.w3.org/Graphics/SVG/1.1/DTD/svg11.dtd\">\n",
       "<svg xmlns:xlink=\"http://www.w3.org/1999/xlink\" width=\"269.8825pt\" height=\"261.751081pt\" viewBox=\"0 0 269.8825 261.751081\" xmlns=\"http://www.w3.org/2000/svg\" version=\"1.1\">\n",
       " <metadata>\n",
       "  <rdf:RDF xmlns:dc=\"http://purl.org/dc/elements/1.1/\" xmlns:cc=\"http://creativecommons.org/ns#\" xmlns:rdf=\"http://www.w3.org/1999/02/22-rdf-syntax-ns#\">\n",
       "   <cc:Work>\n",
       "    <dc:type rdf:resource=\"http://purl.org/dc/dcmitype/StillImage\"/>\n",
       "    <dc:date>2025-07-31T21:29:54.660593</dc:date>\n",
       "    <dc:format>image/svg+xml</dc:format>\n",
       "    <dc:creator>\n",
       "     <cc:Agent>\n",
       "      <dc:title>Matplotlib v3.9.4, https://matplotlib.org/</dc:title>\n",
       "     </cc:Agent>\n",
       "    </dc:creator>\n",
       "   </cc:Work>\n",
       "  </rdf:RDF>\n",
       " </metadata>\n",
       " <defs>\n",
       "  <style type=\"text/css\">*{stroke-linejoin: round; stroke-linecap: butt}</style>\n",
       " </defs>\n",
       " <g id=\"figure_1\">\n",
       "  <g id=\"patch_1\">\n",
       "   <path d=\"M 0 261.751081 \n",
       "L 269.8825 261.751081 \n",
       "L 269.8825 0 \n",
       "L 0 0 \n",
       "z\n",
       "\" style=\"fill: #ffffff\"/>\n",
       "  </g>\n",
       "  <g id=\"axes_1\">\n",
       "   <g id=\"patch_2\">\n",
       "    <path d=\"M 40.9225 234.001706 \n",
       "L 262.6825 234.001706 \n",
       "L 262.6825 12.241706 \n",
       "L 40.9225 12.241706 \n",
       "z\n",
       "\" style=\"fill: #ffffff\"/>\n",
       "   </g>\n",
       "   <g clip-path=\"url(#p678bcb22ed)\">\n",
       "    <image xlink:href=\"data:image/png;base64,\n",
       "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\" id=\"image182d365896\" transform=\"scale(1 -1) translate(0 -221.76)\" x=\"40.9225\" y=\"-12.241706\" width=\"221.76\" height=\"221.76\"/>\n",
       "   </g>\n",
       "   <g id=\"matplotlib.axis_1\">\n",
       "    <g id=\"xtick_1\">\n",
       "     <g id=\"line2d_1\">\n",
       "      <defs>\n",
       "       <path id=\"mf7fb534746\" d=\"M 0 0 \n",
       "L 0 3.5 \n",
       "\" style=\"stroke: #000000; stroke-width: 0.8\"/>\n",
       "      </defs>\n",
       "      <g>\n",
       "       <use xlink:href=\"#mf7fb534746\" x=\"41.1997\" y=\"234.001706\" style=\"stroke: #000000; stroke-width: 0.8\"/>\n",
       "      </g>\n",
       "     </g>\n",
       "     <g id=\"text_1\">\n",
       "      <!-- 0 -->\n",
       "      <g transform=\"translate(36.74595 251.639519) scale(0.14 -0.14)\">\n",
       "       <defs>\n",
       "        <path id=\"DejaVuSans-30\" d=\"M 2034 4250 \n",
       "Q 1547 4250 1301 3770 \n",
       "Q 1056 3291 1056 2328 \n",
       "Q 1056 1369 1301 889 \n",
       "Q 1547 409 2034 409 \n",
       "Q 2525 409 2770 889 \n",
       "Q 3016 1369 3016 2328 \n",
       "Q 3016 3291 2770 3770 \n",
       "Q 2525 4250 2034 4250 \n",
       "z\n",
       "M 2034 4750 \n",
       "Q 2819 4750 3233 4129 \n",
       "Q 3647 3509 3647 2328 \n",
       "Q 3647 1150 3233 529 \n",
       "Q 2819 -91 2034 -91 \n",
       "Q 1250 -91 836 529 \n",
       "Q 422 1150 422 2328 \n",
       "Q 422 3509 836 4129 \n",
       "Q 1250 4750 2034 4750 \n",
       "z\n",
       "\" transform=\"scale(0.015625)\"/>\n",
       "       </defs>\n",
       "       <use xlink:href=\"#DejaVuSans-30\"/>\n",
       "      </g>\n",
       "     </g>\n",
       "    </g>\n",
       "    <g id=\"xtick_2\">\n",
       "     <g id=\"line2d_2\">\n",
       "      <g>\n",
       "       <use xlink:href=\"#mf7fb534746\" x=\"96.6397\" y=\"234.001706\" style=\"stroke: #000000; stroke-width: 0.8\"/>\n",
       "      </g>\n",
       "     </g>\n",
       "     <g id=\"text_2\">\n",
       "      <!-- 100 -->\n",
       "      <g transform=\"translate(83.27845 251.639519) scale(0.14 -0.14)\">\n",
       "       <defs>\n",
       "        <path id=\"DejaVuSans-31\" d=\"M 794 531 \n",
       "L 1825 531 \n",
       "L 1825 4091 \n",
       "L 703 3866 \n",
       "L 703 4441 \n",
       "L 1819 4666 \n",
       "L 2450 4666 \n",
       "L 2450 531 \n",
       "L 3481 531 \n",
       "L 3481 0 \n",
       "L 794 0 \n",
       "L 794 531 \n",
       "z\n",
       "\" transform=\"scale(0.015625)\"/>\n",
       "       </defs>\n",
       "       <use xlink:href=\"#DejaVuSans-31\"/>\n",
       "       <use xlink:href=\"#DejaVuSans-30\" x=\"63.623047\"/>\n",
       "       <use xlink:href=\"#DejaVuSans-30\" x=\"127.246094\"/>\n",
       "      </g>\n",
       "     </g>\n",
       "    </g>\n",
       "    <g id=\"xtick_3\">\n",
       "     <g id=\"line2d_3\">\n",
       "      <g>\n",
       "       <use xlink:href=\"#mf7fb534746\" x=\"152.0797\" y=\"234.001706\" style=\"stroke: #000000; stroke-width: 0.8\"/>\n",
       "      </g>\n",
       "     </g>\n",
       "     <g id=\"text_3\">\n",
       "      <!-- 200 -->\n",
       "      <g transform=\"translate(138.71845 251.639519) scale(0.14 -0.14)\">\n",
       "       <defs>\n",
       "        <path id=\"DejaVuSans-32\" d=\"M 1228 531 \n",
       "L 3431 531 \n",
       "L 3431 0 \n",
       "L 469 0 \n",
       "L 469 531 \n",
       "Q 828 903 1448 1529 \n",
       "Q 2069 2156 2228 2338 \n",
       "Q 2531 2678 2651 2914 \n",
       "Q 2772 3150 2772 3378 \n",
       "Q 2772 3750 2511 3984 \n",
       "Q 2250 4219 1831 4219 \n",
       "Q 1534 4219 1204 4116 \n",
       "Q 875 4013 500 3803 \n",
       "L 500 4441 \n",
       "Q 881 4594 1212 4672 \n",
       "Q 1544 4750 1819 4750 \n",
       "Q 2544 4750 2975 4387 \n",
       "Q 3406 4025 3406 3419 \n",
       "Q 3406 3131 3298 2873 \n",
       "Q 3191 2616 2906 2266 \n",
       "Q 2828 2175 2409 1742 \n",
       "Q 1991 1309 1228 531 \n",
       "z\n",
       "\" transform=\"scale(0.015625)\"/>\n",
       "       </defs>\n",
       "       <use xlink:href=\"#DejaVuSans-32\"/>\n",
       "       <use xlink:href=\"#DejaVuSans-30\" x=\"63.623047\"/>\n",
       "       <use xlink:href=\"#DejaVuSans-30\" x=\"127.246094\"/>\n",
       "      </g>\n",
       "     </g>\n",
       "    </g>\n",
       "    <g id=\"xtick_4\">\n",
       "     <g id=\"line2d_4\">\n",
       "      <g>\n",
       "       <use xlink:href=\"#mf7fb534746\" x=\"207.5197\" y=\"234.001706\" style=\"stroke: #000000; stroke-width: 0.8\"/>\n",
       "      </g>\n",
       "     </g>\n",
       "     <g id=\"text_4\">\n",
       "      <!-- 300 -->\n",
       "      <g transform=\"translate(194.15845 251.639519) scale(0.14 -0.14)\">\n",
       "       <defs>\n",
       "        <path id=\"DejaVuSans-33\" d=\"M 2597 2516 \n",
       "Q 3050 2419 3304 2112 \n",
       "Q 3559 1806 3559 1356 \n",
       "Q 3559 666 3084 287 \n",
       "Q 2609 -91 1734 -91 \n",
       "Q 1441 -91 1130 -33 \n",
       "Q 819 25 488 141 \n",
       "L 488 750 \n",
       "Q 750 597 1062 519 \n",
       "Q 1375 441 1716 441 \n",
       "Q 2309 441 2620 675 \n",
       "Q 2931 909 2931 1356 \n",
       "Q 2931 1769 2642 2001 \n",
       "Q 2353 2234 1838 2234 \n",
       "L 1294 2234 \n",
       "L 1294 2753 \n",
       "L 1863 2753 \n",
       "Q 2328 2753 2575 2939 \n",
       "Q 2822 3125 2822 3475 \n",
       "Q 2822 3834 2567 4026 \n",
       "Q 2313 4219 1838 4219 \n",
       "Q 1578 4219 1281 4162 \n",
       "Q 984 4106 628 3988 \n",
       "L 628 4550 \n",
       "Q 988 4650 1302 4700 \n",
       "Q 1616 4750 1894 4750 \n",
       "Q 2613 4750 3031 4423 \n",
       "Q 3450 4097 3450 3541 \n",
       "Q 3450 3153 3228 2886 \n",
       "Q 3006 2619 2597 2516 \n",
       "z\n",
       "\" transform=\"scale(0.015625)\"/>\n",
       "       </defs>\n",
       "       <use xlink:href=\"#DejaVuSans-33\"/>\n",
       "       <use xlink:href=\"#DejaVuSans-30\" x=\"63.623047\"/>\n",
       "       <use xlink:href=\"#DejaVuSans-30\" x=\"127.246094\"/>\n",
       "      </g>\n",
       "     </g>\n",
       "    </g>\n",
       "   </g>\n",
       "   <g id=\"matplotlib.axis_2\">\n",
       "    <g id=\"ytick_1\">\n",
       "     <g id=\"line2d_5\">\n",
       "      <defs>\n",
       "       <path id=\"m805a08fd39\" d=\"M 0 0 \n",
       "L -3.5 0 \n",
       "\" style=\"stroke: #000000; stroke-width: 0.8\"/>\n",
       "      </defs>\n",
       "      <g>\n",
       "       <use xlink:href=\"#m805a08fd39\" x=\"40.9225\" y=\"12.518906\" style=\"stroke: #000000; stroke-width: 0.8\"/>\n",
       "      </g>\n",
       "     </g>\n",
       "     <g id=\"text_5\">\n",
       "      <!-- 0 -->\n",
       "      <g transform=\"translate(25.015 17.837813) scale(0.14 -0.14)\">\n",
       "       <use xlink:href=\"#DejaVuSans-30\"/>\n",
       "      </g>\n",
       "     </g>\n",
       "    </g>\n",
       "    <g id=\"ytick_2\">\n",
       "     <g id=\"line2d_6\">\n",
       "      <g>\n",
       "       <use xlink:href=\"#m805a08fd39\" x=\"40.9225\" y=\"67.958906\" style=\"stroke: #000000; stroke-width: 0.8\"/>\n",
       "      </g>\n",
       "     </g>\n",
       "     <g id=\"text_6\">\n",
       "      <!-- 100 -->\n",
       "      <g transform=\"translate(7.2 73.277813) scale(0.14 -0.14)\">\n",
       "       <use xlink:href=\"#DejaVuSans-31\"/>\n",
       "       <use xlink:href=\"#DejaVuSans-30\" x=\"63.623047\"/>\n",
       "       <use xlink:href=\"#DejaVuSans-30\" x=\"127.246094\"/>\n",
       "      </g>\n",
       "     </g>\n",
       "    </g>\n",
       "    <g id=\"ytick_3\">\n",
       "     <g id=\"line2d_7\">\n",
       "      <g>\n",
       "       <use xlink:href=\"#m805a08fd39\" x=\"40.9225\" y=\"123.398906\" style=\"stroke: #000000; stroke-width: 0.8\"/>\n",
       "      </g>\n",
       "     </g>\n",
       "     <g id=\"text_7\">\n",
       "      <!-- 200 -->\n",
       "      <g transform=\"translate(7.2 128.717813) scale(0.14 -0.14)\">\n",
       "       <use xlink:href=\"#DejaVuSans-32\"/>\n",
       "       <use xlink:href=\"#DejaVuSans-30\" x=\"63.623047\"/>\n",
       "       <use xlink:href=\"#DejaVuSans-30\" x=\"127.246094\"/>\n",
       "      </g>\n",
       "     </g>\n",
       "    </g>\n",
       "    <g id=\"ytick_4\">\n",
       "     <g id=\"line2d_8\">\n",
       "      <g>\n",
       "       <use xlink:href=\"#m805a08fd39\" x=\"40.9225\" y=\"178.838906\" style=\"stroke: #000000; stroke-width: 0.8\"/>\n",
       "      </g>\n",
       "     </g>\n",
       "     <g id=\"text_8\">\n",
       "      <!-- 300 -->\n",
       "      <g transform=\"translate(7.2 184.157813) scale(0.14 -0.14)\">\n",
       "       <use xlink:href=\"#DejaVuSans-33\"/>\n",
       "       <use xlink:href=\"#DejaVuSans-30\" x=\"63.623047\"/>\n",
       "       <use xlink:href=\"#DejaVuSans-30\" x=\"127.246094\"/>\n",
       "      </g>\n",
       "     </g>\n",
       "    </g>\n",
       "   </g>\n",
       "   <g id=\"patch_3\">\n",
       "    <path d=\"M 40.9225 234.001706 \n",
       "L 40.9225 12.241706 \n",
       "\" style=\"fill: none; stroke: #000000; stroke-width: 0.8; stroke-linejoin: miter; stroke-linecap: square\"/>\n",
       "   </g>\n",
       "   <g id=\"patch_4\">\n",
       "    <path d=\"M 262.6825 234.001706 \n",
       "L 262.6825 12.241706 \n",
       "\" style=\"fill: none; stroke: #000000; stroke-width: 0.8; stroke-linejoin: miter; stroke-linecap: square\"/>\n",
       "   </g>\n",
       "   <g id=\"patch_5\">\n",
       "    <path d=\"M 40.9225 234.001706 \n",
       "L 262.6825 234.001706 \n",
       "\" style=\"fill: none; stroke: #000000; stroke-width: 0.8; stroke-linejoin: miter; stroke-linecap: square\"/>\n",
       "   </g>\n",
       "   <g id=\"patch_6\">\n",
       "    <path d=\"M 40.9225 12.241706 \n",
       "L 262.6825 12.241706 \n",
       "\" style=\"fill: none; stroke: #000000; stroke-width: 0.8; stroke-linejoin: miter; stroke-linecap: square\"/>\n",
       "   </g>\n",
       "  </g>\n",
       " </g>\n",
       " <defs>\n",
       "  <clipPath id=\"p678bcb22ed\">\n",
       "   <rect x=\"40.9225\" y=\"12.241706\" width=\"221.76\" height=\"221.76\"/>\n",
       "  </clipPath>\n",
       " </defs>\n",
       "</svg>\n"
      ],
      "text/plain": [
       "<Figure size 600x400 with 1 Axes>"
      ]
     },
     "metadata": {},
     "output_type": "display_data"
    }
   ],
   "source": [
    "image = plt.imread('img/ubc.jpeg')[:, :, 0]\n",
    "plt.imshow(image, cmap='gray')"
   ]
  },
  {
   "cell_type": "markdown",
   "id": "4d51a9e1-915b-401e-9687-f655af3250ed",
   "metadata": {},
   "source": [
    "Before applying the filter, let's take a look at the datatype and the number of strides for the `image` (which is saved as a NumPy array):"
   ]
  },
  {
   "cell_type": "code",
   "execution_count": 79,
   "id": "da43cf7e-d3ba-4c03-bfde-29220adaafbf",
   "metadata": {},
   "outputs": [
    {
     "data": {
      "text/plain": [
       "dtype('uint8')"
      ]
     },
     "execution_count": 79,
     "metadata": {},
     "output_type": "execute_result"
    }
   ],
   "source": [
    "image.dtype"
   ]
  },
  {
   "cell_type": "code",
   "execution_count": 80,
   "id": "320a4632-057b-4275-b788-841b38844988",
   "metadata": {},
   "outputs": [
    {
     "data": {
      "text/plain": [
       "(1200, 3)"
      ]
     },
     "execution_count": 80,
     "metadata": {},
     "output_type": "execute_result"
    }
   ],
   "source": [
    "image.strides"
   ]
  },
  {
   "cell_type": "markdown",
   "id": "9854565a-5745-4c62-b939-021b752481e9",
   "metadata": {},
   "source": [
    "The unsigned integer datatype `unint8` should take up 1 byte per element. So you might probably expect to see `(400, 1)` for strides. What's happened? Why `(1200, 3)`?\n",
    "\n",
    "The reason is when the image file is read using `plt.imread('img/ubc.jpeg')` it is originally strided as `(1200, 3, 1)` before slicing:"
   ]
  },
  {
   "cell_type": "code",
   "execution_count": 81,
   "id": "acd3c4c1-1601-4ce4-8434-26fbbbaff944",
   "metadata": {},
   "outputs": [
    {
     "data": {
      "text/plain": [
       "(1200, 3, 1)"
      ]
     },
     "execution_count": 81,
     "metadata": {},
     "output_type": "execute_result"
    }
   ],
   "source": [
    "plt.imread('img/ubc.jpeg').strides"
   ]
  },
  {
   "cell_type": "markdown",
   "id": "2a3fe380-07fb-4ca2-ba8d-d61dfe700068",
   "metadata": {},
   "source": [
    "This is because the image is 400x400, but since it is an RGB image, the array needs to store 400x400 values for each of the RGB colors, making the shape of the array `(400, 400, 3)`.\n",
    "\n",
    "When we slice the array to pick one of the channels though (using `[:, :, 0]`), the original array in the memory does not change. This is why NumPy still has to traverse 1200 elements (instead of 400) to reach the next row and 3 elements to get to the next column. That's why we get `(1200, 3)` when we run `image.strides`!\n",
    "\n",
    "The image below from [here](https://eli.thegreenplace.net/2015/memory-layout-of-multi-dimensional-arrays) nicely demonstrates how three dimensional arrays are stored in the memory in a **row-major** manner:\n",
    "\n",
    "![](img/row-major-3D.png)\n",
    "\n",
    "Phew! Back to our filtering task:\n",
    "\n",
    "This is the filter I want to apply to the image:"
   ]
  },
  {
   "cell_type": "code",
   "execution_count": 82,
   "id": "b344e0f9-6b67-424e-8358-6501f2b8d8bb",
   "metadata": {},
   "outputs": [],
   "source": [
    "f = np.array([[-2, -1, 0],\n",
    "              [-1, 1, 1],\n",
    "              [0, 1, 2]])"
   ]
  },
  {
   "cell_type": "markdown",
   "id": "9d985c86-d40e-43c9-83f5-a866616e0382",
   "metadata": {},
   "source": [
    "Now I'll use strides to view the image as 3 x 3 windows, so I can just apply the filter to every single window. Basically the goal here is to view our array as a series of 3x3 windows. So think of this as, for each pixel in our image, we want to view a 3x3 window around that pixel. We have 400x400 pixels, and if we have a 3x3 window for each pixel, we will have a 4D view of our array with shape `(400, 400, 3, 3)`. In this case, we can't have a 3x3 window at the edges of the image, so I'm just going to cut those off with our final shape being `(398, 398, 3, 3)` (but you could just pad the image with 0's to apply the filter at the edges if you wanted to). Once we have our 4D view, I can just apply the filter to each of those 3x3 windows and sum the numbers in each window. No `for` loops or complex functions needed!"
   ]
  },
  {
   "cell_type": "code",
   "execution_count": 83,
   "id": "ff897cb7-8a9c-4212-85bc-801bb2f3ee73",
   "metadata": {},
   "outputs": [
    {
     "name": "stdout",
     "output_type": "stream",
     "text": [
      "Wall time taken for convolution: 0.0110s\n"
     ]
    },
    {
     "data": {
      "image/svg+xml": [
       "<?xml version=\"1.0\" encoding=\"utf-8\" standalone=\"no\"?>\n",
       "<!DOCTYPE svg PUBLIC \"-//W3C//DTD SVG 1.1//EN\"\n",
       "  \"http://www.w3.org/Graphics/SVG/1.1/DTD/svg11.dtd\">\n",
       "<svg xmlns:xlink=\"http://www.w3.org/1999/xlink\" width=\"269.8825pt\" height=\"261.749688pt\" viewBox=\"0 0 269.8825 261.749688\" xmlns=\"http://www.w3.org/2000/svg\" version=\"1.1\">\n",
       " <metadata>\n",
       "  <rdf:RDF xmlns:dc=\"http://purl.org/dc/elements/1.1/\" xmlns:cc=\"http://creativecommons.org/ns#\" xmlns:rdf=\"http://www.w3.org/1999/02/22-rdf-syntax-ns#\">\n",
       "   <cc:Work>\n",
       "    <dc:type rdf:resource=\"http://purl.org/dc/dcmitype/StillImage\"/>\n",
       "    <dc:date>2025-07-31T21:29:54.725967</dc:date>\n",
       "    <dc:format>image/svg+xml</dc:format>\n",
       "    <dc:creator>\n",
       "     <cc:Agent>\n",
       "      <dc:title>Matplotlib v3.9.4, https://matplotlib.org/</dc:title>\n",
       "     </cc:Agent>\n",
       "    </dc:creator>\n",
       "   </cc:Work>\n",
       "  </rdf:RDF>\n",
       " </metadata>\n",
       " <defs>\n",
       "  <style type=\"text/css\">*{stroke-linejoin: round; stroke-linecap: butt}</style>\n",
       " </defs>\n",
       " <g id=\"figure_1\">\n",
       "  <g id=\"patch_1\">\n",
       "   <path d=\"M 0 261.749688 \n",
       "L 269.8825 261.749688 \n",
       "L 269.8825 0 \n",
       "L 0 0 \n",
       "z\n",
       "\" style=\"fill: #ffffff\"/>\n",
       "  </g>\n",
       "  <g id=\"axes_1\">\n",
       "   <g id=\"patch_2\">\n",
       "    <path d=\"M 40.9225 234.000313 \n",
       "L 262.6825 234.000313 \n",
       "L 262.6825 12.240313 \n",
       "L 40.9225 12.240313 \n",
       "z\n",
       "\" style=\"fill: #ffffff\"/>\n",
       "   </g>\n",
       "   <g clip-path=\"url(#pa7c6614377)\">\n",
       "    <image xlink:href=\"data:image/png;base64,\n",
       "iVBORw0KGgoAAAANSUhEUgAAATQAAAE0CAYAAACigc+fAAEAAElEQVR4nJy92c9/3V2X/ww3FBFQBBUUKmOlMhekgggqiMZEDzR6YOKJ8cy/wFP/DxNPPHIiEYcoqCjzPBRaWkoRCgIiQpXSMjzPL9fmvu7f1VfWvr8PruSTz7T32mt4D6/3sNZ6+R/9o3/0+uuvv/7Sb//2b79E4d3Pr7zyyksvv/zy9Zl3vr/22mvX/7x/1Ed91PU7n3m1Hu/7mI/5mJceHh6u/37nd37nus7/vad1W/iN/6zTa1999dWX3vSmN111UfjMb1xv/X21/dZJ8f2u9Pm915fjY1220d9pF33nvt/6rd+6/u8zW0fr7P+Ov304FfrMtTyL+eC7L37vGPcZ/M64da7437baB158/s3f/M2ne5lP7rX/3s+9zoF05PNLS+1j5557eY5z5xxLU5/wCZ9wPZv/uMfndy4crz7LvlC3baKt9EHavBvjjo1t7bv18+qY8Azqto629UMf+tBLv/7rv/7Sx33cx730h//wH77a8uEPf/iJFkpX1nVq486pZenU0rEpXfd/7/s//+f/XO3/pE/6pKt9fT7vzMUHPvCBJ7p2rijOD/RIv7ynbeAa5oNrLPJx+c7ywQ9+8KrzUz7lU1763//7fz+N7/LUAw+kohIQ3z/2Yz/2umEJtMRZAeQkWJeE8xu/8RtXPbx2Ytv4FT5OIoVOe00nl88QxxJTn9HSzndS95qd5L23E+f/MpovCJa+I2gUNh2XEkCZwDo7Fl4joVCcC4hNhvjoj/7o6zkKqiXqMsCJGfjNOmwjz6H9MJ9j7++8S+y2v8Kzz5JWeq1j4cs+0n7a0HGD+Pmd3xBOFbw+Y4WYz4AZ+E9BzL0rDO8UXPtwog+FWdvh9wqQ3kP7pRHKJ3/yJ1/1Modc135tkemd/51fSp93UqL7nTorBLn39/2+3/dEV84f8821v/qrv3rNh89YYOL11MF3BB901edTD//b3gId21bwQT3SC7RIu6pYHa8HJpuHVSsgJLhB5nAQW+king4Q11EnRbTAfdZhnRJSkVsJZFFchYbXqNUdDJnBuisYT8Jr30+ay/+WQHu9g76oDaGmsIGQeYdQbJcMzOTyWY0mkVWI+H0FEONCnYwD7woD/hPxLIGU+Bzbfi/adoyLwNoO5802FXFxj2PJWMgU/saY0HfabF9UYL54tn1ROPG9grsCk2c4/9IrwoN7UNRFa9vmOxrZsoznmDpPXlOF1PpoA4X+/Mqv/MqF1OiPAsT7q/jspwzt2Hr9q4/j0flZei5CWuRewWV9Ci5+q4JWoFY+tI2O9yd+4ide961g3/Z1bFYGUP8f+AN/4Im2oRfaoGyR9pFbD5qNJQoFBRf6XYITIkrYqyE6mNynFFVbOkD8JlHKvCWQDkAZcieh91O/iEWh6iSXMO4I9iSsHNS2aT+f6rTvoigIFyJkIir4aDMTQeE/NaPMtubDIkuZkb5qSkFA1EldmuT2v0h5mUzB5TgqXJ37EmIRhAhqEZf94/mYLn/wD/7Bj2AWGUJFRbv/7//9vy/9/t//+5/QGKYNY8fvCu4qsdLGMpX9tW8wGfcr1EQ6nf+OxwqtIjmF5tLQqayCXKEGgqG9H//xH/8R816Lw7bSBy2ojrV9fmWUkm4DxnB5bMdO5UJ7quTkf3l/aXIFqG1AUCOIqNN2V5kqCCt/vLcKXJ6m/5ibKkWfbR2XmXyCphBvpbXEDRHJqHaw6MHBd7IVZDbUwfV5a5qUYdvQEs6dCVXGUHK3vRV8JyZYQl4h0mtO95boeq/PtT9rSlgHBMfLcW1bT+2r+enzRaeU+vSYzzKgRFKzz99L9PrkmPsi9vq5KhAUrCo+XgpH/lOzImwVgGpW0T9jwHf7+Mf/+B//CNeHSEpleyeEWjr/PA/Cpy0IBcpdXSc62/oXecho/remp8Xx00cpmi86Keots2PyCQqKKl/LZ/2e+qlEutsfi3OC0lG5bF/r514FUh5VODLOKCKUUul10bQ0ohxRCVGgBxG6StXvjjX1QleXDFAAWdrROjsVFA6Mvreadwu7JWzr1O/idXemq+04weW2sfd0wDRn62gWDdAeNU+d56f626+2Z80+J1RhTal5fILVvd8xcmJ5V2lYT4MKNdtl1goyn6OJp3nC50XjneuOpYRmGyF4NLeEI4Lys8RVxaGWhw64H+KkOO6OU4kTja7/EQ3/i7/4ixdDLH0uA52UzI6zVgFjAaNxPYKN36XNznvvraBoQKDjWRQjXa210Tr8n3Fc2hBV66qxHtCrCByB7Lj1utcCRFQO0nyFTy0gfkMAgYAQatJM6WMtGMfU9toHx5k6qE+ZUfeTfCF4ko5tH+NYRVNhKK90vi9zE199tRQNkOirXdbZboV11togr+N/iIb7q7EVJEVKJaBOuh0oMa9w83OZpINgPQoKUZsSXyHUoEcJ8SRYS9AUJ0tiVpAtUd8hO39fwcb9tI85gpDXbFbDQeBq9yLUBnG2lDDa1iVOtR++kJrvCtWO1wntiVoRZiJ0EVdNVBnSeUPQENFqFNL/yvgnZbEKsjSj9qce6F2Bol9taegk/JcOS2OMiXOlQljkW7PM/+va0KEOPcBDpSn5iXddAvLwhx6Rrs/RJ1m6Lb91vDRLf+7nfu66ByXyy7/8yx/B+xVqghx5x+AQbWA8GQPlwK/92q893VMLpPUo9HjxfJA5z9e/b18oBhtKf7Sdeh64yQmlETqmJbaTicRLrdJJ9t2opkJCjVJbXA1URuqkSTSriUvUq9FOKK+TIDPaJl6NnNWkadSlz7ZffRb3SogVnAryFWzLaBJdhbCaU2d8BZDmV1M0bK/a0XqKihWSRckqI317psUodHymvjD+Yy77TMe6vpw1j7nX+/RhKUQa2u8YSMBVCCdalOFOtLjoSPoUldEm/WrrQjlZCL5UzvXlUBcoB+Yicmmf917rrnnaZ3E/bQKtqhAEGi31v3ItxevW11lke6JB+kObQcT/63/9r5c+7dM+7Ukwl97WKvLdtgtkDB6U1mxf/e8qM+cEdI5J/emf/umX4JLuOm72p3PKNZeflR8wJeyUxOyFFQqtbBt6mvw1mZx0pbCmYUPRdz6jJegl7lMpAvSeBgsUPLx0sorcKlQUKL6XYNp/mUUUqp9IJOh9CpIlUAUpDO7n5n+9EYQgU1n4zjxAnAYIirz7eee0QkIlUMSyxF1UX4HgmDrWhvEZc4jefm69y4xLA2Wk/rc+12VgEb0Kis8wQ3MaO7cnAVAmtx6ij84B5jJO/hPCqUArOrV+gx+0qWZYFWAVEvPN/x/3cR/35GbY/rbUcqnJaPtBVAi2HX/rqytFeuBeFT30S/9XEdSfXb70d67h+fQHoIVVUPN4ab91O5YPRJ9kbJHZwrn1GbWhayqetKlCREJQIG4UVXThMyWa1WwnQm97RFoSax3iXieTmS7Bb46BoXOTY9U07XvHZ5nHfnRM7KP9rq+rSagyqmUnsOMm1F8/nf3TCa9/BwFigMBIUYM2Eusigiqr5p0tsywSarFNKhLqQRPTPhjfZOmTmdYx7PPulJoMvSi+QZIy1TKNFoBtqG+tAk+adW6lc8w150XhUz4qKqHvRl+tV+tnx/Jk/jqfCKGHh4drzpv6Y7ud2/bH8ZbuuZ/0kQ0g+cym7VivAkhQQHu0eCrI2o5FW1Wu+O8Qjv/zf/7Pqy2dtyqjNZ2dgysPzbwliX8dwlvuiHYJ7aTZFj7KXJqkSnAFTn1brb+oYpGFA8DkVqO0FPI6UDUdmSAIzeieIW1NN80o29w8rgpkmVfToGaj2rgZ5TV37Pv6rIwa6t8ygGDuWfMGeefZmv3WZfvrt1uUfTLhe81p/iWuTcUpknI8RWwwo0m0OoOtf5XVCrSTwKpSW3QuLWhmL/2oMBppa1LoJnJWSIisMf+6aqPM6P3wHXNCgYkVCkujFp/pnDbwolD8cJKr2y7n1r77UkCpXJgHAA50smNdGivdc90f+kN/6CPof/PSTsBj+VA+Fbn/zM/8zEuf+qmfetXLWFmnaU2MnYEH5+WyLhmISlIZpHlHtZ1PmvckwEpUp/+dpDqa638y3Czx12yt2VYhYj809bpKwXZUe9uGZVTq1X63Xbyb11Xz0fq8tg75O7O8bTFbvAiovjyv09mM9tLfZfu39PmO75rRCloZW+ZeBNb3Jc6i8Sqp+kG9vorDNivEmC8TkLs6oMK9iMn6ai6X6Tu/bUcZB6aV+dsHEWT7tIqzbe9zdFtYqrzLF16LSYlpR734r/heoba06f0idPvh/H3wgx+8oorlk9KvtFFrQ6UqSqbQNhVPTdMT/1K0ciq8Kx8KZk60al0qW4QqJqsJx7qtjNjSV8YJJMx3+k0b4I0HUYcSGwZT0DjZtVFLHDbkDsWdzNHtcH/bNZ8iC4VsE/HaLjWrpX47tb2CrcJNwijBrV+vAoCisC0Cq7l4MovqwPe/Otxldk1c2shnCeoU8q7pVtN8+7NwXQEg+jVpUe2r8lCwngh0P/d5J2Jehl6mrzBVG4sA6tvr/FSz+71tuTOL28bSjAqg9LH31M8jGoL5O4dFblUI2wbGG2RGf/EXqUTNNPC+O+vCcdVf5by9Nnli9kd/ti/Ta1QCJ4F1R8/roywYsL5t8wn5L9/5PwiXcQW1uoLC65EH1M07yBDhp4vo6lsnq8hhGXAH4bSWbAnJ9zVTTlq31zf5VuHR3Kz6edpG350EzYbNfK9/6XSvhCGhihp3qUwFfhHbts86FRxoEjSi91dLif5KUBXQ+jsaoFg0sqXjXn9Rgzb6T9e8RqmIhjrHJdAXCTFK67gzQ1ztQDEdRYG3QmwVbNFGzayiMumtvtomBtcveicEvY55wEwzalsaXZ+cNLqmWM1TkBoCTno4BeLWwuClm0S6fjWpEc25LD2VJtasXWviRFsV1ksb0mv946vQFm3bZ+dQRcH46vLhWiwUr+d+orF/7I/9savPT/mbJ41WGC6DqsmLdpqLUsLdxvuqk9L3mo1th4Om01MkpJlkO6uRFpl4f9eqSsA+V4Ir0irxb7/qj2id26cucZJ5HEMK782D029nLpO/1QnbMXSuVvuXUBW8S1BbdDWIkkxSbBRyTa7SSwn6Dikuc/S7bXROdzz0lzynHKVR01BWUBVBOF+6EEy8PgmQFb4KJn05+J0Yl+aebWRyTXDbKxoFZahUXF3R4rxXiTpu3YyAsqkgK3BaKmRPiJRSy+N0fzMinLMqneacWZ/CZ1N/qpQwwRFooDTyERsFV2ga0YVGTfS/VgrYoA6ERQKpcJP5rbzIreZPifsO7VnvOv5LvCWMRjh81da3TWsC1hQQ5awGXwGmEKpGaXRSE61Ir47bIjmFxk6oCGj9V6JRx7/CbeH7Mtzd/zu3W6pceA7pFZq/JnrqMHaMSqjb1m3PIvEyt2PfhEvNuaLRzrHC6SQ09AGXnqRDx516EUS7iH+R/gpx+6YygrGqiBQ6GzhYQd4VGBVMzXFbutr+PNfOLSdT+qQgvPbO79V7KfaV+TIJHFo337DBKtEtUcx3v/vdT1aTNGBfqANawidIcEBZ0etwj/EyKfgSdO3MMsvCbgm+Zmn9S2rR2ubCyebcnPxabXDbYjuqTboqQe1VVNPnFHl1sW0RqIyh/2J9YhJXc/Qo+rlszwYBOiaUaqS2t0LMNnWRvYvDNcms5870k8BW+5WATwTt90Y+TQmAYCDQvd5ilK/L3RqBWiFRc9Extu9du7mmKUXhoYJwbpfRiog6Ngq7JtXWd3hSAkWn0o6pCjinjXA6DlXGCoeNEprx3ih3FWGftXMmU6+F9PqAgvLJnTDr9c8JxSqyBgRcmqYS4jrMwfe+971POXLmQr75zW9+6bM+67OuxNn//t//+5Nbofzv9dTrVkUiV+nHKDJ0+Uf+yB95atfDiajK7F64GkEGVsDU11PNWyJYh+4Kt6IZn2dn/V4kJ0zvmrOd4DKQaEg0IVqDwNUqHQvb5btaRg1fM9gx8ZkS94bil7AqrCvsHD+fZTLyrhe0PychtRp5hVpN7pq17XuVx8l8aZtlZrV1t0oqCm6fF/3WdFyBUAvA3C0Xd3ds1+xdFKsbwPFR09eHt+NUV4RjxrzAcPi+GkzqNkhFXlW8i6r6+WTerSJpnTu/lNO873d5vCZ56dCxpJwsIHzBn/3Zn335g4nQ/uzP/uyFutzmiZdJ1CpG7mMVwhd+4Rc+AaH6DIsMGVcCJqA0zM4qCvkRgUlwQIF3qYY1tzpYa/otcmnO2gonG7v3OKDdrbJmmlp0CV3kUvNihZltrTC2HRJ2nbRFUEyMWrNIsf6B5uP4fNv3nDn3HFH5fa8pcm1Om5MpU9ZctR3rSihTl5ArpDteFq4VOToHO19+R7h0OU63mzmZ832+2vc0HmUw6xVRuxKjQn6F2abqeJ33osyoy7wwaUjUtYm4zj8IQleCCr2mleNif/p8leoKtUZeT3SzNFZT8ZWDL/pEk1VMjvlzZupJqP2P//E/XvqO7/iOl/7oH/2jF8/wYhyph3FByLg2FEGGwDO9whSTBqWW/vmMwISmME/ddaX8784tbnf0ZHKuI3Fh73ZIYlAjKRAVXkJEfSptZH1f62NQQKAtXWy6vrAyh88qM8uoPrtLrCgirkJxUQHSHqJupLGmtRqimlcBp+B9jjhOBFbhs4Tqu+PmWNMeCETm2m19OmedtxK7Y0ddzXjf+0+M0c+2oeNDaXLmXf6RZrW5fSbVqnwWeaosncfSQjc7rK+1tKWwUIAz1yAs13HWZeBmnF7fnUVqkdR/3PkqzRaBdM69tuN5h7juygrJlw+uhTvz8YToTor31A549H3ve99LP/IjP/LkkEcAMY4AAz6L0hF0RHP5jXcVwFqGq3y5l+tBacqUugT0z30EfdwNWh27JYpOQgmkKRUOrJPeREn/F9lIdKvB13SV+KvdC1O7h5htVGOetMxOZhFNEyst+jzWTyJBry+tqG2Zss89MW6vPZlMokMYshv+1Rdxqq9jY3srWGTUCrdluJqyCkXRWTXo6dntsyhc88SkWudr56BCqoJMgaxZo4kv4Td9oHRLH0VYtqUWRIVR88IU0BVuO6/2UyS0zvzOa8emwmNdBksHpQ/Hp2WV5Jqs/Z1y+q/1r3n6mZ/5mVckEvQFEKj7yYCAyK3uA8sdjXS+naNf+IVfuJ7D89xVZmXRE01vx7bz1XoOlBMpYnDynOQyvSsR9jl1+val8BJ5UdSOCi0JeJcNrXZq2zqQS0gVPCsUl/hERE5wTWF9M71mfS+F16s571BRx1/hU2fsKUK8DmNNsu4xpSDvcw0EONcdhyV2n+0OE2bPmzbRRdcnZErpWkeItSi39OGzOqf6sXivCV4Fa3sqiIpK2x7HoX3uKhXr7ljwn/Vbz6Imx/KEchV4tEcB4HpI/ckqDjce4LWpHS9SZJSlEd8Xna0i9nORFN/xcbGA/K6eO2tkUXt5rOi2azuRIwQUKme6ysX5f1CLOCl9lTjUVk5u80iaxlFiXOi/KRf1/SjdbaTrMO2cErgoxOfVJ7Ca3D7UAd3B3onq/6slO9HtB0VN/tzOvnWOn5Db9vdEoPqPNOm6k+ed8O5SMuds0QhFZLZpOtuOMqn5awq2RvK4p2tRpaElcoM1CpumtXQeO2/SCuYNv5kQXEXnWHd+6y/cvqywslhn/WmO151Jtijv9F99fzXZzL1jzugTiosEUvxSrAr44R/+4cuvVOTYuilLp/3u/3cK3bKKvaj9ZBpvJHiFXC0DzXj5Q3nh3CngeScqisL8nM/5nKdgnMrXhHkCB1f+pDlUNTXsLDdQUSeksP2EPvTL+N/+7yCpiXivMLUzHbwK09rc1rmDWYGqoO3Sj5pMJYqddOt6EYynKPit17WkG5aWEKoN7dOiw2rhMjJMzH1GPxWgzpmEcxKK9Wm2bgWJaRN1btdvUV9Q6zyZ7Cek4nP6bAhyBbSoReKvkKqJsaX0e4eApY3SfF+lrSrhznn9aCfhsG0qg8u4mFAgHMYD5/lP//RPX0hEE45isIJ7iSiS7uDyn6XP0/f97YSkVtl3jFfJUtYd1HQoBbUCC1pFEMvvzmmfX+vBuXFdq6lUpIEInBRe/V8afpBghe4dAC9qdLEN4f9uhaPGMnplBzQTV5spqByQHnxRwuigUurX2FLTomZRUaTtsW1Fk33OCSFV6JWQt18yYJdL9T4ZdnfU2L5SZBoDJm71Yr1rKllXd/m0fxX8VRh9nlpPtNVr+yzdAyoftafPLv04Dgql+q70szhmu9NqBVHpY82mvk4moMKxgqVjXZpr1HcRbXmjdG9dRclto8ISfxAO9R/6oR+6TKpVtOZXIdiY75//+Z9/Agu842QvvbW/L48wWgW9tLiIztf6vepmEj3pJ0NoeWaq/lQ3apQe3COOiKRC2uWE1i0IcA13N5p19YoWQf27vLsE7MFDOxvN68TKTD3Vx44aZWhmc81CzUoHpM9w8l1YuvuHlYB3ZcJGTk/EU1N00x9ksKd9yPNa5LbaTUYu2qwGbs6Wgt12e28Xt3ebpAqNCuxmnpvicE3eRNnali6zUnivv+xkKmm6mXS65oSpDP5WP1nnrErNqHHR0Joy+5wKlGr/nYsque3PCpe2b8taIa3D8erY1c2x7fC5i3icXxXZe97znku4Mc5uW+15uLwj7EBkOOCNEHauS593Qv3lg+UhT6hUnSP52Y0un/xSQcn2URCE4CEKSRoHqAoh7PbboE4zB7q2ecFKXRz2SXmgbJCGuvTLtvR8k5f//t//+6+3ooWaHjLbrVaEmUtw3b3BgTtpTN8VMssU3ruIzoFYf8qJEP3/JPAsFZT2Y7efbl2F05Ruj239m/7QzzU9G/RQGxYxlXDqJBaBrd9ymc93BWUP6C3z1jyvAFNDqpQUoBbTLBrh7RK0CvBFCgqAIq7+33uc85rqZdLSns+WSfteoUK/NGmc91VQtoNiv3mG6z/9fd0Q5aWTeedn3RGegStPtd3dceWEtNrGCtdXH+nJOkRTFVjra1SgKHhsm4fb+O4+bloKupiopyd4ITPqP29pW1XqtLFR1PrtS6f1r+puaYLugwwsoThJC11tAP9rv5YQrPDkNymTtXE+Z5etrG+rhNuyk3wnwNb/UwFUIaG0b3/bdie6iZM62u1v+1Y/YseneVdFniczQlPTZNVGdu7SJNp+niHEVzPzTKC/xGD7JS7he3ck0fzsygmF3frMZI4KpDrdFzkt0vFex1hCXzQigdM2lr+4DbT1NXClP0flTCrAu971rqd5s0115FfgFp3Yvvo4VwhSFq2XPhU0pzlbBFPa8LvzpIBCYH3cYyLqbrWuYtOVAC380i/90tMxc9AW76BFF3wXTa0rZusVzSl814UiErRNDSgozLXgdFvUItC/uqi3yP3JZWFkRVPmZP9XGtrgXnMyIypIyqQboVxGlJlcte/zF+KfnlWH7gqFJ6fhoxb0vmrhCqQSkBPQpTn1CUnsToa/rzKwL248qSZWaHXMvH6jpPrReI4pBVUkXbWxkVcZyTHm2cy/80ddmhklxEWb3NvDPzovVRz+Z3+WoNexLX30Hn9bnxov2gYjYvKwY4XtQ1gzRvQZvw2Ma98UfphvFRx+Zvwc8xNTK7xrPpfJOw5FwlohXtf713/o82uy+7+K0Gep7ESdv/Irv3J9N7ggshIR1mf7tOXOY71+d+6Klixtq6Yi90BHi6h8mYblOPJeC8PxWcVoX7uhaedKfhBgXYrHZNFKv0rBTlaZbAlyJWcFTwVMhVdNUjtpjtAKAzuxKKya8UW5LU5YfQhrv/d+J339T0V6+uE0RbpgeotmwMlRrrnrJLVv9s/valUFj+tZtx8yDO038dakRxlqiW/Lrp1dJFaTsKhe4u8c10fb1IfSwEar/W47OiaMG8z6vd/7vS9993d/94XAfFFc0uQ2NLRL57XPLu2s/06mto/6kuqXXWRnG+tT1iRvzlR/78uxE1G5my9CWlPP6J5uARn6t+YwH5Hk8kFRomPAZyKuT4IhSdbrX955YQ5II6mLo77zdXP4TF0cuzdhkR+/M3esE1VA95zZyiyixi//w3/4D19vkqGCZQXI+gNKdOsv6KDte80IS6VtI5TLIF5b5mrIuW0o4ZcJO9GaMiKgPsd63TGiWrGIpqkO/U+CcDz9r20030hmhRFd0O1Lwq5Z6/eagSI+zUPNgLarvrzOZX0XFS471ifTR2FQRqzfrQjmziHfsgJzmaBjzIv5IQqICfl0NuMj0nFrIPMadborvIry10zd+bLeoifRruajgkoflXOg4FCYd3WEgqmmn2hqd0bWJKOo/IoGX3s8iX19tosiG0yqwBGti9LKl5qrK0xKM7XUnD8j2FUStqWmae/Tz8n/Lpn6ru/6rkto8pl5VHGhoJhT6mG958v/4B/8g9ftZBljkyvXPLBxJ63e38oY7XQ7UYS3dawgraCVebxGs9EBa5HRi4A68V5jf+uDKFFUK2xZGK3zuEu2ai5Rr45UNK9MU6FcM62+txWclOZlnRCXQmaR96LTVTpFHJ23Ci6vXzPLUiTjPVWEChaZpPN3MlNtZwMqJ5+Pc7m5VqtQnf/1H/feCrMu7SnS9/maQpq/PlNBpf9yEY390r8qQpJ3pF9pS7q2/o+OO8W2F5HyXxGcc6RilR58lVeXfmxTFaRF60U+6Nh3bCsfKJqXjgerA/7m3/yb1/Wg8B6YIg0h/PAJXoe1uImetq6IRMG2kFPiWcgnwZU41qz0/0V/i468f4VaCV8h7CR3sHfARUkSZbf4rknl9TWRePd0+EY4m1+2z9UkcNO5FlGXjCEDo3WKqupjO5nYy9yr4YpEd1z3/hVsFXiMFf6pmojSReeB3+gv4XvPed3nNgGzStI+rQlIaaSsJl37aR2LDry+qGsRy7op6hfr/IqWNPE8+7T1n/Io+b3HvK3lQGFcPPCD63jH/PO5Tf2xfvvX+n77UUAyD9brfVW2FZ4nBVQXlCbh5lWWhsp7CsFev0pqeVu+MPfOfvNizzTev/zLv/z6XYVQ2vB+XAtXYm0n1Y7QEFFDNXMXgUvUJ0bo4Pd9JbWTvn66wlS/n1Cc7avzek0mi5C5cLtRThGEJqiDpsY1X0jGNCJULWt/msTbJGOJWkdsBeiigxJumafEXdS3AmIFYQluTa2TD1IiY/8qt6pGWOnH4D+ej++CwyxgSojfvfZProgKnT5r59kAlG0rTamEtn/br5N5VdN351iBVce1Qr2HLCtg3Km2Qnf5CXphfExncM7rDuB+z5jQiV/E1xxQSwNTpd03velNl1Aw5aabDlSZdBzWHdHf6qzvJhOrxEVc5W/75xhpjbjG29QZ6VowJX9oKXINKwWgMejL8XEOefZTKk0ntpNA43x4CceGt9NFOMJkpbKlMNNJWKZa/00F5KkUiZRRlnDX5PCe+h1q0ytMusJAE0Imce8vTV2FliZIJ1gflYig6M73mtEL9TvW7WP9JyeUVVRdNLDjV8RUUxbBhMP9W77lW54OdnFLGIjNLHa3sv7iL/7i65o1YZ3voor64Fb4OS/9zb47rk2WLhOsW8J5VKvXRC1yl1Y6NzIh/eSzaRbdGcS2qBib9e84uJ10I4xNo4CxSXCndMWOvLT8VLPQdvPbRz8KWpWudFFac45XqbRUgdpW50KaWr+uKSAGMRTCFfgqbf2afIZeGB/9mwZOmrQvrXl+61p1pbenLbgtIhEG0TMgS5ASUQMHG7Eqg1pqMp7Mg2W8mkvrc/Me//O7k+6kFSKXUeqcta8KNKOFaxrow1JD63AWgdkeTcQ6TSsg11RQq3cedq1jiawColrKPlvn3ttx8rf69Xqf1+GQ/YIv+IIrLaKHFTMO0AbtBn3QZ0wkaaWCZpWlz1k3wvrbHJPOfZMtF2XwLooqolaYrbnkelG0vcLO3xxXM/ZpixsS6uCv/0zhIrpzrjT/3B2jeX/19yl4FFxFeM6VaHGtlPpQf+dxV9j9v/OwiqtK0DrWWqoJTTtIDcFBz7MU7oyFO+u4NErhpL/R4EmjmrX+7OvKDgr3uEkk92hpbXk69WlRgo2rwDKytszh5167hC1DF9GtebCIr3VLpGqJ/i7x+JJwNOeqkctQ9k+tapi4/qsu5XLy13dRhFMBWli+ppcT2fZZV0PYor/mtak1XZ5U1LVEfzLrvb7pMSvsKRDgZ3zGZ1yOWZmqDKgzWiFwQjkdY6+t4uu8O6buDEK/zVKvkHaO/dznLz2rtLQ6NG24VlO5KIfSjR1VUDAvKAqhSdtg6kbLpU/p0V0zdOCfrJWaxDUHpdETQl8fagXUqRSlUWo19PmLqgsYig7xp9InTEB2q+VeBBbLs1Dyzp33Vjiuct45La8sv9hO6MG1rN5Tev+IY+xqJq2Aa6hb4ixaWr+Yn4vedjJaZEzrXt8BLyF6YfOd/07G2Ryf9Sc4WL66ndGpdKBLgDXvbH/Hp0Jv0UWd4UwWQgQGNDmyCY9oKtAQUB3kxHrAmh4y9wmt7eRX6HbsynC2twGK9etVMHEd6K1MQakwlM4aTeuKBw/G0BktMjyhTPvAM02dECX0vIGiPv1/XlNa4735Ts6j6EsG7jZRa+baP+9dJN00l7VE+Ox86+Ndfun1FYAPsy9bzfXl8aLIFYal/SoLxvbtb3/7NWbf//3f/8R/jJeBDfm0z+2craUmHey15aOau3yHL3pgT5Xkg5MkUZ4GcJ18NmoZvzZ1IxDazfUrNLggsjE6JiJqjpbCyY74veaIUrxh6iLGaqGiwSK9kyCr6dO+FYafzDvbswhg17tyP+MDCvjBH/zBa1tjtB8EohDn3d0XuOdP/Ik/cTnrTdTd+VqzufNYIbQE73XV+gq5mkXOX01fI1OaIQoClZJ9rckp0lpkTt1F2q5F1M/SgI7IXDork1RYKlT5bIDIvi5tNLDDM/2d0v3bOibWbxt2t9xGEe2jz+p8tE7ppn0qSGjqw2uJJtqfk5tmaaNApoqxdFxgUWTPfShXk37dDeNkNpb2pBdonPHCnPT/9qV8407NrpSRp31dbS3iqC+mDKqD8cQACsR+r29Ax6qD6IJXB63LORpap6Ou2i90XaQnYUu4HRBNgF7vYFdjd7L1mXRia2Zrsrg28g7JLfKVMDpW1TrVtD/xEz9xvUy0FR2ZMiBzKDhaFgWeNF3HskxUAcxv3XivjKRAMHBUNNBIMvPqaVoK5fqsREf6pLr9Nm1htwnuLTM5B6Ip2+K+fR33mtH+fgpYrPvAeRGBrJlcRl1lRbuMuFmq5IqqbItKoYqD70b9LDXrS2PbltcPgqnXLs3bvhUkS7u2vVbSCrluJ7W8IZJVlpgIja+2ArAASlpvn7gfutudNy4wY0cUPgv3dhJqhjak246XaboKAYJFUMkEoqnuiODEFzUW1i/qMCpUp2Lr6WSvcC4ByyDsDMqRWfy+Wybp1OR+NuMj56onAjk+3rMOWduleVo0yfUkBpJvo9DXzCxh6t9Z31nnpsJqHa4V5PXjleClBYWSZpjPrYJq8GOj3ziO8bW4JQ5mIchT1Mb3jRBS9OHqP3Npj8hoT9G2XdLi+qM6Nr1nGWiZae9zTv1eVLOIx+eoZIumHKcChJqL+vyKgk+R7M6rdbw2q0Gq2OouKN9r3q7wWwvMPqyfWGTacyXq4/I660bJ4TbhO26TojPbL51R50bIXa6py8DTui7eUls6URBS/S3ryJepjPY0L2udgA5CB74E0Ws6wfXfrEZ18AtHl7gbBVuh4cDWl+Fzf+qnfuradA+NIVLzPjUC/7HEouZOIXYFqsTS8bCdIqwVwAqROtHtk2aVqNH/FSZlipraJvAaxW2bK8AcR0PvFJGTQkwCpriHV9Gm7XdPtSKWKi+Re883FWU7ZvXFFL237RUeltJqhc26Qdbv1d9OSKh07O+lodJhg0hNfej9tsl71roQsYp6llbWTKW0DzUll19K/ychfUJXKuPyJNcqxHCZqHBdrF50xf36Lt3txfW2+jtrvflepWxb3LZo2/xAxTzUEKsRBBtqcpuVi240dTrAJTw7sRB2tdmaRRKdCYn+7uQVdfA7g+jSkmoni4y8qwoW6rsLA5/1B1TriARd5Ixg27atKWxfNsViUWfTCVZY+5uRshWOJxdAT4DvHmf1IZU4Oo9doyhxiaxth/2usmiaRE0PzVLHs76prlUsPah9uwNJUUWjcmVcFUX75efS2LoKOgYb8aty2rk++Xn2mfUVtzhXfcbJ7Gpdy2sVaK331Sz4r1no+JYft02tr9eVZkXYRXW9z3ktILCvBLE87RyXAlFmlZoHNnO9iq/jZJ+cC5Rt90OjPGBeCVerBdY3QDGZdDWOHetEL8ReRmwDq5kcMEwVOkWYuFrFZUgm5CH4WB5RX14nvf68kwlGEc4zyJhETQU5EX79LO3HCZmKaEpINbMWWVSzr9BzMqudRHrVqkUitttcoTqUu4lgBSvtY2z5zdUQ1isxK8A61vr4GimW0BXqfO59W07zVP+ibd850QSvIun4LuooavN7kdiaWvUNl95rnnV/u7VqKiRKJ+1vgyed+7VATgKpv70+Pr5t5woq52eDaKs4FdDOMSgMIeSOJs5t+2E9Wg+ci8DvWEAdCxfmOybNh62MEPUhFM2TdanXJccMc1cjSNStSE2/UaQluiWkEs0JcvssB5LPNNBDTM0YVgi4bILrGRyifUVCnbjVeCdtznfQB//xXCNiOuIlxiVE0Uwd6ZoK/Kczu/4G22E7bYf3dXtrtZb/1ewQ+bgyQZjvGDWIITznefot9iAbCUiBpdKgbB8cx86/z2pqxo51FdbJx2Whji6yvysbTGn9zk/LIg/bVvqsQi4qUylXOFQwOEer2FvaVorXylflwbpgFDJ3bg1L+/b6gQe33X2VV07Rfq8xUEM+HgIMMET+GQGsomdpjtIzZCme0uVcd76aLFt0t2DIZ8GvPUbvSvPZAbaSIq1OCh0CxdT5p9RUCIKuMAU74b6XKfqfA02dCJgv/dIvvepQyKgBkco4z5XyJgBX8CyzlLlkUNEVJmS3f6l5IDEVjZV5FEJ9thFQTXKRVdtmlGbHl6KJog/PMdX075h2okWCfhZF6/Ngex00oGO8KLTMuuaciHHnaoNILYsWizo77yXSbdu6J7b+Ipk1pReJLE2sgluGKb20P35eodboeem7bS0iWgRj31WmRcwK+PJOlXUF08sHVGWf1hJqf9fkbX0VaPLJd37nd14pRn/v7/29i09tK/UYvfY8ASwflWaLVoq7cbS9JxeI4It5cfsltxLSV3sl1u5AdEKaI4Np92M/9mOXUHHvJFECFfJO4ze8XPO1JsASSovruwq7lwAlZH/zf4UA/3VzRn/TN2S2PdE4fUT22UlvxM++bCDAiTQRlKKgq3OT4hIQEaJoqwTbxFhKdxfw+bbB3RkoTU6VCH0Wv7tecNH1GxE2p992/trmvV5mv6uzplxNvs7torE1ER1HGafme5WB9xTN971zXwXZNi0S6n9FOyc6X1Rk/xpAqjB9zlF/cg29PublnSnddpzaWKRIUaDh237LW95yARfW8tZUpS4tBornEHCfbgH5pECiu/fo0rD9Rsld0ylgMEWIl7sSP3Qw69tYic076IzfPaJKpuVhMh1Z7p/6qZ/6NBE1R06E7HWdgPoP/L+pBjU3OtnV8MJeo7YyVIWUTn+KWxefHOYiJF88088lbnfTEGbbXp8l48qQFY6dzKINP6/57PuaMnWQtpzQ687DyW2wPpzeWxS/DHeKrm3p/R0fx7fpPetHOqEclcG6OPxcWj7N8wqFzlOvXQGwgm5Nvfa393esen+FSZXxIvJtj2X9gboVKGsRbL0FEIuQqQO+R4h90Rd90cX/XR5o3qHCh/n78R//8aeVHy5aJyEcWcKLOk0qrw8XAcV9WBY+27mlboIJRkz97XJNCWcLa8s41SRAOxqhaaYQ7IQvGurhCSeE1kBEFwU7CQ6wzzLZsNGytrt2ef0/DjrP03yrQBLS1nSor6cMVYYoUqN9RI15iZ54pjt1nMrJVFjksqbU6d41Zzq2revORCyxW0cDO/6uYmk7RHfP1V00enLAF6meXBKlHZ9fWqrwWaXctq2TuYJ523cyD31ex6AKa5Wcz69CP61BrI/Uftvn8sEJiXU8V0jteNciWwHfMS5atx79tpxkjtupdGKdtJVIJqDGXWU9Q8O1nu9///svH7mre4xu6o82eMW9bjnuONgulZ2RUH6/thVysFbKLwFRRA+VzI2OdoApNsBzJ/uMCqky7aYZdGC9RqKxPgfClwK0kL4Cu/d3UrT9dcYrlBrVU3BtIOLkIxABKnxLHB0HyikVwUnsfCyqWp+D91tnn1PE7D2Npm6di9gWEVnW97r/b9uW4Su0FKBl8KKLpdU1/RbJrZAvCpJ22o9FQBUG/rfjvGWVk/Pf+ZBmvFYLx+8i1Qqbjpt1t70vz3PvTNLWswpo6aECDr5/5zvfedUJohKwoMAxPxFitBm3FNfjfsLfbcBEAcbusvXxcn/XaWqWmsSugMMHLMgoSDC6fO2qsgjESVZI1KfhtV2j1pyd+ne4xrWYbq+zfohOhE49O67QcZ+xEnOZUiG7AszJoR0OEsUUB9urgFqfX/0Za6KsL+fO91Rz0fHasW4/1sxbQSOCOGlZ58062v4l4N6zqOw5c6TuA59zIv62t/UsEnDOGgRo/zQhrUMmPwm1k+Ba4dm+7H1FQLavgnKFmm1qqQDp804Cu0We2sDc+qI7risQT/P2+kQvTwLbdm2dS+8ioB/4gR94inLCV6yscafir//6r7+SzhFk7riLeQnPIeQwI6kfYahFRL89mUvlz4s8T1K25GHX7xoJVUaYOwuau6w8bqqkVqMs7HeyIebdBpfSMxsriKy7B3c4QF1h0J1CHVBNyK6btE27OLXmsded0jlst4Rhn3ailwE6RmWAPrP1FnUWofj/CWnZHv0CMsCJgbetRX8VfIuEal6VyPv8mm9NLSmzVXisX8Z5afSwbW67e7/X7H3SzGmsvabIt/fuc59DuRUA9m/nemljzb2WVeAV3vqdpT/77Bz4vQJy27vj8PrhKMctHb9VMg3M7D38R+CMVA19WdIQJiNoCaEGUtMMNNuB/vGf/XEpm6lRbhzqCh2QGAITQeb27/zHKfLmnHniFfVwradCPZjBXaFlB1YDmHdFByoAu82Kgsq1WF2DRwGCcp3Oehegm56xfp6mUfi8Ep/f14+3THPSdPvbCUHdMZDvq/V7TYXBossilD7rxLTLZCchRzklNBZZNDpsG6y/gu00PtajEroLPrScUI312v/T/2XujofPvTOvrGvv6zN2vHfOtv2O28nMPQmOFdgKCs2zpjrpZli/37qBtu2nXLF9NqXzfDKTi7DXJVThakEAwa8mvRMAhL/dYYNgAf+D2hBgnvmLMNKSoiCw3DGDZ3qd0UoEHJFUsg8YL9Z78kx9cLRJlFi5cyE3O9bO6nPSzjXVQcjoS6Kuf+jORG1inRJepKdJ6WRWO2rCLnp4TuCczMAmJ97BdIVFf+sEb6nQPRFahVBNc8d8Cb8CtQS9/q+TKVXzpEJ5hcaJEVcZnIT00shzqLFCQPTRca1ZueNRJHSagzWbdj5XEayfaes9zevev4r9JMgWVdqPrl4oOjzR4QqQk4DacXqOLl+OP6484W8qMtOcer19qEvC9iOM8IMhiAQr+LlI5XCbJ4TQz/zMz1z3gurc+kqE1cOBQXEeEoRQo67P+7zPu767A680zX+iOQGT/vFLoBEWlTgbtVwNoWArKnEw3C+pE9NcFDrocV400Am23jrTT6jJ308+mhPyOtWzwqaMXmFT8/Cu7n1+kVeftW2s45+ywnlNt/7XsS8j14zxec8J+LvfTn6d07jV9LOOCtiO4yas2uetq4LZIr3VvNl23gmA/e30vSjO9q6vrGNddOs1pzYtcpQ2ag4XmS2i7jiu4HSunxNip7E4oa0794G/nawchAk+MoQVCAleRpggsHh3DbS5YSAsrtM/ppDEwsO3xj38z6YQ/Ef0FDkh0jMFiv88FauJ6owjdZkicskiKqTx2rM9MsuB8ECDleJep+O2uVQiCgmSQXAh/K5tpEgom0TZcvqt199prC31CVXz+IwT06zZu+ZuUUmZftu0/qjt13PmzLar9fUaUfLp95Mp0zataXxCNotMt73LTNuHNYEWcemygCkaRbfNMkbHsW2otfDcdRVqy7x91okeFbLWu0u2Gq2v8BKtGjXveJwQ+N14Ogadx5Zee+Ibx3TH6q7Im/q8EDBuauEOv65EIUcMkxHTk/8MhDCf3KvVBsLjGgQhJqX7o+E3owh2dE+5lZVCjucZHHCroQegmwPLS8R1QhwS+mqznVwnVvTjRHbHCydyHcsnRr4rZUKfdzdxrXtRWAXAnfA5/b4T3jacBMdzgqGCrObiSditeb9H+Dnua8puG9YMXgZY5FCm33FpfxY5npDBmtN+5nf3AlMonJCTfVxUI5OK7tr3FWpFh+1DBZHX7Vh0Htek9t5tq0wp/S8NnYIrnZsd3zsXxP62SbW9xrk89cEifxONZOvtX/zFX3xaoN4dWdy8k99BWZqkFASZ65OZFwAOwgw/nH51zUdkkmPTk59oQw/oKcjStH8g49dN9DyGfh35Mk6dtbXBFyFVGPZ74e8Kj5OP6TTpWzoZy2gnQdI+bVv32ad7FhltO0/oqKXMsmhtTZltz8kEWQHVfi0j32nqFYZ7vXXqO91t2k/Ir0LIa0+IvO2zPyL4ui2W+U4I8oRsTqZY3zsnJ1RdNN7xrjnd+a9gKABoqUtHEFG0v23dMVthvN9fHgXyHFrf71tvr8HC8uQlN4hQaYDIuAZh5zIkzUzeiVByPf9zj6tp3GFD1NoNTM1I0Jy1jSbaGozUh3+BMRpJJS5FoJik1m2T/VzNvwSqdmxKhYPa7W9OgqGTWMFnZ0tcZYBFImseljCWwdf31Oe3jdu+O8FzKjXrLArfCvo1vfy9AqradtFxGeLE7B3DBjFODH8yibkHIlT5uRNJTanTGO9Yn8bM56llexZsUU7HYM1i27Hm8D6jCvCkJDpvBseaAmMpOnjOMmgajShjE4VFGI7TIkfnpfmW27edw5cPmztadmxat30/FTdcAKkh0Mx24HeQlnlhJtLzGTmCL+29733v036D5qZ6JinoDVSG2ekYqNBM5O9GoBSFpW6ypx1nfvRHf/T6wwNkPeTTFA1sZSGhUF6oaR6IsLKavsuUdo91B20RVYnkNFE1M1Z4nVBYw+0nNPYcc/WZa36XMRbqb92LopZg7oRi698+VIic+lQkc1ppsErl1O6OvePIO3TifG+d3t+59TfN4s65Qknk529eo9nodYs+q1i2L9LrjveimjWbTya5da0JV0VUJeHLOh3DUxKzvzVo0PZVWbS+8kk3YHglyOUEFjoeKzA7XqVt6Qg50CV8XK85iBmIIx+fvFtnMXell0a8VV4Kc67jGW4X5pmfmp/lu/pZ9f0/rTwQ6unQK/GoWXS8eeoO0Q6kqpsvit4Mo/IbEJHO2ZlCSIlImNhBfRHzd3IrBAuRTybaMtjJLFmmWDNp7y3DndpbBljCbP0l3LblJNxPJj1lc6XaXlFzfaNVJLu3WMesDKyp0DlbZj797vP6/8k3WPSxc7tt6hyfzNE1nzreJwG2CqivtnnHz3taR3/jug0QdDwcyyLSzuVzCq+fO24flcTstuVUR2mstFwz23Zo+omwdsmhY49g4/nyO8LObYAUdsgbBZOoSwTYsff4QhWq8qqIUmF2tal7aJWAuvNmr3HAegryCjrsab5jqgIj6Rjff/Inf/JIAHcm52kiVvtvWYL3ORUEd2ZZ619ktALxJDRPPiWF8O6rdfJ3FPo/R4wn07R1doVE29ox87eOS7X8aUxlzhVgdQ1sHzqXHf+Tadp7So+2yX6tUlszs4JoTfkqvp3rCqE72mibKqQqnNou6+qJVh2D1rnJyqd2PZfa88rj5p37u6WrTzrfratKYfMFpWOd916vZWednuKkb8vzBQA4mvqMFf40o6YWUVdNfbeDVwAq1KQdLcVrLee73/3uj9Bc+jK0YTfqybtJtt1Kx3fqMPnNSfQ4eM8IcPCWqDrAS1yrWRfZlABKfPv7EkKZrH6gtmW1/mrn1rU+JZ8vQZVp2747YbKoWYFxIkh/W8FxUhzVbu3TCXXUP6d/a03+Pqd9WUWywrfj07HuZod7fQXS3l+BdRqXorre0/E+CVaFhX3YoMD2tWNsvVWA+8zOQ8fC+te9sOb3zvHrw1ObA1lUpn9bH1V3prFtCjiFNzzts9zbzPM3GCdX/iDEqBPUJlLlOvLQFFTKHOrkGlYA8LuCUUWgoKNuvitj+C6CfPiar/majzgmzDVSdq4n8zQZ1slppKPHkfnq1kHauy0nBLLIaH87mYgl7iXmZZwy6ekZW+j3Or3vEOIKihU+J+RVYl+hs6ZKiXSJt+2SICvUen1/W9+WhLvm+KK8FYSrJNr3HduasrZ70dMK7CKWop+OwQrMNR1XEPvZyOoKM03DRUZFYKdx6TMqGHqNJlQF516387/KYtv06qDnBQj9r2X9dBsws62aix6+bN9x/JOqgXAhaOBzmkeIi4rv+MeamtNTzlxkzkoErDutQJ5tMEoZ424/7fMDSwxW2juR+r3c2RVhZ0Ign3nxu+cncp2RC5lXc5SG+H4SIGuzr/atKbMTuoS+jNH7m3qyaKRlUdedsLu7p0RWbdlSP0BNqhVO1tN+r8bdsszTvnS8q6G9Tk3Y9XcyWttwQmctttnF/2s6tQ/23zHodad8tn6/U2D7X03F0sWa+DWVW070ov/mOYHR/f3sl30z8bx0XyS0aLO0cZqDl0cB+b9tPCkvn2d9PlvB4bP8HQQFfWhx+UzPWeW7aWDmn+kzoyAv+IxgE4m5ppu2KPgUjDzfbbqVS6K2KpxLoP3Lf/kvr4ZQKQ8XZSn9DInyQCSlnRZ+OzHdg8xJNdxKiJdEOqOeJyI7CYGdrDVpLOvPWAK0zravhN3nL/pbQlnn+0L9PvMOBW47iqY6LhWGrVPm37oX/RVl2PZTH40YWX8Pq7hDaTs+O58vKisYV7ntPC4CL4qqEFol0D7ss7ZvnTPnqeev+lvbuXRTtCbNmcl+opXSgUV6KNPW5dA+qGR8/83HxNYy/52A9fPW6/eOKX1485vffC1zIkUDUxIERVs9Tg7A4qElIDb+I0uC5ZXSFXUjZ9g7jWvxq1OPBxWZukGd7qWmggVAUY8ZFgICrhExPiAlgXc0XKe+66iKBiR6oxdKawfQSeDB7hPO/zyc/xSAJwR2itCVUfu9mnN9WS9imi1FSCdT7dSWFS4vKhLJidHajkL+k2+s/9ke4banOkl8q9Er2O4QoG1d06//7XUnhVG04e8nYd8tc4ogFy1V+JTZ+pze3+8r/LbOHYe9pvS6Pq5VXBVOi/6KDHtP3xc9+15XhylTpkTtOLwck7O+bwGKKKt7zJ3GfM110RrICr527abZDSA29jvjO+gKgceaT5EY14vS/I362PUWIcXqA84roV2CIOrpDhwud+rJaJ6X0RPLHv7W3/pb1w3u4e26qfoSqNj1W7z3LEcXnPuO5AaNeTiCaRxci6D7nM/5nI/Y9/3kiL9LzehklwhrtpzQm5EVS9HeyXyrebh1neovQZ4Qy5rDqzFLmIsyVrD4rCKLNY9OkVLrbXtPZrvXO253TO9vKxQXJd4J0ArFClrNjqKT7fupnIRSv5/QcgXgjkMFe/2Kiwo7xytc1qR3bqjLzUzr7lma0OVTRELRTKwVVQH2yguWA+58rbJoG1rc+YJ7NDcVugpK2gv/W/SRgcjcF41dONimG8HHMZQuo2K8kEG6rPSxdXmV29r3fAGXb15t4EIEDRKQzF8qdE98J9XBRGgBCV1P5UGf7mfkQ7qolOsRcmQK05kVCsuwhbvPmXG9dh3WJ2HUZ24bVgBte5zEhrtLLCcm8fOJsJbZdLYW+q/g8PndXfeUvNlnLIKt2WK9fK67wGua7Lptbxv3f8d1zbsVwItINzWoSs9rpK1TQnNTJu4SYxUw/a+fa5LXj2V0bpGfpblRaz57XU8KK414MK95ggpArzeQ5qHa5gGeBPvr075+Pwlh/9s5O93vHHT+vad+UnjeoyUda+WDh11jSmIBmtOmuehic091QhbhR/NIR59ZReG2ZCblPgAVT+ZdtQb/GfGksbW/DfEadnXpg6kaHETKPknAS6Dl5sDUP1Dt2HJnfr3R32tavuj69aedEJJlkcxJkPp9EaafT+blak1/k3G6W0nRzeaF1YyuybOoac9uqFDrtb2mdZ5MqUVe/c3PJ2aSztT8VQgrJCuY75ReN4S0/s6J41Zm8VU/sO2sz0phpwDydxW6vkivc/cQn99MAKN++JVgelCHOZ6mP60wclyeK68dEsxXQe0c+vsi1zva3HsoTaz1ZPW6pBRS1Oe6TmmVaxF69N0cNd8NPvaMEBN2r+PxauKdBJvvTugyixOIpGwkQzgtJMakXcRycpLeCakigpPv541Mbstz/q9TP0+Tvs+3iLhO95QoVyDcIUbv47O7nu7zFQDW+Zxv0d/X9O59NfWX6Ncka79sf32RCo07xdHnN1u9c9B+FGHXzeD1TTsR6ShUbIcCxvc9q1UTssJ2lZ1m3wbQYD4VO+hEBOKxay4vNB3BzAAFXrPuK2g3F+2Ewiw77yeUbWkfe2/pcxWLwnvBSK/fOjWhn05oehyzbl3WhH0Fnwi5S6fqljCp9jr3s1GQU6OKBHpNl2w0A3l9I9r/3XJ3M6Ir1VfbL2OWuE8m3+9FSLWsGbzXr5CpcF4TtibR+jQqcNrXFX5LgEVSFTS7Rc6avyez22vq89kTyzu2TbTUFFTwVDA+pyR2eVUZtXMk4XuN76sYKiBPiMPxcrPB+uO8XrQgLXtothpfweMqGJNHdUZ7j8+1T1zrbwpXd68xiAMK0WetINsk4gq0KsAdm+XZ1w/BiZNw6pi1LCLf+0uDTeXZuk4AoEhZt1SBj7zD/7iqfJ6yRbCgpUhAU5/dVY8HGuwg6byszeyDSmAN71tkVuvmc5fM3HVyoezC3tMk7L2nui0rMLes2bLMts8+OXT3us2rsg3rh7szSSWm1u29ogn7Jsy/ExLW57U+YxF6hY7jzzVqUAVBNx2w3n4vE3SO+sxFeRX01fxtowR+Mkf5T62vWdOdTXWF0H5TkRRcNefLWNSrv0ffDQwFquo29O7Syn8Uczh5NveZ4W4Op+3tKpu7ROqTf+5EPydh199anNuTAHwjlkVR0ilXcJX8Ps9rKCKt8pQRXevBtw+9u1ZVZcJ/zOWVB7fa2PeiNUt9NNWwJaYdgJqJZZATytqyUv85pm+7d+DvBvFOYN2V3rfXq7Xqo6mZI7P01KmOYdFRo2kSS+vtHFQJFEkXGe5pXCUaFU830VM4dbWIL3dBUOFxvX6eIjnb0Gx4Gbftt30V8N35teak2ywjkHyWYyJi7Hjq20V46PKgrZ7krU+S+6iT+xRUXGveJe8II/fuMoXJLabxe5FmoFDkd7e3cd59lmMCAy5dnlwpJ8Gy9P+ckn75DUY7T7zZ+5Zf/Wx/NOPbnuf8uxXcpZd1L0gLriaQBryecTTB/1I47dCWFXYNXS98PZmKHaAul1rN8aJJ6QAuxD6122vvtNcbEV7VKhU26wg9QX2IH0LvIl61TQ+ULQLRYapQYtJEQRuu93O1ek0Wytbt986j81JTouix41ShrN/J36QTnbi2WVNKVMN1PbW+kXRNDpm/c6WJ6xmO/m9/RVUGpmyvtAqxY5ZA+Aptk7x9huiTukECVdSuW2zUETRAX6n3p3/6p6979PnAZDi1KSiAblRo/6s0ysQn5bwm9em3NyrYLH3ec3x097x+ruLqnK5vjnJCcmt5nFCedKF/Unrgf+bVe65j7LyggoKy4fEKlDamjL6Of98Xva1pdkJQPrOMJmHtBCwUfk6oPVdOgYr2v30pEfm7TmCTECXi9rFmRs1wEYXE3nVqfUaZtfeqRDr2J2K3T3tad01Nf2+bNTd1cjvmbj/ljscwNJv5MRYUBZx+VE031+UpJF1TXH+XwoY6ebk4WXPPNvCZ54CWdCQr8CmaeP7uWJfWzXuy71VkvBCCPIN2EIVUgHfNofe4JlqBWLoy6LBjvfS8tHuHok7zvWXvO1lId23ZOno/pb7JKs6Ch7brzoe96PwkZ5wHI53MgzzGvDzIHJvHc9IQZe7+fnLUt0E+w5eEpTklepGQ1y9nW2QoighmTY9Fj2uCrnbZJFcHe1MWTgS0CBbGw/RQi2ykc9HhScv2+wpQzc4mUFbod+J3Hk8Ms5GqEv3JAb3C3LYo5PAVYdqBVt73vvddBMZvJpK6PtRdb11sXLOswSZ+Z9kM12HGMa4ISYQl9fKbPjPudWtoi8KxJgrt1vxraX6fpg3FFCQVBt8Rmgo0mcrxAJnbhtLx+p5P9Nm52fc7hHSipedKlfOpnBTilro77u478eBdW06m9l7X5PeiQOaDQ4YRcuzgcZ2cbt5PGVw01OUp65OqRF4f2TZYE6R5PMJV76sDsQK2qSEQC8Smj6ROXglPIdntXk5opr+d0GQjaQuHVws5dvTRRMJFPIvSdvKqLGQGx+k0D9ZX4bdo+I6Iqi2vcHfQinUsUrOP67+zmKqAIMM0xBxD6GB+kYeoSSdiNW1CFKbJqP+KcYQ+ySpHUHI9wpI6WFqjn0oh4uoUhZBHn7kxAnTD/SIxzST7odmv4NVcrI/RTHZONkKw6uznWumgfsjyiU7sDZ48x8z9/USvd0Lv5UFjtuu5Z9zRy4vad0KOK+xO/vW7uk5l0Zr1maD7cz/3c7/rdmg2+Ely+/+d36kh+xN6q3BxUtVsEreNo2E1p4q+yjw6eXkB95HQmhwQGcsyYCqeJWIRFdoeB7kC4GQqnwazg7om8cnxv0S3gn+R6LbB+hVqdbau+eF1VTAt/s/vplI4Hgr6RhB7X/tzQhFeZ1Y7AolN/AitI3CYG3dV8DrnYxUMbQP5sCD6rW9961UPc41A0vTUX8c7gobneBRa/VPuEuNvCpYevCEd03eRP+9F7KBCfqMd7CMIEyHYThFr+aE+s6WHN4KqqsTuIuOltZdvUiWe+7//neZzaex033PXnGTHgp7nyioA7uE315yjuMxrO0Y5Lc3qr3RvSkc7b+P7kmDUuE0ctJ6akTr5zDNxsPzM/3SAzqD10dp0BkJHU4MM+Awq4JgsrjV3yIGQiT0IpnlxK1Q2SrjCqESmGey1TbDdyd/xvhOmzTOroCmRnFZfnOoqke7cNpraIIKlvpETOlhio92gKwgOQYNAwnnOQmVNNOfUdBOFG8IQGmDBsoiN9jKnzLtCynkRgaHIQE/mfPmuMrXPmrduoKDAoy6XALrVlXNgZBJk+Lmf+7mXSQ2tFRBYinZPAZY7JNWyvNhnvAiVvX5jNp4U3Ikme32jkCc6vkONL/p9+30yPU+l9apwnMtrx9pKv80TW6lthdVqXrON0Wxsxnhzn7zG7bwVft35cv0cbVe1KYSuSSpq4wUjIdAgdNePdW9zncYKNp3S2++i1/bf0gk32mb7anasoOyYnjRnYfp+XqJ9LsevRQJoG0V09XE2UtU58/nLsK1/I48oHt7f//73X2iaaxAaLg2qwtRsRCktLVH63uUvtMeTtrvVj4jZ6Ke0KqNKZyhQlZ15Ys5nx4i2qZg1aYvwqvgU0Hdz+iIzcgNBve/kVnj94CJ4ru7nfve/BS53bez7qex/JzBkuaOprc+DhwUT8P6Dwmbt61Zysn+7/o9Sn5ih+goCJ7zRjDrzaxoidNDioqcyVuuo/07hiBZVU+NQdnE85g7mgc81Aily5Hk4e7kP86WorQze/Kud1AYdHAdNXa9ZwfCcVrJfKxA7pqv5T4RuPZucWcGk415m3+DIzlPrXoJefyp1a5qBbHh5wKx1OR8KDV7tFy99ffra+jz9X15rNr/RVD6Lwor6KVxj3/m9i8OrfM1d07xpRK5tuUNd0s/+1vf+fod4+syT0rU858c6CbY7Yfci4XsSdC8yI/vMO+VoOaFcf3MTSNd+Xgitk+uFK8Rk6iKBMkhzpKpxlZ5NpWjhXn0dXXTtPatp6nBd1Nc200FQAMIMVICDGgQGWjC8znecuTwLocb17gcHQuC/mmCUjcB2QjWfmj5Sn9Pm4KxQutO6JTYRw07yEnbnTlPVfLAlqiIL+1o/5va1USZfG54/9RUTlLpx8rOxHxsXoES6fIbxZx5ATJp0DRah5DQR9U9tn3QplFEUVCdTXVrrsq6a4dYBAtR1sQrsBARO89cxKW3f/X9CyN534lHKSfh1rvx+h6yeQ3je2982kOhnyhsxI/9firRq+oYI/MGtbbfDp8YowLrkwE5ttndNifoUTozR/7pd80J50YH3lamKHEoIoDUEGGjNvZjw48A0XoPmhXncMlhhCAHzu/lEbX8HtsUUhLahsH1XW1iKlmrOLwKSaCrgTv3e0jYsIa9/zDE/ad4i9Ja2qYpGmlBAuo/Wu971rsunRmGsnVNP5AZRi9JdC+xcYVrwfN0GIGqFkusxKSI+lZKJuwYIipakWcfJdyPzPcy2gaH28VQ61iu87ky0O0HX77Ua7lDZqZyQXMs+91TfCSmt8F330nPo7yRQ2547AW1f9F1f6F0/RgVSCVpi57O+ppp5i8r2VZ/Cmo5+9/Nq99bbgarpUOJaZziF6yF8NpIDecFE+HK4xu2CGwUF0YEAYDIQBS/QmiZQhcypX0WcncgipSK6jkV/63t/rzCvMHuRJiwDLMyvtm+/TsRm6eL0E+pe89TPXIuwgpaIFOr4VwhxjfvxaUJqDvOuH5T79Z9SDCQh7PjNdpmwa0oPv5n7ZjCiysH2q5BdGVBFsv19oyjkZKadzMYX1VGBt7T48huInG45CcUTsFkXR8djaWHp+blnL4o9CbStR9nS/EF8mg8QwE6IZo1mSpMLG50sUzR6Wd+Y74siZKL6phSSTtJqQH/TJ1VhtxC3WpPfdE7DGD/1Uz91CTYInZ00V6DyOwEFhDfMIZw1O11hUoFdM7DX2LdFQHcE1OvuTBOfdyKyu7KEeGLQRWNLE6fPZajW4X+7RtV2oGB4zjvf+c7rtCB8aj0hDAGl0DLR9YpiZYdWo1x+p363eaYOCJz/vU+/l+PXNaq223H12Q1q7Ty1lK53zu7mZ+ngbu7vSlF/gcfrN6sFfMbJwrizQE6oa5UtxRSg8uQ+8yS416p4Dpnu8+y7vszLXUB2rY3VCa9p6YaOwn0qwySTgGROhVjNCwejA1xJrPA6MaQoR7NmhVbNz/6+g6VAqf8OVMaGk6ADGIm2MgbN3bIo7EEFnrHgNsTrHC/6UvM3x261UE3JFxHtiSFO5ulzJqelTmsZewXbztUy3qLm/tflciL/RZSaCQgxaA4fJwm4uAI22MS1XRtqFBOhVXMQJWdgwTa6BVD73aCU7d1gAG0zj7EKacdxabtR4s7TKudFaHutY1jk/iJaf6Mo8ZXDpowtd4iqbWgbS4f2q+6U/b9jsL+v4j4JO2mIuUHp4W7okrgHkRUV84cV1flNJR5W0A51rdydL2W/dwlDO6wj2mv8be/fybDTJ2HX30pECOXP/uzPvr7DTIwBzLRtUrt7r2F6fTgrpLy35qFjdWdilFC2X6drStjrd3sjAm2fv8qn87bMZp/2GSXuJfIuZVoUh6BCqHkqGPTHGHuN2/R0DJtDViTs8qs98chDNdyb36RZBYY0pvA18bZ7k52Ql89YJbhJyf2+5tlaMBWMBQkn9LSI/7l5fz333Pn9yi+d80XmXtf/TnR3J3i3/v7fvi4PbHSYsQGNowi7vO2BH2xAB0doD5G5xKjaRwhPkbkb/bJRd8s8OnHLCDsJp8FVs3ZC9hmFwCvpEWpE2SByhJoJlVskNvw63Ec01ChoNVYFFr+LNFQOMmWJoOhnGWOZZselwr/MuWO+9fXzaskyVMv66tZHaN+KUvfZnb8yK0KN1QAgZoRat2ammADtd1eEiLxsE4KrW3fr++r6VzS4pqzjZ+qOEVOjmHcM6JwUbdRFY/86V3do1t9Oa53rltkAzSqHfn/9cGzhBmhKTwUUbfP+b9nk7r2//drPi/ZP9L7P7PMECCqw7mCjAntwLZTEIvHy8ugp10sWObVDTorvp4HrAInSqjGKDBtpuisVHB2wlgYn+pvtRICB1PDjkBuFKepOEit0KSCzFWp3/TXrfuF5+9QJXo29E10Ntn6rFRQ+f8frVNcymaiqdVdgLuG33at0Svjdc79jQ0G5sKoDFwBjzNj6bFcKeJg1hehnE3cVKAolX/XHmbvmsjSEnSkgvJh36r0rqzAVyDu/S/Or9Doujld9zpq9jleR2wqXOxDwylgmq9DXpD+VvaZC6CT0ViEvTZ2sjrvSsarS9vmCLU9w53+UIfz40C1PvMltXgixuyh3S9HahsBrNm5Dl1HWnHSS77R8P0vQi2Ksv9rT0i1r+I+IG4zyEz/xE1f0k2P2muJQ84t3BpHPbo3jOQonzegkVyiWMerX8be+d3zuzFqf0WcrkDY5eOtufSc/2Zo1ddr7bH2uq1x2Dkx0dTy6txoF3ybzgHCBJmVolan9gXCpg+vpa5OWS39runmdfajZ6kqCVbCtr0rkTrh3PItcVxht3R3v+gAdp6K1kxnYek6l81Wz0XJnLlZInwTq3ntX/wnZrjI+meKUtRhE1bzjz3Ye8KVdistKZXCieobAye4WzjnAPrDwr8WOr2ZY2N0OicaqYSqklvlOpQKinbfuDtymT7A+D8FECoHO6dNzHFx3P4UJepqP6KaIqQzv4HfP/Oc0VcfC95OJYT01r2xPfWQKnTV9rUsXQse+c7j5f/627TmtALHt3bnC5GbXbxKFhkivfa0eHp6CUbTBrYM8UITv3ZFlkUPTjFR81mVbjd7flWXAmta9pmO5+VeLvkuHp/99Rk3N+nE732sav5Z5kv4qfBfZV0C33PH10ss+92RltL9rbq7pu8itCkF5YhBIvyigy6T4S5l3kpl8lx1BaGhVYX61Xm3yRRF2WJR2Sui8Y+TWVT/ECsGTgDsJNNtt9rcMXuKkDzAQ/jSYiR0UGJwS+hKnBzg4iN2a2b3QTuhK4qzGO/kOKuy9dvdWW1N6mbk+LcdBU6Y+mVUAbdsigRXYIp2i4BUAtl0kZPqFm4qaGmHGdw/g1UfC+LoAnbxATxgT9RVFlIErjO1nI+f8d/KZrRIQ9W6/Om7lkaXNkyVSHuhc+kzH1LWmjf6eBFrp+SFWi0GSkzJqXeWzKp0FA/JTx33727rX+rO/S7ddUliabd1eK0Lz2D9dCleKT1M0gPPapx7fXgawM53IFS7PCaqTDb2SutplzaZTOWmZagfrl2FWqDmADAy7KPzoj/7olYOGo3qhdwfVNAIYDOY0aND1hAqABjAkVpnPMVjCWq19EuwnQlqUUOFTVLqCzNI+n1Z/+CpzSBenFRKOR7efNhXITH+vsW2ulUQ5mErU07RpE7TK/xBxmaB5kv29PsNq/LtxLvMoXBYBLc0urZzmaJFPeWr9ac2dK19YX4Wgbf6dbIbgvfUzrqL1OvuhReGxcLbPHUu8r4KuZZXzKhTb2LbbNsHSKbjkmNIfEJl5otCQ26lTrpUCDoLJiXx2j6HNBWs5+br6305mCaXMZqd9lpvvqbl2e58y5Qm2ngbNZ3ddaYWEibcMlJsS6idbU897RAqeIs91vNu3Et0dOhXBri+iWrW/ndrRvqwfo+sU6zRf5raNNQ8lXP/vnG5EbjW3hOnOKWVOAyoGo4okezJ4mdkIJdcixFjGxlzhLqgJaMKsqMayY2d7NinVObPvZcyl35aTgj7xQHPamofpqwEZwUT9ouWB8qbj/FFJpaqArmUg2tcvWsXRw12wWLoxputnDa40cNGdg23TKtp+Lu2uD2+FWkEE7YHH8HcX9Qt+HtxBoPBfSKepVp9KtVsHrWVN0TWlah46qBJR87s6iSefjt8L5/vs044Zfq6msx30H2TmEfRqf+upQLT/XaajdmuaRhnp5KvYSe/1OoXVXtSP/05BYD+do56tucmlhrn1WckoJkk7fs57NWfHzecWCbRoonmPu9I2wVVUJhMtynfniyI3/Wf8DlGjdEBp+FBq4lfw75F+jpWmlPPaeVhlU9qpMDtZG+UTrzvVW/7pXGlJnP7rVlc+wx2Cvf63HrdBKh0qfEx9qQJV8FPcEt0kcq0O/Oju/osSQbFgvfFdlwDXsVYavpGv3UF6Ub7jdKcQLAUkpT1lBX3kGbaBtl++Vy669hF6DGt7GEV9Z6eJclCqxeoLWEi/gk+HcLOzlbhus+zgqn1KQGsq6DCszV6HrZ+d7A5WBx0TkhQCNiRkoGAkiU2BIaEaPWP8mGAZuYhBAbtMu6hsi32q74958bi0olMV0jrgEQDu9e8YyMQQPhrYrattq2NR86OKqMRXM/k509f37g1WP9X6tep4L1KUOXkHmZG7Rvvpo22B4LmmBwCXDhWUi4irhNqnNSdPJlXH4TSn6xj3vh3Xtqeugl7rulcRiXsAwkuvZn9BhR/0sikmDcYw986xtOY2924UAG27M+yP/MiPXHmb/oa/HVcNFo11omw8Q1OULnq7s+pKz7W+yqfcDy1rOaLMoGGV/CXQGCDMJjpjA5XemxRbyO7kFD530tq4miZqArUlnUVo9Pix2tNcJyKpo7J+og5Qha8Io0S4UNhn9jcmxzMXgePL6E1ZEc4r/Lrp4HM5eZ3cNSPbr/ZP94DtFfI3+KIpQAFl0iYjmzI8Y+7+b9wP8YlKoQWTUsuga0ZVqZ1M0kV2XqdJeFriVP+i/VHRVZHwAjkQlXbdZtHkiU5k5gZ7lhbuzKQTMnNMTkKs15dR9//Oea2Gug20WETZ8oOIBPpsxPc3H8eWeYTRYfqCjroxRH6lKYqC0j0Fqcdx9Hr2GfT09+6GQju7m427o7jKSOHWCHUB0Y55x86oNPMOb2JNeZ00fCXWeu6g6+H4oxNXQVDEscijxL3aTDisdoXRulauGb91PMu4SmU17zLDCZYv8fW+OolXQKMBIRIP1XURdMdAYaUA1ZcmA67Z6zMkrjqA/b/ooERmO92fzUigBN8zGuonIWLLb6Yu9Ln6PDySjSVIrGmFULnPubJNRsu2vRVsZRqFq8+xP46lzNn+nRAL9ClarAvBczH1xVmfuW0uSO/8ekJ6j+8rM60wO5mZ0lqd+Xdt738n8/yE9qQJ0U77Llrqoc66EhiH3wzdez6H70XH7ZtWizRrGpInaNWKku75DYHiKiLNXE/nckcezyflxTUqTa2NCuLOUxVHx4/n0673vve9Vz1/8k/+yaco8FMc4Md//McvaQpD4hS30SdH5AqwTnQnpo1z4ukkjENHaAAmXZHOohOLx4R9+qd/+tOhCG6vTZEA9PeJpOxkCbbMaFntKaEA1Zk0CEWBX4HQemUmnaZFE+1fzceTZq9ZoODWB2Vf6+j3t86NQr3JtboP2v81gSEutDljDaEwvvioelhy53Xrqu9SBpII3WlWAj5tr1STUM3eE5dkYumTAkrzoBPPjlD58UwtjgpzEd3J7Fk6XBrfttYSOc33SeHfPavBFOlIX6L78bm21cAIn+GjKoRXHum8B0GvteVzDEL4/Prj9Lkp8ORjxpm2ebCyvlDGGcHlhhbcw+8oYf7TIoDGaDPyBvrynNPuYL0yxqLZ6ioB6vbwaXj1AhRcCMPqRzOJT3/YSYh1ok9+hZWyrpOU6Xnv4HXCV8jJxDSelzucMgieA+CEdAcQJ2I1Z5FSfStNO+DlqeVoFSahplb76bMU2hJtc9/ar6KHOp0XBYu86rA/mfxFnGUa51AUZtCD+1z3aCBIEwZk5nbloGgEBhti8pvKoQu321fb3mCSbfREcVGbwvEkVOoDNLomIpWgnT9oijZznUIPoqa9nkvAM1SKHppSWq0gLtLsdWtW12zbsrS//1lHFYToVeXo8Xi1Aijm5BnZk/b1n7bUhJXnigTruxaF8TyXmulTN3hif4zoQzPONQLMjADuYez1fatcdDdBC/ioTcOhL1yD/JFOmm1Reuc/hCb8CKhxZ2Pqpc3XvfzJB7QnqKQmkgPj95NGotQXtGaJ/jERUxFVnaWFwSUmOmr0xJQIfX6YSEhntW6FVZMCl0BXoDnJPfBYnyIDp8PxhKoq8OtEF6koxChuYmjS8hJ9Q94+a03UUxStqPHkbNdMcDdX/lOLumdYI2WgM97ZK+5P/ak/dW2XzTpL7tEE1/FscX4VOlUKClEFwSKeRee2h1fTikyk9R6ZkfbxWfOG+6EbT4AyUbr5So7zIqhTVLdzfSqr5N7IvfbP67QudF8UGVk/dAitF6kucn4lbhDpor5EhUivM89MWuE3jwNc05pxbcJv+dbUDugHP5r+Su5hDuyztC/SZF4wVaExlBGgxeVu0knXb3ZOGSPkwlPwUL+UhwxQYSfhjukqCBaOiw5EUV1vV6RTNLYDR6NFYPpcqM+DTNigEa2LmUxOSveQr9BaJHYiqKIZNRITzPMYZASqwmjH5EXRqvrCTBkQzvvc03g0ZcH2qrn2WSdB6xjSH4S+zllQl9FZXicfCwVBzvhDOJigjA3jrHLR3yrjUVQ4Eh9FBdEI9Ckps/RTR/7u5OI1MiQ0W79Nc+zU2ijtorPnyo7ljvOaiCck9iJhVkVV09U2aoaZRuXaVhSKdMp35kjT2jp+89FUl3e6EqICXFrSUtCa0Qepv9aUiLqfrKt0U2TNs5EjyBQDANJMhXg33vy8z/u8qx+YodIf/ZbvvE6LAUWsVdS8ugc6A6FDjN2qpXZ50U39PE7salx+M4+lcNX7rHMn2utoJB1qcq1ahnsQanQMc8N8lw7s1lkC7zULaYus1PianQiCOpl7b8dmhXvfO4ESQNtR06FtVpv1wBKKjN+UFv933GUEt39SAalp0cRGxrjf+ffsU5eCfdEXfdH1nOYb2dYSrccEdlF1XRi284SaaxJVKcnQ/icj+bw9htDPCDquQaDZr6W5VRqnsi6Vzk9/U6jcIbles3MnEqXQdmmwJrfpKMwH8wPzM7f8b4rThx7Nb/rMHBe5mabRJWgmqmKhmTSrUPUU+kbO3cyCOj0/VYTXA7apwxxNadtNOQEkojxNVKxD98ITtNA/+kAb+J82kjJClBN6XL/tJXgdDJi3OSmdsBNc1vleP5v3UKe5MTqU199ygulOJu2wrkYC9XMpbHg3wmW0Z1M6+uwKtBV8oqcuFfEEIoSr+9JT2qYSeCH6JriqudbsWd/G/lfn+pqV++xqfIp+JRfzSoya46f0F3e8UAtCWD/wAz/w0td//ddfvh0jpu46otIxb1Az0XFan1L9US0nOtP0OSke29wdM6QR5glTWdSuU319WNbhs4pg9v8i6TciCJ8TahQVm4JCRF4aMhUBgQNPIbxc1/pZn/VZT6eWIbiZqz/4mKPVNCijo/ogoQEPnzHVQp4XTTvuFAMKp2wE+ym/cI1zb1TUJYcKPZGd9Vk/zzMVhDrhb8xWrAusJJ5nRoZtpi6Ahme8Xj40pTSNcuIXOXTCyrhOSglQgqOBMowE7UTdEQDX0CE1RZmNdpKp7P5HOruZSLPhGZD6jSibWmDZPjmZXSDN5KMZqFcTtHW1jsLtPmv9NCX2bUMFVf1IugU0V6sJT21R8Os0ZsxgjkaymqelloURICKUEdspGYUCpfEZzckcmEQs4kTwmw7RnSEcf/vb6O6dUNt7JfadN2lQ2nBjhUbtSEWhL+56Wwtjx886fZdOayIV7fe3CrcqiZZaNM6B19oPlX+RFdeawmEggM/MAzSPcCJqiFB7/VHxMV/mrckPzUN0BUz3fzP1h+s9RUt0T9F1VJ43MCAIULiZa0aRpzpemtzSnhFRdy6moFAJTLkEERrjO8jMpF2sBaPY0PgFdni4cHMlbxuwxFbo3KVS1EUjHVAJxPuWaYvSTKDVt+PpS+6ygDYSjjPobMqIsEEb40vjeUDSMvZq9zUT9ntz4egjzzVMzcCemFLTjutxiNLemlsdyxMq9XsVgr81MdgwvuZWr5VB2q/ex3+0DeHgSUn+j6CWMEFhbHp5bZb3qOQYd7QkQQKz9Znn9sedYNfFsGOgUKm/8CQYKC65aQR6x46+9fwHaY72avou7a77oUKqPqbm9fncmjj97YTY1henMDDKrFJRoSo0+E8B49gy9l/4hV94ITSZn+tQMq5t/NCHPnSlN/lczcpuk+TWYNK3QoU2QAckq3If9bosEqGhuajpLuBwbjyc2/HmfxFbfW3eY9/1fZoALlr0rAkzG6gPtIYpDSpjfjW5RZfXrhv7oJb6P+r3KEppHpRSmc7J1NVwJcbVlMJPO8oAonkcHLRKCQ6m5B6CA0hqll/wkmAaBWr7u1d8Ux7sTxGek8yASkBda9poks8w0iPRL8KtIPGzaLcmo0RewWDkVSJS4LV0TJvm4CG/9tFnmhhphNJx5jnmOsFEaP0v+IIvuBQMhHXyWS4aaH/U3hUOJ5pbGmHs23bHVgEAbbjsRobjWjPVFfwny6DKWtpo9K/KvQKxbTwpSIt1VQGaIuFGo84l36EdrRDTJ+j7onOTVK1fv9qvP/pK3dNQX1WfYQAAulZIoJxE3I6rBz0LVkR0nqVqX02O19/mVloCGoGK/FCz1Otpuz5qlxo6Jwg0LS/aBj2YjkO7+B80x3eE8QONpqEnbVSh0El0shvx5AUDmCej30ai7nVLJHx2ORT3kY6B6aNwQBrzv1s1W7iGgaCddEoYbrLlvjoRzTrvHlw6t5sb5GDzvKKx1ml/1DLPlZPGlwF2bDqGMp3McBrHMlf9bS4UFuJrTtKn7tlvpM1xgPD5D3SnP8d0ifZDJ29LI8wrxMvw+7vvClOugUY90s7Qv35O0Alo3ZxBw/hdkF3fsGNpoOXk7+qY2p5TW/1956PXV/HIY/KV7gP6ofnEf3w2cVR3C0pFPzEFuqSvXNfUqM/4jM+46oYn4G+KeaCuUXZtJsKFOvgseAGlS8sKHQWnwtGdT5yX7szBczVPu9SJe0HSurhUnqZx0FaDFxRoT3Rn7pupK/znGmXqgp6RDdf2QQgOJ0kGqJRcM6iTZUOV4hBh1wGW6CtEysBcw31MqsLErZddguHzGj0zqe6tb33rdS0DyWTaHxGBg1I/in1otKlErkZUmxltcqsVGbaaWk1VZl8zvX7FRVindIYyjeNY9OO4Ut8iI/sqMjDxF+Jg7BBSHrZswqTHgumTACFg7jAWXM/nKjKVQPu1vsWTALAv66AvOoN4TU3Qp6nAMMetWfQ/+IM/eN3LNuqaIVUS+g5LA9JpaaG/3fnbTuUULCodChrqV9bsMgjjagpQFvMAPeEfc5G50UPmif6bR0j58COyoo8IoSJ5haRZ+owtv/Nc6VwlYNKtO8Jq/rqSSMHT3DYBDu03GKjZybUeC6j/W4vDOdWVZACDl4E/riV1iPlkZZMKjsAIdSPs9U0+fPEXf/FVqTCugqYMtBMnUZQAday7ncuaHK2rz9LRaaiYgTQ0bRqAIV0mkv/NeWJwmST+N+LpelQjPJYSt0VhvIRuPX7Wl+T6tQol63byNnxf4VYiKIOcNLvX62epL7OmP0WhVke2uXsiGwmV33CwWodrVvm8jl7mBuJRIai1e7yc6GyFU9tz6nPp64QwKeZiaUqa0KnSECl87dd+7bUTBJr68z//85/M6I7tpswULUkLtvtOeK2V0fqX3hRmHZNGuRlj6Z2XCbUKMvkAJIY7xcNhEEIclm0uIb/DIz/7sz/7hGCYU3jDQIJ18YLXQWHwEAqDYuI131Fa/FdgQL8MHqmY3RlHJMVnF6E3wVqFqh9OK8Y9BCnc667EjqPCmz7SN+b0He94x5MrwqM1PSAF19ODWvounWA1bie1L8P1orAS6B2kl4gkPiefd52gTMz3f//3X51Sayn9qdfDMvQJOJhC+fpETsKtRL3+rqY9UGinPpyanRVc69sqExc1NZJmeyqMOm4KtUWDJye7bd2ggUJHbYigQKgxTpj4dcqKfLgWxaDJAdHAEN2Vt2kbO+cnv1Pbe0L+fnZ8UFSmi+jc1uSkqLi+5Eu+5DqNXUZ3zMp8ovv6xzqe/lbLom1qH07/rxBsQmn3f+t6VtpmsMmggJF22kz/TKXhGSp4xxFGh6kZl/e85z2XMAdJmZyr09+ItIfRuAZSPkKQXD6onEdR94tjp2IzUqoLgzZj9vPdoBPXI2QQkrRJs1ZBS73uPIvA9oQ56qsic0y4n7oRYKJO3TCa7w88iJup+CR4Tr4aCbdCobsYnIilQqx+NUp3LuUabWj8O0BYOoBgExnoT5PxmugpQlxk6Of2of2rUFPAlIAYNJ+9WrgoqblyfWavs/4iMtGPQYtetz7MRXb+7uTTPjWzRMTLNakKAbU1zyQ6BkFxPzQBEdZUp07uu/wUWfGwQn3btP1eM7O05X0KehFI/V++K3BpAz402kRfMUNoZ+lJRdNn+oy7dvr97v+ln/ZDBc93UZemlvOtuamAdt70FzFXzA/mpgmxpuEglLhfJe6ay49+DOqIWjQ/RVeMk2006dhACO8gPwSQvlWRVZXtUzRxdj1GkHItW9hDPzwHZMlcfNd3fdf1/nVf93WX6YxFhbwhO+Htb3/7dYwkfb0Q1qNVoDnqqWrSDUpLZVVeM3DygIT31HAH/mQaLkF2YoXz2rEVJCWMNqzRJwbIyaYw2KzPE3F5CpPaAmbzTD6lNZOo/e5yiaLLkwm4SMLPEpAaVGSgH8pEQYoEcRI2lpPJLZK7M8U7ptbX5yhUnS/H3TC5EJ8CYXnGKsRGffznLgXUwe+efAVBUwcM4yJ5x0s/nAfoKIRXcXR8K0R63fqodmzMKm8isKaugp/5B5XRFvyn9FUkJLFTTEHQlJYmTsLpOevipFxWsFF4hm2tv050yrjrNG9woqacuYSlT9cy8p2cLBic37n+53/+56951SwzKIKwMAkXHnGlAHUYXKEtrpvW2W5emoLUjVdr8bjxAWYvy5fMh+NeBNZf/+t//Xr/N//m3zw9n2tpFzzF4USgLmjxXe9610e4hYy8q0xphy4nhZjtox/XWk5t1mXC9SXUdNtJqnnTrOGd6JpQ3qPw6BbNht95ESbWB6QWFoIWbu6K/vUDVqP09wq19bmoKXiGDlOZ0h09K7QoHlqrgF7G2Oz5Fa5bFtWpdBRojosMrpDxf4M0MoqL0tHyELAoq7mE3i9ROQ4GgEyvMeolce+SrlOpsKhQ87UmWyOqMoEMqMlDUQi3T7oFfJa0epfTdjfuJ3O4c965UYiKLrvetQIWwaQ/1hOspAuToE10rrJ1Dl2/Kj3C6B//8R9/1a0gEFHplzNooAK0PhNpEWQqKoSje/wZgOG7/RC5q9BJxLZ/thXlyPN49pd92ZddzwedOb6gOe4Djbo/Wl0wlTvMc/1vRlpFjNLRQ5HRCVJLoI0YrjYusuu9W99G8ZoqUc3JtQykz2mGssTIRLtsCwIwqFEG7YJrtZ9MWxRRoqy5oF1uhI0BdTkU16hFfekY7f5jPncTMZsmc4dUnNBTMKNmrkTseOpj5DNECLx3Pzkm3/SWDYQ02dU+QR8Ge2xzNaLOa+ex7Wz6yppvW0o7tkdzinab8CwDKdS5z0XM/C4qFfXoLqg/6I5GZcRt7/o09779rcEKEb//te30TTqvsKOdXTqocJJO7BfKHoTaw0leT7urPAECWjLyjbyFQGsWQNdGd/UMn/XXqRi6gL2bdsof0BptdM0o99snUKpBBNNSQJw7F8oHTXLHQ5qw3df5uNVYTnijag5SHaY+zN8cuNqyJ/9Es69ttBpEouO9pp3IqEVJ7QGjnvqiAJL5muLR6ONdeL1oze8yq8X7gc0ItxPCMzq0peZvn7lMofAvQdbvU6FcJrCuLo9i/PSLGNlifNDwFMZOpmp7dhWBSZpqRIUy9Wsamm/kWO+yuKWhJtbK6DVnaKd5TiqFWgbSAv+78aDKpHPveJgbeepnBelzgrfz6LXtG/UoVJuU2pQWhZxLfhy3LsA356rCSUVFf0E1+sk0E18L+OA5Btu4z4OaNU/dupu6isCpR1eDbhaEjohTgVcBfFp37Nw4Xt0qnUId7oJCAFAwYJ3SmksoRbkG5hTO+vMUuNfdNSNPjlCFV9GEUUmvUYiI5ArrF+Y3wuNhHd2Aj+uQ3tWsazoAXemQWeQVKh3U9qNZ/kugEmTb6UAKcd1wUA2s4LHPMrnmz7ajY9dS7f+cObqBgPpWKJqDMop5RLSb8dIngoBzXzTHXLQJsUjAro4wMGK/zFEyAmyAwGja+lBte5WmY3MS3I45QrIpI/Xl2V/uwQcjQt6xlcH9LC20nkVljuvS0IuKdLQbGTgW3fpbBu3OE21z31UOJkarkHXFwD8yPkWFor9Ms9acN+kQQajQ5OWOHR6eo8nOWKi0/K3b+rTf8nUjoPbNfFJRFvWKtuD3rt/WXNaFwvNNwMVd4mYatFX6u0CTDu4KtWoqHbR+t4OddCdL04+yQqHLYiQ8oy9GeBoxM5+mz6BQT7dA0STymRJBFyn73AqTQvSTzd66HAfvcZdNB1ukKZLRVKpGstSsW8Vx50c7maidI80Xx7HC15w9tSXjQpoG865QNl/NNZqgnfpVnStTD0TC9g9Cg8DV7M6vEUpK50UELy35LPtnfpYmTXfLUOE479QPgeu32rFc9LQIvO/9fZXFaU5qXklDTbre5xRhdy2jfRRpiIYoKhOX9BnRdwmc468ye/nxWYxfT1uSz3Tf+Ez3P6ROXBNFX/JXXR/myzkHWzr2Ci37Zt6ZwofPbjOGknVNuWPGPaJEo8UGEV325jIxvl+Kodn79Y31uw1VuDTXzIl07aaD0UGo0FQiS8gSf9FcEZfPt01usyyjKGia91WGb72nwe+1EmKJvqVRMrWZk+OOD0ZhTv6Y9VXtNWv2nJivY95+KCQcHwMnaDDPL5QQ3X/feeE3vut3cww6lo6vDlgFi0zi0iqjZhJmEb7ozOU8CqT6AV0l4pbw9T0abRYZq7VLXx0T5339ZYt8T8pkEWaL/53cBaZKNAHVUneHgqLoX5PPRFn9S8639NYIt4LMcfrg45bXomhTO3o0pcLfdA8jyd7jDjyOKX3CZ+08CSg8E1Xw4PZjRZbdxkjzVv5XqKOQTLXRbO2aUPLjsDB4DmlDLsMTuStkac9DmVpt34jgiemqTR1YIzYKNBml9m19Q2oqmcyO+NrlISJIPhPqrQnabWtsZxFAhYp9LQJb31ZRqIzmfWo8/YU9uUo/gIJ667ZNi9JOgsvnWkcRh8rA64uI7Hudpd3Pn40xTdNohjzfTfUQZTeSKgJsoMXvIlbn1lfNEcdbJOuY1o3hXKs0XdZTAWudtntTdE7+yVVOvWaR+h0i65iefhedbQa8zxNl2j/QiOiD300Tot+kJSHUjCab2lFTTQHoFkBGJF99RIZaCI6zK2sorrkUBSlQXQYnrXQuBSPk+fEZ/53zJC9IbwhAV+1QGlBo+oxuDeeUNqOAdWfJL/rUpUF8wS6Uh0bq5rpMzmbVy7Rl5AqZMtEyYhmvzv8Sivf430Y3JUw1ff0sDIg2c6OqPWuxz1vz+UTcElyDBtvmEq/XGwG0PzWvGrq2nqKdRb5b7kydOo19jo5ita4mYefO7H/X4gHv1ycisfmc+mMkWFMkasJVyVXYUZy39rFCur4iBb3mpoLPBFoVYiPi+tVEoxtd7rx13Hc50h0ivysVYqUzxqdHDLbPdatoajEfzoPt1SQz+FJzm5d5Xz3o5omZHx6eVge4qQBj4rZRCsMuNuca/amUmu2iYF0N9tUdPRQ2omrqQdjYft+dMwW+4+A6bfNQ3ZVWK6LuDX4DlbmjCM9xEb0+vYsuOqlluk7WaqYKiv4mkXWSi+Se05JFKjqYrde0Ce3xBiQoNW98b37UmhKntqy5UqFSAWwb6wdcYdK+N81ln1WBsGNh3+u3VLt17IvMHAsJ380wEVZGDD2BSwI0UVM/lqaQPhKViwLrhHjXLVEFeEon6HjWNLQuD7aFBpx3lQj/6/+rH8qAQedYpixNOn9F753Xtqm/nRRd3RUynlHh0pK+QBWvO1KYr+iKF9vnzr9er3BQuBipNn1G5v+/j3OpmdizCYy8ducLfWua8kYR3TSVXLSiL1efSGOizObc0TbNRYrBDJVII7e2gfl2/zXzIxHCzp9RWhUX5icIUUTaQ44fGhCoMJChOoFeW9OsiKt+ojJqUV4n2rrLoEY33LDPumXOracBg9NzG4zodetTax9OQs86ZQTGQgLzYOKtp8zs/XW217RdxLYKRMJ2HqzL8aoSUsBrKhqh1Bw2WmQqh2ePUkxu1IzXdBH93I1PFV8jjUtbOx7tq+iG+93jjOK20fpLVBS0XVRXX3BLFdDSwI5z57q0fSf4Src9pGXHqdFNFRDXu3WXwrguDrcSOm3Do2B3ft3V9dVXX70EZSOZJpprctbt0eVW0omCilUXbuyowHDrbn17BpF4N2/OZOv6yTSPaRvtQqGCtrAUyI90rFz1QxoHZrf+SAWmlhBtMBWJlSGa5ddYOXGiGSffibubcAe/kLf/K6jqG2vm9qITtzEiP4rO6izEGSmDrUlTJi5BWArxS7xFFycBvNf5aoRUdODEqslMXi0yq1lWX1iVQMe719fnqBnWaFbRcNspE6mN9dtRl+s7WdvnbgkKOJyuzAWJjq6f7QqJpQNLkfhJgBURrYlnvw0GmF9InfqWpCOj6Qpovtdhve27M+9rPaxC3EDC3r8CmzFuvqL3y0915JdnXBds1rt0ivKWcX2+SMtxNOrpLs4Kl9/JciEEkOalC991yrsHIuOI8PAaHfsqPZGiUWetI6OkKnSuNd0H09G1osyNAtYAFTRmgMA2uBIBodb1r7STek1ql2dE6aBItzi6BP46L5f5ttQEqoY6CY0SyUL3/i9sdmdY6mhEzu2N1ALVoM+Vor8TM55M0TUv21aRQc1JmcMIkWa3mnUFbgVkhdm2e4uMocBqv/yt99Usrz9NbQm6QTuyltflNIwv9aLxSe3QT1i6qAJYd8LJZHPcFOIVbh0XlZbRTebbaGx3qTBXyUBHo60tK0BVCidk2O/P9af03t8UuHWMV1ny3nQEUYd5e2be2zfq7gG6zhv3GijhpenKfW4s8Fs5AxYB4thqrimU+O4KC5QHv3lACXX92I/92DX2rorRBaSgpq/MFSiTNiFUPFSHtZvQFSjKpVMubzKPjrZAY+bHGQTp+Jqn55JHI/Ge2g6SM+JJu6+8vBMKq9l5Z6atSbTa1zrK9Gte+bvQkeglDWciXHAswZpro31+EgxFRT6vJnIR0x1Rn4r1GGKXQeoQlfG708cytoR+99witEVgK5iazEsRDVh/02f0jfk/BIHQQqhp3jvGRpm6HnWfX0atee33Nanbj0XR/kdbXW1gG0UAjbTpp1JISB+nhNoK1J3/O1oosqrAXaFWuhZJVVB7rwq4CA0mhxld52hQxnQLkZimnsKQZ4pqeLkNvSspfuNR6LhTinXzLqpyDhGEmn0gJqKXzL2HyvDOHJibphAycVt/mT5t/Z68qJM+N7IK4ldA0j7WeYo8eaftLn53A1JPUqcPPgv0ZzSe+vjuaomnlQIrhFZYlEjuzND+d2c+lWn9j9+76JXB8DdNHTUVHTAk3jZILDW/+iw/l3DXh1aGqzAp41agAX8Nf4vQ1h8p0ZcZOiZeU6FlfxpFsz7XypWx/F802Pr0O3YHXX1/pG/oI2GsITL9IZ5C3ahqFUSd/Senf/uosLtDOfrARLcmSbprcPOY3JKa4u+ij9a59Lk+3B3v5+j49H8/0zeRRXMYi4g7DromEEau5ZTR3fDAnZHrj2rOIMVlQgob6mkbPEylCdReTzFyyH+gLGnOxGDTsDAdXR7nUiqDA7TZBGeX0rnUzmCN4wx9eb0mqEEfFSe06BIpc9/sP7+5jxt1cx1CmTrc5fcSaM2Z2vSJMjSlUdA10dZUq7bz3hMc97k1J4SXRmZqkog02k7tbQlMs8+yfrK2vQNmWWS19zd66fPsUzPbOz4r5IsOtq0rrFp8ls7xMkv9hSUafW/Wr0bV76P29Vg0fSKOafug075CzjmtYmlpuyxFlgqF7hCs0FGBGMyw/QoD/ZUn5VX6OCFfrznRSktN66JS+29AoM7wpa+6Lczzg2lFHaIRrzMqap8p8IMH7+onbdY8xbERubqiRR6Tvpxjiia+6TD8bxJrd+Nwjl2mqBIyJUM3i7vn0Db3LjRRl2e6tTZCjt9JX8HdxHOxzDQrXbdJXxC6up4wX7mesfEZtOXKSTM6sCbmyTRoOSGwroOsMKifZ81AicOBUXvROA9bkDCcvG2HoWqdq23HCTns/fu6I/bWIXqsr0pCaJ5THfbte03wCgUFSSNy/KZp6FjtkqEKcu9nPEW6QnqXoGiOuAuCmt42NwBSc24d3yv0+7/3n353LM38N/+oKKR0xH2u6/REbpl4aWKFVxFX53OtiVNpHVV8zqvz0NzNmqX1rdkPmNM55bPL00Q7biHfXU1gZq5jDERrXeOqQHotSsz2Gh3lsyhfJeeyN+vxvAHQFIJDt0SBiS6M0rzzUOvCxGH9oR4IrNkqPRvEcFda6nOtJi8Engm4Bis8b8S92/S1PQgldyO5MqETuhPda0R6minLxB2MRXdeb5a6O3KaF1NC2jqEpxJSU0sWRdSPUeKrYCkRW0q8FpVAgwM6S4tU2u47U7bIVQczk9MIp1nj/t48vF2KRvHko6JhFIROWLeQMS2jfbWuBhoqdL1uTelTPZuJ3/E2f486jVLJIEYPYS5MTf0sOsNVJu7nd6d4HJ+Tsmo7e5+lvND5LB0V5dTCEVVuAIf2WugPW+boL+R/BBnMXJNVk9yDhBRqm2z8+mOahOkX1MVvrtPlu7sOa/oZGFCAuoaTXC8EiQCD7+4Sbea+biD7WsHIf+bYFX07NpiTzKvCTSEGffLif37DNeKWRT6H53tUn+Pv9vwPLiheM0mNdEJqNS3X+b7CoZN+JzQkEjegc6V/NaspH90CpgyipO9a0T6naHKd1zWpTgxRAbn/l5kkqAqoavYyw3NmbcdKASehUOons06vte/NqFfLo82MFHf9pG2V+USA9r2I8475tx87Tuum8L8uszPqp5CT0dTIMqdWBeaJi+JLaxuUWTOw7ailcZqXFYS9htJk6s57LZKdVwMblJqUMK2pF67+cIwoKjIzAAQQAAF9bh96FEpuFaR/WqY3HcT+eF6B1o+nM/F8I4gEMAwcUbjGet01Fp6tdSGy1wqof47/QH4INHap5T98cPwOjZoXh0DlN/MnKbpamvGgT+2yQFa7nTRwiftEEDUVes0J1Z0IS1NRh7WNk9mM8uz6xS0loJM/pUJGBvb/re+EMO2nfqe2qc88teNk0uxvorHtXxMpt74+p0hSk7WuANu1PsP2bf2gzvvJlFxGrzDrZ6+p+SpB2j7br4Obz/4vKtDc0FzmPxdKFxWvQl1U39/vTM07Abh9attrCdwJNA/whc5BSi5HA3UZZILRfYbnoDpeWC/SnKhQn+jLj/OtkHG3Gl+eFSDCpXgOAcWkWf5zO3t9Y84d7wg4c80MysCv9EvlqXDtFuMW2oVp6UJzHfoeocjLnDWe4Y6+rljxeuff3W0uy6ZJl3dCQgJdQql2r1lZonjObyFz0XDNB04i8oxIw9ZK/I0Ytf59tVQIyDS2oe+2v/7EdSjXfKhgc4z8XnNt/UnbplNbWypUN/nZ5/peJFgh1Pbq99ugQlHhOvgXFXcufRWt73W2ec8iKPpw00wz0U1l0E9iRJZdTU32JB1gFe1pPCtwOl4rpE6Cvv+vkm6EVV7QLeA4dvkVjE4fTSL3QGGSnA2GKaRM0egCbNGL/i/q0Mz8348+Z/horZxaYbaZOgzE6b92+ZQnr5sLZlqICfBd72uuKM9kTkSIKBrmh/rIeeTZJmqTEMsuGvjpjHRqftovF8s7ni7TMp+NonnuUr5rpYADrtY7ObI7oQqiCrlGCysoiiBOBEfj3bANGMrBD3aie+Evg/xeyiKSLk+puenE7xIZ799op8pAhtJU6HWnqFnrrIlkOSHbPmN9OEXQ7Wvvk5h03BZBVDG0XSch4bM6hi0rtDfVBQZ26xc3h6wQRsurwWVm3vUrUlzHZ6JlkUjbeerT+obv+rfKsvRS+lawFA0vLxU92yd+gymhfQQ2wgChpu9TlGM0k+u9TzeEPlC3UPrYxzQdhQPXmcelH9KVCfqiTLnwN4Un15J+4ZZFvKNgjLTyvwvC7asBHn3aHPhMfe9+97ufggAgO56J75DnMgaeueupZPpOEdAiweZHarVpXotQL19ctfdq22W808SXqVYzU2TA1ZQSlx2lgzSOwehutZYyfYntFBVTopdgqyU38lr/3ym7v2H7JfL2dTcuXEY4lY51n3dnuq2wPZlXCmbHn9KcpZ2HfeYJVXfMT0J4+9Rnu4hZgS8Kl8FlOBzP3GtQyLC8ZpBIRAe56xhlxjvEbf93rFpWIXduOo/NNfSzgrnRbwNUSwf6iW2T6RmcDM6BIQh0ERHMLAObxuS+YM4l9yvIXk10240HjP5pwmvSK3hFlJq1CFcjrpQe9qOg9cQ10b7P8PmmZGCagqY1XU050a+LuakwZGUCh55jEoPmeKevCm3HstuC8xt1uFSKax9carQMehJAGzXsdTVTVjg+JwjV4D1LEImstG45+W9KgNZV8/lk0lXIlXBLrHtfF5UrNP1t/Wy+L/opoyya8vuaTxuA8bcTSi0C0XQuCusuunfoawXCIpTOxTJ8TW4d3zAlBcGkAoMxzR8y36jnGqhtNTEUZqIV22ewRPPu5LNqBHj/k2adz0VtK9RXCdgeT0XqWC0dOD683BnD+eAF43sGLf/pG9KXxVgi6LnW/EGTujVPf+cxtYlx4VrGTDNQROj4UR/ICLT8ZK49Cj7XRrr8TTMYdG0U1HY3AusYomSYV/Yr62ntHjSE4DGKyTIp5t5VCxT6bLqRWwZp/qIMoQnpRvpyC6br1Cf9GicfQx2qG01raVZ8UdmiiRJKJ7rMsQx7p1XbxudMiAqTPnOF0An99HOfozaqKVgEYaRuI51td5mlTHOKKBb9VvjtWDRoUfRpHYsgT9HpFcBbKizat2pRCRaCdPNHTTOVF2MEMpPYpUVRAtfiNHeXBgr36G+CaTWpSps7h1Wu27dF97UevLZ0oStEs0+lZhR+57RFpGXqhqsfXM5nvd4LWtPxDeLB54RbhnHEBwXPuguJ26a///3vfxKI9qHojTp5psjS+n2uwtbzNRVSLj3s6WoU+sLcKfjcPVbUTFtps3Sn79elU6ZegM5MtKWdzLvz43pS16sicBFk9JVdQXgm6PZCmlTYDQLL2NV+ZYBTRKdCbtFIiarMd2L0CrveuwLoVK/LZYS9JXDvlen6/6K5jehVsJf5l0Fk2nUE3yG/9bF0bHqNpWPt2DeQU0G3vjD7uUhjmb8C/zT2HRsJm3cTNNHOtAvi6/pEx4f6IEauhzncylyh5MEsEi9anmdB1FznImY3K9DU434TSxepdY5krJPSOAk6x1mE2L44DvWd3UXiO85ui6Tj3OtcUgRCYSw9zQnTDT8UDMx3BEQ3kqQOxv3jH5OTFWjmLiL4u/yNd8/scLkbv7mFPGacAhvhIRoyaulWRWYiqMSYV1GVffb8UX16FJ7JM1jAjrISDEi3RjWpj7o9WUy/H/XzH23ALIUmWAv+vve976UHiMKcmDJAo2ROlJNL8fuirec0eye2BHYy8cqkOinXTKO48R2/uyzqZCYVybXtFQo1RST8MvuWorZq6aZfWN+imfbPsoy2KHgR9N11m6fm/0169poVWifl0rHob+23Zg/EaPpNGcgxcVsZEAUvd6d1p1UZnGv4DSTCZ9eW8j/aG8bWrFJ4rPAtou5425dTcOWE8J23RrAr/Hcc139ZWtR/5PF1tB9konPcvrgDDe0F7dJvmJ//GRP34FP4w9gfeowe8wyFgAmrXW/qOLoEi2sZa5USwgvzDyTHf/qGQXfmrTL2pF10TumHSFkfuM590ypsr745/GUIKH7jvejX5UwGXnh3HTJtAOW7DRIC7QIyZezmpC2a2uz3NVFcomSuyAlpLUNL5JtsWiZdNFgmcVDUCK4tM6etaGrNtJMJKsGX8G27TGtdtr9MIbE2mOF1K/hPzLNlUcTJnFqntdcpXO9M+RVMHYN9dttahcX1MsB73vOei9D4DyJF6Ow26s4RzAezSOQwgsUNJnmhhRlzCNc98txux4OS3VO/Tn3baZ/bfsdm6WyDIroR9HnpvPd6/196MerWsxOcJ9tpCpIIij674aMCUZQGkgF5kP5AuxBuP/7jP/40TgYRTEJ+5fG8An28bnGtUDCgIKL1aDmVHMIPvxZ18Vyd7TwXtCw9I8R4pnPh0iyRY3PlFFDSAAgT1AkdeD19E92L2GkDwlDFZcqLvjOUmsKTglB78CiowmkH/s73cDIhhb5dt7YMW7PF+/l8EgIlypP2pC6jXEaAWo/E3HyZE4qsGXkSMCdfi0iiO402WqRztWNZgj45+ssU277TuLR+22D7u22Qz5TA1bYVsDXN75BoS+93r6rP+7zPu4iM7H0IHwbFv2HSpu12J9wmS3Yjgu6/BTNjZtVhLdJw3jsOO1a2sfvU1fTevpx8kh1DSqPvKtkKOT43KrdF2ul21dIfDOx4NFteZOd2QyAj01iMKJqg++HHtBzmxMRklYdbccs7tln6hD4QMiJo6pTOixyRF8wNhXs0/5qKY79cKE9prpk+PvPWHANTPuiTqSlc56llRsd5vn2FFrj+Uii14W303SQv4aw/pYioQktm2wx6iUsmWwYtYS0ztfMuqUB6izJbZxOA65zUB2EfVru3/bbJa7q1jv+d2tz++rvRx6KmRbT1KZzMzJZFzKdy+n9RWvtXNLzXF/VxjREwmADixkGLIGKMPvuzP/tJYbpvnGPPuz4zd3RQ8ECkRP68Xj8M6T0UBaLzezLHizyMiNbHqHKpkO9c1Dytr7WIa8eDogN96Zg+u3ZSBOe2P/SXsXMXXjPlRS1cByrC79TlbPi4UCLsL/bmN7/5qtdAjOkhPId6NOf4H5TkPv2208X/mJsm2NInnqtPjygjAlWLBd5zm28jnsoQecPxUAHQN3lWP56RTc+8oLhxIy/6iXvMlC7GwedThwjxEmg9LaeTJMGuc3zNT3/vgm3NDAlNraaTWIJoGN5nlXh8bgsT4zbF/Gdms3uedwtfJ6t+DxmnTL4MXeZYQqc0j2fHrejoDt2c0KKmrf13XWrvK7rzniLmO6EmQelzuhNuMsAJ9dRv1igvxTGFKYlYQZg/+ZM/+dI73/nOS6hBpOZHNRmT53IPZgXowIioO4Bwn9nwuhaabO0YLF06zwo9GU1/nk7+7r/fsXBMS/uOSZOvOz+NtHb3jc61JqH0jaCxT/rFYFYKbePFGHDdD//wD7/0rd/6rVfyueYefID5BqP/9qNZrAMec5SxQwAZgHCVgW6iZubzG8LG8TFIIe+aWOuW3dKJpqMHxBg8sA+6BzRFeQbXggC51wRaFZ4pKjwLxci88x1hihnMZ9rOMxC+WATQGJtUPvCnm+pVM0kgi1ROSKFIqH6DZT6vrbB6kTCpcLAIt51UT1xm0t2ChEGr8HASG5FapKEGaVnhUw2/6KBa+TkTbp/dsShTyDj2v/uEdVx91go9/9McqEthfWdl3H63PR0D+1WUqgDmP+YFE5Q5QqhBhF/4hV/4pPDce60bScK0+EDcMob58z+TaN35YaPajv2akUVdrm+ssrUfnbd9dXw0L2uJVNHV6pAxVdgWlyRR3MbaXV/1GRrtNdhFPQgxTPh/9a/+1aW4qRPFDdIiXwzGfte73nUxPfd9wRd8wVMOm2kV1MX4Iej4z2Vj1MGYuzdZ8/u4D/+Zviv6Y74Y/8t7nuZkn1R4omNPq/JZbp7Af6aguPusQguaoO+gcvyG5uFR8KtSF8rzve9973XN5Q6oA7OlTFlG7P++O5HWU2HWiV5hdfJbLRqSwSSgLgfhu4xqBrN+BwZNZ2FNh33OnZDZ/yukVxC1rUWF66vaMTy1pQx6Mnl4V/udhGLLaczbT6/RzJOxW+cycBHJmtv6hvjPQ2npj9E5/Tam1XC/eUjeYzqBiJvrCDJQMKtc7sS8U6/Pu/Of2b4iitL1uk3anyrBVXSnuVw3RBFtn0e7jeCZQGrf9XdRTFGQxtmi/m1ve9uTX41UDu773M/93Kdgy8c9bnsNanPBt23Sl4hQQ+EwrgRyqENz0+2KXFLlfQqxIk+RsnNrao3+WulVC1B6Fl1LI7SZ+s1DRDiZKEyfqRsBRnEjSAqCswnA1HHttlGGKwGXIRZBec+JmSo8lkiq4U8EcjKZZIBm6xtMaOpG82Jkyk3LWC2+n9f0aj8cF31gEmzHp7lwKxROZcel5lz7bT9k9vUrOk4d8/7vkhNTW3Y+/bymfhWKROx/i97qGzRaBapwSxheRiWbAtHv5qVRYHyjbDKnfjmEgYulmxN25wZYAXcyBUurO75VdP19lXef0VxHitaDR7SZAa9pDJKCKXXGSwOMG1FkxsN8MpAY/UeIuTj8Uz7lU54inkacFYggHbfaph0iGjPxPWXLpVQUP0MzptdISwKhntXKf92bULPeMfNQF1c48ExTSHg2SI1+uYzKABJIjP89y9RVDtTj2SPSwYNry1wIfpqgEv/C7GWg9Q2VSIoGtv4lvBLVOmS93sHc61zntW3zGX2vCSkz3DnjVxj3WqPEFMZRwbHRrs1oP41FgxcWTTVMN/1ComJXJvhOO/yuj9RIJ8+TYOy7QrT1lhBP43aihZqi1m/CJUyMljUqWjqrW4F7MD2ZQ1M1GEv8QLQJVMK7O3N4fqUZ7JpWHXPNm9JkTc2is+3PSelZ/K1uh46NKFRTn8/dNdiNGs3MZ5xwfmvqlQ6YT0xEV1/oZzL1QmT04UcnOeMNEjMfTWvFOniezncRmCkkrut0WaRtxFfF/8yF/XZtpTRTpecYidSMcDon1Ifw1n1U/6mCzlUlIjg3duTl4S+0jTbSn2txeo953yKTV3A4eTUF994S1B1RFNqfkNkKjt7r0gpRh31wIbTweqONFY4rNCTg9R3WR3Vn3vQ5TfKsD6xj10k/MdAWiAYC4H7D5JpbhfnNWIcJ9HHoAOc/Ea3zphDoeFhPzbXT3J4URseY7xCrS1V4uR6v9ygAbU/TWyj0EQZGWztOCgr9a5RG6duf5ojZr832XxO6Qq4+UevsfmQna0WU4VbRXOcyJwMjLuEStXlepQLDeXCZl7ty4JuULkTDn/iJn/gkDGiXwhEz1rQYfuMat3TnOtoGevM3twIXIbqhgChPBch17pSBkJXnDPyI4ng+33k2BVQJyqb/9APaMC2FcXBsjJ5Lg24+6d5w5qLZt8s3R8X6P9xjyElemL0Ttgxfht3rn/t//W2nZ5V5ipJqsrhol4nVLFtBK+Q+Ick7U/iuNLWhY6WmEhGVcbYfd2i346AWxIygDrSUwlJoL7qSED3aCw3orq5qYHwOJmYC4zE/NN+ow7wj22O9G+Q5uRFW0dlvGA7iww9GDhFtUIjU16kZQxsgZvrs1uGgG+qnLk0tx97+d+mRr0XbztGi9CrWdfyvP3IR5tKOypW5MLHV/nGd0b86zI24eoycY0M/TSIGvTIW7hBrH6jn1x9PjDKFAed624swYuxcyK2f2c0ltaAUwgZumkUgzekH4x76KS9KK7wjfKA/Mw+4DhpAwPGcP/2n//QVBdeHKBrzjE/4mM9uS+TKBxCiit0DkPVBPgA9m51d30gZbAnY70UiTaq1FJWt4Dppwi1LJL2mSY1MotD0LW95y9Pz1ux9rpQBLU36sw31Vdl/FYD+s9ZzMmPalpM/rKh0kze7VY7/K8z53ZPQEQSa3ziJIUj8FMw5OV7uPOoSI1FCk5Htg+PQJOE7NNn+anLpjIaYMXs0uaiv51lYt9upu4+9O0PQHwjdQAMETz0uYG86R2lk/YwVuiflVv/XCZHaVn2b5QnrYlxpmw5t/jMVosLCk5moz5PF6S/1KszdYpuxAIQgNKhXJKSp9+FHpvc4OU9IYlzc94zrmHv+o3+e9OX5Haa4uIIDhce4E0Qwyuy8omSKjqu0FcAUUlEUivQd31f995ri3O+OvQItaRk0x/9f9mVfdtGQAMxo8JWArY1ch/sy9ZY6dCsIKwxPWrwBh5Y1L5YxVigpJPWN1Jfky+esuXDq28n/4bXdjsh3+9G8JutVq8oQDRx0zMr0/X+Fac1cGbww3PkwGKEJ5sJiDw82gxstLQKAIGAKhNtXfuVXXntSodUlop3L+kOqqO5M0CJWtSiOaxgN5EWEy35UMXaszM1Cs7vLBv1ybGAEhKN9PyVLN7BxKppQGwwrctv6LF0+pHApXdM2dxZR6XsPSNXTixSiIiQFs6ku/O6BKowFNAD60Zyk7g984ANP0UleHoaC8DIx1lw/Vyq4jMlMAesydwwkDUAgNcJtnRyLbgygUDPNxgNYfJarBBCSClX6w+8KPRNzTdbtGaG0gfYhCHk2dOBaVM+ZuFYKmVhXhqw5V//ZiQFl3F67iKSadxHKRrtqKpyQW1cCqBn1m6kBGcR1xrdd3fuqzNdrNxBRs1qGFl4Xta0/ZdFMGeQuKml9iyac9C6/qfDVZ+H+ch5FxoQzJobDna+v+qqvuoj8B3/wB688J9bwQUSgtc0VrOnWdp5cCCehJiPAwKBC2mJ0rXNeVO3Y6VNxuxze6Zf3GBlVY59M+BMdWDpH/d8+n8xYvxe59mxMkbTb4TCubtOleae55I6wKmid4c5xD+zlM0JJAagwRDj94i/+4pPryGVh/M+YIZgYs2/7tm+7FIrRSIWrrg1dDvxn2gbvnvTuPncKmyJd/dkGotxJA8HmkjYjqI6JC+o9/d2F6vrjRLfQDAJage9ZC6JXzftLoK2/rBqowspSRluGW+JZAlszZX0REvQuIPaFVjPaoaNbh7h+COG7WrzCscxyMo9tx6aK6F/YUoitI75CrWO6iZkt6+upkOQ7/eqZo52ProLQ1+WmexItRM13NDqEjaZEkEF0BBv++T//5y999Vd/9eX8hUh6UMcKqBfN8yqzonPGEI0M88G0OvnXh2W/RU4yEwVEwXjou9E5LbqowjkJ3JMA7jOrjLzf+S3Ni5z4T0TSOk2wdeddzWsTUp0v878UbNAxy5jq1zS66U4TJqm6pY6o/HciWA0a4bekXQgExl4B7DbfbsPkxokGKzzY13WZmHnukkLhuaZwiPr1x0l/ujxcG2pOmu+0C6HFNdCea075zTHiMy94Xv+ggSDNUhXAQyeskyjzaiuXcRsVWtRWtLcavIhkHcwVKmrj+jgYfAbERatlYLQ9gwgsRXsw2ULdCqkS2jLkmhYV6otcbadjI+Tucpiayms2V9DVD3YSsl7PsyT6auwKTBGDYX/MSwhJWM8YIgwYH53ymhE/8AM/cBHgX/2rf/UaZ53SRcsrcO7KoqAVChC9pph7e9VfSFE5yLDmI4lkjMiZbkKdzWB3PGriryVwQpL97rs80ei37e25F1o7+tVUijri/R9BxX+Y301pQMgzJtKUSojPzB++Mw+MdpWAvGqW/wcfs/Bpmytp4I/v+77vu56nIGD8mAN+4zncxzP0i7lKw8/NHmDcTailbaAvnqV/FD70nEz6CQjRFC0CFF1SB/eiWN2CWxcL/XJtqkiO6z3EpYdvXyknJ2aqE7pC7iTQvL6Coj6LOpFLLEUfFRZubyJReACEG9U58UZhPAGG3yEGHfPVpCXQfeYSegXYnSCjNIHW7y7lUaiskrDuCvT137Wt7UNNXBMcJYb22b4p+Bgbo2iYDZiTFBcnwyQQCvldEBT/Q1Ay4fZdZGLbTyhohVlpxXpgAggdhCjSkEGYVyN7FBdMa1q6SyqOZnd81R+0yvfOv7flOTfBKqfOl3SgI303WqBNokcYWhRlmoPProsEpU2f3OMLujc/zDQLrkc5mfDqPnQUEZgKVwHCWJv3ZTqF+52Zv0nd7tmPoEOo8Hx9ma4XVdCaLsKL63/oh37oCXDwfBGngpDfeAbtcBWDAtloqiizfnl3IDEHD8FHW0xF8p4HB0lz4GQuaHr5e52lZVBfRSgVlOtjsa4SgGvg1Hp+51o3hnMvJT7j0EYbMMBqxBLVRlYpjXoVgdTPVROy2dDV7D6rjFOn9pqRrbtocMeiiqVo2bY7hh13268ykvCYcIkMU9NINMQt0mM8OaQDgca4Av0hXomrzy7ycSyMsrX/RZ4n3xNE7YlNCjEd5m4XRN0uhaogp28uhOaFADB6pqN4/Z+dl6WH/e3OPdF59LOH8vJc000aTLGvOsqrBG2Ta5NFJCpq/VQKDV0prh7gf7f3ESG+Hp6VHxxXBBio3XMQqMtkZ1M1NOP5z5ULCkCe7/Im1o3yLLdI55kIYL7zP8LWQB1z6DZS1EVwR+XDNW5sueiWl9sdieppPwWBpoygHSjHywXgQxp6XnOoAsBJ7gLvagSZtIRcNFGCceAbzZNAKGq0MpFb8+o/IypHRz3ujM8IOA+GaFlf35oYaxoruMvIIhT77DW7hOfEOIt8HasiLe9fJFAm6u8r0JxP0yQ4SkxTxj3bGV8IVbMCMwEhZqSsUdEK35qD3a3EufG1ymKFGf/DOJ7Y5C6oHpoiXTjWmnuaLLSLqJv7b7lNDv0qUqmp7HxaKrT6vvS515/mQoG2St+xgZlhdgWeytf8Qf2VNQURYG7OyLw51m49xGcVuejtfWxB/SjIRC4eOuRCb641PcfNGaU/t3EyCZYF7tTJ9R5wTNtA9QgxaMhn6E+jHk1bnfvKCngUV4e72Bp119+ti8FiYEMedL0pz4OeVfZmOTyCst8l/jLbiZlOZqNCsMhmy4k47uquI7/mk/XwPPeK4rtmC4PichIPHu29z/mmTsTaNimY2w6K+0id+l/n/6K/opaiLMouC/O5KpBTu3wXxand3OYZQcWOBPwOAoMIcQ6b38V9XANDarr3WLJTEKN989klqo7rCjP763zBMDi6XVTtfd6r+QyjmWSJ6eI2N/zmNjtLL0uHJ99p0fWJDvp/0bRKWyTDb+ZZeU13NxFdqJSNBDZLQDOwe5F5LYXP7laBEpIOpJ1P/MRPvNrlWLrjq6jKrfYNnJgNoEXEfQYF6BNo6+1vf/tTMIJ7GH+z+e2T9YG8RGXWIRLzCD6uc8sk3UlGN43+SmP0wd2CNdGlszWx9TFfAq3mwV05aS4ntstk1syTydQC3ldTz2uKqlxCodnjDgDCY4mHaBCM6tkIDoBo5yRI204Hro7rEnfRYSOeEqH5VSeBWQZrnQqd1r1Cr+N0Mi2dL82b9XG6HIwXZnkTWNFwCDHGDNNBxWQk0Yzzk2DyWfURatpIXOtvOgkKfpfxaKNoTTOTdyNoJp5SEMQehgvzKfAYS5cQqWxeVE7j3LbWPXDqk0JNuux20Z1XiiYejOhJTTr3d1G+ZrXoTp+iAtEosYpcf9qrj4KFer7kS77kGovv/M7vvLLxGT/WATOmbtXtZ023AgGuZ0G8ig9h5T3wG882f9UkXRQlEVV8m+Ycqrj4D/8syMq9z9xlmuJifCPH5TXGwCRxj8Sjv9zjMXkKx2sL7iaBLgPeoZhC6vqHnGS/l7FX0NXBXHOmjveuldMBqyChY0yu+9q7yVwdiu3LmmYrfKux6wtsTtiafWpPGfpkZnW8+syToCizra+xJn7bu+NMUVOiWc0EZ6z4DDGgfclDwyRFKZho6+4K7nDRDTiLnCtAF6nV9XCH1hhPEyI9pUiT1cRS5tqF1iAS5hXGUMkpNChc48G8rnY4jeldWfOydF23yipurQqYFqbHYuhW8KJWT0tiPtwCyUih20wzHjrpuQah5aJ1rnOXDOZQhkeYmPP1CY/pFCSf6pskt5DrfvRHf/RqizTgmk0REvfKQ9Tnoc+MNwLDyKMrGDSNUUb0mzlhqx8UE21S+Chseacugk/U7Q609M20E32+zekUFRqk4r/P//zPv+rA7SDv0ZfL9yrBrklZpjoJtU64tmzrOJmfJZh1jju4Ci9RBs8xWqevASmvba4AdJBFjM1o3z6tGbRF4t0NEbscRqIrc3vNiVFWEK6w6njvfRUCJ7PUaKC/03aEvTtcuM6R+11TiYblerPY3RXD/fDZYwvm684l9YGeEHcF2kk410zluwrIqJoM3iADfYMJmXujWhQ+a7pAJ2p+mMxDb7cdK1R3/tc0bt9OClJa4X93zgCduEjcuaAoAIzgs0qC9utn0vzUES4yc6tphIVLlUA68AP9ZXsm+eanf/qnn3bhMDhCbiEBH3PANM2lZYWjgo324JYwX85926AXrvdkL4U26J98RpC+ShOzmEL79HF+x3d8x+V7ox/0ydw3UZ5IUL4yB457Xc9qJNYUFtoGijRIcuWiGUFyv/E3Asud0J30RSSn+jYkbuIhdekb80RpE+h8jpni1KFUNxLaCKvCcU3bk/A6Cekm1RqOd9KLNjUJCpl97jLRIlyvqdNzr1vTvj4c6665Sh2iWsdVf4MJx57DKiriBbE2LA5xwigIv5rJZfad/x1PBZylCMfv/I9Z4oaHFQwwP4RrtBVGpX8u5nb1A3UaAVRoINyK3nxe6a996ecd496/yqRzxpgicEBonojkfSplmBIhRvs0F73G/Emuc41td5JgjGBwBY9K7B3veMc1RozjK4+J5/zPvTD4f/7P//lpBw9+5x1kg3Oe5xt51akPYkcR6sNzaRV5irQfQeJqEpdXofxAhfyGsHInWlcYsKyO38xMoK0oy25r1BU37rLr2PHdg6dNDmduEaaeXcF/Vw6eiYGrfU5oYZnpRNT7vWbbog2Z2e2zPelHc0SfgQdL6FCEeLDVK+jsfB3sp1D9miFrsjXauNHf+oyMtrhOrUJT5t2s9Tt0UPS27duySqK+HB2m1qsfTMRimolOYLeIxhzhO2YF75h3vNS09qmI3PYu0l76uTPBHW/MXV7u1AqSgHF0hsNcvHRsN/BCfSKhmiYu3ercrSI9KWSvOyH7nbOicn+HUREWMJmuEIqC1W2EaB8CwPw7ig50fcfX3l4PD5diUdGL5DyZ3tUBIDPG6zM/8zOfopi8+IwQRBhSUBY8E4Grmcw8u3TI9Z2eGSpqJ9pJH0BD/GZ+GvzJs/kuXzIOrAnmPxE/NIcgpH/8Tt/4j2e7HyNFf56pOzzDBfKuRmC86Q/Ckd17MT9dS3tZinVQd6KXAZ9DDo12lmibj7P3VfMz0RA1ROBmhCbSWqfpGhCJIV8RkhNm2Hh3XFi0WGJtGoZ9qa9tCbthZc1cHao6dZdhlmk6FkU+G5SpgOv/TSFZU3/vpzCmoALGk3GEyCEktDRrOGEYDuBg/BBqaD4dtItsTwi9tNDr1rd38rvRBpizx5mJJE1C1fR3zaFIjTbWNEGQgDBgTh3fi9I6dv5WWqgwvnObdC4aXYZREUA/8iM/crUF5NIoNP1CWHMdCEXziqLfkH7RH/53hQRo2rQaBIg5YQgSeIJ3FPy7Hs8U8DxP2oTwBKmBlEySdbNM/WQqQpQJ1/Ey7cPAEoKD57t7Lb48Ub85gbSV67jv3/7bf/t0SDS/6wIRpDAeIFoTec1F4x7+0+do4ES3BDzGuKI43OzTJPJLcWvDrwbrZJ5Qzv53QhX1m+w15iuZMAlUZUDNNdG+514m18NQPBDCyJj5MUaLuM7zDsuMTTWoP0Q01tyy+owoGxDY8H13RtCnVwZvoKTPLcK5Y6D1PRV16i9stFNmNH8PwtCnguAyR89Fv/hXSOtw+Qv3GybvIn4F55potrFO8gqIO6FQNIvwcj8rlJNmJdfoD3WvMNcJKvg8pBdihoZgEhjSfLYVrEu3mwS7SuQ0B0v3AgLaiWKG2V3GI0rzf66HhjVN+d+glv2Fht0UESWv39OlX8wT9WuZIAyo45d/+ZefTinnd84NABl9//d//9PyMgQGddAGnt/0KCOPPIfnWz8HlJg24eEloDDqMaGZYuqFR919xVd8xdUuroXu4EsEPkKNl64h0TcvzV3QmwKPfqGoULbu4YYglx5M+7j8kEyMBNRyQlMr7Kp171DNmpqr7fnuuY0MMJMj7DVq4+Je86MgWK6lGA2jdCnEBigUKCtk/dxIpr+fzLsVTBVyEuQKd4nGa9fPVJ9chYTvZUpRoc83y7ybVjYZlXejVJqZOth5h1h18FKnRGp+V9u9iq1mZelg+35XuAckg6YVNaCFvUe/GijMk5GkBedMfxuEzvUIE9ITYDI3+bzzY9qHpfGl0bu+tSjUELCYfqydpF8gFv2xmv+MryeRK7C5T8WIENNPrDmGAHSOEArmGTov8s0HP/jBawwZV55N8EFzUSXAtTyDOUbAQRNcQ3tNLVEZ6qowGRjeU3h46G+DGp7PagIt10BTtNFAhgqJ5xgVNtVGvyHXM7cIV4NbLi10uyOXY9mva52vZlKRwk5kJ38nvUJMxlRT1390Si2Q+VyJ3/3GXdZBo2FGCFUIzfM8g9MtY2yvUds7pjr1qykRd9euGd40DJlLX5qCqn6WjgP/N6t+/TEd6yKZvWbbKWMquPgMIUAkfGaMIWLGmTE30RHE63UQCNqQ//VT3vV5/ainKPci/fVfQpy0Q9OtuYgVJBA8tOCY8XJnBoohfVME6CdMXcW1ivlFZZVwFWPnxjFwHTL0yniyISGIBuZ2fHr6udF6BbeH7Zq6UAtAC8SosALeoBjlkz7pk65ngE6ZawRU11yK6Bkjt+JmnhvV79ZUtkPlxv/64DzUGEEp3/EMltkhcOHP7/3e771QIv/Bt0RDQWqMh+MA/9LvbjDpnm88E9Staet5n/WdIhBNAoZuH3S+bfb6iaHXeeokG12z1B9XM6RIxMJAmo7RPa1ouM5dYTv3up+4WqSRtBVWS8AVKouERDOnUD+v+tas05Dz+r5WYFZZLCK4M21OZYMWttt7+7++CeZXtwKT72EiImMd8PQP1OA5BPppXuQDXEG9/z8XoeU3TRuf1fWI3qeic/0pbTYPi2sNIOiHo78wIYK6O7O0bWtWrsBukKZ97dwVtXof88H4wcggGXw9nqlgn/kdhIRQ8/QlTT7eQW4wvsxrEIoCfyCozblTIdGWt73tbdfv3/7t3/4U9eQ//eQGjBhDT4VS8TWwVDDCOKPYFDZuP/UN3/AN1yoPAkouQOd+BBq+PPdZoy8EFTwyjzlEGLp8sbtlGJ11u6IuVDdK6zjUWvK4P8b0CgoUZciAO2Ens7EZvfVBlMEllGaWrx9GrSF8LNrTKWkR0lIYjBUgJ7PvDmm2PQ2OtA0djxJuyzqeJZBG5PbZp/pWoXR8dpx3zWfv0VTQz0hhwkEEal0XUUOIaDcI2/Wd3APM3+BK23QyzSq4i9wrANoHftd/5jjufQoXkIHRV9N5jEJTp0gNJqIfOI51XdwpsaWBFU7b7/blhPb6G8gMoQaDw/ie60A7XPnAuJsvJr3oLzO3TNOOfig4ECrmh+EjQwC4tvXXHsGBuYXStqe1u8GDNOU13OcznB+uM0jndfjj3IlDc9FNHzFHv/RLv/QSctCbW4UzFwgxxgGBBm0hfORr+tRlUK57dY2sLgYDB/xGG+iTfjcR35VY2wifBOQgL+E6cY0MKkB08DcXq8s/yvQSuIRE4yFac2bc20rI7eQ6qd28sVrYqOmu21MD3fnzSrh3kayapn5/kcDytyKOFUAntGBpAMP7FXJqtvq46k8Tuntmo2PozrUQRE9iUqgbFKhwKcLaNleA3zH4msp898g1dzMtDWoC6SPkfwgapoEGJHiDGeZN8fIEIyPipUPnYaOc/r7ulL53vhaN1hox/QLTCgECYgGpIOB0S5ggak4WfaPN7hFGYd74LAJx+3H6ZyTY/Eeuff/73/+k5M2812HO724d1P4wlm6cyFh1owC+cy/oytOk+C66cqcOE7ndGZfnfvM3f/MTX+j4Jx8N9wICSHT6Ez/xE09rPd3qys0mPZSF7yomxx0B7JF6XIO8uHYG0Q7fnRU6YRupPF1TP4OafX0mZc4KBM034bqOck1ZfQ8MppNkdMNEPIhBe9yQ/j5vhXVNiGrw/l5Trgzd5Ns74t90Bf9fAf+coGh7Os4yvT4l22R429ylrpqgqP35zmcXfvMO4ULYEN2pXzsGq6yK0jeqvLRAsa0mxqpcjVRLk1xjeowI1OtFm5okPAtGBD140pWm1io56aBlo/0nYdbP+70+PhNVGUsX4RMwENUg7BAOnkHqkYO0m//oR/cHZE51gPM79P7f/tt/u57P3H3So6ChmJPn+Li0Td4ygMa7Z0/Ybs166mMdaA8ZZl4wIWkv0UtzMakfF9E3fuM3Xn0k2MTzONCEz9zvaWw9cwBhqj9Q/5k+YANY+hl1kag0VOCi2itoWEf2nWZan8KpSAhlniUMtaDXr3lip5gMNHFNWyYXomj9TL45R9RBZzVbKfULlnhXqLW91d7PEf+aHBvo8LtE3l1EVhFUQVRItO2Okb4GfysT9fk6iyHGml1uU01x91o319OMK+Ito57Qen87+dEqiNes6yoVX/yuhqZ4iKxKz2TSRrebyiJCdaE4qB9BckLOK8w27+45JH/Xp46bjInJRd04uHkmkUeFAO0FOblVkKdYiaZ1NdhXkYyRUq6nryqzj33MGNDlgJBxaZGrAUThChaz+j33wPw414mCqHimZ2Gi8LgXdORa0+7zT3SVYMH3fM/3XG0GUSL8fAbBEk+Pcm7dYZriCVC0y2MWaTMpRtK5yg5UJh1d/OHkLJKpmeRvnci9Vgd9NfmaaFuPTCaBmn3P9e6+wP9qa3e8FJm4qBboLnrzLD8mQULoM0vEb1RwFZWuQF/EuX3n+iYuV3msKUoRwnd89HdAVBAH42EOj2H1IqGaaaI02+2ZjL7cy0r/TpHZMuspgfqO2fuf41DUZuY3jOYuKfpUbKvoSma1v6JO/1NI68Q2aRQEYM6XS4hOSmxLlcQKqzuB7XcReZEqNIq5SXsRMPyPf4lnwLDQOsIJk9GDRVwNoFnpdkkgPhGsYAThxnW/+qu/+rRXnadC8dloNm3RrFOBMK4ufdNnzWeFJGPo+QWm+2BCS2fSS90utB9hyNi7EaX+QV4KV5cx6uiHb2mb+XmMC8KS61EG7nrruk2+uyGlkfvr5PQ1L06Mu6X+BgWHOzWY/VxibmeX6Cs0RBQmTCp5Ddu7AN0X34GbQlEhq0R50uBrPrUsse//NTOKSErAffVZNWFb/0aYi8B8jr4UMvr5LBJxIa9OZ012dzdV0fgcnylRmH3N6oAKnPZzaeH03wmNrauin32+4Xfnpu3Vh6aZZSTNpTm6KagPGqCYUMsLJoAp+K85aduXFUr1CW5+4tLECUU3MNSoM6YaBcFFwTRTMbszBW2WjhQ6CBP6AepB+HiCOALG6GOV2uuPO7jy2XMCuoSIwvPcPsgxE511D7IKPpdSuXLBvikkTa8gEEKKhttVqVAVpAgpzFA/O4daBprTRFf1XzNWrghwB2tXkrh066Ih0c5C7RPBrm+nEFvnnZpyUd76jmyoBOO1PYbLzzZcreniawWQiX0e+GFQwP5UiLZ9NeNOvq8SaYVBCb4CoELNe3ds1fp997Omauug0H+09dd+7dde33UIeyqQ/kOIWAKC8DwKTIGnSWmd/Eb0CWHm7rWOUed2hcD6H8vkHVfHbeef3z3ByuPo3EKn2/6Yo6gJrb+lgh6mg8nd914zCkZxs0SeoVvC+7Ysbdf/+ZyVcif4914KiAShBu1iBtMvUIw0SJspmFj85r5v+rPgL4ShVoz+5fq43vToCyMaTD2up1Soqki0aGgTtCJi8hg6x1wXEO4eaKV0L5JE8NiXLqzXwjJ/UPr05CgjrvymMOR60CHKC1OdYAqCnFPWFXoKPs9p4DNCHxq4Tn1y4FcTlRBPpsUKtmqKJWDf+5/PrTli57y3i+ddolShYqRMBna/LIly88vWkW3fKvRqRrcPFYS9dvvp2G2/TyaKbWwf61NTcEAgTJgCUILSHPWzy4Rc32gGfc9nMFJscqU+FcesArnt37LzuWNwKl6r9jfHaBGczl7a5i6qojb6gjnFvRA/14tUNE+lIxfZ80IYOLYr1Hbu7j4X2a8/dGlHBVXlpPlJOxEEzA+JqM4/cwzDumMIyMNcNXMeeUZNR+aQ7//nEfFqyvWcDcfIgJqbaHoQi+cCuDCcOgxOoEgwlRFIjKlBBO6nvdRn4ruJ7W7u6CaONVH5HeHoqfDlP0/1MhjiJq+2Vx60bnxzmOGu/X5wgPRhLTF30moKdc1jJXaZcQWexca6JYiN0y/iOi9ta7cHKpKTefmNAUeQUdwxtMfgiRRWYy6RLnGf+tIi0d6VFQRtjwLPsauz/yQQ9Ze4VtRXVyg4VvrhFHYKAX43kqZZ0b6cUhhst+O/fqX2dVGO11TwUUQJJnW6t52LkhXwTd1wva7JmBTNNOvRrOmmha4bhHG5D3/S9vdF5U7ArcIqkqsA3nQQ2svGizAv6AOmxKTCjIN+PTuzO8/Ic9yDgKdPplkgPOjrx3zMxzyZkghEFZWRY8enfitP+jLHq64M9+2HZkCWKAeinua0UXQPmRtKvaA5I7G1uHSFGIH2iDrRN32n7cyzlpnI3TQNk2sNPphk7x5uT8fYcSMD44BgcyvlG205oYdOdM0mr1OT0Akkrg5IYaODoRSuttbH1/QHBZ9+FdoM3DVTfNel7mLzEuNpbWYFn30uytugwZ1QLGqxHysYFWRqJVFu/X/2fxHwooMqI6/tPT6rRK1iaj9Ficvwtr1J0tvXkzui1/ASVbmGUH+YdGI0ztQCAxYUfbSiNtpiYqdrDvldnxHfiap5NimCoInabwRZ1no4ofC6D1bgdS4bXUfAYFLBdyxRQrAxLqA1XphupnYo5E3pcEse1zfTP4Nfv/p4zBsCQF4wjcoVIwo3TT+EGkKG59IOxgnhipBwDannfrqgnfo94EUrwPMeVJ7mwlGH6UIU8+JMu3HLKOnVFRPMGYIeZG1+nkucmF943i2Q9L8/uKmfp8uAdPCp8J3cFjpXxjV86+4IHjMmikBguZzGQZbo6ASdU2r7nxC5xCUhlIjWH6e25rMDROkuqy0VUos0Vkid7t1IcJn+xPzV2FUErXMjmgq39rlJxIuCHJMTeqpyqIKwLwo269A3YVtrrvi8oo3+Vib2/TR/0psCqJFLGYPPamuKOWYW6NKMeOpxVYNtVZu7nAp6gOjdMRWmddxXkJ0EUyOjO+69dk3QOwUgHWl6wZRk+uNXY+sh2g/6wBcloBAYKAwZH1FOc/hee4wmerqUykJTzrMwuY773bARJz0CTWQEuKFOhIm+Letz40/TPTwvoX2WbpEF/CYocmcU+uAOHHVz8BzqRJgi6JFFjMOe4QkKJNqqhWKg6PIQG+Vg0zkGk06RwUsHebCNpgEun0DwuQGcnXPQDLcbpraDJsByveaOTsEynKdDi2gawak25Hfa21OgLjs6S2LufH8nAVR0djKrlgFqltcXeKq/RO3nOsAV0BKljN5I2bbB550CCasEWhq9KyH57vhVED5nPr/IZ9rrNReNSsM0IBOjsm4VbZqCZonIS3p0OZD5VKI73hVoMgfXINDcr8wNAm3jmsgVUM8FEDqWpzlfujmNj1FM2gsvgZZgVoQ7+Wpdx6yZ6DjUuhBAfPTjnoD6H0U68C6/uwDeCDf/YU7qoHdvOnYswRHf56iI6vKhT00Fqluhcy+PIkfor8udys/2052omTNRvAKdepFTPQrQex8j/L+rHZtRbo4Q8FzHO0LG5RnATrQkyMpTnRkMiESUxH002p0UdD6bSOfkb8pIEYrPtn2ax/wPceKcZOJop9us6IdZE/BEXHdCq0S3A97fLCckZmnKSAWgmmWTcCkSStGo9/X59Q9uqXDdvnZXE9unUDQp8xSl3PoX1Z6EXMdIE8nEUQUVtGFypr4cx8b98XSMa266nQz3Od86tKnD5UIyB0KMa2BYzDlNpSqy52jmhNJ2rDdodKIvBWB/N98L9GjwAiDAmkiXDemIt5hJbwKtaPSVx22HeNefSvG4OYWeh46QJuKeeZ5lwDUeJMw9+i5FtaLBdTtQFKyeHqb15xybVrSKrgrCLAaRp4qftlAnL/2r7hakK+tK25Bh9WkpveskNCrGdaI1HobAgtjc+liiq/9G/5GMJAHVyW+H9BN4xqD3OqBN0eA7bfI/92nXBD4x+k5AB1VBsc75ftZBzctdKsqwp3WkJ5NP4qvAW6d8M/bbppO2LyP1e/1+zvEp6995anuXIbf+fe6J0S3mNbkPm34vt5qRluy3fiOu53/3S0Mw6YM1HWXnWdrzgA7PzaR+d6rAlMH3pDl3QtYnZLu0077e+Rx7j89pHbU44LO3vOUtl+BFaGN6wVe0XX+xQt7kWte2fvjDH34yu+u3Vcg5DxR5tLlepmtwH2cIiII0/Usb0pPBGyPpCjAjsggw1992TbTjY111ZfDyNDCTp127624qKi2UG/P7FPhqxUp0hIpbYnfzRJcuuJtpJWed2ote6lBdE6X5XXbOBDrrsU0OoCaGZqymRnc67WqCTVytabla+eQrkeCoj8mqtpZxmql+Iuo+k9I1f9YvGtrxWy3WHLvWfcdsnYNFgc3ta19LYO3HCs4+/9QGf4MIPWnKwzVQRi7lgVjVyrZZ57c5c3yXQQ0KGQgSjfE8UYi789YaoA3QF45l6kCo1bXx3Di2v1t2jlZh7Dx5T5F2/chu2Ihgc4NDhDnmlvljrooxzeJDj8JZlO0zRDNGfx27umaaLqTJyruBBE1N+ySwULm7TTbjjhBzUwSFUPu+tFWZ4Tg419IBxbpd18n8mgNnVPvKQ5PY9UHx8nizNlpmrXlaYj4R+076GyltUwlIoeFSisJXl8+4KLfr/nZfL/0MXR5Upu8zneSel+ig+1nTjfY4+E7UIqOitzrfK9xK/ArSCvyO+wqdRmttW+vbe1bY+X3N6DJfx2fbcUIlzAuozEXEaGyIHWQPYuohw+Y30Q9XjTg2jC106SEi7qPm4RzeVzPaudaVAj3gH+Z3omTd59423/le72i1c7Po6zT2/a25aifXgqYlY8Z44O5BePOZIILWkfT++x5NL/tt9NiF/fpmXRCuIPP5ggeuda/Eoi6XqBnA4X6RoydXFTXfKb/9bflNPuIZngRmEi1F4c13d+ElwPG0lpM/DAgwIEwypRn5z5WTv2Ch5Z1AWw1/13mZU7vZxb3mt3C9O0289a1vvULPBif03/BigkSA3TBu2922K6x0ZlsYHxfF60+0jk5SBec641dorHa3LgXpnTDzfaOdpzmyTfvbKpNVVKe52mv62eilW+V47qfCxWU8Mpt7eunU119TJ7TMWeWhicLvnjvQow4da+ce5zumJ3SCvwj049x0fEsDd7T7In/jzsOOkYKttFIaE6WIxNzeh3HSD8nnX/iFX3iyekxv6T5jXc2z6TqUCvWCFzdc1Brx/E3X4erLs0/1Jd4h3g1GdSwprm4w6oqgdAde0LVjgqC3Lwj4BwevGfSil0rZO6l6Ivb/F3R2p/n9bOKvuS1CZor5VC6TwZmK5jdnx4gK7+517vbe7qXFswx+CLOdUF4Sk4ymIJWATRTtPuzC/6Iq+7pm5Wq0oi3HoFq8v/ezAmmF3cn03bHe15qOJ5OpSmuFgAmQKBYXJZOewFjh/Db/kGL0U0bUNNI36XYzrhd2Oxw3LsD0MnueZ8v012naj3RieJ8XSAdBxgExuFd8xslP9iK0tsj4VO7Q6yKT/bx1KPgZI8/jbDrEbzymUunT8lyCmpO1GDpvFXo+Q9PO6PJuilA0eUK29Rk+55pwHH33WVpYJCIjRNkuyQX8XGcQgwLPP/nQ9nWnaRzwNuoEsU+fnyunexwAhZjO5KZ69F1t7s4DdfJ7H8TrAJjiAXPUF2Efe/guhWtJKyCcDENwDSaLW614SpXt0HxyonVya0I27K7Acj5OwmZNmruxX6S30ciOcQlsXQi9/m6u/F6Nqw8HoeU+VZh5BpJcsmSSqwqKd02hzoFrU5kH5oxxpl04y/Wb6VtTAXWNIMUzP5ljBBk04qEgLEUiSIB/SjR4QmjPIbWdl/2t83WqZ3nqpPQ6RyImI4IebvNaNsn0c91FrWvnk3eFVDMS7vpd2l7aPCm4Itl9/loKZis4F879133d1z2t3zX6amrLBXLqBHcAVmucJOkywsncODHeav3TIHUwZBZTQ+iIW/Lufa7h7MS5XtDvOBHtl4czgBrMVHb3VDOY3UGXexBk/I4Qk/hlKE8id+tlF+JqWulzkMBKuEuk9tnPMtlGQdc8rfb1upqrixJa3477msknlL5a38+MK6iMcXLbZXOeXMOpKwBihBE9a9W51MlrwMXop+Mo6vJ3kYMBKxnSSLGHqBBVpX32E9OT6/C/MN/uhLE+tQ12nZh8GXjRa82x/n4K/JyQTuvu+K/Z9urszNxnLe1s+6yvc/qcdbV9WcV8Gpc7wd7PpuBANwg25sXdcqnfgJJrSxVsD+Z3CTM7KM81dDW4vxXG9vNpssq8yzBlSlcV2M46rMuMJ8RSjbvObtpnSopoDHjOuydOKyhNY+EFs1LwWXAvdeqfg4nVdNTZY/kopsXoW+oC8kJ2/WyN8J6UxQlJrQ9wfztFd712zYYTkuvc+Zv+GhdK46xGqJuLZLgdheSReiIqaUA/jKkxugRMqnVTQBG3UVAz0g3fG4EX2bt5AfMJQ1CHpx1RD2gbRYRQc885x0nh0Kj0c4jFMVumXfoTSPTzCdlVWNXEa1l/7KmUN04rF1ZB7vyehJP1bmZA/9vPLxKOvlw6ZS6sASGAhMcyMocee2ifrlOful93hZAN6feulaz2l4G7/bbvIr/1CbWDi+ZWePa4utNknZjd8P6mUvQ5Dp65NBQPc6XocBQ1aBqhDZquAtOC/lz25WHIIj3Rn7sh8NnIKKY0AoD28lmBZ2SpbVhzY4VXUVcJck3PMmsJsz7VJdoyAr/pL3TXW0w4T+M2CdREbA/J9WALc4ws+sv0gfEySm2/fV7NKNM1nL8mZbqDq/Nl2g39oC7udaE8cweT4KvBlIVxOg5V0BVUi7JPvHOi29L4qbT+DdYs0ts0Hsud4D2VExCoEm07rFueaB07Bqf+r6A7IX/nn3d4UV+pifquPKCNKCsj3Rdu34nbzvWh3AjEq1NeCS1znnxsazdXY1U7ncybO5O1de3nOzOrdbReEQbf9aV56oztooAW3A3XY7Zc0O+R955v6bjALCI8GddtW8jHQuAxafjhQArVpPrh+N/wuSfheKRfEcTuWOHYnphnx3Ujs/3f79ZPH0E79A1THPSENvUUb5/nDh8qAM1u6aZpNQYEPJMVjewYmjjJOOgqMDfL55jozLtbb7uiwAXuLvjW7+LzXEep8jGoACPJOItCTiZdaWXHvKhsr/W3FQonWu3z11xs2Tr2v9PnvfZFVsEK8hVoW/+p3n2XnhscYh6ISENnzLkpI+6sYw7qUx7aSWD4UAcdRsbnoP/DQoVoNLf3MINZBKNZsXXf2c995v6/DOhntcXJAf7cZCrMkfwKJyM85vZ0Rwj+d4M9D7JwzygYHObAAW42e/05KgC3duEeUA3MxBg5tmZVu+uA6IbPBDVMgAbVoUDMp0LAUbe7G4geKZpzzgWlyFWBqClo6J/PzCdzqx+P/oJi+Ozp37TPLdIhNvf16qG4nT8z2523LlL3mQgvn4kAdz0ixaV4XOe25FzHZ+YSXxlrIYl4i6r1pUqXCjmuR1kwF55TgaJxYfZuaVS0VMRM8fMpUvlcJLOCad0D/W/N0juXQMsKrLtrT8Js30983Lo6Fs+1aYXgtqsrmJQ10Lg0rEtB/uW51w4jDqA3r3lm45hMUAWE6pIRzROlqP4nCB60odRs1GjzqDSbKvRO2qjSv4O1sPhu8E7asfUwKAgCQ95uDW0GdJeM0Ceud6cAPpvwyfi4vAdBxP0yk7ls+swUFK7Fw0z17AS+cz8ICMYDFdM+dwVViMF0IktQJf492wLDm7NHe3DQa8aJmHXQcw/z61bWjAmfeb4OdYSFESaKfaX9XueStc5TfU868TUhNX2bZ+byN35nLGwrbXdHWiOZCinqdwkQypXCAmuEmieUu8sD91KvZzkiKBWaRqoZY8xPBDY7UTjvJyFyAgOnPKul5f1sOQXjKkQrEJbOKXdC5LmywsXynMl6isr7/SSwrW+FWJ/V6wQRLik0sATPeJ4r8+eZCyzXutZyViIW6WwHmWzydoB+Hq4geukpLfzOve6EUQRYs6YJpncDaudKNHcQtsJYzXkqfb47OrgbrIOnP8frqF9UoXA0V6bnJzoRFASS2yaVgdyGBSFA3fhueD4Lhd0uBuGgqcazGFeuB81xmKsIEQHzjne840mg8ZtoRUEAcmTvLfvqWZi0WTPPhcoucUP4IUTd2YBkRvO83Fue/0Bq9LNnG1hvzTQP39D8o+huqDtCRObBJ52jriaoovH8TfqNcGKRt2iPcXVuUADmZRlQcK98rgHxUo8bLfCcL/mSL7nazgG77h9WM2sRif060efS311ZE+/uvxUAr79AsZ/4YIWr9S3KvEN0d7y43/uMDYBsnf6uleK6bXf6Mb1HMAR9/6W/9JcuGr2inHaglW74n0bg3BWNcaQUSX1mKLtOzh0sDaPq2JbQKQYJRGVd2vOcdjjB3bb3NMDrYyhS1E9iAqiZ/s3bEWH6nK73o3+Gjj3swXNBYRpTEbraggkRyXniNRPkvnMGC0weNVmYMYNREToIMZCDKNFFunxGwJi/Y74XbWS+aDuIzq10vE4/EqYyh1t48Cwv5lTmN1rIfNNGk5ad7/phO85G0DXhV6k5r+aOidQ8kk1B2ux/6YbvCF7GzwNGGFvGyI0EzUEz0OP+/FoUfOY3EDB10A76yVh99Vd/9Utf9VVfdfWRsfH8zPLFCZGcmHlpdmn8OUF0MvPurn/9Jo/xpOTLd8srvf453uqz7pDjqb1r0m7boRNoEBnjCe66cdyNRd8pLgaA1pWH5s37ICsQnSi0YEImlookcgjChb8mp5pusGhPM/VFaGw7+6JBu6vjbhL0nampYRzXrynktuh4d683c6nMjdO8sY2MjekbMJ3bEyPMYDKTdlUORvn4zglP5t0gRFwrx3fqQQiRaMg9//E//senjfbcI4xrmWhQHS/ML9olcegbMt3BxFePl3MTQe6B2UFkpma41TmoRgft+n56SIuK0EBK56prLykNZijcJFxozG1/6L/7n7kYmrZzrUtm+N3VIPpj3JZI350bKaKweaZ7/NFPNoPEnwazcD1Cjed5BqUocxnxjn6XljYF6YRcTjyyNH33/+vPZCy8EQBwQn53QnrLqe7Tc0991lXh4nbmhndcAXzuCgb48J/9s3/2uwKu2ep9wG6qWGnqAaY6crdx1mUoXSLaZD2/PyeALCdn64smegeRomNXqOqWNe7wqY+lazxFDZqkJnj6WTNdk9IDWxAg3OOOq7RBQakPCEHHOIKk3N4YJkSA6exmEt1oD0GCn0wFwv8IRlAK9zQy1GBGk44180xhoLjAl7a5mwnCGTQH8yvIzKmzHyoniohXM9HxK9otSi9qaHqGZ1voV/MZnrDu+kzapPl6nZr9mD7D2PQgX+dWZSR6dh0pz9A/pxCGvrkffzHzyWaHXP8VX/EVl4kPelOInqyA5YXS4wkt3QmOkxm4qKjzWt7yupOf6uSn6/fnEODp2fuMOyG17eh/K3B5h2Zcrwl9qwxdNaSvm7m6dl7RvNJftBFMTUMjQ27/a86ZA6eGbnCgBOoSFwnRurfUVNkB7kCcoPLdwC5RaNrQH4gf30oX7dZBXa1rUq+MK/TtJpQ64UFQCAPz/KjHvZsQJO5FxTVupqnwQ/MwQTAME4dA0aHPBPIchB/3fe/3fu9Lb3vb2y5ER9v0XTWauWNXRrK/ziPtMC1EAY/AdJVG0y4o1KUQcww79hulW0bxehFZ00x0RbgrhLTjLrbURRv5bvoG88l46bvVXHZOGT8Et4nM3AuK9ag4F9HLE9AuwuvP/bk/93Tm69vf/vYr2qxZqhLZNKSTQLhTuncCsdecUjzWlfLaCw5Q3nacBOgizLtnta7n0NhJQG99J/6VPpgH5hQFi0XQYAAFQeYuOw+9SQ1gOF0HuBvuqemF+hKd+VeaMlTu4mOuxy9h50x2pMAgEI77jtsh/TEVlkWSHYBTeU7LOJBGY3Wg034Gxn71yDeEh05IhbipFaI2hZZLe9wT361VXMqDQEP78x0GIjud4vmUCDKCBCBHzB23ZcEHxoRSeFZPkHbnCFcfrFLY8ZLpmiDtvHs4Du1x/awJwh1bl3RZ9JEZsVzfywo322Bdtk8hpsnasLzI19PCOg+OvWdPakrXbeAKENeOmk7C/LpqxDMzoF8EG6Ym6Ry8PJrNheHMHY5oUkMY9/XjVricksod9zdiWTx3zYn+X38Dkc47wXT6feu/K9veU30nhHgSiLojmCcUDYrHw3E8XBgewxXydE5F90OqhtWR3b2NRCdOuv4RN5zT2e8J5zDDnqvpukgYhmuAkTvxpjGYeyVC7GBV8tvxDtIpbFyEYqKmDGRirWcWeralqQD1/eisFu46mDBBka7tUrB1KRQ+LRiEFwJOB6hMS8oA6QIe84UfR98b4+3Gf0ZAeY7buHBPx6iuAz67Tk4tZxsZG6OCzVvrmKsMVGrOP6WrRLpfnvO686FQNZvfe/xfxWfhf/fi4n9TU1TIjF3XiIrsDAYY4VX5iJRdh8tn6JGj2ogKu023TOQp4wZ0QNJf9mVf9tJXfuVXXn5l0Jrj2X6eGH7Ho4L/hJqcw5NT/3Tf/2u5E16LqLZsm5/7f9Hg8nKv1WriXX8oFgP8w/yBlBFs7kz8oCYUmksc5jaZ3Om213zWce6umZoCTr5nP3qdkyHC0c/hQQ4dAJNyRWgKEwWrW7wYyt8o0/otmg+0xNFrRFHuvgEaUlO7rZB1VAl4arVozXwm9z0X5bgtOGkAf+Ev/IWXvuVbvuVCqJ5WTeG7u5OC0kAHpAvgx8GPYJoCY819+oJc9O0Bwp5j2v7TbudCf5GMb396erVrIutDFXl1D6yiNAlTOtq8qTs/q6kXzrE+zJ4dqsL1FG59gwYBNP/5X3N09+ly6RTzgTDiGYwjwguTHgSAUGLFAEqGXD/mn2ugCZAAjORpRbSP7Wz+/J//85fZz5wxVwhFGfXkVlkBUaS27pE7IfKc8Nhy50fb8pwgOgnKmtbPIcg7xNdUsbt7pT/okvl01YDnTDBHAhFA0hNCk5CdBJ3eLv40OdSj5XViN3S+hyfUD0YDIA5SD3T2aXYogWU62yTqcD8nD8NAaErA+la810MVHHBL21IzVjPYU7UVLpqi+lkQeCIQhRV9pi0meOp3KTphjBhHBBICC4bjlB2YAMbpWaQGUL7ne77nKRJHAMAVAd2C2v7oV0MIwsiYQSJICuNUxQFT4rvjum7ipyO+BKdgc9kW9Yi+S8Rq0WWCat8qEBGM40kfaLs00RUOFFNfpEHQkQEYEZ6BENqHX9IosmsAFcZGJ43EUwcKGJRFG912HoHG3DFnRj1VeswH9Ts3/+E//Ier/4wpcwt65l754650nE/f19dUk/b3gsZePpiVb/TekyB9ztQ93bPX1JW0qK0CXrnANSgJV+Iw36TSfMd3fMc1/sqHKwjkekGX6OiX6cJjN3dzQbH+NR3PIjEbpXa3cQqhOtJdKqNZVr8Dv7nmrouRFXD6UyA29xg3DcFMeO9pCoXP8p2iQLbN1KEGRmib2W/Oi3a7PjDqcm1Zo7nunuraV7UKuV4IH01PUSf3wBBoekwe7qfAHI5bhbtELwKhLTAQbZX5XdtoQqnIF/OVl1HO7jWvD9M0B5GTEUr76Fw5xxsoWESwCoV36UCkpwBVcFKnaS3uhtKzBPS9brQQxIXfVsZQQZpS5NiYbsO1IGfMR2iK+WfM/v2///eXomOsEF4m4PJd4Uk6C+3BPUCb2FeN+aYuk4/1wZ6c+qfI/YnJ18leF8AKkZefSaloPW/EhFzUuG6fvedu9cCWE/q8q1sk7koBgQN14Gt2/8NrC27RjYmYoCg0GxfrIJbQJHaZv3Zw88pOHeleVh4yqrBqJ0xOhfB4mSKgkDPrvlLcyCqfPWfAgmCQ6Cs01dpGvfR9YVJAgAY0RK49qEGzxgMruNcAgweBQNQMNm3V5yIqlLm41kNh6af+Me4FkYGkSP2gf8wFY+bSH+fBNgnfjfqJeugL9VIn8+oOFV6vYNfcXheAzv71+ZQgl5gd42WOWgA9l0J3RCOFFPqB8GcM3RtL9MbcqCzdnZXiSev1ZZrLZK4h76JBaPK7vuu7Lqc/0UssCPPWPPsAU9R8PJ6HQNPd4Ljpx9RvjCmEH5S98RCGmKL8VzPrJEh2XDsez0UwT+X1G6GyKK3f1/+8wqbo8DlzuNetgK1vdWmo/azPFx5h/plfFBBjy4oZ5gAa4bdrw1aJSNPEdYQ9QceHSfwKGRFQj7myI+vD2YnZrHKv01721B4z4c0y19ywHoma6919wfwgzxrU/9J9x9zRQXRm9nyXWrhzBC8PpkXIVGAomHkhNCgKNxORKc1up50ojob5eYYrLtwB13vNYtdfp9AxDUaz6Iu+6Iuu64i68TtM5coFEZYCuoRTRSVisv3dj59iPfUPVVhVq+/Or85XCb+E61yal8ZvCmD9a5qM9FdlZoTSzx4k0t1TNJ1No3HLb0xMhNw//af/9BJsf+Nv/I2nqCvL/GoiLdMy9ygc+Udlwhh/3/d93xUogKbc7NK5rsLtXDiOKzA6RycBUCFieQ4d3ZmEotkVSM9FYk8C6w557fMXLZ4ErG1y/qBHzEzGnggz9O5B1Yzx0+J0fTgiNrdq8QFOwt1AnSbBIsHKiPWtrOTvKUFqWqONmgoSj/4vfR9GO9T4HozsciOTMGVStTZIUGaiDpy7Cm3NSQYWwmRMeKGlrcM1q0b8fKZbAemDNJXAsTD664JvxwBzRWHOfaIR0jOM6umTZHxI7zB72iPH+I9+UDdtUZCs34IiWur3vUZmKuFVoC3ycI4VYka4+U+3wwoLmbZJoQpX5shIsy4AI+omOPPdMwekO5QHdRnhpD63OmJsmEeEEgqLwAAKi3Mx3Vr9ZLLRLnPyVPRNcUGIMf7m8+keoUCnROY8x1YmrV90fdB36KkCoO17/Q0ECpZnfTn+vWZLXQgFL6d2tO0nk3KFXv2EusMYM5AzCoL5ZKyZn8///M+/+EFQgaB7sCKjiRKGGnuRVjvTDm2O0Zp5dqL5Spvb1AHzVUbUTIBg1LwUTS+IXtPAvLnuxGt73aTSdw8/0UcjvIUI3RGClxoYAnRnWjWuW+ow+K6DVLNB0DWtTHexX0Z/zVB3hwe1EJPJJMJ0tImJgxl51td8zddcz2CffPxtppx02VrHVD+YvjgIQgEmIute8mpI6yvqWsFVhVY/m/8pTBs5bRtr/ppDVn+tyE0BaTCr97r7h87jHvahgvDwFJSV621Zs+nKEdCxSqM0WQZlnOqDhF5MuaFOhBbtxDSiXoQp8wrdQL/42vjdE95xdUhvjn/TWCybu7apMS//PwYK7hDeHUhp2fsWtZ3My9ZtH/TFakVA337H7HfThO/+7u++eJaxZTxRQHwHFV+7bah9K53vnImVvAt/2/kKOJlIAjnl6ZTxTgmKMpaZ8Pzv2YwQkkfEiwK5HoIxWmkbikjciBECgphcBAvxU7+IzgXVRYMm3lK3jnvz6ngW6MhF+RI7v7mTKvcxGbTXaKa7cWp6ipJJqqWAJGAitkmh7cBtGcM1nsJzBQ+lCNx8N4M8RWcn8+FUZLLep0Ytuir6tx2bT9gVKFzncXK2U1cD/4k0Ne2NaLtjiO4Dd+Zw/NwckzlmvIyYM26gaJEAqMrovebqHd0boOF+lRy05Jh6vNy1A8TjOZgINBiS54DC8WniyMY1IEO6i27Pl5XRFyHf8egrh2PkToLl5OvqPSfhdFffXnvKmWupD1c/NOPu/PNZy4j/zFdl7t0XD78ZY6piZgwvO7IpFJX86xzcya0PhtJs/ibjFs7yXmaToXY76Q64QtfnlXE0kxU6ZTo1en1w6/RmAA3h+3+1Or41CgIDgSf6cwNDCoTccwOo09UACCGI380DTRngeoSY69NoOwIKdMCYsAga1EBdwGzuQ+vzP2iMunknxQMmpZ28mHAZyznSV+iZqxS3wTY0LgEugZdwl6jLBA2x9z6d/Sdzo7QHIyuM3GRTOjLn0XWyKj1RrkiOe/nf1BkFePtrjhq/i4hQSO5suwnFJz8PCkpzkXWdOKcRjsyD0Vf+Y+7IJURx0VaEl35QCtFsot5cw95tLK9iLP7rf/2vT1tLdbPRJql3vmzna4PIi4LvENOddbSAZO/bOlVCz0VsnSuT2I3Cu44YfqCP8ARK26Mm6TPzaj4o1/EOv8CzBFy4n/F+aJoDFetfstFtZKGh0rUD20lX8BSNNSrZvCfPVzwhvg0qqHkb/VTL+3zNk06qaEKp37QNGMV7iuR4hhFBBa/BBO4xcmnUF8ZwoTnCj5A/Qkg7H8LmP0xIs/7R4p4xoP8P38B3fud3Pi2cR0AZKLF/PB//j6kIQHIm1h0j9DVRjBh70IT9c2z1BTmXJeYW51OF5D0UBUAF2wYAeo/RYu5TYItmy6S6QfQjMr6mQHQ33gpQETDjzm9uP2Sah0ib55lr1kix9FKEVhcIPkvGlnkCcbmTqgm/tMEdg43UqpAYa4SguZswKsgMM4o5/Nqv/dorMqrP0UNinBOFnAJOhVE+a9l52HISaDXpV+gViVX41RUhT0oH0Dn0p2XDOPEbfUfRQ5cgWZU6PMfYmCYGeCCtBjRG7hmCECXAfybq85wrmi1xm3ktWjIvaGHjdqbRSdGPdSpENAk0BUqI+rwoK9Csl6IQ0w9H493mp+hSZtZXpmmgIFKQ6pzvJFAvxAnB8j8Cw+VN3bHW052oyx1njWh5kHF37kC4Iex4BgwEVDZ6a2Kt+9czhhA26IxrPYBEQWH6C9/RZNxP7hpCkr6KQLxef1rNUfustux22PWVLtGLiBUo3WW4iHsVG0Xi1pTzRCj3JhMdN/IrKnf5kkSrUDeRmjarJF2GZ59tC0KF69Hu9kPkg/+Ktqi0qqwtfnZc/axQ8fBiTSeeYVBIGlUg8RlkTTKv26vTFs8zQPBxrwEg0CDKypw36aZ8Ur/wm3JaelHWztX63k5KbC0zebrz6eJ8I/mODWOOcCaBHDQKvbq/H2MCoqWf+oXhC+aCOWIsFHjsdPJn/syfeZJL1GPk3oO/jXRf+6E5yA7CyfyrgHHCi6Ksp9Eal9LoqK0J4OCYlFt/jBGwooU6ivnPHVBNsah2EZUZnhdJdbNFVx3wcudZrmfAMes0YxWMmq1cKwKz//yGgMMElLk085hU7mOCPHoL4qTwWROR5/M/qI5JZJuab/qmb7pQmtv2mESsLwkBiplJAEGTyi2KXT/qWtAKq51XmV8BUQZ2XEXsDWZozjpnTSvQTVChJO1AkKa2MAZ8ruJkHqQBhbfJ0675VDCbDNzEYcef53Ed80mdjC3voGWFIvOiuaKCbNsdiyoB3AjMv2NLMWjkGHGPideNGjNnIDuWtLmjLm3QnYFiRDFhiiLsQDWYo4wVZhh1uwuLy/MMgvz2I5+5BT5Oc9NsPGneDVede1OYTO42cbUrX9wIVF+j/eD60qNLBmk/fYIuQVK8QKX0GSFO2xgbFLcKhWuoi3vYQYbvgAC3/McMp63US5/djl6a0Hy98tDUgCZ62tlFYC3VoiV8tUV9JzK5QsBF0SIuiVQCFMVJ5DpZFWoyTFFi7fUyj9q/aFM0575k7oPFZ4QBBGsek+khvCAqd7XQl2K7r90yHx6eUgN8rtnNFP6DOBkDknK7RbdRMz6jzf7sn/2zF+HjSzHT3z6QACpiMdu9WyIpTNeBW01dYaDy2LmsRi66dvlVFd/Ohb/VBBU9mjhdNObz1+/jGr4ynsmxIlDPMfBAk0ZmdSUgxOgDSADEYzI188l/BmREaU38bVqCfj7axNyoKFyl4lmuvJx3hS9tQoG5VAt6+rZv+7aLL7pHPuOE8BWZIwTwv5n7ifnlFkrusqvF8dpjFgD9FBG5bbhRQ5GcxRwulCOoyV1eeNEu7vP80prC8sB/+k//6RoDxpF5pY/ci2L+F//iX7z0d/7O37m2yHZHa4N4RvZNtMeHSD//3b/7d5cwA93BiwhD+uOzf+iHfugaKxUQBUF38bQmj2hKJ+36U9b0VBNKWDX5atN3VwSIR+FIY0yQpShQJKLW5ZFwfNan4mJ5D/hVe5g7pGZxApuVroZypUL9cAoBc57UehTzzEzJ6BIatI671lKHEVj6yeRDXEwKzMeE207+N3XAzRrRchAP4WjahLY2sucurGbEMzZGhjx1S0FV4b3RxqKuLmda1N35NgDTaLWv1t2oHHPDuNBG6vUQFv2F62iuL9Tne3BJ26Ii0pwrTTo3okcKTESdRr1bn37ZDTo1sNTxtG27E4k0p0CTnhxf6U+aNoHd5F4R2r/+1//64hX8SowXyMw8OmjI800xTVGkFNDK66+/fiEZkRjIBlpFOLjfHr9r2krPCj38eNAZwpTxAkFxH3NHH/hfdw1tQPiQzK27iucZeEJZ0ybajMBlDmmr64YFNNTB2CD8eDZpSPQboWV6FN+lDVM1QHVNDdICvHbbEN5rC5+0r0TqhFSA1CyUOIu4HDTD2zYADcNgIZ2tU3RTRuF6fUklaJ3IwmOd4Ca2igLqwyhRGUGjDwr2LrzWRKVuHcmWRu6YPFGDJyDhfxMpYEoCpWFAstFZawgiYGL0O/BibPgPrfvN3/zNl2Y2KdPdNtDmbM0NkTDREBTPgBE0nZ0zx2p9J/ZDM9w+O1aiGv2eJjJ3xUGZu74Y5865Zx5EL65vrWCSkXUBFA2J2pxj+9dj5TzQxkCNqMa5ZLz0depD3P3RTAWSdkvz9Q02qm+AyP9N2+nYi5odN/tXfzX+IurWbwvD4rpgzol0g8b5n3aqwGF+aAS+QQCgAFGYH/rQh57SQowM80wQqf1mFQmoh/8YK7exQtjos0KgyW88h36684hnpRqwcf2wCBw64X6ud9UEO5IgmPnddc3MC7416uIens0ONC4X8yAeE527SQI84ry55T38cSFPc61ENTUb7yIk9ZfpVK6WpUjE7kvlNi8NWxuiV5vq16hZpH9ER64EI+N4NFz3TnONnXUpxCRihW0DBUVtmsEiIbVJhRn9cjmLx9UrHPSHuHQKM9O6gPUKsp4TqUB0qZVmh1sPgdIgQuqHkJlQTFOIjAl3LWvNRoVGnboVQMu0mkEKd4WY86lCacJp6zYI4zyKyHScn5zLLv63PRW+DTqoLDWXVEb2xXm1LvvKvLipo3ltmj0wI+0F6ewOIrZHOi/K76tt87nWob9JBz7MrBDUKtLVAxrif9svvUETCCTowBO26D+KDOH0j//xP75Qjnu1fezjSglzKVUMnjBPm4wKQk8+G8EqykNZypvQsNFxhBvFczKwNhDECB39waZPIXgxjQUf9Athy3NFiKBNBCpzQF1ciysGGsT0pR2CBHgGPoQnXNoGX3EP7aKua2zUpDpdS3gtS2yaH82TEV2p1dXQLv+AoDz1Gqb0rL0mAu4zFaBFGDV/FQSiSjP/3VbHXCuFleZxhbJ9cCx6MK7mhYhMHx8TaKJst9/hN67FTJDJmDSezYBDQE3xgEh5nlsEuWEdBMY1TBz3iVQkct8hKO4BEVK3/7V0XIsy6tupkHMuNeFOc1A0rpmpr7Q7rehv89n6uSBidxFZYVC3hajMPd6a69ZAkUISmlKQKHS4zoNfnFs+u6uHG0ba5hVoa4I7duWLk1tG9M28MM/QAc81EAGt0C+YlfEwyEN/PFtV3xdRbJzqMDPfQTK0GwsHdKKP89VXX33aoYRngdx4B83zWdrjOgNV/I8wwmcLvxBR5DnMD9ci8OgHznra6AoHTVuPaNSthM8Li4E2034QFfVCpyp9hJWCTeGvuwSUiIBjrtzsge88w6VQjA3yhzrgD555mZyrwZ0kCbVHi/naDF+FiZrYHBPuc08qJC6fFUDdAtlnSxCau5oSmjZ3RVOpptP6gporoz/IaxVmmlNokvpQWh9CR03lkimIicHmGqNLbpHNc5hc7mUiRJUQd0PYTJDCnwlCoBmRg9i51hO+VQTch0DDnIUwu3C8SOMu5O6YOG5cU+Z2XEobzpHjZeIjjCVResxb560+se6yoiJzvNd/5u/WI51Jm7yLdBW+zI8IQiTvLhjU4+ai9eF1nPq5/jZpyYBSBd4GYBw/fZvMaZ+FWckcmgOpImCeWUWg38pzbmkvzvV/8k/+ydNW9/AUyJ02ILA+8LiNvLQNgtGCAC3RRlA979CiAqKBDcYJWlJ5yjPQtYEVnocCdcMHd8VBSCEAjaq6VxmCzfxIZAB1wWN1L/DST4gwh/4xjakP+nbXGeid+7hWYUffaDvPvxan17RsQEDnu0WNybvLStRUMKOnBNFoOu9J6zCpmfNeX8guc7jmsmFlkcD6gVbI1TFdBtLnsoPnc9SeojQ0lblr/Ka5q+CBwITcTKLLlhS+9J/7IGAjYu4Qy/hAMIyLY8w4yWxoaiYeTeZBHxA5MJvrYMRrV85HZuIa9+SibW55tIvLT+ihiMT5bHSwkWNRbQWjUWjGgOcbwRPd7Zpg88YYD9ujMGh006KibZTRejSJjZA5vz3flPo0kblOBoU2iy53PBqk2DGsQrfdVb6tTyVv5Bx6MILNPMGkONGhFwQIAoLfKTAoc2s+G+3F32QOH/RK3dzHjiC0QzfGa4/jBd8h5LjnG7/xGy86pl6eZ34jv7l0i+fwHzQKremTMnrKfHrWBcqY5Xg+j7byLANcplKYSE7dRjLdIBaT+du//duv8QEBam3AJ8wRz0GY/bW/9tcuZMjYkHSMzCGHT7+dRw0aIb4Wp6sl9RGUqCiiMAfXnBf9Xk4sDQVeMjmabjC/nxuNKpKQUI1y1qw5+fAqmBaFlQA1DayzW4zLTDAjA+/W1eaMeUSc/i0Kg+gp65p4RvCE827T7NpSNEvNNybU5EcEFkJAc9L+6mAWnjPO1O8GgvqCqAMi453/3dhRU04ksWNYpFRm1C/VTTFrUjZ67dKTOrlX+Yie3I9sI5L14SkgFCIqqEayHAt+Mxm15jGf3VJcgSpqQ+kwb4s46689CfznvmtOrznuGHuUHvTA/2746CJ2zDeYVkGmrwoGhnaYR/xaplsQDNIxDs1JM24V/8mf/MkXLasY8bHxDASOW7RDL27BBM04byA9d3CheGQg4w7yQWhQ+N/sBIUgfaK/pGbQV8aF8aY/IFFWQpgXiTBGQYPaaAvtNILJd9pE4XfGgT4RsNAVgqD9i3/xLz4l6gokXDr3hNCauyUhakLKGDroIWTXwZl7AqPCoJhX/Cdxiuj0b+k8r8nTbbMl/hJRmauCUOIv2ttARn1fMpMpEi63kvg9hYq+GCgwwifTiODczNGTxUGoHnpiLpDnlzK5EDGEwe+s/XO1AULKBErGVbNPgQYRUqfBCU9IV+gw5gZEZJQKlRViVV4iufrQimQ7BwoL2m3QgzpN4m1qQ/1xCjsF1wnN2L4VaLoRTCcSyZkqpGKgdMWIilkHPDTaAMIKqJNQq093zVJpt7S8iM4xY05YsmMqA8zpbsW6CHSkw5QNtDGXONw15+kvtOnKAYQHaN5I6avZQBS6xK+k3xLEA30ZdeY5HmztAc3W4QE4mpfQLAJGWjPwQDCC+vDtcdA1wSnQlnwN3ULXP/ZjP/a0TZe0TV/5rh+eAn8g0Hkec2ZgzFQf+uuSMk/eclfpp0OmTXz0VUIWNmtqCVH5nYa77ECfGRW6OPdEODKLHZaQha41dYoKapbWp7WITGKzDuusYHPCGBy1E9d5th8aR2c8/aMvHkqi0ONatR9aRX8EfYLA3OEBQnNfN8PYaCxhOURhWBxUSH30w3WLoiYdsPUpGoTgGtrmEhrX41aoiJyaVyXTq1Ce8we5G4lLTmgngt11rnUN1OfUnK2aj6fUjLa3Jj6lKzlss9skeU1z6RwnTdDtV4X9G0FqK6wcO+n1dJ0CFxrinAFLI9rSMwLP8wrkR8dUWmF+YVpMO5ideqEllKLpL2/KYSGuZOA5XCsCpk541XocN312PBfht3mj+tJU7loI5sGRYgLvIBdoE8KJ76Sd1A+u/4//TLfShYDVY0CEouByr8Buvw9vmVyskr/ucYI0zWRwzSBRilEZCASt4cJqicMKO7kL72vS6l+ob8ZO+7n/8zxD2RVEZbzWUaHmRLmo233HXBTPbwwcMJgCMTCpXM9vDqr+KQazKJNC29wM0nWDRohMTeB+s8k1l3iWPjkmyCRSERqfaZ91iJhlXBGP/p0mhYo+FSIqiDJfo5MKJ5nJNAyIEA3touu6AhRW5mVRvMYlTfXXSQf9XkVXJKeg0+TXLeGcGpARfWlCM2cNMvis0tqW/e0uWNCxF9Gc6tC10TWX3MtYEsWDoeUpNw51jzv91tzf3ZldLuZ+djj9MUP5z4TzT/iET7jGRZcIQs8DlM0J5Tn6HN3Xj3pBUghOU28oXIPVJbhREWupuP0WdeLo55k8m3oQ1LRZoexBQzzTw6sNLLikC17QTaWV6M42HgAN7xJw0Drw9LPHwMr/n2/mBBiR4AaPiZKIuFnJ7wM3CiTTyJgKk6IFr5Wxq70VotahzW8OkakS7kRg3tku6WjirOYa97uEyeeZl8Nn/qPPvLge2C46U/hxr3a76QR1XLuThtFcs9NBY5gKJA7q0Lc+iECT1GTDChrRwPrDfLZRYx3HjeAp1NSqZdqtU3+Gu4boS3TxeAWkApOXAlDkVMFbN4HfFV5tS83hCojmEOKvYZwYf1dWwKyaHvQPJeIaw3VVLPq8MytPQs/xEe0o0BZd6q91I4MiNz7TboQR88935rxIlzFUkTgWoGN+g264hnEAZTk+WgW/9Eu/dAk1nO4IHRjf9Z2OIQpXk1DXkWkgChvPtzCiDj+YAIwS4dkENqBlN2CEtlnKhSlKAALXiiYtNO4aV880NfDmkjauIcLLfMJ7zKljLOo27YSxsk9uF3/RIIPkeZqmCeDI5gYks9FMCZDrm3dUghA5aU5qxpa5GmE0R0wfi45UT9fRtq7vy1UHXCvzu72xEckyeduCpO8+8y46lwg9T1HnupMq4WhWKnBL+LxTN9fSPrQIxYW7Ji9KgAoI2m7KhxqwpnIFUp3yMrnIxNPEO158lyhVJidkWzTrWHmGgT5SI9oyXf2YXUJWIalQq+BoCo1jqHCsUHEMzCfUtETz0yZTXKgHi4H2alEYGKhwKlorHVYIrVDbskJORHzyodVnXDSrMKDN+IfMvOdlAin95RoYmmIknDoRItAXNIoVAc3pz/3wo7L2WEaDDtbr6gH3a4PPRVgGr3DF6Ce3Xk09+cAkW8Yak5O2uzWQy7MIMnD+LM8HkXKNssSUGeZUunU9qYoXoch3V9TQXj4TdHQ/QXjMIIKBsgejDCIhEQcD6HYom68j8Tfy5do6zY6G/UukJuTyuydW+90VBTzTnV9BLrSJDrubgRFVkZ+rDepfEU2o8WXE7hog0RM51BHryVe0Te1WPxLogLahxUrk2vbc49IrCJHfjXQ5kQoz20WdprXggxNh6EC1H27wV7Nw0ZhOc4VFgzvrI1VYOv60323ETU4+FRfSi0KajC1zNzjR5ynoHLMW6aU05fkStMXNMtfPxjX4qUx4XhS7KT0n4fR7EWZ1b6jUSwdeo+9JPhFlM7Y40qHbb/iGb7hMNZNuSc8wO8AF2Z5kJuNDV/TTbah0xr/jHe+4hI3OcvjX+XcliQEx5hlzFBpDUFG3KS8efm0gy4X8CEme7wYNzIUBBMAPQoXzZqF3no3JyXN4toqINZr2C952bikKQ55Df0RejBloE76jPYw1/xPxNKn3ySXTNXTavIZuG/KvX0rmV6CoYZtsKCFVyOi41OSTaEVRDLgRNAaHwXBzvG6D7TbHths4zKCrFd1i2l1k3c1DE8lERrf3YSIdPIjCEDATrjAwdwzhx2T1+Q3fq5XtH8+nPQo0EauJxzo2mTBeRoMgSrRxEa2JpKIX61L41eQu6lqhcrfuUoFgMrRhfetyzPR9eOLX+krNa1vT0bZ03GxLUx8Ueq4EMAjhOtUiOpfYVfCs8FnB9HtFY4sy/V/U7PfW6bi47xp+PU/kgrERwAgEkAgFZekJUeY6GuCBhqA/+FP0bNqP6UHrKH85G1sqyPjdQ69dVcFzaZNIx2MUXZnAu35k+IFrv/zLv/yiBZATOWHsV8bzWR2DFeSWWYwBiMq1mQpNhJLRU8xUcy6hOebbKD7jh4I300A+oB/4IBk763N10uVDczL0g1SjiYiaXV6UJcF7rxqLgXPBMJ1hEHXqicwkZAnUCA33ubUOkwd87YZ8OtwZCBP3ZMj6YHRU9wxHs8Xd44mC4EQAuRU3E6LJqqBws0cG0N1nXfhM24yGmq7hQnwFhwTKdwSiybL4OqjDoAG/cw2LjhkDM/dVHEUEMpBmqvNRM2eZ0O/2v+aS6MdxrFBsYEG06LOLWBRodSJrLtaMVuD1PudOIYFgJYHTbYcqXBpsWKTXflfIvMhfdhL8d98dj/psW4c8JKonAdaoIY58GNR1uggR6NlcLOYGgcf1nkzlKhvm1y2IGFfXSru1z+9/XHngki4VqlZOFQPfQUSeSO7aY57nygP6iKCEVvGJqXCZPxCzO19I8woW7oWPuIaXSMptfvTBy/M+m52aeaZnyGr6KqS9Dr7XZaV//5JBpwm2yIxGnHR4q5n8zzqYQBrtekWYH6bkGhtQZlnfjXUxyNTNALJzK4Pjob36hQzZKwzKKNSneSZziMwaWWOgEECe+8hvEBTtY6KYWAWvzM8kGb2DCF0P6IStTwli4f7ufaZjVHOWtgrR/Q/NZDChc+R4OReiJAnphCQq/KjfU6lMiNbNYPChTOszbL+pG03FsE0VrE0/0NSS6OgXhNr0Egv/a5pD6DCPvrETulqHe2mx/50E2wqhU/DirtjX9Um2HueS/cJQVGS9S/OYTPjRTGaFSUkWhQ4YY7aaBhmBcBgH7kG4w0cgE0AC/7vCBsvh137t1662KMB899g+igvB2XtMHxt9YZ55BjRJO4yKeu4lvIDyNQWF/vBMN2ikTfjTroNKHh4uJIfgBtUZEXWpH/NPP/mf8QNQcC9tYuzYQw0ex5Qu7UhvRttdv8pYPGUwyNzd+qTmSH0hmgCaG6Irc6RkYI9dc6D0L+mQt76F8kUQ3Ke9zDOR2JiWDLiOQjP56zORgZoeUo1kf7mHiXVnCwjPsy2NMBk4oL9usojmMsG0fiyfZ36RAw0xQbg8TwHFGKG1+M0TnhCkXGd0EV8DUJ4+ewakqEChWWRdn+WiGQMsmsDUBREqPLqaoshHZWCUt4JONK7g6o4lrpXtfmDSg0tUKPpf+jzrVPieyh3SWmG+zvqTgDopgDdS2oaiZ2mOF/PIzsPQK9FBkk+51jQEfmcM8KGxMBwUR7QRJzrRQu7Xr2UyLnTI//CDkXHo1617PvCBD1zj6CEtmosu70Po1deoOeeYY8rRVmjXLZc8wBuF6+oF3Sa0W/ORuUVIQcvMsUuaqNPNFmgzNIepid+N3xGO7ONGPQQSGEtToBxjgIVLqxh71+kaMDHCf+2H1l0yJEZNteYdFe7D0Ao1CN49802roLMU/Vk64csYDSq0dM0eQkZkZ5u0pxmMbsxnfW0nhGMukITN/ZqMLg2RYOqfUSCb8oHwMaCgxmBAyxwU/RaMqxs/ulTHU55cwO2iWx2tTDhakRcTjhasE938NNq7e7QtulAxuZEfglHkqRNVZhSdmaSp8OGz6zZNcO3nBjlsQxlbxncRu2aGgQMj186L+YmuIbQvi7p+L079k8Bq3UVmb1SgNfKuMOv80zeQGcyNAEBQ4W8i3UIfLvchcJgHfmfMoSeuhWHJC2syrLylXxn6xZqhHsb00z7t0y6lqClIX1w76bu8iTBF6CBYECjQKfdr2rrTsqkWvEzJgYb5H0HMb/jaQGGgN/kEWnNfNq4zmmvgy+x/+smzcSuB6kxbEcnxmbGhMC5aT9KzWQoI/isSbEKs2f5Oik74IikmwfMreTADIEPznd8ND0vQvb9lTUEZQV+cRGIkTSTlrgQ+S4EjwnDplEhSZjb6aq6NQgomQjAqCLsAWeZF+DABTIqZ2UzCpj+UKUwgRKsZyaEfMjb3MvHUQ3vNUTMrHC3JZpDMj1HXroF9Dr10naQEjCbnO4TNS59KTVH761KS+rfq0DeXTWGm2aMw8rt1qzBNW1DzN3dPpaMPcv2Fa2qehM+is03V6H3Pma7PFRWF5qa03jqkWeYQocTnv/t3/+5Lf/tv/+1rN1r6io+UNY46/BkDGJdAkJuDGt2Ubt2lGXqCHjThHN9XHzcTxWnvhpEIKFATtMZ/ziV0z3cQFnUaZEDYuPU8tAuPq1zMORXRu8SRdvJuMM15cK23+a2MG32Gj6BpZQb8B00KMrje3DfaSL3wBrJGc9Wt+N2JxNU8D6c9tJpjpa/GfayQxEBJIyf6Qly2U83XBEyKRM31bh5Y53MZx6KPTGegaRVAT00miIJ2ebI4dXCPOTabw9WlWWYka+roxOYej5YTvWJuMpj4BVaAmT9jHzQ7NeU9wMPJgIgZZzQs/XKHAxEvPgWEEEtK3IlBn9sqmmVSF4TzPEwN3tHa5hfpy+L6BoHUxt0Kqom4Fl0ROqW7dEq/puirCMxoNWNp1Jh5hNg9XXxz3Nq3Leuu6Puiu/3vrs43Wk7+xtIwY8mOw5hbMCMuBITHX/7Lf/lCavpw2QmDcYG23IaKeYbGmC/3DOPdsxMYN5mfcWMOTDp+5ZVXrtQPBIL3US8CzSCdeWXMBcIPKwBrAMUHDZoG8a3f+q1X1N/92+ivu2xcW/U8mtYuAfTEM/jQOQe9qdzc1IIzA0Bz5tOxtTftg9YQbgIatxnvkksipghoxhUe8dAU+vZX/spf+d3F6c2PkgkN6xrV0EyhEUhuGuBp3evDkmjW8W/OGdfo/+q++Jq2auYSn5rAfDcZSwe5O2u6ikHmEll2WY/OUgUcg+Wp6aJEiprQ53oyzjqa6xD3u2azS8Rkbn2AFPd/oh4mU7MXYnQLJgjHheGa+Mu0tlm0BFExDuYcmZwqCnK+RHJNu3FBt8qoQrr+yPryTrtONPrpeuDOrYGJKgwXZzeS3oj7IrA7oVZBtv7ZF5mV9YfeBRL0CzZq63jyH0oD4YAbxvM0UCzUBx9xLwIE5mSPM49EVBFxPU52lF03L9AvyVyiwBGS0Bf1MIaf8imf8uTrcoxpB4zP9cx/d9ggzYK5M7rPZ4QLc4yARZhgwgISNDEpCC9dFfhijaYijPADuqCe+XQnW5f20X8TpqFphKkHPWP6IqiUEwpp9wjkeZidrA81WVfrSz/ig9DNSaThDDBSF61OAyjmrFB09Nf0WY0nk5n4SKNgUDqndgCtGLlkkBUotGn9XgoWOobGK/rT10UdLinSNDKqpoAREntvTZ/mZO3GkusnafGaNZFUDhAVRM54MoFqO653PSJF3yUCj74Q5enZk2tq+hxNH/6DINyWSJ9g+9J8OdtsNK6+TNvuovDuBKsQ05zoEqAi7q4v1RRlvjGrJHaulQYozDuMDG3Qbo+cs94KqDr9T362FVS9z9+eQ357bee6gYvSlk58lwmShuDOGgg1EQUvBAY0wTIhTDHGl6jmdQL4w8OlaNlCh/HQtQNvMrcIHMYNvxOCgHa9+TFnSxNeC4BCXQgi/Ze0Dz5CwLmeE38ev/GZfkB/1OlcGmyAPvmO0EXgEBXV/KSdXO+RivTXtC3+d0NJBJg+OWWJrh34hT7xP7zsCgjup1436KSt7kvIfSDf6xg70YUhXSQ6v6MBPL27yKXJhDJU/WSiO5GTCYMMKAOp2VMBQ2foQBlHQuLZ3KMzfIsDrc9Oc9i6axJxjQmuChXNVlNBjNYpNA2UFOXZtmUUx4b+uH87ROuJ5bwgRv2RCGiucwGxgRBejL37YulEXUZUITVqCRG55o8+KagV5EZweZ6CTpeCfWjemW4HlYdnQOj77GEhMrljwjXmvDEnCqsGGEoz3g9j0MZG31cgPYfcTmO1/z/ng+tvW6fuCfvpXl/0EYXlVt8Kb3hK36kRQMaT+cesIz1JXoH3TGqWZhAYIHVPUXJnWugKusBfZpT+4x/P2PAkMHeQQcmRAsVv5p65MwZoBzoE6dFWlzVpmlqPu9SaZsS4uGmjwhWB7LpNl6UhyKF5fuPZoDj+47n0kX6Z3uTaZurH3QI/mKKim4YXpjLXEw32qMcrXUwmFRlp0tEJz6Y8rblbprbjTCT3u3DYRaj4BCjd18rrabwbH+rPW8GhT6dOR4lLRKYgkkGKrnzXFHIPseZ06WCtkJap7fu+SviiHduiMFLIQlRqMsYV/wLjg7B3F1HNN4ibOhU6GxDQv6WP0WCCu+PazxYjtF0hYbu7jKopIfozOp6ObwV+8xH9z+vduBBGbIDA601gdgsl2+m4bp7X77W80ejlSXitMKxfT7qs+0LHOOhGk4ni4SbuGYjgQKAYDOCd36EDfG0GdDCvGD83ENUvjNDRF2n0/dXHU7DMYdSXRVv+y3/5L5dQJJcMkxTz8W1ve9vVdp5LW/mdOXI1DHxFf/idZ6PEjM4j3KgXAYQgBC2ZD+m4cY97AWJW8j9IlHvpu/mF3blHPx++OvrD6Wf48VTKbr8FOiStib4SeCFKekU5JXSIBilnNu+G4k9OV++jYQy+mxEatemGg13SpOSX8M1jq+DwGT5TdFWCq4ZU2BVFdimWQrm77TafSkamGBioX2jNzQo0USCvOtbdftxDYdCUPBtCM0IMYdF+D4N1624jSS5upxjc4LuHWFC41yPL6g5owIL+MK/UyTy77Y7RyfoDi+ZqOjquJ79Wx8rnuhbVXSc8IEf/HteIIE1QrrlaGqhQeSOC6LnfT//fob3S/ipGr4e2HTP3OgOFeNgNCIX+64ui/64/9vR4ruU6d8vgGpzfCB1NWZOMeRYKQpopH3zocasnU0d4Ln4n6tF1YFCNZyKMTM+BL0F7CAsVPHMD2LA+nucWQdThDiAeeye/S6sm1dIOxoJggIrQo+q4Dp7Q2kCAItDYARfE903f9E1PuaAeVq7/HXnD+lF26aA8LPp4ziEqY2vKaHvDmEBpGkSEhd+NHjIoPBRp7nKoFQplnm1Pn1tCc1BkJgVXfUP6bnTgWocpChaZWi3RZF2FS8elgY76d0RlCgBz88wJYsKZoP+vtXt3ue5Lyz1P7f4FTW+xha5OBENDM4NCQcVDIAb6F5qamAmiQmEgpoKggaHSIAYmhQiNdFfzXfv9vH3VcMz1PG+5ByzWac4xx+Ee17jPI4Lrt05H50RocmUQ8TxcmEXf964T/B6RrOvKyY3Ut+pe44Oxpl9jPCFKrQ7QZ7rQFa03L90J/hwynbuwYEx0lUSTrnDp4dRjPXFYT0B0+/287yOu7Yljw9XrO4uu620gbVYtTplbpLLqvza3wKv+J4a12Qg9o1eVQkcKH/psmY7bMB0U0uuf//mfXwBiMw7wuj9R0LhvcHmimhjh7m+TjduLhvmD2cBqo1RiVDD1jzeBttpYlT477UmWW8YP3FntYe0WR9zYOEeBhR7j1H1O0WoMWFRf2WyJaWTTEzg0yiQ67LT/HCGFQ+maEBRi07XI91QjTuJfvdtNN+XzKty1aQuW+OxP99YOrgSVzW1f4bhroS6hr+HhJHAuD8Q1Tq8MHPR+9VtapMSJxidrUgScGT/Fb3UEdHbrfc6ejlVdjCObR+5cnKzJgar8//JIGdfdPBawvdZIsA7XPP21cRMMrIjKytr8U/zzgaIn2wXwjpsCJnvNyV3tdZ8pS2cfXeddG2yQqy/cNgY6iUEpt9vEGnvJEhLp5BWME2luqAG6poUaR0YhX0lcjIb6vXGVyWIt9T/60Y++bs6Na4r4niH9NuNUoFe7+124VPQUaKWbqg/E2D7LbCP8kW44JkYuv0TI9IGYCNIX4yKn4IwkPat+c3rvPS6S+iFaicbT4fMrNfY2h+qXVLU103gmOr84tCfOA8GLCmAxbKDI0pKwNdj0Hyb25s5h9/ZicSMyngtLWXGwsosYN0GBvA69G3OnfytmIky6nTUK6MvGZvp+9kP2TJZFhooIq5cTn+R8igj6TZQCEFzHU+crMkkLd2lS5Vs7FzAP/+arnRmQ9Iy16BrjBcRTN7obz4qlT0Bip+8eXOVaP3EIFMzOrTz7oS173z731u/t02cA7TNc3+3a5VhPcMX5Npct9IArWoqzwcXIApNoR3eYIaB5oquysWEcGHi4tRDf+726WTIrxr1rnAdbW4BU9FHd3ClwSQLlo78U8IFF7ZH5ItrbzMop7BkDmsc26k5lEg0TWOL2uo6ejKtOdROve3bAFliHIeGL8z2ok1g7V3LBLVZwal+zbawfFSCqsQYg0UYYk3xNFPIrop26m8ouFqB1EyNPF5AlZGwq+XmV9gK0lZ6x3CaRcwHo5ED2GgrNG7eiD0DProE4/FbBZteOiBEbL/9/u65MA1IRc5Wga8Lp2EQ2D5y52vkjYrImJ4Y0j7H67fiK8V2H4y2rw+ICw5/M7945zHKTWdHSNQ7GCMjasXe+dsxuv910XU/ls9zZ7foT5N5xfueGveBW/1n3AxxnPrRmiO5tbCnSA4Y4nebGphM9x9k5a4BIZSNo7AKraCe6qIgJ/r++hDFxgeq3OOGsjPwtxQZL1cN9gsNsz5RqvzbXTpEx1ZdVtrkOSOkDEw8bg3R1tUu8Kr83QBitxK32/Yc//OGrP93HONhnBgRnz/LAIJJnBGj8uP2QRl7B6acuqorjHHiv98AazDGWRXADizcEZH2iVpG+wLC6EQ6rywGdxIvrAJ5LPCs2LegANNyfBbanzHBUXKU3rm5dN1a8ILoux9l3vkPdT7T1TP3EqpuYCIsTpNjNCKHdTdRA1/HB2Tbt4trncn1oA5IoshAq6crPRXvq0NYXTyTHLuITAHp2/YjwGXxOY5IcRV8QvAAAQStJREFUahyHd36XFpZOnoDp5CJvwHNee+Pwnri7rdOGuWV1vque2PsYoagpJEGIi5E6iuGttda8JJ623lgGW/xx4dEM0bO65H9r3rKOCtru+l/6pV961VPdNtAALGDoWuPfJsd1Q4wn8U3ygt/+7d9+rf3ua/33ih5qe4BSX+oTx+/oJZBJKggMJZYkSqKt9G580XLbkKIo40QlTo4oWjuI4tFY49KrZ2f5FM+sr69xx5X0UAcStJuEkgDO8WosC5Se/cYBdlPQULrbWexmHOI25ElZ95F1v1g2ek/y5g9FbNSPFSN95uGvLaybxAPcx/qaVXZhItjdABTnC4jVBKLAoh26Otvxql8oUwTYZAVelKURI4A0DpTxuOntiwQCzVeESo/X/Rx064fYzFs8qPnE5S0B7kI9rXsWtMgMIgHrW9e2WCPSOJWN7zxBYj+f15wgtkD1Tge295zAdoLqXv/Eme09aOwE+dUjtvC5PzQ2HF8DIQeR0BlJZtpaaw0W69k9RK+u7TocFcmkOW+9ci792Z/92a8WYwkI8oUL6NLl9ZuEiiKErC0qFznJWEN7/ma0iGPDJGhDdNtcixmOxtuseyaDSDQQ9+YUeVETjaXg9Z7LfUl6JXp34VHO6yCS8ul86c1XZwYghOj0EOE0CyKIe10viEHM1q5l7nUKNMBaF4tT3D05NfURv1YpC+QQh/r2JCBxlBazFNUAcDkRurrVJxrQp8VIDBMMvwsIp2M3Ea8XcQbwDoAR+hJRRhx8hc5FtlwfLq86IlK763KgfAqN22mtPRXy5nR1jgt8xr15dnyYo9KcOA/s6ouzW7XpLCuavhMXn0DsW0VM96DFrReY38DzbMe6S+zYkVCa3xZ6/X8pq79soOnVWsgALQDrd8aBOCeSTBveH//xH79AIm6bdNCYt4FJ7ti1iXz/yxc/tOale3GKArcDFFEKAYscgM1ZcxXgBkD8R+n44rgCWSm/W8sp7H/lV37lRdcBDwYmLq3SJp04nXQQEFUv5/naFefW80up1P2r0ujero8LC4ydjB649t4YNbYMJ41N/mmvYP4lkvU25gBbsRPvzm2X2lxagMZ9nOQcgICwcS6Ia1NIOxtgCa+izvUn4+NUe1gyF1zXXWPBj6/WOowCOH0SXXD6xSFexgMEJjLgVCCv7xJLj1TKzh9swro2Lq/Jz/nRrrbpkfjsieVjKXO+AbcAi4oIo12bx82C3ED0MxWO16oP+IoJTHcqNxGjhSwhZIQm59fJIZ2czU1P9sSB/TR6snNejOdHdd+ebwMmAZzX4Fziuhv71hRro7MAeOpTo7CAtlib18CtRZ0vVos1QGEUWCMBy7lYyP/9i5GJvpYTd20UESPdNu8DxgdJEwOJ6v3Lv/zLV1tIFAEIzqo2VU/rtn71rHSBXdf32pI7ToBWO4mucXqBIS6ufiWmVg9DWbTVtRkZuD8B64Cw9REXyX2j51TPK1poFd7CUXZiANTupBY/gmfSxwltkkPpfuxeuEDspV2CyHZa4hC+dhCNtcdZBfRSkN5Zmxxeq9N9mwbFgmYKrqwj7nI0uyB49K/uzuI/F2vEK/Vw/WcRZalswhwcW72OGdt4QRwFjqsFgBuSvwoHyHDT/RLvMeDQ7xlTXJ1x2X55NitT17f7R5QVjrLm0yISC8yx+uRw3gHPu//e6dY+Kjc92u33J2A9r6G2WIbAJklckqJd4oW4jUCg3xu3OHDAKNFDYNC1om3kzO87cKR3ar4DgTau3/u933txgs1Ri7s2CCZvLpzFkQNq9ScO1zYnrFV/7aukp0rxHy21jhMxAyoMiazO1ZlFtHfH21W3uOUf/OAHL66w7Lv1Qf7B2h6NtOnVntpaoLwoljb8gLk21L+eUdt7NeYkg97DDfr8r1ZOYqAJsYjXYqWsH9kq3V2Ps6vD0lf3vzhNHBqrZYPUC3dE37AiDx2PnGZylzPbrsuG3XM5N058OAtAjKPb/qpjxTq/iUeMYDZMacUyhL+LoXplNMAJC/towrHrEY0QGeI1/ZS+cKMBMLjf6gN6CANI22CqX3+W095Fq+wGsjo9nNkrs8GXeedQ3KuFLE++ZAbGY99PEfIdWH1GJH1XFsR201HnqjtuRoD9vMC1CSwZrRoLOfcEgq9vHh10nBhnUouclIFOU5rzGWsuu7dFHP0x0AWQxTNyDfnXf/3XrzrTCp1bVs6ywgaYcTS9+ixGVyC7NOtCA6OZRMfWXqJgtJV4HNB2v7RG6yjdtSW3rM35tUV7aMNpTo7hazyLqmgs2vgZHAPugNBRfaSIQLpxqX38GwPK2hFH+wpOJz4hsN2dT4KonA647pEGxkTuIbxkdXXtAcUAhFJ9RSyLqA6z6uCqpNq5ESlCBdSAdQl3dV/r57aARi9Y6XPtY37Gfeyi2B0eIFAE05lQuLJQGXupYYAuThBXunMiD5UDNmSjNV4SO+LAtPt0ECZSLxeyHBeP9YgmwuWSsABKbOn3FlbEzvn2BJVv1YPduLvPANvJ0Z26r9t/n6kXoJ1WeRwvPRARMs6F1U6mWPQrM7GsxPSs9Ms2wzgmiSCFN0lpJZA9Dufnf/7nX3Pd5hmHlGhX2wKH6kgEjjNLpLRBy37jjEsHAHVvYUqJeFQ0RF1pgER3tH7KGJKI2nUBVM8JeALO2pgVszpzN4n2nSNam3pmvnjG0ObAcTja6hm1lXQjJFD6KXn2vpP22KI+TdGnRWgntbKOk1tYTixG+hmTjiPDRlYaSKm7V/xjvXGSjUwFFbmYKMOXW8SFMULsTmkyAJsoA+LmKsxPYN8xeVqA3bNGEe2NKIUv7e68VlcWLNxR7RP0u3VHCHKsi1Cwm1EFbEgXK+72YediswfbhIiy9KpEVxbwdmUOkSypJ1ezYLBg863lBjhPouT+d3u/teEJBD8yTuCoAETg0SIunU3XyYsmN39g8Ad/8AcvMIsLkRuMa091ccR2OLY8dwFVFsvmxHGQokZ+8Rd/8WUciNMKKKq/egOG2hiQ1b7AI6BNsd788VGTu6257vnNfTQWQBFLa1v1xSnRIce5xYklVlZv/YkmoqnaErjV536TVUYaopiUgE9kEa6w61hzZaBxQnv1OpMjrpPk9tosTifVDQtaB1ToaQIbiBrVA4TqnKZ+i6MXczKC4MO2YmmDv8e6n35MgBEXyOCARa0Iqt/Yug3rYqFb4wXR0T12cW22eJ8W0IqcRL7qjiAjDO2hk8DZVCKOdARdU19WJCYurmFAn/pNBgtngDrUhShE3KZDq12cFSvGgH5T+7vewTFEHg6/+gsAK9K6uH9FsydAYlG8lc+KoTcu71bn+dtaM89n3D7fnmVdnP1g3W9NOH4uziYOpetTZjcHzVsAE6hIUEC/2Zro1SYRAHJQjcYDr+qmyJfxGPf9377QN2tjba0dkjI2r+JAxWH27AwLfeZXVv21q1fPZplFJ8Tl6qn0f5ZV0g+OtDY7PU2aogBefjfW1DZ8a4/ulUQkxVbAWRvqc88N1Mq4UQYPDr4vo4AJIj7sLuszNp3Xeo0PjXUAC8sBt3JyCwwHOswCU0PoFiq4FVzCxmGuZU6+fTooZ1/2/AaSMyB3jjUYrGMtfx0EWVE/q6DxWavnWgMBRoQldrI6A5tAQfCu2DQK/XaV/m9i7dDaYS6Izrugqht3tm25LUJjttlnz3sW4G0SskE0llxberUgIzQiwI2DVf9p4Pms2LhuEeq83fMOkG7XfubZT89YVcKC4voFNk8cUeV/y+InQYGMyqWOShxrLHFSdLN8vqyTADGxtMLP0DkbbWqcc//jC5coXXsgVh09v++Ba/cFADap1nL/cYINfJpTFs3aGYeV/quU4jbH6Lx2WuPVEWhLUBrXJ6W6qAmgiolhbV3ujLEDIyJJ5IY9dZJWxaHJ9HkvQLNgEPyKYgjcBHqJR2NOXa7MIrEY1hoprEOmCE522Gmcgt1+wWI5FJZL8XENkPxr9F70UYBz9XE4Sdyo5I6Vfl/wAPILXhacgvvrOqlialv9I98DewvD83p38rN4twiYk6M2bFHPyc3umO1cGLfl3ly748onaq2hYmwr9IlCcDYy4x039a2i5k3f9hEIPV3z7pmfrVfh83UC2urnGHHov3i6O0VJoHZgkLsCCSA6DqCcqCQfnhPRG/s2xwByQcIBvCSYH/3oR18TRlCxOJKu7/mOJREUSN73gKr2xYnxgwy4pP3mEiQzLj0dKSSdmHT6xEnrtXr5xYkp7b7qrv1Z9eNYAyXn99bu1lAADvRinALL1lPJLotiqN+1uTaI/cx48eLQdvKWCzmBrdIiawEm+7LMqENQLm6NZ7EkhBSWNUAge5PH3HsrS9Q3/cU6kGoDHVPPptDnMU8Bj0BZTzxf3xewLHxtAOwIqec5HBnQ92yJF0/XDxxr1ztlx7g7CGUtzERW9/GQdo8NyWZAD1ehx7RZ7PzaBXcsI3yOvcbNhtS1uMnVtZqnp3K77gYmO6+nwv1W32c5vidQfNcWZUXKdTBeWli6BCSNV4ssesdJN3Z8EdXVb82p2M0Wf2ocCvjmOreJOBCcTPfL2R8wOtTkP/7jP75mbg4woq2+R49x2V3bZyeYVV9GHFltBa+LTkic45TbmuUbaVOMDtLndW100zO6t+uoOojN1R941ibZZ4r7DEc4ugeWPa+Ntb6lB+y3wLS2xkHaHOimu74+NFatwe+4WbDYrU8VS17FzmTSiIH9zpelV50x+WKxpNXlx+LIPNbQkwtbgjuB5SQoz0JU/Lf6rWdWpL5eb3kLf8UFrPdpxd1CfBPWJeyJFQbXBMxWt4TDAfaSTUZ8fME27tRrHTm1+eQWubUsGHITkJcOR2tMKXVxeU7h8QzPoT+LqNf141zQJ8ic5eRuT1HuI3BbVcjt+q3T53d6uvP6d3q4fa5N8QTd1fk2znEvjVm/t4gZZbjmRCP0lLlCtFC7R0aSxFRcmcDtQCmAYGRgeNpN7R//8R9fz3A+Z8+WSTo9ljkM3EQF9Lk64twyZpgnUUPcoNCM3H4BWAxOYJxIaZMGsn2uvQGb0CWGJQZAonhtihttzBqLxidQC7AcxiJsLE6wsQsou19fvoqc3neS7M7LHVBa0wWF3thP4h7ZX6BtD6eXOX2+gJDP24YnE/taIM8Foh7cSG2gMHUNIEGEG65zKsu3Xeu7VX8ilCY09rg+Eqn3PjoW9UVofNIcFuIkan2Rd0wfVgm9jsfasw7DnFvt3hFT9zqogo4Od0mkJH7vvLC2yRGPG1+OecFn31fvenLVJ1f1DqQ+Ar0t77i6/f+c09t/Z1u3nK4vivkKfFp4HKaJ+pT1HKC7NjDIuTR9mpQ/iVh01IFPIqIAbJKH5AW9oh8A+vNfDqrOQ1/eudpTmwPOgKXrHJWHg++z0KfaRIfa3NeHnHZlvN2kDtw3nP3qnNnWRbQjHJCxpH5XJ4d7Im20uinaSXqNgcPFJZQNlHGi1oy5eCV4XO5ofWzW0gjMepij55j0cSK9U/jVsQawInVMg0eJvIrqNRzsLnwGR1vEq5h/WgAIdo0C0h9tyiSWQJzKHnK7uhKAQedVP+LGArPqbIeSBmjb4/mv1CZfuC+ZJxxjRzQxLl6C8nFZN5Fps2Xwa3NMX0pmWUt7RrsZI4f7l+vb+nfzkk9rF/Bp3TtBy/gvQH6kr7qBxEfA9A7obqqKp3v8/pE4e5MkXNM4trHFVTjMupKCPKCoOIyGTiluKFrq2tZL/lxxMr/5m7/5uo++OFeLnh0gAZTotfub37zq/+8v0SEBXCAWCCS+xjkxSgQyvePERQvIkktMREt00VxyhCXhuCp0YkTFVe7/1V/91Qv06mshS6yjrKv8U6mEjI+1KIWW9VG7So4a+DqndOfzf0DcQRwLYk48tvANQhUDFhlf+49ZuToCPA556sb9bMpl4u1yGavQ1mncyIZd7UK8LTiLlfhrka4rionyO24O10YsF2bRxEc052CuCMwIYXxkE20Mmwhgzqs/Yl69mHqIi6f45PuKOXa96hF2w8WFdTp9zC7SHWvjEfhh64kn/j+tlu9AxPfP6Ldudd7KExgt3Z46rSeQPCMltp9Pv1XWfWk3P+IYLth/kqFWWgvcMCpy16UnypFVOFnPCxgDjjIaC++xVjAAzXVrsfn+mZ/5ma9cUWIk7ro5dGp6m7Fc/BIjdK12S6MdzeasGxBLmNB/Yjtro/z+9aVr1pVEfHP3OIRFuF4vZyLwL5OJlzNtvxHNu7a+1ob0evxOca07Xy9AO90lLKAWQpOEu2DBsXtv1ohEyzolXz50xxaexHrjCCnFcR1EUceZSSxZ4ViKMJcAiWKIHFjiIu0guLEVUX1fvWL95OfWM50S7wCUzdRaPdIVyaYheaN4U5yRXHP81ZirgejJie5nz+OrBux3d+yZIhM4O64Iu4Be4aXeWEdMNw75XNw3MNr3j8Dss+VJz/XESZ333txAKrt5uP+89ixrJHM91Yk+r+Szm1TPlcAxMa/vLdTmKnriA5jFLi4kh1XqgAAgIEpVwZIfR9d6i1P7wQ9+8LIGJpKx5gsgb52mU4sGxT5Hd8vhVwTLt+lGm5JRRsdtdC/F+3ffvXR+UvfU3/rQswLM+lZbEpWrp+/95wwEG29MQWOZYaA6+l47SBQMBa2F7g8wM47Edda2xm+jj76sif9fxAFmlMsNoGRsiB235MSXOlZDKiw4a0k8d8jlBlbXRJG+rgqUnEIt2i3kZ6+TgZvkgtw+KqdzL7ad930TwRmxiWJ2rg6iQyURrcF2kjkHWHGYBnGf1RjwuN72bLC574wQCAPx14Z1I1lw9g60cHzu2QXvPmNgzL1YRV872xf/vHZyWTpOMe2klRvA7Ji846ZOoP5IHDzvPUHzrG91jjaak3M0vqc08NTO3YS3rgU/TMG6/pxcbfON85Hbq2v6XY4wMYzNbXTagi6dTv91TRa/6JZ0EQj+6EvQdrRKfOTw2hqNBgI8Hga4cRb3ilhM99a+2hH3GEgFigFhnH50Etff967rOYnKfN8C1urq2a0Jvoskj4Cy+1tXtTemqCD7ju5LhO5aMZsSPtbfoiF6Rm05aebrqU8W08rLARd5HUeiMTUEaxp3ocFYwBvxrKJ9OSJKUg6228j+DzwVikrHem37KcBXwU5Ht2mz7UoARpZM9xAX6Y8CUPfsLq6dCLh3XOOmerkpqTf1kNhIY6QtJwd7clbGSArlDe+KCJs/1tZ1S1nrZt8be2dE2sxuC/lJ2f4ETlv23ncc1beIp7f/n1QQt7bc/n/SkfnP2C8Ivjv74lb2eLeMAXyqxOcmagZoVDBdwzGbM3v+ZLLa0oP985ccYYw4f/Inf/Kiq9///d9/cdxdW/ul6YnunAW6DrOBp3jJ/stqGihFI/zKcteIW4u+a4sDgQLM+tJ99TP67r7Aqv7Wjl6SQdpMe2bjLn234/rkEqxdDpwR0x13etLkT4icuzBXBMQiymZbQ6UmMcHquYlFOAGgYiFVGniWIFyU3WIX8CaPRDgyc/KN8r9DXSIU97rHgtc+MZDSHVGsOmGHe4rg8i1dzzeHnkT2gl1UN50Sa6VMo+tKslkszsUJtCIOu6tFYjH2e5NvkQRujVGEhRPYFEoy5UaEuNib+LjvN93SqXzfObyB2Hn/Ob43wHiqd8f29vl83k33eWvDPst/u0bOcgLabq77zpDWPDbm1BMBDSt3YmclMImL6fXnf/7nL+fSuKKMBoETt6F/+Zd/eQFUv8dpN699L4miuQ6MAgW01frhOkIcjn6ilWioegOrogVkQo7Wssy2JgKinhc41fbwofZSUaHR6Ks1EpdJ9dLvgWX1AjAJLndT6XkOaZF2qM+175zH71jSPIAFQqxg71nyagQ/kJWdb4RwUxzzPwECLWLZMlhGiYNrSn9aDHzLHOAKlEQgCF1ymg3uUH/1mXXFrrt6NIfEbGA4kOZeob9OtFmL4elyci6exkLb6cNsHmeYUnXsYTA4NwDINN78OS5Q8sXm0cnbwq4iCL5R3AdunMkJbjewOq8/CfIsK1q/KyeQnGN4Auj67+3YnZvJu/5tu/fzAhNaOdtaYRAAeh/1MfolScR5tPaaK9JQqYHiUAKnxL4ko+bPiUqiNvrv7/7u716A06KPy0t0i5PSHjrVACipQ4aU3umqAqF+k+M/GomOgKFYYGm0+7/xqC2tvdrMSkkPZixaZ1JLhSmJqN1bKFbtrq7E1Oo510ntw5zU9jXc7Tx+d4IGxbtMEHbyBqLK6tyeFXAo5L4S8+7gawGiVOf/QqGtjnWrQEirt1kiXsKt3RIdEhWFEK3VCQhR+q/vGO6NYeI8mQgRU6Q3yIGnLAp8i84FceNc97cVH1ffU1nQ3FTia2ypRGSBd3OTiX8BTiKBiC6RhXm93ZBZf40DZ7ltKCfYnNzUO9HwttA/ElOf2nMDq/PZ70Bsy+qRfb/5qq1/5FnOjWivP7mOaD99UJxXCzxASzfWgm0NNj+BQpa9uK847qSGrm2em9sMBHEvgdB//5ICPQ6uEv2n4xZaSN/813/9169g9NahmGM5ChsXSSR6FkNAQBpNJTqWIaT6EoVrb3TJJQgHtb6q1r7fsuhGh90rfVB1UXmdKhbj7KDlFefPDemlQ3MBS1g31vDYVad6n+z7VngStobwwWKBkwKImweOwWne5OmTs6H4tJNtp5aoFnAoWomMdojzRKr6LB3OGg3WB887Z+EmV3xmhWWQJzjx78lSdoLyLkpt1tcV2/fk8l1cmyiQSV2JOCMY4EY5rG1S2yhne7T3Sbd0EzO3rv9Kebr/Jhl8hht6d/9n67NB+3/nmCGLHvap4CTbgAKCQMfCT+xvzqIxxoForWviYLo+0GBBbO7j1prDX/iFX/h6dqYsHs4/FbZWvUKxWuPVH2DJwBHA5Xjbs2MKopd+i4P/oz/6o9c93cuAV7t6Xn1JfAysCh5n0OhVfdFgXJ9T0SvV0bMbK1E97/SfxvodrX1Nwd0PFjtl8nm83CkK3nZshC/EhgLfgsIl4dDUp27Awm0Dex9AUTTyidP2c8cGVmcGDICFwwFCAthlu9h+VicXCHXEka0LxHr087BeYP6onOPg+QwXdCrrj+Ye+pMILeLZBbbzQ0G7YWpPeqDbgn8CgZMWzrqXi34aixsH+HTdbRP4FjDbe576vfN/Ey1PkXMB3eZ8E1fXgFWRiIAnvGwY6uw/EkBAFChEE5sGve9Evf/tSyhhtJDoxoAgRjI6ChRxQTJgdG2cWJsbkA4Qo+NAKHE2EPLMuPpKIm4irSQT1SmJI1ch4vKeFRBXVp21i6O6jMjrDfBu7k7p0H8/kT7IgQdEond6jnNnwulxYG1yBN4CM4eanHoxE8xSx5GVjqsJa7IaGInhpBo+w5jow/SBro+1s3buPdwX+HABORxj3yOsAKxXk9jkOKnZgMqBRc7feFB1nVzbbcETt01s47YTp1+CkiUUvB3Q8sQ5LRGc7VjCuX0+wecj/dap13oizqd27HVPbf+o3AD46RkfgSuaWX++rZta4CORs5KfGYdXG6MiDrfkit1LzxwYOVyk53FdClB++Zd/+aW8r544uPy04tKE1/WMwCMwaQ1UV5+7Pufd6mrdxoQk/gZWNsJoP2MCC2bX1I6enYgrLlXQOGmlOnpu9dGF1R5JKut/XF50XtuEad3G9qSX2zVfU3Ab9B3U1fWcC2WJiQuAyHxB2i24GsqVYevdQhFuUe5p7DhG5tsmBsfVsxqABlK7GQd6foXpV5JInvSyFvDXWQLunupguey5FPAb16qsr9uZveJpUSyQnQkX17EW4Bo3RpWew2ds/18AOV/nHNx0UbfyRERP4sH5vJOrfHffvt/G7d33z7T/vPe2y59lXY3WGHM+g5vFAtq+n6D2BK5bVldKjxqHRLSNjlsDOdZ+//vff232bfrpp3pJ050hgGuQkKI252gpYE295BDgaOo3fuM3fkIvG7cny0XrwqEtAR21Rn3ZDCBCtwLCAPZv//ZvX+2JG8tCGYi2GfdfXJugdJ4M50Z3zuNtzl4HDZ/y6TnZKjv9yFaMDNl5PEs/soHUWzxrc5XXsTqfTH1OOOsf5Lbg28EQFl8xlhgJHrl3EP/sHP0unITIydrIKorbFPNJ3LgBBFG634kNO57r0KoeTswC0XeciTVcXvoc8dU2Do3OAD0dPc95u+m5PgKxLTcwOOt6p9d4+n5rx37+SMx9qvOzZRX+T+XUHwK05c7NKQ7bOrnRyLtymxNje0pEpAD+bHFJ//AP//A1nrh7SB3ON8D9AI10b06ZEr8pBVCbZcAZOJES+o2fYnWnM4sOpTuKa6PHC7Bks63urnFQcu+9uj8LZ69A9bd+67e+gtk5BuecPNHcK9vG7qBP4tHe3DW86mWP4LBJ91axSHdRLwhasMQ84tZmvVidmLb2nHYAcXDO/OzVjkFXJuRI27ho6F+f6dga4M0G0nt6g9oqyB4x3TzPcZgrQr8DDCmIcKKeaSM4x5z+ot1subJ3k3/O37nIbrveWcft+7tn3n771vtPHcmtnbfde3//iAusPIHZDejWgm8DWaDx2+ai+9byxIHcfhefW8lCaM399y9nrya+0c31vQ1/Ey+0RuLIOMpWR/VKw/2Hf/iHL+V+1lCuPkUHtNZ6Rl76gt4FvHPpoM+LE0ufJs9b7zEuWWkDtiIPuj+uLhAV+nWC2k13+lRe/KzB4p+1eoIdWP4mAlotdMe4ExV34tftgtjnOPpKCknKw177PG3D0Ww4yf7vlHd+OQELb2k72ebml1Cue9eZ1rUVKU4CNQYEhLpRB7uDIuYlRFyqMTC2TXhjQES1u6+LCVG09uFiOSWeE377fKoKzmtuu9xHQHQDmnd6sM/Wsde+698N/M7vN8J/0hneAP2dRffU7+z9uOkNQfvW8q7dFeGAtYO3QHQtI8v/+8Unkr+lBKv83Ti5tjFG44l9cWn8vNJnRWfp4oiycWGYB25ElTiw7s3QEIfYMwTfUw/FBdKXVV9tkNE5PzQJGtMVSkyZK4qA9J2nz2wUP5GC24ScootjuAStNhCQtbIiGQLfBSzagFc/lnxjDZsEuqxTpDARy/2clijE1o4jDxTikh5liUQguGcwRFS/7AEyVXTvitv6BCARlXE8CVK7OQPjQm+LX1AzwJVvSuYBfd+2nAvM72dZbvlWzv9vqoft19NzPvvfSgbv2vQE2PuMzwCIedhN+8YNP5UnLvAEtE3R9NOW7TfO2ulQslXQL/c5Gv1fv0R8JKVImBjY9Jnvms/ptXqPrgOlPcRHHT03bq0SDaYT6/dALkYkHKg9ARLuzfm74qS7p//DjSIfUimlrxOuV4mTqy+BaTGc6dMqTqs6x/+JXvrtddCwxYELWSuOXOh1ckMWmjQKdQ84rTtCkbovIOsebDD5P0TmjyYkakWjk5j3+02kol+wm/DLaZDFmyK6rvOdxdTuR2+HswPQOEzjpt9dI524TWF1K3zbFoh2cnBzu6GkV2gnlXBPn2871ZP4+E7kOln5G9dy40beiX635zz99l8VVT9bPiNSv9P1nteaK5vpCWgb2nfW9S3iqGc5nyPxLcW6xAcBSs+L7kgm//RP/2RhvwCr+0WLiAZIvxVN5ZKR2FeWWor8JBLnZSZWyrYT6JX/Pw7MWR3dE8D12clM3Ru4OcSHQ34i7+/+7u9+Pb2qPGm1NcaBU64IlmjeUYCJqacj7ZaT7l4c2inKsW70HrryF5EWqIE8FaU7yWIfG/iAsEY7zh5rTLwCEIDlJl48iVEK6yOuhguJ9vWZt3zP6n8+Za6lF0OMqyc7CX6fBaxwl+t6YiydbKV/twWljxu/6ZCKiAmgnQviXFS3slzQCVZb1HMuvidAuIHrCUjvuK8nUfMUZf9nAVtlubNb3066PsdijWjnvTbm04/qCTDflVXzBAqtjzbXrI3Ev9amIwyjm+9///uva9NHsUCmjI/ryT+sugKqAKTTnNKhxUF1TQr62hmI9OxAh9Eg147ArTXUcyWwbH07GLvxCNRYXivCJVt3ibBSdBfJ4rSmAPKHP/zhC29qf21PRA1sf+d3fufVptp5kxpWoviqtiHKsaTZZRq0BoXVw4Liy3VyTnRT/GccxuBgYOw90c6OsoB608ds45fjQWQr3gIMnBQiqz295HDThw3JArIbgWA8zl149YTEVWeKGvReRMxNe31ymQpgX7eLHZePwOM2Vu9Eux3jk+s9dac3Y8IJNDcO7x2YnW07CfN/Rjnr37bexnN/WyDbMbFebgaz1W9t+Wn70zNae+mUAqo2t5T0uKaAIs4munMq+398obfa0X21v6wUgVBpuQMVp6XLqkuUrb44ovrR9Q47DgMCngCL8UyWmKVXwNbvki/GJVZH4MubIHFVhpvaElgmita2nh3zE9cYWKdnC4B77mkIu43rKwW3P6os1AQANaSGLUe2FjwgsnJzINbgOiOTsnyJaI/64neFq1mL5jZ681Y9KU5/gvX8Qlw4R2AjGwZ9lASMmzvrVPwu4QM5hLsLG+GfLhpnG8/FJVtHY77PXSD9aFG4b9u6z/pIFP3onqd63oHa/vYRCJ5texJlv7WcIHmOr3IC3I0Tvh2QsmOwCVKf2vHZ9mpDNJE/GfcjFvm4KvG4rT06s+9973tfD7Pp97gbaa2tvfoa98VHEz3LahFg9TxB4DEBgK4CuKylM1oHuAVaYUdA27MTI7s2HVxOv7Xd6VMigHp+1tXiTbsmAA+QpTl6MtbMHPwProSLBD8uZ/vdJsEOJQyjz6FrjU9+brAcAIxbEPQuaJqYR3Q7ua9zgBZIvU7fuVXKr4ggvGn1VL24dCirkF/O7+R6To5nQzYAlPq2Pzvwy/3ZuRDIXvsuDOSdfmz/v3EoT6Lvyd2dQLT3nRvckwh5cmFrCb7R1n4+N7CPOL7zufv7yX0pH4mD/rcJn/1VqBlu1viP+vA0dgERDr92byKE1h8xji773/7t314ZOlLCB0j9LmA84KgvGQTimBLt+s6HU4SP6wIxx9HJU4jeW+sxL2cKH3MmHVh1dV2cZqX6SwJJdxbg1pe4NNzdr/3ar33NKJKo6nCfJ3raufia4BFnIlvlOQkGFPriqMSf8U2jQ9qHspJyPN1JXJ1G3zc0armCdxyGTm0Sw71OBg/ttgMxgnC2BYgf7aT+3yB2O9zq11Yftv1guIgDdvBK94p4AJAbPrVzoI87oes/eAOsJw7rLJ9ZbLdrb5zkbc6+Vfz6r3JqJ0d2cmGnv+U7cMN9PW307wDtrOdJJH83Rk6NkqlDAlYH+P4fX1yVNjFrXBHLPfqKY0qE7Nnp1pLKxFT2W3q11nXjkkhYfYGPceJvmtEqMLIRry6dq1TZROLEqt9JVbl8pZfr3kC1fsWBOUXekZf9F6cWaO/xicvI7Hvlxc4sqJw78nIUwntC6x4os22sYEjc74Bxg9otOMdg7eStmwPd2k6465Sb6HISxPq+qXd1eAY9QKvNQGR91bauff4pflbo0E4d2DnYACcQYxVtsto9+x6hmQ/POkXas5ygj6iM+a2O23jeCORpcT0BwEegdgOC87d3wHVucvusG7hq34pEu4FvWXB7B2qr1zyft7nqPirfAuzUGwFDUk7AEL0EQNFwwEJd83M/93MvEY2DthxkogP6P1AMsLqPO1acX9xWbZfeniuIZKKt+dZ64m1coiPrdk2aIz6ZsvX0/OI5+YxygneuJgd5DIfY1DjN+trmT511zt/S0NeT02874S4MSrkQv4eJoXRqES5t/c9eD/iSrJDLRJPeIHLp2NxeYitPzmQX4yqssbUW7pn0bbmZDZ3Cwvc83skLekTSFS0Vh7Xg7oRM8fpfbsmzl4Prd6e5RxDCt7R9lcofgbbx1r7TV+/WDs84Ae+2yG4A9NH3c85O1YG23IjyqTxxhicQnu123ZkdQxv2847nO1C7ics2KvP4Tk1wtv8JwM/12NpxBsEmUwxo+j9a+vkvZwBYG8acSOf0pcCh+7pfhEAiaOtBluOApmtTyqfD6/lxdb1qx5/+6Z9+FRdPzole3HkdAWcgmJtGtB/IZRj49V//9de6qT0ccjFCsk3HITomUrZsR9vdQO1l5dxdbF0LetVJx0xRrMtcewayn7qlyuqWBI3XQACwJ7B3zaaHro7TW7gCHAziAp171v3CQSICu1ck3jqdPWBMFiRPfd1m6zjFaIS/6Y8Aob5q4+rNjDcurt8288dO3nKR3k+Xg/P/bfsTZ7MgdnLDQHDr3br3GeeiPGlk27hlAVqd5/dz0W8bzs9nWfDaZ3p/x13t2N0sbnTG7wDNM240c46VawKBAKD7AFlimZjNOJ4W/v/55UDvs5BAxFbKaYbbrL64qICHtTQrZ8+Tu4wBgviXZ79DgruH3yZaR7/pwFLu4/Si5+oIFAOxzU+YWLwROCS/8CLusf8cANN/nNR3rL47WXKL2HFxoWKVyNEvW8XJCazi9Cbj7pkAXUuvJbkir37hUWtNPIl7lfbn+1orV9StXqJhdXXNGgq08Vyw6lEnbpPLyWk0ODk6bXUuZ0TVTprfT23i91MhDtM3RlgIRVmF/bkAzrG6LSR17NwYO/V8JOKfIHeKvVvOdt6MLCeQLCAswJ3gdnvO7b9zHLacnOI7ULMJPYnhAObd85/qPjeSSt/pfQOR6CLQQq9O6WqTDmz+/u///j+NlfY4Mxft7+ZUkY26w4DTe7XWeS9I9tj1fQ/84ugcOGxTDnQCV/RVnfTMrcHaHv1L9povXHV1vbT+AWj9YhEtpKr76mP6PideBexxmauX7/1lFDDQC2r9HhLGDibbnhaiXbwnZ3YumEVR4p+UQw3ahl3wf/OsDY8CILLFrgL/3PE2pY4damPseHTzFTsJWVuXy6Ljk71juce9R/2An65uudOf2FW+GChixdt51IM914/PlNtmci6yk1PaxbS/75wt0J/fzzE4QXHLCbxnnXZrO/VN37Xj8Rmu7KznBJXP6LzWHeeJS1zH7I/KbXxuG1Hz38aWo2lcE0ZDm2I2AMa///u/fwXV2zNWv3tyNvoVjSaG9ntcYaJn4JbImqtIz0p3lwhIBF1ft57ffw7kLpyp/+sDi6uDWoig+aoFWjEK6dkSjQO+QE1S1wCssc2xuPv7byUD4/dSXtl1akzIW2PI6iEudnrdGM6ddAl8Ob53hNbve/wasAIYm2zRAaV1lO+YnGZ8zkyKnfTk6k52vz5tphAuHojS+4aE3QhxAcIYceKV/dci3uBedUUwTXSxa41HvjcRT+C3Iu+5UBaolsNaQ8AtBvYEiHMzWkI5ge/ksPb5y+nd2qltNqrdEE7FvXm86bpu7f6o3IwBH4mYt8K153wuDu20bL8rNwA7gUYiB+FGJ5j2XDn8/5/LBrvvN8775LAr1Vdx4lN02TqLW+q3AM+BQPU34KsdDgCOy0t8rL5oH6eGcaE773qxonFsMuHG6eX+9au/+quvMKg+V1cicfXb8K7S2y7Eyp5wtKcRnYt5ieEUIfazck6cxbDPr6O8l4FsQFQn2iEalAAitAeCFjxPfxMF5CrENrv+nvREFF2RlevF6kluRHwSC7G0OjOi9F87ifg5XNuOEZ1HRJT/TXW0qWxONeN1PvNsx42zOgHvvP+2oE6gPDmuVZwvDTyJq/scG8StjWc/T47qBMuPxMxtyw243nFtt6K9p6XYsyzwj4wCe885Pvu9emIoqGlWv3TWcYLSWU7Vwm56yjIq0WE0yYBFdxfHKO37JiQNwEhAGRISUYGYWFIGwqQwBzDJ1db/kle2/hkBun5Pdue+8cSFfrVyalyDxuOfRz8dzpMVZzmgU1Q8xdHbzm9h0xUYCPWZ0AaVJ3McZCCW7gBnE/fWNWJD1SH8qX44G2AzwpqUNQp0n9PVF/Bu3A3LaEW2Dxxk47iGhkrXN2ld166TQrf2ioV7pxhfENn/T+LVtrU4n7vyuRE9iZ1bv++buXeNJ+d1Z5tuC2jbsVz0aeB4J0pteQLA/e/p+1PRxnVHWvC3WD/yQftM2X46NRyX/yTuuv57l3V2A/6T8/ZalYUQqzjEAMbZnXFtLI6uccBLlk8RArU5nzaqFq4n0bqzN3Bpy8lJEind/knjN8PUNR9a7461yvENsGxIx2lZ8Nqdts+4IMR+49qAXs9r4uRTw+mscrHFH/fmWLoGmfOf05j6X8bbZPRYY8/XpgAT4u9pUNjY3ckYLnbST0KoVL8DVXtOwCop3llnpfYGlAXppuRcoARAywWd4Hb7vdfJUX7EwZzcESI5ufET4JaTRRMnt37u/udzt51rsT7VGadP3u3+J1D6VnHyXVkRHrDsJqMfNyvju3IC0Pmfk5Nu4uMTp/LfjvRS5/+3Nmwft7QuA6XEvrizJI7qF8sZDaT/QjciDvrcWuRGwneVE7szf8OYIhVau+nr+y8cSCe3ySae2nt+/olYzj6HjFJQy4hBTOC2UWnynBmwCvsKvRgLqsUlHU/Po/CW6JBsLZPrrfHaKE6MeNyE54fDOguUeShXBx+Xil3WYgRsa5I/ReqTM1Jk2JQaW+JKhL0E2/2NWeCXWOn4uOVYT+7kJk48iQ44yxXj99n6fCOOW98WQE6iP0XNG+C7fjkm43suyF1Iq+a4ccXmYrm6U7f2rvw0urPty61+gLYb/kd1nW192gCUc5N5qvd736BbfKp/5xPzkLLe2GcJjQvrmtae9Nx9t667B9dKp2z8WuOtmepJ5+ZQ8Mr6bJ6b8pM08p+snBY5YrPj15mu6WG74DbGrI7s4Qb8q1gPuUvIpyZvWMXxWtJyE2WeBvr83qCQv528xPmv+rKkEJFwjPpAFF2RaY+LO3Ul5y5YHQGok6TbsYQtnQtclo8mOQDmrnIuzG3LO13MCRIrKqxIqZ3A7FQBnETxRDBLTDed6q0+/6++bV1qXLNAu33ZTXHFrbUkntzNft8ImO3P3vsR8Jzj0r04hy3oa/U9nynfAjo7t7c6fvzGfeZb6j+fVZ9bF62l6DYAi2londVnTARfs5iNdGpULin2re2u63PXtR4yKMT9MWzcJJJbX59A+6VDW/YeEdhpAJuAVQuQA2wdtBhxCAGUaP4AhiJcCiJOut2LRd0gdQ0+G/4kclGYsirqT4PZNTgoO7m0xKs/W0PEuePvzkw0rc4m8sXmfnEBOcWNFb0C8MTLAO2WgukmRt24sBvB7Xg9cXE7lj6fxLCGmhsRbTlF75MzO687+7qc5AlGNkE6GvWgTxEidn4Wryc6Oduzn9+N31nUdboLbXvXZ3DH77YpL/B8xHHt932/jfdTuakXbr/firTdbdqt39ZWTE5SSQxKYml51+LU/uzP/uzrekhKao11f2qsDATONmi8ctngtvQkSmrrOQ43Gvway7li4xIbx7pTyb8pu3kFQ946zs0CoMSB9V9IzP+s75SpiPQ0OizRr75l/9/d33eDpn2UktwmgDbPfRwboANiK3bx9xHXFqdVX9u55FNfwOh5KUoD9SZbrKf27lgDdP1frm2TRZ79vgGGspzIzZq4AKY+qoZdcGeYybmwT47nBMuTYzgBdvWFC2rmcy3UjDwr3u3JWeo/x2fH7fz81La9rmtw37fNjgFq3XJuZRfrE5dxKzfw3bbf3r93yfByzsVZ79LCXhcDUmxldbSe4tI40tKZRecBW4kZcxwXGROoBX79Z63pw2bx2D5tm544znN+/1MKboS0n9fz/6Y4B2qub9GygOC+mGo368aJrGuRXNA6/ZPOzu/vO0nus4vXR+dyAg1AKlic1/HNd2tDw3g639w7FCFjfIiIu8rqiEyadvvfCzDjgneCb1yWNt8I+iSQBbUTbHd8V/w4ywkM54JZThqd2LSWdhbUzvRSCyiboVh2lh3L9cfy+0ob7ziWJ5Hu5JLPRbb0dtZ/G58b1/YEerf/b+V7FxeOGxDuJnQDx61LaUxJWpU4K+MZ1xWA/c3f/M2r/46kDPDQfUr/QqBu3PqNe91xelfO/18c2mm52UW9rP4C3uk8KyQIF4FwKMoli7wp/HfhIuLlGHpu97Ou7PFv5+TcAMLOKW3Qch6MBdq9gem7AJzsXMl8XZ0bebATJZDfQcB7GtSTPmcXsHdtAzIW6+5M5+JYt4In/Zo+reuKexHZExd1Lu6dxxv3vOOygHUDyFMM3/a6bl2IjBV3G89yzQkwC/b7jB2/m5i64LjjuwWwntLFOR5nve9A9DaWH4ma33uTNurWrxNkz+dtWRrcdRWXJeFkoNZvuSPFvSXhtQ4ki3wnUTyB/I2TfrruO9zLyakt63nu2Lt4fAc8vdexZOw4tTXr33aKHWwiIQMDUSsQ42SXjoxjn2P0VtQ4O4jgqwNnSP8iC+j6UhFVa1PPckgMji5gTXe2aY/0oWu6J2BvlxLidNOBnW1dwLNZLICcC2kB5xQpn1w/TkLa/895vYkhu+jfEdfTPJ805boFnc1yYiO1eNY9ZC3VO9cLmmthv3GWp47xBNSlzZNjPwHA+lm1wM73gvg5Dx8t1KfyDuAq77i8ncOdlxt4nG02FoFUoUqpW3KRit4Dsb/4i794HYiCjqh83PsRh7ltuomfZ/v29+9WlNzFtAOhAycruHGWcTAsHdw7hE0BpnOAzt/o3Fb0NPDOKagdoX7AAlxkwpWeSJ8qDap0RYC5wV3x2XNwij5nfg6gZDIIpPptF6BFJQVK1+HgdhHcJvL2HTDexIenzzv5u+j05fZsIKkPK1YvR/fU/hPoblzPKaKd12nHAsuCL3psvmRK2TldukVnNh+0dDp8nyCwoqrrbpyVednr3V8RQ3lyaLfF+5G4efv+xNHc6vvehXM/AfQmln4LmAKqGILWeWFRpc7OBYMIutEuZ/1P32+A+pm2eP8qcu7uvhOxALdiqO+4HfmS+r8OMsvyklefz8s5uIbZt0Ha5zoSq/9dEwcYcKSQd4iLDLBOWVqlO8smdxJtp1jGgS34OpWKa8eKHmfpeVkx062dotcTUT9NzhPBbXkSzXw/uaxzYWwflvM69WW3Os4+7H8nsN24tDUwLUdVAQh935To3HIkGTgXnyQDqzMzBuZ0wf4E0VsfPUOY3KbCWuBluHHNjQs75/Kjze1pYX9EC0/lxine2vBO5DtL/XWyW+4XiZtxZqUWihF4B2Lf0oen9t7KK33QuWvvYlDRqafihFuRm8mBKYGGY+l259cwHI5d1MnprCKbNM4C6PkU9xWK+XRUye+JpIK8sywWqrF+ZQCTDs3v0pvQsXmudCu8l89Br1/1s9AMpuzVD265gceNfT7Z/v3vNpk3bqeCk3jtWA/JKk+RwvtyKeb6xgUukZ1c3NNi3jE4QXA5IJ/7vc2sa2VPNfeu2QOe12CywLnqEH1khAJW1XELW8K9r5FlOVj13U4wW1eS2zhs2fFcbvYmen2m/PgCVie9nP8/AfDT9dUXE8NS2VqIU+Mute04N+YbwO5YfNTnc7N03Xd7YvgOpMrskhTIiKhXC9kBC4HJinkIck38uCdgIN1J16arAjq7UHZiK4wTAEi4U2JuwFp7mPD5pvETox+jj2F1razo4iWRpdTiBrLrEn8A3bpr7AB/C2d23rvfb7/voj/HCTDKrIv4btbgs22nSHWCz7t+nH0+AVSbl0v0vPUM9xuQaQ4rdJI2SoaAk5us7Ma8jtJ+vzn43hbwXruLcaWU/ge2+nFGbSxQPc3B9uVpjP8r5cdv3D4+e+/5W6/6nEuGg42fLOEnh7Zj862c51MffuKQlIrsrstKu0YAeS+J2Vrwp+/NPmD1FxUgEAcng2V19FxK1fWJI2pQDm+9BqQ6EnPjGJ33GRsc4afX63tcH/HYARN0LqvIJY4SH7ZPFoQUyPniBKQLdk+T/46oz3G7XfuOoJYolpsA3CeR3biAJ/eGGyd56xfR8ASW3SBOwFvuD6h5zikl0IG6dv0XVx+47Vxjj+fY2GzUy6Ut8PlNPcboRoe74d9E2SfdnLb6/dxwbhvbu/Lji0L96VknICy3ec7tjePe+szLzt+7Df0EsnNTuQHvuz7vda9Yzn6MMORAW5YeUbQwnNvZYi7DhSysyyWs7us0yQO+wGWJU9JD/3sei6ZAaG4X63qxheKYB38io3pYOHs2J9tVJq9Yue1fwKj+7s0M3W60qYB2gJ8GfifpI9A7Lc7bNoS3Y6isyGqhVZYz6n05GPO2bdy6PWvH4+S+znHbfi93uBwkAABQS+SsyCc3t+qHk8ta7nIXmOtPg8npJHtru7Hbjf/kNvhirvPvcnQ3sevcKMzJjTbe0cq3LvgfP3DRTwD0VMf5+QSi8/qbNHDW9XTN+f87puB1poCJDwxSvgdYlSZIyFDgIKC03fIJfffdLseTONkaV7a+QpVNIClwPS6uECo6Eqm0LdQzHfLZSYRWWS7TtcTnyi4u/+2OGyhmgGgciM23gf+Io3LNjfNZQlhx/ZzU5cCWE8A9LJfk/dQB0RuergjuObnOFdme+qveHcO1JLt2k23uOADVVayfrhfAcI0Dqys7DRsyxuycAvP6v1ya/m05xV/ge2bU7RloaefmnPsbuD3Ry0k778Szcz4+W96B1WfAbq8973/3nHfPfPr+GcbhFSmwSeksEPm69sh3hyHcFpp7d2Ewn1dHhJU1UraN270IJi5KKm7K3tVRMB7Qu623+e50JzgRTxDy6RpyZg3pO86utlBMn+2/7bbvyhPYnZzOch+3a5bzOQH4y+T+hNi59+BMzf1pwdYvALmEveCyz1su8AQ2iQoWUAHYxvatRRH4rFFpAdwcrWpg++d+hh+ZXLRBX5azUqfxM+7a1CYbHVgLxsk4b1tPrvdGA0s7nwGqWz0f1f3jN8+6te+zIPbUxm/971ae1tGNRtdg+RNWzookiHEiTVwiX8B2xnKeiIyQlhOKG6uO3p15eaKsBgEZaUcCKyKmeiOgPVTFQulz1zM87ILRbgc5nKE0PYM4vOJOiz2Otfprj8Ncz/G6iZI3keGjyX5i2c97bxbTDbs5LXWMI6ukPrku30+Xh+XSFgAA2tn+HY/e6bgWcFc3ZUNZ3csCkt9uopw53qSjK6bbINFWc7c0vO2ycSnq4sbjvmis6zZvvzEGzCeH9zTHt/ItAHJufk+c3vceYkD3+26UP2250fz5jM9wce++P7Vvf39l2zAhkrVlKUw8rPDY30l8Ygntnv2W5Y+IukpURH3e61w+4pLFJWidsh6R9p8013GQFUHKzgmVaFFaIaIyCymnzTX3swx2bZxl4yFNym2yPkOo7wjlafe8TaoFuzvSfl4Lmz4t2AEDm4RnniC9nNeKebuAznnfjW1BaDMPa6NF778VpVbMXJA6Q9KW28RFLlenACuc/AZHr2Fhxdw1QmwWCLpZ/fVCG0LhbpzWu8X5jjP7jMj2rnzvDQjsmC+oPfXhM+3cZ551PtXz2XqfJJst37WgpfXZg0c2geK5o+/i8Z9ogbWScm04O7VEU5EeG7eFc1pCs1ABr2KxbI6qgK5rZPTY1MjrPNv1/IcQL31hfWBAeNr99rePRIvbfefutYvl5IT3Pot2uavVUbmOywYw2M2CCGYuNmHAk/i287h1ed7prwdEWACX0zufdSYhwIGfus3Vp238Zr8zZm3u/f5j1dSm7RtL9xp4XCMttGc3Rpvk9Hb2xrv5vdHHZxf1O/Hrdt/3Hrj+p2d8hm4/ouWP+vkZULtxced15737+bu1BPVHeq64GRO3Zm+EtLs1rqlJjaurvsIe7JzK7sTES1kqewEZdXLf2EiDtUquqb3fOflWJ+4wB1tJHJVAjqGC3mNFjH7ryLDqzyBxlpt4dU7gZ0WHGwjeRIjlXCw4QO+a9eeyuI0dTpRYbU4t5pPD2Hbsc5dbW06I2GhTAUa4o81IcouiWG4LzQGYNUKsyuLkKvVjLabavpzs0vH66NH/4dwkI92kpTa8c37Q7hoKljt5mvtzEX+WRvb3z5QfX1wyngDhpyk3rv3pmm3PU1vOa881945zfPmhqQBB7ENuCwxx4KSc4HLqVc6FGtF0PSPDDvB57ZlWxs5soa5X/+pKKg5J6fo9A7PPEV87L1FhrW0RrKwhe2TYTay8EdpnCeNk8Z/KWd9yFfp66o6MGVEbCCzXAxR7NmdnbVru5mZkWN+vXbjL8VngjSHOWz9PTm/7ujTDiLOfV1+2dLogtRybtqC9k7tV/OY5NobdFGyyq+9bWjUXpwh39u82v08b415322huNPTjT0gTZ3knXn4r8N76c2v7u/YsLXw0hmcb/j8q3wFn9YKuUQAAAABJRU5ErkJggg==\" id=\"image8d8f2ba365\" transform=\"scale(1 -1) translate(0 -221.76)\" x=\"40.9225\" y=\"-12.240313\" width=\"221.76\" height=\"221.76\"/>\n",
       "   </g>\n",
       "   <g id=\"matplotlib.axis_1\">\n",
       "    <g id=\"xtick_1\">\n",
       "     <g id=\"line2d_1\">\n",
       "      <defs>\n",
       "       <path id=\"m415f912278\" d=\"M 0 0 \n",
       "L 0 3.5 \n",
       "\" style=\"stroke: #000000; stroke-width: 0.8\"/>\n",
       "      </defs>\n",
       "      <g>\n",
       "       <use xlink:href=\"#m415f912278\" x=\"41.201093\" y=\"234.000313\" style=\"stroke: #000000; stroke-width: 0.8\"/>\n",
       "      </g>\n",
       "     </g>\n",
       "     <g id=\"text_1\">\n",
       "      <!-- 0 -->\n",
       "      <g transform=\"translate(36.747343 251.638126) scale(0.14 -0.14)\">\n",
       "       <defs>\n",
       "        <path id=\"DejaVuSans-30\" d=\"M 2034 4250 \n",
       "Q 1547 4250 1301 3770 \n",
       "Q 1056 3291 1056 2328 \n",
       "Q 1056 1369 1301 889 \n",
       "Q 1547 409 2034 409 \n",
       "Q 2525 409 2770 889 \n",
       "Q 3016 1369 3016 2328 \n",
       "Q 3016 3291 2770 3770 \n",
       "Q 2525 4250 2034 4250 \n",
       "z\n",
       "M 2034 4750 \n",
       "Q 2819 4750 3233 4129 \n",
       "Q 3647 3509 3647 2328 \n",
       "Q 3647 1150 3233 529 \n",
       "Q 2819 -91 2034 -91 \n",
       "Q 1250 -91 836 529 \n",
       "Q 422 1150 422 2328 \n",
       "Q 422 3509 836 4129 \n",
       "Q 1250 4750 2034 4750 \n",
       "z\n",
       "\" transform=\"scale(0.015625)\"/>\n",
       "       </defs>\n",
       "       <use xlink:href=\"#DejaVuSans-30\"/>\n",
       "      </g>\n",
       "     </g>\n",
       "    </g>\n",
       "    <g id=\"xtick_2\">\n",
       "     <g id=\"line2d_2\">\n",
       "      <g>\n",
       "       <use xlink:href=\"#m415f912278\" x=\"96.919686\" y=\"234.000313\" style=\"stroke: #000000; stroke-width: 0.8\"/>\n",
       "      </g>\n",
       "     </g>\n",
       "     <g id=\"text_2\">\n",
       "      <!-- 100 -->\n",
       "      <g transform=\"translate(83.558436 251.638126) scale(0.14 -0.14)\">\n",
       "       <defs>\n",
       "        <path id=\"DejaVuSans-31\" d=\"M 794 531 \n",
       "L 1825 531 \n",
       "L 1825 4091 \n",
       "L 703 3866 \n",
       "L 703 4441 \n",
       "L 1819 4666 \n",
       "L 2450 4666 \n",
       "L 2450 531 \n",
       "L 3481 531 \n",
       "L 3481 0 \n",
       "L 794 0 \n",
       "L 794 531 \n",
       "z\n",
       "\" transform=\"scale(0.015625)\"/>\n",
       "       </defs>\n",
       "       <use xlink:href=\"#DejaVuSans-31\"/>\n",
       "       <use xlink:href=\"#DejaVuSans-30\" x=\"63.623047\"/>\n",
       "       <use xlink:href=\"#DejaVuSans-30\" x=\"127.246094\"/>\n",
       "      </g>\n",
       "     </g>\n",
       "    </g>\n",
       "    <g id=\"xtick_3\">\n",
       "     <g id=\"line2d_3\">\n",
       "      <g>\n",
       "       <use xlink:href=\"#m415f912278\" x=\"152.638279\" y=\"234.000313\" style=\"stroke: #000000; stroke-width: 0.8\"/>\n",
       "      </g>\n",
       "     </g>\n",
       "     <g id=\"text_3\">\n",
       "      <!-- 200 -->\n",
       "      <g transform=\"translate(139.277029 251.638126) scale(0.14 -0.14)\">\n",
       "       <defs>\n",
       "        <path id=\"DejaVuSans-32\" d=\"M 1228 531 \n",
       "L 3431 531 \n",
       "L 3431 0 \n",
       "L 469 0 \n",
       "L 469 531 \n",
       "Q 828 903 1448 1529 \n",
       "Q 2069 2156 2228 2338 \n",
       "Q 2531 2678 2651 2914 \n",
       "Q 2772 3150 2772 3378 \n",
       "Q 2772 3750 2511 3984 \n",
       "Q 2250 4219 1831 4219 \n",
       "Q 1534 4219 1204 4116 \n",
       "Q 875 4013 500 3803 \n",
       "L 500 4441 \n",
       "Q 881 4594 1212 4672 \n",
       "Q 1544 4750 1819 4750 \n",
       "Q 2544 4750 2975 4387 \n",
       "Q 3406 4025 3406 3419 \n",
       "Q 3406 3131 3298 2873 \n",
       "Q 3191 2616 2906 2266 \n",
       "Q 2828 2175 2409 1742 \n",
       "Q 1991 1309 1228 531 \n",
       "z\n",
       "\" transform=\"scale(0.015625)\"/>\n",
       "       </defs>\n",
       "       <use xlink:href=\"#DejaVuSans-32\"/>\n",
       "       <use xlink:href=\"#DejaVuSans-30\" x=\"63.623047\"/>\n",
       "       <use xlink:href=\"#DejaVuSans-30\" x=\"127.246094\"/>\n",
       "      </g>\n",
       "     </g>\n",
       "    </g>\n",
       "    <g id=\"xtick_4\">\n",
       "     <g id=\"line2d_4\">\n",
       "      <g>\n",
       "       <use xlink:href=\"#m415f912278\" x=\"208.356872\" y=\"234.000313\" style=\"stroke: #000000; stroke-width: 0.8\"/>\n",
       "      </g>\n",
       "     </g>\n",
       "     <g id=\"text_4\">\n",
       "      <!-- 300 -->\n",
       "      <g transform=\"translate(194.995622 251.638126) scale(0.14 -0.14)\">\n",
       "       <defs>\n",
       "        <path id=\"DejaVuSans-33\" d=\"M 2597 2516 \n",
       "Q 3050 2419 3304 2112 \n",
       "Q 3559 1806 3559 1356 \n",
       "Q 3559 666 3084 287 \n",
       "Q 2609 -91 1734 -91 \n",
       "Q 1441 -91 1130 -33 \n",
       "Q 819 25 488 141 \n",
       "L 488 750 \n",
       "Q 750 597 1062 519 \n",
       "Q 1375 441 1716 441 \n",
       "Q 2309 441 2620 675 \n",
       "Q 2931 909 2931 1356 \n",
       "Q 2931 1769 2642 2001 \n",
       "Q 2353 2234 1838 2234 \n",
       "L 1294 2234 \n",
       "L 1294 2753 \n",
       "L 1863 2753 \n",
       "Q 2328 2753 2575 2939 \n",
       "Q 2822 3125 2822 3475 \n",
       "Q 2822 3834 2567 4026 \n",
       "Q 2313 4219 1838 4219 \n",
       "Q 1578 4219 1281 4162 \n",
       "Q 984 4106 628 3988 \n",
       "L 628 4550 \n",
       "Q 988 4650 1302 4700 \n",
       "Q 1616 4750 1894 4750 \n",
       "Q 2613 4750 3031 4423 \n",
       "Q 3450 4097 3450 3541 \n",
       "Q 3450 3153 3228 2886 \n",
       "Q 3006 2619 2597 2516 \n",
       "z\n",
       "\" transform=\"scale(0.015625)\"/>\n",
       "       </defs>\n",
       "       <use xlink:href=\"#DejaVuSans-33\"/>\n",
       "       <use xlink:href=\"#DejaVuSans-30\" x=\"63.623047\"/>\n",
       "       <use xlink:href=\"#DejaVuSans-30\" x=\"127.246094\"/>\n",
       "      </g>\n",
       "     </g>\n",
       "    </g>\n",
       "   </g>\n",
       "   <g id=\"matplotlib.axis_2\">\n",
       "    <g id=\"ytick_1\">\n",
       "     <g id=\"line2d_5\">\n",
       "      <defs>\n",
       "       <path id=\"md48f6f79f3\" d=\"M 0 0 \n",
       "L -3.5 0 \n",
       "\" style=\"stroke: #000000; stroke-width: 0.8\"/>\n",
       "      </defs>\n",
       "      <g>\n",
       "       <use xlink:href=\"#md48f6f79f3\" x=\"40.9225\" y=\"12.518906\" style=\"stroke: #000000; stroke-width: 0.8\"/>\n",
       "      </g>\n",
       "     </g>\n",
       "     <g id=\"text_5\">\n",
       "      <!-- 0 -->\n",
       "      <g transform=\"translate(25.015 17.837813) scale(0.14 -0.14)\">\n",
       "       <use xlink:href=\"#DejaVuSans-30\"/>\n",
       "      </g>\n",
       "     </g>\n",
       "    </g>\n",
       "    <g id=\"ytick_2\">\n",
       "     <g id=\"line2d_6\">\n",
       "      <g>\n",
       "       <use xlink:href=\"#md48f6f79f3\" x=\"40.9225\" y=\"68.237499\" style=\"stroke: #000000; stroke-width: 0.8\"/>\n",
       "      </g>\n",
       "     </g>\n",
       "     <g id=\"text_6\">\n",
       "      <!-- 100 -->\n",
       "      <g transform=\"translate(7.2 73.556405) scale(0.14 -0.14)\">\n",
       "       <use xlink:href=\"#DejaVuSans-31\"/>\n",
       "       <use xlink:href=\"#DejaVuSans-30\" x=\"63.623047\"/>\n",
       "       <use xlink:href=\"#DejaVuSans-30\" x=\"127.246094\"/>\n",
       "      </g>\n",
       "     </g>\n",
       "    </g>\n",
       "    <g id=\"ytick_3\">\n",
       "     <g id=\"line2d_7\">\n",
       "      <g>\n",
       "       <use xlink:href=\"#md48f6f79f3\" x=\"40.9225\" y=\"123.956092\" style=\"stroke: #000000; stroke-width: 0.8\"/>\n",
       "      </g>\n",
       "     </g>\n",
       "     <g id=\"text_7\">\n",
       "      <!-- 200 -->\n",
       "      <g transform=\"translate(7.2 129.274998) scale(0.14 -0.14)\">\n",
       "       <use xlink:href=\"#DejaVuSans-32\"/>\n",
       "       <use xlink:href=\"#DejaVuSans-30\" x=\"63.623047\"/>\n",
       "       <use xlink:href=\"#DejaVuSans-30\" x=\"127.246094\"/>\n",
       "      </g>\n",
       "     </g>\n",
       "    </g>\n",
       "    <g id=\"ytick_4\">\n",
       "     <g id=\"line2d_8\">\n",
       "      <g>\n",
       "       <use xlink:href=\"#md48f6f79f3\" x=\"40.9225\" y=\"179.674685\" style=\"stroke: #000000; stroke-width: 0.8\"/>\n",
       "      </g>\n",
       "     </g>\n",
       "     <g id=\"text_8\">\n",
       "      <!-- 300 -->\n",
       "      <g transform=\"translate(7.2 184.993591) scale(0.14 -0.14)\">\n",
       "       <use xlink:href=\"#DejaVuSans-33\"/>\n",
       "       <use xlink:href=\"#DejaVuSans-30\" x=\"63.623047\"/>\n",
       "       <use xlink:href=\"#DejaVuSans-30\" x=\"127.246094\"/>\n",
       "      </g>\n",
       "     </g>\n",
       "    </g>\n",
       "   </g>\n",
       "   <g id=\"patch_3\">\n",
       "    <path d=\"M 40.9225 234.000313 \n",
       "L 40.9225 12.240313 \n",
       "\" style=\"fill: none; stroke: #000000; stroke-width: 0.8; stroke-linejoin: miter; stroke-linecap: square\"/>\n",
       "   </g>\n",
       "   <g id=\"patch_4\">\n",
       "    <path d=\"M 262.6825 234.000313 \n",
       "L 262.6825 12.240313 \n",
       "\" style=\"fill: none; stroke: #000000; stroke-width: 0.8; stroke-linejoin: miter; stroke-linecap: square\"/>\n",
       "   </g>\n",
       "   <g id=\"patch_5\">\n",
       "    <path d=\"M 40.9225 234.000313 \n",
       "L 262.6825 234.000313 \n",
       "\" style=\"fill: none; stroke: #000000; stroke-width: 0.8; stroke-linejoin: miter; stroke-linecap: square\"/>\n",
       "   </g>\n",
       "   <g id=\"patch_6\">\n",
       "    <path d=\"M 40.9225 12.240313 \n",
       "L 262.6825 12.240313 \n",
       "\" style=\"fill: none; stroke: #000000; stroke-width: 0.8; stroke-linejoin: miter; stroke-linecap: square\"/>\n",
       "   </g>\n",
       "  </g>\n",
       " </g>\n",
       " <defs>\n",
       "  <clipPath id=\"pa7c6614377\">\n",
       "   <rect x=\"40.9225\" y=\"12.240313\" width=\"221.76\" height=\"221.76\"/>\n",
       "  </clipPath>\n",
       " </defs>\n",
       "</svg>\n"
      ],
      "text/plain": [
       "<Figure size 600x400 with 1 Axes>"
      ]
     },
     "metadata": {},
     "output_type": "display_data"
    }
   ],
   "source": [
    "start = time.time()    # start time\n",
    "size = f.shape[0]      # filter size\n",
    "win_img = as_strided(  # Now use as_strided to get a windowed view of the array\n",
    "    image,             # image to view as windows\n",
    "    shape=(image.shape[0] - size + 1, image.shape[1] - size + 1, size, size),  # the shape of the new view (398, 398, 3, 3), the edge pixels are cut-off, but we could always pad if we wanted to here\n",
    "    strides=image.strides * 2,  # this just duplicates the strides as we are now working in 4 dimensions, strides will be (1200, 3, 1200, 3)\n",
    ")\n",
    "filtered_image = (win_img * f).sum(axis=(2, 3))  # apply filter to each window (the 3rd and 4th dimensions of win_img)\n",
    "plt.imshow(filtered_image, cmap=\"gray\")\n",
    "print(f\"Wall time taken for convolution: {time.time()-start:.4f}s\")"
   ]
  },
  {
   "cell_type": "markdown",
   "id": "a730b51b-8e77-4e86-916a-abe163ec3e26",
   "metadata": {},
   "source": [
    "Even though `as_strided()` creates a new array, it uses the same data in memory as the original array. **The only thing that changes is the metadata, which changes how the array is viewed.**\n",
    "\n",
    "If that example was a little too much for you right now, Jessica Yung provides a nice simple example of using arrays and strides in the blog post [What makes Numpy Arrays Fast: Memory and Strides](https://www.jessicayung.com/numpy-arrays-memory-and-strides/)."
   ]
  }
 ],
 "metadata": {
  "kernelspec": {
   "display_name": "Python 3 (ipykernel)",
   "language": "python",
   "name": "python3"
  },
  "language_info": {
   "codemirror_mode": {
    "name": "ipython",
    "version": 3
   },
   "file_extension": ".py",
   "mimetype": "text/x-python",
   "name": "python",
   "nbconvert_exporter": "python",
   "pygments_lexer": "ipython3",
   "version": "3.9.23"
  }
 },
 "nbformat": 4,
 "nbformat_minor": 5
}