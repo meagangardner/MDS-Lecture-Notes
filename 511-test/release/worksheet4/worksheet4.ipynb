{
 "cells": [
  {
   "cell_type": "code",
   "execution_count": null,
   "metadata": {
    "deletable": false,
    "editable": false
   },
   "outputs": [],
   "source": [
    "# Initialize Otter\n",
    "import otter\n",
    "grader = otter.Notebook(\"worksheet4.ipynb\")"
   ]
  },
  {
   "cell_type": "markdown",
   "metadata": {},
   "source": [
    "## Worksheet 4 - Grouping"
   ]
  },
  {
   "cell_type": "markdown",
   "metadata": {},
   "source": [
    "Run the cell below to import the necessary packages for this worksheet."
   ]
  },
  {
   "cell_type": "code",
   "execution_count": null,
   "metadata": {},
   "outputs": [],
   "source": [
    "import pandas as pd\n",
    "import numpy as np"
   ]
  },
  {
   "cell_type": "markdown",
   "metadata": {},
   "source": [
    "### Q1\n",
    "rubric={autograde:1}\n",
    "\n",
    "We return to the Narrabeen beach survey dataset that we encountered in Lab 1. Read in the data from `data/beach_data.csv` and save it to a data frame named `beach_df`, making sure to set the dates as index in a pandas datetime format."
   ]
  },
  {
   "cell_type": "code",
   "execution_count": null,
   "metadata": {
    "tags": []
   },
   "outputs": [],
   "source": [
    "beach_df = ..."
   ]
  },
  {
   "cell_type": "code",
   "execution_count": null,
   "metadata": {
    "deletable": false,
    "editable": false
   },
   "outputs": [],
   "source": [
    "grader.check(\"q1\")"
   ]
  },
  {
   "cell_type": "markdown",
   "metadata": {},
   "source": [
    "## Q2\n",
    "\n",
    "rubric={autograde:1}\n",
    "\n",
    "The data is quite irregularly spaced, with a frequency ranging between a few weeks to a few months. Your first tasks are to\n",
    "\n",
    "* Resample `beach_df` from the previous step to monthly intervals with the mean as the aggregation function.\n",
    "\n",
    "* After resampling, subtract the mean value of each resulting \"location\" column from the same column. This will help to see if a location on the beach is narrower (negative numbers) or wider (positive numbers) at a certain time compared to the average.\n",
    "\n",
    "* Finally, reshape the data set so it has two columnns `location` and `width`. The `location` column should indicate which of the five locations each measurement was taken at.\n",
    "\n",
    "The final data frame should look something like the following:\n",
    "\n",
    "\n",
    "|   &nbsp;   |    location   |   width   |\n",
    "| ---------  | ------        | ------    | \n",
    "|**datetime**|     &nbsp;    |  &nbsp;   |                   \n",
    "|1980-01-01  |   location_1  |   4.796227|\n",
    "|1980-02-01  |  location_1   |  4.296227 |\n",
    "|1980-03-01  | location_1    | 0.596227  |\n",
    "|1980-04-01  |location_1     |5.296227   |\n",
    "|1980-05-01  |   location_1  | -13.903773|\n",
    "|...         |      ...      |    ...    |\n",
    "|2019-07-01  | location_5    |-8.395284  |\n",
    "|2019-08-01  |location_5     |-7.578618  |\n",
    "|2019-09-01  |   location_5  |-15.778618 |\n",
    "|2019-10-01  |  location_5   |-16.478618 |\n",
    "|2019-11-01  | location_5    |-16.895284 |\n",
    "\n",
    "\n"
   ]
  },
  {
   "cell_type": "code",
   "execution_count": null,
   "metadata": {
    "tags": []
   },
   "outputs": [],
   "source": [
    "..."
   ]
  },
  {
   "cell_type": "code",
   "execution_count": null,
   "metadata": {
    "tags": []
   },
   "outputs": [],
   "source": [
    "beach_df"
   ]
  },
  {
   "cell_type": "code",
   "execution_count": null,
   "metadata": {
    "deletable": false,
    "editable": false
   },
   "outputs": [],
   "source": [
    "grader.check(\"q2\")"
   ]
  },
  {
   "cell_type": "markdown",
   "metadata": {},
   "source": [
    "## Q3\n",
    "\n",
    "rubric={autograde: 1}\n",
    "\n",
    "* Extract the month from the `DatetimeIndex`, and use it to create a new `month` column in the original `beach_df` dataframe.\n",
    "* Group the data by month and aggregate it based on the mean. Use this to find the three months where the beach was narrowest on average. Store your answer in a dataframe called `beach_top_3` with 3 rows, 'month' as index and 1 column for 'width'."
   ]
  },
  {
   "cell_type": "code",
   "execution_count": null,
   "metadata": {
    "tags": []
   },
   "outputs": [],
   "source": [
    "..."
   ]
  },
  {
   "cell_type": "code",
   "execution_count": null,
   "metadata": {
    "tags": []
   },
   "outputs": [],
   "source": [
    "beach_top_3"
   ]
  },
  {
   "cell_type": "code",
   "execution_count": null,
   "metadata": {
    "deletable": false,
    "editable": false
   },
   "outputs": [],
   "source": [
    "grader.check(\"q3\")"
   ]
  },
  {
   "cell_type": "markdown",
   "metadata": {},
   "source": [
    "## Q4\n",
    "rubric={autograde:1}\n",
    "\n",
    "Perform a double `groupby()` to determine the combination of **month** *and* **location** for which the beach is the widest. This time, aggregate the data based on the median value per group.\n",
    "\n",
    "Store your output in a dataframe called `beach_df_widest` with a single row. It should have the `month` and `location` as the index, and 1 column called `width`."
   ]
  },
  {
   "cell_type": "code",
   "execution_count": null,
   "metadata": {
    "tags": []
   },
   "outputs": [],
   "source": [
    "beach_df_widest = ..."
   ]
  },
  {
   "cell_type": "code",
   "execution_count": null,
   "metadata": {
    "deletable": false,
    "editable": false
   },
   "outputs": [],
   "source": [
    "grader.check(\"q4\")"
   ]
  },
  {
   "cell_type": "markdown",
   "metadata": {},
   "source": [
    "## Q5\n",
    "rubric={autograde: 1}\n",
    "\n",
    "Run the code cell below to create two dataframes, `dates` and `rooms`."
   ]
  },
  {
   "cell_type": "code",
   "execution_count": null,
   "metadata": {},
   "outputs": [],
   "source": [
    "# RUN THIS CELL\n",
    "\n",
    "dates = pd.DataFrame(\n",
    "                    { 'name': ['Kate', 'Kaiyun', 'Prajeet', 'Tiffany', 'Mohit', 'Eric'],\n",
    "                      'day': ['Monday', 'Tuesday', 'Tuesday', 'Wednesday', 'Thursday', 'Wednesday'],\n",
    "                      'time': ['5pm', '4:30pm', '1pm', '1pm', '4pm', '4pm']\n",
    "                    }\n",
    "                    )\n",
    "\n",
    "rooms = pd.DataFrame(\n",
    "                    {\n",
    "                      'day': ['Wednesday', 'Wednesday', 'Thursday', 'Tuesday', 'Tuesday', 'Monday'],\n",
    "                      'time': ['4pm', '1pm', '4pm', '4:30pm', '1pm', '5pm'],\n",
    "                      'room': ['MCML 160', 'ESB 3174', 'ICCS X153', 'ICCS X153', 'ESB 1046', 'ICCS X153']\n",
    "                    }\n",
    "                    )"
   ]
  },
  {
   "cell_type": "markdown",
   "metadata": {},
   "source": [
    "The data frame `dates` contains the dates and times for some instructor and TA office hours for DSCI 511 this term. In `rooms` you will find room booking information for these dates and times. Your task is to:\n",
    "\n",
    "* Combine the two data frames meaningfully to make a 'time table' of office hours. You will have to decide whether `concat()` or `merge()` is more suitable for this.\n",
    "* Save this time table in a data frame titled `oh_info` with index `name`\n",
    "* Make sure `oh_info` has the three columns `day`, `time` and `room`."
   ]
  },
  {
   "cell_type": "code",
   "execution_count": null,
   "metadata": {
    "tags": []
   },
   "outputs": [],
   "source": [
    "oh_info = None\n",
    "..."
   ]
  },
  {
   "cell_type": "code",
   "execution_count": null,
   "metadata": {
    "tags": []
   },
   "outputs": [],
   "source": [
    "oh_info"
   ]
  },
  {
   "cell_type": "code",
   "execution_count": null,
   "metadata": {
    "deletable": false,
    "editable": false
   },
   "outputs": [],
   "source": [
    "grader.check(\"q5\")"
   ]
  }
 ],
 "metadata": {
  "kernelspec": {
   "display_name": "dsci511",
   "language": "python",
   "name": "python3"
  },
  "language_info": {
   "codemirror_mode": {
    "name": "ipython",
    "version": 3
   },
   "file_extension": ".py",
   "mimetype": "text/x-python",
   "name": "python",
   "nbconvert_exporter": "python",
   "pygments_lexer": "ipython3",
   "version": "3.12.5"
  },
  "otter": {
   "OK_FORMAT": true,
   "tests": {
    "q1": {
     "name": "q1",
     "points": 1,
     "suites": [
      {
       "cases": [
        {
         "code": ">>> assert hasattr(beach_df.index, 'month'), 'Did you remember to parse the dates?'\n>>> assert np.isclose(beach_df.loc['1993-01-11', 'location_3'], 76.0, atol=0.1)\n",
         "hidden": false,
         "locked": false
        }
       ],
       "scored": true,
       "setup": "",
       "teardown": "",
       "type": "doctest"
      }
     ]
    },
    "q2": {
     "name": "q2",
     "points": 1,
     "suites": [
      {
       "cases": [
        {
         "code": ">>> assert beach_df.shape == (2395, 2), 'Did you melt the data frame?'\n>>> assert beach_df.sort_index().index[105] - beach_df.sort_index().index[100] == pd.Timedelta('30 days'), 'Did you resample to a monthly frequency?'\n",
         "hidden": false,
         "locked": false
        }
       ],
       "scored": true,
       "setup": "",
       "teardown": "",
       "type": "doctest"
      }
     ]
    },
    "q3": {
     "name": "q3",
     "points": 1,
     "suites": [
      {
       "cases": [
        {
         "code": ">>> assert beach_top_3.shape == (3, 1)\n>>> assert 'month' in beach_top_3.index.names, \"Error: DataFrame does not have index 'month'\"\n>>> assert 'width' in beach_top_3.columns, \"Error: DataFrame does not have a column 'width'\"\n>>> assert np.isclose(beach_top_3.query('month == 7')['width'].values[0], -1.678812, atol=0.1)\n>>> assert np.isclose(beach_top_3.query('month == 8')['width'].values[0], -1.766926, atol=0.1)\n>>> assert np.isclose(beach_top_3.query('month == 9')['width'].values[0], -1.935821, atol=0.1)\n",
         "hidden": false,
         "locked": false
        }
       ],
       "scored": true,
       "setup": "",
       "teardown": "",
       "type": "doctest"
      }
     ]
    },
    "q4": {
     "name": "q4",
     "points": 1,
     "suites": [
      {
       "cases": [
        {
         "code": ">>> assert len(beach_df_widest) == 1\n>>> assert 'month' in beach_df_widest.index.names\n>>> assert 'location' in beach_df_widest.index.names\n>>> assert 'width' in beach_df_widest.columns\n>>> assert beach_df_widest.index[0] == (5, 'location_5')\n>>> assert np.isclose(beach_df_widest['width'].values[0], 10.471382, atol=0.1)\n",
         "hidden": false,
         "locked": false
        }
       ],
       "scored": true,
       "setup": "",
       "teardown": "",
       "type": "doctest"
      }
     ]
    },
    "q5": {
     "name": "q5",
     "points": 1,
     "suites": [
      {
       "cases": [
        {
         "code": ">>> assert oh_info.shape == (6, 3)\n>>> assert oh_info.loc['Prajeet', 'room'] == 'ESB 1046'\n>>> assert oh_info.loc['Mohit', 'day'] == 'Thursday'\n",
         "hidden": false,
         "locked": false
        }
       ],
       "scored": true,
       "setup": "",
       "teardown": "",
       "type": "doctest"
      }
     ]
    }
   }
  }
 },
 "nbformat": 4,
 "nbformat_minor": 2
}
