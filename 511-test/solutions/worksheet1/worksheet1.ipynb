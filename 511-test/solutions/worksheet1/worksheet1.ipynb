{
 "cells": [
  {
   "cell_type": "raw",
   "metadata": {},
   "source": [
    "# ASSIGNMENT CONFIG\n",
    "solutions_pdf: false\n",
    "export_cell: false\n",
    "check_all_cell: false\n",
    "generate:\n",
    "    pdf: false\n",
    "    zips: false\n",
    "    show_hidden: false\n",
    "    show_stdout: true"
   ]
  },
  {
   "cell_type": "markdown",
   "metadata": {},
   "source": [
    "# Worksheet 1 - Introduction to Pandas"
   ]
  },
  {
   "cell_type": "markdown",
   "metadata": {},
   "source": [
    "## Exercises"
   ]
  },
  {
   "cell_type": "markdown",
   "metadata": {},
   "source": [
    "In this set of practice exercises we'll be investigating the carbon footprint of different foods. We'll be leveraging a dataset compiled by [Kasia Kulma](https://r-tastic.co.uk/post/from-messy-to-tidy/) and contributed to [R's Tidy Tuesday project](https://github.com/rfordatascience/tidytuesday)."
   ]
  },
  {
   "cell_type": "code",
   "execution_count": null,
   "metadata": {},
   "outputs": [],
   "source": [
    "import pandas as pd\n",
    "import numpy as np\n",
    "from hashlib import sha1"
   ]
  },
  {
   "cell_type": "markdown",
   "metadata": {},
   "source": [
    "### 1.1\n",
    "\n",
    "rubric={autograde:1}"
   ]
  },
  {
   "cell_type": "markdown",
   "metadata": {},
   "source": [
    "The dataset we'll be working with has the following columns:\n",
    "\n",
    "|column      |description |\n",
    "|:-------------|:-----------|\n",
    "|country       | Country Name |\n",
    "|food_category | Food Category |\n",
    "|consumption   | Consumption (kg/person/year) |\n",
    "|co2_emmission | Co2 Emission (Kg CO2/person/year) |\n",
    "\n",
    "\n",
    "Import the dataset as a dataframe named `df` from this url: <https://raw.githubusercontent.com/rfordatascience/tidytuesday/master/data/2020/2020-02-18/food_consumption.csv>"
   ]
  },
  {
   "cell_type": "raw",
   "metadata": {},
   "source": [
    "# BEGIN QUESTION\n",
    "name: q1_1\n",
    "points: 1"
   ]
  },
  {
   "cell_type": "raw",
   "metadata": {},
   "source": [
    "# BEGIN SOLUTION"
   ]
  },
  {
   "cell_type": "code",
   "execution_count": null,
   "metadata": {},
   "outputs": [],
   "source": [
    "url = \"https://raw.githubusercontent.com/rfordatascience/tidytuesday/master/data/2020/2020-02-18/food_consumption.csv\" # SOLUTION\n",
    "df = pd.read_csv(url) # SOLUTION\n",
    "df.head()"
   ]
  },
  {
   "cell_type": "raw",
   "metadata": {},
   "source": [
    "# END SOLUTION"
   ]
  },
  {
   "cell_type": "raw",
   "metadata": {},
   "source": [
    "# BEGIN TESTS"
   ]
  },
  {
   "cell_type": "code",
   "execution_count": null,
   "metadata": {},
   "outputs": [],
   "source": [
    "url = \"https://raw.githubusercontent.com/rfordatascience/tidytuesday/master/data/2020/2020-02-18/food_consumption.csv\"\n",
    "assert type(df) == pd.DataFrame, \"Your answer should be a pandas DataFrame called df\"\n",
    "assert len(df) == 1430, \"File not loaded correctly\"\n",
    "assert df.columns.to_list() == ['country', 'food_category', 'consumption', 'co2_emmission'], \"Headers are missing\""
   ]
  },
  {
   "cell_type": "raw",
   "metadata": {},
   "source": [
    "# END TESTS"
   ]
  },
  {
   "cell_type": "raw",
   "metadata": {},
   "source": [
    "# END QUESTION"
   ]
  },
  {
   "cell_type": "markdown",
   "metadata": {},
   "source": [
    "### 1.2\n",
    "\n",
    "rubric={autograde:1}"
   ]
  },
  {
   "cell_type": "markdown",
   "metadata": {},
   "source": [
    "Create a DataFrame that contains a single column, the one containing food categories. Save it in a variable called `food`.\n",
    "Note this must be a DataFrame, not a Series, so be careful with your bracketing!"
   ]
  },
  {
   "cell_type": "raw",
   "metadata": {},
   "source": [
    "# BEGIN QUESTION\n",
    "name: q1_2\n",
    "points: 1"
   ]
  },
  {
   "cell_type": "raw",
   "metadata": {},
   "source": [
    "# BEGIN SOLUTION"
   ]
  },
  {
   "cell_type": "code",
   "execution_count": null,
   "metadata": {},
   "outputs": [],
   "source": [
    "food = df[['food_category']] # SOLUTION\n",
    "food"
   ]
  },
  {
   "cell_type": "raw",
   "metadata": {},
   "source": [
    "# END SOLUTION"
   ]
  },
  {
   "cell_type": "raw",
   "metadata": {},
   "source": [
    "# BEGIN TESTS"
   ]
  },
  {
   "cell_type": "code",
   "execution_count": null,
   "metadata": {},
   "outputs": [],
   "source": [
    "assert type(food) == pd.DataFrame, \"Answer is not a DataFrame\"\n",
    "assert food.shape[1] == 1, '`food` has the wrong number of columns'\n",
    "assert food.shape[0] == 1430, '`modified_df` has the wrong number of rows'\n",
    "assert 'food_category' in df.columns, \"food_category column is missing or misnamed\"\n",
    "assert food.nunique().sum() == 11, \"Column contains wrong data\""
   ]
  },
  {
   "cell_type": "raw",
   "metadata": {},
   "source": [
    "# END TESTS"
   ]
  },
  {
   "cell_type": "raw",
   "metadata": {},
   "source": [
    "# END QUESTION"
   ]
  },
  {
   "cell_type": "markdown",
   "metadata": {},
   "source": [
    "### 1.3\n",
    "\n",
    "rubric={autograde:1}"
   ]
  },
  {
   "cell_type": "markdown",
   "metadata": {},
   "source": [
    "Find the country in row #1234. Save this in a variable called `country_1234`"
   ]
  },
  {
   "cell_type": "raw",
   "metadata": {},
   "source": [
    "# BEGIN QUESTION\n",
    "name: q1_3\n",
    "points: 1"
   ]
  },
  {
   "cell_type": "raw",
   "metadata": {},
   "source": [
    "# BEGIN SOLUTION"
   ]
  },
  {
   "cell_type": "code",
   "execution_count": null,
   "metadata": {},
   "outputs": [],
   "source": [
    "country_1234 = df.iloc[1234]['country'] # SOLUTION\n",
    "country_1234"
   ]
  },
  {
   "cell_type": "raw",
   "metadata": {},
   "source": [
    "# END SOLUTION"
   ]
  },
  {
   "cell_type": "raw",
   "metadata": {},
   "source": [
    "# BEGIN TESTS"
   ]
  },
  {
   "cell_type": "code",
   "execution_count": null,
   "metadata": {},
   "outputs": [],
   "source": [
    "assert type(country_1234) == str, '`country_1234` should be of type `str`'\n",
    "assert sha1(country_1234.encode('utf-8')).hexdigest() == 'f92bcb6a06d2ec7c0af7c8a338f131bf887c64a0', \"Wrong country\""
   ]
  },
  {
   "cell_type": "raw",
   "metadata": {},
   "source": [
    "# END TESTS"
   ]
  },
  {
   "cell_type": "raw",
   "metadata": {},
   "source": [
    "# END QUESTION"
   ]
  },
  {
   "cell_type": "markdown",
   "metadata": {},
   "source": [
    "### 1.4\n",
    "\n",
    "rubric={autograde:1}"
   ]
  },
  {
   "cell_type": "markdown",
   "metadata": {},
   "source": [
    "What is the mean `co2_emission` of the whole dataset? Save the answer to a variable named `mean_co2_emmission`. Your answer should be a `np.float64`."
   ]
  },
  {
   "cell_type": "raw",
   "metadata": {},
   "source": [
    "# BEGIN QUESTION\n",
    "name: q1_4\n",
    "points: 1"
   ]
  },
  {
   "cell_type": "raw",
   "metadata": {},
   "source": [
    "# BEGIN SOLUTION"
   ]
  },
  {
   "cell_type": "code",
   "execution_count": null,
   "metadata": {},
   "outputs": [],
   "source": [
    "mean_co2_emmission = df[\"co2_emmission\"].mean() # SOLUTION\n",
    "mean_co2_emmission"
   ]
  },
  {
   "cell_type": "raw",
   "metadata": {},
   "source": [
    "# END SOLUTION"
   ]
  },
  {
   "cell_type": "raw",
   "metadata": {},
   "source": [
    "# BEGIN TESTS"
   ]
  },
  {
   "cell_type": "code",
   "execution_count": null,
   "metadata": {},
   "outputs": [],
   "source": [
    "assert type(mean_co2_emmission) == np.float64, '`mean_co2_emmission` should be of type `np.float64`'\n",
    "assert sha1(str(round(mean_co2_emmission, 5)).encode('utf-8')).hexdigest() == '5d78a1167015eacc6678b844c55c8640a84792f1', 'mean is calculated incorrectly'"
   ]
  },
  {
   "cell_type": "raw",
   "metadata": {},
   "source": [
    "# END TESTS"
   ]
  },
  {
   "cell_type": "raw",
   "metadata": {},
   "source": [
    "# END QUESTION"
   ]
  },
  {
   "cell_type": "markdown",
   "metadata": {},
   "source": [
    "### 1.5\n",
    "\n",
    "rubric={autograde:1}"
   ]
  },
  {
   "cell_type": "markdown",
   "metadata": {},
   "source": [
    "How many different kinds of foods are there in the dataset? How many countries are in the dataset? Save your answers as two variables whose type should be `int`."
   ]
  },
  {
   "cell_type": "raw",
   "metadata": {},
   "source": [
    "# BEGIN QUESTION\n",
    "name: q1_5\n",
    "points: 1"
   ]
  },
  {
   "cell_type": "raw",
   "metadata": {},
   "source": [
    "# BEGIN SOLUTION"
   ]
  },
  {
   "cell_type": "code",
   "execution_count": null,
   "metadata": {},
   "outputs": [],
   "source": [
    "n_food = df[\"food_category\"].nunique() # SOLUTION\n",
    "n_country = df[\"country\"].nunique() # SOLUTION\n",
    "\n",
    "n_food"
   ]
  },
  {
   "cell_type": "code",
   "execution_count": null,
   "metadata": {},
   "outputs": [],
   "source": [
    "n_country"
   ]
  },
  {
   "cell_type": "raw",
   "metadata": {},
   "source": [
    "# END SOLUTION"
   ]
  },
  {
   "cell_type": "raw",
   "metadata": {},
   "source": [
    "# BEGIN TESTS"
   ]
  },
  {
   "cell_type": "code",
   "execution_count": null,
   "metadata": {},
   "outputs": [],
   "source": [
    "assert type(n_food) == int, '`n_food` should be of type int'\n",
    "assert type(n_country) == int, '`n_country` should be of type int'\n",
    "assert n_food == 11, \"Your answer is incorrect\"\n",
    "assert n_country == 130, \"Your answer is incorrect\""
   ]
  },
  {
   "cell_type": "raw",
   "metadata": {},
   "source": [
    "# END TESTS"
   ]
  },
  {
   "cell_type": "raw",
   "metadata": {},
   "source": [
    "# END QUESTION"
   ]
  },
  {
   "cell_type": "markdown",
   "metadata": {},
   "source": [
    "### 1.6\n",
    "\n",
    "rubric={autograde:1}"
   ]
  },
  {
   "cell_type": "markdown",
   "metadata": {},
   "source": [
    "Sort the dataframe by CO2 emmissions, from biggest to smallest, and get the first 11 rows and the last column as a series. Save this series to a variable called `sorted_co2_emmission`."
   ]
  },
  {
   "cell_type": "raw",
   "metadata": {},
   "source": [
    "# BEGIN QUESTION\n",
    "name: q1_6\n",
    "points: 1"
   ]
  },
  {
   "cell_type": "raw",
   "metadata": {},
   "source": [
    "# BEGIN SOLUTION"
   ]
  },
  {
   "cell_type": "code",
   "execution_count": null,
   "metadata": {},
   "outputs": [],
   "source": [
    "sorted_co2_emmission = df.sort_values('co2_emmission', ascending=False).iloc[:11, -1] # SOLUTION\n",
    "sorted_co2_emmission"
   ]
  },
  {
   "cell_type": "raw",
   "metadata": {},
   "source": [
    "# END SOLUTION"
   ]
  },
  {
   "cell_type": "raw",
   "metadata": {},
   "source": [
    "# BEGIN TESTS"
   ]
  },
  {
   "cell_type": "code",
   "execution_count": null,
   "metadata": {},
   "outputs": [],
   "source": [
    "assert type(sorted_co2_emmission) == pd.core.series.Series, '`sorted_co2_emmission` should be of type pd.core.series.Series'\n",
    "assert len(sorted_co2_emmission) == 11, \"Incorrect number of rows\"\n",
    "assert sha1(str(sorted_co2_emmission.loc[2]).encode('utf-8')).hexdigest() == '926a777ba35253ac61b64714f054df421bb74f69', \"Incorrect column values\"\n",
    "assert sha1(str(sorted_co2_emmission.iloc[-1]).encode('utf-8')).hexdigest() == '2890f860087b19a34f9339f77df0e34c223f7ce7', \"Incorrect column values\""
   ]
  },
  {
   "cell_type": "raw",
   "metadata": {},
   "source": [
    "# END TESTS"
   ]
  },
  {
   "cell_type": "raw",
   "metadata": {},
   "source": [
    "# END QUESTION"
   ]
  },
  {
   "cell_type": "markdown",
   "metadata": {},
   "source": [
    "### 1.7\n",
    "\n",
    "rubric={autograde:1}"
   ]
  },
  {
   "cell_type": "markdown",
   "metadata": {},
   "source": [
    "Assume that the `consumption` column represents kilograms. Create a new dataframe named `modified_df` with a new column called `consumption_lbs` which contains the equivalent in pounds. \n",
    "Note that 1kg = 2.2 pounds."
   ]
  },
  {
   "cell_type": "raw",
   "metadata": {},
   "source": [
    "# BEGIN QUESTION\n",
    "name: q1_7\n",
    "points: 1"
   ]
  },
  {
   "cell_type": "raw",
   "metadata": {},
   "source": [
    "# BEGIN SOLUTION"
   ]
  },
  {
   "cell_type": "code",
   "execution_count": null,
   "metadata": {},
   "outputs": [],
   "source": [
    "# make a copy of df to modify\n",
    "modified_df = df.copy()\n",
    "# BEGIN SOLUTION\n",
    "modified_df['consumption_lbs'] = modified_df['consumption'] * 2.2\n",
    "# END SOLUTION\n",
    "modified_df.head()"
   ]
  },
  {
   "cell_type": "raw",
   "metadata": {},
   "source": [
    "# END SOLUTION"
   ]
  },
  {
   "cell_type": "raw",
   "metadata": {},
   "source": [
    "# BEGIN TESTS"
   ]
  },
  {
   "cell_type": "code",
   "execution_count": null,
   "metadata": {},
   "outputs": [],
   "source": [
    "assert type(modified_df) == pd.DataFrame, '`modified_df` should be of type pd.DataFrame'\n",
    "assert modified_df.shape[1] == 5, '`modified_df` has the wrong number of columns'\n",
    "assert modified_df.shape[0] == 1430, '`modified_df` has the wrong number of rows'\n",
    "assert 'consumption_lbs' in modified_df.columns, \"consumption_lbs missing or misnamed\"\n",
    "assert sha1(str(modified_df.loc[2, 'consumption_lbs']).encode('utf-8')).hexdigest() == 'adedb476f4eee7fa8b790246fc963c78759dc776', \"Incorrect calculation for pounds\""
   ]
  },
  {
   "cell_type": "raw",
   "metadata": {},
   "source": [
    "# END TESTS"
   ]
  },
  {
   "cell_type": "raw",
   "metadata": {},
   "source": [
    "# END QUESTION"
   ]
  },
  {
   "cell_type": "markdown",
   "metadata": {},
   "source": [
    "### 1.8\n",
    "\n",
    "rubric={autograde:1}"
   ]
  },
  {
   "cell_type": "markdown",
   "metadata": {},
   "source": [
    "Find out total consumption in pounds (lbs) for Canada, across all food products. Your answer should be of type `np.float64`. Save the result in a variable called `canada`. *Hint* You might want to set the index to the `country` column."
   ]
  },
  {
   "cell_type": "raw",
   "metadata": {},
   "source": [
    "# BEGIN QUESTION\n",
    "name: q1_8\n",
    "points: 1"
   ]
  },
  {
   "cell_type": "raw",
   "metadata": {},
   "source": [
    "# BEGIN SOLUTION"
   ]
  },
  {
   "cell_type": "code",
   "execution_count": null,
   "metadata": {},
   "outputs": [],
   "source": [
    "# BEGIN SOLUTION\n",
    "d = modified_df.set_index('country')\n",
    "canada = d.loc['Canada']['consumption_lbs'].sum()\n",
    "# END SOLUTION\n",
    "canada"
   ]
  },
  {
   "cell_type": "raw",
   "metadata": {},
   "source": [
    "# END SOLUTION"
   ]
  },
  {
   "cell_type": "raw",
   "metadata": {},
   "source": [
    "# BEGIN TESTS"
   ]
  },
  {
   "cell_type": "code",
   "execution_count": null,
   "metadata": {},
   "outputs": [],
   "source": [
    "assert type(canada) == np.float64, '`canada` should be of type np.float64'\n",
    "assert sha1(str(round(canada, 2)).encode('utf-8')).hexdigest() == '33287b20c5d249c0ab56538a8f4a5bb3b74a5dda', \"Incorrect value\""
   ]
  },
  {
   "cell_type": "raw",
   "metadata": {},
   "source": [
    "# END TESTS"
   ]
  },
  {
   "cell_type": "raw",
   "metadata": {},
   "source": [
    "# END QUESTION"
   ]
  },
  {
   "cell_type": "markdown",
   "metadata": {},
   "source": [
    "### 1.9\n",
    "\n",
    "rubric={autograde:1}"
   ]
  },
  {
   "cell_type": "markdown",
   "metadata": {},
   "source": [
    "Further modify `modified_df` by creating a new column called `co2_per_kilo` which shows the ratio of CO2 emmissions to kilograms consumed."
   ]
  },
  {
   "cell_type": "raw",
   "metadata": {},
   "source": [
    "# BEGIN QUESTION\n",
    "name: q1_9\n",
    "points: 1"
   ]
  },
  {
   "cell_type": "raw",
   "metadata": {},
   "source": [
    "# BEGIN SOLUTION"
   ]
  },
  {
   "cell_type": "code",
   "execution_count": null,
   "metadata": {},
   "outputs": [],
   "source": [
    "# BEGIN SOLUTION\n",
    "modified_df['co2_per_kilo'] = modified_df['co2_emmission'] / modified_df['consumption'] \n",
    "# END SOLUTION\n",
    "modified_df.head()"
   ]
  },
  {
   "cell_type": "raw",
   "metadata": {},
   "source": [
    "# END SOLUTION"
   ]
  },
  {
   "cell_type": "raw",
   "metadata": {},
   "source": [
    "# BEGIN TESTS"
   ]
  },
  {
   "cell_type": "code",
   "execution_count": null,
   "metadata": {},
   "outputs": [],
   "source": [
    "assert type(modified_df) == pd.DataFrame, '`modified_df` should be of type pd.DataFrame'\n",
    "assert modified_df.shape[1] == 6, '`modified_df` has the wrong number of columns'\n",
    "assert modified_df.shape[0] == 1430, '`modified_df` has the wrong number of rows'\n",
    "assert 'co2_per_kilo' in modified_df.columns, 'co2_per_kilo column is missing or misnamed'\n",
    "assert sha1(str(round(modified_df.iloc[1]['co2_per_kilo'], 3)).encode('utf-8')).hexdigest() == '086958593cfacc2890be3289dec2725a9b4a4d5f', \"Incorrect calculation\""
   ]
  },
  {
   "cell_type": "raw",
   "metadata": {},
   "source": [
    "# END TESTS"
   ]
  },
  {
   "cell_type": "raw",
   "metadata": {},
   "source": [
    "# END QUESTION"
   ]
  },
  {
   "cell_type": "markdown",
   "metadata": {},
   "source": [
    "Congratulations! You are done the worksheet!!! Pat yourself on the back and submit your worksheet to Gradescope!"
   ]
  }
 ],
 "metadata": {
  "kernelspec": {
   "display_name": "Python 3 (ipykernel)",
   "language": "python",
   "name": "python3"
  },
  "language_info": {
   "codemirror_mode": {
    "name": "ipython",
    "version": 3
   },
   "file_extension": ".py",
   "mimetype": "text/x-python",
   "name": "python",
   "nbconvert_exporter": "python",
   "pygments_lexer": "ipython3",
   "version": "3.11.9"
  }
 },
 "nbformat": 4,
 "nbformat_minor": 4
}
