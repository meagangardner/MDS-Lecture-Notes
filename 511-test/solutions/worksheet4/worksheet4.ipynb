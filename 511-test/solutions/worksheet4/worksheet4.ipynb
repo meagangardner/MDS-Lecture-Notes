{
 "cells": [
  {
   "cell_type": "raw",
   "metadata": {
    "vscode": {
     "languageId": "raw"
    }
   },
   "source": [
    "# ASSIGNMENT CONFIG\n",
    "solutions_pdf: false\n",
    "export_cell: false\n",
    "check_all_cell: false\n",
    "environment: environment.yml\n",
    "generate:\n",
    "    pdf: false\n",
    "    zips: false\n",
    "    show_hidden: false\n",
    "    show_stdout: true\n",
    "files:\n",
    "    - data/beach_data.csv"
   ]
  },
  {
   "cell_type": "markdown",
   "metadata": {},
   "source": [
    "## Worksheet 4 - Grouping"
   ]
  },
  {
   "cell_type": "markdown",
   "metadata": {},
   "source": [
    "Run the cell below to import the necessary packages for this worksheet."
   ]
  },
  {
   "cell_type": "code",
   "execution_count": 1,
   "metadata": {},
   "outputs": [],
   "source": [
    "import pandas as pd\n",
    "import numpy as np"
   ]
  },
  {
   "cell_type": "markdown",
   "metadata": {},
   "source": [
    "### Q1\n",
    "rubric={autograde:1}\n",
    "\n",
    "We return to the Narrabeen beach survey dataset that we encountered in Lab 1. Read in the data from `data/beach_data.csv` and save it to a data frame named `beach_df`, making sure to set the dates as index in a pandas datetime format."
   ]
  },
  {
   "cell_type": "raw",
   "metadata": {
    "vscode": {
     "languageId": "raw"
    }
   },
   "source": [
    "# BEGIN QUESTION\n",
    "name: q1\n",
    "points: 1"
   ]
  },
  {
   "cell_type": "raw",
   "metadata": {
    "vscode": {
     "languageId": "raw"
    }
   },
   "source": [
    "# BEGIN SOLUTION"
   ]
  },
  {
   "cell_type": "code",
   "execution_count": 2,
   "metadata": {},
   "outputs": [
    {
     "data": {
      "text/html": [
       "<div>\n",
       "<style scoped>\n",
       "    .dataframe tbody tr th:only-of-type {\n",
       "        vertical-align: middle;\n",
       "    }\n",
       "\n",
       "    .dataframe tbody tr th {\n",
       "        vertical-align: top;\n",
       "    }\n",
       "\n",
       "    .dataframe thead th {\n",
       "        text-align: right;\n",
       "    }\n",
       "</style>\n",
       "<table border=\"1\" class=\"dataframe\">\n",
       "  <thead>\n",
       "    <tr style=\"text-align: right;\">\n",
       "      <th></th>\n",
       "      <th>location_1</th>\n",
       "      <th>location_2</th>\n",
       "      <th>location_3</th>\n",
       "      <th>location_4</th>\n",
       "      <th>location_5</th>\n",
       "    </tr>\n",
       "  </thead>\n",
       "  <tbody>\n",
       "    <tr>\n",
       "      <th>1980-01-15</th>\n",
       "      <td>99.4</td>\n",
       "      <td>75.0</td>\n",
       "      <td>92.5</td>\n",
       "      <td>27.5</td>\n",
       "      <td>63.4</td>\n",
       "    </tr>\n",
       "    <tr>\n",
       "      <th>1980-02-22</th>\n",
       "      <td>98.9</td>\n",
       "      <td>77.3</td>\n",
       "      <td>92.6</td>\n",
       "      <td>24.5</td>\n",
       "      <td>63.2</td>\n",
       "    </tr>\n",
       "    <tr>\n",
       "      <th>1980-03-14</th>\n",
       "      <td>95.2</td>\n",
       "      <td>76.8</td>\n",
       "      <td>93.8</td>\n",
       "      <td>29.3</td>\n",
       "      <td>71.3</td>\n",
       "    </tr>\n",
       "    <tr>\n",
       "      <th>1980-04-11</th>\n",
       "      <td>99.9</td>\n",
       "      <td>67.7</td>\n",
       "      <td>102.5</td>\n",
       "      <td>27.8</td>\n",
       "      <td>72.4</td>\n",
       "    </tr>\n",
       "    <tr>\n",
       "      <th>1980-05-23</th>\n",
       "      <td>80.7</td>\n",
       "      <td>63.9</td>\n",
       "      <td>82.5</td>\n",
       "      <td>12.5</td>\n",
       "      <td>73.3</td>\n",
       "    </tr>\n",
       "    <tr>\n",
       "      <th>...</th>\n",
       "      <td>...</td>\n",
       "      <td>...</td>\n",
       "      <td>...</td>\n",
       "      <td>...</td>\n",
       "      <td>...</td>\n",
       "    </tr>\n",
       "    <tr>\n",
       "      <th>2019-10-01</th>\n",
       "      <td>127.6</td>\n",
       "      <td>80.8</td>\n",
       "      <td>78.9</td>\n",
       "      <td>12.6</td>\n",
       "      <td>39.4</td>\n",
       "    </tr>\n",
       "    <tr>\n",
       "      <th>2019-10-15</th>\n",
       "      <td>121.9</td>\n",
       "      <td>76.6</td>\n",
       "      <td>82.3</td>\n",
       "      <td>12.6</td>\n",
       "      <td>37.5</td>\n",
       "    </tr>\n",
       "    <tr>\n",
       "      <th>2019-11-01</th>\n",
       "      <td>127.4</td>\n",
       "      <td>86.6</td>\n",
       "      <td>88.9</td>\n",
       "      <td>13.1</td>\n",
       "      <td>35.6</td>\n",
       "    </tr>\n",
       "    <tr>\n",
       "      <th>2019-11-14</th>\n",
       "      <td>126.7</td>\n",
       "      <td>87.5</td>\n",
       "      <td>82.9</td>\n",
       "      <td>13.0</td>\n",
       "      <td>38.9</td>\n",
       "    </tr>\n",
       "    <tr>\n",
       "      <th>2019-11-27</th>\n",
       "      <td>127.8</td>\n",
       "      <td>89.3</td>\n",
       "      <td>84.1</td>\n",
       "      <td>13.0</td>\n",
       "      <td>39.6</td>\n",
       "    </tr>\n",
       "  </tbody>\n",
       "</table>\n",
       "<p>565 rows × 5 columns</p>\n",
       "</div>"
      ],
      "text/plain": [
       "            location_1  location_2  location_3  location_4  location_5\n",
       "1980-01-15        99.4        75.0        92.5        27.5        63.4\n",
       "1980-02-22        98.9        77.3        92.6        24.5        63.2\n",
       "1980-03-14        95.2        76.8        93.8        29.3        71.3\n",
       "1980-04-11        99.9        67.7       102.5        27.8        72.4\n",
       "1980-05-23        80.7        63.9        82.5        12.5        73.3\n",
       "...                ...         ...         ...         ...         ...\n",
       "2019-10-01       127.6        80.8        78.9        12.6        39.4\n",
       "2019-10-15       121.9        76.6        82.3        12.6        37.5\n",
       "2019-11-01       127.4        86.6        88.9        13.1        35.6\n",
       "2019-11-14       126.7        87.5        82.9        13.0        38.9\n",
       "2019-11-27       127.8        89.3        84.1        13.0        39.6\n",
       "\n",
       "[565 rows x 5 columns]"
      ]
     },
     "execution_count": 2,
     "metadata": {},
     "output_type": "execute_result"
    }
   ],
   "source": [
    "beach_df = pd.read_csv(\"data/beach_data.csv\", index_col=0, parse_dates=True) # SOLUTION\n",
    "beach_df"
   ]
  },
  {
   "cell_type": "raw",
   "metadata": {
    "vscode": {
     "languageId": "raw"
    }
   },
   "source": [
    "# END SOLUTION"
   ]
  },
  {
   "cell_type": "raw",
   "metadata": {
    "vscode": {
     "languageId": "raw"
    }
   },
   "source": [
    "# BEGIN TESTS"
   ]
  },
  {
   "cell_type": "code",
   "execution_count": 3,
   "metadata": {},
   "outputs": [],
   "source": [
    "assert hasattr(beach_df.index, 'month'), \"Did you remember to parse the dates?\"\n",
    "assert np.isclose(beach_df.loc['1993-01-11', 'location_3'], 76.0, atol = 0.1)"
   ]
  },
  {
   "cell_type": "raw",
   "metadata": {
    "vscode": {
     "languageId": "raw"
    }
   },
   "source": [
    "# END TESTS"
   ]
  },
  {
   "cell_type": "raw",
   "metadata": {
    "vscode": {
     "languageId": "raw"
    }
   },
   "source": [
    "# END QUESTION"
   ]
  },
  {
   "cell_type": "markdown",
   "metadata": {},
   "source": [
    "## Q2\n",
    "\n",
    "rubric={autograde:1}\n",
    "\n",
    "The data is quite irregularly spaced, with a frequency ranging between a few weeks to a few months. Your first tasks are to\n",
    "\n",
    "* Resample `beach_df` from the previous step to monthly intervals with the mean as the aggregation function.\n",
    "\n",
    "* After resampling, subtract the mean value of each resulting \"location\" column from the same column. This will help to see if a location on the beach is narrower (negative numbers) or wider (positive numbers) at a certain time compared to the average.\n",
    "\n",
    "* Finally, reshape the data set so it has two columnns `location` and `width`. The `location` column should indicate which of the five locations each measurement was taken at.\n",
    "\n",
    "The final data frame should look something like the following:\n",
    "\n",
    "\n",
    "|   &nbsp;   |    location   |   width   |\n",
    "| ---------  | ------        | ------    | \n",
    "|**datetime**|     &nbsp;    |  &nbsp;   |                   \n",
    "|1980-01-01  |   location_1  |   4.796227|\n",
    "|1980-02-01  |  location_1   |  4.296227 |\n",
    "|1980-03-01  | location_1    | 0.596227  |\n",
    "|1980-04-01  |location_1     |5.296227   |\n",
    "|1980-05-01  |   location_1  | -13.903773|\n",
    "|...         |      ...      |    ...    |\n",
    "|2019-07-01  | location_5    |-8.395284  |\n",
    "|2019-08-01  |location_5     |-7.578618  |\n",
    "|2019-09-01  |   location_5  |-15.778618 |\n",
    "|2019-10-01  |  location_5   |-16.478618 |\n",
    "|2019-11-01  | location_5    |-16.895284 |\n",
    "\n",
    "\n"
   ]
  },
  {
   "cell_type": "raw",
   "metadata": {
    "vscode": {
     "languageId": "raw"
    }
   },
   "source": [
    "# BEGIN QUESTION\n",
    "name: q2\n",
    "points: 1"
   ]
  },
  {
   "cell_type": "raw",
   "metadata": {
    "vscode": {
     "languageId": "raw"
    }
   },
   "source": [
    "# BEGIN SOLUTION"
   ]
  },
  {
   "cell_type": "code",
   "execution_count": 4,
   "metadata": {},
   "outputs": [
    {
     "data": {
      "text/html": [
       "<div>\n",
       "<style scoped>\n",
       "    .dataframe tbody tr th:only-of-type {\n",
       "        vertical-align: middle;\n",
       "    }\n",
       "\n",
       "    .dataframe tbody tr th {\n",
       "        vertical-align: top;\n",
       "    }\n",
       "\n",
       "    .dataframe thead th {\n",
       "        text-align: right;\n",
       "    }\n",
       "</style>\n",
       "<table border=\"1\" class=\"dataframe\">\n",
       "  <thead>\n",
       "    <tr style=\"text-align: right;\">\n",
       "      <th></th>\n",
       "      <th>location_1</th>\n",
       "      <th>location_2</th>\n",
       "      <th>location_3</th>\n",
       "      <th>location_4</th>\n",
       "      <th>location_5</th>\n",
       "    </tr>\n",
       "    <tr>\n",
       "      <th>datetime</th>\n",
       "      <th></th>\n",
       "      <th></th>\n",
       "      <th></th>\n",
       "      <th></th>\n",
       "      <th></th>\n",
       "    </tr>\n",
       "  </thead>\n",
       "  <tbody>\n",
       "    <tr>\n",
       "      <th>1980-01-01</th>\n",
       "      <td>4.796227</td>\n",
       "      <td>3.947666</td>\n",
       "      <td>17.102274</td>\n",
       "      <td>-4.109321</td>\n",
       "      <td>8.471382</td>\n",
       "    </tr>\n",
       "    <tr>\n",
       "      <th>1980-02-01</th>\n",
       "      <td>4.296227</td>\n",
       "      <td>6.247666</td>\n",
       "      <td>17.202274</td>\n",
       "      <td>-7.109321</td>\n",
       "      <td>8.271382</td>\n",
       "    </tr>\n",
       "    <tr>\n",
       "      <th>1980-03-01</th>\n",
       "      <td>0.596227</td>\n",
       "      <td>5.747666</td>\n",
       "      <td>18.402274</td>\n",
       "      <td>-2.309321</td>\n",
       "      <td>16.371382</td>\n",
       "    </tr>\n",
       "    <tr>\n",
       "      <th>1980-04-01</th>\n",
       "      <td>5.296227</td>\n",
       "      <td>-3.352334</td>\n",
       "      <td>27.102274</td>\n",
       "      <td>-3.809321</td>\n",
       "      <td>17.471382</td>\n",
       "    </tr>\n",
       "    <tr>\n",
       "      <th>1980-05-01</th>\n",
       "      <td>-13.903773</td>\n",
       "      <td>-7.152334</td>\n",
       "      <td>7.102274</td>\n",
       "      <td>-19.109321</td>\n",
       "      <td>18.371382</td>\n",
       "    </tr>\n",
       "    <tr>\n",
       "      <th>...</th>\n",
       "      <td>...</td>\n",
       "      <td>...</td>\n",
       "      <td>...</td>\n",
       "      <td>...</td>\n",
       "      <td>...</td>\n",
       "    </tr>\n",
       "    <tr>\n",
       "      <th>2019-07-01</th>\n",
       "      <td>27.529560</td>\n",
       "      <td>20.380999</td>\n",
       "      <td>8.102274</td>\n",
       "      <td>-1.542654</td>\n",
       "      <td>-8.395284</td>\n",
       "    </tr>\n",
       "    <tr>\n",
       "      <th>2019-08-01</th>\n",
       "      <td>28.996227</td>\n",
       "      <td>11.197666</td>\n",
       "      <td>8.402274</td>\n",
       "      <td>-10.309321</td>\n",
       "      <td>-7.578618</td>\n",
       "    </tr>\n",
       "    <tr>\n",
       "      <th>2019-09-01</th>\n",
       "      <td>28.546227</td>\n",
       "      <td>9.547666</td>\n",
       "      <td>4.102274</td>\n",
       "      <td>-17.409321</td>\n",
       "      <td>-15.778618</td>\n",
       "    </tr>\n",
       "    <tr>\n",
       "      <th>2019-10-01</th>\n",
       "      <td>30.146227</td>\n",
       "      <td>7.647666</td>\n",
       "      <td>5.202274</td>\n",
       "      <td>-19.009321</td>\n",
       "      <td>-16.478618</td>\n",
       "    </tr>\n",
       "    <tr>\n",
       "      <th>2019-11-01</th>\n",
       "      <td>32.696227</td>\n",
       "      <td>16.747666</td>\n",
       "      <td>9.902274</td>\n",
       "      <td>-18.575987</td>\n",
       "      <td>-16.895284</td>\n",
       "    </tr>\n",
       "  </tbody>\n",
       "</table>\n",
       "<p>479 rows × 5 columns</p>\n",
       "</div>"
      ],
      "text/plain": [
       "            location_1  location_2  location_3  location_4  location_5\n",
       "datetime                                                              \n",
       "1980-01-01    4.796227    3.947666   17.102274   -4.109321    8.471382\n",
       "1980-02-01    4.296227    6.247666   17.202274   -7.109321    8.271382\n",
       "1980-03-01    0.596227    5.747666   18.402274   -2.309321   16.371382\n",
       "1980-04-01    5.296227   -3.352334   27.102274   -3.809321   17.471382\n",
       "1980-05-01  -13.903773   -7.152334    7.102274  -19.109321   18.371382\n",
       "...                ...         ...         ...         ...         ...\n",
       "2019-07-01   27.529560   20.380999    8.102274   -1.542654   -8.395284\n",
       "2019-08-01   28.996227   11.197666    8.402274  -10.309321   -7.578618\n",
       "2019-09-01   28.546227    9.547666    4.102274  -17.409321  -15.778618\n",
       "2019-10-01   30.146227    7.647666    5.202274  -19.009321  -16.478618\n",
       "2019-11-01   32.696227   16.747666    9.902274  -18.575987  -16.895284\n",
       "\n",
       "[479 rows x 5 columns]"
      ]
     },
     "execution_count": 4,
     "metadata": {},
     "output_type": "execute_result"
    }
   ],
   "source": [
    "# BEGIN SOLUTION\n",
    "beach_df = beach_df.resample(\"MS\").mean()\n",
    "beach_df -= beach_df.mean(axis=0)\n",
    "beach_df.index.name = \"datetime\"\n",
    "#beach_df = beach_df.melt(var_name=\"location\", value_name=\"width\", ignore_index=False)\n",
    "beach_df\n",
    "# END SOLUTION"
   ]
  },
  {
   "cell_type": "raw",
   "metadata": {
    "vscode": {
     "languageId": "raw"
    }
   },
   "source": [
    "# END SOLUTION"
   ]
  },
  {
   "cell_type": "raw",
   "metadata": {
    "vscode": {
     "languageId": "raw"
    }
   },
   "source": [
    "# BEGIN TESTS"
   ]
  },
  {
   "cell_type": "code",
   "execution_count": 5,
   "metadata": {},
   "outputs": [
    {
     "ename": "AssertionError",
     "evalue": "Did you melt the data frame?",
     "output_type": "error",
     "traceback": [
      "\u001b[0;31m---------------------------------------------------------------------------\u001b[0m",
      "\u001b[0;31mAssertionError\u001b[0m                            Traceback (most recent call last)",
      "Cell \u001b[0;32mIn[5], line 1\u001b[0m\n\u001b[0;32m----> 1\u001b[0m \u001b[38;5;28;01massert\u001b[39;00m beach_df\u001b[38;5;241m.\u001b[39mshape \u001b[38;5;241m==\u001b[39m (\u001b[38;5;241m2395\u001b[39m, \u001b[38;5;241m2\u001b[39m), \u001b[38;5;124m\"\u001b[39m\u001b[38;5;124mDid you melt the data frame?\u001b[39m\u001b[38;5;124m\"\u001b[39m\n\u001b[1;32m      2\u001b[0m \u001b[38;5;28;01massert\u001b[39;00m beach_df\u001b[38;5;241m.\u001b[39msort_index()\u001b[38;5;241m.\u001b[39mindex[\u001b[38;5;241m105\u001b[39m] \u001b[38;5;241m-\u001b[39m beach_df\u001b[38;5;241m.\u001b[39msort_index()\u001b[38;5;241m.\u001b[39mindex[\u001b[38;5;241m100\u001b[39m] \u001b[38;5;241m==\u001b[39m pd\u001b[38;5;241m.\u001b[39mTimedelta(\u001b[38;5;124m'\u001b[39m\u001b[38;5;124m30 days\u001b[39m\u001b[38;5;124m'\u001b[39m), \u001b[38;5;124m\"\u001b[39m\u001b[38;5;124mDid you resample to a monthly frequency?\u001b[39m\u001b[38;5;124m\"\u001b[39m\n",
      "\u001b[0;31mAssertionError\u001b[0m: Did you melt the data frame?"
     ]
    }
   ],
   "source": [
    "assert beach_df.shape == (2395, 2), \"Did you melt the data frame?\"\n",
    "assert beach_df.sort_index().index[105] - beach_df.sort_index().index[100] == pd.Timedelta('30 days'), \"Did you resample to a monthly frequency?\"\n"
   ]
  },
  {
   "cell_type": "raw",
   "metadata": {
    "vscode": {
     "languageId": "raw"
    }
   },
   "source": [
    "# END TESTS"
   ]
  },
  {
   "cell_type": "raw",
   "metadata": {
    "vscode": {
     "languageId": "raw"
    }
   },
   "source": [
    "# END QUESTION"
   ]
  },
  {
   "cell_type": "code",
   "execution_count": null,
   "metadata": {},
   "outputs": [],
   "source": [
    "beach_df"
   ]
  },
  {
   "cell_type": "markdown",
   "metadata": {},
   "source": [
    "## Q3\n",
    "\n",
    "rubric={autograde: 1}\n",
    "\n",
    "* Extract the month from the `DatetimeIndex`, and use it to create a new `month` column in the original `beach_df` dataframe.\n",
    "* Group the data by month and aggregate it based on the mean. Use this to find the three months where the beach was narrowest on average. Store your answer in a dataframe called `beach_top_3` with 3 rows, 'month' as index and 1 column for 'width'."
   ]
  },
  {
   "cell_type": "raw",
   "metadata": {
    "vscode": {
     "languageId": "raw"
    }
   },
   "source": [
    "# BEGIN QUESTION\n",
    "name: q3\n",
    "points: 1"
   ]
  },
  {
   "cell_type": "raw",
   "metadata": {
    "vscode": {
     "languageId": "raw"
    }
   },
   "source": [
    "# BEGIN SOLUTION"
   ]
  },
  {
   "cell_type": "code",
   "execution_count": null,
   "metadata": {},
   "outputs": [],
   "source": [
    "# BEGIN SOLUTION\n",
    "beach_df['month'] = beach_df.index.month\n",
    "beach_top_3 = beach_df.groupby('month').mean(numeric_only=True).sort_values(by='width').iloc[:3]\n",
    "beach_top_3\n",
    "# END SOLUTION"
   ]
  },
  {
   "cell_type": "code",
   "execution_count": null,
   "metadata": {},
   "outputs": [],
   "source": [
    "beach_top_3"
   ]
  },
  {
   "cell_type": "raw",
   "metadata": {
    "vscode": {
     "languageId": "raw"
    }
   },
   "source": [
    "# END SOLUTION"
   ]
  },
  {
   "cell_type": "raw",
   "metadata": {
    "vscode": {
     "languageId": "raw"
    }
   },
   "source": [
    "# BEGIN TESTS"
   ]
  },
  {
   "cell_type": "code",
   "execution_count": null,
   "metadata": {},
   "outputs": [],
   "source": [
    "assert beach_top_3.shape == (3, 1)\n",
    "assert 'month' in beach_top_3.index.names, \"Error: DataFrame does not have index 'month'\"\n",
    "assert 'width' in beach_top_3.columns, \"Error: DataFrame does not have a column 'width'\"\n",
    "assert np.isclose(beach_top_3.query('month == 7')['width'].values[0], -1.678812, atol=0.1)\n",
    "assert np.isclose(beach_top_3.query('month == 8')['width'].values[0], -1.766926, atol=0.1)\n",
    "assert np.isclose(beach_top_3.query('month == 9')['width'].values[0], -1.935821, atol=0.1)"
   ]
  },
  {
   "cell_type": "raw",
   "metadata": {
    "vscode": {
     "languageId": "raw"
    }
   },
   "source": [
    "# END TESTS"
   ]
  },
  {
   "cell_type": "raw",
   "metadata": {
    "vscode": {
     "languageId": "raw"
    }
   },
   "source": [
    "# END QUESTION"
   ]
  },
  {
   "cell_type": "markdown",
   "metadata": {},
   "source": [
    "## Q4\n",
    "rubric={autograde:1}\n",
    "\n",
    "Perform a double `groupby()` to determine the combination of **month** *and* **location** for which the beach is the widest. This time, aggregate the data based on the median value per group.\n",
    "\n",
    "Store your output in a dataframe called `beach_df_widest` with a single row. It should have the `month` and `location` as the index, and 1 column called `width`."
   ]
  },
  {
   "cell_type": "code",
   "execution_count": null,
   "metadata": {},
   "outputs": [],
   "source": [
    "beach_df"
   ]
  },
  {
   "cell_type": "raw",
   "metadata": {
    "vscode": {
     "languageId": "raw"
    }
   },
   "source": [
    "# BEGIN QUESTION\n",
    "name: q4\n",
    "points: 1"
   ]
  },
  {
   "cell_type": "raw",
   "metadata": {
    "vscode": {
     "languageId": "raw"
    }
   },
   "source": [
    "# BEGIN SOLUTION"
   ]
  },
  {
   "cell_type": "code",
   "execution_count": null,
   "metadata": {},
   "outputs": [],
   "source": [
    "beach_df_widest = beach_df.groupby(['month', 'location']).median().query(\"width == width.max()\")\n",
    "beach_df_widest\n",
    "# SOLUTION"
   ]
  },
  {
   "cell_type": "raw",
   "metadata": {
    "vscode": {
     "languageId": "raw"
    }
   },
   "source": [
    "# END SOLUTION"
   ]
  },
  {
   "cell_type": "raw",
   "metadata": {
    "vscode": {
     "languageId": "raw"
    }
   },
   "source": [
    "# BEGIN TESTS"
   ]
  },
  {
   "cell_type": "code",
   "execution_count": null,
   "metadata": {},
   "outputs": [],
   "source": [
    "assert len(beach_df_widest) == 1\n",
    "assert 'month' in beach_df_widest.index.names\n",
    "assert 'location' in beach_df_widest.index.names\n",
    "assert 'width' in beach_df_widest.columns\n",
    "assert beach_df_widest.index[0] == (5, 'location_5')\n",
    "assert np.isclose(beach_df_widest['width'].values[0], 10.471382, atol=0.1)"
   ]
  },
  {
   "cell_type": "raw",
   "metadata": {
    "vscode": {
     "languageId": "raw"
    }
   },
   "source": [
    "# END TESTS"
   ]
  },
  {
   "cell_type": "raw",
   "metadata": {
    "vscode": {
     "languageId": "raw"
    }
   },
   "source": [
    "# END QUESTION"
   ]
  },
  {
   "cell_type": "markdown",
   "metadata": {},
   "source": [
    "## Q5\n",
    "rubric={autograde: 1}\n",
    "\n",
    "Run the code cell below to create two dataframes, `dates` and `rooms`."
   ]
  },
  {
   "cell_type": "code",
   "execution_count": null,
   "metadata": {},
   "outputs": [],
   "source": [
    "# RUN THIS CELL\n",
    "\n",
    "dates = pd.DataFrame(\n",
    "                    { 'name': ['Kate', 'Kaiyun', 'Prajeet', 'Tiffany', 'Mohit', 'Eric'],\n",
    "                      'day': ['Monday', 'Tuesday', 'Tuesday', 'Wednesday', 'Thursday', 'Wednesday'],\n",
    "                      'time': ['5pm', '4:30pm', '1pm', '1pm', '4pm', '4pm']\n",
    "                    }\n",
    "                    )\n",
    "\n",
    "rooms = pd.DataFrame(\n",
    "                    {\n",
    "                      'day': ['Wednesday', 'Wednesday', 'Thursday', 'Tuesday', 'Tuesday', 'Monday'],\n",
    "                      'time': ['4pm', '1pm', '4pm', '4:30pm', '1pm', '5pm'],\n",
    "                      'room': ['MCML 160', 'ESB 3174', 'ICCS X153', 'ICCS X153', 'ESB 1046', 'ICCS X153']\n",
    "                    }\n",
    "                    )"
   ]
  },
  {
   "cell_type": "code",
   "execution_count": null,
   "metadata": {},
   "outputs": [],
   "source": [
    "rooms"
   ]
  },
  {
   "cell_type": "code",
   "execution_count": null,
   "metadata": {},
   "outputs": [],
   "source": [
    "dates"
   ]
  },
  {
   "cell_type": "markdown",
   "metadata": {},
   "source": [
    "The data frame `dates` contains the dates and times for some instructor and TA office hours for DSCI 511 this term. In `rooms` you will find room booking information for these dates and times. Your task is to:\n",
    "\n",
    "* Combine the two data frames meaningfully to make a 'time table' of office hours. You will have to decide whether `concat()` or `merge()` is more suitable for this.\n",
    "* Save this time table in a data frame titled `oh_info` with index `name`\n",
    "* Make sure `oh_info` has the three columns `day`, `time` and `room`."
   ]
  },
  {
   "cell_type": "raw",
   "metadata": {
    "vscode": {
     "languageId": "raw"
    }
   },
   "source": [
    "# BEGIN QUESTION\n",
    "name: q5\n",
    "points: 1"
   ]
  },
  {
   "cell_type": "raw",
   "metadata": {
    "vscode": {
     "languageId": "raw"
    }
   },
   "source": [
    "# BEGIN SOLUTION"
   ]
  },
  {
   "cell_type": "code",
   "execution_count": null,
   "metadata": {},
   "outputs": [],
   "source": [
    "oh_info = None\n",
    "# BEGIN SOLUTION\n",
    "oh_info = pd.merge(dates, rooms, on=['day', 'time']).set_index('name')\n",
    "oh_info\n",
    "# END SOLUTION"
   ]
  },
  {
   "cell_type": "code",
   "execution_count": null,
   "metadata": {},
   "outputs": [],
   "source": [
    "oh_info"
   ]
  },
  {
   "cell_type": "raw",
   "metadata": {
    "vscode": {
     "languageId": "raw"
    }
   },
   "source": [
    "# END SOLUTION"
   ]
  },
  {
   "cell_type": "raw",
   "metadata": {
    "vscode": {
     "languageId": "raw"
    }
   },
   "source": [
    "# BEGIN TESTS"
   ]
  },
  {
   "cell_type": "code",
   "execution_count": null,
   "metadata": {},
   "outputs": [],
   "source": [
    "assert oh_info.shape == (6,3)\n",
    "assert oh_info.loc['Prajeet','room'] == 'ESB 1046'\n",
    "assert oh_info.loc['Mohit','day'] == 'Thursday'"
   ]
  },
  {
   "cell_type": "raw",
   "metadata": {
    "vscode": {
     "languageId": "raw"
    }
   },
   "source": [
    "# END TESTS"
   ]
  },
  {
   "cell_type": "raw",
   "metadata": {
    "vscode": {
     "languageId": "raw"
    }
   },
   "source": [
    "# END QUESTION"
   ]
  }
 ],
 "metadata": {
  "kernelspec": {
   "display_name": "Python 3 (ipykernel)",
   "language": "python",
   "name": "python3"
  },
  "language_info": {
   "codemirror_mode": {
    "name": "ipython",
    "version": 3
   },
   "file_extension": ".py",
   "mimetype": "text/x-python",
   "name": "python",
   "nbconvert_exporter": "python",
   "pygments_lexer": "ipython3",
   "version": "3.11.9"
  }
 },
 "nbformat": 4,
 "nbformat_minor": 4
}
