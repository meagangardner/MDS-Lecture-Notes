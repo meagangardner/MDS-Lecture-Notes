{
 "cells": [
  {
   "cell_type": "markdown",
   "metadata": {},
   "source": [
    "# Lecture 8 Discrete Optimization"
   ]
  },
  {
   "cell_type": "code",
   "execution_count": 69,
   "metadata": {},
   "outputs": [],
   "source": [
    "import numpy as np\n",
    "import pandas as pd\n",
    "from collections import defaultdict\n",
    "import urllib.request\n",
    "import pulp\n",
    "\n",
    "import matplotlib.pyplot as plt\n",
    "%config InlineBackend.figure_formats = ['svg']"
   ]
  },
  {
   "cell_type": "markdown",
   "metadata": {
    "jp-MarkdownHeadingCollapsed": true
   },
   "source": [
    "## Pre-Reading\n",
    "- [Linear Programming Intro](https://byjus.com/maths/linear-programming/#:~:text=Linear%20programming%20is%20the%20method,be%20obtained%20in%20those%20conditions.) (can skip \"Simplex Method\" section)"
   ]
  },
  {
   "cell_type": "markdown",
   "metadata": {},
   "source": [
    "## Learning Objectives\n",
    "\n",
    "- Contrast discrete vs. continuous optimization.\n",
    "- Contrast an objective function vs. constraints.\n",
    "- Convert between English descriptions of objective/constraint functions and PuLP code.\n",
    "- Solve an integer linear program using the PuLP library."
   ]
  },
  {
   "cell_type": "markdown",
   "metadata": {},
   "source": [
    "## Discrete Optimization Intro/Example"
   ]
  },
  {
   "cell_type": "markdown",
   "metadata": {},
   "source": [
    "- **Optimization** refers to maximizing or minimizing a function with respect to its inputs.\n",
    "  - **Example 1a:** find the minimum of $f(x)=(x-0.9)^2$. The answer is $0$, when $x=0.9$.\n",
    "- **Discrete optimization** refers to optimization where the variables are _discrete_ (as opposed to continuous).\n",
    "  - **Example 1b:** find the minimum of $f(x)=(x-0.9)^2$ where $x$ is an integer. The answer is $0.01$, when $x=1$.\n",
    "\n",
    "\n"
   ]
  },
  {
   "cell_type": "code",
   "execution_count": 70,
   "metadata": {},
   "outputs": [
    {
     "data": {
      "image/svg+xml": [
       "<?xml version=\"1.0\" encoding=\"utf-8\" standalone=\"no\"?>\n",
       "<!DOCTYPE svg PUBLIC \"-//W3C//DTD SVG 1.1//EN\"\n",
       "  \"http://www.w3.org/Graphics/SVG/1.1/DTD/svg11.dtd\">\n",
       "<svg xmlns:xlink=\"http://www.w3.org/1999/xlink\" width=\"414.46375pt\" height=\"310.86825pt\" viewBox=\"0 0 414.46375 310.86825\" xmlns=\"http://www.w3.org/2000/svg\" version=\"1.1\">\n",
       " <metadata>\n",
       "  <rdf:RDF xmlns:dc=\"http://purl.org/dc/elements/1.1/\" xmlns:cc=\"http://creativecommons.org/ns#\" xmlns:rdf=\"http://www.w3.org/1999/02/22-rdf-syntax-ns#\">\n",
       "   <cc:Work>\n",
       "    <dc:type rdf:resource=\"http://purl.org/dc/dcmitype/StillImage\"/>\n",
       "    <dc:date>2024-10-29T18:32:07.817667</dc:date>\n",
       "    <dc:format>image/svg+xml</dc:format>\n",
       "    <dc:creator>\n",
       "     <cc:Agent>\n",
       "      <dc:title>Matplotlib v3.9.2, https://matplotlib.org/</dc:title>\n",
       "     </cc:Agent>\n",
       "    </dc:creator>\n",
       "   </cc:Work>\n",
       "  </rdf:RDF>\n",
       " </metadata>\n",
       " <defs>\n",
       "  <style type=\"text/css\">*{stroke-linejoin: round; stroke-linecap: butt}</style>\n",
       " </defs>\n",
       " <g id=\"figure_1\">\n",
       "  <g id=\"patch_1\">\n",
       "   <path d=\"M 0 310.86825 \n",
       "L 414.46375 310.86825 \n",
       "L 414.46375 0 \n",
       "L 0 0 \n",
       "z\n",
       "\" style=\"fill: #ffffff\"/>\n",
       "  </g>\n",
       "  <g id=\"axes_1\">\n",
       "   <g id=\"patch_2\">\n",
       "    <path d=\"M 50.14375 273.312 \n",
       "L 407.26375 273.312 \n",
       "L 407.26375 7.2 \n",
       "L 50.14375 7.2 \n",
       "z\n",
       "\" style=\"fill: #ffffff\"/>\n",
       "   </g>\n",
       "   <g id=\"matplotlib.axis_1\">\n",
       "    <g id=\"xtick_1\">\n",
       "     <g id=\"line2d_1\">\n",
       "      <defs>\n",
       "       <path id=\"m7749979d99\" d=\"M 0 0 \n",
       "L 0 3.5 \n",
       "\" style=\"stroke: #000000; stroke-width: 0.8\"/>\n",
       "      </defs>\n",
       "      <g>\n",
       "       <use xlink:href=\"#m7749979d99\" x=\"66.376477\" y=\"273.312\" style=\"stroke: #000000; stroke-width: 0.8\"/>\n",
       "      </g>\n",
       "     </g>\n",
       "     <g id=\"text_1\">\n",
       "      <!-- 0.5 -->\n",
       "      <g transform=\"translate(58.424915 287.910437) scale(0.1 -0.1)\">\n",
       "       <defs>\n",
       "        <path id=\"DejaVuSans-30\" d=\"M 2034 4250 \n",
       "Q 1547 4250 1301 3770 \n",
       "Q 1056 3291 1056 2328 \n",
       "Q 1056 1369 1301 889 \n",
       "Q 1547 409 2034 409 \n",
       "Q 2525 409 2770 889 \n",
       "Q 3016 1369 3016 2328 \n",
       "Q 3016 3291 2770 3770 \n",
       "Q 2525 4250 2034 4250 \n",
       "z\n",
       "M 2034 4750 \n",
       "Q 2819 4750 3233 4129 \n",
       "Q 3647 3509 3647 2328 \n",
       "Q 3647 1150 3233 529 \n",
       "Q 2819 -91 2034 -91 \n",
       "Q 1250 -91 836 529 \n",
       "Q 422 1150 422 2328 \n",
       "Q 422 3509 836 4129 \n",
       "Q 1250 4750 2034 4750 \n",
       "z\n",
       "\" transform=\"scale(0.015625)\"/>\n",
       "        <path id=\"DejaVuSans-2e\" d=\"M 684 794 \n",
       "L 1344 794 \n",
       "L 1344 0 \n",
       "L 684 0 \n",
       "L 684 794 \n",
       "z\n",
       "\" transform=\"scale(0.015625)\"/>\n",
       "        <path id=\"DejaVuSans-35\" d=\"M 691 4666 \n",
       "L 3169 4666 \n",
       "L 3169 4134 \n",
       "L 1269 4134 \n",
       "L 1269 2991 \n",
       "Q 1406 3038 1543 3061 \n",
       "Q 1681 3084 1819 3084 \n",
       "Q 2600 3084 3056 2656 \n",
       "Q 3513 2228 3513 1497 \n",
       "Q 3513 744 3044 326 \n",
       "Q 2575 -91 1722 -91 \n",
       "Q 1428 -91 1123 -41 \n",
       "Q 819 9 494 109 \n",
       "L 494 744 \n",
       "Q 775 591 1075 516 \n",
       "Q 1375 441 1709 441 \n",
       "Q 2250 441 2565 725 \n",
       "Q 2881 1009 2881 1497 \n",
       "Q 2881 1984 2565 2268 \n",
       "Q 2250 2553 1709 2553 \n",
       "Q 1456 2553 1204 2497 \n",
       "Q 953 2441 691 2322 \n",
       "L 691 4666 \n",
       "z\n",
       "\" transform=\"scale(0.015625)\"/>\n",
       "       </defs>\n",
       "       <use xlink:href=\"#DejaVuSans-30\"/>\n",
       "       <use xlink:href=\"#DejaVuSans-2e\" x=\"63.623047\"/>\n",
       "       <use xlink:href=\"#DejaVuSans-35\" x=\"95.410156\"/>\n",
       "      </g>\n",
       "     </g>\n",
       "    </g>\n",
       "    <g id=\"xtick_2\">\n",
       "     <g id=\"line2d_2\">\n",
       "      <g>\n",
       "       <use xlink:href=\"#m7749979d99\" x=\"112.755698\" y=\"273.312\" style=\"stroke: #000000; stroke-width: 0.8\"/>\n",
       "      </g>\n",
       "     </g>\n",
       "     <g id=\"text_2\">\n",
       "      <!-- 0.6 -->\n",
       "      <g transform=\"translate(104.804136 287.910437) scale(0.1 -0.1)\">\n",
       "       <defs>\n",
       "        <path id=\"DejaVuSans-36\" d=\"M 2113 2584 \n",
       "Q 1688 2584 1439 2293 \n",
       "Q 1191 2003 1191 1497 \n",
       "Q 1191 994 1439 701 \n",
       "Q 1688 409 2113 409 \n",
       "Q 2538 409 2786 701 \n",
       "Q 3034 994 3034 1497 \n",
       "Q 3034 2003 2786 2293 \n",
       "Q 2538 2584 2113 2584 \n",
       "z\n",
       "M 3366 4563 \n",
       "L 3366 3988 \n",
       "Q 3128 4100 2886 4159 \n",
       "Q 2644 4219 2406 4219 \n",
       "Q 1781 4219 1451 3797 \n",
       "Q 1122 3375 1075 2522 \n",
       "Q 1259 2794 1537 2939 \n",
       "Q 1816 3084 2150 3084 \n",
       "Q 2853 3084 3261 2657 \n",
       "Q 3669 2231 3669 1497 \n",
       "Q 3669 778 3244 343 \n",
       "Q 2819 -91 2113 -91 \n",
       "Q 1303 -91 875 529 \n",
       "Q 447 1150 447 2328 \n",
       "Q 447 3434 972 4092 \n",
       "Q 1497 4750 2381 4750 \n",
       "Q 2619 4750 2861 4703 \n",
       "Q 3103 4656 3366 4563 \n",
       "z\n",
       "\" transform=\"scale(0.015625)\"/>\n",
       "       </defs>\n",
       "       <use xlink:href=\"#DejaVuSans-30\"/>\n",
       "       <use xlink:href=\"#DejaVuSans-2e\" x=\"63.623047\"/>\n",
       "       <use xlink:href=\"#DejaVuSans-36\" x=\"95.410156\"/>\n",
       "      </g>\n",
       "     </g>\n",
       "    </g>\n",
       "    <g id=\"xtick_3\">\n",
       "     <g id=\"line2d_3\">\n",
       "      <g>\n",
       "       <use xlink:href=\"#m7749979d99\" x=\"159.134919\" y=\"273.312\" style=\"stroke: #000000; stroke-width: 0.8\"/>\n",
       "      </g>\n",
       "     </g>\n",
       "     <g id=\"text_3\">\n",
       "      <!-- 0.7 -->\n",
       "      <g transform=\"translate(151.183356 287.910437) scale(0.1 -0.1)\">\n",
       "       <defs>\n",
       "        <path id=\"DejaVuSans-37\" d=\"M 525 4666 \n",
       "L 3525 4666 \n",
       "L 3525 4397 \n",
       "L 1831 0 \n",
       "L 1172 0 \n",
       "L 2766 4134 \n",
       "L 525 4134 \n",
       "L 525 4666 \n",
       "z\n",
       "\" transform=\"scale(0.015625)\"/>\n",
       "       </defs>\n",
       "       <use xlink:href=\"#DejaVuSans-30\"/>\n",
       "       <use xlink:href=\"#DejaVuSans-2e\" x=\"63.623047\"/>\n",
       "       <use xlink:href=\"#DejaVuSans-37\" x=\"95.410156\"/>\n",
       "      </g>\n",
       "     </g>\n",
       "    </g>\n",
       "    <g id=\"xtick_4\">\n",
       "     <g id=\"line2d_4\">\n",
       "      <g>\n",
       "       <use xlink:href=\"#m7749979d99\" x=\"205.51414\" y=\"273.312\" style=\"stroke: #000000; stroke-width: 0.8\"/>\n",
       "      </g>\n",
       "     </g>\n",
       "     <g id=\"text_4\">\n",
       "      <!-- 0.8 -->\n",
       "      <g transform=\"translate(197.562577 287.910437) scale(0.1 -0.1)\">\n",
       "       <defs>\n",
       "        <path id=\"DejaVuSans-38\" d=\"M 2034 2216 \n",
       "Q 1584 2216 1326 1975 \n",
       "Q 1069 1734 1069 1313 \n",
       "Q 1069 891 1326 650 \n",
       "Q 1584 409 2034 409 \n",
       "Q 2484 409 2743 651 \n",
       "Q 3003 894 3003 1313 \n",
       "Q 3003 1734 2745 1975 \n",
       "Q 2488 2216 2034 2216 \n",
       "z\n",
       "M 1403 2484 \n",
       "Q 997 2584 770 2862 \n",
       "Q 544 3141 544 3541 \n",
       "Q 544 4100 942 4425 \n",
       "Q 1341 4750 2034 4750 \n",
       "Q 2731 4750 3128 4425 \n",
       "Q 3525 4100 3525 3541 \n",
       "Q 3525 3141 3298 2862 \n",
       "Q 3072 2584 2669 2484 \n",
       "Q 3125 2378 3379 2068 \n",
       "Q 3634 1759 3634 1313 \n",
       "Q 3634 634 3220 271 \n",
       "Q 2806 -91 2034 -91 \n",
       "Q 1263 -91 848 271 \n",
       "Q 434 634 434 1313 \n",
       "Q 434 1759 690 2068 \n",
       "Q 947 2378 1403 2484 \n",
       "z\n",
       "M 1172 3481 \n",
       "Q 1172 3119 1398 2916 \n",
       "Q 1625 2713 2034 2713 \n",
       "Q 2441 2713 2670 2916 \n",
       "Q 2900 3119 2900 3481 \n",
       "Q 2900 3844 2670 4047 \n",
       "Q 2441 4250 2034 4250 \n",
       "Q 1625 4250 1398 4047 \n",
       "Q 1172 3844 1172 3481 \n",
       "z\n",
       "\" transform=\"scale(0.015625)\"/>\n",
       "       </defs>\n",
       "       <use xlink:href=\"#DejaVuSans-30\"/>\n",
       "       <use xlink:href=\"#DejaVuSans-2e\" x=\"63.623047\"/>\n",
       "       <use xlink:href=\"#DejaVuSans-38\" x=\"95.410156\"/>\n",
       "      </g>\n",
       "     </g>\n",
       "    </g>\n",
       "    <g id=\"xtick_5\">\n",
       "     <g id=\"line2d_5\">\n",
       "      <g>\n",
       "       <use xlink:href=\"#m7749979d99\" x=\"251.89336\" y=\"273.312\" style=\"stroke: #000000; stroke-width: 0.8\"/>\n",
       "      </g>\n",
       "     </g>\n",
       "     <g id=\"text_5\">\n",
       "      <!-- 0.9 -->\n",
       "      <g transform=\"translate(243.941798 287.910437) scale(0.1 -0.1)\">\n",
       "       <defs>\n",
       "        <path id=\"DejaVuSans-39\" d=\"M 703 97 \n",
       "L 703 672 \n",
       "Q 941 559 1184 500 \n",
       "Q 1428 441 1663 441 \n",
       "Q 2288 441 2617 861 \n",
       "Q 2947 1281 2994 2138 \n",
       "Q 2813 1869 2534 1725 \n",
       "Q 2256 1581 1919 1581 \n",
       "Q 1219 1581 811 2004 \n",
       "Q 403 2428 403 3163 \n",
       "Q 403 3881 828 4315 \n",
       "Q 1253 4750 1959 4750 \n",
       "Q 2769 4750 3195 4129 \n",
       "Q 3622 3509 3622 2328 \n",
       "Q 3622 1225 3098 567 \n",
       "Q 2575 -91 1691 -91 \n",
       "Q 1453 -91 1209 -44 \n",
       "Q 966 3 703 97 \n",
       "z\n",
       "M 1959 2075 \n",
       "Q 2384 2075 2632 2365 \n",
       "Q 2881 2656 2881 3163 \n",
       "Q 2881 3666 2632 3958 \n",
       "Q 2384 4250 1959 4250 \n",
       "Q 1534 4250 1286 3958 \n",
       "Q 1038 3666 1038 3163 \n",
       "Q 1038 2656 1286 2365 \n",
       "Q 1534 2075 1959 2075 \n",
       "z\n",
       "\" transform=\"scale(0.015625)\"/>\n",
       "       </defs>\n",
       "       <use xlink:href=\"#DejaVuSans-30\"/>\n",
       "       <use xlink:href=\"#DejaVuSans-2e\" x=\"63.623047\"/>\n",
       "       <use xlink:href=\"#DejaVuSans-39\" x=\"95.410156\"/>\n",
       "      </g>\n",
       "     </g>\n",
       "    </g>\n",
       "    <g id=\"xtick_6\">\n",
       "     <g id=\"line2d_6\">\n",
       "      <g>\n",
       "       <use xlink:href=\"#m7749979d99\" x=\"298.272581\" y=\"273.312\" style=\"stroke: #000000; stroke-width: 0.8\"/>\n",
       "      </g>\n",
       "     </g>\n",
       "     <g id=\"text_6\">\n",
       "      <!-- 1.0 -->\n",
       "      <g transform=\"translate(290.321019 287.910437) scale(0.1 -0.1)\">\n",
       "       <defs>\n",
       "        <path id=\"DejaVuSans-31\" d=\"M 794 531 \n",
       "L 1825 531 \n",
       "L 1825 4091 \n",
       "L 703 3866 \n",
       "L 703 4441 \n",
       "L 1819 4666 \n",
       "L 2450 4666 \n",
       "L 2450 531 \n",
       "L 3481 531 \n",
       "L 3481 0 \n",
       "L 794 0 \n",
       "L 794 531 \n",
       "z\n",
       "\" transform=\"scale(0.015625)\"/>\n",
       "       </defs>\n",
       "       <use xlink:href=\"#DejaVuSans-31\"/>\n",
       "       <use xlink:href=\"#DejaVuSans-2e\" x=\"63.623047\"/>\n",
       "       <use xlink:href=\"#DejaVuSans-30\" x=\"95.410156\"/>\n",
       "      </g>\n",
       "     </g>\n",
       "    </g>\n",
       "    <g id=\"xtick_7\">\n",
       "     <g id=\"line2d_7\">\n",
       "      <g>\n",
       "       <use xlink:href=\"#m7749979d99\" x=\"344.651802\" y=\"273.312\" style=\"stroke: #000000; stroke-width: 0.8\"/>\n",
       "      </g>\n",
       "     </g>\n",
       "     <g id=\"text_7\">\n",
       "      <!-- 1.1 -->\n",
       "      <g transform=\"translate(336.700239 287.910437) scale(0.1 -0.1)\">\n",
       "       <use xlink:href=\"#DejaVuSans-31\"/>\n",
       "       <use xlink:href=\"#DejaVuSans-2e\" x=\"63.623047\"/>\n",
       "       <use xlink:href=\"#DejaVuSans-31\" x=\"95.410156\"/>\n",
       "      </g>\n",
       "     </g>\n",
       "    </g>\n",
       "    <g id=\"xtick_8\">\n",
       "     <g id=\"line2d_8\">\n",
       "      <g>\n",
       "       <use xlink:href=\"#m7749979d99\" x=\"391.031023\" y=\"273.312\" style=\"stroke: #000000; stroke-width: 0.8\"/>\n",
       "      </g>\n",
       "     </g>\n",
       "     <g id=\"text_8\">\n",
       "      <!-- 1.2 -->\n",
       "      <g transform=\"translate(383.07946 287.910437) scale(0.1 -0.1)\">\n",
       "       <defs>\n",
       "        <path id=\"DejaVuSans-32\" d=\"M 1228 531 \n",
       "L 3431 531 \n",
       "L 3431 0 \n",
       "L 469 0 \n",
       "L 469 531 \n",
       "Q 828 903 1448 1529 \n",
       "Q 2069 2156 2228 2338 \n",
       "Q 2531 2678 2651 2914 \n",
       "Q 2772 3150 2772 3378 \n",
       "Q 2772 3750 2511 3984 \n",
       "Q 2250 4219 1831 4219 \n",
       "Q 1534 4219 1204 4116 \n",
       "Q 875 4013 500 3803 \n",
       "L 500 4441 \n",
       "Q 881 4594 1212 4672 \n",
       "Q 1544 4750 1819 4750 \n",
       "Q 2544 4750 2975 4387 \n",
       "Q 3406 4025 3406 3419 \n",
       "Q 3406 3131 3298 2873 \n",
       "Q 3191 2616 2906 2266 \n",
       "Q 2828 2175 2409 1742 \n",
       "Q 1991 1309 1228 531 \n",
       "z\n",
       "\" transform=\"scale(0.015625)\"/>\n",
       "       </defs>\n",
       "       <use xlink:href=\"#DejaVuSans-31\"/>\n",
       "       <use xlink:href=\"#DejaVuSans-2e\" x=\"63.623047\"/>\n",
       "       <use xlink:href=\"#DejaVuSans-32\" x=\"95.410156\"/>\n",
       "      </g>\n",
       "     </g>\n",
       "    </g>\n",
       "    <g id=\"text_9\">\n",
       "     <!-- x -->\n",
       "     <g transform=\"translate(225.744375 301.588562) scale(0.1 -0.1)\">\n",
       "      <defs>\n",
       "       <path id=\"DejaVuSans-78\" d=\"M 3513 3500 \n",
       "L 2247 1797 \n",
       "L 3578 0 \n",
       "L 2900 0 \n",
       "L 1881 1375 \n",
       "L 863 0 \n",
       "L 184 0 \n",
       "L 1544 1831 \n",
       "L 300 3500 \n",
       "L 978 3500 \n",
       "L 1906 2253 \n",
       "L 2834 3500 \n",
       "L 3513 3500 \n",
       "z\n",
       "\" transform=\"scale(0.015625)\"/>\n",
       "      </defs>\n",
       "      <use xlink:href=\"#DejaVuSans-78\"/>\n",
       "     </g>\n",
       "    </g>\n",
       "   </g>\n",
       "   <g id=\"matplotlib.axis_2\">\n",
       "    <g id=\"ytick_1\">\n",
       "     <g id=\"line2d_9\">\n",
       "      <defs>\n",
       "       <path id=\"m0b272427ef\" d=\"M 0 0 \n",
       "L -3.5 0 \n",
       "\" style=\"stroke: #000000; stroke-width: 0.8\"/>\n",
       "      </defs>\n",
       "      <g>\n",
       "       <use xlink:href=\"#m0b272427ef\" x=\"50.14375\" y=\"261.216\" style=\"stroke: #000000; stroke-width: 0.8\"/>\n",
       "      </g>\n",
       "     </g>\n",
       "     <g id=\"text_10\">\n",
       "      <!-- 0.00 -->\n",
       "      <g transform=\"translate(20.878125 265.015219) scale(0.1 -0.1)\">\n",
       "       <use xlink:href=\"#DejaVuSans-30\"/>\n",
       "       <use xlink:href=\"#DejaVuSans-2e\" x=\"63.623047\"/>\n",
       "       <use xlink:href=\"#DejaVuSans-30\" x=\"95.410156\"/>\n",
       "       <use xlink:href=\"#DejaVuSans-30\" x=\"159.033203\"/>\n",
       "      </g>\n",
       "     </g>\n",
       "    </g>\n",
       "    <g id=\"ytick_2\">\n",
       "     <g id=\"line2d_10\">\n",
       "      <g>\n",
       "       <use xlink:href=\"#m0b272427ef\" x=\"50.14375\" y=\"230.976\" style=\"stroke: #000000; stroke-width: 0.8\"/>\n",
       "      </g>\n",
       "     </g>\n",
       "     <g id=\"text_11\">\n",
       "      <!-- 0.02 -->\n",
       "      <g transform=\"translate(20.878125 234.775219) scale(0.1 -0.1)\">\n",
       "       <use xlink:href=\"#DejaVuSans-30\"/>\n",
       "       <use xlink:href=\"#DejaVuSans-2e\" x=\"63.623047\"/>\n",
       "       <use xlink:href=\"#DejaVuSans-30\" x=\"95.410156\"/>\n",
       "       <use xlink:href=\"#DejaVuSans-32\" x=\"159.033203\"/>\n",
       "      </g>\n",
       "     </g>\n",
       "    </g>\n",
       "    <g id=\"ytick_3\">\n",
       "     <g id=\"line2d_11\">\n",
       "      <g>\n",
       "       <use xlink:href=\"#m0b272427ef\" x=\"50.14375\" y=\"200.736\" style=\"stroke: #000000; stroke-width: 0.8\"/>\n",
       "      </g>\n",
       "     </g>\n",
       "     <g id=\"text_12\">\n",
       "      <!-- 0.04 -->\n",
       "      <g transform=\"translate(20.878125 204.535219) scale(0.1 -0.1)\">\n",
       "       <defs>\n",
       "        <path id=\"DejaVuSans-34\" d=\"M 2419 4116 \n",
       "L 825 1625 \n",
       "L 2419 1625 \n",
       "L 2419 4116 \n",
       "z\n",
       "M 2253 4666 \n",
       "L 3047 4666 \n",
       "L 3047 1625 \n",
       "L 3713 1625 \n",
       "L 3713 1100 \n",
       "L 3047 1100 \n",
       "L 3047 0 \n",
       "L 2419 0 \n",
       "L 2419 1100 \n",
       "L 313 1100 \n",
       "L 313 1709 \n",
       "L 2253 4666 \n",
       "z\n",
       "\" transform=\"scale(0.015625)\"/>\n",
       "       </defs>\n",
       "       <use xlink:href=\"#DejaVuSans-30\"/>\n",
       "       <use xlink:href=\"#DejaVuSans-2e\" x=\"63.623047\"/>\n",
       "       <use xlink:href=\"#DejaVuSans-30\" x=\"95.410156\"/>\n",
       "       <use xlink:href=\"#DejaVuSans-34\" x=\"159.033203\"/>\n",
       "      </g>\n",
       "     </g>\n",
       "    </g>\n",
       "    <g id=\"ytick_4\">\n",
       "     <g id=\"line2d_12\">\n",
       "      <g>\n",
       "       <use xlink:href=\"#m0b272427ef\" x=\"50.14375\" y=\"170.496\" style=\"stroke: #000000; stroke-width: 0.8\"/>\n",
       "      </g>\n",
       "     </g>\n",
       "     <g id=\"text_13\">\n",
       "      <!-- 0.06 -->\n",
       "      <g transform=\"translate(20.878125 174.295219) scale(0.1 -0.1)\">\n",
       "       <use xlink:href=\"#DejaVuSans-30\"/>\n",
       "       <use xlink:href=\"#DejaVuSans-2e\" x=\"63.623047\"/>\n",
       "       <use xlink:href=\"#DejaVuSans-30\" x=\"95.410156\"/>\n",
       "       <use xlink:href=\"#DejaVuSans-36\" x=\"159.033203\"/>\n",
       "      </g>\n",
       "     </g>\n",
       "    </g>\n",
       "    <g id=\"ytick_5\">\n",
       "     <g id=\"line2d_13\">\n",
       "      <g>\n",
       "       <use xlink:href=\"#m0b272427ef\" x=\"50.14375\" y=\"140.256\" style=\"stroke: #000000; stroke-width: 0.8\"/>\n",
       "      </g>\n",
       "     </g>\n",
       "     <g id=\"text_14\">\n",
       "      <!-- 0.08 -->\n",
       "      <g transform=\"translate(20.878125 144.055219) scale(0.1 -0.1)\">\n",
       "       <use xlink:href=\"#DejaVuSans-30\"/>\n",
       "       <use xlink:href=\"#DejaVuSans-2e\" x=\"63.623047\"/>\n",
       "       <use xlink:href=\"#DejaVuSans-30\" x=\"95.410156\"/>\n",
       "       <use xlink:href=\"#DejaVuSans-38\" x=\"159.033203\"/>\n",
       "      </g>\n",
       "     </g>\n",
       "    </g>\n",
       "    <g id=\"ytick_6\">\n",
       "     <g id=\"line2d_14\">\n",
       "      <g>\n",
       "       <use xlink:href=\"#m0b272427ef\" x=\"50.14375\" y=\"110.016\" style=\"stroke: #000000; stroke-width: 0.8\"/>\n",
       "      </g>\n",
       "     </g>\n",
       "     <g id=\"text_15\">\n",
       "      <!-- 0.10 -->\n",
       "      <g transform=\"translate(20.878125 113.815219) scale(0.1 -0.1)\">\n",
       "       <use xlink:href=\"#DejaVuSans-30\"/>\n",
       "       <use xlink:href=\"#DejaVuSans-2e\" x=\"63.623047\"/>\n",
       "       <use xlink:href=\"#DejaVuSans-31\" x=\"95.410156\"/>\n",
       "       <use xlink:href=\"#DejaVuSans-30\" x=\"159.033203\"/>\n",
       "      </g>\n",
       "     </g>\n",
       "    </g>\n",
       "    <g id=\"ytick_7\">\n",
       "     <g id=\"line2d_15\">\n",
       "      <g>\n",
       "       <use xlink:href=\"#m0b272427ef\" x=\"50.14375\" y=\"79.776\" style=\"stroke: #000000; stroke-width: 0.8\"/>\n",
       "      </g>\n",
       "     </g>\n",
       "     <g id=\"text_16\">\n",
       "      <!-- 0.12 -->\n",
       "      <g transform=\"translate(20.878125 83.575219) scale(0.1 -0.1)\">\n",
       "       <use xlink:href=\"#DejaVuSans-30\"/>\n",
       "       <use xlink:href=\"#DejaVuSans-2e\" x=\"63.623047\"/>\n",
       "       <use xlink:href=\"#DejaVuSans-31\" x=\"95.410156\"/>\n",
       "       <use xlink:href=\"#DejaVuSans-32\" x=\"159.033203\"/>\n",
       "      </g>\n",
       "     </g>\n",
       "    </g>\n",
       "    <g id=\"ytick_8\">\n",
       "     <g id=\"line2d_16\">\n",
       "      <g>\n",
       "       <use xlink:href=\"#m0b272427ef\" x=\"50.14375\" y=\"49.536\" style=\"stroke: #000000; stroke-width: 0.8\"/>\n",
       "      </g>\n",
       "     </g>\n",
       "     <g id=\"text_17\">\n",
       "      <!-- 0.14 -->\n",
       "      <g transform=\"translate(20.878125 53.335219) scale(0.1 -0.1)\">\n",
       "       <use xlink:href=\"#DejaVuSans-30\"/>\n",
       "       <use xlink:href=\"#DejaVuSans-2e\" x=\"63.623047\"/>\n",
       "       <use xlink:href=\"#DejaVuSans-31\" x=\"95.410156\"/>\n",
       "       <use xlink:href=\"#DejaVuSans-34\" x=\"159.033203\"/>\n",
       "      </g>\n",
       "     </g>\n",
       "    </g>\n",
       "    <g id=\"ytick_9\">\n",
       "     <g id=\"line2d_17\">\n",
       "      <g>\n",
       "       <use xlink:href=\"#m0b272427ef\" x=\"50.14375\" y=\"19.296\" style=\"stroke: #000000; stroke-width: 0.8\"/>\n",
       "      </g>\n",
       "     </g>\n",
       "     <g id=\"text_18\">\n",
       "      <!-- 0.16 -->\n",
       "      <g transform=\"translate(20.878125 23.095219) scale(0.1 -0.1)\">\n",
       "       <use xlink:href=\"#DejaVuSans-30\"/>\n",
       "       <use xlink:href=\"#DejaVuSans-2e\" x=\"63.623047\"/>\n",
       "       <use xlink:href=\"#DejaVuSans-31\" x=\"95.410156\"/>\n",
       "       <use xlink:href=\"#DejaVuSans-36\" x=\"159.033203\"/>\n",
       "      </g>\n",
       "     </g>\n",
       "    </g>\n",
       "    <g id=\"text_19\">\n",
       "     <!-- y -->\n",
       "     <g transform=\"translate(14.798438 143.215375) rotate(-90) scale(0.1 -0.1)\">\n",
       "      <defs>\n",
       "       <path id=\"DejaVuSans-79\" d=\"M 2059 -325 \n",
       "Q 1816 -950 1584 -1140 \n",
       "Q 1353 -1331 966 -1331 \n",
       "L 506 -1331 \n",
       "L 506 -850 \n",
       "L 844 -850 \n",
       "Q 1081 -850 1212 -737 \n",
       "Q 1344 -625 1503 -206 \n",
       "L 1606 56 \n",
       "L 191 3500 \n",
       "L 800 3500 \n",
       "L 1894 763 \n",
       "L 2988 3500 \n",
       "L 3597 3500 \n",
       "L 2059 -325 \n",
       "z\n",
       "\" transform=\"scale(0.015625)\"/>\n",
       "      </defs>\n",
       "      <use xlink:href=\"#DejaVuSans-79\"/>\n",
       "     </g>\n",
       "    </g>\n",
       "   </g>\n",
       "   <g id=\"line2d_18\">\n",
       "    <path d=\"M 66.376477 19.296 \n",
       "L 89.566088 75.996 \n",
       "L 112.755698 125.136 \n",
       "L 135.945308 166.716 \n",
       "L 159.134919 200.736 \n",
       "L 182.324529 227.196 \n",
       "L 205.51414 246.096 \n",
       "L 228.70375 257.436 \n",
       "L 251.89336 261.216 \n",
       "L 275.082971 257.436 \n",
       "L 298.272581 246.096 \n",
       "L 321.462192 227.196 \n",
       "L 344.651802 200.736 \n",
       "L 367.841412 166.716 \n",
       "L 391.031023 125.136 \n",
       "\" clip-path=\"url(#p7db73223f3)\" style=\"fill: none; stroke: #1f77b4; stroke-width: 1.5; stroke-linecap: square\"/>\n",
       "   </g>\n",
       "   <g id=\"line2d_19\">\n",
       "    <defs>\n",
       "     <path id=\"m75b598f44d\" d=\"M 0 3 \n",
       "C 0.795609 3 1.55874 2.683901 2.12132 2.12132 \n",
       "C 2.683901 1.55874 3 0.795609 3 0 \n",
       "C 3 -0.795609 2.683901 -1.55874 2.12132 -2.12132 \n",
       "C 1.55874 -2.683901 0.795609 -3 0 -3 \n",
       "C -0.795609 -3 -1.55874 -2.683901 -2.12132 -2.12132 \n",
       "C -2.683901 -1.55874 -3 -0.795609 -3 0 \n",
       "C -3 0.795609 -2.683901 1.55874 -2.12132 2.12132 \n",
       "C -1.55874 2.683901 -0.795609 3 0 3 \n",
       "z\n",
       "\" style=\"stroke: #ff0000\"/>\n",
       "    </defs>\n",
       "    <g clip-path=\"url(#p7db73223f3)\">\n",
       "     <use xlink:href=\"#m75b598f44d\" x=\"251.89336\" y=\"261.216\" style=\"fill: #ff0000; stroke: #ff0000\"/>\n",
       "    </g>\n",
       "   </g>\n",
       "   <g id=\"line2d_20\">\n",
       "    <defs>\n",
       "     <path id=\"m8208ae552f\" d=\"M 0 3 \n",
       "C 0.795609 3 1.55874 2.683901 2.12132 2.12132 \n",
       "C 2.683901 1.55874 3 0.795609 3 0 \n",
       "C 3 -0.795609 2.683901 -1.55874 2.12132 -2.12132 \n",
       "C 1.55874 -2.683901 0.795609 -3 0 -3 \n",
       "C -0.795609 -3 -1.55874 -2.683901 -2.12132 -2.12132 \n",
       "C -2.683901 -1.55874 -3 -0.795609 -3 0 \n",
       "C -3 0.795609 -2.683901 1.55874 -2.12132 2.12132 \n",
       "C -1.55874 2.683901 -0.795609 3 0 3 \n",
       "z\n",
       "\" style=\"stroke: #00bfbf\"/>\n",
       "    </defs>\n",
       "    <g clip-path=\"url(#p7db73223f3)\">\n",
       "     <use xlink:href=\"#m8208ae552f\" x=\"298.272581\" y=\"246.096\" style=\"fill: #00bfbf; stroke: #00bfbf\"/>\n",
       "    </g>\n",
       "   </g>\n",
       "   <g id=\"patch_3\">\n",
       "    <path d=\"M 50.14375 273.312 \n",
       "L 50.14375 7.2 \n",
       "\" style=\"fill: none; stroke: #000000; stroke-width: 0.8; stroke-linejoin: miter; stroke-linecap: square\"/>\n",
       "   </g>\n",
       "   <g id=\"patch_4\">\n",
       "    <path d=\"M 407.26375 273.312 \n",
       "L 407.26375 7.2 \n",
       "\" style=\"fill: none; stroke: #000000; stroke-width: 0.8; stroke-linejoin: miter; stroke-linecap: square\"/>\n",
       "   </g>\n",
       "   <g id=\"patch_5\">\n",
       "    <path d=\"M 50.14375 273.312 \n",
       "L 407.26375 273.312 \n",
       "\" style=\"fill: none; stroke: #000000; stroke-width: 0.8; stroke-linejoin: miter; stroke-linecap: square\"/>\n",
       "   </g>\n",
       "   <g id=\"patch_6\">\n",
       "    <path d=\"M 50.14375 7.2 \n",
       "L 407.26375 7.2 \n",
       "\" style=\"fill: none; stroke: #000000; stroke-width: 0.8; stroke-linejoin: miter; stroke-linecap: square\"/>\n",
       "   </g>\n",
       "   <g id=\"legend_1\">\n",
       "    <g id=\"patch_7\">\n",
       "     <path d=\"M 333.518438 44.55625 \n",
       "L 400.26375 44.55625 \n",
       "Q 402.26375 44.55625 402.26375 42.55625 \n",
       "L 402.26375 14.2 \n",
       "Q 402.26375 12.2 400.26375 12.2 \n",
       "L 333.518438 12.2 \n",
       "Q 331.518438 12.2 331.518438 14.2 \n",
       "L 331.518438 42.55625 \n",
       "Q 331.518438 44.55625 333.518438 44.55625 \n",
       "z\n",
       "\" style=\"fill: #ffffff; opacity: 0.8; stroke: #cccccc; stroke-linejoin: miter\"/>\n",
       "    </g>\n",
       "    <g id=\"line2d_21\">\n",
       "     <g>\n",
       "      <use xlink:href=\"#m75b598f44d\" x=\"345.518438\" y=\"20.298437\" style=\"fill: #ff0000; stroke: #ff0000\"/>\n",
       "     </g>\n",
       "    </g>\n",
       "    <g id=\"text_20\">\n",
       "     <!-- 1a min -->\n",
       "     <g transform=\"translate(363.518438 23.798437) scale(0.1 -0.1)\">\n",
       "      <defs>\n",
       "       <path id=\"DejaVuSans-61\" d=\"M 2194 1759 \n",
       "Q 1497 1759 1228 1600 \n",
       "Q 959 1441 959 1056 \n",
       "Q 959 750 1161 570 \n",
       "Q 1363 391 1709 391 \n",
       "Q 2188 391 2477 730 \n",
       "Q 2766 1069 2766 1631 \n",
       "L 2766 1759 \n",
       "L 2194 1759 \n",
       "z\n",
       "M 3341 1997 \n",
       "L 3341 0 \n",
       "L 2766 0 \n",
       "L 2766 531 \n",
       "Q 2569 213 2275 61 \n",
       "Q 1981 -91 1556 -91 \n",
       "Q 1019 -91 701 211 \n",
       "Q 384 513 384 1019 \n",
       "Q 384 1609 779 1909 \n",
       "Q 1175 2209 1959 2209 \n",
       "L 2766 2209 \n",
       "L 2766 2266 \n",
       "Q 2766 2663 2505 2880 \n",
       "Q 2244 3097 1772 3097 \n",
       "Q 1472 3097 1187 3025 \n",
       "Q 903 2953 641 2809 \n",
       "L 641 3341 \n",
       "Q 956 3463 1253 3523 \n",
       "Q 1550 3584 1831 3584 \n",
       "Q 2591 3584 2966 3190 \n",
       "Q 3341 2797 3341 1997 \n",
       "z\n",
       "\" transform=\"scale(0.015625)\"/>\n",
       "       <path id=\"DejaVuSans-20\" transform=\"scale(0.015625)\"/>\n",
       "       <path id=\"DejaVuSans-6d\" d=\"M 3328 2828 \n",
       "Q 3544 3216 3844 3400 \n",
       "Q 4144 3584 4550 3584 \n",
       "Q 5097 3584 5394 3201 \n",
       "Q 5691 2819 5691 2113 \n",
       "L 5691 0 \n",
       "L 5113 0 \n",
       "L 5113 2094 \n",
       "Q 5113 2597 4934 2840 \n",
       "Q 4756 3084 4391 3084 \n",
       "Q 3944 3084 3684 2787 \n",
       "Q 3425 2491 3425 1978 \n",
       "L 3425 0 \n",
       "L 2847 0 \n",
       "L 2847 2094 \n",
       "Q 2847 2600 2669 2842 \n",
       "Q 2491 3084 2119 3084 \n",
       "Q 1678 3084 1418 2786 \n",
       "Q 1159 2488 1159 1978 \n",
       "L 1159 0 \n",
       "L 581 0 \n",
       "L 581 3500 \n",
       "L 1159 3500 \n",
       "L 1159 2956 \n",
       "Q 1356 3278 1631 3431 \n",
       "Q 1906 3584 2284 3584 \n",
       "Q 2666 3584 2933 3390 \n",
       "Q 3200 3197 3328 2828 \n",
       "z\n",
       "\" transform=\"scale(0.015625)\"/>\n",
       "       <path id=\"DejaVuSans-69\" d=\"M 603 3500 \n",
       "L 1178 3500 \n",
       "L 1178 0 \n",
       "L 603 0 \n",
       "L 603 3500 \n",
       "z\n",
       "M 603 4863 \n",
       "L 1178 4863 \n",
       "L 1178 4134 \n",
       "L 603 4134 \n",
       "L 603 4863 \n",
       "z\n",
       "\" transform=\"scale(0.015625)\"/>\n",
       "       <path id=\"DejaVuSans-6e\" d=\"M 3513 2113 \n",
       "L 3513 0 \n",
       "L 2938 0 \n",
       "L 2938 2094 \n",
       "Q 2938 2591 2744 2837 \n",
       "Q 2550 3084 2163 3084 \n",
       "Q 1697 3084 1428 2787 \n",
       "Q 1159 2491 1159 1978 \n",
       "L 1159 0 \n",
       "L 581 0 \n",
       "L 581 3500 \n",
       "L 1159 3500 \n",
       "L 1159 2956 \n",
       "Q 1366 3272 1645 3428 \n",
       "Q 1925 3584 2291 3584 \n",
       "Q 2894 3584 3203 3211 \n",
       "Q 3513 2838 3513 2113 \n",
       "z\n",
       "\" transform=\"scale(0.015625)\"/>\n",
       "      </defs>\n",
       "      <use xlink:href=\"#DejaVuSans-31\"/>\n",
       "      <use xlink:href=\"#DejaVuSans-61\" x=\"63.623047\"/>\n",
       "      <use xlink:href=\"#DejaVuSans-20\" x=\"124.902344\"/>\n",
       "      <use xlink:href=\"#DejaVuSans-6d\" x=\"156.689453\"/>\n",
       "      <use xlink:href=\"#DejaVuSans-69\" x=\"254.101562\"/>\n",
       "      <use xlink:href=\"#DejaVuSans-6e\" x=\"281.884766\"/>\n",
       "     </g>\n",
       "    </g>\n",
       "    <g id=\"line2d_22\">\n",
       "     <g>\n",
       "      <use xlink:href=\"#m8208ae552f\" x=\"345.518438\" y=\"34.976562\" style=\"fill: #00bfbf; stroke: #00bfbf\"/>\n",
       "     </g>\n",
       "    </g>\n",
       "    <g id=\"text_21\">\n",
       "     <!-- 1b min -->\n",
       "     <g transform=\"translate(363.518438 38.476562) scale(0.1 -0.1)\">\n",
       "      <defs>\n",
       "       <path id=\"DejaVuSans-62\" d=\"M 3116 1747 \n",
       "Q 3116 2381 2855 2742 \n",
       "Q 2594 3103 2138 3103 \n",
       "Q 1681 3103 1420 2742 \n",
       "Q 1159 2381 1159 1747 \n",
       "Q 1159 1113 1420 752 \n",
       "Q 1681 391 2138 391 \n",
       "Q 2594 391 2855 752 \n",
       "Q 3116 1113 3116 1747 \n",
       "z\n",
       "M 1159 2969 \n",
       "Q 1341 3281 1617 3432 \n",
       "Q 1894 3584 2278 3584 \n",
       "Q 2916 3584 3314 3078 \n",
       "Q 3713 2572 3713 1747 \n",
       "Q 3713 922 3314 415 \n",
       "Q 2916 -91 2278 -91 \n",
       "Q 1894 -91 1617 61 \n",
       "Q 1341 213 1159 525 \n",
       "L 1159 0 \n",
       "L 581 0 \n",
       "L 581 4863 \n",
       "L 1159 4863 \n",
       "L 1159 2969 \n",
       "z\n",
       "\" transform=\"scale(0.015625)\"/>\n",
       "      </defs>\n",
       "      <use xlink:href=\"#DejaVuSans-31\"/>\n",
       "      <use xlink:href=\"#DejaVuSans-62\" x=\"63.623047\"/>\n",
       "      <use xlink:href=\"#DejaVuSans-20\" x=\"127.099609\"/>\n",
       "      <use xlink:href=\"#DejaVuSans-6d\" x=\"158.886719\"/>\n",
       "      <use xlink:href=\"#DejaVuSans-69\" x=\"256.298828\"/>\n",
       "      <use xlink:href=\"#DejaVuSans-6e\" x=\"284.082031\"/>\n",
       "     </g>\n",
       "    </g>\n",
       "   </g>\n",
       "  </g>\n",
       " </g>\n",
       " <defs>\n",
       "  <clipPath id=\"p7db73223f3\">\n",
       "   <rect x=\"50.14375\" y=\"7.2\" width=\"357.12\" height=\"266.112\"/>\n",
       "  </clipPath>\n",
       " </defs>\n",
       "</svg>\n"
      ],
      "text/plain": [
       "<Figure size 640x480 with 1 Axes>"
      ]
     },
     "metadata": {},
     "output_type": "display_data"
    }
   ],
   "source": [
    "x = np.arange(0.5, 1.25, 0.05)\n",
    "\n",
    "plt.plot(x, (x-0.9)**2)\n",
    "plt.plot(0.9, 0, 'ro', label=\"1a min\")\n",
    "plt.plot(1, 0.01, 'co', label=\"1b min\")\n",
    "plt.legend()\n",
    "plt.xlabel('x')\n",
    "plt.ylabel('y');"
   ]
  },
  {
   "cell_type": "markdown",
   "metadata": {},
   "source": [
    "#### Example Problem\n",
    "\n",
    "**Example 2:** find the length-8 string of letters (e.g. `aaaaaaaa`, `abcdefgh`, etc.) that contains the most English words in it.\n",
    "\n",
    "- Because the problem is discrete, we can count the number of \"options\" or \"configurations\".\n",
    "  - In **Example 1** above, $x$ is any integer so there are infinitely many.\n",
    "  - In **Example 2**, if we're just using the 26 lower-case letters, we have $26^8$ possibilities."
   ]
  },
  {
   "cell_type": "code",
   "execution_count": 71,
   "metadata": {},
   "outputs": [
    {
     "data": {
      "text/plain": [
       "208827064576"
      ]
     },
     "execution_count": 71,
     "metadata": {},
     "output_type": "execute_result"
    }
   ],
   "source": [
    "26**8"
   ]
  },
  {
   "cell_type": "markdown",
   "metadata": {},
   "source": [
    "That is a lot!\n"
   ]
  },
  {
   "cell_type": "markdown",
   "metadata": {},
   "source": [
    "If the number of possibilities is finite, you can enumerate (or list) all possible configurations (inputs).\n",
    "  - In our example, there is `aaaaaaaa`, `aaaaaaab`, `aaaaaaac`, ..., `zzzzzzzz`. \n",
    "  - This is called \"brute force search\".\n",
    "  - Often, it's not computationally feasible to search through all possible combinations because there are too many. \n",
    "  - So we need smarter algorithms that can somehow learn to ignore or \"throw away\" large numbers of possibilities without explicitly checking them."
   ]
  },
  {
   "cell_type": "markdown",
   "metadata": {},
   "source": [
    "#### Specifying an Optimization Problem\n",
    "\n",
    "To specify the problem, we need to specify a few things:\n",
    "\n",
    "1. A description of the **space of possible inputs**.\n",
    "2. An **objective function** which takes an input and computes a score. \n",
    "3. Are we **maximizing or minimizing**?\n",
    "\n",
    "In **Example 2**, the space of possible inputs is all length-8 strings. And the objective function is the number of English words in the string, and we are maximizing it. "
   ]
  },
  {
   "cell_type": "markdown",
   "metadata": {},
   "source": [
    "#### Solving an Optimization Problem with Brute Force (example)\n",
    "\n",
    "First, let's implement the objective function in Python"
   ]
  },
  {
   "cell_type": "code",
   "execution_count": 73,
   "metadata": {},
   "outputs": [],
   "source": [
    "words_file = urllib.request.urlopen(\"https://gist.githubusercontent.com/deekayen/4148741/raw/01c6252ccc5b5fb307c1bb899c95989a8a284616/1-1000.txt\")\n",
    "word_list = {s.decode(\"utf-8\").strip().lower() for s in words_file.readlines()}"
   ]
  },
  {
   "cell_type": "markdown",
   "metadata": {},
   "source": [
    "- Note on the above: we're just using the 1000 most common English words. \n",
    "- I tried a full corpus of English words but it turns out a lot of strange things are English words, like \"t\" or \"ea\"."
   ]
  },
  {
   "cell_type": "code",
   "execution_count": 74,
   "metadata": {},
   "outputs": [],
   "source": [
    "def english_words_in_string(s):\n",
    "    \"\"\"\n",
    "    Find all the English words within a string.\n",
    "    \n",
    "    Parameters\n",
    "    ----------\n",
    "    s : str\n",
    "        The input string.\n",
    "       \n",
    "    Returns\n",
    "    -------\n",
    "    set\n",
    "        The set of English words contained in s.\n",
    "        \n",
    "    Example\n",
    "    -------\n",
    "    >>> english_words_in_string(\"theapple\")\n",
    "    {'a', 'apple', 'he', 'the'}\n",
    "    \"\"\"\n",
    "    \n",
    "    words = set()\n",
    "    for start in range(len(s)):\n",
    "        for end in range(start+1, len(s)+1):\n",
    "            if s[start:end] in word_list:\n",
    "                words.add(s[start:end])\n",
    "    return words"
   ]
  },
  {
   "cell_type": "code",
   "execution_count": 75,
   "metadata": {},
   "outputs": [
    {
     "data": {
      "text/plain": [
       "{'a', 'apple', 'he', 'the'}"
      ]
     },
     "execution_count": 75,
     "metadata": {},
     "output_type": "execute_result"
    }
   ],
   "source": [
    "english_words_in_string(\"theapple\")"
   ]
  },
  {
   "cell_type": "markdown",
   "metadata": {},
   "source": [
    "It looks like the length-8 string `theapple` contains a bunch of words."
   ]
  },
  {
   "cell_type": "markdown",
   "metadata": {},
   "source": [
    "Next, let's implement the objective function:"
   ]
  },
  {
   "cell_type": "code",
   "execution_count": 76,
   "metadata": {},
   "outputs": [
    {
     "data": {
      "text/plain": [
       "4"
      ]
     },
     "execution_count": 76,
     "metadata": {},
     "output_type": "execute_result"
    }
   ],
   "source": [
    "def objective_fun(s):\n",
    "    \"\"\"Count the number of English words contained within a string.\"\"\"\n",
    "    return len(english_words_in_string(s))\n",
    "\n",
    "objective_fun(\"theapple\")"
   ]
  },
  {
   "cell_type": "markdown",
   "metadata": {},
   "source": [
    "The score given by the objective function for `theapple` is 4. We are trying to find the string (or strings - the solution is not always unique) that make this value as large as possible."
   ]
  },
  {
   "cell_type": "markdown",
   "metadata": {},
   "source": [
    "**Note:** For the next parts, we'll restrict ourselves to only using the first 5 letters of the alphabet (a, b, c, d, e) so that the code isn't too slow. This way we should only have:"
   ]
  },
  {
   "cell_type": "code",
   "execution_count": 77,
   "metadata": {},
   "outputs": [
    {
     "data": {
      "text/plain": [
       "390625"
      ]
     },
     "execution_count": 77,
     "metadata": {},
     "output_type": "execute_result"
    }
   ],
   "source": [
    "5**8"
   ]
  },
  {
   "cell_type": "markdown",
   "metadata": {},
   "source": [
    "possibilities, which is reasonable. We'll grab this function from Lab 3's question on tricky recursive code:"
   ]
  },
  {
   "cell_type": "code",
   "execution_count": 78,
   "metadata": {},
   "outputs": [],
   "source": [
    "def get_inputs(letters, n):\n",
    "    \"\"\"\n",
    "    Return all length-n strings using letters.\n",
    "    \n",
    "    Parameters\n",
    "    ----------\n",
    "    letters : list\n",
    "        The list of letters (could be a string or a list)\n",
    "    \n",
    "    n : int\n",
    "        The desired length.\n",
    "        \n",
    "    Returns\n",
    "    -------\n",
    "    list\n",
    "        A list of the resulting strings.\n",
    "        \n",
    "    Examples\n",
    "    --------\n",
    "    get_inputs(['a', 'b', 'c'], 2)\n",
    "    ['aa', 'ab', 'ac', 'ba', 'bb', 'bc', 'ca', 'cb', 'cc']\n",
    "    \"\"\"\n",
    "    \n",
    "    if n == 0:\n",
    "        return [\"\"]\n",
    "\n",
    "    return [letter + l for letter in letters for l in get_inputs(letters, n-1)]"
   ]
  },
  {
   "cell_type": "code",
   "execution_count": 79,
   "metadata": {},
   "outputs": [],
   "source": [
    "inputs = get_inputs(['a', 'b', 'c', 'd', 'e'], 8)"
   ]
  },
  {
   "cell_type": "code",
   "execution_count": 80,
   "metadata": {},
   "outputs": [
    {
     "data": {
      "text/plain": [
       "['aaaaaaaa',\n",
       " 'aaaaaaab',\n",
       " 'aaaaaaac',\n",
       " 'aaaaaaad',\n",
       " 'aaaaaaae',\n",
       " 'aaaaaaba',\n",
       " 'aaaaaabb',\n",
       " 'aaaaaabc',\n",
       " 'aaaaaabd',\n",
       " 'aaaaaabe']"
      ]
     },
     "execution_count": 80,
     "metadata": {},
     "output_type": "execute_result"
    }
   ],
   "source": [
    "inputs[:10] # print out the first 10"
   ]
  },
  {
   "cell_type": "code",
   "execution_count": 81,
   "metadata": {},
   "outputs": [
    {
     "data": {
      "text/plain": [
       "5"
      ]
     },
     "execution_count": 81,
     "metadata": {},
     "output_type": "execute_result"
    }
   ],
   "source": [
    "scores = list(map(objective_fun, inputs))\n",
    "np.max(scores)"
   ]
  },
  {
   "cell_type": "markdown",
   "metadata": {},
   "source": [
    "5 words using only 5 letters! Let's see what string led to this:"
   ]
  },
  {
   "cell_type": "code",
   "execution_count": 82,
   "metadata": {},
   "outputs": [
    {
     "data": {
      "text/plain": [
       "'aabedadd'"
      ]
     },
     "execution_count": 82,
     "metadata": {},
     "output_type": "execute_result"
    }
   ],
   "source": [
    "best_s = inputs[np.argmax(scores)]\n",
    "best_s"
   ]
  },
  {
   "cell_type": "markdown",
   "metadata": {},
   "source": [
    "And the words:"
   ]
  },
  {
   "cell_type": "code",
   "execution_count": 83,
   "metadata": {},
   "outputs": [
    {
     "data": {
      "text/plain": [
       "{'a', 'add', 'be', 'bed', 'dad'}"
      ]
     },
     "execution_count": 83,
     "metadata": {},
     "output_type": "execute_result"
    }
   ],
   "source": [
    "english_words_in_string(best_s)"
   ]
  },
  {
   "cell_type": "markdown",
   "metadata": {},
   "source": [
    "Can you imagine coming up with this by hand?"
   ]
  },
  {
   "cell_type": "markdown",
   "metadata": {},
   "source": [
    "We can also check if the solution is unique:"
   ]
  },
  {
   "cell_type": "code",
   "execution_count": 84,
   "metadata": {},
   "outputs": [
    {
     "data": {
      "text/plain": [
       "array([0, 0, 0, ..., 5, 5, 5])"
      ]
     },
     "execution_count": 84,
     "metadata": {},
     "output_type": "execute_result"
    }
   ],
   "source": [
    "np.sort(scores)"
   ]
  },
  {
   "cell_type": "markdown",
   "metadata": {},
   "source": [
    "Looks like the solution is not unique (we see several 5's). "
   ]
  },
  {
   "cell_type": "markdown",
   "metadata": {},
   "source": [
    "- How long would the same optimization problem take if we were to consider all 26 alphabet letters and a 10-letter string?"
   ]
  },
  {
   "cell_type": "code",
   "execution_count": 85,
   "metadata": {},
   "outputs": [
    {
     "name": "stdout",
     "output_type": "stream",
     "text": [
      "7.41 μs ± 2.71 μs per loop (mean ± std. dev. of 5 runs, 1,000 loops each)\n"
     ]
    }
   ],
   "source": [
    "time_per_one_call = %timeit -o -r 5 -n 1000 objective_fun(inputs[0])"
   ]
  },
  {
   "cell_type": "code",
   "execution_count": 86,
   "metadata": {},
   "outputs": [
    {
     "data": {
      "text/plain": [
       "33.63698083547089"
      ]
     },
     "execution_count": 86,
     "metadata": {},
     "output_type": "execute_result"
    }
   ],
   "source": [
    "26**10 * time_per_one_call.average / (3600 * 24 * 30 * 12)"
   ]
  },
  {
   "cell_type": "markdown",
   "metadata": {},
   "source": [
    "About 30 years! Even for this simple problem. It doesn't take long before we need something better than brute force..."
   ]
  },
  {
   "cell_type": "markdown",
   "metadata": {},
   "source": [
    "#### Another Example: Shortest Path in a Graph\n",
    "\n",
    "- Last week, we talked about finding the shortest path between two nodes $A$ and $B$ in a graph.\n",
    "- This is itself a discrete optimization problem.\n",
    "\n",
    "1. Possible inputs: all possible paths from $A$ to $B$.\n",
    "2. Objective function: the length of the path.\n",
    "3. We are minimizing."
   ]
  },
  {
   "cell_type": "markdown",
   "metadata": {},
   "source": [
    "#### Solving an Optimization Problem\n",
    "\n",
    "- There are many ways to go about solving an optimization problem.\n",
    "- In general, one possibility is _brute force_ in which all possible inputs are considered.\n",
    "- That's the approach we just took in our toy example above.\n",
    "- But this is often infeasible because it would be too slow.\n",
    "  - Think about $26^8$ strings.\n",
    "  - Think about all possible paths between two nodes in the Facebook graph!\n",
    "- So, the hard part about optimization is often in finding clever ways to solve the problem faster, that still give the correct solution.\n",
    "  - E.g. breadth-first search to find the shortest distance in a graph.\n",
    "  - For the English words problem, there is nothing better than brute force. But there often is.\n",
    "- The other hard part can be **converting a conceptual idea into the right mathematical form as** an optimization problem. This is called _formulating_ the problem."
   ]
  },
  {
   "cell_type": "markdown",
   "metadata": {},
   "source": [
    "## Constraints\n",
    "\n",
    "- A popular way of expressing the space of possible inputs is to put _constraints_ on the possibilities.\n",
    "- Example: all length-8 strings such that each letter appears at most twice.\n",
    "  - `aabbccdd` is valid, `abcdefgh` is valid, but `aaabbbcc` is _not_ valid (\"violates the constraint\").\n",
    "- You could say that this is just a change in the possible inputs, and it is.\n",
    "  - But, because of how these problems are solved under the hood, we often think of constraints as a separate thing.\n",
    "  "
   ]
  },
  {
   "cell_type": "markdown",
   "metadata": {},
   "source": [
    "To specify an optimization problem, we need to specify a few things:\n",
    "\n",
    "1. A specification of the space of possible inputs.\n",
    "\n",
    "2. An _objective function_ which takes an input and computes a score. \n",
    "4. (Optional) A set of _constraints_, which take an input and return true/false.\n",
    "3. Are we maximizing or minimizing?"
   ]
  },
  {
   "cell_type": "code",
   "execution_count": 87,
   "metadata": {},
   "outputs": [],
   "source": [
    "def characters_appear_at_most_twice(s, n=2):\n",
    "    \"\"\"\n",
    "    Checks whether all characters appear at most n times in s.\n",
    "    If any character appears n+1 or more times, returns False.\n",
    "    \n",
    "    Parameters\n",
    "    ----------\n",
    "    s : str\n",
    "        The input string\n",
    "    n : int, optional\n",
    "        The maximum number of times a character is allowed to appear (default: 2)\n",
    "        \n",
    "    Returns\n",
    "    -------\n",
    "    bool\n",
    "        Whether or not all characters appear at most twice\n",
    "        \n",
    "    Examples\n",
    "    --------\n",
    "    >>> characters_appear_at_most_twice(\"aabbccdef\")\n",
    "    True\n",
    "    >>> characters_appear_at_most_twice(\"aaa\")\n",
    "    False\n",
    "    >>> characters_appear_at_most_twice(\"aaa\", 5)\n",
    "    True\n",
    "    \"\"\"\n",
    "    \n",
    "    return max(s.count(char) for char in s) <= n"
   ]
  },
  {
   "cell_type": "code",
   "execution_count": 88,
   "metadata": {},
   "outputs": [],
   "source": [
    "assert characters_appear_at_most_twice(\"aabbccdef\")\n",
    "assert not characters_appear_at_most_twice(\"aaa\")\n",
    "assert characters_appear_at_most_twice(\"aaa\", 5)"
   ]
  },
  {
   "cell_type": "markdown",
   "metadata": {},
   "source": [
    "Now we can solve the _constrained optimization problem_:"
   ]
  },
  {
   "cell_type": "code",
   "execution_count": 89,
   "metadata": {},
   "outputs": [
    {
     "data": {
      "text/plain": [
       "['aaaaaaaa',\n",
       " 'aaaaaaab',\n",
       " 'aaaaaaac',\n",
       " 'aaaaaaad',\n",
       " 'aaaaaaae',\n",
       " 'aaaaaaba',\n",
       " 'aaaaaabb',\n",
       " 'aaaaaabc',\n",
       " 'aaaaaabd',\n",
       " 'aaaaaabe']"
      ]
     },
     "execution_count": 89,
     "metadata": {},
     "output_type": "execute_result"
    }
   ],
   "source": [
    "inputs[:10] # the ones from before"
   ]
  },
  {
   "cell_type": "code",
   "execution_count": 90,
   "metadata": {},
   "outputs": [],
   "source": [
    "constrained_inputs = [s for s in inputs if characters_appear_at_most_twice(s)]"
   ]
  },
  {
   "cell_type": "code",
   "execution_count": 91,
   "metadata": {},
   "outputs": [
    {
     "data": {
      "text/plain": [
       "390625"
      ]
     },
     "execution_count": 91,
     "metadata": {},
     "output_type": "execute_result"
    }
   ],
   "source": [
    "len(inputs)"
   ]
  },
  {
   "cell_type": "code",
   "execution_count": 92,
   "metadata": {},
   "outputs": [
    {
     "data": {
      "text/plain": [
       "63000"
      ]
     },
     "execution_count": 92,
     "metadata": {},
     "output_type": "execute_result"
    }
   ],
   "source": [
    "len(constrained_inputs)"
   ]
  },
  {
   "cell_type": "code",
   "execution_count": 93,
   "metadata": {},
   "outputs": [
    {
     "data": {
      "text/plain": [
       "['aabbccdd',\n",
       " 'aabbccde',\n",
       " 'aabbcced',\n",
       " 'aabbccee',\n",
       " 'aabbcdcd',\n",
       " 'aabbcdce',\n",
       " 'aabbcddc',\n",
       " 'aabbcdde',\n",
       " 'aabbcdec',\n",
       " 'aabbcded']"
      ]
     },
     "execution_count": 93,
     "metadata": {},
     "output_type": "execute_result"
    }
   ],
   "source": [
    "constrained_inputs[:10]"
   ]
  },
  {
   "cell_type": "code",
   "execution_count": 94,
   "metadata": {},
   "outputs": [
    {
     "data": {
      "text/plain": [
       "4"
      ]
     },
     "execution_count": 94,
     "metadata": {},
     "output_type": "execute_result"
    }
   ],
   "source": [
    "# Find the maximum score from our set of constrained inputs\n",
    "constrained_scores = list(map(objective_fun, constrained_inputs))\n",
    "np.max(constrained_scores)"
   ]
  },
  {
   "cell_type": "code",
   "execution_count": 95,
   "metadata": {},
   "outputs": [
    {
     "data": {
      "text/plain": [
       "'abadbedc'"
      ]
     },
     "execution_count": 95,
     "metadata": {},
     "output_type": "execute_result"
    }
   ],
   "source": [
    "# Find the input with that max score\n",
    "constrained_best_s = constrained_inputs[np.argmax(constrained_scores)]\n",
    "constrained_best_s"
   ]
  },
  {
   "cell_type": "code",
   "execution_count": 96,
   "metadata": {},
   "outputs": [
    {
     "data": {
      "text/plain": [
       "{'a', 'bad', 'be', 'bed'}"
      ]
     },
     "execution_count": 96,
     "metadata": {},
     "output_type": "execute_result"
    }
   ],
   "source": [
    "english_words_in_string(constrained_best_s)"
   ]
  },
  {
   "cell_type": "markdown",
   "metadata": {},
   "source": [
    "Some things to note:\n",
    "\n",
    "- The constrained optimum can be **equal to or worse than** the unconstrained optimum.\n",
    "  - In this case it was worse - we got 4 words instead of 5 by not allowing repeats.\n",
    "  \n",
    "- The solution to the constrained problem might be completely different from the unconstrained.\n",
    "  - For example, here we don't have just 4 of the original 5 words - we have a new word, \"bad'.\n",
    "- It is possible to have multiple constraints.\n",
    "  - In this case we only had one constraint.\n",
    "  - In general, for an input to be valid, _all_ the constraints must be satisfied. \n",
    "  - For example: each letter appears at most twice AND the string is a palindrome AND it does not contain the substring \"ab\" (3 constraints)."
   ]
  },
  {
   "cell_type": "markdown",
   "metadata": {},
   "source": [
    "## TA Assignment Example: Introduction\n",
    "\n",
    "Consider the problem of assigning TAs to labs in MDS."
   ]
  },
  {
   "cell_type": "code",
   "execution_count": 97,
   "metadata": {
    "scrolled": true
   },
   "outputs": [
    {
     "data": {
      "text/html": [
       "<div>\n",
       "<style scoped>\n",
       "    .dataframe tbody tr th:only-of-type {\n",
       "        vertical-align: middle;\n",
       "    }\n",
       "\n",
       "    .dataframe tbody tr th {\n",
       "        vertical-align: top;\n",
       "    }\n",
       "\n",
       "    .dataframe thead th {\n",
       "        text-align: right;\n",
       "    }\n",
       "</style>\n",
       "<table border=\"1\" class=\"dataframe\">\n",
       "  <thead>\n",
       "    <tr style=\"text-align: right;\">\n",
       "      <th></th>\n",
       "      <th>availability</th>\n",
       "      <th>R_proficiency</th>\n",
       "      <th>python_proficiency</th>\n",
       "      <th>can_teach</th>\n",
       "      <th>enthusiastic</th>\n",
       "    </tr>\n",
       "    <tr>\n",
       "      <th>name</th>\n",
       "      <th></th>\n",
       "      <th></th>\n",
       "      <th></th>\n",
       "      <th></th>\n",
       "      <th></th>\n",
       "    </tr>\n",
       "  </thead>\n",
       "  <tbody>\n",
       "    <tr>\n",
       "      <th>Amin</th>\n",
       "      <td>MT</td>\n",
       "      <td>competent</td>\n",
       "      <td>expert</td>\n",
       "      <td>[573, 551, 552, 522]</td>\n",
       "      <td>[511, 571, 513]</td>\n",
       "    </tr>\n",
       "    <tr>\n",
       "      <th>Chris</th>\n",
       "      <td>MTR</td>\n",
       "      <td>expert</td>\n",
       "      <td>expert</td>\n",
       "      <td>[511, 521, 512, 552, 532]</td>\n",
       "      <td>[521, 512, 552]</td>\n",
       "    </tr>\n",
       "    <tr>\n",
       "      <th>Colby</th>\n",
       "      <td>MW</td>\n",
       "      <td>expert</td>\n",
       "      <td>beginner</td>\n",
       "      <td>[511, 551, 531, 561]</td>\n",
       "      <td>[521, 573, 523, 522]</td>\n",
       "    </tr>\n",
       "    <tr>\n",
       "      <th>Justin</th>\n",
       "      <td>MTWR</td>\n",
       "      <td>competent</td>\n",
       "      <td>expert</td>\n",
       "      <td>[511, 521, 523, 531, 512]</td>\n",
       "      <td>[521, 512, 513]</td>\n",
       "    </tr>\n",
       "    <tr>\n",
       "      <th>Katie</th>\n",
       "      <td>TW</td>\n",
       "      <td>competent</td>\n",
       "      <td>none</td>\n",
       "      <td>[551, 523, 531, 552, 561]</td>\n",
       "      <td>[551, 523, 561, 522]</td>\n",
       "    </tr>\n",
       "    <tr>\n",
       "      <th>Melika</th>\n",
       "      <td>TWR</td>\n",
       "      <td>expert</td>\n",
       "      <td>competent</td>\n",
       "      <td>[531]</td>\n",
       "      <td>[511, 551, 523, 552, 561, 522]</td>\n",
       "    </tr>\n",
       "    <tr>\n",
       "      <th>Mobina</th>\n",
       "      <td>R</td>\n",
       "      <td>expert</td>\n",
       "      <td>expert</td>\n",
       "      <td>[512, 532, 513]</td>\n",
       "      <td>[512, 513]</td>\n",
       "    </tr>\n",
       "    <tr>\n",
       "      <th>Rafi</th>\n",
       "      <td>MTW</td>\n",
       "      <td>expert</td>\n",
       "      <td>none</td>\n",
       "      <td>[573, 551, 532, 571]</td>\n",
       "      <td>[511, 521]</td>\n",
       "    </tr>\n",
       "    <tr>\n",
       "      <th>Siddhesh</th>\n",
       "      <td>MW</td>\n",
       "      <td>expert</td>\n",
       "      <td>expert</td>\n",
       "      <td>[573, 551, 523, 552, 571]</td>\n",
       "      <td>[551, 552, 571]</td>\n",
       "    </tr>\n",
       "    <tr>\n",
       "      <th>Yi Xuan</th>\n",
       "      <td>MTR</td>\n",
       "      <td>beginner</td>\n",
       "      <td>expert</td>\n",
       "      <td>[521, 523, 512, 522]</td>\n",
       "      <td>[511]</td>\n",
       "    </tr>\n",
       "  </tbody>\n",
       "</table>\n",
       "</div>"
      ],
      "text/plain": [
       "         availability R_proficiency python_proficiency  \\\n",
       "name                                                     \n",
       "Amin               MT     competent             expert   \n",
       "Chris             MTR        expert             expert   \n",
       "Colby              MW        expert           beginner   \n",
       "Justin           MTWR     competent             expert   \n",
       "Katie              TW     competent               none   \n",
       "Melika            TWR        expert          competent   \n",
       "Mobina              R        expert             expert   \n",
       "Rafi              MTW        expert               none   \n",
       "Siddhesh           MW        expert             expert   \n",
       "Yi Xuan           MTR      beginner             expert   \n",
       "\n",
       "                          can_teach                    enthusiastic  \n",
       "name                                                                 \n",
       "Amin           [573, 551, 552, 522]                 [511, 571, 513]  \n",
       "Chris     [511, 521, 512, 552, 532]                 [521, 512, 552]  \n",
       "Colby          [511, 551, 531, 561]            [521, 573, 523, 522]  \n",
       "Justin    [511, 521, 523, 531, 512]                 [521, 512, 513]  \n",
       "Katie     [551, 523, 531, 552, 561]            [551, 523, 561, 522]  \n",
       "Melika                        [531]  [511, 551, 523, 552, 561, 522]  \n",
       "Mobina              [512, 532, 513]                      [512, 513]  \n",
       "Rafi           [573, 551, 532, 571]                      [511, 521]  \n",
       "Siddhesh  [573, 551, 523, 552, 571]                 [551, 552, 571]  \n",
       "Yi Xuan        [521, 523, 512, 522]                           [511]  "
      ]
     },
     "execution_count": 97,
     "metadata": {},
     "output_type": "execute_result"
    }
   ],
   "source": [
    "TAs_df = pd.read_csv(\"data/TA_apps.csv\").set_index(\"name\")\n",
    "str_to_list = lambda s: list(map(int,s.split(\",\")))\n",
    "TAs_df[\"can_teach\"   ] = TAs_df[\"can_teach\"  ].apply(str_to_list)\n",
    "TAs_df[\"enthusiastic\"] = TAs_df[\"enthusiastic\"].apply(str_to_list)\n",
    "TAs_df"
   ]
  },
  {
   "cell_type": "code",
   "execution_count": 98,
   "metadata": {},
   "outputs": [
    {
     "data": {
      "text/plain": [
       "['Amin',\n",
       " 'Chris',\n",
       " 'Colby',\n",
       " 'Justin',\n",
       " 'Katie',\n",
       " 'Melika',\n",
       " 'Mobina',\n",
       " 'Rafi',\n",
       " 'Siddhesh',\n",
       " 'Yi Xuan']"
      ]
     },
     "execution_count": 98,
     "metadata": {},
     "output_type": "execute_result"
    }
   ],
   "source": [
    "TAs = TAs_df.index.values.tolist()\n",
    "TAs"
   ]
  },
  {
   "cell_type": "code",
   "execution_count": 99,
   "metadata": {},
   "outputs": [
    {
     "data": {
      "text/html": [
       "<div>\n",
       "<style scoped>\n",
       "    .dataframe tbody tr th:only-of-type {\n",
       "        vertical-align: middle;\n",
       "    }\n",
       "\n",
       "    .dataframe tbody tr th {\n",
       "        vertical-align: top;\n",
       "    }\n",
       "\n",
       "    .dataframe thead th {\n",
       "        text-align: right;\n",
       "    }\n",
       "</style>\n",
       "<table border=\"1\" class=\"dataframe\">\n",
       "  <thead>\n",
       "    <tr style=\"text-align: right;\">\n",
       "      <th></th>\n",
       "      <th>course_title</th>\n",
       "      <th>slug</th>\n",
       "      <th>block</th>\n",
       "      <th>primary_lang</th>\n",
       "      <th>lab_days</th>\n",
       "    </tr>\n",
       "    <tr>\n",
       "      <th>course_number</th>\n",
       "      <th></th>\n",
       "      <th></th>\n",
       "      <th></th>\n",
       "      <th></th>\n",
       "      <th></th>\n",
       "    </tr>\n",
       "  </thead>\n",
       "  <tbody>\n",
       "    <tr>\n",
       "      <th>511</th>\n",
       "      <td>Programming for Data Science</td>\n",
       "      <td>py-prog</td>\n",
       "      <td>1</td>\n",
       "      <td>python</td>\n",
       "      <td>WR</td>\n",
       "    </tr>\n",
       "    <tr>\n",
       "      <th>521</th>\n",
       "      <td>Computing Platforms for Data Science</td>\n",
       "      <td>platforms-dsci</td>\n",
       "      <td>1</td>\n",
       "      <td>none</td>\n",
       "      <td>MT</td>\n",
       "    </tr>\n",
       "    <tr>\n",
       "      <th>551</th>\n",
       "      <td>Descriptive Statistics and Probability for Dat...</td>\n",
       "      <td>stat-prob-dsci</td>\n",
       "      <td>1</td>\n",
       "      <td>R</td>\n",
       "      <td>MT</td>\n",
       "    </tr>\n",
       "    <tr>\n",
       "      <th>523</th>\n",
       "      <td>Programming for Data Manipulation</td>\n",
       "      <td>r-prog</td>\n",
       "      <td>1</td>\n",
       "      <td>R</td>\n",
       "      <td>WR</td>\n",
       "    </tr>\n",
       "    <tr>\n",
       "      <th>512</th>\n",
       "      <td>Algorithms and Data Structures</td>\n",
       "      <td>alg-data-struct</td>\n",
       "      <td>2</td>\n",
       "      <td>python</td>\n",
       "      <td>TR</td>\n",
       "    </tr>\n",
       "    <tr>\n",
       "      <th>531</th>\n",
       "      <td>Data Visualization I</td>\n",
       "      <td>viz-1</td>\n",
       "      <td>2</td>\n",
       "      <td>both</td>\n",
       "      <td>MW</td>\n",
       "    </tr>\n",
       "    <tr>\n",
       "      <th>552</th>\n",
       "      <td>Statistical Inference and Computation I</td>\n",
       "      <td>stat-inf-1</td>\n",
       "      <td>2</td>\n",
       "      <td>R</td>\n",
       "      <td>MT</td>\n",
       "    </tr>\n",
       "    <tr>\n",
       "      <th>571</th>\n",
       "      <td>Supervised Learning I</td>\n",
       "      <td>sup-learn-1</td>\n",
       "      <td>2</td>\n",
       "      <td>python</td>\n",
       "      <td>WR</td>\n",
       "    </tr>\n",
       "    <tr>\n",
       "      <th>513</th>\n",
       "      <td>Databases and Data Retrieval</td>\n",
       "      <td>database-data-retr</td>\n",
       "      <td>3</td>\n",
       "      <td>none</td>\n",
       "      <td>WR</td>\n",
       "    </tr>\n",
       "    <tr>\n",
       "      <th>522</th>\n",
       "      <td>Data Science Workflows</td>\n",
       "      <td>dsci-workflows</td>\n",
       "      <td>3</td>\n",
       "      <td>both</td>\n",
       "      <td>WR</td>\n",
       "    </tr>\n",
       "    <tr>\n",
       "      <th>561</th>\n",
       "      <td>Regression I</td>\n",
       "      <td>regr-1</td>\n",
       "      <td>3</td>\n",
       "      <td>R</td>\n",
       "      <td>MT</td>\n",
       "    </tr>\n",
       "    <tr>\n",
       "      <th>573</th>\n",
       "      <td>Feature and Model Selection</td>\n",
       "      <td>feat-model-select</td>\n",
       "      <td>3</td>\n",
       "      <td>python</td>\n",
       "      <td>MT</td>\n",
       "    </tr>\n",
       "  </tbody>\n",
       "</table>\n",
       "</div>"
      ],
      "text/plain": [
       "                                                    course_title  \\\n",
       "course_number                                                      \n",
       "511                                 Programming for Data Science   \n",
       "521                         Computing Platforms for Data Science   \n",
       "551            Descriptive Statistics and Probability for Dat...   \n",
       "523                            Programming for Data Manipulation   \n",
       "512                               Algorithms and Data Structures   \n",
       "531                                         Data Visualization I   \n",
       "552                      Statistical Inference and Computation I   \n",
       "571                                        Supervised Learning I   \n",
       "513                                 Databases and Data Retrieval   \n",
       "522                                       Data Science Workflows   \n",
       "561                                                 Regression I   \n",
       "573                                  Feature and Model Selection   \n",
       "\n",
       "                             slug  block primary_lang lab_days  \n",
       "course_number                                                   \n",
       "511                       py-prog      1       python       WR  \n",
       "521                platforms-dsci      1         none       MT  \n",
       "551                stat-prob-dsci      1            R       MT  \n",
       "523                        r-prog      1            R       WR  \n",
       "512               alg-data-struct      2       python       TR  \n",
       "531                         viz-1      2         both       MW  \n",
       "552                    stat-inf-1      2            R       MT  \n",
       "571                   sup-learn-1      2       python       WR  \n",
       "513            database-data-retr      3         none       WR  \n",
       "522                dsci-workflows      3         both       WR  \n",
       "561                        regr-1      3            R       MT  \n",
       "573             feat-model-select      3       python       MT  "
      ]
     },
     "execution_count": 99,
     "metadata": {},
     "output_type": "execute_result"
    }
   ],
   "source": [
    "courses_df = pd.read_csv(\"data/MDS_courses.csv\").set_index(\"course_number\")\n",
    "courses_df"
   ]
  },
  {
   "cell_type": "code",
   "execution_count": 100,
   "metadata": {},
   "outputs": [
    {
     "data": {
      "text/plain": [
       "[511, 521, 551, 523, 512, 531, 552, 571, 513, 522, 561, 573]"
      ]
     },
     "execution_count": 100,
     "metadata": {},
     "output_type": "execute_result"
    }
   ],
   "source": [
    "courses = courses_df.index.values.tolist()\n",
    "courses"
   ]
  },
  {
   "cell_type": "code",
   "execution_count": 101,
   "metadata": {},
   "outputs": [
    {
     "data": {
      "text/plain": [
       "{1, 2, 3}"
      ]
     },
     "execution_count": 101,
     "metadata": {},
     "output_type": "execute_result"
    }
   ],
   "source": [
    "blocks = set(courses_df[\"block\"])\n",
    "blocks"
   ]
  },
  {
   "cell_type": "markdown",
   "metadata": {},
   "source": [
    "Goal: match TAs to courses so that our staffing needs are covered in the best way possible.\n",
    "\n",
    "Ok, let's make this more concrete. Here are the **constraints**:\n",
    "\n",
    "- Each course should be assigned exactly 2 TAs.\n",
    "- A TA can only cover one course at a time (i.e., in a given block).\n",
    "- A TA can only be assigned to a course they have listed as \"can teach\" or \"enthusiastic to teach\".\n",
    "- To cover a course, the TA must be available for one of the two lab days (for simplicity - this does not quite guarantee lab coverage).\n",
    "\n",
    "And here is the **objective**:\n",
    "\n",
    "- We want to maximize the number of assigned courses that TAs are enthusiastic about."
   ]
  },
  {
   "cell_type": "markdown",
   "metadata": {},
   "source": [
    "## Formulating an Optimization Problem"
   ]
  },
  {
   "cell_type": "markdown",
   "metadata": {},
   "source": [
    "#### Are we maximizing or minimizing?\n",
    "\n",
    "We are maximizing. We want as much enthusiasm as possible!"
   ]
  },
  {
   "cell_type": "code",
   "execution_count": 102,
   "metadata": {},
   "outputs": [],
   "source": [
    "prob = pulp.LpProblem(\"TA-assignments\", pulp.LpMaximize)"
   ]
  },
  {
   "cell_type": "markdown",
   "metadata": {},
   "source": [
    "#### Setting up the decision variables"
   ]
  },
  {
   "cell_type": "markdown",
   "metadata": {},
   "source": [
    "- For this problem, what are our _decision variables_? \n",
    "- Turns out such problems are best handled with _binary variables_.\n",
    "\n",
    "Let $x_{ij}$ be $1$ if TA $i$ is assigned to course $j$, and 0 otherwise."
   ]
  },
  {
   "cell_type": "code",
   "execution_count": 103,
   "metadata": {},
   "outputs": [
    {
     "data": {
      "text/html": [
       "<div>\n",
       "<style scoped>\n",
       "    .dataframe tbody tr th:only-of-type {\n",
       "        vertical-align: middle;\n",
       "    }\n",
       "\n",
       "    .dataframe tbody tr th {\n",
       "        vertical-align: top;\n",
       "    }\n",
       "\n",
       "    .dataframe thead th {\n",
       "        text-align: right;\n",
       "    }\n",
       "</style>\n",
       "<table border=\"1\" class=\"dataframe\">\n",
       "  <thead>\n",
       "    <tr style=\"text-align: right;\">\n",
       "      <th></th>\n",
       "      <th>511</th>\n",
       "      <th>521</th>\n",
       "      <th>551</th>\n",
       "      <th>523</th>\n",
       "      <th>512</th>\n",
       "      <th>531</th>\n",
       "      <th>552</th>\n",
       "      <th>571</th>\n",
       "      <th>513</th>\n",
       "      <th>522</th>\n",
       "      <th>561</th>\n",
       "      <th>573</th>\n",
       "    </tr>\n",
       "  </thead>\n",
       "  <tbody>\n",
       "    <tr>\n",
       "      <th>Amin</th>\n",
       "      <td>0</td>\n",
       "      <td>0</td>\n",
       "      <td>0</td>\n",
       "      <td>0</td>\n",
       "      <td>0</td>\n",
       "      <td>0</td>\n",
       "      <td>0</td>\n",
       "      <td>0</td>\n",
       "      <td>0</td>\n",
       "      <td>0</td>\n",
       "      <td>0</td>\n",
       "      <td>0</td>\n",
       "    </tr>\n",
       "    <tr>\n",
       "      <th>Chris</th>\n",
       "      <td>0</td>\n",
       "      <td>0</td>\n",
       "      <td>0</td>\n",
       "      <td>0</td>\n",
       "      <td>1</td>\n",
       "      <td>0</td>\n",
       "      <td>0</td>\n",
       "      <td>1</td>\n",
       "      <td>0</td>\n",
       "      <td>1</td>\n",
       "      <td>0</td>\n",
       "      <td>0</td>\n",
       "    </tr>\n",
       "    <tr>\n",
       "      <th>Colby</th>\n",
       "      <td>0</td>\n",
       "      <td>0</td>\n",
       "      <td>0</td>\n",
       "      <td>0</td>\n",
       "      <td>0</td>\n",
       "      <td>0</td>\n",
       "      <td>1</td>\n",
       "      <td>0</td>\n",
       "      <td>0</td>\n",
       "      <td>1</td>\n",
       "      <td>1</td>\n",
       "      <td>0</td>\n",
       "    </tr>\n",
       "    <tr>\n",
       "      <th>Justin</th>\n",
       "      <td>1</td>\n",
       "      <td>0</td>\n",
       "      <td>0</td>\n",
       "      <td>0</td>\n",
       "      <td>0</td>\n",
       "      <td>0</td>\n",
       "      <td>0</td>\n",
       "      <td>0</td>\n",
       "      <td>0</td>\n",
       "      <td>0</td>\n",
       "      <td>0</td>\n",
       "      <td>1</td>\n",
       "    </tr>\n",
       "    <tr>\n",
       "      <th>Katie</th>\n",
       "      <td>0</td>\n",
       "      <td>0</td>\n",
       "      <td>0</td>\n",
       "      <td>0</td>\n",
       "      <td>0</td>\n",
       "      <td>1</td>\n",
       "      <td>0</td>\n",
       "      <td>1</td>\n",
       "      <td>0</td>\n",
       "      <td>0</td>\n",
       "      <td>0</td>\n",
       "      <td>0</td>\n",
       "    </tr>\n",
       "    <tr>\n",
       "      <th>Melika</th>\n",
       "      <td>0</td>\n",
       "      <td>0</td>\n",
       "      <td>1</td>\n",
       "      <td>0</td>\n",
       "      <td>0</td>\n",
       "      <td>0</td>\n",
       "      <td>0</td>\n",
       "      <td>0</td>\n",
       "      <td>0</td>\n",
       "      <td>0</td>\n",
       "      <td>0</td>\n",
       "      <td>0</td>\n",
       "    </tr>\n",
       "    <tr>\n",
       "      <th>Mobina</th>\n",
       "      <td>0</td>\n",
       "      <td>0</td>\n",
       "      <td>0</td>\n",
       "      <td>0</td>\n",
       "      <td>0</td>\n",
       "      <td>0</td>\n",
       "      <td>0</td>\n",
       "      <td>0</td>\n",
       "      <td>1</td>\n",
       "      <td>1</td>\n",
       "      <td>1</td>\n",
       "      <td>0</td>\n",
       "    </tr>\n",
       "    <tr>\n",
       "      <th>Rafi</th>\n",
       "      <td>0</td>\n",
       "      <td>1</td>\n",
       "      <td>0</td>\n",
       "      <td>1</td>\n",
       "      <td>1</td>\n",
       "      <td>0</td>\n",
       "      <td>0</td>\n",
       "      <td>0</td>\n",
       "      <td>0</td>\n",
       "      <td>0</td>\n",
       "      <td>1</td>\n",
       "      <td>0</td>\n",
       "    </tr>\n",
       "    <tr>\n",
       "      <th>Siddhesh</th>\n",
       "      <td>0</td>\n",
       "      <td>0</td>\n",
       "      <td>0</td>\n",
       "      <td>0</td>\n",
       "      <td>1</td>\n",
       "      <td>0</td>\n",
       "      <td>0</td>\n",
       "      <td>1</td>\n",
       "      <td>1</td>\n",
       "      <td>0</td>\n",
       "      <td>0</td>\n",
       "      <td>0</td>\n",
       "    </tr>\n",
       "    <tr>\n",
       "      <th>Yi Xuan</th>\n",
       "      <td>1</td>\n",
       "      <td>0</td>\n",
       "      <td>0</td>\n",
       "      <td>0</td>\n",
       "      <td>1</td>\n",
       "      <td>0</td>\n",
       "      <td>0</td>\n",
       "      <td>1</td>\n",
       "      <td>0</td>\n",
       "      <td>1</td>\n",
       "      <td>0</td>\n",
       "      <td>1</td>\n",
       "    </tr>\n",
       "  </tbody>\n",
       "</table>\n",
       "</div>"
      ],
      "text/plain": [
       "          511  521  551  523  512  531  552  571  513  522  561  573\n",
       "Amin        0    0    0    0    0    0    0    0    0    0    0    0\n",
       "Chris       0    0    0    0    1    0    0    1    0    1    0    0\n",
       "Colby       0    0    0    0    0    0    1    0    0    1    1    0\n",
       "Justin      1    0    0    0    0    0    0    0    0    0    0    1\n",
       "Katie       0    0    0    0    0    1    0    1    0    0    0    0\n",
       "Melika      0    0    1    0    0    0    0    0    0    0    0    0\n",
       "Mobina      0    0    0    0    0    0    0    0    1    1    1    0\n",
       "Rafi        0    1    0    1    1    0    0    0    0    0    1    0\n",
       "Siddhesh    0    0    0    0    1    0    0    1    1    0    0    0\n",
       "Yi Xuan     1    0    0    0    1    0    0    1    0    1    0    1"
      ]
     },
     "execution_count": 103,
     "metadata": {},
     "output_type": "execute_result"
    }
   ],
   "source": [
    "x_df = pd.DataFrame(data=(np.random.rand(len(TAs),len(courses))<.2).astype(int), index=TAs, columns=courses)\n",
    "x_df"
   ]
  },
  {
   "cell_type": "markdown",
   "metadata": {},
   "source": [
    "**NOTE**: this table is not used for solving the problem below - it is only for illustration!"
   ]
  },
  {
   "cell_type": "code",
   "execution_count": 104,
   "metadata": {},
   "outputs": [],
   "source": [
    "# This is constructing a matrix of variables as shown in the example above\n",
    "# It is structured as a Python dictionary (hence the use of .dicts)\n",
    "# As in the matrix above, there is one variable for each TA/course pair\n",
    "# Each variable is an integer between 0-1.\n",
    "x = pulp.LpVariable.dicts(\"x\", (TAs, courses), 0, 1, pulp.LpInteger)"
   ]
  },
  {
   "cell_type": "markdown",
   "metadata": {},
   "source": [
    "Let's check out the type of one of these variables:"
   ]
  },
  {
   "cell_type": "code",
   "execution_count": 105,
   "metadata": {},
   "outputs": [
    {
     "data": {
      "text/plain": [
       "pulp.pulp.LpVariable"
      ]
     },
     "execution_count": 105,
     "metadata": {},
     "output_type": "execute_result"
    }
   ],
   "source": [
    "type(x[\"Chris\"][512])"
   ]
  },
  {
   "cell_type": "markdown",
   "metadata": {},
   "source": [
    "How many possible tables are there? (ignoring constraints)"
   ]
  },
  {
   "cell_type": "code",
   "execution_count": 106,
   "metadata": {},
   "outputs": [
    {
     "data": {
      "text/plain": [
       "120"
      ]
     },
     "execution_count": 106,
     "metadata": {},
     "output_type": "execute_result"
    }
   ],
   "source": [
    "num_entries = len(TAs) * len(courses)\n",
    "num_entries"
   ]
  },
  {
   "cell_type": "code",
   "execution_count": 107,
   "metadata": {},
   "outputs": [
    {
     "data": {
      "text/plain": [
       "1329227995784915872903807060280344576"
      ]
     },
     "execution_count": 107,
     "metadata": {},
     "output_type": "execute_result"
    }
   ],
   "source": [
    "2**num_entries"
   ]
  },
  {
   "cell_type": "markdown",
   "metadata": {},
   "source": [
    "##### `<optional>`\n",
    "\n",
    "Is our formulation \"efficient\" ?\n",
    "\n",
    "- With $2$ TAs per course (2 spots) and $10$ possible TAs, we will have $_{10}C_2 = \\frac{10!}{2! \\: 8!} = 45$ possibilities for each course.\n",
    "\n",
    "- With $12$ courses, we'll have $45^{12}$ possibilities in total:"
   ]
  },
  {
   "cell_type": "code",
   "execution_count": 108,
   "metadata": {},
   "outputs": [
    {
     "data": {
      "text/plain": [
       "68952523554931640625"
      ]
     },
     "execution_count": 108,
     "metadata": {},
     "output_type": "execute_result"
    }
   ],
   "source": [
    "45**len(courses)"
   ]
  },
  {
   "cell_type": "markdown",
   "metadata": {},
   "source": [
    "- Our formulation with binary variables has _more_ configurations because it doesn't have the \"2 TAs per course\" constraint hardwired into it. \n",
    "- This seems \"redundant\" but is actually the way to go because it allows us to use PuLP. \n",
    "- Even though we generate a situation with so many more possibilities, this is still the best approach.\n"
   ]
  },
  {
   "cell_type": "markdown",
   "metadata": {},
   "source": [
    "#### Setting up the constraints"
   ]
  },
  {
   "cell_type": "markdown",
   "metadata": {},
   "source": [
    "We now have to change our English constraints into constraints on $x$:\n",
    "\n",
    "**Constraint 1:** _Each course should be assigned exactly 2 TAs._\n",
    "  - For all courses $j$, we require $\\sum_i x_{ij} = 2$\n",
    "  - That is, the sum of TAs for DSCI 511 equals 2, the sum of TAs for DSCI 521 equals 2, ...\n"
   ]
  },
  {
   "cell_type": "code",
   "execution_count": 109,
   "metadata": {},
   "outputs": [],
   "source": [
    "TAS_PER_COURSE = 2"
   ]
  },
  {
   "cell_type": "code",
   "execution_count": 110,
   "metadata": {},
   "outputs": [],
   "source": [
    "# For each course, we should have exactly 2 assigned TAs\n",
    "for course in courses:\n",
    "    # pulp.lpSum is the same as `sum` or using + several times\n",
    "    # It is just more efficient because it tells pulp we are doing several additions altogether.\n",
    "    prob += ( pulp.lpSum(x[TA][course] for TA in TAs) == TAS_PER_COURSE )"
   ]
  },
  {
   "cell_type": "code",
   "execution_count": 111,
   "metadata": {},
   "outputs": [
    {
     "name": "stdout",
     "output_type": "stream",
     "text": [
      "TA-assignments:\n",
      "MAXIMIZE\n",
      "None\n",
      "SUBJECT TO\n",
      "_C1: x_Amin_511 + x_Chris_511 + x_Colby_511 + x_Justin_511 + x_Katie_511\n",
      " + x_Melika_511 + x_Mobina_511 + x_Rafi_511 + x_Siddhesh_511 + x_Yi_Xuan_511\n",
      " = 2\n",
      "\n",
      "_C2: x_Amin_521 + x_Chris_521 + x_Colby_521 + x_Justin_521 + x_Katie_521\n",
      " + x_Melika_521 + x_Mobina_521 + x_Rafi_521 + x_Siddhesh_521 + x_Yi_Xuan_521\n",
      " = 2\n",
      "\n",
      "_C3: x_Amin_551 + x_Chris_551 + x_Colby_551 + x_Justin_551 + x_Katie_551\n",
      " + x_Melika_551 + x_Mobina_551 + x_Rafi_551 + x_Siddhesh_551 + x_Yi_Xuan_551\n",
      " = 2\n",
      "\n",
      "_C4: x_Amin_523 + x_Chris_523 + x_Colby_523 + x_Justin_523 + x_Katie_523\n",
      " + x_Melika_523 + x_Mobina_523 + x_Rafi_523 + x_Siddhesh_523 + x_Yi_Xuan_523\n",
      " = 2\n",
      "\n",
      "_C5: x_Amin_512 + x_Chris_512 + x_Colby_512 + x_Justin_512 + x_Katie_512\n",
      " + x_Melika_512 + x_Mobina_512 + x_Rafi_512 + x_Siddhesh_512 + x_Yi_Xuan_512\n",
      " = 2\n",
      "\n",
      "_C6: x_Amin_531 + x_Chris_531 + x_Colby_531 + x_Justin_531 + x_Katie_531\n",
      " + x_Melika_531 + x_Mobina_531 + x_Rafi_531 + x_Siddhesh_531 + x_Yi_Xuan_531\n",
      " = 2\n",
      "\n",
      "_C7: x_Amin_552 + x_Chris_552 + x_Colby_552 + x_Justin_552 + x_Katie_552\n",
      " + x_Melika_552 + x_Mobina_552 + x_Rafi_552 + x_Siddhesh_552 + x_Yi_Xuan_552\n",
      " = 2\n",
      "\n",
      "_C8: x_Amin_571 + x_Chris_571 + x_Colby_571 + x_Justin_571 + x_Katie_571\n",
      " + x_Melika_571 + x_Mobina_571 + x_Rafi_571 + x_Siddhesh_571 + x_Yi_Xuan_571\n",
      " = 2\n",
      "\n",
      "_C9: x_Amin_513 + x_Chris_513 + x_Colby_513 + x_Justin_513 + x_Katie_513\n",
      " + x_Melika_513 + x_Mobina_513 + x_Rafi_513 + x_Siddhesh_513 + x_Yi_Xuan_513\n",
      " = 2\n",
      "\n",
      "_C10: x_Amin_522 + x_Chris_522 + x_Colby_522 + x_Justin_522 + x_Katie_522\n",
      " + x_Melika_522 + x_Mobina_522 + x_Rafi_522 + x_Siddhesh_522 + x_Yi_Xuan_522\n",
      " = 2\n",
      "\n",
      "_C11: x_Amin_561 + x_Chris_561 + x_Colby_561 + x_Justin_561 + x_Katie_561\n",
      " + x_Melika_561 + x_Mobina_561 + x_Rafi_561 + x_Siddhesh_561 + x_Yi_Xuan_561\n",
      " = 2\n",
      "\n",
      "_C12: x_Amin_573 + x_Chris_573 + x_Colby_573 + x_Justin_573 + x_Katie_573\n",
      " + x_Melika_573 + x_Mobina_573 + x_Rafi_573 + x_Siddhesh_573 + x_Yi_Xuan_573\n",
      " = 2\n",
      "\n",
      "VARIABLES\n",
      "0 <= x_Amin_511 <= 1 Integer\n",
      "0 <= x_Amin_512 <= 1 Integer\n",
      "0 <= x_Amin_513 <= 1 Integer\n",
      "0 <= x_Amin_521 <= 1 Integer\n",
      "0 <= x_Amin_522 <= 1 Integer\n",
      "0 <= x_Amin_523 <= 1 Integer\n",
      "0 <= x_Amin_531 <= 1 Integer\n",
      "0 <= x_Amin_551 <= 1 Integer\n",
      "0 <= x_Amin_552 <= 1 Integer\n",
      "0 <= x_Amin_561 <= 1 Integer\n",
      "0 <= x_Amin_571 <= 1 Integer\n",
      "0 <= x_Amin_573 <= 1 Integer\n",
      "0 <= x_Chris_511 <= 1 Integer\n",
      "0 <= x_Chris_512 <= 1 Integer\n",
      "0 <= x_Chris_513 <= 1 Integer\n",
      "0 <= x_Chris_521 <= 1 Integer\n",
      "0 <= x_Chris_522 <= 1 Integer\n",
      "0 <= x_Chris_523 <= 1 Integer\n",
      "0 <= x_Chris_531 <= 1 Integer\n",
      "0 <= x_Chris_551 <= 1 Integer\n",
      "0 <= x_Chris_552 <= 1 Integer\n",
      "0 <= x_Chris_561 <= 1 Integer\n",
      "0 <= x_Chris_571 <= 1 Integer\n",
      "0 <= x_Chris_573 <= 1 Integer\n",
      "0 <= x_Colby_511 <= 1 Integer\n",
      "0 <= x_Colby_512 <= 1 Integer\n",
      "0 <= x_Colby_513 <= 1 Integer\n",
      "0 <= x_Colby_521 <= 1 Integer\n",
      "0 <= x_Colby_522 <= 1 Integer\n",
      "0 <= x_Colby_523 <= 1 Integer\n",
      "0 <= x_Colby_531 <= 1 Integer\n",
      "0 <= x_Colby_551 <= 1 Integer\n",
      "0 <= x_Colby_552 <= 1 Integer\n",
      "0 <= x_Colby_561 <= 1 Integer\n",
      "0 <= x_Colby_571 <= 1 Integer\n",
      "0 <= x_Colby_573 <= 1 Integer\n",
      "0 <= x_Justin_511 <= 1 Integer\n",
      "0 <= x_Justin_512 <= 1 Integer\n",
      "0 <= x_Justin_513 <= 1 Integer\n",
      "0 <= x_Justin_521 <= 1 Integer\n",
      "0 <= x_Justin_522 <= 1 Integer\n",
      "0 <= x_Justin_523 <= 1 Integer\n",
      "0 <= x_Justin_531 <= 1 Integer\n",
      "0 <= x_Justin_551 <= 1 Integer\n",
      "0 <= x_Justin_552 <= 1 Integer\n",
      "0 <= x_Justin_561 <= 1 Integer\n",
      "0 <= x_Justin_571 <= 1 Integer\n",
      "0 <= x_Justin_573 <= 1 Integer\n",
      "0 <= x_Katie_511 <= 1 Integer\n",
      "0 <= x_Katie_512 <= 1 Integer\n",
      "0 <= x_Katie_513 <= 1 Integer\n",
      "0 <= x_Katie_521 <= 1 Integer\n",
      "0 <= x_Katie_522 <= 1 Integer\n",
      "0 <= x_Katie_523 <= 1 Integer\n",
      "0 <= x_Katie_531 <= 1 Integer\n",
      "0 <= x_Katie_551 <= 1 Integer\n",
      "0 <= x_Katie_552 <= 1 Integer\n",
      "0 <= x_Katie_561 <= 1 Integer\n",
      "0 <= x_Katie_571 <= 1 Integer\n",
      "0 <= x_Katie_573 <= 1 Integer\n",
      "0 <= x_Melika_511 <= 1 Integer\n",
      "0 <= x_Melika_512 <= 1 Integer\n",
      "0 <= x_Melika_513 <= 1 Integer\n",
      "0 <= x_Melika_521 <= 1 Integer\n",
      "0 <= x_Melika_522 <= 1 Integer\n",
      "0 <= x_Melika_523 <= 1 Integer\n",
      "0 <= x_Melika_531 <= 1 Integer\n",
      "0 <= x_Melika_551 <= 1 Integer\n",
      "0 <= x_Melika_552 <= 1 Integer\n",
      "0 <= x_Melika_561 <= 1 Integer\n",
      "0 <= x_Melika_571 <= 1 Integer\n",
      "0 <= x_Melika_573 <= 1 Integer\n",
      "0 <= x_Mobina_511 <= 1 Integer\n",
      "0 <= x_Mobina_512 <= 1 Integer\n",
      "0 <= x_Mobina_513 <= 1 Integer\n",
      "0 <= x_Mobina_521 <= 1 Integer\n",
      "0 <= x_Mobina_522 <= 1 Integer\n",
      "0 <= x_Mobina_523 <= 1 Integer\n",
      "0 <= x_Mobina_531 <= 1 Integer\n",
      "0 <= x_Mobina_551 <= 1 Integer\n",
      "0 <= x_Mobina_552 <= 1 Integer\n",
      "0 <= x_Mobina_561 <= 1 Integer\n",
      "0 <= x_Mobina_571 <= 1 Integer\n",
      "0 <= x_Mobina_573 <= 1 Integer\n",
      "0 <= x_Rafi_511 <= 1 Integer\n",
      "0 <= x_Rafi_512 <= 1 Integer\n",
      "0 <= x_Rafi_513 <= 1 Integer\n",
      "0 <= x_Rafi_521 <= 1 Integer\n",
      "0 <= x_Rafi_522 <= 1 Integer\n",
      "0 <= x_Rafi_523 <= 1 Integer\n",
      "0 <= x_Rafi_531 <= 1 Integer\n",
      "0 <= x_Rafi_551 <= 1 Integer\n",
      "0 <= x_Rafi_552 <= 1 Integer\n",
      "0 <= x_Rafi_561 <= 1 Integer\n",
      "0 <= x_Rafi_571 <= 1 Integer\n",
      "0 <= x_Rafi_573 <= 1 Integer\n",
      "0 <= x_Siddhesh_511 <= 1 Integer\n",
      "0 <= x_Siddhesh_512 <= 1 Integer\n",
      "0 <= x_Siddhesh_513 <= 1 Integer\n",
      "0 <= x_Siddhesh_521 <= 1 Integer\n",
      "0 <= x_Siddhesh_522 <= 1 Integer\n",
      "0 <= x_Siddhesh_523 <= 1 Integer\n",
      "0 <= x_Siddhesh_531 <= 1 Integer\n",
      "0 <= x_Siddhesh_551 <= 1 Integer\n",
      "0 <= x_Siddhesh_552 <= 1 Integer\n",
      "0 <= x_Siddhesh_561 <= 1 Integer\n",
      "0 <= x_Siddhesh_571 <= 1 Integer\n",
      "0 <= x_Siddhesh_573 <= 1 Integer\n",
      "0 <= x_Yi_Xuan_511 <= 1 Integer\n",
      "0 <= x_Yi_Xuan_512 <= 1 Integer\n",
      "0 <= x_Yi_Xuan_513 <= 1 Integer\n",
      "0 <= x_Yi_Xuan_521 <= 1 Integer\n",
      "0 <= x_Yi_Xuan_522 <= 1 Integer\n",
      "0 <= x_Yi_Xuan_523 <= 1 Integer\n",
      "0 <= x_Yi_Xuan_531 <= 1 Integer\n",
      "0 <= x_Yi_Xuan_551 <= 1 Integer\n",
      "0 <= x_Yi_Xuan_552 <= 1 Integer\n",
      "0 <= x_Yi_Xuan_561 <= 1 Integer\n",
      "0 <= x_Yi_Xuan_571 <= 1 Integer\n",
      "0 <= x_Yi_Xuan_573 <= 1 Integer\n",
      "\n"
     ]
    }
   ],
   "source": [
    "print(prob)"
   ]
  },
  {
   "cell_type": "markdown",
   "metadata": {},
   "source": [
    "- Above: in PuLP we use the `+=` syntax to add a new constraint to the optimization problem.\n",
    "  - No code to solve the optimization problem is actually been run here.\n",
    "  - Rather, PuLP is using the syntax of python to allow the user to specify the problem over multiple lines of code.\n",
    "  - You will see this \"language within a language\" pattern again in DSCI 572 and DSCI 553, and maybe other places.\n",
    "- Also, you can think of `pulp.lpSum` as the same as `sum` or `np.sum`.\n",
    "  - However, it's not doing the summing now, like we usually do with python code.\n",
    "  - It's just a way of communicating the math of the optimization problem. "
   ]
  },
  {
   "cell_type": "markdown",
   "metadata": {},
   "source": [
    "<br>\n",
    "\n",
    "**Constraint 2:** _A TA can only cover one course at a time (i.e., in a given block)._\n",
    "  - For all TAs $i$, for all blocks $B$, we require $\\sum_{j\\in B} x_{ij} \\leq 1$\n",
    "  - That is, the sum of Alice's Block 1 courses is at most 1, the sum of Bob's Block 1 courses is at most 1, ..."
   ]
  },
  {
   "cell_type": "code",
   "execution_count": 112,
   "metadata": {},
   "outputs": [],
   "source": [
    "for TA in TAs:\n",
    "    for block in blocks:\n",
    "        courses_in_block = courses_df.query(\"block == @block\").index\n",
    "        prob += pulp.lpSum(x[TA][course] for course in courses_in_block) <= 1"
   ]
  },
  {
   "cell_type": "markdown",
   "metadata": {},
   "source": [
    "<br> \n",
    "\n",
    "**Constraint 3:** _A TA can only be assigned to a course they have listed as \"can teach\" or \"enthusiastic to teach\"._\n",
    "  - For all $i,j$ such that $\\text{canteach}(i,j)$ is false and $\\text{enthusiastic}(i,j)$ is false, $x_{ij}=0$\n",
    "  - That is, Katie cannot teach 511 because $\\text{canteach}(\\text{Katie},511)$ is false and $\\text{enthusiastic}(\\text{Katie},511)$ is false, ..."
   ]
  },
  {
   "cell_type": "code",
   "execution_count": 113,
   "metadata": {},
   "outputs": [],
   "source": [
    "for TA in TAs:\n",
    "    for course in courses:\n",
    "        if course in TAs_df.loc[TA,\"can_teach\"]:\n",
    "            continue\n",
    "        if course in TAs_df.loc[TA,\"enthusiastic\"]:\n",
    "            continue\n",
    "        # If we reach this point, the TA cannot teach the course\n",
    "        prob += ( x[TA][course] == 0 )"
   ]
  },
  {
   "cell_type": "markdown",
   "metadata": {},
   "source": [
    "<br> \n",
    "\n",
    "**Constraint 4:** _To cover a course, the TA must be available for one of the two lab days._\n",
    "  \n",
    "  - For all $i,j$ such that $\\text{available}(i,\\text{day1}(j))$ is false and $\\text{available}(i,\\text{day2}(j))$ is false, $x_{ij}=0$\n",
    "  \n",
    "  - That is, Amin cannot teach DSCI 513 because $\\text{available}(\\text{Amin,W})$ is false and $\\text{available}(\\text{Amin,Th})$ is false\n",
    "    - And $\\text{day1}(513)$ is W, $\\text{day2}(513)$ is Th."
   ]
  },
  {
   "cell_type": "code",
   "execution_count": 114,
   "metadata": {},
   "outputs": [],
   "source": [
    "for TA in TAs:\n",
    "    for course in courses:\n",
    "        if courses_df.loc[course,\"lab_days\"][0] in TAs_df.loc[TA][\"availability\"]:\n",
    "            continue\n",
    "        if courses_df.loc[course,\"lab_days\"][1] in TAs_df.loc[TA][\"availability\"]:\n",
    "            continue\n",
    "        # If we reach this point, the TA is not available for either lab day\n",
    "        prob += x[TA][course] == 0"
   ]
  },
  {
   "cell_type": "markdown",
   "metadata": {},
   "source": [
    "#### Setting up the objective\n",
    "\n",
    "- _We want to maximize the number of assigned courses that TAs are enthusiastic about._\n",
    "- Below we show 2 equivalent ways of specifying this objective in PuLP."
   ]
  },
  {
   "cell_type": "markdown",
   "metadata": {},
   "source": [
    "##### 1st approach:\n",
    "We want to maximize $\\sum_{ij} x_{ij}$ for all $i,j$ where $\\text{enthusiastic}(i,j)$ is true\n"
   ]
  },
  {
   "cell_type": "code",
   "execution_count": 115,
   "metadata": {},
   "outputs": [],
   "source": [
    "objective_terms = list()\n",
    "for TA in TAs:\n",
    "    for course in courses:\n",
    "        if course in TAs_df.loc[TA,\"enthusiastic\"]:\n",
    "            objective_terms.append(x[TA][course])\n",
    "prob += pulp.lpSum(objective_terms)"
   ]
  },
  {
   "cell_type": "markdown",
   "metadata": {},
   "source": [
    "- Above: to specify the objective in PuLP, we again use `+=` but this time **without any boolean operator on the right side**."
   ]
  },
  {
   "cell_type": "markdown",
   "metadata": {},
   "source": [
    "##### 2nd approach:\n",
    "\n",
    "- We can also think of the math a bit differently: maximize $\\sum_{ij} \\text{enthusiastic}(i,j)x_{ij}$"
   ]
  },
  {
   "cell_type": "markdown",
   "metadata": {},
   "source": [
    "```python\n",
    "objective_terms = list()\n",
    "for TA in TAs:\n",
    "    for course in courses:\n",
    "        enthusiastic = course in TAs_df.loc[TA,\"enthusiastic\"] # True/1 if enthusiastic, False/0 otherwise\n",
    "        objective_terms.append(enthusiastic * x[TA][course])\n",
    "prob += pulp.lpSum(objective_terms)\n",
    "```"
   ]
  },
  {
   "cell_type": "markdown",
   "metadata": {},
   "source": [
    "- Above: you may need to think about this for a few minutes.\n",
    "- Because $x_{ij}$ are binary and `enthusiastic` is also binary, the product is 1 only when both are 1.\n",
    "  - So we're counting up the number of cases where the TA is enthusastic _and_ the TA is assigned to that course.\n",
    "\n",
    "\n",
    "- Approach 1 works because the enthusiasm function is binary (yes/1 or no/0).\n",
    "- But this can generalize to any sort of numbers. You could have, for example, TAs rate their enthusiasm from 1 to 10.\n",
    "  - In that case, only approach 2 would work; you'd multiply the enthusiasm score by $x_{ij}$.\n",
    "  - In the lab you'll need something like approach 2 for the same reason."
   ]
  },
  {
   "cell_type": "markdown",
   "metadata": {},
   "source": [
    "#### Solving the problem"
   ]
  },
  {
   "cell_type": "code",
   "execution_count": 116,
   "metadata": {},
   "outputs": [
    {
     "data": {
      "text/plain": [
       "1"
      ]
     },
     "execution_count": 116,
     "metadata": {},
     "output_type": "execute_result"
    }
   ],
   "source": [
    "# prob.solve()\n",
    "prob.solve(pulp.apis.PULP_CBC_CMD(msg=0)) # to suppress output"
   ]
  },
  {
   "cell_type": "code",
   "execution_count": 117,
   "metadata": {},
   "outputs": [
    {
     "data": {
      "text/plain": [
       "'Optimal'"
      ]
     },
     "execution_count": 117,
     "metadata": {},
     "output_type": "execute_result"
    }
   ],
   "source": [
    "pulp.LpStatus[prob.status]"
   ]
  },
  {
   "cell_type": "code",
   "execution_count": 118,
   "metadata": {},
   "outputs": [
    {
     "name": "stdout",
     "output_type": "stream",
     "text": [
      "We have 18 enthusiastic courses out of a possible 24.\n"
     ]
    }
   ],
   "source": [
    "print(\"We have %d enthusiastic courses out of a possible %d.\" % \n",
    "      (pulp.value(prob.objective), len(courses)*TAS_PER_COURSE))"
   ]
  },
  {
   "cell_type": "markdown",
   "metadata": {},
   "source": [
    "#### Printing the results"
   ]
  },
  {
   "cell_type": "code",
   "execution_count": 119,
   "metadata": {},
   "outputs": [
    {
     "data": {
      "text/html": [
       "<div>\n",
       "<style scoped>\n",
       "    .dataframe tbody tr th:only-of-type {\n",
       "        vertical-align: middle;\n",
       "    }\n",
       "\n",
       "    .dataframe tbody tr th {\n",
       "        vertical-align: top;\n",
       "    }\n",
       "\n",
       "    .dataframe thead th {\n",
       "        text-align: right;\n",
       "    }\n",
       "</style>\n",
       "<table border=\"1\" class=\"dataframe\">\n",
       "  <thead>\n",
       "    <tr style=\"text-align: right;\">\n",
       "      <th></th>\n",
       "      <th>1</th>\n",
       "      <th>2</th>\n",
       "      <th>3</th>\n",
       "    </tr>\n",
       "  </thead>\n",
       "  <tbody>\n",
       "    <tr>\n",
       "      <th>Amin</th>\n",
       "      <td></td>\n",
       "      <td></td>\n",
       "      <td>573</td>\n",
       "    </tr>\n",
       "    <tr>\n",
       "      <th>Chris</th>\n",
       "      <td>521</td>\n",
       "      <td>552</td>\n",
       "      <td></td>\n",
       "    </tr>\n",
       "    <tr>\n",
       "      <th>Colby</th>\n",
       "      <td>523</td>\n",
       "      <td>531</td>\n",
       "      <td>522</td>\n",
       "    </tr>\n",
       "    <tr>\n",
       "      <th>Justin</th>\n",
       "      <td>521</td>\n",
       "      <td>512</td>\n",
       "      <td>513</td>\n",
       "    </tr>\n",
       "    <tr>\n",
       "      <th>Katie</th>\n",
       "      <td>523</td>\n",
       "      <td>531</td>\n",
       "      <td>561</td>\n",
       "    </tr>\n",
       "    <tr>\n",
       "      <th>Melika</th>\n",
       "      <td>551</td>\n",
       "      <td>552</td>\n",
       "      <td>561</td>\n",
       "    </tr>\n",
       "    <tr>\n",
       "      <th>Mobina</th>\n",
       "      <td></td>\n",
       "      <td>512</td>\n",
       "      <td>513</td>\n",
       "    </tr>\n",
       "    <tr>\n",
       "      <th>Rafi</th>\n",
       "      <td>511</td>\n",
       "      <td>571</td>\n",
       "      <td></td>\n",
       "    </tr>\n",
       "    <tr>\n",
       "      <th>Siddhesh</th>\n",
       "      <td>551</td>\n",
       "      <td>571</td>\n",
       "      <td>573</td>\n",
       "    </tr>\n",
       "    <tr>\n",
       "      <th>Yi Xuan</th>\n",
       "      <td>511</td>\n",
       "      <td></td>\n",
       "      <td>522</td>\n",
       "    </tr>\n",
       "  </tbody>\n",
       "</table>\n",
       "</div>"
      ],
      "text/plain": [
       "            1    2    3\n",
       "Amin                573\n",
       "Chris     521  552     \n",
       "Colby     523  531  522\n",
       "Justin    521  512  513\n",
       "Katie     523  531  561\n",
       "Melika    551  552  561\n",
       "Mobina         512  513\n",
       "Rafi      511  571     \n",
       "Siddhesh  551  571  573\n",
       "Yi Xuan   511       522"
      ]
     },
     "execution_count": 119,
     "metadata": {},
     "output_type": "execute_result"
    }
   ],
   "source": [
    "# Pass in \"\" as `data` so cells we don't fill are empty\n",
    "out_df_by_TA = pd.DataFrame(\"\", index=TAs, columns=list(blocks))\n",
    "for TA in TAs:\n",
    "    for course in courses:\n",
    "        if pulp.value(x[TA][course]) == 1:\n",
    "            out_df_by_TA.loc[TA, courses_df.loc[course, \"block\"]] = course\n",
    "out_df_by_TA"
   ]
  },
  {
   "cell_type": "code",
   "execution_count": 120,
   "metadata": {},
   "outputs": [
    {
     "data": {
      "text/html": [
       "<div>\n",
       "<style scoped>\n",
       "    .dataframe tbody tr th:only-of-type {\n",
       "        vertical-align: middle;\n",
       "    }\n",
       "\n",
       "    .dataframe tbody tr th {\n",
       "        vertical-align: top;\n",
       "    }\n",
       "\n",
       "    .dataframe thead th {\n",
       "        text-align: right;\n",
       "    }\n",
       "</style>\n",
       "<table border=\"1\" class=\"dataframe\">\n",
       "  <thead>\n",
       "    <tr style=\"text-align: right;\">\n",
       "      <th></th>\n",
       "      <th>TA 1</th>\n",
       "      <th>TA 2</th>\n",
       "    </tr>\n",
       "  </thead>\n",
       "  <tbody>\n",
       "    <tr>\n",
       "      <th>511</th>\n",
       "      <td>Rafi</td>\n",
       "      <td>Yi Xuan</td>\n",
       "    </tr>\n",
       "    <tr>\n",
       "      <th>521</th>\n",
       "      <td>Chris</td>\n",
       "      <td>Justin</td>\n",
       "    </tr>\n",
       "    <tr>\n",
       "      <th>551</th>\n",
       "      <td>Melika</td>\n",
       "      <td>Siddhesh</td>\n",
       "    </tr>\n",
       "    <tr>\n",
       "      <th>523</th>\n",
       "      <td>Colby</td>\n",
       "      <td>Katie</td>\n",
       "    </tr>\n",
       "    <tr>\n",
       "      <th>512</th>\n",
       "      <td>Justin</td>\n",
       "      <td>Mobina</td>\n",
       "    </tr>\n",
       "    <tr>\n",
       "      <th>531</th>\n",
       "      <td>Colby</td>\n",
       "      <td>Katie</td>\n",
       "    </tr>\n",
       "    <tr>\n",
       "      <th>552</th>\n",
       "      <td>Chris</td>\n",
       "      <td>Melika</td>\n",
       "    </tr>\n",
       "    <tr>\n",
       "      <th>571</th>\n",
       "      <td>Rafi</td>\n",
       "      <td>Siddhesh</td>\n",
       "    </tr>\n",
       "    <tr>\n",
       "      <th>513</th>\n",
       "      <td>Justin</td>\n",
       "      <td>Mobina</td>\n",
       "    </tr>\n",
       "    <tr>\n",
       "      <th>522</th>\n",
       "      <td>Colby</td>\n",
       "      <td>Yi Xuan</td>\n",
       "    </tr>\n",
       "    <tr>\n",
       "      <th>561</th>\n",
       "      <td>Katie</td>\n",
       "      <td>Melika</td>\n",
       "    </tr>\n",
       "    <tr>\n",
       "      <th>573</th>\n",
       "      <td>Amin</td>\n",
       "      <td>Siddhesh</td>\n",
       "    </tr>\n",
       "  </tbody>\n",
       "</table>\n",
       "</div>"
      ],
      "text/plain": [
       "       TA 1      TA 2\n",
       "511    Rafi   Yi Xuan\n",
       "521   Chris    Justin\n",
       "551  Melika  Siddhesh\n",
       "523   Colby     Katie\n",
       "512  Justin    Mobina\n",
       "531   Colby     Katie\n",
       "552   Chris    Melika\n",
       "571    Rafi  Siddhesh\n",
       "513  Justin    Mobina\n",
       "522   Colby   Yi Xuan\n",
       "561   Katie    Melika\n",
       "573    Amin  Siddhesh"
      ]
     },
     "execution_count": 120,
     "metadata": {},
     "output_type": "execute_result"
    }
   ],
   "source": [
    "tas_by_course = {course : list() for course in courses}\n",
    "for course in courses:\n",
    "    for TA in TAs:\n",
    "\n",
    "        if pulp.value(x[TA][course]) == 1:\n",
    "            tas_by_course[course].append(TA)\n",
    "out_df_by_course = pd.DataFrame.from_dict(data=tas_by_course, columns=[\"TA 1\", \"TA 2\"], orient=\"index\")\n",
    "out_df_by_course"
   ]
  },
  {
   "cell_type": "code",
   "execution_count": 121,
   "metadata": {},
   "outputs": [
    {
     "name": "stdout",
     "output_type": "stream",
     "text": [
      "Rafi     is enthusiastic about DSCI 511!\n",
      "Yi Xuan  is enthusiastic about DSCI 511!\n",
      "Chris    is enthusiastic about DSCI 521!\n",
      "Justin   is enthusiastic about DSCI 521!\n",
      "Melika   is enthusiastic about DSCI 551!\n",
      "Siddhesh is enthusiastic about DSCI 551!\n",
      "Colby    is enthusiastic about DSCI 523!\n",
      "Katie    is enthusiastic about DSCI 523!\n",
      "Justin   is enthusiastic about DSCI 512!\n",
      "Mobina   is enthusiastic about DSCI 512!\n",
      "Chris    is enthusiastic about DSCI 552!\n",
      "Melika   is enthusiastic about DSCI 552!\n",
      "Siddhesh is enthusiastic about DSCI 571!\n",
      "Justin   is enthusiastic about DSCI 513!\n",
      "Mobina   is enthusiastic about DSCI 513!\n",
      "Colby    is enthusiastic about DSCI 522!\n",
      "Katie    is enthusiastic about DSCI 561!\n",
      "Melika   is enthusiastic about DSCI 561!\n"
     ]
    }
   ],
   "source": [
    "# Enthusiastic courses\n",
    "for course in courses:\n",
    "    for TA in TAs:\n",
    "        if pulp.value(x[TA][course]) == 1 and course in TAs_df.loc[TA][\"enthusiastic\"]:\n",
    "            print(\"%-8s is enthusiastic about DSCI %d!\" % (TA, course))"
   ]
  },
  {
   "cell_type": "markdown",
   "metadata": {},
   "source": [
    "Check the constraints. Here they are again:\n",
    "\n",
    "- Each course should be assigned exactly 2 TAs.\n",
    "- A TA can only cover one course at a time (i.e., in a given block).\n",
    "- A TA can only be assigned to a course they have listed as \"can teach\" or \"enthusiastic to teach\".\n",
    "- To cover a course, the TA must be available for one of the two lab days (for simplicity - this does not quite guarantee lab coverage).\n"
   ]
  },
  {
   "cell_type": "code",
   "execution_count": 122,
   "metadata": {},
   "outputs": [],
   "source": [
    "for course in courses:\n",
    "    assert len([TA for TA in TAs if pulp.value(x[TA][course]) == 1]) == 2"
   ]
  },
  {
   "cell_type": "code",
   "execution_count": 123,
   "metadata": {},
   "outputs": [],
   "source": [
    "for TA in TAs:\n",
    "    for block in blocks:\n",
    "        courses_in_block = courses_df.query(\"block == @block\").index\n",
    "        assert len([course for course in courses_in_block if pulp.value(x[TA][course]) == 1]) <= 1"
   ]
  },
  {
   "cell_type": "code",
   "execution_count": 124,
   "metadata": {},
   "outputs": [],
   "source": [
    "for course in courses:\n",
    "    for TA in TAs:\n",
    "        if pulp.value(x[TA][course]) == 1:\n",
    "            assert course in TAs_df.loc[TA,\"can_teach\"] or course in TAs_df.loc[TA,\"enthusiastic\"]\n",
    "            assert courses_df.loc[course,\"lab_days\"][0] in TAs_df.loc[TA][\"availability\"] or \\\n",
    "                   courses_df.loc[course,\"lab_days\"][1] in TAs_df.loc[TA][\"availability\"]"
   ]
  },
  {
   "cell_type": "markdown",
   "metadata": {},
   "source": [
    "Note that the above is regular code running right now, not model code."
   ]
  },
  {
   "cell_type": "markdown",
   "metadata": {},
   "source": [
    "#### On your own time\n",
    "\n",
    "- Try playing around with the code above when you remove constraints.\n",
    "- This will give you a good feeling for the optimization problem.\n",
    "- With fewer constraints you'll get a better objective value, but the solutions won't make sense.\n",
    "- Often when looking at the solution you'll realize you forgot a constraint, like a TA doing multiple courses in the same block."
   ]
  },
  {
   "cell_type": "markdown",
   "metadata": {},
   "source": [
    "#### So how did this work?\n",
    "\n",
    "- Earlier we solved the \"English words in a string\" problem with brute force.\n",
    "- What would that look like here?\n",
    "- Well, how big is $x$?"
   ]
  },
  {
   "cell_type": "code",
   "execution_count": 125,
   "metadata": {},
   "outputs": [
    {
     "data": {
      "text/plain": [
       "10"
      ]
     },
     "execution_count": 125,
     "metadata": {},
     "output_type": "execute_result"
    }
   ],
   "source": [
    "len(TAs)"
   ]
  },
  {
   "cell_type": "code",
   "execution_count": 126,
   "metadata": {},
   "outputs": [
    {
     "data": {
      "text/plain": [
       "12"
      ]
     },
     "execution_count": 126,
     "metadata": {},
     "output_type": "execute_result"
    }
   ],
   "source": [
    "len(courses)"
   ]
  },
  {
   "cell_type": "code",
   "execution_count": 127,
   "metadata": {},
   "outputs": [
    {
     "data": {
      "text/plain": [
       "120"
      ]
     },
     "execution_count": 127,
     "metadata": {},
     "output_type": "execute_result"
    }
   ],
   "source": [
    "len(TAs) * len(courses)"
   ]
  },
  {
   "cell_type": "markdown",
   "metadata": {},
   "source": [
    "- We have 120 binary variables. \n",
    "- So, there are $2^{120}$ possible configurations of our binary variables."
   ]
  },
  {
   "cell_type": "code",
   "execution_count": 128,
   "metadata": {},
   "outputs": [
    {
     "data": {
      "text/plain": [
       "1329227995784915872903807060280344576"
      ]
     },
     "execution_count": 128,
     "metadata": {},
     "output_type": "execute_result"
    }
   ],
   "source": [
    "2**(len(TAs) * len(courses))"
   ]
  },
  {
   "cell_type": "markdown",
   "metadata": {},
   "source": [
    "Brute force is completely out of the question here!\n",
    "\n",
    "What did PuLP do to make it so fast?\n",
    "- It took advantage of the problem being _linear_.\n",
    "- For example, we have a constraint that a TA can only cover one course per block, which we encoded as $\\sum_j x_{ij} \\leq 1$\n",
    "- So if PuLP is considering a solution where $\\sum_j x_{ij}=2$ for some TA $i$, it can discard _all_ possible solutions like this, regardless of the configurations of _all other TAs_.\n",
    "  - That is a HUGE time saving.\n",
    "  - Furthermore it can discard all possible solutions with _more_ courses for that TA (i.e. 3 or 4 courses in a block). \n",
    "- This type of reasoning wouldn't have worked for the English words example because the solver doesn't \"know\" the constraints. For example if `aaabbbbb` is not allowed because you can't have more than 2 of a letter, it has no way to know that `aaabbbbd` is also violating the constraint - it can only find out whether the constraint is `True` or `False` for a given input without knowing the _structure_.\n",
    "- The above discussion pertains to exploiting the linearity of the constraints; there are similar gains to be had from the linearity of the objective."
   ]
  },
  {
   "cell_type": "markdown",
   "metadata": {},
   "source": [
    "#### (optional) Regular (non-integer) linear programming\n",
    "\n",
    "- FYI that the term \"linear programing\" (LP) usually refers to the case where the decision variables ($x$) are continuous; what we did with discrete $x$ is called integer linear programming (ILP).\n",
    "\n",
    "  - (You can also have a mix of continuous and discrete variables.)\n",
    "- PuLP can solve these types of problems as well.\n",
    "  - The algorithms under the hood are very different, but from your perspective the interface with PuLP is the same whether the variables are continuous or discrete.\n",
    "- (optional) FYI, discrete problems are generally harder to solve. They have exponential worst-case time though in practice it's fine. Continuous LP problems have better big O bounds. "
   ]
  },
  {
   "cell_type": "markdown",
   "metadata": {},
   "source": [
    "#### (optional) What we actually do for MDS TAs:\n",
    "\n",
    "- All of the above, and...\n",
    "- Match TA programming language proficiency with courses.\n",
    "- Respect TA preferences on max or min number of courses (e.g. 1-2 courses, exactly 3 courses, etc).\n",
    "  - This means you no longer have 3 separate problems for the 3 blocks.\n",
    "- Allow the script to under/over staff if necessary (big term in the objective).\n",
    "- And more"
   ]
  },
  {
   "cell_type": "markdown",
   "metadata": {},
   "source": [
    "## Types of discrete optimization problems\n",
    "\n",
    "- We tend to classify discrete optimization problems into different types, based on the tricks we can use to solve them.\n",
    "- For example, some tough optimization problems are said to be [NP-complete](https://en.wikipedia.org/wiki/NP-completeness). We won't go into detail here, but it's related to the idea that you have to use brute force.\n",
    "- Other optimization problems are called _linear_. Discrete optimization problems that are linear are called [integer linear programs](https://en.wikipedia.org/wiki/Integer_programming). \n",
    "  - There is a technical definition of linear optimization problems, but in short the objective and constraints must be linear functions of the inputs. \n",
    "  - In Python, we can conveniently solve linear optimization problems using the [PuLP](https://pythonhosted.org/PuLP/) package.\n",
    "  - The way these solvers work is outside the scope of MDS.\n",
    "- In general, if your optimization problem falls into a more restrictive class of problems, there are probably tools to solve them faster (for example, last class we talked about another class of problems that can be solved fast, using \"dynamic programming\")."
   ]
  },
  {
   "cell_type": "markdown",
   "metadata": {},
   "source": [
    "## (optional) Profiling\n",
    "\n",
    "- Profiling means measuring how long parts of your code takes.\n",
    "- We'll use [SnakeViz](https://jiffyclub.github.io/snakeviz/) for this."
   ]
  },
  {
   "cell_type": "code",
   "execution_count": 60,
   "metadata": {},
   "outputs": [],
   "source": [
    "%load_ext snakeviz\n",
    "# To install snakeviz, use `pip install snakeviz`"
   ]
  },
  {
   "cell_type": "code",
   "execution_count": 61,
   "metadata": {},
   "outputs": [
    {
     "name": "stdout",
     "output_type": "stream",
     "text": [
      " \n",
      "*** Profile stats marshalled to file '/var/folders/mp/13tr36k17_n99rc7qsh4dgxc0000gp/T/tmpjpul20of'.\n",
      "Opening SnakeViz in a new tab...\n"
     ]
    }
   ],
   "source": [
    "%%snakeviz -t \n",
    "\n",
    "# Note: -t is to open in new tab which is necessary in JupyterLab (thanks to Joel Ostblom for this tip)\n",
    "\n",
    "english_words_in_string('we can see that a lot of time was spent')"
   ]
  },
  {
   "cell_type": "markdown",
   "metadata": {},
   "source": [
    "- Profiling is useful when your code is slow but you don't know which parts.\n",
    "- \"Premature optimization is the root of all evil\" -Donald Knuth\n",
    "  - So, make sure you know what part of your code needs speeding up.\n",
    "  - If something is only taking 1% of the time, don't work on making it faster."
   ]
  },
  {
   "cell_type": "markdown",
   "metadata": {},
   "source": [
    "## (optional) Sorting "
   ]
  },
  {
   "cell_type": "markdown",
   "metadata": {},
   "source": [
    "- Sorting is a very popular topic in Algorithms and Data Structures courses.\n",
    "- We'll start with insertion sort.\n",
    "- This is the same code that we saw last class."
   ]
  },
  {
   "cell_type": "code",
   "execution_count": 62,
   "metadata": {},
   "outputs": [],
   "source": [
    "def insertion_sort(x):\n",
    "    \"\"\"Sorts x inplace using insertion sort.\n",
    "\n",
    "    Parameters\n",
    "    ----------\n",
    "    x : list\n",
    "           the list needed to be sorted\n",
    "\n",
    "    Returns\n",
    "    -------\n",
    "    list :\n",
    "        the sorted list \n",
    "\n",
    "    Examples\n",
    "    --------\n",
    "    >>> insertion_sort([7, 1, 67, 35, 45])\n",
    "    [1, 7, 35, 45, 67]\n",
    "    >>> insertion_sort([357, 6, 55, 12, 112])\n",
    "    [6, 12, 55, 112, 357]\n",
    "    \"\"\"\n",
    "\n",
    "    n = len(x)\n",
    "\n",
    "    for i in range(n):\n",
    "        # Get the index of the smallest value from location i onward\n",
    "        min_ind = np.argmin(x[i:]) + i\n",
    "\n",
    "        # Swap this with element i\n",
    "        x[i], x[min_ind] = x[min_ind], x[i]\n",
    "    return x"
   ]
  },
  {
   "cell_type": "markdown",
   "metadata": {},
   "source": [
    "**Question:** What is the time complexity of this method?"
   ]
  },
  {
   "cell_type": "markdown",
   "metadata": {},
   "source": [
    "<br><br><br><br><br><br>\n",
    "\n",
    "**Answer:** $O(n^2)$. `argmin` itself takes $O(n)$, and this is called $n$ times, for a total of $O(n^2)$. The actual number of steps is more like $n^2/2$.\n",
    "\n",
    "<br>"
   ]
  },
  {
   "cell_type": "markdown",
   "metadata": {},
   "source": [
    "**Question:** could we find a sorting algorithm that takes $\\log(n)$ time?"
   ]
  },
  {
   "cell_type": "markdown",
   "metadata": {},
   "source": [
    "<br><br><br><br><br><br>\n",
    "\n",
    "**Answer:** no way, because it takes $n$ steps to even inspect every element of the input!"
   ]
  },
  {
   "cell_type": "markdown",
   "metadata": {},
   "source": [
    "- The real answer is that the best sorting algorithms are $n \\log(n)$ time. This is close enough to $O(n)$ that we should be very happy with the result. \n",
    "- If you are interested, you can read more about [mergesort](https://www.geeksforgeeks.org/merge-sort/) and [quicksort](https://www.geeksforgeeks.org/quick-sort/). We may go into this a bit next week."
   ]
  },
  {
   "cell_type": "markdown",
   "metadata": {},
   "source": [
    "## Course wrap-up\n",
    "\n",
    "Course learning goals:\n",
    "\n",
    "- Analyze the scalability and trade-offs of various basic algorithms and data structures using Big-O notation.\n",
    "- Read and interpret recursive functions.\n",
    "- Select appropriate data structures, such as graphs, given a data set.\n",
    "- Map certain real-world problems to discrete optimization problems.\n",
    "- Diagnose rate-limiting aspects of slow Python code and enumerate various options for speeding it up.\n",
    "\n",
    "Hopefully this course has helped you more deeply understand some data structures you were already using, like sets, and also unlocked some new ways of thinking, like recursion or optimization.\n",
    "\n"
   ]
  }
 ],
 "metadata": {
  "kernelspec": {
   "display_name": "Python 3 (ipykernel)",
   "language": "python",
   "name": "python3"
  },
  "language_info": {
   "codemirror_mode": {
    "name": "ipython",
    "version": 3
   },
   "file_extension": ".py",
   "mimetype": "text/x-python",
   "name": "python",
   "nbconvert_exporter": "python",
   "pygments_lexer": "ipython3",
   "version": "3.11.9"
  },
  "vscode": {
   "interpreter": {
    "hash": "833530e805897aab5e7a30ee530b0bcb4cd19373b840f29eae5897b61b26002e"
   }
  }
 },
 "nbformat": 4,
 "nbformat_minor": 4
}
