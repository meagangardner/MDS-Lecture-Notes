{
 "cells": [
  {
   "cell_type": "raw",
   "metadata": {},
   "source": [
    "# ASSIGNMENT CONFIG\n",
    "solutions_pdf: false\n",
    "export_cell: false\n",
    "check_all_cell: false\n",
    "environment: environment.yml\n",
    "overwrite_requirements: true\n",
    "generate:\n",
    "    pdf: false\n",
    "    zips: false\n",
    "    show_hidden: false\n",
    "    show_stdout: true\n",
    "files:\n",
    "    - data/food_consumption2.csv"
   ]
  },
  {
   "cell_type": "markdown",
   "metadata": {},
   "source": [
    "## Worksheet 2 - Renaming and reshaping"
   ]
  },
  {
   "cell_type": "code",
   "execution_count": null,
   "metadata": {},
   "outputs": [],
   "source": [
    "import pandas as pd\n",
    "import numpy as np\n",
    "from hashlib import sha1"
   ]
  },
  {
   "cell_type": "markdown",
   "metadata": {},
   "source": [
    "## Exercises"
   ]
  },
  {
   "cell_type": "markdown",
   "metadata": {},
   "source": [
    "In this set of practice exercises we'll be investigating the carbon footprint of different foods. We'll be leveraging a dataset compiled by [Kasia Kulma](https://r-tastic.co.uk/post/from-messy-to-tidy/) and contributed to [R's Tidy Tuesday project](https://github.com/rfordatascience/tidytuesday). This is the same set we used for Lecture 1."
   ]
  },
  {
   "cell_type": "code",
   "execution_count": null,
   "metadata": {},
   "outputs": [],
   "source": [
    "url = \"https://raw.githubusercontent.com/rfordatascience/tidytuesday/master/data/2020/2020-02-18/food_consumption.csv\"\n",
    "df = pd.read_csv(url)\n",
    "df.head()"
   ]
  },
  {
   "cell_type": "markdown",
   "metadata": {},
   "source": [
    "### Q1\n",
    "\n",
    "rubric={autograde:1}"
   ]
  },
  {
   "cell_type": "markdown",
   "metadata": {},
   "source": [
    "Create a dataframe to store the countries that produce more than 1000 Kg CO2/person/year for at least one food type. Name the dataframe `df_high_co2`."
   ]
  },
  {
   "cell_type": "raw",
   "metadata": {},
   "source": [
    "# BEGIN QUESTION\n",
    "name: q1\n",
    "points: 1"
   ]
  },
  {
   "cell_type": "raw",
   "metadata": {},
   "source": [
    "# BEGIN SOLUTION"
   ]
  },
  {
   "cell_type": "code",
   "execution_count": null,
   "metadata": {},
   "outputs": [],
   "source": [
    "df_high_co2 = df.query(\"co2_emmission > 1000\") # SOLUTION\n",
    "df_high_co2"
   ]
  },
  {
   "cell_type": "raw",
   "metadata": {},
   "source": [
    "# END SOLUTION"
   ]
  },
  {
   "cell_type": "raw",
   "metadata": {},
   "source": [
    "# BEGIN TESTS"
   ]
  },
  {
   "cell_type": "code",
   "execution_count": null,
   "metadata": {},
   "outputs": [],
   "source": [
    "assert type(df_high_co2) == pd.DataFrame, \"Your answer should be a pandas DataFrame called df_high_co2\"\n",
    "assert df_high_co2.shape[0] == 5, \"`df_high_co2` should have 5 rows\"\n",
    "assert df_high_co2.shape[1] == 4, \"`df_high_co2` should have 4 columns\"\n",
    "assert df_high_co2['co2_emmission'].min() > 1000, \"Incorrect values in the `co2_emmission` column.\""
   ]
  },
  {
   "cell_type": "raw",
   "metadata": {},
   "source": [
    "# END TESTS"
   ]
  },
  {
   "cell_type": "raw",
   "metadata": {},
   "source": [
    "# END QUESTION"
   ]
  },
  {
   "cell_type": "markdown",
   "metadata": {},
   "source": [
    "### Q2\n",
    "\n",
    "rubric={autograde:1}"
   ]
  },
  {
   "cell_type": "markdown",
   "metadata": {},
   "source": [
    "Which country consumes the least amount of beef per person per year? Save the answer as a string in a variable called `least_beef`.\n",
    "*Hint*: This will require multiple steps of filtering, sorting, and locating data."
   ]
  },
  {
   "cell_type": "raw",
   "metadata": {},
   "source": [
    "# BEGIN QUESTION\n",
    "name: q2\n",
    "points: 1"
   ]
  },
  {
   "cell_type": "raw",
   "metadata": {},
   "source": [
    "# BEGIN SOLUTION"
   ]
  },
  {
   "cell_type": "code",
   "execution_count": null,
   "metadata": {},
   "outputs": [],
   "source": [
    "# BEGIN SOLUTION\n",
    "least_beef =  df.query(\"food_category == 'Beef'\").sort_values(by=\"consumption\").iloc[0]\n",
    "least_beef = least_beef['country']\n",
    "# END SOLUTION\n",
    "least_beef"
   ]
  },
  {
   "cell_type": "raw",
   "metadata": {},
   "source": [
    "# END SOLUTION"
   ]
  },
  {
   "cell_type": "raw",
   "metadata": {},
   "source": [
    "# BEGIN TESTS"
   ]
  },
  {
   "cell_type": "code",
   "execution_count": null,
   "metadata": {},
   "outputs": [],
   "source": [
    "assert type(least_beef) == str\n",
    "assert sha1(least_beef.encode('utf-8')).hexdigest() == '1ed5dd9d833f675b7509886681e2164d842f8dad', \"Wrong answer\""
   ]
  },
  {
   "cell_type": "raw",
   "metadata": {},
   "source": [
    "# END TESTS"
   ]
  },
  {
   "cell_type": "raw",
   "metadata": {},
   "source": [
    "# END QUESTION"
   ]
  },
  {
   "cell_type": "markdown",
   "metadata": {},
   "source": [
    "### Q3\n",
    "\n",
    "rubric={autograde:1}"
   ]
  },
  {
   "cell_type": "markdown",
   "metadata": {},
   "source": [
    "Rename the columns of `df` such that:\n",
    "- `food_category` becomes `category`\n",
    "- `co2_emmission` becomes `co2`\n",
    "- `country` becomes `nation`\n",
    "\n",
    "When answering this, be sure to modify the original `df`, do not create a new dataframe with a different name."
   ]
  },
  {
   "cell_type": "raw",
   "metadata": {},
   "source": [
    "# BEGIN QUESTION\n",
    "name: q3\n",
    "points: 1"
   ]
  },
  {
   "cell_type": "raw",
   "metadata": {},
   "source": [
    "# BEGIN SOLUTION"
   ]
  },
  {
   "cell_type": "code",
   "execution_count": null,
   "metadata": {},
   "outputs": [],
   "source": [
    "# BEGIN SOLUTION\n",
    "df.columns = ['nation', 'category', 'consumption', 'co2']\n",
    "# END SOLUTION\n",
    "df.head()"
   ]
  },
  {
   "cell_type": "raw",
   "metadata": {},
   "source": [
    "# END SOLUTION"
   ]
  },
  {
   "cell_type": "raw",
   "metadata": {},
   "source": [
    "# BEGIN TESTS"
   ]
  },
  {
   "cell_type": "code",
   "execution_count": null,
   "metadata": {},
   "outputs": [],
   "source": [
    "assert type(df) == pd.DataFrame, \"`df` should be a pandas DataFrame called `df`\"\n",
    "assert df.shape[0] == 1430, \"`df` should have 1430 rows\"\n",
    "assert df.shape[1] == 4, \"`df` should have 4 columns\"\n",
    "assert df.columns.tolist() == ['nation', 'category', 'consumption', 'co2'], \"Incorrect column names\""
   ]
  },
  {
   "cell_type": "raw",
   "metadata": {},
   "source": [
    "# END TESTS"
   ]
  },
  {
   "cell_type": "raw",
   "metadata": {},
   "source": [
    "# END QUESTION"
   ]
  },
  {
   "cell_type": "markdown",
   "metadata": {},
   "source": [
    "### Q4\n",
    "\n",
    "rubric={autograde:1}"
   ]
  },
  {
   "cell_type": "markdown",
   "metadata": {},
   "source": [
    "Make a new DataFrame consisting of all the countries that consume less than 10 kg of rice per year. Save this in a variable named `rice` and sort it from lowest to highest consumption. Don't forget that the name of the food consumption variable was changed in question 3 above."
   ]
  },
  {
   "cell_type": "raw",
   "metadata": {},
   "source": [
    "# BEGIN QUESTION\n",
    "name: q4\n",
    "points: 1"
   ]
  },
  {
   "cell_type": "raw",
   "metadata": {},
   "source": [
    "# BEGIN SOLUTION"
   ]
  },
  {
   "cell_type": "code",
   "execution_count": null,
   "metadata": {},
   "outputs": [],
   "source": [
    "# BEGIN SOLUTION\n",
    "rice = df.query(\"category == 'Rice' & consumption < 10\")\n",
    "rice = rice.sort_values('consumption')\n",
    "# END SOLUTION\n",
    "rice.head()"
   ]
  },
  {
   "cell_type": "raw",
   "metadata": {},
   "source": [
    "# END SOLUTION"
   ]
  },
  {
   "cell_type": "raw",
   "metadata": {},
   "source": [
    "# BEGIN TESTS"
   ]
  },
  {
   "cell_type": "code",
   "execution_count": null,
   "metadata": {},
   "outputs": [],
   "source": [
    "assert type(rice) == pd.DataFrame, \"`rice` should be a pandas DataFrame called `df`\"\n",
    "assert rice.shape[0] == 60, \"`rice` should have 60 rows\"\n",
    "assert rice.shape[1] == 4, \"`rice` should have 4 columns\"\n",
    "assert rice.iloc[0]['consumption'] == 0.95, \"Dataframe is not sorted properly\""
   ]
  },
  {
   "cell_type": "raw",
   "metadata": {},
   "source": [
    "# END TESTS"
   ]
  },
  {
   "cell_type": "raw",
   "metadata": {},
   "source": [
    "# END QUESTION"
   ]
  },
  {
   "cell_type": "markdown",
   "metadata": {},
   "source": [
    "### Q5\n",
    "\n",
    "rubric={autograde:1}"
   ]
  },
  {
   "cell_type": "markdown",
   "metadata": {},
   "source": [
    "Create a Series (one column) of countries that eat over 10kg of either beef or poultry. Save this to a variable called `beef_or_chicken`.\n",
    "\n",
    "*Hint*: This is a complex condition, so it might be easier to write out with `.query()`."
   ]
  },
  {
   "cell_type": "raw",
   "metadata": {},
   "source": [
    "# BEGIN QUESTION\n",
    "name: q5\n",
    "points: 1"
   ]
  },
  {
   "cell_type": "raw",
   "metadata": {},
   "source": [
    "# BEGIN SOLUTION"
   ]
  },
  {
   "cell_type": "code",
   "execution_count": null,
   "metadata": {},
   "outputs": [],
   "source": [
    "# BEGIN SOLUTION\n",
    "condition = \"category == 'Beef' & consumption > 10 | category == 'Poultry' & consumption > 10\"\n",
    "beef_or_chicken = df.query(condition)\n",
    "# END SOLUTION\n",
    "beef_or_chicken.head()"
   ]
  },
  {
   "cell_type": "raw",
   "metadata": {},
   "source": [
    "# END SOLUTION"
   ]
  },
  {
   "cell_type": "raw",
   "metadata": {},
   "source": [
    "# BEGIN TESTS"
   ]
  },
  {
   "cell_type": "code",
   "execution_count": null,
   "metadata": {},
   "outputs": [],
   "source": [
    "assert type(beef_or_chicken) == pd.DataFrame, \"`beef_or_chicken` should be a pandas DataFrame called `df`\"\n",
    "assert beef_or_chicken.shape[0] == 154, \"`beef_or_chicken` should have 154 rows\"\n",
    "assert beef_or_chicken.shape[1] == 4, \"`beef_or_chicken` should have 4 columns\"\n",
    "assert beef_or_chicken.loc[1343]['consumption'] == 13.69, \"Incorrect data in the consumption column\""
   ]
  },
  {
   "cell_type": "raw",
   "metadata": {},
   "source": [
    "# END TESTS"
   ]
  },
  {
   "cell_type": "raw",
   "metadata": {},
   "source": [
    "# END QUESTION"
   ]
  },
  {
   "cell_type": "markdown",
   "metadata": {},
   "source": [
    "### Q6\n",
    "\n",
    "rubric={autograde:1}"
   ]
  },
  {
   "cell_type": "markdown",
   "metadata": {},
   "source": [
    "We're now going to practice tidying data. Remember, to tidy data we need to think about the data and the statistical question we would like to ask about it. Consider this question for the  carbon footprint of different foods data set we have been working on:\n",
    "\n",
    "*Is there a relationship between the amount of a food type consumed and the $CO_2$ emmission from that food type? And does this differ depending on the country where the food is grown and consumed?*\n",
    "\n",
    "Considering this question, is version the data below tidy? If not, use the appropriate pandas function to tidy the data so that it is. Save this as a data frame called `df2_tidy`. \n",
    "\n",
    "> Note: Do not reset the index or modify the column names from your output from `.pivot()` or `.melt()` in this question."
   ]
  },
  {
   "cell_type": "raw",
   "metadata": {},
   "source": [
    "# BEGIN QUESTION\n",
    "name: q6\n",
    "points: 1"
   ]
  },
  {
   "cell_type": "raw",
   "metadata": {},
   "source": [
    "# BEGIN SOLUTION"
   ]
  },
  {
   "cell_type": "code",
   "execution_count": null,
   "metadata": {},
   "outputs": [],
   "source": [
    "df2 = pd.read_csv('data/food_consumption2.csv')\n",
    "df2.head()"
   ]
  },
  {
   "cell_type": "code",
   "execution_count": null,
   "metadata": {},
   "outputs": [],
   "source": [
    "df2.tail()"
   ]
  },
  {
   "cell_type": "code",
   "execution_count": null,
   "metadata": {},
   "outputs": [],
   "source": [
    "# BEGIN SOLUTION\n",
    "df2_tidy = df2.pivot(index=['country', 'food_category'], \n",
    "                     columns=['metrics'], \n",
    "                     values=['measurements']\n",
    "                    )\n",
    "\n",
    "# END SOLUTION\n",
    "df2_tidy.head()"
   ]
  },
  {
   "cell_type": "raw",
   "metadata": {},
   "source": [
    "# END SOLUTION"
   ]
  },
  {
   "cell_type": "raw",
   "metadata": {},
   "source": [
    "# BEGIN TESTS"
   ]
  },
  {
   "cell_type": "code",
   "execution_count": null,
   "metadata": {},
   "outputs": [],
   "source": [
    "assert type(df2_tidy) == pd.DataFrame, \"`df2_tidy` should be a pandas DataFrame called `df2_tidy`\"\n",
    "assert df2_tidy.shape[0] == 1430, \"`df2_tidy` should have 1430 rows\"\n",
    "assert df2_tidy.shape[1] == 2, \"`df2_tidy` should have 2 columns\"\n",
    "cols = df2_tidy.columns.to_list()\n",
    "if type(df2_tidy.columns.to_list()[0]) == tuple: cols = [item for sublist in df2_tidy.columns.to_list() for item in sublist]\n",
    "assert 'co2_emmission' in cols and 'consumption' in cols, \"Both 'co2_emmission' and 'consumption' must be in the list\"\n",
    "assert 'metrics' in list(df2_tidy.columns.names)\n",
    "assert df2_tidy.index.names == ['country', 'food_category'], \"`df2_tidy` should have 'country', 'food_category' as the index names.\""
   ]
  },
  {
   "cell_type": "raw",
   "metadata": {},
   "source": [
    "# END TESTS"
   ]
  },
  {
   "cell_type": "raw",
   "metadata": {},
   "source": [
    "# END QUESTION"
   ]
  },
  {
   "cell_type": "markdown",
   "metadata": {},
   "source": [
    "### Q7\n",
    "\n",
    "rubric={autograde:1}"
   ]
  },
  {
   "cell_type": "markdown",
   "metadata": {},
   "source": [
    "When `.pivot()` is called with multiple column names passed to the `index`, those entries become the “name” of each row that would be used when you filter rows with `[]` or `loc` rather than just simple numbers. This can be confusing… Use `.reset_index()` to set `df2_tidy` to have the usual, expected behaviour, where each row is “named” with an integer. This is a subtle point, but the main take-away is that when you call `.pivot()`, it is a good idea to call `.reset_index()` afterwards.\n",
    "\n",
    "Name your new data frame `df2_tidy_index`."
   ]
  },
  {
   "cell_type": "raw",
   "metadata": {},
   "source": [
    "# BEGIN QUESTION\n",
    "name: q7\n",
    "points: 1"
   ]
  },
  {
   "cell_type": "raw",
   "metadata": {},
   "source": [
    "# BEGIN SOLUTION"
   ]
  },
  {
   "cell_type": "code",
   "execution_count": null,
   "metadata": {},
   "outputs": [],
   "source": [
    "#df2_tidy_index = df2_tidy\n",
    "df2_tidy_index = df2_tidy.reset_index() # SOLUTION\n",
    "df2_tidy_index.head()"
   ]
  },
  {
   "cell_type": "raw",
   "metadata": {},
   "source": [
    "# END SOLUTION"
   ]
  },
  {
   "cell_type": "raw",
   "metadata": {},
   "source": [
    "# BEGIN TESTS"
   ]
  },
  {
   "cell_type": "code",
   "execution_count": null,
   "metadata": {},
   "outputs": [],
   "source": [
    "assert type(df2_tidy_index) == pd.DataFrame, \"`df2_tidy_index` should be a pandas DataFrame called `df2_tidy_index`\"\n",
    "assert df2_tidy_index.shape[0] == 1430, \"`df2_tidy_index` should have 1430 rows\"\n",
    "assert df2_tidy_index.shape[1] == 4, \"`df2_tidy_index` should have 4 columns\"\n",
    "assert list(df2_tidy_index.index.names) == [None]\n",
    "cols_index = df2_tidy_index.columns.to_list()\n",
    "if type(df2_tidy_index.columns.to_list()[0]) == tuple: cols_index = [item for sublist in df2_tidy_index.columns.to_list() for item in sublist]\n",
    "assert 'country' in cols_index"
   ]
  },
  {
   "cell_type": "raw",
   "metadata": {},
   "source": [
    "# END TESTS"
   ]
  },
  {
   "cell_type": "raw",
   "metadata": {},
   "source": [
    "# END QUESTION"
   ]
  },
  {
   "cell_type": "markdown",
   "metadata": {},
   "source": [
    "### Q8\n",
    "\n",
    "rubric={autograde:1}"
   ]
  },
  {
   "cell_type": "markdown",
   "metadata": {},
   "source": [
    "When we perform the `.pivot()` operation, it also keeps the original column names and adds the new column name as a second column name. Having two names for a column can be confusing! So we should rename the columns in the data frame so that they only have one name. \n",
    "\n",
    "Name your new data frame `df2_tidy_index_renamed`."
   ]
  },
  {
   "cell_type": "raw",
   "metadata": {},
   "source": [
    "# BEGIN QUESTION\n",
    "name: q8\n",
    "points: 1"
   ]
  },
  {
   "cell_type": "raw",
   "metadata": {},
   "source": [
    "# BEGIN SOLUTION"
   ]
  },
  {
   "cell_type": "code",
   "execution_count": null,
   "metadata": {},
   "outputs": [],
   "source": [
    "df2_tidy_index_renamed = df2_tidy_index.copy() # make a copy so as not to modify the object in Q7\n",
    "# BEGIN SOLUTION\n",
    "df2_tidy_index_renamed.columns = [\n",
    "    \"country\",\n",
    "    \"food_category\",\n",
    "    \"co2_emmission\",\n",
    "    \"consumption\"\n",
    "]\n",
    "# END SOLUTION\n",
    "df2_tidy_index_renamed.head()"
   ]
  },
  {
   "cell_type": "raw",
   "metadata": {},
   "source": [
    "# END SOLUTION"
   ]
  },
  {
   "cell_type": "raw",
   "metadata": {},
   "source": [
    "# BEGIN TESTS"
   ]
  },
  {
   "cell_type": "code",
   "execution_count": null,
   "metadata": {},
   "outputs": [],
   "source": [
    "assert type(df2_tidy_index_renamed) == pd.DataFrame, \"`df2_tidy_index_renamed` should be a pandas DataFrame called `df2_tidy_index_renamed`\"\n",
    "assert df2_tidy_index_renamed.shape[0] == 1430, \"`df2_tidy_index_renamed` should have 1430 rows\"\n",
    "assert df2_tidy_index_renamed.shape[1] == 4, \"`df2_tidy_index_renamed` should have 4 columns\"\n",
    "assert list(df2_tidy_index_renamed.columns) == ['country', 'food_category', 'co2_emmission', 'consumption']\n",
    "assert list(df2_tidy_index_renamed.index.names) == [None]"
   ]
  },
  {
   "cell_type": "raw",
   "metadata": {},
   "source": [
    "# END TESTS"
   ]
  },
  {
   "cell_type": "raw",
   "metadata": {},
   "source": [
    "# END QUESTION"
   ]
  },
  {
   "cell_type": "markdown",
   "metadata": {},
   "source": [
    "Congratulations! You are done the worksheet!!! Pat yourself on the back, and submit your worksheet to Gradescope!"
   ]
  }
 ],
 "metadata": {
  "kernelspec": {
   "display_name": "Python 3 (ipykernel)",
   "language": "python",
   "name": "python3"
  },
  "language_info": {
   "codemirror_mode": {
    "name": "ipython",
    "version": 3
   },
   "file_extension": ".py",
   "mimetype": "text/x-python",
   "name": "python",
   "nbconvert_exporter": "python",
   "pygments_lexer": "ipython3",
   "version": "3.11.9"
  }
 },
 "nbformat": 4,
 "nbformat_minor": 4
}
