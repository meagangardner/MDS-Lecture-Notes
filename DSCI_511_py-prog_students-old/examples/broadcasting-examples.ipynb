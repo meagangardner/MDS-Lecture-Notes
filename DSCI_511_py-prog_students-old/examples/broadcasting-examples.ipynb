{
 "cells": [
  {
   "cell_type": "markdown",
   "id": "a596e6a3-4803-4b66-b312-efa948a8a71b",
   "metadata": {},
   "source": [
    "## Examples of reshaping for the purposes of broadcasting"
   ]
  },
  {
   "cell_type": "code",
   "execution_count": 2,
   "id": "63654bf8-f909-4975-b5f4-6b139c2b5b5e",
   "metadata": {},
   "outputs": [],
   "source": [
    "import numpy as np"
   ]
  },
  {
   "cell_type": "markdown",
   "id": "80f75b10-3131-407c-a8b0-ce690ed45d9b",
   "metadata": {},
   "source": [
    "### Example 1"
   ]
  },
  {
   "cell_type": "markdown",
   "id": "1a035efb-648d-43f4-8768-611c703dbae0",
   "metadata": {},
   "source": [
    "Here we create an `ndarray` called `my_image`, that we would like to add another array to, called `my_filter`. "
   ]
  },
  {
   "cell_type": "code",
   "execution_count": 3,
   "id": "8f60b292-4e2c-4bd4-b1b6-c80695729829",
   "metadata": {},
   "outputs": [],
   "source": [
    "my_image = np.array([[1, 1, 1, 0, 0, 0],\n",
    "[1, 1 , 1, 0, 0, 0],\n",
    "[1, 1 , 1, 0, 0, 0],\n",
    "[0, 0 , 0, 0, 0, 0],\n",
    "[0, 0 , 0, 0, 0, 0],\n",
    "[0, 0 , 0, 0, 0, 0]])"
   ]
  },
  {
   "cell_type": "code",
   "execution_count": 4,
   "id": "dd0480b0-3374-462b-9266-b1110a18d1e2",
   "metadata": {},
   "outputs": [
    {
     "data": {
      "text/plain": [
       "array([[1, 1, 1, 0, 0, 0],\n",
       "       [1, 1, 1, 0, 0, 0],\n",
       "       [1, 1, 1, 0, 0, 0],\n",
       "       [0, 0, 0, 0, 0, 0],\n",
       "       [0, 0, 0, 0, 0, 0],\n",
       "       [0, 0, 0, 0, 0, 0]])"
      ]
     },
     "execution_count": 4,
     "metadata": {},
     "output_type": "execute_result"
    }
   ],
   "source": [
    "my_image"
   ]
  },
  {
   "cell_type": "code",
   "execution_count": 5,
   "id": "55bbfc14-868a-4077-a69e-8eb5f8c2fde0",
   "metadata": {},
   "outputs": [
    {
     "data": {
      "text/plain": [
       "(6, 6)"
      ]
     },
     "execution_count": 5,
     "metadata": {},
     "output_type": "execute_result"
    }
   ],
   "source": [
    "my_image.shape"
   ]
  },
  {
   "cell_type": "markdown",
   "id": "8a58b711-c0dd-4b31-a393-9c458940298b",
   "metadata": {},
   "source": [
    "Here we create the second `ndarray` that we'd like to use to add to `my_image`:"
   ]
  },
  {
   "cell_type": "code",
   "execution_count": 17,
   "id": "6169a491-769e-4b5f-9946-8b2a0478c222",
   "metadata": {},
   "outputs": [
    {
     "data": {
      "text/plain": [
       "array([[255, 255, 255],\n",
       "       [255, 255, 255],\n",
       "       [255, 255, 255]])"
      ]
     },
     "execution_count": 17,
     "metadata": {},
     "output_type": "execute_result"
    }
   ],
   "source": [
    "my_filter = np.array([[255, 255, 255],\n",
    "       [255, 255, 255],\n",
    "       [255, 255, 255]])\n",
    "my_filter"
   ]
  },
  {
   "cell_type": "code",
   "execution_count": 7,
   "id": "8ed0c21b-13b1-455b-aa80-4116b179449e",
   "metadata": {},
   "outputs": [
    {
     "data": {
      "text/plain": [
       "(3, 3)"
      ]
     },
     "execution_count": 7,
     "metadata": {},
     "output_type": "execute_result"
    }
   ],
   "source": [
    "my_filter.shape"
   ]
  },
  {
   "cell_type": "markdown",
   "id": "d2a7ecea-95d2-4cfe-a1b8-440a04402094",
   "metadata": {},
   "source": [
    "If we try to directly add them, we get an error because they are not broadcastable:"
   ]
  },
  {
   "cell_type": "code",
   "execution_count": 18,
   "id": "6f01bf01-621d-4682-aef6-4fd4a5b55aa2",
   "metadata": {},
   "outputs": [
    {
     "ename": "ValueError",
     "evalue": "operands could not be broadcast together with shapes (6,6) (3,3) ",
     "output_type": "error",
     "traceback": [
      "\u001b[0;31m---------------------------------------------------------------------------\u001b[0m",
      "\u001b[0;31mValueError\u001b[0m                                Traceback (most recent call last)",
      "Cell \u001b[0;32mIn[18], line 1\u001b[0m\n\u001b[0;32m----> 1\u001b[0m \u001b[43mmy_image\u001b[49m\u001b[43m \u001b[49m\u001b[38;5;241;43m+\u001b[39;49m\u001b[43m \u001b[49m\u001b[43mmy_filter\u001b[49m\n",
      "\u001b[0;31mValueError\u001b[0m: operands could not be broadcast together with shapes (6,6) (3,3) "
     ]
    }
   ],
   "source": [
    "my_image + my_filter"
   ]
  },
  {
   "cell_type": "markdown",
   "id": "4f865679-c5ea-4ecb-ac53-d0d632305a49",
   "metadata": {},
   "source": [
    "Let's compare their shapes:"
   ]
  },
  {
   "cell_type": "code",
   "execution_count": 20,
   "id": "cd7787d6-e734-4f0d-a13f-18b88cbd8012",
   "metadata": {},
   "outputs": [
    {
     "name": "stdout",
     "output_type": "stream",
     "text": [
      "(6, 6)\n",
      "(3, 3)\n"
     ]
    }
   ],
   "source": [
    "print(my_image.shape)\n",
    "print(my_filter.shape)"
   ]
  },
  {
   "cell_type": "markdown",
   "id": "f8a4b089-5eba-438d-951f-8877d08592de",
   "metadata": {},
   "source": [
    "Reading from right to left, we see the first problem is the 3 being different from the 6, let's reshape `my_image` so that the right-most dimension is 3:"
   ]
  },
  {
   "cell_type": "code",
   "execution_count": 22,
   "id": "dba649a5-8b1b-4460-adc4-ae8c847b2a68",
   "metadata": {},
   "outputs": [
    {
     "data": {
      "text/plain": [
       "array([[1, 1, 1],\n",
       "       [0, 0, 0],\n",
       "       [1, 1, 1],\n",
       "       [0, 0, 0],\n",
       "       [1, 1, 1],\n",
       "       [0, 0, 0],\n",
       "       [0, 0, 0],\n",
       "       [0, 0, 0],\n",
       "       [0, 0, 0],\n",
       "       [0, 0, 0],\n",
       "       [0, 0, 0],\n",
       "       [0, 0, 0]])"
      ]
     },
     "execution_count": 22,
     "metadata": {},
     "output_type": "execute_result"
    }
   ],
   "source": [
    "my_image_reshaped = np.reshape(my_image, (12, 3))\n",
    "my_image_reshaped"
   ]
  },
  {
   "cell_type": "markdown",
   "id": "0950349d-05ec-4534-8ab7-e0187b0e6ee0",
   "metadata": {},
   "source": [
    "Will this work? Not yet! We've fixed one dimension, but not the second-to-right one:"
   ]
  },
  {
   "cell_type": "code",
   "execution_count": 23,
   "id": "e238de6d-b70c-4c03-867d-0fcdc447f44b",
   "metadata": {},
   "outputs": [
    {
     "name": "stdout",
     "output_type": "stream",
     "text": [
      "(12, 3)\n",
      "(3, 3)\n"
     ]
    }
   ],
   "source": [
    "print(my_image_reshaped.shape)\n",
    "print(my_filter.shape)"
   ]
  },
  {
   "cell_type": "markdown",
   "id": "5fe33c53-384d-4762-876a-4e4698fcec8c",
   "metadata": {},
   "source": [
    "Let's take that 12 and reshape it to (4, 3) - note that this works because 12 = 4 * 3!"
   ]
  },
  {
   "cell_type": "code",
   "execution_count": 24,
   "id": "6889c08e-088d-4d0f-a418-51ffafe2ebf4",
   "metadata": {},
   "outputs": [
    {
     "data": {
      "text/plain": [
       "array([[[1, 1, 1],\n",
       "        [0, 0, 0],\n",
       "        [1, 1, 1]],\n",
       "\n",
       "       [[0, 0, 0],\n",
       "        [1, 1, 1],\n",
       "        [0, 0, 0]],\n",
       "\n",
       "       [[0, 0, 0],\n",
       "        [0, 0, 0],\n",
       "        [0, 0, 0]],\n",
       "\n",
       "       [[0, 0, 0],\n",
       "        [0, 0, 0],\n",
       "        [0, 0, 0]]])"
      ]
     },
     "execution_count": 24,
     "metadata": {},
     "output_type": "execute_result"
    }
   ],
   "source": [
    "my_image_reshaped_again = np.reshape(my_image, (4, 3, 3))\n",
    "my_image_reshaped_again"
   ]
  },
  {
   "cell_type": "code",
   "execution_count": 25,
   "id": "13423515-baae-460b-a1c8-98e09eff204d",
   "metadata": {},
   "outputs": [
    {
     "name": "stdout",
     "output_type": "stream",
     "text": [
      "(4, 3, 3)\n",
      "(3, 3)\n"
     ]
    }
   ],
   "source": [
    "print(my_image_reshaped_again.shape)\n",
    "print(my_filter.shape)"
   ]
  },
  {
   "cell_type": "markdown",
   "id": "6528416e-29fd-45cb-b35a-e5febfab3c92",
   "metadata": {},
   "source": [
    "Yes! This looks much better because reading from the right, the dimensions > 1 are the same! Let's try adding now!"
   ]
  },
  {
   "cell_type": "code",
   "execution_count": 38,
   "id": "ae2eec6a-35df-4028-9d42-eb42df7befa2",
   "metadata": {},
   "outputs": [
    {
     "data": {
      "text/plain": [
       "array([[[256, 256, 256],\n",
       "        [255, 255, 255],\n",
       "        [256, 256, 256]],\n",
       "\n",
       "       [[255, 255, 255],\n",
       "        [256, 256, 256],\n",
       "        [255, 255, 255]],\n",
       "\n",
       "       [[255, 255, 255],\n",
       "        [255, 255, 255],\n",
       "        [255, 255, 255]],\n",
       "\n",
       "       [[255, 255, 255],\n",
       "        [255, 255, 255],\n",
       "        [255, 255, 255]]])"
      ]
     },
     "execution_count": 38,
     "metadata": {},
     "output_type": "execute_result"
    }
   ],
   "source": [
    "my_image_plus_filter = my_image_reshaped_again + my_filter\n",
    "my_image_plus_filter"
   ]
  },
  {
   "cell_type": "markdown",
   "id": "fd06ebab-c056-4269-b1dc-901494ad72c2",
   "metadata": {},
   "source": [
    "We're not quite done though! Let's get `my_image_reshaped_again` back to it's original dimension:"
   ]
  },
  {
   "cell_type": "code",
   "execution_count": 39,
   "id": "49b3e41a-46ac-4b67-b3a7-7073cbee8b02",
   "metadata": {},
   "outputs": [
    {
     "data": {
      "text/plain": [
       "array([[256, 256, 256, 255, 255, 255],\n",
       "       [256, 256, 256, 255, 255, 255],\n",
       "       [256, 256, 256, 255, 255, 255],\n",
       "       [255, 255, 255, 255, 255, 255],\n",
       "       [255, 255, 255, 255, 255, 255],\n",
       "       [255, 255, 255, 255, 255, 255]])"
      ]
     },
     "execution_count": 39,
     "metadata": {},
     "output_type": "execute_result"
    }
   ],
   "source": [
    "np.reshape(my_image_plus_filter, (6, 6))"
   ]
  },
  {
   "cell_type": "markdown",
   "id": "6e0cb767-1196-48e6-8583-17744c9d0525",
   "metadata": {},
   "source": [
    "### Example 2\n",
    "\n",
    "What if we have these two 2D arrays that we want to add together?"
   ]
  },
  {
   "cell_type": "code",
   "execution_count": 30,
   "id": "39869cdc-7253-4c6c-82b4-3fa26f78cc90",
   "metadata": {},
   "outputs": [
    {
     "data": {
      "text/plain": [
       "array([[10, 10, 10, 10],\n",
       "       [ 1,  1,  1,  1]])"
      ]
     },
     "execution_count": 30,
     "metadata": {},
     "output_type": "execute_result"
    }
   ],
   "source": [
    "array1 = np.array([[10, 10, 10, 10], \n",
    "                   [1, 1, 1, 1]])\n",
    "array1"
   ]
  },
  {
   "cell_type": "code",
   "execution_count": 31,
   "id": "e52505c3-1254-494a-bdc5-f320bf4f31af",
   "metadata": {},
   "outputs": [
    {
     "data": {
      "text/plain": [
       "array([[ 2, 20],\n",
       "       [ 2, 20],\n",
       "       [ 2, 20]])"
      ]
     },
     "execution_count": 31,
     "metadata": {},
     "output_type": "execute_result"
    }
   ],
   "source": [
    "array2 = np.array([[2, 20], \n",
    "                   [2, 20],\n",
    "                   [2, 20]])\n",
    "array2"
   ]
  },
  {
   "cell_type": "markdown",
   "id": "48cbb725-822d-45e4-8e9b-2df94bf6ad87",
   "metadata": {},
   "source": [
    "Let's check, are they broadcastable?"
   ]
  },
  {
   "cell_type": "code",
   "execution_count": 32,
   "id": "d7798f34-eefa-4682-8196-99fc6f214ce3",
   "metadata": {},
   "outputs": [
    {
     "name": "stdout",
     "output_type": "stream",
     "text": [
      "(2, 4)\n",
      "(3, 2)\n"
     ]
    }
   ],
   "source": [
    "print(array1.shape)\n",
    "print(array2.shape)"
   ]
  },
  {
   "cell_type": "markdown",
   "id": "e2396d2f-f324-4bf1-9a09-24d0258ad58c",
   "metadata": {},
   "source": [
    "No! Let's reshape `array1` to set the right-most dimension to 2:"
   ]
  },
  {
   "cell_type": "code",
   "execution_count": 34,
   "id": "71f1957e-f21d-4211-b269-2830a96806a8",
   "metadata": {},
   "outputs": [
    {
     "data": {
      "text/plain": [
       "array([[10, 10],\n",
       "       [10, 10],\n",
       "       [ 1,  1],\n",
       "       [ 1,  1]])"
      ]
     },
     "execution_count": 34,
     "metadata": {},
     "output_type": "execute_result"
    }
   ],
   "source": [
    "array1_reshaped = np.reshape(array1, (4, 2))\n",
    "array1_reshaped"
   ]
  },
  {
   "cell_type": "markdown",
   "id": "86da37d6-766a-467e-806a-3bf34e833e24",
   "metadata": {},
   "source": [
    "Will this work? Not quite..."
   ]
  },
  {
   "cell_type": "code",
   "execution_count": 35,
   "id": "ca8fb01f-dd06-4d8e-8d3e-cd6f30873feb",
   "metadata": {},
   "outputs": [
    {
     "name": "stdout",
     "output_type": "stream",
     "text": [
      "(4, 2)\n",
      "(3, 2)\n"
     ]
    }
   ],
   "source": [
    "print(array1_reshaped.shape)\n",
    "print(array2.shape)"
   ]
  },
  {
   "cell_type": "markdown",
   "id": "eae4ef21-0389-4852-b1fd-73671ce940df",
   "metadata": {},
   "source": [
    "Let's try to work on that 4 in `array1_reshaped`:"
   ]
  },
  {
   "cell_type": "code",
   "execution_count": 36,
   "id": "916e1792-3756-4681-bdaa-482aa34fddee",
   "metadata": {},
   "outputs": [
    {
     "data": {
      "text/plain": [
       "array([[[10, 10]],\n",
       "\n",
       "       [[10, 10]],\n",
       "\n",
       "       [[ 1,  1]],\n",
       "\n",
       "       [[ 1,  1]]])"
      ]
     },
     "execution_count": 36,
     "metadata": {},
     "output_type": "execute_result"
    }
   ],
   "source": [
    "array1_reshaped_again = np.reshape(array1, (4, 1, 2))\n",
    "array1_reshaped_again"
   ]
  },
  {
   "cell_type": "markdown",
   "id": "6979e1c7-7892-4276-ab9a-bc88e0b1edc2",
   "metadata": {},
   "source": [
    "Will this work? Yes!"
   ]
  },
  {
   "cell_type": "code",
   "execution_count": 40,
   "id": "8895fe0a-716d-4b4d-ab84-7e9483d855a0",
   "metadata": {},
   "outputs": [
    {
     "name": "stdout",
     "output_type": "stream",
     "text": [
      "(4, 1, 2)\n",
      "(3, 2)\n"
     ]
    }
   ],
   "source": [
    "print(array1_reshaped_again.shape)\n",
    "print(array2.shape)"
   ]
  },
  {
   "cell_type": "markdown",
   "id": "78451d2c-5856-4c89-8c4c-e2f14d40f774",
   "metadata": {},
   "source": [
    "Let's add them now:"
   ]
  },
  {
   "cell_type": "code",
   "execution_count": 46,
   "id": "ace95443-8a88-446a-a670-3c02a49866a7",
   "metadata": {},
   "outputs": [
    {
     "data": {
      "text/plain": [
       "array([[[12, 30],\n",
       "        [12, 30],\n",
       "        [12, 30]],\n",
       "\n",
       "       [[12, 30],\n",
       "        [12, 30],\n",
       "        [12, 30]],\n",
       "\n",
       "       [[ 3, 21],\n",
       "        [ 3, 21],\n",
       "        [ 3, 21]],\n",
       "\n",
       "       [[ 3, 21],\n",
       "        [ 3, 21],\n",
       "        [ 3, 21]]])"
      ]
     },
     "execution_count": 46,
     "metadata": {},
     "output_type": "execute_result"
    }
   ],
   "source": [
    "array1_plus_array2 = array1_reshaped_again + array2\n",
    "array1_plus_array2"
   ]
  },
  {
   "cell_type": "markdown",
   "id": "465220dd-eccc-4026-b58d-50ea43247877",
   "metadata": {},
   "source": [
    "In this example, we cannot reshape the resultant array back into the same shape as either of the originals without losing data."
   ]
  }
 ],
 "metadata": {
  "kernelspec": {
   "display_name": "Python 3 (ipykernel)",
   "language": "python",
   "name": "python3"
  },
  "language_info": {
   "codemirror_mode": {
    "name": "ipython",
    "version": 3
   },
   "file_extension": ".py",
   "mimetype": "text/x-python",
   "name": "python",
   "nbconvert_exporter": "python",
   "pygments_lexer": "ipython3",
   "version": "3.11.9"
  }
 },
 "nbformat": 4,
 "nbformat_minor": 5
}
