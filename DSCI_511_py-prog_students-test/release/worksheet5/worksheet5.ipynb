{
 "cells": [
  {
   "cell_type": "code",
   "execution_count": null,
   "metadata": {
    "deletable": false,
    "editable": false
   },
   "outputs": [],
   "source": [
    "# Initialize Otter\n",
    "import otter\n",
    "grader = otter.Notebook(\"worksheet5.ipynb\")"
   ]
  },
  {
   "cell_type": "markdown",
   "metadata": {},
   "source": [
    "# Worksheet 5 - NumPy"
   ]
  },
  {
   "cell_type": "code",
   "execution_count": null,
   "metadata": {},
   "outputs": [],
   "source": [
    "import numpy as np"
   ]
  },
  {
   "cell_type": "markdown",
   "metadata": {},
   "source": [
    "### Exercise 1\n",
    "rubric={autograde:1}"
   ]
  },
  {
   "cell_type": "markdown",
   "metadata": {},
   "source": [
    "Create the following array and save it as a variable named `ex1`:\n",
    "\n",
    "```python\n",
    "array([[1, 2],\n",
    "       [3, 4],\n",
    "       [5, 6]])\n",
    "```"
   ]
  },
  {
   "cell_type": "code",
   "execution_count": null,
   "metadata": {
    "tags": []
   },
   "outputs": [],
   "source": [
    "ex1 = ..."
   ]
  },
  {
   "cell_type": "code",
   "execution_count": null,
   "metadata": {
    "deletable": false,
    "editable": false
   },
   "outputs": [],
   "source": [
    "grader.check(\"ex1\")"
   ]
  },
  {
   "cell_type": "markdown",
   "metadata": {},
   "source": [
    "### Exercise 2\n",
    "\n",
    "Create a 1D array of 5 zeros and save it as a variable named `ex2`:"
   ]
  },
  {
   "cell_type": "code",
   "execution_count": null,
   "metadata": {
    "tags": []
   },
   "outputs": [],
   "source": [
    "ex2 = ..."
   ]
  },
  {
   "cell_type": "code",
   "execution_count": null,
   "metadata": {
    "deletable": false,
    "editable": false
   },
   "outputs": [],
   "source": [
    "grader.check(\"ex2\")"
   ]
  },
  {
   "cell_type": "markdown",
   "metadata": {},
   "source": [
    "### Exercise 3\n",
    "\n",
    "Create a 1D array of 10 and save it as a variable named `ex3`:"
   ]
  },
  {
   "cell_type": "code",
   "execution_count": null,
   "metadata": {
    "tags": []
   },
   "outputs": [],
   "source": [
    "ex3 = ..."
   ]
  },
  {
   "cell_type": "code",
   "execution_count": null,
   "metadata": {
    "deletable": false,
    "editable": false
   },
   "outputs": [],
   "source": [
    "grader.check(\"ex3\")"
   ]
  },
  {
   "cell_type": "markdown",
   "metadata": {},
   "source": [
    "### Exercise 4\n",
    "\n",
    "Create a 1D array of five numbers, each having the value of 3.141, and save it as a variable named `ex4`:"
   ]
  },
  {
   "cell_type": "code",
   "execution_count": null,
   "metadata": {
    "tags": []
   },
   "outputs": [],
   "source": [
    "ex4 = ..."
   ]
  },
  {
   "cell_type": "code",
   "execution_count": null,
   "metadata": {
    "deletable": false,
    "editable": false
   },
   "outputs": [],
   "source": [
    "grader.check(\"ex4\")"
   ]
  },
  {
   "cell_type": "markdown",
   "metadata": {},
   "source": [
    "### Exercise 5\n",
    "\n",
    "Create a 1D array of the integers 1 to 20 and save it as a variable named `ex5`:"
   ]
  },
  {
   "cell_type": "code",
   "execution_count": null,
   "metadata": {
    "tags": []
   },
   "outputs": [],
   "source": [
    "ex5 = ..."
   ]
  },
  {
   "cell_type": "code",
   "execution_count": null,
   "metadata": {
    "deletable": false,
    "editable": false
   },
   "outputs": [],
   "source": [
    "grader.check(\"ex5\")"
   ]
  },
  {
   "cell_type": "markdown",
   "metadata": {},
   "source": [
    "### Exercise 6\n",
    "\n",
    "Create a 5 x 5 matrix of ones with a dtype `int` and save it as a variable named `ex6`:"
   ]
  },
  {
   "cell_type": "code",
   "execution_count": null,
   "metadata": {
    "tags": []
   },
   "outputs": [],
   "source": [
    "ex6 = ..."
   ]
  },
  {
   "cell_type": "code",
   "execution_count": null,
   "metadata": {
    "deletable": false,
    "editable": false
   },
   "outputs": [],
   "source": [
    "grader.check(\"ex6\")"
   ]
  },
  {
   "cell_type": "markdown",
   "metadata": {},
   "source": [
    "### Exercise 7\n",
    "\n",
    "Create an 3D matrix of 3 x 3 x 3 full of random numbers drawn from a standard normal distribution (hint: `np.random.randn()`) and save it as a variable named `ex7`:\n",
    "\n",
    "> Hint: To ensure the code reproducibility, set the random seed = 42 using the `np.random.seed()` function."
   ]
  },
  {
   "cell_type": "code",
   "execution_count": null,
   "metadata": {
    "tags": []
   },
   "outputs": [],
   "source": [
    "# set your seed to 42 for reproducibility\n",
    "ex7 = ..."
   ]
  },
  {
   "cell_type": "code",
   "execution_count": null,
   "metadata": {
    "deletable": false,
    "editable": false
   },
   "outputs": [],
   "source": [
    "grader.check(\"ex7\")"
   ]
  },
  {
   "cell_type": "markdown",
   "metadata": {},
   "source": [
    "### Exercise 8\n",
    "\n",
    "Reshape the above array (`ex7`) into shape (27,) and save it as a variable named `ex8`:"
   ]
  },
  {
   "cell_type": "code",
   "execution_count": null,
   "metadata": {
    "tags": []
   },
   "outputs": [],
   "source": [
    "ex8 = ..."
   ]
  },
  {
   "cell_type": "code",
   "execution_count": null,
   "metadata": {
    "deletable": false,
    "editable": false
   },
   "outputs": [],
   "source": [
    "grader.check(\"ex8\")"
   ]
  },
  {
   "cell_type": "markdown",
   "metadata": {},
   "source": [
    "### Exercise 9\n",
    "\n",
    "Reshape the following `arr1` into shape `(6, 1)` and save it as a variable named `ex9`:"
   ]
  },
  {
   "cell_type": "code",
   "execution_count": null,
   "metadata": {
    "tags": []
   },
   "outputs": [],
   "source": [
    "arr1 = np.array([[1, 2], [3, 4], [5, 6]])\n",
    "arr1"
   ]
  },
  {
   "cell_type": "code",
   "execution_count": null,
   "metadata": {
    "tags": []
   },
   "outputs": [],
   "source": [
    "ex9 = ..."
   ]
  },
  {
   "cell_type": "code",
   "execution_count": null,
   "metadata": {
    "deletable": false,
    "editable": false
   },
   "outputs": [],
   "source": [
    "grader.check(\"ex9\")"
   ]
  },
  {
   "cell_type": "markdown",
   "metadata": {},
   "source": [
    "### Exercise 10\n",
    "\n",
    "Create a `(6, 6)` array by multiplying the following `arr2` by itself (**hint**: transpose the array to leverage broadcasting here). The first element (top left corner) should be 1, and the last element (bottom right corner) should be 36. Save it as a variable named `ex10`."
   ]
  },
  {
   "cell_type": "code",
   "execution_count": null,
   "metadata": {
    "tags": []
   },
   "outputs": [],
   "source": [
    "arr2 = np.arange(1, 7)[np.newaxis, :] # np.newaxis is an alias for None\n",
    "arr2"
   ]
  },
  {
   "cell_type": "code",
   "execution_count": null,
   "metadata": {
    "tags": []
   },
   "outputs": [],
   "source": [
    "ex10 = ..."
   ]
  },
  {
   "cell_type": "code",
   "execution_count": null,
   "metadata": {
    "deletable": false,
    "editable": false
   },
   "outputs": [],
   "source": [
    "grader.check(\"ex10\")"
   ]
  },
  {
   "cell_type": "markdown",
   "metadata": {},
   "source": [
    "### Exercise 11\n",
    "\n",
    "\"Center\" the following `arr3` by subtracting the mean from every element, then flatten it to shape `(20,)` and use `numpy.sort` to sort it in descending order. Save it as a variable named `ex11`."
   ]
  },
  {
   "cell_type": "code",
   "execution_count": null,
   "metadata": {
    "tags": []
   },
   "outputs": [],
   "source": [
    "arr3 = np.arange(1, 21).reshape(4, 5)\n",
    "arr3"
   ]
  },
  {
   "cell_type": "code",
   "execution_count": null,
   "metadata": {
    "tags": []
   },
   "outputs": [],
   "source": [
    "ex11 = ..."
   ]
  },
  {
   "cell_type": "code",
   "execution_count": null,
   "metadata": {
    "deletable": false,
    "editable": false
   },
   "outputs": [],
   "source": [
    "grader.check(\"ex11\")"
   ]
  },
  {
   "cell_type": "markdown",
   "metadata": {},
   "source": [
    "Congratulations! You are done the worksheet!!! Pat yourself on the back and submit your worksheet to Gradescope!"
   ]
  }
 ],
 "metadata": {
  "kernelspec": {
   "display_name": "Python 3 (ipykernel)",
   "language": "python",
   "name": "python3"
  },
  "language_info": {
   "codemirror_mode": {
    "name": "ipython",
    "version": 3
   },
   "file_extension": ".py",
   "mimetype": "text/x-python",
   "name": "python",
   "nbconvert_exporter": "python",
   "pygments_lexer": "ipython3",
   "version": "3.11.9"
  },
  "otter": {
   "OK_FORMAT": true,
   "tests": {
    "ex1": {
     "name": "ex1",
     "points": 1,
     "suites": [
      {
       "cases": [
        {
         "code": ">>> assert type(ex1) == np.ndarray, 'ex1 should be a numpy array'\n",
         "hidden": false,
         "locked": false
        },
        {
         "code": ">>> assert ex1.shape == (3, 2), 'ex1 should have shape (3, 2)'\n",
         "hidden": false,
         "locked": false
        },
        {
         "code": ">>> assert ex1[0][0] == 1\n",
         "hidden": false,
         "locked": false
        },
        {
         "code": ">>> assert ex1[0][1] == 2\n",
         "hidden": false,
         "locked": false
        },
        {
         "code": ">>> assert ex1[2][0] == 5\n",
         "hidden": false,
         "locked": false
        },
        {
         "code": ">>> assert ex1[2][1] == 6\n",
         "hidden": false,
         "locked": false
        }
       ],
       "scored": true,
       "setup": "",
       "teardown": "",
       "type": "doctest"
      }
     ]
    },
    "ex10": {
     "name": "ex10",
     "points": 1,
     "suites": [
      {
       "cases": [
        {
         "code": ">>> assert type(ex10) == np.ndarray, 'ex10 should be a numpy array'\n",
         "hidden": false,
         "locked": false
        },
        {
         "code": ">>> assert ex10.shape == (6, 6), 'ex10 should have shape (6, 6)'\n",
         "hidden": false,
         "locked": false
        },
        {
         "code": ">>> assert ex10[0, 0] == 1\n",
         "hidden": false,
         "locked": false
        },
        {
         "code": ">>> assert ex10[-1, -1] == 36\n",
         "hidden": false,
         "locked": false
        }
       ],
       "scored": true,
       "setup": "",
       "teardown": "",
       "type": "doctest"
      }
     ]
    },
    "ex11": {
     "name": "ex11",
     "points": 1,
     "suites": [
      {
       "cases": [
        {
         "code": ">>> assert type(ex11) == np.ndarray, 'ex11 should be a numpy array'\n",
         "hidden": false,
         "locked": false
        },
        {
         "code": ">>> assert ex11.shape == (20,), 'ex11 should have shape (20,)'\n",
         "hidden": false,
         "locked": false
        },
        {
         "code": ">>> assert ex11[0] == 9.5\n",
         "hidden": false,
         "locked": false
        },
        {
         "code": ">>> assert ex11[-1] == -9.5\n",
         "hidden": false,
         "locked": false
        },
        {
         "code": ">>> assert ex11.sum() == 0\n",
         "hidden": false,
         "locked": false
        }
       ],
       "scored": true,
       "setup": "",
       "teardown": "",
       "type": "doctest"
      }
     ]
    },
    "ex2": {
     "name": "ex2",
     "points": 1,
     "suites": [
      {
       "cases": [
        {
         "code": ">>> assert type(ex2) == np.ndarray, 'ex2 should be a numpy array'\n>>> assert ex2.shape == (5,), 'ex2 should be a 1D array of length 5'\n>>> assert np.array_equal(ex2, np.array([0.0, 0.0, 0.0, 0.0, 0.0])), 'q2_1 should be a 1D array of zeros'\n",
         "hidden": false,
         "locked": false
        }
       ],
       "scored": true,
       "setup": "",
       "teardown": "",
       "type": "doctest"
      }
     ]
    },
    "ex3": {
     "name": "ex3",
     "points": 1,
     "suites": [
      {
       "cases": [
        {
         "code": ">>> assert type(ex3) == np.ndarray, 'ex3 should be a numpy array'\n>>> assert ex3.shape == (10,), 'ex3 should be a 1D array of length 10'\n>>> assert np.array_equal(ex3, np.array([1.0, 1.0, 1.0, 1.0, 1.0, 1.0, 1.0, 1.0, 1.0, 1.0])), 'q2_2 should be a 1D array of ones'\n",
         "hidden": false,
         "locked": false
        }
       ],
       "scored": true,
       "setup": "",
       "teardown": "",
       "type": "doctest"
      }
     ]
    },
    "ex4": {
     "name": "ex4",
     "points": 1,
     "suites": [
      {
       "cases": [
        {
         "code": ">>> assert type(ex4) == np.ndarray, 'ex4 should be a numpy array'\n>>> assert ex4.shape == (5,), 'ex4 should be a 1D array of length 5'\n>>> assert np.array_equal(ex4, np.array([3.141, 3.141, 3.141, 3.141, 3.141])), 'ex4 should be a 1D array of 3.141s'\n",
         "hidden": false,
         "locked": false
        }
       ],
       "scored": true,
       "setup": "",
       "teardown": "",
       "type": "doctest"
      }
     ]
    },
    "ex5": {
     "name": "ex5",
     "points": 1,
     "suites": [
      {
       "cases": [
        {
         "code": ">>> assert type(ex5) == np.ndarray, 'ex5 should be a numpy array'\n>>> assert ex5.shape == (20,), 'ex5 should be a 1D array of length 20'\n>>> assert np.array_equal(ex5, np.array([1, 2, 3, 4, 5, 6, 7, 8, 9, 10, 11, 12, 13, 14, 15, 16, 17, 18, 19, 20]))\n",
         "hidden": false,
         "locked": false
        }
       ],
       "scored": true,
       "setup": "",
       "teardown": "",
       "type": "doctest"
      }
     ]
    },
    "ex6": {
     "name": "ex6",
     "points": 1,
     "suites": [
      {
       "cases": [
        {
         "code": ">>> assert type(ex6) == np.ndarray, 'ex6 should be a numpy array'\n>>> assert ex6.shape == (5, 5), 'ex6 should be a 2D array of shape (5, 5)'\n>>> assert np.array_equal(ex6, np.array([[1, 1, 1, 1, 1], [1, 1, 1, 1, 1], [1, 1, 1, 1, 1], [1, 1, 1, 1, 1], [1, 1, 1, 1, 1]])), 'ex6 should be a 2D array of ones'\n",
         "hidden": false,
         "locked": false
        }
       ],
       "scored": true,
       "setup": "",
       "teardown": "",
       "type": "doctest"
      }
     ]
    },
    "ex7": {
     "name": "ex7",
     "points": 1,
     "suites": [
      {
       "cases": [
        {
         "code": ">>> assert type(ex7) == np.ndarray, 'ex7 should be a numpy array'\n>>> assert ex7.shape == (3, 3, 3), 'ex7 should be a 3D array of shape (3, 3, 3)'\n",
         "hidden": false,
         "locked": false
        }
       ],
       "scored": true,
       "setup": "",
       "teardown": "",
       "type": "doctest"
      }
     ]
    },
    "ex8": {
     "name": "ex8",
     "points": 1,
     "suites": [
      {
       "cases": [
        {
         "code": ">>> assert type(ex8) == np.ndarray, 'ex8 should be a numpy array'\n>>> assert ex8.shape == (27,), 'ex8 should be a 1D array of length 27'\n",
         "hidden": false,
         "locked": false
        }
       ],
       "scored": true,
       "setup": "",
       "teardown": "",
       "type": "doctest"
      }
     ]
    },
    "ex9": {
     "name": "ex9",
     "points": 1,
     "suites": [
      {
       "cases": [
        {
         "code": ">>> assert type(ex9) == np.ndarray, 'ex9 should be a numpy array'\n",
         "hidden": false,
         "locked": false
        },
        {
         "code": ">>> assert ex9.shape == (6, 1), 'ex9 should have shape (6, 1)'\n",
         "hidden": false,
         "locked": false
        },
        {
         "code": ">>> assert ex9[0] == 1\n",
         "hidden": false,
         "locked": false
        },
        {
         "code": ">>> assert ex9[-1] == 6\n",
         "hidden": false,
         "locked": false
        }
       ],
       "scored": true,
       "setup": "",
       "teardown": "",
       "type": "doctest"
      }
     ]
    }
   }
  }
 },
 "nbformat": 4,
 "nbformat_minor": 4
}
